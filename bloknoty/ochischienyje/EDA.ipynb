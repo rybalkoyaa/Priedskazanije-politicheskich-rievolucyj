{
 "cells": [
  {
   "cell_type": "code",
   "execution_count": null,
   "metadata": {
    "id": "c6b10105"
   },
   "outputs": [],
   "source": [
    "import numpy as np\n",
    "import pandas as pd\n",
    "import matplotlib.pyplot as plt\n",
    "import seaborn as sns\n",
    "from sqlalchemy import create_engine\n",
    "import sys\n",
    "\n",
    "# Custom functions\n",
    "\n",
    "sys.path.insert(1, \"../src\")\n",
    "from custom_plots import *\n",
    "\n",
    "import shap\n",
    "\n",
    "# Options\n",
    "pd.options.display.max_rows = 200\n",
    "pd.options.display.max_columns = 200\n",
    "%matplotlib inline\n",
    "sns.set_theme(style=\"white\")\n",
    "\n",
    "# Convenience for working with external src code files\n",
    "%load_ext autoreload\n",
    "%autoreload 2"
   ]
  },
  {
   "cell_type": "markdown",
   "metadata": {},
   "source": [
    "# Exploratory Data Analysis"
   ]
  },
  {
   "cell_type": "markdown",
   "metadata": {
    "id": "77622475"
   },
   "source": [
    "## Import protest data"
   ]
  },
  {
   "cell_type": "code",
   "execution_count": null,
   "metadata": {
    "id": "c39f88c8",
    "outputId": "6849083f-1d29-47d4-fa41-b6183524ccbe"
   },
   "outputs": [],
   "source": [
    "# Import data from Modeling notebook\n",
    "engine = create_engine(\"sqlite:///../data/processed/all_data.db\")\n",
    "with engine.begin() as connection:\n",
    "    df = pd.read_sql(\"SELECT * FROM all_modeled_data\", connection)\n",
    "\n",
    "df[\"target_categorical\"] = [\n",
    "    \"Revolution\" if x == 1 else \"No Revolution\" for x in df.target\n",
    "]\n",
    "df.info()"
   ]
  },
  {
   "cell_type": "markdown",
   "metadata": {},
   "source": [
    "#### Categorize all features for analysis\n",
    "\n",
    "Print list of any features that aren't in one of the below bins as a QC."
   ]
  },
  {
   "cell_type": "code",
   "execution_count": null,
   "metadata": {
    "id": "172d3664",
    "outputId": "18c2bb5b-e700-4996-b87a-3fc15ea52006"
   },
   "outputs": [],
   "source": [
    "demands = [\n",
    "    \"demand_labor-wage-dispute\",\n",
    "    \"demand_land-farm-issue\",\n",
    "    \"demand_police-brutality\",\n",
    "    \"demand_political-behavior/process\",\n",
    "    \"demand_price-increases/tax-policy\",\n",
    "    \"demand_removal-of-politician\",\n",
    "    \"demand_social-restrictions\",\n",
    "]\n",
    "\n",
    "binary = demands + [\n",
    "    \"protesterviolence\",\n",
    "    \"military\",\n",
    "    \"legelec\",\n",
    "    \"exelec\",\n",
    "    \"defmin\",\n",
    "    \"execnat\",\n",
    "    \"oppmajh\",\n",
    "    \"gq\",\n",
    "    \"gqi\",\n",
    "    \"auton\",\n",
    "]\n",
    "\n",
    "continuous = [\n",
    "    \"protestnumber_log\",\n",
    "    \"participants_log\",\n",
    "    \"yrsoffc\",\n",
    "    \"totalseats\",\n",
    "    \"numvote\",\n",
    "    \"duration_days_log\",\n",
    "    \"termlimit\",\n",
    "    \"maj\",\n",
    "    \"herfgov\",\n",
    "    \"checks\",\n",
    "    \"stabs_strict\",\n",
    "    \"xconst\",\n",
    "    \"tensys_strict\",\n",
    "]\n",
    "\n",
    "categorical = [\"region\", \"system\", \"country\", \"execrel\"]\n",
    "\n",
    "targets = [\"target\", \"target_categorical\"]\n",
    "\n",
    "remainders = df.drop(\n",
    "    continuous + categorical + binary + targets, axis=1\n",
    ").columns\n",
    "\n",
    "if remainders.shape == (0,):\n",
    "    print(\"All features successfully bucketed\")\n",
    "else:\n",
    "    print(\"Remaining columns to be assigned to various bucket:\")\n",
    "    for col in remainders:\n",
    "        print(col, \"\\n\", df[col].value_counts(), \"\\n\")"
   ]
  },
  {
   "cell_type": "markdown",
   "metadata": {
    "id": "8c72c94d"
   },
   "source": [
    "## Correlation matrix"
   ]
  },
  {
   "cell_type": "code",
   "execution_count": null,
   "metadata": {
    "id": "496c8b15",
    "outputId": "bf9cff41-ffc8-46f9-9539-4d97b9a2cc9a"
   },
   "outputs": [],
   "source": [
    "custom_plot_matrix(df, max_corr=0.5)"
   ]
  },
  {
   "cell_type": "markdown",
   "metadata": {
    "id": "4e65629f"
   },
   "source": [
    "### Protestnumber"
   ]
  },
  {
   "cell_type": "code",
   "execution_count": null,
   "metadata": {
    "id": "413c9cda",
    "outputId": "3ef49d62-c4eb-449f-d842-3ffcf4db97ea"
   },
   "outputs": [],
   "source": [
    "fig = sns.displot(df.protestnumber_log)\n",
    "fig.fig.set_figwidth(15)\n",
    "fig.fig.set_figheight(6)\n",
    "plt.title(\"Protestnumber\");"
   ]
  },
  {
   "cell_type": "markdown",
   "metadata": {
    "id": "642c871c"
   },
   "source": [
    "### Protester Demands"
   ]
  },
  {
   "cell_type": "code",
   "execution_count": null,
   "metadata": {
    "id": "98f12a8f",
    "outputId": "de2d78f0-80fc-4a41-d31f-85346a5ea618"
   },
   "outputs": [],
   "source": [
    "plt.figure(figsize=(12, 4))\n",
    "bar = df[demands].sum()\n",
    "cols = [x[7:].replace(\"-\", \" \") for x in bar.index]\n",
    "plt.barh(cols, bar.values)\n",
    "plt.title(\"Protest demands\")\n",
    "plt.savefig(\"../images/protest_demands.png\");"
   ]
  },
  {
   "cell_type": "markdown",
   "metadata": {
    "id": "6d81cd06"
   },
   "source": [
    " **Target:** We see that the protester demand for \"removal of politician\" is most strongly correlated with an impending revolution. "
   ]
  },
  {
   "cell_type": "code",
   "execution_count": null,
   "metadata": {
    "id": "bb90c8f4",
    "outputId": "6aa62a5f-163a-4e74-99b7-7884c71a7826"
   },
   "outputs": [],
   "source": [
    "custom_plot_matrix(df[demands + targets], max_corr=0.2)"
   ]
  },
  {
   "cell_type": "code",
   "execution_count": null,
   "metadata": {
    "id": "2b3b855d",
    "outputId": "e544c873-bcf5-47d4-8602-614160bb9c51"
   },
   "outputs": [],
   "source": [
    "sns.pairplot(df[continuous], corner=True);"
   ]
  },
  {
   "cell_type": "code",
   "execution_count": null,
   "metadata": {
    "id": "757634b5",
    "outputId": "aa5a4f1d-0584-4a65-9ddd-39be2ddbfb3b"
   },
   "outputs": [],
   "source": [
    "sns.catplot(\n",
    "    y=\"military\",\n",
    "    x=\"protesterviolence\",\n",
    "    kind=\"violin\",\n",
    "    hue=\"target_categorical\",\n",
    "    data=df,\n",
    ");"
   ]
  },
  {
   "cell_type": "code",
   "execution_count": null,
   "metadata": {
    "id": "0e37dadb",
    "outputId": "04498bfc-bf8e-4513-e56c-da5e3463cccc"
   },
   "outputs": [],
   "source": [
    "fig = sns.catplot(x=\"protestnumber_log\", y=\"system\", kind=\"violin\", data=df)\n",
    "\n",
    "fig.fig.set_figwidth(10)\n",
    "fig.fig.set_figheight(5)"
   ]
  },
  {
   "cell_type": "code",
   "execution_count": null,
   "metadata": {
    "id": "9e9726df",
    "outputId": "a15f84e5-62b0-439b-e7a0-a8858e94c811"
   },
   "outputs": [],
   "source": [
    "df.yrsoffc.mean() + 3 * df.yrsoffc.std()"
   ]
  },
  {
   "cell_type": "code",
   "execution_count": null,
   "metadata": {
    "id": "d6ac599b",
    "outputId": "43d70655-afba-4198-d59f-5cd714205517"
   },
   "outputs": [],
   "source": [
    "high_end = df.totalseats.mean() + 3 * df.totalseats.std()\n",
    "print(\"High end:\", high_end)\n",
    "df.loc[df.totalseats > high_end].totalseats.value_counts()"
   ]
  },
  {
   "cell_type": "code",
   "execution_count": null,
   "metadata": {
    "id": "3d5eb1d9",
    "outputId": "833a01ab-d4da-4d63-e614-7d9ba49e4aad"
   },
   "outputs": [],
   "source": [
    "df.totalseats.value_counts().head(30)"
   ]
  },
  {
   "cell_type": "code",
   "execution_count": null,
   "metadata": {
    "id": "2e02a9e5",
    "outputId": "a758e402-0580-4d27-9e24-c622bcaff56b"
   },
   "outputs": [],
   "source": [
    "fig = sns.displot(df.numvote)\n",
    "fig.fig.set_figwidth(25)\n",
    "fig.fig.set_figheight(12.5)"
   ]
  },
  {
   "cell_type": "code",
   "execution_count": null,
   "metadata": {
    "id": "9abadd4d",
    "outputId": "3962b4d8-d5ca-42e4-cfaf-233a1547ed3d"
   },
   "outputs": [],
   "source": [
    "fig = sns.displot(df.totalseats)\n",
    "fig.fig.set_figwidth(25)\n",
    "fig.fig.set_figheight(12.5)"
   ]
  },
  {
   "cell_type": "code",
   "execution_count": null,
   "metadata": {
    "id": "cbc71961",
    "outputId": "045e5c75-7de7-4a62-f56f-12ee35e03e76"
   },
   "outputs": [],
   "source": [
    "plt.figure(figsize=(12, 4))\n",
    "protest_ct = pd.get_dummies(df.region).sum()\n",
    "plt.barh(protest_ct.index, protest_ct.values)\n",
    "plt.title(\"Number of *recorded* protests by region\")\n",
    "plt.savefig(\"../images/protests_by_region.png\");"
   ]
  },
  {
   "cell_type": "code",
   "execution_count": null,
   "metadata": {
    "id": "bf0bdf8f",
    "outputId": "ee3b2dc1-7f5a-4132-ef65-a4726ccf4bb2"
   },
   "outputs": [],
   "source": [
    "protest_ct = pd.get_dummies(df.system).sum()\n",
    "plt.barh(protest_ct.index, protest_ct.values)\n",
    "plt.title(\"Number of *recorded* protests by government type\");"
   ]
  }
 ],
 "metadata": {
  "colab": {
   "name": "EDA.ipynb",
   "provenance": []
  },
  "kernelspec": {
   "display_name": "Python 3",
   "language": "python",
   "name": "python3"
  },
  "language_info": {
   "codemirror_mode": {
    "name": "ipython",
    "version": 3
   },
   "file_extension": ".py",
   "mimetype": "text/x-python",
   "name": "python",
   "nbconvert_exporter": "python",
   "pygments_lexer": "ipython3",
   "version": "3.7.3"
  }
 },
 "nbformat": 4,
 "nbformat_minor": 5
}
