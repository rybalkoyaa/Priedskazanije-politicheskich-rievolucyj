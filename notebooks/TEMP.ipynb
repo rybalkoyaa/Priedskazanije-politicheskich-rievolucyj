{
 "cells": [
  {
   "cell_type": "markdown",
   "id": "adc4de32",
   "metadata": {
    "id": "5326057d"
   },
   "source": [
    "**Import packages used throughout analysis**"
   ]
  },
  {
   "cell_type": "code",
   "execution_count": 1,
   "id": "07973603",
   "metadata": {
    "id": "5be72721",
    "outputId": "2fd61332-81e5-448d-a8c9-d49d5d075545"
   },
   "outputs": [
    {
     "name": "stdout",
     "output_type": "stream",
     "text": [
      "The autoreload extension is already loaded. To reload it, use:\n",
      "  %reload_ext autoreload\n"
     ]
    }
   ],
   "source": [
    "# Basic imporrts\n",
    "import numpy as np\n",
    "import pandas as pd\n",
    "import matplotlib.pyplot as plt\n",
    "import seaborn as sns\n",
    "import sys\n",
    "from sqlalchemy import create_engine\n",
    "import pickle\n",
    "\n",
    "# Model preprocessing and processing\n",
    "from sklearn.model_selection import train_test_split\n",
    "from sklearn.preprocessing import OneHotEncoder, StandardScaler\n",
    "from sklearn.compose import make_column_selector, make_column_transformer\n",
    "from imblearn.over_sampling import SMOTE\n",
    "from sklearn.model_selection import GridSearchCV\n",
    "from imblearn.pipeline import Pipeline\n",
    "from sklearn.base import clone\n",
    "\n",
    "# Models\n",
    "from sklearn.dummy import DummyClassifier\n",
    "from sklearn.linear_model import LogisticRegression\n",
    "from sklearn.ensemble import RandomForestClassifier\n",
    "from xgboost import XGBClassifier\n",
    "\n",
    "# Performance evaluation\n",
    "from sklearn.metrics import f1_score, precision_score, accuracy_score\n",
    "from sklearn.metrics import plot_confusion_matrix, recall_score\n",
    "import shap\n",
    "\n",
    "# Display options\n",
    "pd.options.display.max_columns = 200\n",
    "%matplotlib inline\n",
    "\n",
    "# Convenience for working with external .py files\n",
    "%load_ext autoreload\n",
    "%autoreload 2\n",
    "\n",
    "# Convenience for working with external src code files\n",
    "%load_ext autoreload\n",
    "%autoreload 2\n",
    "sys.path.insert(1, '../src')\n",
    "from custom_plots import *\n",
    "from create_target import *\n",
    "from remove_missing_data import *\n",
    "from evaluate_model_performance import *\n",
    "\n",
    "# Global constants\n",
    "RANDOM_STATE = 2021"
   ]
  },
  {
   "cell_type": "markdown",
   "id": "046757c9",
   "metadata": {
    "id": "a6dc06e2"
   },
   "source": [
    "**Import \"Regime Change\" dataset**\n",
    "\n",
    "Note that the SQL database being imported has been pre-cleaned with consequential feature engineering in the *cleaning_regime_changes_dataset.ipynb* notebook in this directory."
   ]
  },
  {
   "cell_type": "code",
   "execution_count": 2,
   "id": "b51e0aaa",
   "metadata": {
    "id": "e843f8c8"
   },
   "outputs": [],
   "source": [
    "# Import cleaned database via SQL\n",
    "engine = create_engine('sqlite:///../data/processed/regime_changes.db')\n",
    "with engine.begin() as connection:\n",
    "    df_regimes = pd.read_sql('SELECT * FROM regime_changes', con=connection)\n",
    "\n",
    "# Type casting\n",
    "df_regimes.startdate = pd.to_datetime(df_regimes.startdate)\n",
    "df_regimes.enddate = pd.to_datetime(df_regimes.enddate)"
   ]
  },
  {
   "cell_type": "markdown",
   "id": "1398945b",
   "metadata": {
    "id": "662c48d4"
   },
   "source": [
    "**Import \"Protests\" dataset**\n",
    "\n",
    "Similar to above, the SQL database has already cleaned with some feature engineering taking place. Refer to *cleaning_protests_dataset.ipynb* in this directory for specifics. "
   ]
  },
  {
   "cell_type": "code",
   "execution_count": 3,
   "id": "f4fe618a",
   "metadata": {
    "id": "351b9b65"
   },
   "outputs": [],
   "source": [
    "# Import cleaned database via SQL\n",
    "engine = create_engine('sqlite:///../data/processed/protests.db')\n",
    "with engine.begin() as connection:\n",
    "    df_protests = pd.read_sql('SELECT * FROM protests', con=connection)\n",
    "\n",
    "# Type casting\n",
    "df_protests.startdate = pd.to_datetime(df_protests.startdate)"
   ]
  },
  {
   "cell_type": "markdown",
   "id": "69210f27",
   "metadata": {
    "id": "33684d24"
   },
   "source": [
    "**Import \"Governments\" dataset**\n",
    "\n",
    "This SQL database has already undergone very notable, detail-oriented data cleaning in the *cleaning_governments_dataset.ipynb* notebook in this directory. Notably, it also serves the role of decreasing the number of features from 77 (in the original dataset) to 55 here. That number will again be substantially reduced in the data cleaning section below."
   ]
  },
  {
   "cell_type": "code",
   "execution_count": 4,
   "id": "6937f2f8",
   "metadata": {
    "id": "3bea662b"
   },
   "outputs": [],
   "source": [
    "# Import cleaned database via SQL\n",
    "engine = create_engine('sqlite:///../data/processed/governments.db')\n",
    "with engine.begin() as connection:\n",
    "    df_govts = pd.read_sql('SELECT * FROM governments', con=connection)\n",
    "\n",
    "# Set index to be used in SQL join\n",
    "df_govts.index = df_govts.year_scode\n",
    "\n",
    "# Drop now-duplicated feature\n",
    "df_govts.drop('year_scode', axis=1, inplace=True)"
   ]
  },
  {
   "cell_type": "markdown",
   "id": "7370ab6c",
   "metadata": {
    "id": "ed93a5da"
   },
   "source": [
    "**Join \"Protests\" and \"Governments\" datasets**\n",
    "\n",
    "By joining these two datasets, a new dataframe is created with each row corresponding to one protest, containing original features about that protest as well as the characteristics of the government in place in that country during the selected year. The two datasets are joined on the index of *\"year_of_protest\"_\"three-letter_country_code\"*, otherwise known as *\"year_scode\"*."
   ]
  },
  {
   "cell_type": "code",
   "execution_count": 5,
   "id": "7ef6006e",
   "metadata": {
    "id": "93308ed5"
   },
   "outputs": [],
   "source": [
    "# Join both dataframes\n",
    "df = df_protests.join(df_govts, how='left', on='year_scode')\n",
    "\n",
    "# Remove entries that don't have corresponding 'government' data\n",
    "df.dropna(inplace=True)"
   ]
  },
  {
   "cell_type": "markdown",
   "id": "f99491d0",
   "metadata": {},
   "source": [
    "##### Identify countries that are missing from \"Regime Changes\" dataset"
   ]
  },
  {
   "cell_type": "code",
   "execution_count": 6,
   "id": "52b1777e",
   "metadata": {},
   "outputs": [],
   "source": [
    "# All countries in union of Protests and Governments\n",
    "all_countries = df.scode.unique()\n",
    "\n",
    "# All countries in Regimes\n",
    "regime_countries = df_regimes.scode.unique()\n",
    "\n",
    "\n",
    "# Loop over all_countries\n",
    "missing = []\n",
    "for country in all_countries:\n",
    "    # Make note of any countries not in Regimes\n",
    "    \n",
    "    if country not in regime_countries:\n",
    "        missing.append(country)\n",
    "\n",
    "\n",
    "# Remove these countries from dataset\n",
    "scodes_to_remove_ind = [x in missing for x in df.scode]\n",
    "df.drop(df.loc[scodes_to_remove_ind].index, axis=0, inplace=True)"
   ]
  },
  {
   "cell_type": "markdown",
   "id": "0ab13566",
   "metadata": {
    "id": "927a976c"
   },
   "source": [
    "**Join with \"Regime Changes\" dataset**\n",
    "\n",
    "Add the third and final dataset, which includes the \"target\" feature of the analysis. "
   ]
  },
  {
   "cell_type": "code",
   "execution_count": 7,
   "id": "a8f05ec5",
   "metadata": {
    "id": "91f8a6f1"
   },
   "outputs": [],
   "source": [
    "target = create_target(df, df_regimes)\n",
    "df = pd.concat([df, target], axis=1)"
   ]
  },
  {
   "cell_type": "markdown",
   "id": "c9c77409",
   "metadata": {
    "id": "d4c28260"
   },
   "source": [
    "### Basic cleaning\n",
    "\n",
    "Start by running custom function that removes all features that don't have a minimum threshold of non-null values"
   ]
  },
  {
   "cell_type": "code",
   "execution_count": 8,
   "id": "940b105b",
   "metadata": {},
   "outputs": [],
   "source": [
    "# Remove entries with limited \"government\" data\n",
    "df = remove_missing_data(df, 1000)"
   ]
  },
  {
   "cell_type": "code",
   "execution_count": 9,
   "id": "b4565469",
   "metadata": {},
   "outputs": [],
   "source": [
    "# Convert startdate to a float instead of datetime since datetime cannot be \n",
    "# handled by models but fractional years can\n",
    "df['startdate'] = df.startdate.dt.year + \\\n",
    "                  df.startdate.dt.month/12 + \\\n",
    "                  df.startdate.dt.day/365"
   ]
  },
  {
   "cell_type": "code",
   "execution_count": 10,
   "id": "f2577a1c",
   "metadata": {},
   "outputs": [],
   "source": [
    "# Type casting\n",
    "df['region'] = df.region.astype('category')\n",
    "df['system'] = df.system.astype('category')\n",
    "df['country'] = df.country.astype('category')\n",
    "df['xconst'] = df['xconst'].astype('int')"
   ]
  },
  {
   "cell_type": "markdown",
   "id": "11a4e78e",
   "metadata": {},
   "source": [
    "##### Fill \"placeholder\" values in *xconst* with continuous numbers. See Model.ipynb for further details."
   ]
  },
  {
   "cell_type": "code",
   "execution_count": 11,
   "id": "0a5f4ffb",
   "metadata": {},
   "outputs": [],
   "source": [
    "df.xconst.replace(-66.0, -1, inplace=True) # 'Interruption periods'\n",
    "df.xconst.replace(-77.0, -2, inplace=True) # 'Interregnum periods'\n",
    "df.xconst.replace(-88.0, 0, inplace=True) # 'Transition periods'"
   ]
  },
  {
   "cell_type": "markdown",
   "id": "d568c7f3",
   "metadata": {},
   "source": [
    "#### Define target\n",
    "This allows the user to define the target in terms of the amount of time before which a regime transition will occur. For this analysis, it uses one year, but other values have also been explored with similar results."
   ]
  },
  {
   "cell_type": "code",
   "execution_count": 12,
   "id": "5722612b",
   "metadata": {},
   "outputs": [],
   "source": [
    "DAYS_UNTIL_CHG = 365\n",
    "target = pd.DataFrame(df['days_until_next_regime_chg'] < DAYS_UNTIL_CHG)\n",
    "target = target.astype('int')\n",
    "target.columns = ['target']"
   ]
  },
  {
   "cell_type": "markdown",
   "id": "b71cd3cc",
   "metadata": {},
   "source": [
    "#### Drop unused columns\n",
    "\n",
    "Refer to \"model.ipynb\" notebook for decision-making details. Specific descisions will not be discussed here as they are covered in depth in the previously mentioned file."
   ]
  },
  {
   "cell_type": "code",
   "execution_count": 13,
   "id": "cea275a0",
   "metadata": {
    "id": "37e617ce",
    "outputId": "939d0e71-b6b0-46e0-853d-a2dd20d6230c"
   },
   "outputs": [],
   "source": [
    "drop_cols = ['year_scode', 'scode_govt', 'country_govt', 'startdate',\n",
    "             'days_until_next_regime_chg', 'scode', 'participants_category', 'participants',\n",
    "             'next_regime_chg_date', 'index', 'duration_days', 'present', 'protestnumber']\n",
    "df.drop(drop_cols, axis=1, inplace=True)\n",
    "\n",
    "\n",
    "# Features with high collinearity\n",
    "colinear_cols = ['liec', 'eiec', 'tenlong_strict', 'tenshort_strict', 'finittrm', 'govfrac', 'oppvote']\n",
    "df.drop(colinear_cols, axis=1, inplace=True)"
   ]
  },
  {
   "cell_type": "markdown",
   "id": "670930f4",
   "metadata": {
    "id": "e7188499"
   },
   "source": [
    "### Feature descriptions\n",
    "\n",
    "Given the large number of features with abbreviated names, those that are used within the model are defined below.\n",
    "\n",
    "Protest Details - as provided by *Protests* dataset:\n",
    "- **country:** location of protest\n",
    "- **region:** global region\n",
    "- **protesterviolence:** (y/n) indicator of protester violence\n",
    "- **participants_log:** number of individuals in attendance, log-transformed\n",
    "- **duration_days_log:** duration of the protest, log-transformed\n",
    "- **protestnumber_log:** protest number in the selected country in a given year, log-transformed\n",
    "\n",
    "---\n",
    "\n",
    "Categorizations of the reason for a protest (multiple options possible) - as provided by *Protests* dataset:\n",
    "-  **labor wage dispute** \n",
    "-  **land farm issue** \n",
    "-  **police brutality** \n",
    "-  **political behavior/process** \n",
    "-  **price increases/tax policy** \n",
    "-  **removal of politician** \n",
    "-  **social restrictions** \n",
    "\n",
    "---\n",
    "\n",
    "Government descriptors in the given country at the time protest - as provided by *Government Characterization* dataset. Strict, quantifiable definitions are provided in Data Manual.\n",
    "\n",
    "- **system:** governmental system (Parliamentary, Assembly-elected president, Presidential, Unelected)\n",
    "- **yrsoffc:** number of years the chief executive has been in office\n",
    "- **termlimit:** (y/n) is there a term limit in place?\n",
    "- **military:** (y/n) is the chief executive a military officer?\n",
    "- **defmin:** (y/n) is defense minister a military officer?\n",
    "- **execnat:** (y/n) is executive a nationalist?\n",
    "- **execrel:** executive religion\n",
    "- **totalseats:** total seats in the legislature\n",
    "- **oppmajh:** (y/n) does one opposition party have an absolute majority in House?\n",
    "- **legelec:** (y/n) is there a legislative election in the protest year?\n",
    "- **exelec:** (y/n) is there an executive election in the protest year?\n",
    "- **gq:** are there gender quotas in government (None, Voluntary, Reserved, Required)\n",
    "- **gqi:** (y/n) is gender quota actually implemented\n",
    "- **auton:** are there autonomous regions? (federalism)\n",
    "- **numvote:** total vote share of governmental leadership party\n",
    "- **maj:** margin of majority\n",
    "- **herfgov:** Herfindahl index government (sum of squared seat shares of all parties in the government)\n",
    "- **tensys_strict:** length of time the country has been autocratic or democratic\n",
    "- **checks:** checks and balances\n",
    "- **stabs_strict:** stability, as measured by the percent of veto players who *drop* from the government in a given year\n",
    "\n",
    "---\n",
    "\n",
    "Political regime authority characteristics - as provided by *Regime Changes* dataset. Strict, quantifiable definitions are provided in Data Manual.\n",
    "\n",
    "- **xconst:** executive constraints / decision rules (Unlimited Authority through Executive Parity)"
   ]
  },
  {
   "cell_type": "code",
   "execution_count": 14,
   "id": "e3440a41",
   "metadata": {
    "id": "2f4ba216"
   },
   "outputs": [],
   "source": [
    "# Create standard train-test splits\n",
    "x_train, x_test, y_train, y_test = train_test_split(df, target, \n",
    "                                                    random_state=RANDOM_STATE, \n",
    "                                                    test_size=0.3)"
   ]
  },
  {
   "cell_type": "markdown",
   "id": "878640fa",
   "metadata": {
    "id": "fa2608be"
   },
   "source": [
    "The random forest model shows substantial performance over the logistic regression model. Specifically, the F1 score increased by 0.12, and other metrics see similar improvements. Still, the performance isn't perfect, so the below model explores an increasingly complex model that is able to better capture the complexity of the data.\n",
    "\n",
    "**XG Boost model**"
   ]
  },
  {
   "cell_type": "code",
   "execution_count": 16,
   "id": "cb6195a7",
   "metadata": {
    "id": "986d8ee9",
    "outputId": "e55738a9-e538-49a2-b1dc-cc615e8aa9fd"
   },
   "outputs": [
    {
     "name": "stdout",
     "output_type": "stream",
     "text": [
      "- f1: 0.7951807228915663\n",
      "- accuracy: 0.9617117117117117\n",
      "- precision: 0.8571428571428571\n",
      "- recall: 0.7415730337078652\n"
     ]
    },
    {
     "data": {
      "image/png": "[encoded data removed]",
      "text/plain": [
       "<Figure size 432x288 with 2 Axes>"
      ]
     },
     "metadata": {
      "needs_background": "light"
     },
     "output_type": "display_data"
    }
   ],
   "source": [
    "# # Instantiate model\n",
    "# model_log = LogisticRegression(max_iter=5000)\n",
    "\n",
    "# # Add one-hot encoding for categoricals\n",
    "# ohe = OneHotEncoder(handle_unknown='ignore')\n",
    "\n",
    "# # Add standard scaling\n",
    "# scaler = StandardScaler()\n",
    "\n",
    "# # Add resampling to address class imbalance\n",
    "# smote = SMOTE(random_state=RANDOM_STATE)\n",
    "\n",
    "\n",
    "# # Select object types for one-hot encoding and numeric types for scaling\n",
    "# selector_object = make_column_selector(dtype_exclude='number')\n",
    "# selector_numeric = make_column_selector(dtype_include='number')\n",
    "\n",
    "# # Create transformer for the selectors/encoders/scalers\n",
    "# transformer = make_column_transformer((ohe, selector_object),\n",
    "#                                      (scaler, selector_numeric))\n",
    "\n",
    "\n",
    "# # Create pipeline for transformer, resampling, and model\n",
    "# pipe = Pipeline([('transformer', transformer),\n",
    "#                  ('smote', smote), \n",
    "#                  ('model', model_log)])\n",
    "\n",
    "\n",
    "# # Instantiate model\n",
    "# model_xgb = XGBClassifier(eval_metric='logloss', use_label_encoder=False, \n",
    "#                           random_state=RANDOM_STATE)\n",
    "\n",
    "# # Create pipeline for transformer, resampling, and model\n",
    "# pipe = Pipeline([('transformer', transformer),\n",
    "#                  ('smote', smote), \n",
    "#                  ('model', model_xgb)])\n",
    "\n",
    "\n",
    "# # Run grid search to optimizer hyperparameters\n",
    "# grid_xgb = {\n",
    "#     'model__learning_rate': [0.01, 0.1, 0.25],\n",
    "#     'model__max_depth': [6, 8, 10, 12],\n",
    "#     'model__subsample': [0.4, 0.7, 1],\n",
    "#     'model__n_estimators': [100, 200, 300, 400]}\n",
    "\n",
    "# # Fit model to training data\n",
    "# # grid_search.fit(x_train, y_train)\n",
    "\n",
    "# As described in this section's header, the fitted pipeline is \n",
    "# simply imported via Pickle from the MODEL notebook, where it was\n",
    "# fitted on the same data.\n",
    "with open('../data/processed/model_xgb.pickle', 'rb') as f:\n",
    "    model_xgb = pickle.load(f)\n",
    "\n",
    "# Fit pipeline\n",
    "model_xgb.fit(x_train, y_train)\n",
    "    \n",
    "# Print metrics\n",
    "prediction = model_xgb.predict(x_test)\n",
    "print_scores(prediction, y_test)\n",
    "labels = ['No change', 'Regime Change']"
   ]
  },
  {
   "cell_type": "code",
   "execution_count": 27,
   "id": "312c4b55",
   "metadata": {},
   "outputs": [
    {
     "data": {
      "image/png": "[encoded data removed]",
      "text/plain": [
       "<Figure size 360x216 with 2 Axes>"
      ]
     },
     "metadata": {
      "needs_background": "light"
     },
     "output_type": "display_data"
    }
   ],
   "source": [
    "# Display confusion matrix\n",
    "fig, ax = plt.subplots(1, 1)\n",
    "fig.set_figheight(3)\n",
    "fig.set_figwidth(5)\n",
    "plot_confusion_matrix(model_xgb, x_test, y_test, display_labels=labels, ax=ax);\n",
    "plt.savefig('../images/confusion_matrix_single.png', bbox_inches=\"tight\")"
   ]
  },
  {
   "cell_type": "markdown",
   "id": "b5245398",
   "metadata": {},
   "source": [
    "**Show optimal model hyperparameters**"
   ]
  },
  {
   "cell_type": "markdown",
   "id": "d0c0bd8e",
   "metadata": {
    "id": "c4b5b293"
   },
   "source": [
    "## Investigate Feature Importance\n",
    "\n",
    "Here, we see that the five most significant features are:\n",
    "1. **xconst**: presence of executive constraints, ranging from \"Unlimited Authority\" through \"Executive Parity\"\n",
    "2. **protestnumber_log**: number of protests that already occurred in the year of the protest, log-transformed\n",
    "3. **tensys_strict**: length of time the country has been autocratic or democratic\n",
    "4. **totalseats**: total seats in the legislature\n",
    "5. **yrsoffc**: number of years the chief executive has been in office\n",
    "\n",
    "To bring some meaning to the SHAP summary plot, it is worth noting that:\n",
    "1. Countries with low  executive constraint (\"Unlimited Authority\") are more strongly correlated with a protest overturning the regime.\n",
    "2. Higher turnouts to protests are associated with regime transitions. However, the data is somewhat split: even very small protests can be associated with regime transition.\n",
    "3. There is a less distinct divide in the relationship between the length of time a country has been autocratic vs. democratic than in other metrics. That said, the feature remains a strong predictor.\n",
    "4. Regime transitions happen somewhat consistently across the size of governing bodies. \n",
    "5. Protests in countries with new executive leadership are less likely to lead to regime change than countries with a long-ruling leader."
   ]
  },
  {
   "cell_type": "code",
   "execution_count": null,
   "id": "7e38161c",
   "metadata": {
    "id": "d7ad9c44",
    "outputId": "0da8b6c5-e2be-4ad1-b49a-0f387db61a2f"
   },
   "outputs": [],
   "source": [
    "# SHAP summary plot for XGB\n",
    "produce_shap_plot(x_train, y_train, x_test, y_test, clone(model_xgb), \n",
    "                  title='Final XG Boost Model: Feature Evaluation');"
   ]
  },
  {
   "cell_type": "code",
   "execution_count": null,
   "id": "7f91ed31",
   "metadata": {},
   "outputs": [],
   "source": []
  },
  {
   "cell_type": "code",
   "execution_count": 34,
   "id": "7ec27e19",
   "metadata": {},
   "outputs": [
    {
     "data": {
      "image/png": "[encoded data removed]",
      "text/plain": [
       "<Figure size 468x504 with 2 Axes>"
      ]
     },
     "metadata": {
      "needs_background": "light"
     },
     "output_type": "display_data"
    }
   ],
   "source": [
    "def produce_shap_plot(df_train, target_train, df_test, target_test, model_shap, title=None, savepath=None):   \n",
    "    df_train, target_train, df_test = get_shap_df(df_train, target_train, df_test)\n",
    "    model_shap = model_shap.steps[2][1]\n",
    "    model_shap.fit(df_train, target_train)\n",
    "    pred = model_shap.predict(df_test)\n",
    "    \n",
    "    # Produce shap values\n",
    "    explainer = shap.TreeExplainer(model_shap)\n",
    "    shap_values = explainer.shap_values(df_test)\n",
    "    \n",
    "    # Plot findings\n",
    "    plt.figure()\n",
    "    shap.summary_plot(shap_values, df_test, show=False, plot_size=(6.5, 7), max_display=12)\n",
    "    \n",
    "    # Add figure title if provided by user\n",
    "    if title:\n",
    "        plt.title(title, fontsize=16)\n",
    "        \n",
    "    if savepath:\n",
    "        plt.savefig(savepath, bbox_inches=\"tight\")\n",
    "    \n",
    "    plt.show();\n",
    "\n",
    "\n",
    "\n",
    "\n",
    "\n",
    "# renamer = {'xconst': 'executive_constraints',\n",
    "#        'protestnumber_log': 'protests_year_prior',\n",
    "#         'tensys_strict': 'duration_of_govt_type',\n",
    "#         'yrsoffc': 'duration_of_exec_tenure',\n",
    "#         'totalseats': 'seats_in_govt',\n",
    "#         'maj': 'margin_of_majority',\n",
    "#         'numvote': 'vote_share_leaders',\n",
    "#         'participants': 'protest_participant_ct',\n",
    "#         'herfgov': 'herfindahl_index',\n",
    "#         'gq': 'gender_quota',\n",
    "#         'legelec': 'election_this_yr'}\n",
    "# x_train_renamed = x_train.rename(renamer, axis=1)\n",
    "# x_test_renamed = x_test.rename(renamer, axis=1)\n",
    "# model_xgb.fit(x_train_renamed, y_train)\n",
    "\n",
    "produce_shap_plot(x_train_renamed, y_train, x_test_renamed, y_test, clone(model_xgb), \n",
    "                  title='Feature Importance',\n",
    "                  savepath='../images/shap_summary_plot_renamed.png');\n",
    "\n",
    "\n",
    "#shap.summary_plot(shap_values, df_test, show=False, plot_size=(16, 12))"
   ]
  },
  {
   "cell_type": "code",
   "execution_count": null,
   "id": "012ef903",
   "metadata": {},
   "outputs": [],
   "source": [
    "# SHAP bar plot for XGB model\n",
    "x_tr_manual, y_tr_manual, x_te_manual = get_shap_df(x_train, y_train, x_test)\n",
    "model = model_xgb.steps[2][1]\n",
    "\n",
    "# Calculate SHAP values\n",
    "explainer = shap.Explainer(model)\n",
    "shap_values = explainer(x_te_manual)\n",
    "\n",
    "# SHAP bar plot for XGB model\n",
    "plt.title('Feature Importance for XGB Model')\n",
    "shap.plots.bar(shap_values, max_display=20)"
   ]
  },
  {
   "cell_type": "markdown",
   "id": "cd1caba1",
   "metadata": {
    "id": "11980158"
   },
   "source": [
    "## Part V. Conclusion\n",
    "\n",
    "Overall, this analysis successfully completes its objective. It creates and tunes a model that helps predict whether a given protest will lead to a regime transition within one year. This incredibly valuable tool can be used by political scientists to better understand regime transitions, including my investigating the model further than was conducted in this analysis. In addition, the model and its findings can be used for proactive or preventative measures by either side of government. With a very strong performing model, it can be trusted to give an accurate estimate of changes to come. \n",
    "\n",
    "Going forward, this project allows for easy growth as more data is released. Each of the three primary datasets receive regular updates, and this new information can easily be incorporated in order to expand the temporal scope of the project and with more data comes to potential for stronger performance. \n",
    "\n",
    "### Next Steps\n",
    "A powerful next step could be to investigate this data using time series analyses. Specifically, it would be valuable to understand how protest outcomes are affected by protests before it."
   ]
  }
 ],
 "metadata": {
  "colab": {
   "name": "FINAL SUMMARY NOTEBOOK.ipynb",
   "provenance": []
  },
  "kernelspec": {
   "display_name": "Python 3",
   "language": "python",
   "name": "python3"
  },
  "language_info": {
   "codemirror_mode": {
    "name": "ipython",
    "version": 3
   },
   "file_extension": ".py",
   "mimetype": "text/x-python",
   "name": "python",
   "nbconvert_exporter": "python",
   "pygments_lexer": "ipython3",
   "version": "3.8.3"
  }
 },
 "nbformat": 4,
 "nbformat_minor": 5
}
