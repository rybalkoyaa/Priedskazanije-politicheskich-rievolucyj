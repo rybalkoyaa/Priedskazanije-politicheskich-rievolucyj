{
 "cells": [
  {
   "cell_type": "markdown",
   "id": "39745bc8",
   "metadata": {
    "id": "72b536e1"
   },
   "source": [
    "# Cleaning \"Governments\" Dataset\n",
    "\n",
    "This notebook receives as input the raw edition of the Database of Political Institutions dataset from the Inter-American Development Bank. The notebook serves the purpose of addressing missing and inconsistent values, removing outliers, and creating consistent naming schemes to allow for cross-use with other datasets.\n",
    "\n",
    "### About the Data\n",
    "This dataset is provided by the Inter-American Development Bank (IDB). \"The Database of Political Institutions presents institutional and electoral results data such as measures of checks and balances, tenure and stability of the government, identification of party affiliation and ideology, and fragmentation of opposition and government parties in the legislature ... [it covers] about 180 countries [from] 1975-2020. It has become one of the most cited databases in comparative political economy and comparative political institutions, with more than 4,500 article citations on Google Scholar as of December 2020.\" [(1)](https://publications.iadb.org/en/database-political-institutions-2020-dpi2020) For the context of this analysis, it includes 8,200 rows of data, each with 77 features. Throughout this analysis, this dataset will be referred to as the \"Governments\" dataset.\n",
    "\n",
    "\n",
    "#### Data source citation:\n",
    "\n",
    "Cruz, Cesi, Philip Keefer, and Carlos Scartascini. 2021. Database of Political Institutions 2020. Washington, DC: Inter-American Development Bank Research Department."
   ]
  },
  {
   "cell_type": "markdown",
   "id": "2169d9e6",
   "metadata": {
    "id": "9b6e2945"
   },
   "source": [
    "## Data Understanding"
   ]
  },
  {
   "cell_type": "code",
   "execution_count": 1,
   "id": "ef13cc92",
   "metadata": {
    "id": "c2c1c2e3"
   },
   "outputs": [],
   "source": [
    "# Import necessary packages\n",
    "import numpy as np\n",
    "import pandas as pd\n",
    "from sqlalchemy import create_engine\n",
    "\n",
    "# Options\n",
    "#pd.options.display.max_rows = 200\n",
    "pd.options.display.max_columns = 200\n",
    "%matplotlib inline\n",
    "\n",
    "# Convenience for working with external src code files\n",
    "%load_ext autoreload\n",
    "%autoreload 2\n",
    "\n",
    "# Global constants used in data cleaning\n",
    "NA_STRING = \"NA_SS\"\n",
    "NA_NUMBER = -999.0\n",
    "OTHER = \"OTHER\" "
   ]
  },
  {
   "cell_type": "markdown",
   "id": "e3b92c4f",
   "metadata": {
    "id": "867bf76d"
   },
   "source": [
    "##### Import Data"
   ]
  },
  {
   "cell_type": "code",
   "execution_count": 2,
   "id": "97572c70",
   "metadata": {
    "id": "ac32af37"
   },
   "outputs": [],
   "source": [
    "# Import data from stata dta file\n",
    "path = '../data/raw/Database-of-Political-Institutions/DPI2020_stata13.dta'\n",
    "countries = pd.read_stata(path)\n",
    "\n",
    "# Use Numpy's NaN instead of Panda's for consistency\n",
    "countries.fillna(np.nan, inplace=True) "
   ]
  },
  {
   "cell_type": "markdown",
   "id": "fb85cebd",
   "metadata": {
    "id": "4fd1b5e3"
   },
   "source": [
    "##### Simple cleaning\n",
    "\n",
    "Note that the *remove_these_features* variable contains a list of features that were determined to be unvaluable based on extensive EDA. Given that there are 50+ features in that group, it is not worthwhile to explain each choice. Refer to the data dictionary to understand these specific features if desired."
   ]
  },
  {
   "cell_type": "code",
   "execution_count": 3,
   "id": "05cdc245",
   "metadata": {
    "id": "ce4c460c"
   },
   "outputs": [],
   "source": [
    "# Convert type\n",
    "countries['year'] = countries.year.dt.year \n",
    "\n",
    "# Drop unused features\n",
    "remove_these_features = countries.iloc[:, 25:76].columns\n",
    "countries.drop(remove_these_features, axis=1, inplace=True)"
   ]
  },
  {
   "cell_type": "markdown",
   "id": "17a56f18",
   "metadata": {
    "id": "dd0e99d2"
   },
   "source": [
    "## Understanding columns\n",
    "\n",
    "Below is a list of all features currently available for use, as well as their definitions.\n",
    "\n",
    "- ifs - \"IFS\" country code\n",
    "- system - Presidential (0), Assembly-elected president (1), parliamentry (2)\n",
    "- yrsoffc - how many years has chief executive been in office?\n",
    "- finittrm - is there a finite term? (0, 1)\n",
    "- yrcurnt - years left in current term\n",
    "- multpl - if there are formal restraints on an executive’s term (NA if not), can s/he serve additional term(s) following the current one?\n",
    "- military - is chief exeuctive a military officer?\n",
    "- defmin - is defense minister a military officer?\n",
    "- PERCENT1 - president got what % of votes in the 1st/only round?\n",
    "- PERCENTL - president got what % of votes in the final round? (na if no runoff)\n",
    "- PRTYIN - party of chief executive has been how long in office\n",
    "- EXECME - name of party, if any **remove** (too many distinct values)\n",
    "- EXECRLC - executive is Right (1), Left (3), Center (2), No information (0), No executive (NA)\n",
    "- EXECNAT - Nationalist (0, 1)\n",
    "- EXECRURL - \"Rural\" issues listed as key component of party's platform? **remove** nearly no 1s\n",
    "- EXECREG - \"Regional\" issues listed as key component of party's platform? **remove** nearly no 1s\n",
    "- EXECREL - Executive religion\n",
    "- EXECAGE - time since party formation (under same name)\n",
    "- ALLHOUSE - does party of executive control all relevant houses?\n",
    "- NONCHIEF - party affiliation of the one not called \"Chief Executive\" (in systems w/both non-ceremonial PM and president) **remove**\n",
    "- TOTALSEATS - total seats in legislature. Includes gov1seat, gov2seat, gov3seat, opp1seat, opp2seat, opp3seat, govothst, oppthst, numul)\n",
    "- GOV1ME, GOV1SEAT GOV1[ETC] - Descriptors of largest party. Too granular to bother with in this analysis since there are already aggregate features that account for the same data. **remove**\n",
    "- OPPMAJH - does one opposition party have an absolute majority in House?\n",
    "- OPPMAJS - does one opposition party have an absolute majority in Senate?\n",
    "- DATELEG - month when parliamentary elections were held **remove**\n",
    "- DATEEXEC - month when presidential elections were held **remove**\n",
    "- LEGELEX - legislative election this year?\n",
    "- EXELEC - executive election this year?\n",
    "- LIEC, EIEC - Legislative, Executive Index of Electoral Completiveness (see data dictionary, valuable metric)\n",
    "- MDMH, MDMS - Mean District Magnitude House, Senate\n",
    "- PLURALTY - government is plurality?\n",
    "- PR - proportional representation?\n",
    "- HOUSESYS, SENSYS - House, Senate electorical rule\n",
    "- THRESH - vote threshold for representation *in proportional representation system*\n",
    "- DHONDT - is the D'Hondt system used? **remove**\n",
    "- CL - are closed lists used? \n",
    "- GQ, GQI - gender quota, whether it was implemented\n",
    "- SELECT - method for selecting election candidates **remove** (almost no values)\n",
    "\n",
    "--------\n",
    "\n",
    "- AUTON - are there autonomous regions? (federalism)\n",
    "- MUNI - are municipal governments locally elected?\n",
    "- STATE - are there state/providence governments locally elected? (important!)\n",
    "- AUTHOR - do the state/provinves have authority over taxing, spending, or legislating? (important!)\n",
    "- STCONST - are the constituencies of the senators the states/provides? **remove**\n",
    "- GWNO - no idea, not included in dictioanry **remove**\n",
    "- NUMGOV - total number of seats held by all government parties **remove**\n",
    "- NUMVOTE - vote share of ruling government party  \n",
    "- NUMOPP - vote share of opposition government party **remove**\n",
    "- FRAUD - were vote fraud or candidate intimidation serious enough to affect the outcome of elections\n",
    "- MAJ - Margin of Majority (important!)\n",
    "- PARTYAGE - average age of parties\n",
    "- HERFGOV, HERFOPP - Herfindahl index government (sum of squared seat shares of all parties in the government) [probably a valuable metric]\n",
    "- HERFTOT - same as above, for all, but very few values. **remove**\n",
    "\n",
    "--------\n",
    "\n",
    "- TENLONG - longest tenure of a veto player **remove in favor of strict**\n",
    "- TENLONG_STRICT - uses TENLONG, restricted to fewer certain leaders \n",
    "- TENSHORT - shortest tensure of a veto player **remove in favor of strict**\n",
    "- TENSHORT_strict - uses TENSHORT, restricted to fewer leaders\n",
    "- CHECKS - checks and balances\n",
    "- CHECKS_LAX - **remove**, corresponds to same group as TENLONG (removed), as opposed to CHECKS, which maps to people in TENLONG_STRICT\n",
    "- STABS, STABS_STRICT - \"Stability\". use STRICT, as explained in TENLONG.\n",
    "- STABNS, STABNS_STRICT - similar to STABS, **remove**\n",
    "- POLARIZ, POLARIZ_STRICT - maximum polarization between the executive party and the four principle parties of the legislature. Use STRING similar to above. \n",
    "\n",
    "---\n",
    "\n",
    "## Manual cleaning\n",
    "\n",
    "Note that this dataset contained substantial inconsistencies between the way that missing values vs. null values were encoded, and this took a lot of manual study of the data dictionary in order to make the below changes. It is not relevant to waste time explaining each choice. After looking at the data dictionary, the logic behind the choice will no doubt become clear."
   ]
  },
  {
   "cell_type": "code",
   "execution_count": 4,
   "id": "920c1ddf",
   "metadata": {
    "id": "dd09160b"
   },
   "outputs": [],
   "source": [
    "# Replace \"placeholder\" NaN values (as defined by data dictionary) \n",
    "# with one consistent np.nan across dataset for consistency\n",
    "\n",
    "countries.replace(-999, NA_NUMBER, inplace=True)\n",
    "countries.replace(-999.0, NA_NUMBER, inplace=True)\n",
    "countries.replace('-999', NA_NUMBER, inplace=True)\n",
    "countries.replace('-999.0', NA_NUMBER, inplace=True)\n",
    "countries.replace('NA', NA_STRING, inplace=True)\n",
    "\n",
    "\n",
    "\n",
    "# One-off cases based on close reading of data dictionary\n",
    "countries.system.replace(-999, NA_STRING, inplace=True)\n",
    "countries.system = countries.system.astype('object')\n",
    "countries.execrlc.replace(0.0, NA_STRING, inplace=True)\n",
    "countries.execrlc = countries.execrlc.astype('object')\n",
    "countries.execrel.replace(0.0, OTHER, inplace=True)\n",
    "countries.execrel.replace(-999.0, NA_STRING, inplace=True)\n",
    "countries.execrel = countries.execrel.astype('object')\n",
    "countries.percent1.replace(999.0, NA_NUMBER, inplace=True)\n",
    "countries.percentl.replace(-99.0, NA_NUMBER, inplace=True)\n",
    "countries.execrlc.replace(-999.0, NA_STRING, inplace=True)\n",
    "countries.oppmajs.replace(999.0, NA_NUMBER, inplace=True)\n",
    "countries.legelec.replace(12.0, NA_NUMBER, inplace=True)\n",
    "countries.liec.replace(0.0, NA_NUMBER, inplace=True)\n",
    "countries.eiec.replace(0.0, NA_NUMBER, inplace=True)\n",
    "countries.housesys.replace('PR', 'Proportional', inplace=True)\n",
    "countries.housesys.replace(0.5, NA_STRING, inplace=True)\n",
    "countries.housesys.replace(-999.0, NA_STRING, inplace=True)\n",
    "countries.housesys = countries.housesys.astype('object')\n",
    "countries.sensys.replace(-999.0, NA_STRING, inplace=True)\n",
    "countries.sensys.replace(-888.0, NA_STRING, inplace=True)\n",
    "countries.sensys.replace(0.5, NA_STRING, inplace=True)\n",
    "countries.sensys.replace('PR', 'Proportional', inplace=True)\n",
    "countries.sensys = countries.sensys.astype('object')\n",
    "countries.thresh.replace(-9999.0, NA_NUMBER, inplace=True)\n",
    "countries.select.replace(-999.0, NA_STRING, inplace=True)\n",
    "countries.fraud.replace(0.0, 'OppositionBanned', inplace=True)\n",
    "countries.fraud.replace(1.0, 'OppositionSuppressed', inplace=True)\n",
    "countries.fraud.replace(-999.0, NA_STRING, inplace=True)\n",
    "countries.fraud.fillna(NA_STRING, inplace=True)\n",
    "countries.muni.replace('Legislature and executive locally elected', 1.0, inplace=True)\n",
    "countries.muni.replace('Legislature locally elected', 0.5, inplace=True)\n",
    "countries.muni.replace('No local elections', 0.0, inplace=True)\n",
    "countries.muni = countries.muni.astype('float')\n",
    "\n",
    "countries.state.replace('Legislature and executive locally elected', 1.0, inplace=True)\n",
    "countries.state.replace('Legislature locally elected', 0.5, inplace=True)\n",
    "countries.state.replace('No local elections', 0.0, inplace=True)\n",
    "countries.state = countries.state.astype('float')\n",
    "\n",
    "countries.maj.replace(NA_STRING, NA_NUMBER, inplace=True)\n",
    "countries.maj.fillna(NA_NUMBER, inplace=True)\n",
    "countries.maj = countries.maj.astype('float')\n",
    "countries.partyage.replace(NA_STRING, NA_NUMBER, inplace=True)\n",
    "countries.partyage.fillna(NA_NUMBER, inplace=True)\n",
    "countries.partyage = countries.partyage.astype('float')\n",
    "countries.herfgov.replace(NA_STRING, NA_NUMBER, inplace=True)\n",
    "countries.herfgov = countries.herfgov.astype('float')\n",
    "countries.herfopp.replace(NA_STRING, NA_NUMBER, inplace=True)\n",
    "countries.herfopp = countries.herfopp.astype('float')\n",
    "\n",
    "\n",
    "\n",
    "countries.frac = countries.frac.astype('object')\n",
    "countries.frac.fillna(NA_NUMBER, inplace=True)\n",
    "countries.frac.replace(NA_STRING, NA_NUMBER, inplace=True)\n",
    "\n",
    "countries.frac = countries.frac.astype('object')\n",
    "countries.frac.fillna(NA_NUMBER, inplace=True)\n",
    "countries.frac.replace(NA_STRING, NA_NUMBER, inplace=True)\n",
    "\n",
    "countries.oppfrac = countries.oppfrac.astype('object')\n",
    "countries.oppfrac.fillna(NA_NUMBER, inplace=True)\n",
    "countries.oppfrac.replace(NA_STRING, NA_NUMBER, inplace=True)\n",
    "\n",
    "countries.govfrac = countries.govfrac.astype('object')\n",
    "countries.govfrac.fillna(NA_NUMBER, inplace=True)\n",
    "countries.govfrac.replace(NA_STRING, NA_NUMBER, inplace=True)\n",
    "\n",
    "countries.tensys_strict.replace(NA_STRING, NA_NUMBER, inplace=True)\n",
    "countries.tensys_strict = countries.tensys_strict.astype('float')\n",
    "\n",
    "countries.checks.replace(NA_STRING, NA_NUMBER, inplace=True)\n",
    "countries.checks = countries.checks.astype('float')\n",
    "\n",
    "countries.stabs_strict.replace(NA_STRING, NA_NUMBER, inplace=True)\n",
    "countries.stabs_strict = countries.stabs_strict.astype('float')\n",
    "\n",
    "countries.tenlong_strict.replace(NA_STRING, NA_NUMBER, inplace=True)\n",
    "countries.tenlong_strict = countries.tenlong_strict.astype('float')\n",
    "\n",
    "countries.tenshort_strict.replace(NA_STRING, NA_NUMBER, inplace=True)\n",
    "countries.tenshort_strict = countries.tenshort_strict.astype('float')\n",
    "\n",
    "countries.tenshort_strict.replace(NA_STRING, NA_NUMBER, inplace=True)\n",
    "countries.tenshort_strict = countries.tenshort_strict.astype('float')\n",
    "\n",
    "countries.polariz.replace(NA_STRING, NA_NUMBER, inplace=True)"
   ]
  },
  {
   "cell_type": "code",
   "execution_count": 5,
   "id": "abe5d455",
   "metadata": {
    "id": "f51de562"
   },
   "outputs": [],
   "source": [
    "# Based on manual review of the data dictionary, explained briefly above\n",
    "remove_these_features = ['nonchief', 'dateleg', 'dateexec', 'dhondt', 'select', \n",
    "                         'stconst', 'gwno', 'numgov', 'numopp', 'herftot', \n",
    "                         'tenlong', 'tenshort', 'checks_lax', 'stabns', \n",
    "                         'stabns_strict', 'execme', 'tensys', 'stabs', \n",
    "                         'execrurl', 'execreg']\n",
    "countries.drop(remove_these_features, axis=1, inplace=True)"
   ]
  },
  {
   "cell_type": "markdown",
   "id": "7cf96baf",
   "metadata": {
    "id": "f938333a"
   },
   "source": [
    "#### Country name codes\n",
    "\n",
    "Make consistent with other data sources to enable merging. Minor differences in spelling, abbreviations, casing, etc. make this necessary. Process completed in simple Excel file for simplicity. Import that lookup table to convert to new naming schemes."
   ]
  },
  {
   "cell_type": "code",
   "execution_count": 6,
   "id": "4c6d213a",
   "metadata": {
    "id": "1e639a63",
    "outputId": "d31fc687-f3c9-46ad-f0da-24600a4a573c"
   },
   "outputs": [
    {
     "data": {
      "text/html": [
       "<div>\n",
       "<style scoped>\n",
       "    .dataframe tbody tr th:only-of-type {\n",
       "        vertical-align: middle;\n",
       "    }\n",
       "\n",
       "    .dataframe tbody tr th {\n",
       "        vertical-align: top;\n",
       "    }\n",
       "\n",
       "    .dataframe thead th {\n",
       "        text-align: right;\n",
       "    }\n",
       "</style>\n",
       "<table border=\"1\" class=\"dataframe\">\n",
       "  <thead>\n",
       "    <tr style=\"text-align: right;\">\n",
       "      <th></th>\n",
       "      <th>combo</th>\n",
       "      <th>countryname</th>\n",
       "      <th>countryname_final</th>\n",
       "      <th>ifs</th>\n",
       "      <th>scode_final</th>\n",
       "    </tr>\n",
       "  </thead>\n",
       "  <tbody>\n",
       "    <tr>\n",
       "      <th>0</th>\n",
       "      <td>Turk Cyprus_0</td>\n",
       "      <td>Turk Cyprus</td>\n",
       "      <td>IGNORE</td>\n",
       "      <td>0</td>\n",
       "      <td>INGORE</td>\n",
       "    </tr>\n",
       "    <tr>\n",
       "      <th>46</th>\n",
       "      <td>Afghanistan_AFG</td>\n",
       "      <td>Afghanistan</td>\n",
       "      <td>Afghanistan</td>\n",
       "      <td>AFG</td>\n",
       "      <td>AFG</td>\n",
       "    </tr>\n",
       "    <tr>\n",
       "      <th>92</th>\n",
       "      <td>Angola_AGO</td>\n",
       "      <td>Angola</td>\n",
       "      <td>Angola</td>\n",
       "      <td>AGO</td>\n",
       "      <td>ANG</td>\n",
       "    </tr>\n",
       "    <tr>\n",
       "      <th>138</th>\n",
       "      <td>Albania_ALB</td>\n",
       "      <td>Albania</td>\n",
       "      <td>Albania</td>\n",
       "      <td>ALB</td>\n",
       "      <td>ALB</td>\n",
       "    </tr>\n",
       "    <tr>\n",
       "      <th>184</th>\n",
       "      <td>UAE_ARE</td>\n",
       "      <td>UAE</td>\n",
       "      <td>United Arab Emirates</td>\n",
       "      <td>ARE</td>\n",
       "      <td>UAE</td>\n",
       "    </tr>\n",
       "    <tr>\n",
       "      <th>...</th>\n",
       "      <td>...</td>\n",
       "      <td>...</td>\n",
       "      <td>...</td>\n",
       "      <td>...</td>\n",
       "      <td>...</td>\n",
       "    </tr>\n",
       "    <tr>\n",
       "      <th>7970</th>\n",
       "      <td>Yugoslavia_YSR</td>\n",
       "      <td>Yugoslavia</td>\n",
       "      <td>Yugoslavia</td>\n",
       "      <td>YSR</td>\n",
       "      <td>YGS</td>\n",
       "    </tr>\n",
       "    <tr>\n",
       "      <th>8016</th>\n",
       "      <td>S. Africa_ZAF</td>\n",
       "      <td>S. Africa</td>\n",
       "      <td>South Africa</td>\n",
       "      <td>ZAF</td>\n",
       "      <td>SAF</td>\n",
       "    </tr>\n",
       "    <tr>\n",
       "      <th>8062</th>\n",
       "      <td>Congo (DRC)_ZAR</td>\n",
       "      <td>Congo (DRC)</td>\n",
       "      <td>Congo Kinshasa</td>\n",
       "      <td>ZAR</td>\n",
       "      <td>ZAI</td>\n",
       "    </tr>\n",
       "    <tr>\n",
       "      <th>8108</th>\n",
       "      <td>Zambia_ZMB</td>\n",
       "      <td>Zambia</td>\n",
       "      <td>Zambia</td>\n",
       "      <td>ZMB</td>\n",
       "      <td>ZAM</td>\n",
       "    </tr>\n",
       "    <tr>\n",
       "      <th>8154</th>\n",
       "      <td>Zimbabwe_ZWE</td>\n",
       "      <td>Zimbabwe</td>\n",
       "      <td>Zimbabwe</td>\n",
       "      <td>ZWE</td>\n",
       "      <td>ZIM</td>\n",
       "    </tr>\n",
       "  </tbody>\n",
       "</table>\n",
       "<p>184 rows × 5 columns</p>\n",
       "</div>"
      ],
      "text/plain": [
       "                combo  countryname     countryname_final  ifs scode_final\n",
       "0       Turk Cyprus_0  Turk Cyprus                IGNORE    0      INGORE\n",
       "46    Afghanistan_AFG  Afghanistan           Afghanistan  AFG         AFG\n",
       "92         Angola_AGO       Angola                Angola  AGO         ANG\n",
       "138       Albania_ALB      Albania               Albania  ALB         ALB\n",
       "184           UAE_ARE          UAE  United Arab Emirates  ARE         UAE\n",
       "...               ...          ...                   ...  ...         ...\n",
       "7970   Yugoslavia_YSR   Yugoslavia            Yugoslavia  YSR         YGS\n",
       "8016    S. Africa_ZAF    S. Africa          South Africa  ZAF         SAF\n",
       "8062  Congo (DRC)_ZAR  Congo (DRC)        Congo Kinshasa  ZAR         ZAI\n",
       "8108       Zambia_ZMB       Zambia                Zambia  ZMB         ZAM\n",
       "8154     Zimbabwe_ZWE     Zimbabwe              Zimbabwe  ZWE         ZIM\n",
       "\n",
       "[184 rows x 5 columns]"
      ]
     },
     "metadata": {},
     "output_type": "display_data"
    }
   ],
   "source": [
    "# Import Excel file containing lookup mapping/dictionary\n",
    "code_lookup = pd.read_excel('../src/country_codes_governments.xlsx')\n",
    "name_dict  = dict(zip(code_lookup.combo_original, code_lookup.country_final))\n",
    "scode_dict = dict(zip(code_lookup.combo_original, code_lookup.scode_final))\n",
    "\n",
    "# Create ID to be used across all datasets\n",
    "countries['combo'] = countries.countryname + '_' + countries.ifs\n",
    "countries['countryname_final'] = countries.combo.map(name_dict)\n",
    "countries['scode_final'] = countries.combo.map(scode_dict)\n",
    "\n",
    "# Show results\n",
    "disp_cols = ['combo', 'countryname', 'countryname_final', 'ifs', 'scode_final']\n",
    "display(countries[disp_cols].drop_duplicates())\n",
    "\n",
    "# Drop unused/helper features\n",
    "countries.drop(['countryname', 'ifs'], axis=1, inplace=True)"
   ]
  },
  {
   "cell_type": "code",
   "execution_count": 7,
   "id": "91eb886d",
   "metadata": {
    "id": "64be7233"
   },
   "outputs": [],
   "source": [
    "# Normalize percentages to [0, 1] instead of [0, 100]\n",
    "def normalize_to_percent(zero_to_100):\n",
    "    # -999.0 represents a \"null\" value in this portion of the analysis\n",
    "    if_not_999 = lambda x: x/100 if x != -999.0 else x\n",
    "    percentage = zero_to_100.astype('float').apply(if_not_999)\n",
    "    return percentage\n",
    "\n",
    "# Normalize\n",
    "countries.polariz = countries.polariz.astype('float')\n",
    "countries.percent1 = normalize_to_percent(countries.percent1)\n",
    "countries.percentl = normalize_to_percent(countries.percentl)\n",
    "countries.numvote = normalize_to_percent(countries.numvote)\n",
    "countries.oppvote = normalize_to_percent(countries.oppvote)"
   ]
  },
  {
   "cell_type": "markdown",
   "id": "d4277211",
   "metadata": {
    "id": "5d7bfda4"
   },
   "source": [
    "## Feature Engineering"
   ]
  },
  {
   "cell_type": "code",
   "execution_count": 8,
   "id": "12d0b6a1",
   "metadata": {
    "id": "93d2c8b1"
   },
   "outputs": [],
   "source": [
    "# Combine PERCENT1 and PERCENTL since they cover similar content since \n",
    "# PERCENTL is more meaningful where it exists, but it often doesn't exist\n",
    "\n",
    "last_else_first = lambda first, last: last if last != NA_NUMBER else first\n",
    "\n",
    "countries['percent1'].fillna(NA_NUMBER, inplace=True)\n",
    "countries['percentl'].fillna(NA_NUMBER, inplace=True)\n",
    "\n",
    "countries['percent'] = list(map(last_else_first, \n",
    "                                countries['percent1'], \n",
    "                                countries['percentl']))\n",
    "\n",
    "countries['percent'].replace(NA_NUMBER, np.nan, inplace=True)\n",
    "countries.drop(['percent1', 'percentl'], axis=1, inplace=True)"
   ]
  },
  {
   "cell_type": "markdown",
   "id": "448b3500",
   "metadata": {
    "id": "e9269e7f"
   },
   "source": [
    "##### Create ID to be used across all datasets"
   ]
  },
  {
   "cell_type": "code",
   "execution_count": 9,
   "id": "9244ebe8",
   "metadata": {
    "id": "f5c93835"
   },
   "outputs": [],
   "source": [
    "# \"year\"_\"countrycode\"\n",
    "countries['year_scode'] = countries.year.astype('str')+'_'+countries.scode_final\n",
    "\n",
    "# Drop unused/helper columns\n",
    "countries.drop(['year', 'combo'], axis=1, inplace=True)"
   ]
  },
  {
   "cell_type": "markdown",
   "id": "22d81072",
   "metadata": {
    "id": "8e9c29ee"
   },
   "source": [
    "##### General data cleaning"
   ]
  },
  {
   "cell_type": "code",
   "execution_count": 10,
   "id": "17ed42ee",
   "metadata": {
    "id": "0e28c2d4"
   },
   "outputs": [],
   "source": [
    "# FILL IN MISSING VALUES W/CORRECT DATA TYPE\n",
    "fill_w_object_type = ['system', 'execrlc', 'execrel', 'housesys', \n",
    "                      'sensys', 'fraud']\n",
    "\n",
    "fill_w_num_type = ['yrsoffc', 'finittrm', 'yrcurnt', 'termlimit', 'reelect', \n",
    "                   'multpl', 'military', 'defmin', 'prtyin', 'execnat', \n",
    "                   'execage', 'allhouse', 'totalseats', 'oppmajh', 'oppmajs', \n",
    "                   'legelec', 'exelec', 'liec', 'eiec', 'mdmh', 'mdms', 'ssh', \n",
    "                   'pluralty', 'pr', 'thresh', 'cl', 'gq', 'gqi', 'auton', \n",
    "                   'muni', 'state', 'author', 'numvote', 'oppvote', 'maj', \n",
    "                   'partyage', 'herfgov', 'herfopp', 'frac', 'oppfrac', \n",
    "                   'govfrac', 'tensys_strict', 'checks', 'stabs_strict', \n",
    "                   'tenlong_strict', 'tenshort_strict', 'polariz', 'percent',\n",
    "                   'year_scode']\n",
    "\n",
    "# Fill based on specified data type\n",
    "for column in fill_w_object_type:\n",
    "    countries[column].fillna(NA_STRING, inplace=True)\n",
    "for column in fill_w_num_type:\n",
    "    countries[column].fillna(NA_NUMBER, inplace=True)\n",
    "\n",
    "\n",
    "# USE COMMON CATEGORIES OF ALL-ENCOMPASSING FEATURES TO CATEGORIZE MISSING VALS\n",
    "no_govt_data = countries.loc[(countries.system == NA_STRING) & \n",
    "                             (countries.yrcurnt == NA_NUMBER)]\n",
    "no_govt_data_ind = list(no_govt_data.index)\n",
    "countries['no_govt_data']= [int(x in no_govt_data_ind) for x in countries.index]\n",
    "\n",
    "# Drop rows without data\n",
    "drop_missing = countries.loc[countries['no_govt_data']==1].index\n",
    "countries.drop(drop_missing, inplace=True)\n",
    "countries.drop('no_govt_data', axis=1, inplace=True)\n",
    "\n",
    "# Rename as relevant\n",
    "countries.rename(columns={'countryname_final': 'country_govt', \n",
    "                'scode_final': 'scode_govt'}, inplace=True)"
   ]
  },
  {
   "cell_type": "markdown",
   "id": "8bc73151",
   "metadata": {
    "id": "c89212b9"
   },
   "source": [
    "## Export data to SQL "
   ]
  },
  {
   "cell_type": "code",
   "execution_count": 11,
   "id": "94709828",
   "metadata": {
    "id": "8bc91035"
   },
   "outputs": [],
   "source": [
    "engine = create_engine('sqlite:///../data/processed/governments.db')\n",
    "\n",
    "with engine.begin() as connection:\n",
    "    countries.to_sql(name='governments', \n",
    "                     con=connection, \n",
    "                     if_exists='replace', \n",
    "                     index=False)"
   ]
  },
  {
   "cell_type": "markdown",
   "id": "bf7cc022",
   "metadata": {
    "id": "41eab2d3"
   },
   "source": [
    "##### Final dataset"
   ]
  },
  {
   "cell_type": "code",
   "execution_count": 12,
   "id": "78c247a7",
   "metadata": {
    "id": "ad53f8f6",
    "outputId": "1fe3ecbc-28f3-4868-f40f-2009221fedfe"
   },
   "outputs": [
    {
     "name": "stdout",
     "output_type": "stream",
     "text": [
      "<class 'pandas.core.frame.DataFrame'>\n",
      "Int64Index: 7669 entries, 1 to 8199\n",
      "Data columns (total 57 columns):\n",
      " #   Column           Non-Null Count  Dtype  \n",
      "---  ------           --------------  -----  \n",
      " 0   system           7669 non-null   object \n",
      " 1   yrsoffc          7669 non-null   float64\n",
      " 2   finittrm         7669 non-null   float64\n",
      " 3   yrcurnt          7669 non-null   float64\n",
      " 4   termlimit        7669 non-null   float64\n",
      " 5   reelect          7669 non-null   float64\n",
      " 6   multpl           7669 non-null   float64\n",
      " 7   military         7669 non-null   float64\n",
      " 8   defmin           7669 non-null   float64\n",
      " 9   prtyin           7669 non-null   float64\n",
      " 10  execrlc          7669 non-null   object \n",
      " 11  execnat          7669 non-null   float64\n",
      " 12  execrel          7669 non-null   object \n",
      " 13  execage          7669 non-null   float64\n",
      " 14  allhouse         7669 non-null   float64\n",
      " 15  totalseats       7669 non-null   int16  \n",
      " 16  oppmajh          7669 non-null   float64\n",
      " 17  oppmajs          7669 non-null   float64\n",
      " 18  legelec          7669 non-null   float64\n",
      " 19  exelec           7669 non-null   float64\n",
      " 20  liec             7669 non-null   float32\n",
      " 21  eiec             7669 non-null   float32\n",
      " 22  mdmh             7669 non-null   float32\n",
      " 23  mdms             7669 non-null   float32\n",
      " 24  ssh              7669 non-null   float32\n",
      " 25  pluralty         7669 non-null   float64\n",
      " 26  pr               7669 non-null   float64\n",
      " 27  housesys         7669 non-null   object \n",
      " 28  sensys           7669 non-null   object \n",
      " 29  thresh           7669 non-null   float32\n",
      " 30  cl               7669 non-null   float64\n",
      " 31  gq               7669 non-null   float64\n",
      " 32  gqi              7669 non-null   float64\n",
      " 33  fraud            7669 non-null   object \n",
      " 34  auton            7669 non-null   float64\n",
      " 35  muni             7669 non-null   float64\n",
      " 36  state            7669 non-null   float64\n",
      " 37  author           7669 non-null   float64\n",
      " 38  numvote          7669 non-null   float64\n",
      " 39  oppvote          7669 non-null   float64\n",
      " 40  maj              7669 non-null   float64\n",
      " 41  partyage         7669 non-null   float64\n",
      " 42  herfgov          7669 non-null   float64\n",
      " 43  herfopp          7669 non-null   float64\n",
      " 44  frac             7669 non-null   float64\n",
      " 45  oppfrac          7669 non-null   float64\n",
      " 46  govfrac          7669 non-null   float64\n",
      " 47  tensys_strict    7669 non-null   float64\n",
      " 48  checks           7669 non-null   float64\n",
      " 49  stabs_strict     7669 non-null   float64\n",
      " 50  tenlong_strict   7669 non-null   float64\n",
      " 51  tenshort_strict  7669 non-null   float64\n",
      " 52  polariz          7669 non-null   float64\n",
      " 53  country_govt     7669 non-null   object \n",
      " 54  scode_govt       7669 non-null   object \n",
      " 55  percent          7669 non-null   float64\n",
      " 56  year_scode       7669 non-null   object \n",
      "dtypes: float32(6), float64(41), int16(1), object(9)\n",
      "memory usage: 3.2+ MB\n"
     ]
    }
   ],
   "source": [
    "countries.info()"
   ]
  },
  {
   "cell_type": "code",
   "execution_count": null,
   "id": "a2660923",
   "metadata": {
    "id": "3f6ad3ef"
   },
   "outputs": [],
   "source": []
  }
 ],
 "metadata": {
  "colab": {
   "name": "cleaning_governments_dataset.ipynb",
   "provenance": []
  },
  "kernelspec": {
   "display_name": "Python 3",
   "language": "python",
   "name": "python3"
  },
  "language_info": {
   "codemirror_mode": {
    "name": "ipython",
    "version": 3
   },
   "file_extension": ".py",
   "mimetype": "text/x-python",
   "name": "python",
   "nbconvert_exporter": "python",
   "pygments_lexer": "ipython3",
   "version": "3.8.3"
  }
 },
 "nbformat": 4,
 "nbformat_minor": 5
}
