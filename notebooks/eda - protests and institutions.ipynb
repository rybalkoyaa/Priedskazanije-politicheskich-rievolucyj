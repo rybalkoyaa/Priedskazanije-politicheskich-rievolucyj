{
 "cells": [
  {
   "cell_type": "code",
   "execution_count": 1,
   "id": "19f998b9",
   "metadata": {},
   "outputs": [],
   "source": [
    "import numpy as np\n",
    "import pandas as pd\n",
    "import matplotlib.pyplot as plt\n",
    "import seaborn as sns\n",
    "\n",
    "from sqlalchemy import create_engine"
   ]
  },
  {
   "cell_type": "code",
   "execution_count": 2,
   "id": "2d447634",
   "metadata": {},
   "outputs": [],
   "source": [
    "path = 'sqlite:///../data/processed/'\n",
    "\n",
    "# Import protest data\n",
    "engine = create_engine(path+'protests.db')\n",
    "with engine.begin() as connection:\n",
    "    protests = pd.read_sql('SELECT * FROM protests', con=connection)\n",
    "    \n",
    "# Import institutions data\n",
    "engine = create_engine(path+'institutions.db')\n",
    "with engine.begin() as connection:\n",
    "    institutions = pd.read_sql('SELECT * FROM institutions', con=connection)"
   ]
  }
 ],
 "metadata": {
  "kernelspec": {
   "display_name": "Python 3",
   "language": "python",
   "name": "python3"
  },
  "language_info": {
   "codemirror_mode": {
    "name": "ipython",
    "version": 3
   },
   "file_extension": ".py",
   "mimetype": "text/x-python",
   "name": "python",
   "nbconvert_exporter": "python",
   "pygments_lexer": "ipython3",
   "version": "3.8.3"
  }
 },
 "nbformat": 4,
 "nbformat_minor": 5
}
