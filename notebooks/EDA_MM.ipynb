{
 "cells": [
  {
   "cell_type": "markdown",
   "id": "0023e104",
   "metadata": {},
   "source": [
    "### Exploratory Analysis - Mass Mobilization Protests"
   ]
  },
  {
   "cell_type": "code",
   "execution_count": 63,
   "id": "d360e16d",
   "metadata": {},
   "outputs": [],
   "source": [
    "import numpy as np\n",
    "import pandas as pd\n",
    "import matplotlib.pyplot as plt\n",
    "import sklearn as sk\n",
    "import os, sys\n",
    "import math\n",
    "\n",
    "from sklearn.preprocessing import OneHotEncoder\n",
    "\n",
    "pd.options.display.max_columns = 100\n",
    "pd.options.display.max_rows = 300\n",
    "\n",
    "path_data = os.path.join('..', 'data', 'raw')\n",
    "\n",
    "UNKNOWN = 'unknown'"
   ]
  },
  {
   "cell_type": "code",
   "execution_count": 2,
   "id": "0d0805c6",
   "metadata": {},
   "outputs": [],
   "source": [
    "path_csv = os.path.join(path_data, 'Mass-Mobilization-Protests', 'mmALL_073120_csv.csv')\n",
    "df = pd.read_csv(path_csv)"
   ]
  },
  {
   "cell_type": "code",
   "execution_count": 3,
   "id": "a79eb5f3",
   "metadata": {},
   "outputs": [
    {
     "name": "stdout",
     "output_type": "stream",
     "text": [
      "<class 'pandas.core.frame.DataFrame'>\n",
      "RangeIndex: 17145 entries, 0 to 17144\n",
      "Data columns (total 31 columns):\n",
      " #   Column                 Non-Null Count  Dtype  \n",
      "---  ------                 --------------  -----  \n",
      " 0   id                     17145 non-null  int64  \n",
      " 1   country                17145 non-null  object \n",
      " 2   ccode                  17145 non-null  int64  \n",
      " 3   year                   17145 non-null  int64  \n",
      " 4   region                 17145 non-null  object \n",
      " 5   protest                17145 non-null  int64  \n",
      " 6   protestnumber          17145 non-null  int64  \n",
      " 7   startday               15239 non-null  float64\n",
      " 8   startmonth             15239 non-null  float64\n",
      " 9   startyear              15239 non-null  float64\n",
      " 10  endday                 15239 non-null  float64\n",
      " 11  endmonth               15239 non-null  float64\n",
      " 12  endyear                15239 non-null  float64\n",
      " 13  protesterviolence      15758 non-null  float64\n",
      " 14  location               15218 non-null  object \n",
      " 15  participants_category  9887 non-null   object \n",
      " 16  participants           15746 non-null  object \n",
      " 17  protesteridentity      14684 non-null  object \n",
      " 18  protesterdemand1       15238 non-null  object \n",
      " 19  protesterdemand2       2977 non-null   object \n",
      " 20  protesterdemand3       383 non-null    object \n",
      " 21  protesterdemand4       831 non-null    object \n",
      " 22  stateresponse1         15208 non-null  object \n",
      " 23  stateresponse2         2888 non-null   object \n",
      " 24  stateresponse3         930 non-null    object \n",
      " 25  stateresponse4         244 non-null    object \n",
      " 26  stateresponse5         849 non-null    object \n",
      " 27  stateresponse6         16 non-null     object \n",
      " 28  stateresponse7         920 non-null    object \n",
      " 29  sources                15235 non-null  object \n",
      " 30  notes                  15193 non-null  object \n",
      "dtypes: float64(7), int64(5), object(19)\n",
      "memory usage: 4.1+ MB\n"
     ]
    }
   ],
   "source": [
    "df.info()"
   ]
  },
  {
   "cell_type": "code",
   "execution_count": 4,
   "id": "e0ff5298",
   "metadata": {},
   "outputs": [],
   "source": [
    "def print_counts(series):\n",
    "    unique = series.value_counts()\n",
    "    return unique"
   ]
  },
  {
   "cell_type": "code",
   "execution_count": 5,
   "id": "18309d5d",
   "metadata": {},
   "outputs": [
    {
     "data": {
      "text/plain": [
       "512000000     1\n",
       "4502005006    1\n",
       "2202017017    1\n",
       "2001995002    1\n",
       "1352011003    1\n",
       "             ..\n",
       "2202002009    1\n",
       "2001998017    1\n",
       "4901991003    1\n",
       "6402014010    1\n",
       "701995005     1\n",
       "Name: id, Length: 17145, dtype: int64"
      ]
     },
     "execution_count": 5,
     "metadata": {},
     "output_type": "execute_result"
    }
   ],
   "source": [
    "print_counts(df.id)"
   ]
  },
  {
   "cell_type": "code",
   "execution_count": 6,
   "id": "11196d9b",
   "metadata": {},
   "outputs": [],
   "source": [
    "# countries = df.country.unique()\n",
    "# countries.sort()\n",
    "# countries"
   ]
  },
  {
   "cell_type": "code",
   "execution_count": 7,
   "id": "8b2892b4",
   "metadata": {},
   "outputs": [],
   "source": [
    "# print_counts(df[['ccode', 'country']])"
   ]
  },
  {
   "cell_type": "code",
   "execution_count": 8,
   "id": "2bbfd93e",
   "metadata": {},
   "outputs": [],
   "source": [
    "# year = df.year.unique()\n",
    "# year.sort()\n",
    "# print(year)\n",
    "\n",
    "# print_counts(df.year)"
   ]
  },
  {
   "cell_type": "code",
   "execution_count": 9,
   "id": "bf9060b4",
   "metadata": {},
   "outputs": [],
   "source": [
    "# print_counts(df.region)"
   ]
  },
  {
   "cell_type": "code",
   "execution_count": 10,
   "id": "44885ebe",
   "metadata": {},
   "outputs": [],
   "source": [
    "# print_counts(df.protest)"
   ]
  },
  {
   "cell_type": "code",
   "execution_count": 11,
   "id": "61197a93",
   "metadata": {},
   "outputs": [],
   "source": [
    "# print_counts(df.protestnumber)"
   ]
  },
  {
   "cell_type": "code",
   "execution_count": 12,
   "id": "b65409b3",
   "metadata": {},
   "outputs": [],
   "source": [
    "# print(df.loc[df.protestnumber == 0].protesterdemand1.value_counts())\n",
    "# print(df.loc[df.protestnumber == 0].stateresponse1.value_counts())\n",
    "# print(df.loc[df.protestnumber == 0].notes.value_counts())"
   ]
  },
  {
   "cell_type": "code",
   "execution_count": 13,
   "id": "7d6011aa",
   "metadata": {},
   "outputs": [],
   "source": [
    "df = df.loc[df.protest == 1].copy()\n",
    "df.reset_index(inplace=True, drop=True)"
   ]
  },
  {
   "cell_type": "markdown",
   "id": "2b632c5a",
   "metadata": {},
   "source": [
    "##### Notes: drop all rows with df.protest == 0. This means no protest took place, which can be verified by investigating a sample of those entries. Since this analysis studies only protests, non-protest entries are not of interest."
   ]
  },
  {
   "cell_type": "code",
   "execution_count": 14,
   "id": "004aa6e8",
   "metadata": {},
   "outputs": [
    {
     "name": "stdout",
     "output_type": "stream",
     "text": [
      "<class 'pandas.core.frame.DataFrame'>\n",
      "RangeIndex: 15239 entries, 0 to 15238\n",
      "Data columns (total 31 columns):\n",
      " #   Column                 Non-Null Count  Dtype  \n",
      "---  ------                 --------------  -----  \n",
      " 0   id                     15239 non-null  int64  \n",
      " 1   country                15239 non-null  object \n",
      " 2   ccode                  15239 non-null  int64  \n",
      " 3   year                   15239 non-null  int64  \n",
      " 4   region                 15239 non-null  object \n",
      " 5   protest                15239 non-null  int64  \n",
      " 6   protestnumber          15239 non-null  int64  \n",
      " 7   startday               15239 non-null  float64\n",
      " 8   startmonth             15239 non-null  float64\n",
      " 9   startyear              15239 non-null  float64\n",
      " 10  endday                 15239 non-null  float64\n",
      " 11  endmonth               15239 non-null  float64\n",
      " 12  endyear                15239 non-null  float64\n",
      " 13  protesterviolence      15239 non-null  float64\n",
      " 14  location               15218 non-null  object \n",
      " 15  participants_category  9887 non-null   object \n",
      " 16  participants           15227 non-null  object \n",
      " 17  protesteridentity      14684 non-null  object \n",
      " 18  protesterdemand1       15238 non-null  object \n",
      " 19  protesterdemand2       2977 non-null   object \n",
      " 20  protesterdemand3       383 non-null    object \n",
      " 21  protesterdemand4       779 non-null    object \n",
      " 22  stateresponse1         15208 non-null  object \n",
      " 23  stateresponse2         2888 non-null   object \n",
      " 24  stateresponse3         930 non-null    object \n",
      " 25  stateresponse4         244 non-null    object \n",
      " 26  stateresponse5         797 non-null    object \n",
      " 27  stateresponse6         16 non-null     object \n",
      " 28  stateresponse7         857 non-null    object \n",
      " 29  sources                15235 non-null  object \n",
      " 30  notes                  15193 non-null  object \n",
      "dtypes: float64(7), int64(5), object(19)\n",
      "memory usage: 3.6+ MB\n"
     ]
    }
   ],
   "source": [
    "df.info()"
   ]
  },
  {
   "cell_type": "code",
   "execution_count": 15,
   "id": "64b1979b",
   "metadata": {},
   "outputs": [],
   "source": [
    "# print_counts(df.startday)"
   ]
  },
  {
   "cell_type": "code",
   "execution_count": 16,
   "id": "27e54929",
   "metadata": {},
   "outputs": [],
   "source": [
    "# print_counts(df.startmonth)"
   ]
  },
  {
   "cell_type": "code",
   "execution_count": 17,
   "id": "644e33a5",
   "metadata": {},
   "outputs": [],
   "source": [
    "# print_counts(df.startyear)"
   ]
  },
  {
   "cell_type": "code",
   "execution_count": 18,
   "id": "ef0d0fd7",
   "metadata": {},
   "outputs": [],
   "source": [
    "# print_counts(df.endday)"
   ]
  },
  {
   "cell_type": "code",
   "execution_count": 19,
   "id": "60314177",
   "metadata": {},
   "outputs": [],
   "source": [
    "# print_counts(df.endmonth)"
   ]
  },
  {
   "cell_type": "code",
   "execution_count": 20,
   "id": "f744f205",
   "metadata": {},
   "outputs": [],
   "source": [
    "# print_counts(df.endyear)"
   ]
  },
  {
   "cell_type": "code",
   "execution_count": 21,
   "id": "c012b5dc",
   "metadata": {},
   "outputs": [],
   "source": [
    "# print_counts(df.protesterviolence)"
   ]
  },
  {
   "cell_type": "code",
   "execution_count": 22,
   "id": "bdfc3c01",
   "metadata": {},
   "outputs": [],
   "source": [
    "# df.location.value_counts().shape"
   ]
  },
  {
   "cell_type": "markdown",
   "id": "8af26e2d",
   "metadata": {},
   "source": [
    "##### 'Locations' column isn't at all standardized. Avoid using unless absolutely necessary. The 'Country' column should provide the necessary information for an MVP.\n",
    "\n",
    "Fill na's with UNKNOWN"
   ]
  },
  {
   "cell_type": "code",
   "execution_count": 23,
   "id": "0b72c1e5",
   "metadata": {},
   "outputs": [],
   "source": [
    "df['location'] = df.location.fillna(UNKNOWN)"
   ]
  },
  {
   "cell_type": "code",
   "execution_count": 24,
   "id": "b3dae437",
   "metadata": {},
   "outputs": [],
   "source": [
    "# df.info()"
   ]
  },
  {
   "cell_type": "code",
   "execution_count": 25,
   "id": "9bb082be",
   "metadata": {},
   "outputs": [],
   "source": [
    "# df.participants.isna()"
   ]
  },
  {
   "cell_type": "code",
   "execution_count": 26,
   "id": "967b6111",
   "metadata": {},
   "outputs": [],
   "source": [
    "# #print(df.participants_category.value_counts())\n",
    "# df.loc[df.participants.isna()]"
   ]
  },
  {
   "cell_type": "markdown",
   "id": "fbf2f399",
   "metadata": {},
   "source": [
    "### Fill in missing \"Participants Category\" value using the \"Participants\" column. \n",
    "This takes some manual  changes. Everything that can be changed from string to int is done automatically. Everything that can't be done automatically is added to a dictionary to be done manually. This *drastically* reduces any need for manual work"
   ]
  },
  {
   "cell_type": "code",
   "execution_count": 27,
   "id": "c71c891d",
   "metadata": {},
   "outputs": [
    {
     "data": {
      "text/plain": [
       "id                                                              7502017004\n",
       "country                                                              India\n",
       "ccode                                                                  750\n",
       "year                                                                  2017\n",
       "region                                                                Asia\n",
       "protest                                                                  1\n",
       "protestnumber                                                            4\n",
       "startday                                                              27.0\n",
       "startmonth                                                             5.0\n",
       "startyear                                                           2017.0\n",
       "endday                                                                27.0\n",
       "endmonth                                                               5.0\n",
       "endyear                                                             2017.0\n",
       "protesterviolence                                                      1.0\n",
       "location                         Tral in south Indian administered Kashmir\n",
       "participants_category                                            2000-4999\n",
       "participants                     Widespread protests throughout the valley\n",
       "protesteridentity        locals protesting the killing of a popular mil...\n",
       "protesterdemand1                               political behavior, process\n",
       "protesterdemand2                                                       NaN\n",
       "protesterdemand3                                                       NaN\n",
       "protesterdemand4                                                       NaN\n",
       "stateresponse1                                             crowd dispersal\n",
       "stateresponse2                                                    killings\n",
       "stateresponse3                                                    beatings\n",
       "stateresponse4                                                         NaN\n",
       "stateresponse5                                                         NaN\n",
       "stateresponse6                                                         NaN\n",
       "stateresponse7                                                         NaN\n",
       "sources                  indian forces kill militant leader in kashmir ...\n",
       "notes                    a popular militant commander and one other gun...\n",
       "Name: 13542, dtype: object"
      ]
     },
     "execution_count": 27,
     "metadata": {},
     "output_type": "execute_result"
    }
   ],
   "source": [
    "df.loc[13542]"
   ]
  },
  {
   "cell_type": "code",
   "execution_count": 249,
   "id": "4a5be348",
   "metadata": {},
   "outputs": [],
   "source": [
    "# Convert range in format \"a-b\" to average(a, b)\n",
    "def convert_range_to_average(range_string):\n",
    "\n",
    "    if range_string is np.nan:\n",
    "        return np.nan\n",
    "    \n",
    "    # Split \"x-y\" format\n",
    "    range_list = str.split(range_string, '-')\n",
    "    \n",
    "    if len(range_list)==1:\n",
    "        avg = range_list[0].replace('<', '').replace('>', '')\n",
    "    \n",
    "    elif len(range_list)==2:\n",
    "        # Convert both \"x\" and \"y\" to ints before averaging\n",
    "        avg = np.mean([int(range_list[0]), int(range_list[1])])\n",
    "    \n",
    "    else:\n",
    "        raise error\n",
    "\n",
    "    # Return average\n",
    "    return int(avg)"
   ]
  },
  {
   "cell_type": "code",
   "execution_count": 368,
   "id": "64ebcbff",
   "metadata": {},
   "outputs": [],
   "source": [
    "# ----- CREATE 'CONVERTER' DICTIONARY -----\n",
    "# also create dictionary of 'participant' values that couldn't be converted\n",
    "\n",
    "# Gather array of unique 'participants' values\n",
    "participants_unique = df.participants.dropna().unique()\n",
    "\n",
    "# Create empty dictionaries to hold lookups\n",
    "converter = {}\n",
    "\n",
    "# Create dictionary to convert messy strings to ints\n",
    "#print(\"COULDN'T CONVERT THE FOLLOWING VALUES:\\n\")\n",
    "for participant in participants_unique:\n",
    "\n",
    "    # Else remove commonly unnecessary characters\n",
    "    participant_clean = str.lower(participant)\\\n",
    "                           .replace('+', '')\\\n",
    "                           .replace(',', '')\\\n",
    "                           .replace('>', '')\\\n",
    "                           .replace('<', '')\\\n",
    "                           .replace('about', '')\\\n",
    "                           .replace('around', '')\\\n",
    "                           .replace('almost','')\\\n",
    "                           .replace('more than','')\\\n",
    "                           .replace('less than', '')\\\n",
    "                           .replace('at least', '')\\\n",
    "                           .replace('over', '')\\\n",
    "                           .replace('nearly', '')\\\n",
    "                           .replace('up to', '')\\\n",
    "                           .replace('people', '')\\\n",
    "                           .replace('some', '')\\\n",
    "                           .replace('estimated', '')\\\n",
    "                           .replace('protester', '')\\\n",
    "                           .replace('construction worker', '')\\\n",
    "                           .replace('member', '')\\\n",
    "                           .replace('citizen', '')\\\n",
    "                           .replace('parent', '')\\\n",
    "                           .replace('local', '')\\\n",
    "                           .replace('demonstrator', '')\\\n",
    "                           .replace('teacher', '')\\\n",
    "                           .replace('activist', '')\\\n",
    "                           .replace('supporter', '')\\\n",
    "                           .replace('villager', '')\\\n",
    "                           .replace('campaign', '')\\\n",
    "                           .replace('campaigner', '')\\\n",
    "                           .replace('driver', '')\\\n",
    "                           .replace('resident', '')\\\n",
    "                           .replace('participant', '')\\\n",
    "                           .replace(' of ', '')\\\n",
    "                           .replace('_', '')\\\n",
    "                           .replace(' to ', '-')#\\\n",
    "                           #.replace('s', '')\n",
    "    # Try converting clean value\n",
    "    try:\n",
    "\n",
    "        # Append to converter dictionary if successful\n",
    "        converter[participant] = int(participant_clean)\n",
    "\n",
    "    # Else convert values of format \"x-y\"\n",
    "    except:\n",
    "        try:\n",
    "\n",
    "            converter[participant] = convert_range_to_average(participant_clean)\n",
    "\n",
    "        # Else create dict to manually clean\n",
    "        except:\n",
    "            #print(\"Couldn't convert: {}  /  {}\".format(participant, participant_clean))\n",
    "            pass\n",
    "\n"
   ]
  },
  {
   "cell_type": "code",
   "execution_count": 369,
   "id": "3ccf5cda",
   "metadata": {},
   "outputs": [
    {
     "name": "stdout",
     "output_type": "stream",
     "text": [
      "Remaining rows: 4171\n",
      "Examples include:\n"
     ]
    },
    {
     "data": {
      "text/html": [
       "<div>\n",
       "<style scoped>\n",
       "    .dataframe tbody tr th:only-of-type {\n",
       "        vertical-align: middle;\n",
       "    }\n",
       "\n",
       "    .dataframe tbody tr th {\n",
       "        vertical-align: top;\n",
       "    }\n",
       "\n",
       "    .dataframe thead th {\n",
       "        text-align: right;\n",
       "    }\n",
       "</style>\n",
       "<table border=\"1\" class=\"dataframe\">\n",
       "  <thead>\n",
       "    <tr style=\"text-align: right;\">\n",
       "      <th></th>\n",
       "      <th>id</th>\n",
       "      <th>participants</th>\n",
       "      <th>participants_category</th>\n",
       "      <th>participants_clean</th>\n",
       "    </tr>\n",
       "  </thead>\n",
       "  <tbody>\n",
       "    <tr>\n",
       "      <th>1410</th>\n",
       "      <td>1012017014</td>\n",
       "      <td>\"Rocked by protests\"</td>\n",
       "      <td>100-999</td>\n",
       "      <td>NaN</td>\n",
       "    </tr>\n",
       "    <tr>\n",
       "      <th>15087</th>\n",
       "      <td>8501998019</td>\n",
       "      <td>.</td>\n",
       "      <td>NaN</td>\n",
       "      <td>NaN</td>\n",
       "    </tr>\n",
       "    <tr>\n",
       "      <th>1633</th>\n",
       "      <td>1302005002</td>\n",
       "      <td>.</td>\n",
       "      <td>NaN</td>\n",
       "      <td>NaN</td>\n",
       "    </tr>\n",
       "    <tr>\n",
       "      <th>15100</th>\n",
       "      <td>8501999009</td>\n",
       "      <td>.</td>\n",
       "      <td>NaN</td>\n",
       "      <td>NaN</td>\n",
       "    </tr>\n",
       "    <tr>\n",
       "      <th>11631</th>\n",
       "      <td>6602002005</td>\n",
       "      <td>.</td>\n",
       "      <td>NaN</td>\n",
       "      <td>NaN</td>\n",
       "    </tr>\n",
       "    <tr>\n",
       "      <th>12975</th>\n",
       "      <td>7321990014</td>\n",
       "      <td>.</td>\n",
       "      <td>NaN</td>\n",
       "      <td>NaN</td>\n",
       "    </tr>\n",
       "    <tr>\n",
       "      <th>11615</th>\n",
       "      <td>6601992002</td>\n",
       "      <td>.</td>\n",
       "      <td>NaN</td>\n",
       "      <td>NaN</td>\n",
       "    </tr>\n",
       "    <tr>\n",
       "      <th>6651</th>\n",
       "      <td>3641990010</td>\n",
       "      <td>1 million</td>\n",
       "      <td>&gt;10000</td>\n",
       "      <td>NaN</td>\n",
       "    </tr>\n",
       "    <tr>\n",
       "      <th>1144</th>\n",
       "      <td>1011992007</td>\n",
       "      <td>1,000,000s</td>\n",
       "      <td>NaN</td>\n",
       "      <td>NaN</td>\n",
       "    </tr>\n",
       "    <tr>\n",
       "      <th>1143</th>\n",
       "      <td>1011992006</td>\n",
       "      <td>1,000,000s</td>\n",
       "      <td>NaN</td>\n",
       "      <td>NaN</td>\n",
       "    </tr>\n",
       "    <tr>\n",
       "      <th>14934</th>\n",
       "      <td>8202016007</td>\n",
       "      <td>1,800 participants</td>\n",
       "      <td>1000-1999</td>\n",
       "      <td>NaN</td>\n",
       "    </tr>\n",
       "    <tr>\n",
       "      <th>11442</th>\n",
       "      <td>6452017003</td>\n",
       "      <td>100 wounded</td>\n",
       "      <td>2000-4999</td>\n",
       "      <td>NaN</td>\n",
       "    </tr>\n",
       "    <tr>\n",
       "      <th>2543</th>\n",
       "      <td>1602012001</td>\n",
       "      <td>100,000s</td>\n",
       "      <td>NaN</td>\n",
       "      <td>NaN</td>\n",
       "    </tr>\n",
       "    <tr>\n",
       "      <th>13496</th>\n",
       "      <td>7502012008</td>\n",
       "      <td>1000000s</td>\n",
       "      <td>NaN</td>\n",
       "      <td>NaN</td>\n",
       "    </tr>\n",
       "    <tr>\n",
       "      <th>5930</th>\n",
       "      <td>3502012001</td>\n",
       "      <td>1000000s</td>\n",
       "      <td>&gt;10000</td>\n",
       "      <td>NaN</td>\n",
       "    </tr>\n",
       "    <tr>\n",
       "      <th>4269</th>\n",
       "      <td>2301992003</td>\n",
       "      <td>1000000s</td>\n",
       "      <td>&gt;10000</td>\n",
       "      <td>NaN</td>\n",
       "    </tr>\n",
       "    <tr>\n",
       "      <th>13498</th>\n",
       "      <td>7502013001</td>\n",
       "      <td>1000000s</td>\n",
       "      <td>NaN</td>\n",
       "      <td>NaN</td>\n",
       "    </tr>\n",
       "    <tr>\n",
       "      <th>11290</th>\n",
       "      <td>6402015001</td>\n",
       "      <td>1000000s</td>\n",
       "      <td>&gt;10000</td>\n",
       "      <td>NaN</td>\n",
       "    </tr>\n",
       "    <tr>\n",
       "      <th>6475</th>\n",
       "      <td>3601990053</td>\n",
       "      <td>100000s</td>\n",
       "      <td>&gt;10000</td>\n",
       "      <td>NaN</td>\n",
       "    </tr>\n",
       "    <tr>\n",
       "      <th>4332</th>\n",
       "      <td>2302012005</td>\n",
       "      <td>100000s</td>\n",
       "      <td>&gt;10000</td>\n",
       "      <td>NaN</td>\n",
       "    </tr>\n",
       "    <tr>\n",
       "      <th>2551</th>\n",
       "      <td>1602015005</td>\n",
       "      <td>100000s</td>\n",
       "      <td>&gt;10000</td>\n",
       "      <td>NaN</td>\n",
       "    </tr>\n",
       "    <tr>\n",
       "      <th>6490</th>\n",
       "      <td>3601991005</td>\n",
       "      <td>100000s</td>\n",
       "      <td>&gt;10000</td>\n",
       "      <td>NaN</td>\n",
       "    </tr>\n",
       "    <tr>\n",
       "      <th>8104</th>\n",
       "      <td>4372003001</td>\n",
       "      <td>100000s</td>\n",
       "      <td>&gt;10000</td>\n",
       "      <td>NaN</td>\n",
       "    </tr>\n",
       "    <tr>\n",
       "      <th>4356</th>\n",
       "      <td>2302014004</td>\n",
       "      <td>100000s</td>\n",
       "      <td>&gt;10000</td>\n",
       "      <td>NaN</td>\n",
       "    </tr>\n",
       "    <tr>\n",
       "      <th>6593</th>\n",
       "      <td>3602017007</td>\n",
       "      <td>100000s</td>\n",
       "      <td>&gt;10000</td>\n",
       "      <td>NaN</td>\n",
       "    </tr>\n",
       "  </tbody>\n",
       "</table>\n",
       "</div>"
      ],
      "text/plain": [
       "               id          participants participants_category  \\\n",
       "1410   1012017014  \"Rocked by protests\"               100-999   \n",
       "15087  8501998019                     .                   NaN   \n",
       "1633   1302005002                     .                   NaN   \n",
       "15100  8501999009                     .                   NaN   \n",
       "11631  6602002005                     .                   NaN   \n",
       "12975  7321990014                     .                   NaN   \n",
       "11615  6601992002                     .                   NaN   \n",
       "6651   3641990010             1 million                >10000   \n",
       "1144   1011992007            1,000,000s                   NaN   \n",
       "1143   1011992006            1,000,000s                   NaN   \n",
       "14934  8202016007    1,800 participants             1000-1999   \n",
       "11442  6452017003           100 wounded             2000-4999   \n",
       "2543   1602012001              100,000s                   NaN   \n",
       "13496  7502012008              1000000s                   NaN   \n",
       "5930   3502012001              1000000s                >10000   \n",
       "4269   2301992003              1000000s                >10000   \n",
       "13498  7502013001              1000000s                   NaN   \n",
       "11290  6402015001              1000000s                >10000   \n",
       "6475   3601990053               100000s                >10000   \n",
       "4332   2302012005               100000s                >10000   \n",
       "2551   1602015005               100000s                >10000   \n",
       "6490   3601991005               100000s                >10000   \n",
       "8104   4372003001               100000s                >10000   \n",
       "4356   2302014004               100000s                >10000   \n",
       "6593   3602017007               100000s                >10000   \n",
       "\n",
       "       participants_clean  \n",
       "1410                  NaN  \n",
       "15087                 NaN  \n",
       "1633                  NaN  \n",
       "15100                 NaN  \n",
       "11631                 NaN  \n",
       "12975                 NaN  \n",
       "11615                 NaN  \n",
       "6651                  NaN  \n",
       "1144                  NaN  \n",
       "1143                  NaN  \n",
       "14934                 NaN  \n",
       "11442                 NaN  \n",
       "2543                  NaN  \n",
       "13496                 NaN  \n",
       "5930                  NaN  \n",
       "4269                  NaN  \n",
       "13498                 NaN  \n",
       "11290                 NaN  \n",
       "6475                  NaN  \n",
       "4332                  NaN  \n",
       "2551                  NaN  \n",
       "6490                  NaN  \n",
       "8104                  NaN  \n",
       "4356                  NaN  \n",
       "6593                  NaN  "
      ]
     },
     "execution_count": 369,
     "metadata": {},
     "output_type": "execute_result"
    }
   ],
   "source": [
    "# Identify the rows that weren't able to be converted using the dict above. \n",
    "# Estimate whether or not it is practical top use \"participants_category\"\n",
    "# to average values within a range and use that value within participants_clean\n",
    "\n",
    "temp = df[['id', 'participants', 'participants_category']].copy()\n",
    "temp['participants_clean'] = df['participants'].map(converter)#.astype('Int64')\n",
    "\n",
    "nas = temp.loc[temp['participants_clean'].isna()]\n",
    "print('Remaining rows:', nas.shape[0])\n",
    "print('Examples include:')\n",
    "\n",
    "\n",
    "nas.sort_values(by='participants').head(25)"
   ]
  },
  {
   "cell_type": "code",
   "execution_count": 370,
   "id": "84e9d7e8",
   "metadata": {},
   "outputs": [
    {
     "name": "stdout",
     "output_type": "stream",
     "text": [
      "Total remaining NaN values: 798\n"
     ]
    }
   ],
   "source": [
    "# Apply dictionary to convert original participant counts\n",
    "counts_converted = df['participants'].map(converter)#.astype('Int64')\n",
    "\n",
    "# Create a series to hold the averages converted from the range column\n",
    "range_as_average = df['participants_category'].apply(convert_range_to_average)\n",
    "\n",
    "# Choose the count value unless it is NaN, in which case use avg value\n",
    "chose_non_nan = lambda avg, count: avg if math.isnan(float(count)) else count\n",
    "\n",
    "participants = pd.DataFrame(map(chose_non_nan, range_as_average, counts_converted), columns=['participants'])\n",
    "print('Total remaining NaN values:', participants.participants.isna().sum())"
   ]
  },
  {
   "cell_type": "code",
   "execution_count": 371,
   "id": "92ca2071",
   "metadata": {},
   "outputs": [],
   "source": [
    "df['participants_clean'] = participants"
   ]
  },
  {
   "cell_type": "markdown",
   "id": "b4bf91a4",
   "metadata": {},
   "source": [
    "#### YAY the above worked to fill in missing Participant values from Participant Categories values"
   ]
  },
  {
   "cell_type": "code",
   "execution_count": 372,
   "id": "40a1b613",
   "metadata": {},
   "outputs": [
    {
     "data": {
      "text/plain": [
       "0              NaN\n",
       "1              NaN\n",
       "2              NaN\n",
       "3              NaN\n",
       "4              NaN\n",
       "           ...    \n",
       "15234      100-999\n",
       "15235    1000-1999\n",
       "15236        50-99\n",
       "15237        50-99\n",
       "15238      100-999\n",
       "Name: participants_category, Length: 15239, dtype: object"
      ]
     },
     "execution_count": 372,
     "metadata": {},
     "output_type": "execute_result"
    }
   ],
   "source": [
    "participant_categories_dirty = df.participants_category\n",
    "participant_categories_dirty"
   ]
  },
  {
   "cell_type": "code",
   "execution_count": 373,
   "id": "8fc35a32",
   "metadata": {},
   "outputs": [
    {
     "data": {
      "text/html": [
       "<div>\n",
       "<style scoped>\n",
       "    .dataframe tbody tr th:only-of-type {\n",
       "        vertical-align: middle;\n",
       "    }\n",
       "\n",
       "    .dataframe tbody tr th {\n",
       "        vertical-align: top;\n",
       "    }\n",
       "\n",
       "    .dataframe thead th {\n",
       "        text-align: right;\n",
       "    }\n",
       "</style>\n",
       "<table border=\"1\" class=\"dataframe\">\n",
       "  <thead>\n",
       "    <tr style=\"text-align: right;\">\n",
       "      <th></th>\n",
       "      <th>participants_category</th>\n",
       "    </tr>\n",
       "  </thead>\n",
       "  <tbody>\n",
       "    <tr>\n",
       "      <th>0</th>\n",
       "      <td>NaN</td>\n",
       "    </tr>\n",
       "    <tr>\n",
       "      <th>1</th>\n",
       "      <td>1000-1999</td>\n",
       "    </tr>\n",
       "    <tr>\n",
       "      <th>2</th>\n",
       "      <td>100-999</td>\n",
       "    </tr>\n",
       "    <tr>\n",
       "      <th>3</th>\n",
       "      <td>NaN</td>\n",
       "    </tr>\n",
       "    <tr>\n",
       "      <th>4</th>\n",
       "      <td>100-999</td>\n",
       "    </tr>\n",
       "    <tr>\n",
       "      <th>...</th>\n",
       "      <td>...</td>\n",
       "    </tr>\n",
       "    <tr>\n",
       "      <th>15234</th>\n",
       "      <td>100-999</td>\n",
       "    </tr>\n",
       "    <tr>\n",
       "      <th>15235</th>\n",
       "      <td>1000-1999</td>\n",
       "    </tr>\n",
       "    <tr>\n",
       "      <th>15236</th>\n",
       "      <td>50-99</td>\n",
       "    </tr>\n",
       "    <tr>\n",
       "      <th>15237</th>\n",
       "      <td>50-99</td>\n",
       "    </tr>\n",
       "    <tr>\n",
       "      <th>15238</th>\n",
       "      <td>100-999</td>\n",
       "    </tr>\n",
       "  </tbody>\n",
       "</table>\n",
       "<p>15239 rows × 1 columns</p>\n",
       "</div>"
      ],
      "text/plain": [
       "      participants_category\n",
       "0                       NaN\n",
       "1                 1000-1999\n",
       "2                   100-999\n",
       "3                       NaN\n",
       "4                   100-999\n",
       "...                     ...\n",
       "15234               100-999\n",
       "15235             1000-1999\n",
       "15236                 50-99\n",
       "15237                 50-99\n",
       "15238               100-999\n",
       "\n",
       "[15239 rows x 1 columns]"
      ]
     },
     "execution_count": 373,
     "metadata": {},
     "output_type": "execute_result"
    }
   ],
   "source": [
    "categories_dict = df.participants_category.dropna().unique()\n",
    "ranges = [str.split(cat, '-') for cat in categories_dict]\n",
    "categories_dict = dict(zip(categories_dict, ranges))\n",
    "categories_dict['>10000'] = [10001, 10**15]\n",
    "for cat in categories_dict:\n",
    "    lo = int(categories_dict[cat][0])\n",
    "    hi = int(categories_dict[cat][1])\n",
    "    categories_dict[cat] = [lo, hi]\n",
    "\n",
    "\n",
    "\n",
    "def pick_bucket(x):\n",
    "    for key in categories_dict:\n",
    "        lim_low = categories_dict[key][0]\n",
    "        lim_hi = categories_dict[key][1]\n",
    "        #print(x)\n",
    "        if (x >= lim_low) and (x <= lim_hi):\n",
    "            return key\n",
    "    return np.nan\n",
    "\n",
    "participant_categories_applied = pd.DataFrame(map(pick_bucket, participants.participants), columns = ['participants_category'])\n",
    "df['participant_categories_applied'] = participant_categories_applied\n",
    "\n",
    "participant_categories_applied"
   ]
  },
  {
   "cell_type": "code",
   "execution_count": 379,
   "id": "1c00d1cb",
   "metadata": {},
   "outputs": [
    {
     "data": {
      "text/plain": [
       "{'50-99': [50, 99],\n",
       " '100-999': [100, 999],\n",
       " '2000-4999': [2000, 4999],\n",
       " '1000-1999': [1000, 1999],\n",
       " '5000-10000': [5000, 10000],\n",
       " '>10000': [10001, 1000000000000000]}"
      ]
     },
     "execution_count": 379,
     "metadata": {},
     "output_type": "execute_result"
    }
   ],
   "source": [
    "categories_dict"
   ]
  },
  {
   "cell_type": "markdown",
   "id": "38e2cf20",
   "metadata": {},
   "source": [
    "#### Now, check if the above categories match the Categories column in df as a QC"
   ]
  },
  {
   "cell_type": "code",
   "execution_count": 374,
   "id": "68d8791f",
   "metadata": {},
   "outputs": [
    {
     "name": "stdout",
     "output_type": "stream",
     "text": [
      "<class 'pandas.core.frame.DataFrame'>\n",
      "RangeIndex: 15239 entries, 0 to 15238\n",
      "Data columns (total 33 columns):\n",
      " #   Column                          Non-Null Count  Dtype  \n",
      "---  ------                          --------------  -----  \n",
      " 0   id                              15239 non-null  int64  \n",
      " 1   country                         15239 non-null  object \n",
      " 2   ccode                           15239 non-null  int64  \n",
      " 3   year                            15239 non-null  int64  \n",
      " 4   region                          15239 non-null  object \n",
      " 5   protest                         15239 non-null  int64  \n",
      " 6   protestnumber                   15239 non-null  int64  \n",
      " 7   startday                        15239 non-null  float64\n",
      " 8   startmonth                      15239 non-null  float64\n",
      " 9   startyear                       15239 non-null  float64\n",
      " 10  endday                          15239 non-null  float64\n",
      " 11  endmonth                        15239 non-null  float64\n",
      " 12  endyear                         15239 non-null  float64\n",
      " 13  protesterviolence               15239 non-null  float64\n",
      " 14  location                        15239 non-null  object \n",
      " 15  participants_category           9887 non-null   object \n",
      " 16  participants                    15227 non-null  object \n",
      " 17  protesteridentity               14684 non-null  object \n",
      " 18  protesterdemand1                15238 non-null  object \n",
      " 19  protesterdemand2                2977 non-null   object \n",
      " 20  protesterdemand3                383 non-null    object \n",
      " 21  protesterdemand4                779 non-null    object \n",
      " 22  stateresponse1                  15208 non-null  object \n",
      " 23  stateresponse2                  2888 non-null   object \n",
      " 24  stateresponse3                  930 non-null    object \n",
      " 25  stateresponse4                  244 non-null    object \n",
      " 26  stateresponse5                  797 non-null    object \n",
      " 27  stateresponse6                  16 non-null     object \n",
      " 28  stateresponse7                  857 non-null    object \n",
      " 29  sources                         15235 non-null  object \n",
      " 30  notes                           15193 non-null  object \n",
      " 31  participants_clean              14441 non-null  float64\n",
      " 32  participant_categories_applied  14439 non-null  object \n",
      "dtypes: float64(8), int64(5), object(20)\n",
      "memory usage: 3.8+ MB\n"
     ]
    }
   ],
   "source": [
    "df.info()"
   ]
  },
  {
   "cell_type": "code",
   "execution_count": 375,
   "id": "9b3c64f4",
   "metadata": {},
   "outputs": [
    {
     "data": {
      "text/html": [
       "<div>\n",
       "<style scoped>\n",
       "    .dataframe tbody tr th:only-of-type {\n",
       "        vertical-align: middle;\n",
       "    }\n",
       "\n",
       "    .dataframe tbody tr th {\n",
       "        vertical-align: top;\n",
       "    }\n",
       "\n",
       "    .dataframe thead th {\n",
       "        text-align: right;\n",
       "    }\n",
       "</style>\n",
       "<table border=\"1\" class=\"dataframe\">\n",
       "  <thead>\n",
       "    <tr style=\"text-align: right;\">\n",
       "      <th></th>\n",
       "      <th>participants_category</th>\n",
       "      <th>participants</th>\n",
       "      <th>participants_clean</th>\n",
       "      <th>participant_categories_applied</th>\n",
       "    </tr>\n",
       "  </thead>\n",
       "  <tbody>\n",
       "    <tr>\n",
       "      <th>0</th>\n",
       "      <td>NaN</td>\n",
       "      <td>1000s</td>\n",
       "      <td>NaN</td>\n",
       "      <td>NaN</td>\n",
       "    </tr>\n",
       "    <tr>\n",
       "      <th>1</th>\n",
       "      <td>NaN</td>\n",
       "      <td>1000</td>\n",
       "      <td>1000.0</td>\n",
       "      <td>1000-1999</td>\n",
       "    </tr>\n",
       "    <tr>\n",
       "      <th>2</th>\n",
       "      <td>NaN</td>\n",
       "      <td>500</td>\n",
       "      <td>500.0</td>\n",
       "      <td>100-999</td>\n",
       "    </tr>\n",
       "    <tr>\n",
       "      <th>3</th>\n",
       "      <td>NaN</td>\n",
       "      <td>100s</td>\n",
       "      <td>NaN</td>\n",
       "      <td>NaN</td>\n",
       "    </tr>\n",
       "    <tr>\n",
       "      <th>4</th>\n",
       "      <td>NaN</td>\n",
       "      <td>950</td>\n",
       "      <td>950.0</td>\n",
       "      <td>100-999</td>\n",
       "    </tr>\n",
       "    <tr>\n",
       "      <th>...</th>\n",
       "      <td>...</td>\n",
       "      <td>...</td>\n",
       "      <td>...</td>\n",
       "      <td>...</td>\n",
       "    </tr>\n",
       "    <tr>\n",
       "      <th>15234</th>\n",
       "      <td>100-999</td>\n",
       "      <td>100+</td>\n",
       "      <td>100.0</td>\n",
       "      <td>100-999</td>\n",
       "    </tr>\n",
       "    <tr>\n",
       "      <th>15235</th>\n",
       "      <td>1000-1999</td>\n",
       "      <td>About 1000</td>\n",
       "      <td>1000.0</td>\n",
       "      <td>1000-1999</td>\n",
       "    </tr>\n",
       "    <tr>\n",
       "      <th>15236</th>\n",
       "      <td>50-99</td>\n",
       "      <td>50+</td>\n",
       "      <td>50.0</td>\n",
       "      <td>50-99</td>\n",
       "    </tr>\n",
       "    <tr>\n",
       "      <th>15237</th>\n",
       "      <td>50-99</td>\n",
       "      <td>50+</td>\n",
       "      <td>50.0</td>\n",
       "      <td>50-99</td>\n",
       "    </tr>\n",
       "    <tr>\n",
       "      <th>15238</th>\n",
       "      <td>100-999</td>\n",
       "      <td>About 100</td>\n",
       "      <td>100.0</td>\n",
       "      <td>100-999</td>\n",
       "    </tr>\n",
       "  </tbody>\n",
       "</table>\n",
       "<p>15239 rows × 4 columns</p>\n",
       "</div>"
      ],
      "text/plain": [
       "      participants_category participants  participants_clean  \\\n",
       "0                       NaN        1000s                 NaN   \n",
       "1                       NaN         1000              1000.0   \n",
       "2                       NaN          500               500.0   \n",
       "3                       NaN         100s                 NaN   \n",
       "4                       NaN          950               950.0   \n",
       "...                     ...          ...                 ...   \n",
       "15234               100-999         100+               100.0   \n",
       "15235             1000-1999   About 1000              1000.0   \n",
       "15236                 50-99          50+                50.0   \n",
       "15237                 50-99          50+                50.0   \n",
       "15238               100-999    About 100               100.0   \n",
       "\n",
       "      participant_categories_applied  \n",
       "0                                NaN  \n",
       "1                          1000-1999  \n",
       "2                            100-999  \n",
       "3                                NaN  \n",
       "4                            100-999  \n",
       "...                              ...  \n",
       "15234                        100-999  \n",
       "15235                      1000-1999  \n",
       "15236                          50-99  \n",
       "15237                          50-99  \n",
       "15238                        100-999  \n",
       "\n",
       "[15239 rows x 4 columns]"
      ]
     },
     "execution_count": 375,
     "metadata": {},
     "output_type": "execute_result"
    }
   ],
   "source": [
    "df_participants = df[['participants_category', 'participants', 'participants_clean', 'participant_categories_applied']]\n",
    "df_participants"
   ]
  },
  {
   "cell_type": "code",
   "execution_count": 378,
   "id": "8d59b09a",
   "metadata": {},
   "outputs": [
    {
     "data": {
      "text/html": [
       "<div>\n",
       "<style scoped>\n",
       "    .dataframe tbody tr th:only-of-type {\n",
       "        vertical-align: middle;\n",
       "    }\n",
       "\n",
       "    .dataframe tbody tr th {\n",
       "        vertical-align: top;\n",
       "    }\n",
       "\n",
       "    .dataframe thead th {\n",
       "        text-align: right;\n",
       "    }\n",
       "</style>\n",
       "<table border=\"1\" class=\"dataframe\">\n",
       "  <thead>\n",
       "    <tr style=\"text-align: right;\">\n",
       "      <th></th>\n",
       "      <th>participants_category</th>\n",
       "      <th>participants</th>\n",
       "      <th>participants_clean</th>\n",
       "      <th>participant_categories_applied</th>\n",
       "    </tr>\n",
       "  </thead>\n",
       "  <tbody>\n",
       "    <tr>\n",
       "      <th>57</th>\n",
       "      <td>100-999</td>\n",
       "      <td>50+</td>\n",
       "      <td>50.0</td>\n",
       "      <td>50-99</td>\n",
       "    </tr>\n",
       "    <tr>\n",
       "      <th>242</th>\n",
       "      <td>100-999</td>\n",
       "      <td>50+</td>\n",
       "      <td>50.0</td>\n",
       "      <td>50-99</td>\n",
       "    </tr>\n",
       "    <tr>\n",
       "      <th>256</th>\n",
       "      <td>&gt;10000</td>\n",
       "      <td>tens of thousands</td>\n",
       "      <td>10000.0</td>\n",
       "      <td>5000-10000</td>\n",
       "    </tr>\n",
       "    <tr>\n",
       "      <th>268</th>\n",
       "      <td>&gt;10000</td>\n",
       "      <td>tens of thousands</td>\n",
       "      <td>10000.0</td>\n",
       "      <td>5000-10000</td>\n",
       "    </tr>\n",
       "    <tr>\n",
       "      <th>316</th>\n",
       "      <td>&gt;10000</td>\n",
       "      <td>tens of thousands</td>\n",
       "      <td>10000.0</td>\n",
       "      <td>5000-10000</td>\n",
       "    </tr>\n",
       "    <tr>\n",
       "      <th>...</th>\n",
       "      <td>...</td>\n",
       "      <td>...</td>\n",
       "      <td>...</td>\n",
       "      <td>...</td>\n",
       "    </tr>\n",
       "    <tr>\n",
       "      <th>15023</th>\n",
       "      <td>&gt;10000</td>\n",
       "      <td>About 12,000 protesters</td>\n",
       "      <td>10000.0</td>\n",
       "      <td>5000-10000</td>\n",
       "    </tr>\n",
       "    <tr>\n",
       "      <th>15025</th>\n",
       "      <td>&gt;10000</td>\n",
       "      <td>At least 10,000 people</td>\n",
       "      <td>10000.0</td>\n",
       "      <td>5000-10000</td>\n",
       "    </tr>\n",
       "    <tr>\n",
       "      <th>15169</th>\n",
       "      <td>&gt;10000</td>\n",
       "      <td>Tens of thousands</td>\n",
       "      <td>10000.0</td>\n",
       "      <td>5000-10000</td>\n",
       "    </tr>\n",
       "    <tr>\n",
       "      <th>15177</th>\n",
       "      <td>&gt;10000</td>\n",
       "      <td>About 10000</td>\n",
       "      <td>10000.0</td>\n",
       "      <td>5000-10000</td>\n",
       "    </tr>\n",
       "    <tr>\n",
       "      <th>15186</th>\n",
       "      <td>&gt;10000</td>\n",
       "      <td>10000s</td>\n",
       "      <td>10000.0</td>\n",
       "      <td>5000-10000</td>\n",
       "    </tr>\n",
       "  </tbody>\n",
       "</table>\n",
       "<p>908 rows × 4 columns</p>\n",
       "</div>"
      ],
      "text/plain": [
       "      participants_category             participants  participants_clean  \\\n",
       "57                  100-999                      50+                50.0   \n",
       "242                 100-999                      50+                50.0   \n",
       "256                  >10000        tens of thousands             10000.0   \n",
       "268                  >10000        tens of thousands             10000.0   \n",
       "316                  >10000        tens of thousands             10000.0   \n",
       "...                     ...                      ...                 ...   \n",
       "15023                >10000  About 12,000 protesters             10000.0   \n",
       "15025                >10000   At least 10,000 people             10000.0   \n",
       "15169                >10000        Tens of thousands             10000.0   \n",
       "15177                >10000              About 10000             10000.0   \n",
       "15186                >10000                   10000s             10000.0   \n",
       "\n",
       "      participant_categories_applied  \n",
       "57                             50-99  \n",
       "242                            50-99  \n",
       "256                       5000-10000  \n",
       "268                       5000-10000  \n",
       "316                       5000-10000  \n",
       "...                              ...  \n",
       "15023                     5000-10000  \n",
       "15025                     5000-10000  \n",
       "15169                     5000-10000  \n",
       "15177                     5000-10000  \n",
       "15186                     5000-10000  \n",
       "\n",
       "[908 rows x 4 columns]"
      ]
     },
     "execution_count": 378,
     "metadata": {},
     "output_type": "execute_result"
    }
   ],
   "source": [
    "df_participants.loc[(df_participants.participants_category != df_participants.participant_categories_applied) & (~df_participants.participants_category.isna())]"
   ]
  },
  {
   "cell_type": "code",
   "execution_count": null,
   "id": "acd52196",
   "metadata": {},
   "outputs": [],
   "source": []
  },
  {
   "cell_type": "code",
   "execution_count": null,
   "id": "1287bcbf",
   "metadata": {},
   "outputs": [],
   "source": []
  },
  {
   "cell_type": "code",
   "execution_count": null,
   "id": "2c33c9ff",
   "metadata": {},
   "outputs": [],
   "source": [
    "participant_ct_clean_df.loc[13542]"
   ]
  },
  {
   "cell_type": "code",
   "execution_count": null,
   "id": "427312fb",
   "metadata": {},
   "outputs": [],
   "source": [
    "print(participant_ct_clean_df.value_counts())\n",
    "print('NA values:', participant_ct_clean_df.isna().sum())"
   ]
  },
  {
   "cell_type": "code",
   "execution_count": null,
   "id": "069806b7",
   "metadata": {},
   "outputs": [],
   "source": [
    "# THIS CELL IS KEY IS ISOLATING THE PROTESTS THAT WEREN'T CLASSIFIED BY THE CONVERTER YET HAVE POTENTIAL OF BEING CONVERTED BY THEIR CATEGORY\n",
    "na_counts = df.loc[participant_ct_clean_df.isna()]\n",
    "\n",
    "print(na_counts.participants_category.value_counts())\n",
    "na_counts_WITH_category = na_counts.loc[~na_counts.participants_category.isna()]\n",
    "na_counts_WITH_category"
   ]
  },
  {
   "cell_type": "code",
   "execution_count": null,
   "id": "709161ba",
   "metadata": {
    "tags": []
   },
   "outputs": [],
   "source": [
    "na_counts_WITH_category.participants_category.apply(convert_range_to_average)"
   ]
  },
  {
   "cell_type": "code",
   "execution_count": null,
   "id": "11d80596",
   "metadata": {},
   "outputs": [],
   "source": []
  },
  {
   "cell_type": "code",
   "execution_count": null,
   "id": "8b5a1a07",
   "metadata": {},
   "outputs": [],
   "source": [
    "for item in categories_dict:\n",
    "    print(convert_range_to_average(item))"
   ]
  },
  {
   "cell_type": "code",
   "execution_count": null,
   "id": "a72768ae",
   "metadata": {},
   "outputs": [],
   "source": [
    "categories_dict"
   ]
  },
  {
   "cell_type": "code",
   "execution_count": null,
   "id": "2ebe6606",
   "metadata": {},
   "outputs": [],
   "source": []
  },
  {
   "cell_type": "code",
   "execution_count": null,
   "id": "026a0d9b",
   "metadata": {},
   "outputs": [],
   "source": [
    "categories_dict"
   ]
  },
  {
   "cell_type": "code",
   "execution_count": null,
   "id": "e269b49a",
   "metadata": {},
   "outputs": [],
   "source": [
    "ranges"
   ]
  },
  {
   "cell_type": "code",
   "execution_count": null,
   "id": "bd9a4780",
   "metadata": {},
   "outputs": [],
   "source": [
    "plt.figure()\n",
    "participant_ct_clean_df.dropna().sort_values().hist(bins=25);\n",
    "plt.title('Participant Turnout Hist')\n",
    "\n",
    "\n",
    "plt.figure()\n",
    "participant_ct_clean_df.dropna().sort_values().hist(bins=2000)\n",
    "plt.xlim([0, 50000])\n",
    "plt.title('Participant Turnout Hist (Lower Values)');"
   ]
  },
  {
   "cell_type": "code",
   "execution_count": null,
   "id": "a4955a36",
   "metadata": {},
   "outputs": [],
   "source": [
    "df.info()"
   ]
  },
  {
   "cell_type": "code",
   "execution_count": null,
   "id": "8a3f0c79",
   "metadata": {},
   "outputs": [],
   "source": [
    "categories_dict"
   ]
  },
  {
   "cell_type": "code",
   "execution_count": null,
   "id": "7b491e01",
   "metadata": {},
   "outputs": [],
   "source": [
    "df.loc[13542]"
   ]
  },
  {
   "cell_type": "code",
   "execution_count": null,
   "id": "f13cb8f4",
   "metadata": {},
   "outputs": [],
   "source": [
    "categories_dict"
   ]
  },
  {
   "cell_type": "code",
   "execution_count": null,
   "id": "590cce8d",
   "metadata": {},
   "outputs": [],
   "source": [
    "participant_ct_clean_df.loc[13542]"
   ]
  },
  {
   "cell_type": "code",
   "execution_count": null,
   "id": "168b5d65",
   "metadata": {},
   "outputs": [],
   "source": [
    "df.loc[13542]\n"
   ]
  },
  {
   "cell_type": "code",
   "execution_count": null,
   "id": "04dcb0aa",
   "metadata": {},
   "outputs": [],
   "source": [
    "df.participants_category.value_counts()"
   ]
  },
  {
   "cell_type": "code",
   "execution_count": null,
   "id": "9253545d",
   "metadata": {},
   "outputs": [],
   "source": [
    "stop"
   ]
  },
  {
   "cell_type": "code",
   "execution_count": null,
   "id": "b9913e68",
   "metadata": {
    "tags": []
   },
   "outputs": [],
   "source": [
    "def pick_bucket(x):\n",
    "    if pd.isna(x):\n",
    "        return np.nan\n",
    "    \n",
    "    for key in categories_dict:\n",
    "        lim_low = categories_dict[key][0]\n",
    "        lim_hi = categories_dict[key][1]\n",
    "        \n",
    "        if (x >= lim_low) and (x <= lim_hi):\n",
    "            return key\n",
    "    return np.nan\n",
    "\n",
    "participant_cat_clean_df = pd.DataFrame(np.array(participant_ct_clean_df.apply(pick_bucket)))\n",
    "participant_cat_clean_df.columns = ['participants_category']"
   ]
  },
  {
   "cell_type": "code",
   "execution_count": null,
   "id": "b430dce4",
   "metadata": {},
   "outputs": [],
   "source": [
    "df.info()"
   ]
  },
  {
   "cell_type": "code",
   "execution_count": null,
   "id": "17323294",
   "metadata": {},
   "outputs": [],
   "source": [
    "participant_cat_clean_df.loc[13542]"
   ]
  },
  {
   "cell_type": "markdown",
   "id": "517245e1",
   "metadata": {},
   "source": [
    "#### Move on beyond Protester Counts\n",
    "\n",
    "Next: protesteridentity"
   ]
  },
  {
   "cell_type": "code",
   "execution_count": null,
   "id": "28df23fd",
   "metadata": {},
   "outputs": [],
   "source": [
    "# Replace unknowns with unknown for consistency\n",
    "df.protesteridentity.replace('unspecified', UNKNOWN, inplace=True)\n",
    "df['protesteridentity'] = df['protesteridentity'].fillna(UNKNOWN)\n",
    "\n",
    "\n",
    "df.protesteridentity.value_counts()"
   ]
  },
  {
   "cell_type": "markdown",
   "id": "21c7df4a",
   "metadata": {},
   "source": [
    "### Protester Demands"
   ]
  },
  {
   "cell_type": "code",
   "execution_count": null,
   "id": "7fc64c1e",
   "metadata": {},
   "outputs": [],
   "source": [
    "print(df.protesterdemand1.value_counts())\n",
    "print('-----')\n",
    "print(df.protesterdemand2.value_counts())\n",
    "print('-----')\n",
    "print(df.protesterdemand3.value_counts())\n",
    "print('-----')\n",
    "print(df.protesterdemand4.value_counts())"
   ]
  },
  {
   "cell_type": "code",
   "execution_count": null,
   "id": "00eb409c",
   "metadata": {},
   "outputs": [],
   "source": [
    "# Create list of unique demands\n",
    "demands = np.concatenate([df.protesterdemand1.dropna().unique(), \n",
    "                          df.protesterdemand2.dropna().unique(),\n",
    "                          df.protesterdemand3.dropna().unique(), \n",
    "                          df.protesterdemand4.dropna().unique()])\n",
    "# Verify there are only 7 demands as indicated by data manual\n",
    "set(demands)"
   ]
  },
  {
   "cell_type": "code",
   "execution_count": null,
   "id": "6bb852f3",
   "metadata": {},
   "outputs": [],
   "source": [
    "demand_cols = ['protesterdemand1', 'protesterdemand2', 'protesterdemand3', 'protesterdemand4']\n",
    "\n",
    "# Replace '.' with np.nan\n",
    "for demand_col in demand_cols:\n",
    "    df[demand_col].replace('.', np.nan, inplace=True)"
   ]
  },
  {
   "cell_type": "code",
   "execution_count": null,
   "id": "e412c9b6",
   "metadata": {},
   "outputs": [],
   "source": [
    "df.info()"
   ]
  },
  {
   "cell_type": "code",
   "execution_count": null,
   "id": "fdafe707",
   "metadata": {},
   "outputs": [],
   "source": []
  },
  {
   "cell_type": "code",
   "execution_count": null,
   "id": "e6f7e2cf",
   "metadata": {},
   "outputs": [],
   "source": [
    "ohe = OneHotEncoder(sparse=False)\n",
    "\n",
    "\n",
    "for demand_col in demand_cols:\n",
    "    if demand_col == demand_cols[0]: #first iteration\n",
    "        fit = ohe.fit_transform(df[demand_col].values.reshape(-1, 1))\n",
    "        demand_array = np.array(fit)     \n",
    "        print('Protester demand count:', np.sum(demand_array))\n",
    "    else:\n",
    "        fit = ohe.transform(df[demand_col].values.reshape(-1, 1))\n",
    "        demand_array = np.logical_or(demand_array, fit)\n",
    "        print('Protester demand count:', np.sum(demand_array))\n",
    "        \n",
    "\n",
    "\n",
    "# Clean column names\n",
    "remove_commas = lambda x: str.replace(x, ', ', '/')\n",
    "remove_spaces = lambda x: str.replace(x, ' ', '-')\n",
    "col_names = ohe.get_feature_names(['demands'])\n",
    "col_names = list(map(remove_spaces, map(remove_commas, col_names)))\n",
    "\n",
    "# Store as dataframe \n",
    "demand_df = pd.DataFrame(demand_array, dtype='int', columns=col_names)\n",
    "demand_df.drop('demands_nan', axis=1, inplace=True)\n",
    "\n",
    "print('Final shape:', demand_df.shape)\n",
    "print('Column names:', demand_df.columns)"
   ]
  },
  {
   "cell_type": "markdown",
   "id": "62feceb0",
   "metadata": {},
   "source": [
    "### State responses"
   ]
  },
  {
   "cell_type": "code",
   "execution_count": null,
   "id": "87ba9d2e",
   "metadata": {},
   "outputs": [],
   "source": [
    "# column names containing state response data\n",
    "response_cols = ['stateresponse1', 'stateresponse2', 'stateresponse3', 'stateresponse4', \n",
    "             'stateresponse5', 'stateresponse6', 'stateresponse7']\n",
    "\n",
    "# Replace '.' with np.nan\n",
    "for col in response_cols:\n",
    "    df[col].replace('.', np.nan, inplace=True)"
   ]
  },
  {
   "cell_type": "code",
   "execution_count": null,
   "id": "9db7cd61",
   "metadata": {},
   "outputs": [],
   "source": [
    "# Verify there are only 7 responses as indicated by data manual\n",
    "# Create list of unique demands\n",
    "\n",
    "demands = np.array([])\n",
    "for col in response_cols:\n",
    "    demands = np.concatenate([demands, df[col]])\n",
    "print(set(demands))\n",
    "# We see that there are 7 demands, plus placeholder '.' and 'nan' values to drop later"
   ]
  },
  {
   "cell_type": "code",
   "execution_count": null,
   "id": "13756681",
   "metadata": {},
   "outputs": [],
   "source": [
    "ohe = OneHotEncoder(sparse=False)\n",
    "\n",
    "for col in response_cols:\n",
    "    if col == response_cols[0]: #first iteration\n",
    "        fit = ohe.fit_transform(df[col].values.reshape(-1, 1))\n",
    "        response_array = np.array(fit)     \n",
    "        print('State response count:', np.sum(response_array))\n",
    "        print('Column_names:', ohe.get_feature_names(['responses']))\n",
    "    else:\n",
    "        fit = ohe.transform(df[col].values.reshape(-1, 1))\n",
    "        response_array = np.logical_or(response_array, fit)\n",
    "        print('State response count:', np.sum(response_array))\n",
    "        \n",
    "print('\\nPre-cleaning column names:', ohe.get_feature_names(['responses']))\n",
    "        \n",
    "        \n",
    "# # Clean column names\n",
    "remove_spaces = lambda x: str.replace(x, ' ', '-')\n",
    "col_names = ohe.get_feature_names(['responses'])\n",
    "col_names = list(map(remove_spaces, col_names))\n",
    "print('\\nPost-cleaning column names:', col_names)\n",
    "\n",
    "# Store as dataframe \n",
    "response_df = pd.DataFrame(response_array, dtype='int', columns=col_names)\n",
    "response_df.drop('responses_nan', axis=1, inplace=True)\n",
    "\n",
    "print('\\nFinal shape:', response_df.shape)\n",
    "print('\\nColumn names:', response_df.columns)"
   ]
  },
  {
   "cell_type": "code",
   "execution_count": null,
   "id": "73cd03ec",
   "metadata": {},
   "outputs": [],
   "source": [
    "df.columns"
   ]
  },
  {
   "cell_type": "markdown",
   "id": "d6ad73d6",
   "metadata": {},
   "source": [
    "### Investigate \"sources\" and \"notes\" columns"
   ]
  },
  {
   "cell_type": "code",
   "execution_count": null,
   "id": "0e7058cc",
   "metadata": {},
   "outputs": [],
   "source": [
    "#df.sources.value_counts()"
   ]
  },
  {
   "cell_type": "code",
   "execution_count": null,
   "id": "c9886e2f",
   "metadata": {},
   "outputs": [],
   "source": [
    "#df.notes.value_counts()"
   ]
  },
  {
   "cell_type": "markdown",
   "id": "666d3675",
   "metadata": {},
   "source": [
    "##### As can be seen above, the 'source' and 'notes' columns don't contain standardized text. It is best to fill na's such that rows aren't dropped just because these columns aren't filled in"
   ]
  },
  {
   "cell_type": "code",
   "execution_count": null,
   "id": "4387699b",
   "metadata": {},
   "outputs": [],
   "source": [
    "df['notes'] = df['notes'].fillna(UNKNOWN)\n",
    "df['sources'] = df['sources'].fillna(UNKNOWN)"
   ]
  },
  {
   "cell_type": "markdown",
   "id": "4127689c",
   "metadata": {},
   "source": [
    "### Combine cleaned columns into one dataframe"
   ]
  },
  {
   "cell_type": "code",
   "execution_count": null,
   "id": "d53a9e54",
   "metadata": {},
   "outputs": [],
   "source": [
    "df.info()"
   ]
  },
  {
   "cell_type": "code",
   "execution_count": null,
   "id": "61b14af0",
   "metadata": {},
   "outputs": [],
   "source": [
    "demand_cols"
   ]
  },
  {
   "cell_type": "code",
   "execution_count": null,
   "id": "14b1521e",
   "metadata": {},
   "outputs": [],
   "source": [
    "response_cols"
   ]
  },
  {
   "cell_type": "code",
   "execution_count": null,
   "id": "6c7acb5b",
   "metadata": {},
   "outputs": [],
   "source": [
    "exclude_cols = ['participants_category', 'participants']+demand_cols+response_cols\n",
    "df.drop(exclude_cols, axis=1).info()"
   ]
  },
  {
   "cell_type": "code",
   "execution_count": null,
   "id": "3f7bdd28",
   "metadata": {},
   "outputs": [],
   "source": [
    "df_clean = df.drop(exclude_cols, axis=1)\n",
    "\n",
    "df_clean = pd.concat([df_clean, participant_ct_clean_df, participant_cat_clean_df, demand_df, response_df], axis=1)\n",
    "\n",
    "df_clean.info()"
   ]
  },
  {
   "cell_type": "code",
   "execution_count": null,
   "id": "74de6235",
   "metadata": {},
   "outputs": [],
   "source": [
    "df_clean['participants_category'].isna().sum()"
   ]
  },
  {
   "cell_type": "code",
   "execution_count": null,
   "id": "f4aa2f32",
   "metadata": {},
   "outputs": [],
   "source": [
    "temp = df_clean.loc[df_clean['participants_category'].isna()]\n",
    "temp.id"
   ]
  },
  {
   "cell_type": "code",
   "execution_count": null,
   "id": "37f5e3cf",
   "metadata": {},
   "outputs": [],
   "source": [
    "df_clean['protesteridentity'].value_counts()"
   ]
  },
  {
   "cell_type": "code",
   "execution_count": null,
   "id": "29e6ffc0",
   "metadata": {},
   "outputs": [],
   "source": [
    "df_temp = df.copy()\n",
    "\n",
    "df_temp['protesteridentity'] = df_temp['protesteridentity'].fillna(UNKNOWN)\n",
    "df_temp.info()"
   ]
  },
  {
   "cell_type": "code",
   "execution_count": null,
   "id": "7b9c2769",
   "metadata": {},
   "outputs": [],
   "source": [
    "temp.id.index"
   ]
  },
  {
   "cell_type": "code",
   "execution_count": null,
   "id": "509c57ac",
   "metadata": {},
   "outputs": [],
   "source": [
    "#df.loc[temp.id.index]"
   ]
  },
  {
   "cell_type": "code",
   "execution_count": null,
   "id": "e3c78ec6",
   "metadata": {},
   "outputs": [],
   "source": [
    "df_clean['participants_category_old'] = df['participants_category']\n",
    "df_clean['participants_old'] = df['participants']"
   ]
  },
  {
   "cell_type": "code",
   "execution_count": null,
   "id": "cfdc2f35",
   "metadata": {},
   "outputs": [],
   "source": [
    "df_clean.info()"
   ]
  },
  {
   "cell_type": "code",
   "execution_count": null,
   "id": "0f397110",
   "metadata": {},
   "outputs": [],
   "source": [
    "participant_cols = ['id', 'participants', 'participants_category', 'participants_category_old', 'participants_old']\n",
    "\n",
    "part = df_clean[participant_cols]\n",
    "\n",
    "part.info()"
   ]
  },
  {
   "cell_type": "code",
   "execution_count": null,
   "id": "ebb83e2b",
   "metadata": {},
   "outputs": [],
   "source": [
    "part.loc[part.participants_category.isna()]"
   ]
  },
  {
   "cell_type": "code",
   "execution_count": null,
   "id": "651fca64",
   "metadata": {},
   "outputs": [],
   "source": [
    "NOTE TO SELF - DOUBLE CHECK THAT THE PARTICIPANT COUNTS AND CATEGORIZATIONS ARE CORRECT FOR INDEX 13542 AS A QC"
   ]
  }
 ],
 "metadata": {
  "kernelspec": {
   "display_name": "Python 3",
   "language": "python",
   "name": "python3"
  },
  "language_info": {
   "codemirror_mode": {
    "name": "ipython",
    "version": 3
   },
   "file_extension": ".py",
   "mimetype": "text/x-python",
   "name": "python",
   "nbconvert_exporter": "python",
   "pygments_lexer": "ipython3",
   "version": "3.8.3"
  }
 },
 "nbformat": 4,
 "nbformat_minor": 5
}
