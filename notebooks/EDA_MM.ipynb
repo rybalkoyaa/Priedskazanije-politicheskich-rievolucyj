{
 "cells": [
  {
   "cell_type": "markdown",
   "id": "c6cfc222",
   "metadata": {},
   "source": [
    "### Exploratory Analysis - Mass Mobilzation Protests"
   ]
  },
  {
   "cell_type": "code",
   "execution_count": 139,
   "id": "d8a0f5ce",
   "metadata": {},
   "outputs": [],
   "source": [
    "import numpy as np\n",
    "import pandas as pd\n",
    "import matplotlib.pyplot as plt\n",
    "import sklearn as sk\n",
    "import os, sys\n",
    "pd.options.display.max_columns = 100\n",
    "pd.options.display.max_rows = 300\n",
    "\n",
    "path_data = os.path.join('..', 'data', 'raw')"
   ]
  },
  {
   "cell_type": "code",
   "execution_count": 98,
   "id": "1b80fafe",
   "metadata": {},
   "outputs": [],
   "source": [
    "path_csv = os.path.join(path_data, 'Mass-Mobilization-Protests', 'mmALL_073120_csv.csv')\n",
    "df = pd.read_csv(path_csv)"
   ]
  },
  {
   "cell_type": "code",
   "execution_count": 36,
   "id": "25993455",
   "metadata": {},
   "outputs": [
    {
     "name": "stdout",
     "output_type": "stream",
     "text": [
      "<class 'pandas.core.frame.DataFrame'>\n",
      "RangeIndex: 17145 entries, 0 to 17144\n",
      "Data columns (total 31 columns):\n",
      " #   Column                 Non-Null Count  Dtype  \n",
      "---  ------                 --------------  -----  \n",
      " 0   id                     17145 non-null  int64  \n",
      " 1   country                17145 non-null  object \n",
      " 2   ccode                  17145 non-null  int64  \n",
      " 3   year                   17145 non-null  int64  \n",
      " 4   region                 17145 non-null  object \n",
      " 5   protest                17145 non-null  int64  \n",
      " 6   protestnumber          17145 non-null  int64  \n",
      " 7   startday               15239 non-null  float64\n",
      " 8   startmonth             15239 non-null  float64\n",
      " 9   startyear              15239 non-null  float64\n",
      " 10  endday                 15239 non-null  float64\n",
      " 11  endmonth               15239 non-null  float64\n",
      " 12  endyear                15239 non-null  float64\n",
      " 13  protesterviolence      15758 non-null  float64\n",
      " 14  location               15218 non-null  object \n",
      " 15  participants_category  9887 non-null   object \n",
      " 16  participants           15746 non-null  object \n",
      " 17  protesteridentity      14684 non-null  object \n",
      " 18  protesterdemand1       15238 non-null  object \n",
      " 19  protesterdemand2       2977 non-null   object \n",
      " 20  protesterdemand3       383 non-null    object \n",
      " 21  protesterdemand4       831 non-null    object \n",
      " 22  stateresponse1         15208 non-null  object \n",
      " 23  stateresponse2         2888 non-null   object \n",
      " 24  stateresponse3         930 non-null    object \n",
      " 25  stateresponse4         244 non-null    object \n",
      " 26  stateresponse5         849 non-null    object \n",
      " 27  stateresponse6         16 non-null     object \n",
      " 28  stateresponse7         920 non-null    object \n",
      " 29  sources                15235 non-null  object \n",
      " 30  notes                  15193 non-null  object \n",
      "dtypes: float64(7), int64(5), object(19)\n",
      "memory usage: 4.1+ MB\n"
     ]
    }
   ],
   "source": [
    "df.info()"
   ]
  },
  {
   "cell_type": "code",
   "execution_count": 68,
   "id": "1cd81a22",
   "metadata": {},
   "outputs": [],
   "source": [
    "def print_counts(series):\n",
    "    unique = series.value_counts()\n",
    "    return unique"
   ]
  },
  {
   "cell_type": "code",
   "execution_count": 70,
   "id": "9f86565a",
   "metadata": {},
   "outputs": [
    {
     "data": {
      "text/plain": [
       "512000000     1\n",
       "4502005006    1\n",
       "2202017017    1\n",
       "2001995002    1\n",
       "1352011003    1\n",
       "             ..\n",
       "2202002009    1\n",
       "2001998017    1\n",
       "4901991003    1\n",
       "6402014010    1\n",
       "701995005     1\n",
       "Name: id, Length: 17145, dtype: int64"
      ]
     },
     "execution_count": 70,
     "metadata": {},
     "output_type": "execute_result"
    }
   ],
   "source": [
    "print_counts(df.id)"
   ]
  },
  {
   "cell_type": "code",
   "execution_count": 73,
   "id": "0978a4be",
   "metadata": {},
   "outputs": [
    {
     "data": {
      "text/plain": [
       "array(['Afghanistan', 'Albania', 'Algeria', 'Angola', 'Argentina',\n",
       "       'Armenia', 'Austria', 'Azerbaijan', 'Bahrain', 'Bangladesh',\n",
       "       'Belarus', 'Belgium', 'Benin', 'Bhutan', 'Bolivia', 'Bosnia',\n",
       "       'Botswana', 'Brazil', 'Bulgaria', 'Burkina Faso', 'Burundi',\n",
       "       'Cambodia', 'Cameroon', 'Canada', 'Cape Verde',\n",
       "       'Central African Republic', 'Chad', 'Chile', 'China', 'Colombia',\n",
       "       'Comoros', 'Congo Brazzaville', 'Congo Kinshasa', 'Costa Rica',\n",
       "       'Croatia', 'Cuba', 'Cyprus', 'Czech Republic', 'Czechoslovakia',\n",
       "       'Denmark', 'Djibouti', 'Dominican Republic', 'Ecuador', 'Egypt',\n",
       "       'El Salvador', 'Equatorial Guinea', 'Eritrea', 'Estonia',\n",
       "       'Ethiopia', 'Finland', 'France', 'Gabon', 'Gambia', 'Georgia',\n",
       "       'Germany', 'Germany East', 'Germany West', 'Ghana', 'Greece',\n",
       "       'Guatemala', 'Guinea', 'Guinea-Bissau', 'Guyana', 'Haiti',\n",
       "       'Honduras', 'Hungary', 'India', 'Indonesia', 'Iran', 'Iraq',\n",
       "       'Ireland', 'Italy', 'Ivory Coast', 'Jamaica', 'Japan', 'Jordan',\n",
       "       'Kazakhstan', 'Kenya', 'Kosovo', 'Kuwait', 'Kyrgyzstan', 'Laos',\n",
       "       'Latvia', 'Lebanon', 'Lesotho', 'Liberia', 'Libya', 'Lithuania',\n",
       "       'Luxembourg', 'Macedonia', 'Madagascar', 'Malawi', 'Malaysia',\n",
       "       'Mali', 'Mauritania', 'Mauritius', 'Mexico', 'Moldova', 'Mongolia',\n",
       "       'Montenegro', 'Morocco', 'Mozambique', 'Myanmar', 'Namibia',\n",
       "       'Nepal', 'Netherlands', 'Nicaragua', 'Niger', 'Nigeria',\n",
       "       'North Korea', 'Norway', 'Oman', 'Pakistan', 'Panama',\n",
       "       'Papua New Guinea', 'Paraguay', 'Peru', 'Philippines', 'Poland',\n",
       "       'Portugal', 'Qatar', 'Romania', 'Russia', 'Rwanda', 'Saudi Arabia',\n",
       "       'Senegal', 'Serbia', 'Serbia and Montenegro', 'Sierra Leone',\n",
       "       'Singapore', 'Slovak Republic', 'Slovenia', 'Somalia',\n",
       "       'South Africa', 'South Korea', 'South Sudan', 'Spain', 'Sri Lanka',\n",
       "       'Sudan', 'Suriname', 'Swaziland', 'Sweden', 'Switzerland', 'Syria',\n",
       "       'Taiwan', 'Tajikistan', 'Tanzania', 'Thailand', 'Timor Leste',\n",
       "       'Togo', 'Tunisia', 'Turkey', 'Turkmenistan', 'USSR', 'Uganda',\n",
       "       'Ukraine', 'United Arab Emirate', 'United Kingdom', 'Uruguay',\n",
       "       'Uzbekistan', 'Venezuela', 'Vietnam', 'Yemen', 'Yugoslavia',\n",
       "       'Zambia', 'Zimbabwe'], dtype=object)"
      ]
     },
     "execution_count": 73,
     "metadata": {},
     "output_type": "execute_result"
    }
   ],
   "source": [
    "countries = df.country.unique()\n",
    "countries.sort()\n",
    "countries"
   ]
  },
  {
   "cell_type": "code",
   "execution_count": 75,
   "id": "13c866e6",
   "metadata": {},
   "outputs": [
    {
     "data": {
      "text/plain": [
       "ccode  country              \n",
       "200    United Kingdom           578\n",
       "220    France                   547\n",
       "205    Ireland                  438\n",
       "255    Germany                  364\n",
       "501    Kenya                    353\n",
       "                               ... \n",
       "525    South Sudan               10\n",
       "315    Czechoslovakia             6\n",
       "678    Yemen                      5\n",
       "347    Serbia and Montenegro      5\n",
       "260    Germany West               2\n",
       "Length: 169, dtype: int64"
      ]
     },
     "execution_count": 75,
     "metadata": {},
     "output_type": "execute_result"
    }
   ],
   "source": [
    "print_counts(df[['ccode', 'country']])"
   ]
  },
  {
   "cell_type": "code",
   "execution_count": 77,
   "id": "2a96a4d8",
   "metadata": {},
   "outputs": [
    {
     "name": "stdout",
     "output_type": "stream",
     "text": [
      "[1990 1991 1992 1993 1994 1995 1996 1997 1998 1999 2000 2001 2002 2003\n",
      " 2004 2005 2006 2007 2008 2009 2010 2011 2012 2013 2014 2015 2016 2017\n",
      " 2018 2019 2020]\n"
     ]
    },
    {
     "data": {
      "text/plain": [
       "2015    920\n",
       "2019    866\n",
       "2014    830\n",
       "2016    766\n",
       "2018    745\n",
       "2011    739\n",
       "2013    636\n",
       "1990    630\n",
       "2012    604\n",
       "2017    601\n",
       "2005    551\n",
       "1997    546\n",
       "2000    537\n",
       "2006    525\n",
       "1998    511\n",
       "2010    510\n",
       "2007    504\n",
       "2004    498\n",
       "1999    481\n",
       "2002    477\n",
       "1992    475\n",
       "1996    472\n",
       "2008    460\n",
       "1994    457\n",
       "2001    455\n",
       "2003    452\n",
       "2009    439\n",
       "1991    436\n",
       "1995    425\n",
       "1993    390\n",
       "2020    207\n",
       "Name: year, dtype: int64"
      ]
     },
     "execution_count": 77,
     "metadata": {},
     "output_type": "execute_result"
    }
   ],
   "source": [
    "year = df.year.unique()\n",
    "year.sort()\n",
    "print(year)\n",
    "\n",
    "print_counts(df.year)"
   ]
  },
  {
   "cell_type": "code",
   "execution_count": 79,
   "id": "693149c6",
   "metadata": {},
   "outputs": [
    {
     "data": {
      "text/plain": [
       "Europe             5469\n",
       "Africa             3790\n",
       "Asia               3448\n",
       "South America      1713\n",
       "MENA               1585\n",
       "North America       587\n",
       "Central America     503\n",
       "Oceania              50\n",
       "Name: region, dtype: int64"
      ]
     },
     "execution_count": 79,
     "metadata": {},
     "output_type": "execute_result"
    }
   ],
   "source": [
    "print_counts(df.region)"
   ]
  },
  {
   "cell_type": "code",
   "execution_count": 80,
   "id": "dd0ff548",
   "metadata": {},
   "outputs": [
    {
     "data": {
      "text/plain": [
       "1    15239\n",
       "0     1906\n",
       "Name: protest, dtype: int64"
      ]
     },
     "execution_count": 80,
     "metadata": {},
     "output_type": "execute_result"
    }
   ],
   "source": [
    "print_counts(df.protest)"
   ]
  },
  {
   "cell_type": "code",
   "execution_count": 83,
   "id": "f5833475",
   "metadata": {},
   "outputs": [
    {
     "data": {
      "text/plain": [
       "1      2970\n",
       "2      2141\n",
       "0      1906\n",
       "3      1620\n",
       "4      1269\n",
       "       ... \n",
       "135       1\n",
       "119       1\n",
       "103       1\n",
       "134       1\n",
       "143       1\n",
       "Name: protestnumber, Length: 144, dtype: int64"
      ]
     },
     "execution_count": 83,
     "metadata": {},
     "output_type": "execute_result"
    }
   ],
   "source": [
    "print_counts(df.protestnumber)"
   ]
  },
  {
   "cell_type": "code",
   "execution_count": 99,
   "id": "642a7df2",
   "metadata": {},
   "outputs": [
    {
     "name": "stdout",
     "output_type": "stream",
     "text": [
      "Series([], Name: protesterdemand1, dtype: int64)\n",
      "Series([], Name: stateresponse1, dtype: int64)\n",
      "Series([], Name: notes, dtype: int64)\n"
     ]
    }
   ],
   "source": [
    "print(df.loc[df.protestnumber == 0].protesterdemand1.value_counts())\n",
    "print(df.loc[df.protestnumber == 0].stateresponse1.value_counts())\n",
    "print(df.loc[df.protestnumber == 0].notes.value_counts())"
   ]
  },
  {
   "cell_type": "code",
   "execution_count": 100,
   "id": "93033a2c",
   "metadata": {},
   "outputs": [],
   "source": [
    "df = df.loc[df.protest == 1].copy()"
   ]
  },
  {
   "cell_type": "markdown",
   "id": "4dc3cb13",
   "metadata": {},
   "source": [
    "##### Notes: drop all rows with df.protest == 0. This means no protest took place, which can be verified by investigating a sample of those entries. Since this analysis studies only protests, non-protest entries are not of interest."
   ]
  },
  {
   "cell_type": "code",
   "execution_count": 101,
   "id": "724be973",
   "metadata": {},
   "outputs": [
    {
     "name": "stdout",
     "output_type": "stream",
     "text": [
      "<class 'pandas.core.frame.DataFrame'>\n",
      "Int64Index: 15239 entries, 0 to 17141\n",
      "Data columns (total 31 columns):\n",
      " #   Column                 Non-Null Count  Dtype  \n",
      "---  ------                 --------------  -----  \n",
      " 0   id                     15239 non-null  int64  \n",
      " 1   country                15239 non-null  object \n",
      " 2   ccode                  15239 non-null  int64  \n",
      " 3   year                   15239 non-null  int64  \n",
      " 4   region                 15239 non-null  object \n",
      " 5   protest                15239 non-null  int64  \n",
      " 6   protestnumber          15239 non-null  int64  \n",
      " 7   startday               15239 non-null  float64\n",
      " 8   startmonth             15239 non-null  float64\n",
      " 9   startyear              15239 non-null  float64\n",
      " 10  endday                 15239 non-null  float64\n",
      " 11  endmonth               15239 non-null  float64\n",
      " 12  endyear                15239 non-null  float64\n",
      " 13  protesterviolence      15239 non-null  float64\n",
      " 14  location               15218 non-null  object \n",
      " 15  participants_category  9887 non-null   object \n",
      " 16  participants           15227 non-null  object \n",
      " 17  protesteridentity      14684 non-null  object \n",
      " 18  protesterdemand1       15238 non-null  object \n",
      " 19  protesterdemand2       2977 non-null   object \n",
      " 20  protesterdemand3       383 non-null    object \n",
      " 21  protesterdemand4       779 non-null    object \n",
      " 22  stateresponse1         15208 non-null  object \n",
      " 23  stateresponse2         2888 non-null   object \n",
      " 24  stateresponse3         930 non-null    object \n",
      " 25  stateresponse4         244 non-null    object \n",
      " 26  stateresponse5         797 non-null    object \n",
      " 27  stateresponse6         16 non-null     object \n",
      " 28  stateresponse7         857 non-null    object \n",
      " 29  sources                15235 non-null  object \n",
      " 30  notes                  15193 non-null  object \n",
      "dtypes: float64(7), int64(5), object(19)\n",
      "memory usage: 3.7+ MB\n"
     ]
    }
   ],
   "source": [
    "df.info()"
   ]
  },
  {
   "cell_type": "code",
   "execution_count": 102,
   "id": "955400db",
   "metadata": {},
   "outputs": [
    {
     "data": {
      "text/plain": [
       "1.0     854\n",
       "15.0    680\n",
       "25.0    549\n",
       "26.0    532\n",
       "18.0    517\n",
       "20.0    513\n",
       "12.0    512\n",
       "17.0    511\n",
       "9.0     511\n",
       "16.0    509\n",
       "11.0    504\n",
       "8.0     495\n",
       "19.0    492\n",
       "23.0    489\n",
       "22.0    483\n",
       "10.0    482\n",
       "14.0    481\n",
       "7.0     475\n",
       "24.0    473\n",
       "27.0    472\n",
       "6.0     468\n",
       "21.0    467\n",
       "5.0     462\n",
       "4.0     458\n",
       "2.0     448\n",
       "28.0    446\n",
       "13.0    433\n",
       "29.0    431\n",
       "30.0    419\n",
       "3.0     415\n",
       "31.0    258\n",
       "Name: startday, dtype: int64"
      ]
     },
     "execution_count": 102,
     "metadata": {},
     "output_type": "execute_result"
    }
   ],
   "source": [
    "print_counts(df.startday)"
   ]
  },
  {
   "cell_type": "code",
   "execution_count": 103,
   "id": "f9ba6d33",
   "metadata": {},
   "outputs": [
    {
     "data": {
      "text/plain": [
       "3.0     1551\n",
       "5.0     1508\n",
       "2.0     1376\n",
       "1.0     1355\n",
       "4.0     1348\n",
       "11.0    1295\n",
       "10.0    1257\n",
       "9.0     1167\n",
       "6.0     1144\n",
       "7.0     1140\n",
       "12.0    1067\n",
       "8.0     1031\n",
       "Name: startmonth, dtype: int64"
      ]
     },
     "execution_count": 103,
     "metadata": {},
     "output_type": "execute_result"
    }
   ],
   "source": [
    "print_counts(df.startmonth)"
   ]
  },
  {
   "cell_type": "code",
   "execution_count": 104,
   "id": "99e6ac8f",
   "metadata": {},
   "outputs": [
    {
     "data": {
      "text/plain": [
       "2015.0    857\n",
       "2019.0    814\n",
       "2014.0    769\n",
       "2016.0    713\n",
       "2018.0    698\n",
       "2011.0    688\n",
       "2013.0    586\n",
       "1990.0    572\n",
       "2012.0    553\n",
       "2017.0    541\n",
       "2005.0    497\n",
       "1997.0    488\n",
       "2000.0    488\n",
       "2006.0    454\n",
       "2010.0    452\n",
       "2007.0    445\n",
       "1998.0    442\n",
       "2004.0    442\n",
       "2002.0    415\n",
       "1999.0    411\n",
       "1996.0    409\n",
       "1992.0    409\n",
       "2008.0    398\n",
       "2001.0    393\n",
       "1994.0    390\n",
       "2003.0    387\n",
       "2009.0    376\n",
       "1991.0    372\n",
       "1995.0    355\n",
       "1993.0    329\n",
       "2020.0     96\n",
       "Name: startyear, dtype: int64"
      ]
     },
     "execution_count": 104,
     "metadata": {},
     "output_type": "execute_result"
    }
   ],
   "source": [
    "print_counts(df.startyear)"
   ]
  },
  {
   "cell_type": "code",
   "execution_count": 105,
   "id": "2cbcda08",
   "metadata": {},
   "outputs": [
    {
     "data": {
      "text/plain": [
       "1.0     790\n",
       "15.0    657\n",
       "25.0    545\n",
       "9.0     532\n",
       "26.0    528\n",
       "18.0    527\n",
       "19.0    513\n",
       "12.0    510\n",
       "11.0    507\n",
       "22.0    505\n",
       "16.0    502\n",
       "20.0    500\n",
       "10.0    498\n",
       "17.0    495\n",
       "23.0    488\n",
       "8.0     480\n",
       "27.0    478\n",
       "24.0    476\n",
       "5.0     470\n",
       "21.0    469\n",
       "14.0    469\n",
       "7.0     467\n",
       "6.0     465\n",
       "4.0     457\n",
       "29.0    453\n",
       "13.0    452\n",
       "28.0    450\n",
       "30.0    435\n",
       "3.0     428\n",
       "2.0     424\n",
       "31.0    269\n",
       "Name: endday, dtype: int64"
      ]
     },
     "execution_count": 105,
     "metadata": {},
     "output_type": "execute_result"
    }
   ],
   "source": [
    "print_counts(df.endday)"
   ]
  },
  {
   "cell_type": "code",
   "execution_count": 106,
   "id": "0a422436",
   "metadata": {},
   "outputs": [
    {
     "data": {
      "text/plain": [
       "3.0     1553\n",
       "5.0     1500\n",
       "2.0     1378\n",
       "4.0     1352\n",
       "1.0     1328\n",
       "11.0    1292\n",
       "10.0    1270\n",
       "9.0     1163\n",
       "6.0     1153\n",
       "7.0     1143\n",
       "12.0    1085\n",
       "8.0     1022\n",
       "Name: endmonth, dtype: int64"
      ]
     },
     "execution_count": 106,
     "metadata": {},
     "output_type": "execute_result"
    }
   ],
   "source": [
    "print_counts(df.endmonth)"
   ]
  },
  {
   "cell_type": "code",
   "execution_count": 107,
   "id": "358d8e9c",
   "metadata": {},
   "outputs": [
    {
     "data": {
      "text/plain": [
       "2015.0    856\n",
       "2019.0    813\n",
       "2014.0    771\n",
       "2016.0    712\n",
       "2018.0    702\n",
       "2011.0    683\n",
       "2013.0    584\n",
       "1990.0    572\n",
       "2012.0    557\n",
       "2017.0    540\n",
       "2005.0    498\n",
       "1997.0    489\n",
       "2000.0    485\n",
       "2006.0    454\n",
       "2010.0    451\n",
       "2007.0    444\n",
       "1998.0    442\n",
       "2004.0    441\n",
       "2002.0    414\n",
       "1999.0    412\n",
       "1992.0    410\n",
       "1996.0    407\n",
       "2008.0    399\n",
       "2001.0    396\n",
       "1994.0    389\n",
       "2003.0    388\n",
       "2009.0    376\n",
       "1991.0    371\n",
       "1995.0    356\n",
       "1993.0    329\n",
       "2020.0     98\n",
       "Name: endyear, dtype: int64"
      ]
     },
     "execution_count": 107,
     "metadata": {},
     "output_type": "execute_result"
    }
   ],
   "source": [
    "print_counts(df.endyear)"
   ]
  },
  {
   "cell_type": "code",
   "execution_count": 108,
   "id": "2cd52c1c",
   "metadata": {},
   "outputs": [
    {
     "data": {
      "text/plain": [
       "0.0    11204\n",
       "1.0     4035\n",
       "Name: protesterviolence, dtype: int64"
      ]
     },
     "execution_count": 108,
     "metadata": {},
     "output_type": "execute_result"
    }
   ],
   "source": [
    "print_counts(df.protesterviolence)"
   ]
  },
  {
   "cell_type": "code",
   "execution_count": 127,
   "id": "5844a631",
   "metadata": {},
   "outputs": [
    {
     "data": {
      "text/plain": [
       "(4396,)"
      ]
     },
     "execution_count": 127,
     "metadata": {},
     "output_type": "execute_result"
    }
   ],
   "source": [
    "df.location.value_counts().shape"
   ]
  },
  {
   "cell_type": "markdown",
   "id": "ce8004dd",
   "metadata": {},
   "source": [
    "##### 'Locations' column isn't at all standardized. Avoid using unless absolutely necessary. The 'Country' column should provide the necessary information for an MVP"
   ]
  },
  {
   "cell_type": "code",
   "execution_count": 128,
   "id": "f12bf1f1",
   "metadata": {},
   "outputs": [
    {
     "name": "stdout",
     "output_type": "stream",
     "text": [
      "<class 'pandas.core.frame.DataFrame'>\n",
      "Int64Index: 15239 entries, 0 to 17141\n",
      "Data columns (total 31 columns):\n",
      " #   Column                 Non-Null Count  Dtype  \n",
      "---  ------                 --------------  -----  \n",
      " 0   id                     15239 non-null  int64  \n",
      " 1   country                15239 non-null  object \n",
      " 2   ccode                  15239 non-null  int64  \n",
      " 3   year                   15239 non-null  int64  \n",
      " 4   region                 15239 non-null  object \n",
      " 5   protest                15239 non-null  int64  \n",
      " 6   protestnumber          15239 non-null  int64  \n",
      " 7   startday               15239 non-null  float64\n",
      " 8   startmonth             15239 non-null  float64\n",
      " 9   startyear              15239 non-null  float64\n",
      " 10  endday                 15239 non-null  float64\n",
      " 11  endmonth               15239 non-null  float64\n",
      " 12  endyear                15239 non-null  float64\n",
      " 13  protesterviolence      15239 non-null  float64\n",
      " 14  location               15218 non-null  object \n",
      " 15  participants_category  9887 non-null   object \n",
      " 16  participants           15227 non-null  object \n",
      " 17  protesteridentity      14684 non-null  object \n",
      " 18  protesterdemand1       15238 non-null  object \n",
      " 19  protesterdemand2       2977 non-null   object \n",
      " 20  protesterdemand3       383 non-null    object \n",
      " 21  protesterdemand4       779 non-null    object \n",
      " 22  stateresponse1         15208 non-null  object \n",
      " 23  stateresponse2         2888 non-null   object \n",
      " 24  stateresponse3         930 non-null    object \n",
      " 25  stateresponse4         244 non-null    object \n",
      " 26  stateresponse5         797 non-null    object \n",
      " 27  stateresponse6         16 non-null     object \n",
      " 28  stateresponse7         857 non-null    object \n",
      " 29  sources                15235 non-null  object \n",
      " 30  notes                  15193 non-null  object \n",
      "dtypes: float64(7), int64(5), object(19)\n",
      "memory usage: 3.7+ MB\n"
     ]
    }
   ],
   "source": [
    "df.info()"
   ]
  },
  {
   "cell_type": "code",
   "execution_count": 147,
   "id": "2f7f0f69",
   "metadata": {},
   "outputs": [
    {
     "data": {
      "text/plain": [
       "0        False\n",
       "1        False\n",
       "2        False\n",
       "3        False\n",
       "4        False\n",
       "         ...  \n",
       "17136    False\n",
       "17138    False\n",
       "17139    False\n",
       "17140    False\n",
       "17141    False\n",
       "Name: participants, Length: 15239, dtype: bool"
      ]
     },
     "execution_count": 147,
     "metadata": {},
     "output_type": "execute_result"
    }
   ],
   "source": [
    "df.participants.isna()"
   ]
  },
  {
   "cell_type": "code",
   "execution_count": 148,
   "id": "dac52144",
   "metadata": {},
   "outputs": [
    {
     "data": {
      "text/html": [
       "<div>\n",
       "<style scoped>\n",
       "    .dataframe tbody tr th:only-of-type {\n",
       "        vertical-align: middle;\n",
       "    }\n",
       "\n",
       "    .dataframe tbody tr th {\n",
       "        vertical-align: top;\n",
       "    }\n",
       "\n",
       "    .dataframe thead th {\n",
       "        text-align: right;\n",
       "    }\n",
       "</style>\n",
       "<table border=\"1\" class=\"dataframe\">\n",
       "  <thead>\n",
       "    <tr style=\"text-align: right;\">\n",
       "      <th></th>\n",
       "      <th>id</th>\n",
       "      <th>country</th>\n",
       "      <th>ccode</th>\n",
       "      <th>year</th>\n",
       "      <th>region</th>\n",
       "      <th>protest</th>\n",
       "      <th>protestnumber</th>\n",
       "      <th>startday</th>\n",
       "      <th>startmonth</th>\n",
       "      <th>startyear</th>\n",
       "      <th>endday</th>\n",
       "      <th>endmonth</th>\n",
       "      <th>endyear</th>\n",
       "      <th>protesterviolence</th>\n",
       "      <th>location</th>\n",
       "      <th>participants_category</th>\n",
       "      <th>participants</th>\n",
       "      <th>protesteridentity</th>\n",
       "      <th>protesterdemand1</th>\n",
       "      <th>protesterdemand2</th>\n",
       "      <th>protesterdemand3</th>\n",
       "      <th>protesterdemand4</th>\n",
       "      <th>stateresponse1</th>\n",
       "      <th>stateresponse2</th>\n",
       "      <th>stateresponse3</th>\n",
       "      <th>stateresponse4</th>\n",
       "      <th>stateresponse5</th>\n",
       "      <th>stateresponse6</th>\n",
       "      <th>stateresponse7</th>\n",
       "      <th>sources</th>\n",
       "      <th>notes</th>\n",
       "    </tr>\n",
       "  </thead>\n",
       "  <tbody>\n",
       "    <tr>\n",
       "      <th>648</th>\n",
       "      <td>902005006</td>\n",
       "      <td>Guatemala</td>\n",
       "      <td>90</td>\n",
       "      <td>2005</td>\n",
       "      <td>Central America</td>\n",
       "      <td>1</td>\n",
       "      <td>6</td>\n",
       "      <td>16.0</td>\n",
       "      <td>3.0</td>\n",
       "      <td>2005.0</td>\n",
       "      <td>16.0</td>\n",
       "      <td>3.0</td>\n",
       "      <td>2005.0</td>\n",
       "      <td>1.0</td>\n",
       "      <td>Santa Cruz del Quiche</td>\n",
       "      <td>NaN</td>\n",
       "      <td>NaN</td>\n",
       "      <td>NaN</td>\n",
       "      <td>political behavior, process</td>\n",
       "      <td>NaN</td>\n",
       "      <td>NaN</td>\n",
       "      <td>NaN</td>\n",
       "      <td>crowd dispersal</td>\n",
       "      <td>NaN</td>\n",
       "      <td>NaN</td>\n",
       "      <td>NaN</td>\n",
       "      <td>NaN</td>\n",
       "      <td>NaN</td>\n",
       "      <td>NaN</td>\n",
       "      <td>world briefing americas: guatemala: protesters...</td>\n",
       "      <td>eighth day of protests over trade agreement wi...</td>\n",
       "    </tr>\n",
       "    <tr>\n",
       "      <th>842</th>\n",
       "      <td>921997001</td>\n",
       "      <td>El Salvador</td>\n",
       "      <td>92</td>\n",
       "      <td>1997</td>\n",
       "      <td>Central America</td>\n",
       "      <td>1</td>\n",
       "      <td>1</td>\n",
       "      <td>15.0</td>\n",
       "      <td>8.0</td>\n",
       "      <td>1997.0</td>\n",
       "      <td>15.0</td>\n",
       "      <td>8.0</td>\n",
       "      <td>1997.0</td>\n",
       "      <td>0.0</td>\n",
       "      <td>San Salvador</td>\n",
       "      <td>NaN</td>\n",
       "      <td>NaN</td>\n",
       "      <td>bank depositors</td>\n",
       "      <td>political behavior, process</td>\n",
       "      <td>NaN</td>\n",
       "      <td>NaN</td>\n",
       "      <td>NaN</td>\n",
       "      <td>ignore</td>\n",
       "      <td>NaN</td>\n",
       "      <td>NaN</td>\n",
       "      <td>NaN</td>\n",
       "      <td>NaN</td>\n",
       "      <td>NaN</td>\n",
       "      <td>NaN</td>\n",
       "      <td>swindled salvadorans demonstrate the philadelp...</td>\n",
       "      <td>protesters demand government refund losses fro...</td>\n",
       "    </tr>\n",
       "    <tr>\n",
       "      <th>853</th>\n",
       "      <td>922001001</td>\n",
       "      <td>El Salvador</td>\n",
       "      <td>92</td>\n",
       "      <td>2001</td>\n",
       "      <td>Central America</td>\n",
       "      <td>1</td>\n",
       "      <td>1</td>\n",
       "      <td>1.0</td>\n",
       "      <td>5.0</td>\n",
       "      <td>2001.0</td>\n",
       "      <td>1.0</td>\n",
       "      <td>5.0</td>\n",
       "      <td>2001.0</td>\n",
       "      <td>0.0</td>\n",
       "      <td>San Salvador</td>\n",
       "      <td>NaN</td>\n",
       "      <td>NaN</td>\n",
       "      <td>unions, former guerrillas</td>\n",
       "      <td>political behavior, process</td>\n",
       "      <td>NaN</td>\n",
       "      <td>NaN</td>\n",
       "      <td>NaN</td>\n",
       "      <td>ignore</td>\n",
       "      <td>NaN</td>\n",
       "      <td>NaN</td>\n",
       "      <td>NaN</td>\n",
       "      <td>NaN</td>\n",
       "      <td>NaN</td>\n",
       "      <td>NaN</td>\n",
       "      <td>ap photos associated press international, may ...</td>\n",
       "      <td>unions and former guerrillas marched in protes...</td>\n",
       "    </tr>\n",
       "    <tr>\n",
       "      <th>856</th>\n",
       "      <td>922003001</td>\n",
       "      <td>El Salvador</td>\n",
       "      <td>92</td>\n",
       "      <td>2003</td>\n",
       "      <td>Central America</td>\n",
       "      <td>1</td>\n",
       "      <td>1</td>\n",
       "      <td>20.0</td>\n",
       "      <td>2.0</td>\n",
       "      <td>2003.0</td>\n",
       "      <td>20.0</td>\n",
       "      <td>2.0</td>\n",
       "      <td>2003.0</td>\n",
       "      <td>1.0</td>\n",
       "      <td>San Salvador</td>\n",
       "      <td>NaN</td>\n",
       "      <td>NaN</td>\n",
       "      <td>striking health care workers</td>\n",
       "      <td>labor wage dispute</td>\n",
       "      <td>NaN</td>\n",
       "      <td>NaN</td>\n",
       "      <td>NaN</td>\n",
       "      <td>crowd dispersal</td>\n",
       "      <td>NaN</td>\n",
       "      <td>NaN</td>\n",
       "      <td>NaN</td>\n",
       "      <td>NaN</td>\n",
       "      <td>NaN</td>\n",
       "      <td>NaN</td>\n",
       "      <td>protesters storm social security building in e...</td>\n",
       "      <td>striking health workers stormed el salvador s ...</td>\n",
       "    </tr>\n",
       "    <tr>\n",
       "      <th>868</th>\n",
       "      <td>922006004</td>\n",
       "      <td>El Salvador</td>\n",
       "      <td>92</td>\n",
       "      <td>2006</td>\n",
       "      <td>Central America</td>\n",
       "      <td>1</td>\n",
       "      <td>4</td>\n",
       "      <td>5.0</td>\n",
       "      <td>7.0</td>\n",
       "      <td>2006.0</td>\n",
       "      <td>5.0</td>\n",
       "      <td>7.0</td>\n",
       "      <td>2006.0</td>\n",
       "      <td>1.0</td>\n",
       "      <td>San Salvador</td>\n",
       "      <td>NaN</td>\n",
       "      <td>NaN</td>\n",
       "      <td>students</td>\n",
       "      <td>price increases, tax policy</td>\n",
       "      <td>NaN</td>\n",
       "      <td>NaN</td>\n",
       "      <td>NaN</td>\n",
       "      <td>crowd dispersal</td>\n",
       "      <td>shootings</td>\n",
       "      <td>killings</td>\n",
       "      <td>arrests</td>\n",
       "      <td>NaN</td>\n",
       "      <td>NaN</td>\n",
       "      <td>NaN</td>\n",
       "      <td>in el salvador, confrontation between police, ...</td>\n",
       "      <td>students protested increased prices in public ...</td>\n",
       "    </tr>\n",
       "    <tr>\n",
       "      <th>900</th>\n",
       "      <td>931994004</td>\n",
       "      <td>Nicaragua</td>\n",
       "      <td>93</td>\n",
       "      <td>1994</td>\n",
       "      <td>Central America</td>\n",
       "      <td>1</td>\n",
       "      <td>4</td>\n",
       "      <td>23.0</td>\n",
       "      <td>8.0</td>\n",
       "      <td>1994.0</td>\n",
       "      <td>30.0</td>\n",
       "      <td>8.0</td>\n",
       "      <td>1994.0</td>\n",
       "      <td>1.0</td>\n",
       "      <td>Managua</td>\n",
       "      <td>NaN</td>\n",
       "      <td>NaN</td>\n",
       "      <td>transportation workers</td>\n",
       "      <td>price increases, tax policy</td>\n",
       "      <td>NaN</td>\n",
       "      <td>NaN</td>\n",
       "      <td>NaN</td>\n",
       "      <td>crowd dispersal</td>\n",
       "      <td>NaN</td>\n",
       "      <td>NaN</td>\n",
       "      <td>NaN</td>\n",
       "      <td>NaN</td>\n",
       "      <td>NaN</td>\n",
       "      <td>NaN</td>\n",
       "      <td>nicaragua: transportation workers call nationa...</td>\n",
       "      <td>transportation workers strike, protesting fuel...</td>\n",
       "    </tr>\n",
       "    <tr>\n",
       "      <th>3252</th>\n",
       "      <td>2002015008</td>\n",
       "      <td>United Kingdom</td>\n",
       "      <td>200</td>\n",
       "      <td>2015</td>\n",
       "      <td>Europe</td>\n",
       "      <td>1</td>\n",
       "      <td>8</td>\n",
       "      <td>26.0</td>\n",
       "      <td>5.0</td>\n",
       "      <td>2015.0</td>\n",
       "      <td>26.0</td>\n",
       "      <td>5.0</td>\n",
       "      <td>2015.0</td>\n",
       "      <td>0.0</td>\n",
       "      <td>London</td>\n",
       "      <td>2000-4999</td>\n",
       "      <td>NaN</td>\n",
       "      <td>united cabbies group ucg</td>\n",
       "      <td>political behavior, process</td>\n",
       "      <td>NaN</td>\n",
       "      <td>NaN</td>\n",
       "      <td>NaN</td>\n",
       "      <td>ignore</td>\n",
       "      <td>NaN</td>\n",
       "      <td>NaN</td>\n",
       "      <td>NaN</td>\n",
       "      <td>NaN</td>\n",
       "      <td>NaN</td>\n",
       "      <td>.</td>\n",
       "      <td>black cabs block streets in uber protest the t...</td>\n",
       "      <td>part of central london was brought to a stands...</td>\n",
       "    </tr>\n",
       "    <tr>\n",
       "      <th>3885</th>\n",
       "      <td>2112009001</td>\n",
       "      <td>Belgium</td>\n",
       "      <td>211</td>\n",
       "      <td>2009</td>\n",
       "      <td>Europe</td>\n",
       "      <td>1</td>\n",
       "      <td>1</td>\n",
       "      <td>26.0</td>\n",
       "      <td>5.0</td>\n",
       "      <td>2009.0</td>\n",
       "      <td>26.0</td>\n",
       "      <td>5.0</td>\n",
       "      <td>2009.0</td>\n",
       "      <td>0.0</td>\n",
       "      <td>Brussels, Capital Region</td>\n",
       "      <td>1000-1999</td>\n",
       "      <td>NaN</td>\n",
       "      <td>dairy farmers</td>\n",
       "      <td>price increases, tax policy</td>\n",
       "      <td>NaN</td>\n",
       "      <td>NaN</td>\n",
       "      <td>NaN</td>\n",
       "      <td>ignore</td>\n",
       "      <td>NaN</td>\n",
       "      <td>NaN</td>\n",
       "      <td>NaN</td>\n",
       "      <td>NaN</td>\n",
       "      <td>NaN</td>\n",
       "      <td>NaN</td>\n",
       "      <td>farmers go to town over prices the times londo...</td>\n",
       "      <td>although measures were taken by the eu to aid ...</td>\n",
       "    </tr>\n",
       "    <tr>\n",
       "      <th>9073</th>\n",
       "      <td>4391997001</td>\n",
       "      <td>Burkina Faso</td>\n",
       "      <td>439</td>\n",
       "      <td>1997</td>\n",
       "      <td>Africa</td>\n",
       "      <td>1</td>\n",
       "      <td>1</td>\n",
       "      <td>1.0</td>\n",
       "      <td>2.0</td>\n",
       "      <td>1997.0</td>\n",
       "      <td>1.0</td>\n",
       "      <td>2.0</td>\n",
       "      <td>1997.0</td>\n",
       "      <td>0.0</td>\n",
       "      <td>Ouagadougou, Kadiogo Province</td>\n",
       "      <td>100-999</td>\n",
       "      <td>NaN</td>\n",
       "      <td>university students</td>\n",
       "      <td>political behavior, process</td>\n",
       "      <td>NaN</td>\n",
       "      <td>NaN</td>\n",
       "      <td>NaN</td>\n",
       "      <td>crowd dispersal</td>\n",
       "      <td>accomodation</td>\n",
       "      <td>NaN</td>\n",
       "      <td>NaN</td>\n",
       "      <td>NaN</td>\n",
       "      <td>NaN</td>\n",
       "      <td>NaN</td>\n",
       "      <td>police use tear gas to disperse university pro...</td>\n",
       "      <td>agence france presse, february 09, 1997, inter...</td>\n",
       "    </tr>\n",
       "    <tr>\n",
       "      <th>11745</th>\n",
       "      <td>5722004002</td>\n",
       "      <td>Swaziland</td>\n",
       "      <td>572</td>\n",
       "      <td>2004</td>\n",
       "      <td>Africa</td>\n",
       "      <td>1</td>\n",
       "      <td>2</td>\n",
       "      <td>23.0</td>\n",
       "      <td>9.0</td>\n",
       "      <td>2004.0</td>\n",
       "      <td>23.0</td>\n",
       "      <td>9.0</td>\n",
       "      <td>2004.0</td>\n",
       "      <td>0.0</td>\n",
       "      <td>Manzini</td>\n",
       "      <td>1000-1999</td>\n",
       "      <td>NaN</td>\n",
       "      <td>women activists</td>\n",
       "      <td>social restrictions</td>\n",
       "      <td>political behavior, process</td>\n",
       "      <td>NaN</td>\n",
       "      <td>NaN</td>\n",
       "      <td>ignore</td>\n",
       "      <td>NaN</td>\n",
       "      <td>NaN</td>\n",
       "      <td>NaN</td>\n",
       "      <td>NaN</td>\n",
       "      <td>NaN</td>\n",
       "      <td>NaN</td>\n",
       "      <td>women and gender; women protest brutal rape af...</td>\n",
       "      <td>swazi women took to the streets in an unpreced...</td>\n",
       "    </tr>\n",
       "    <tr>\n",
       "      <th>11973</th>\n",
       "      <td>5812003003</td>\n",
       "      <td>Comoros</td>\n",
       "      <td>581</td>\n",
       "      <td>2003</td>\n",
       "      <td>Africa</td>\n",
       "      <td>1</td>\n",
       "      <td>3</td>\n",
       "      <td>15.0</td>\n",
       "      <td>9.0</td>\n",
       "      <td>2003.0</td>\n",
       "      <td>15.0</td>\n",
       "      <td>9.0</td>\n",
       "      <td>2003.0</td>\n",
       "      <td>0.0</td>\n",
       "      <td>Fomboni</td>\n",
       "      <td>1000-1999</td>\n",
       "      <td>NaN</td>\n",
       "      <td>ridja party members</td>\n",
       "      <td>political behavior, process</td>\n",
       "      <td>price increases, tax policy</td>\n",
       "      <td>NaN</td>\n",
       "      <td>NaN</td>\n",
       "      <td>ignore</td>\n",
       "      <td>NaN</td>\n",
       "      <td>NaN</td>\n",
       "      <td>NaN</td>\n",
       "      <td>NaN</td>\n",
       "      <td>NaN</td>\n",
       "      <td>NaN</td>\n",
       "      <td>opposition leader, french citizens detained in...</td>\n",
       "      <td>on september 15, 1,500 people attended a peace...</td>\n",
       "    </tr>\n",
       "    <tr>\n",
       "      <th>12781</th>\n",
       "      <td>6452013004</td>\n",
       "      <td>Iraq</td>\n",
       "      <td>645</td>\n",
       "      <td>2013</td>\n",
       "      <td>MENA</td>\n",
       "      <td>1</td>\n",
       "      <td>4</td>\n",
       "      <td>26.0</td>\n",
       "      <td>1.0</td>\n",
       "      <td>2013.0</td>\n",
       "      <td>26.0</td>\n",
       "      <td>1.0</td>\n",
       "      <td>2013.0</td>\n",
       "      <td>1.0</td>\n",
       "      <td>Falluja, Mosul, Nineveh, Salahuddin, Diyala an...</td>\n",
       "      <td>NaN</td>\n",
       "      <td>NaN</td>\n",
       "      <td>sunnis</td>\n",
       "      <td>removal of politician</td>\n",
       "      <td>NaN</td>\n",
       "      <td>NaN</td>\n",
       "      <td>NaN</td>\n",
       "      <td>shootings</td>\n",
       "      <td>killings</td>\n",
       "      <td>NaN</td>\n",
       "      <td>NaN</td>\n",
       "      <td>NaN</td>\n",
       "      <td>NaN</td>\n",
       "      <td>NaN</td>\n",
       "      <td>deadly turn in protests against iraqi leadersh...</td>\n",
       "      <td>at least seven protesters and two soldiers wer...</td>\n",
       "    </tr>\n",
       "  </tbody>\n",
       "</table>\n",
       "</div>"
      ],
      "text/plain": [
       "               id         country  ccode  year           region  protest  \\\n",
       "648     902005006       Guatemala     90  2005  Central America        1   \n",
       "842     921997001     El Salvador     92  1997  Central America        1   \n",
       "853     922001001     El Salvador     92  2001  Central America        1   \n",
       "856     922003001     El Salvador     92  2003  Central America        1   \n",
       "868     922006004     El Salvador     92  2006  Central America        1   \n",
       "900     931994004       Nicaragua     93  1994  Central America        1   \n",
       "3252   2002015008  United Kingdom    200  2015           Europe        1   \n",
       "3885   2112009001         Belgium    211  2009           Europe        1   \n",
       "9073   4391997001    Burkina Faso    439  1997           Africa        1   \n",
       "11745  5722004002       Swaziland    572  2004           Africa        1   \n",
       "11973  5812003003         Comoros    581  2003           Africa        1   \n",
       "12781  6452013004            Iraq    645  2013             MENA        1   \n",
       "\n",
       "       protestnumber  startday  startmonth  startyear  endday  endmonth  \\\n",
       "648                6      16.0         3.0     2005.0    16.0       3.0   \n",
       "842                1      15.0         8.0     1997.0    15.0       8.0   \n",
       "853                1       1.0         5.0     2001.0     1.0       5.0   \n",
       "856                1      20.0         2.0     2003.0    20.0       2.0   \n",
       "868                4       5.0         7.0     2006.0     5.0       7.0   \n",
       "900                4      23.0         8.0     1994.0    30.0       8.0   \n",
       "3252               8      26.0         5.0     2015.0    26.0       5.0   \n",
       "3885               1      26.0         5.0     2009.0    26.0       5.0   \n",
       "9073               1       1.0         2.0     1997.0     1.0       2.0   \n",
       "11745              2      23.0         9.0     2004.0    23.0       9.0   \n",
       "11973              3      15.0         9.0     2003.0    15.0       9.0   \n",
       "12781              4      26.0         1.0     2013.0    26.0       1.0   \n",
       "\n",
       "       endyear  protesterviolence  \\\n",
       "648     2005.0                1.0   \n",
       "842     1997.0                0.0   \n",
       "853     2001.0                0.0   \n",
       "856     2003.0                1.0   \n",
       "868     2006.0                1.0   \n",
       "900     1994.0                1.0   \n",
       "3252    2015.0                0.0   \n",
       "3885    2009.0                0.0   \n",
       "9073    1997.0                0.0   \n",
       "11745   2004.0                0.0   \n",
       "11973   2003.0                0.0   \n",
       "12781   2013.0                1.0   \n",
       "\n",
       "                                                location  \\\n",
       "648                                Santa Cruz del Quiche   \n",
       "842                                         San Salvador   \n",
       "853                                         San Salvador   \n",
       "856                                         San Salvador   \n",
       "868                                         San Salvador   \n",
       "900                                              Managua   \n",
       "3252                                              London   \n",
       "3885                            Brussels, Capital Region   \n",
       "9073                       Ouagadougou, Kadiogo Province   \n",
       "11745                                            Manzini   \n",
       "11973                                            Fomboni   \n",
       "12781  Falluja, Mosul, Nineveh, Salahuddin, Diyala an...   \n",
       "\n",
       "      participants_category participants             protesteridentity  \\\n",
       "648                     NaN          NaN                           NaN   \n",
       "842                     NaN          NaN               bank depositors   \n",
       "853                     NaN          NaN     unions, former guerrillas   \n",
       "856                     NaN          NaN  striking health care workers   \n",
       "868                     NaN          NaN                      students   \n",
       "900                     NaN          NaN        transportation workers   \n",
       "3252              2000-4999          NaN      united cabbies group ucg   \n",
       "3885              1000-1999          NaN                 dairy farmers   \n",
       "9073                100-999          NaN           university students   \n",
       "11745             1000-1999          NaN               women activists   \n",
       "11973             1000-1999          NaN           ridja party members   \n",
       "12781                   NaN          NaN                        sunnis   \n",
       "\n",
       "                  protesterdemand1             protesterdemand2  \\\n",
       "648    political behavior, process                          NaN   \n",
       "842    political behavior, process                          NaN   \n",
       "853    political behavior, process                          NaN   \n",
       "856             labor wage dispute                          NaN   \n",
       "868    price increases, tax policy                          NaN   \n",
       "900    price increases, tax policy                          NaN   \n",
       "3252   political behavior, process                          NaN   \n",
       "3885   price increases, tax policy                          NaN   \n",
       "9073   political behavior, process                          NaN   \n",
       "11745          social restrictions  political behavior, process   \n",
       "11973  political behavior, process  price increases, tax policy   \n",
       "12781        removal of politician                          NaN   \n",
       "\n",
       "      protesterdemand3 protesterdemand4   stateresponse1 stateresponse2  \\\n",
       "648                NaN              NaN  crowd dispersal            NaN   \n",
       "842                NaN              NaN           ignore            NaN   \n",
       "853                NaN              NaN           ignore            NaN   \n",
       "856                NaN              NaN  crowd dispersal            NaN   \n",
       "868                NaN              NaN  crowd dispersal      shootings   \n",
       "900                NaN              NaN  crowd dispersal            NaN   \n",
       "3252               NaN              NaN           ignore            NaN   \n",
       "3885               NaN              NaN           ignore            NaN   \n",
       "9073               NaN              NaN  crowd dispersal   accomodation   \n",
       "11745              NaN              NaN           ignore            NaN   \n",
       "11973              NaN              NaN           ignore            NaN   \n",
       "12781              NaN              NaN        shootings       killings   \n",
       "\n",
       "      stateresponse3 stateresponse4 stateresponse5 stateresponse6  \\\n",
       "648              NaN            NaN            NaN            NaN   \n",
       "842              NaN            NaN            NaN            NaN   \n",
       "853              NaN            NaN            NaN            NaN   \n",
       "856              NaN            NaN            NaN            NaN   \n",
       "868         killings        arrests            NaN            NaN   \n",
       "900              NaN            NaN            NaN            NaN   \n",
       "3252             NaN            NaN            NaN            NaN   \n",
       "3885             NaN            NaN            NaN            NaN   \n",
       "9073             NaN            NaN            NaN            NaN   \n",
       "11745            NaN            NaN            NaN            NaN   \n",
       "11973            NaN            NaN            NaN            NaN   \n",
       "12781            NaN            NaN            NaN            NaN   \n",
       "\n",
       "      stateresponse7                                            sources  \\\n",
       "648              NaN  world briefing americas: guatemala: protesters...   \n",
       "842              NaN  swindled salvadorans demonstrate the philadelp...   \n",
       "853              NaN  ap photos associated press international, may ...   \n",
       "856              NaN  protesters storm social security building in e...   \n",
       "868              NaN  in el salvador, confrontation between police, ...   \n",
       "900              NaN  nicaragua: transportation workers call nationa...   \n",
       "3252               .  black cabs block streets in uber protest the t...   \n",
       "3885             NaN  farmers go to town over prices the times londo...   \n",
       "9073             NaN  police use tear gas to disperse university pro...   \n",
       "11745            NaN  women and gender; women protest brutal rape af...   \n",
       "11973            NaN  opposition leader, french citizens detained in...   \n",
       "12781            NaN  deadly turn in protests against iraqi leadersh...   \n",
       "\n",
       "                                                   notes  \n",
       "648    eighth day of protests over trade agreement wi...  \n",
       "842    protesters demand government refund losses fro...  \n",
       "853    unions and former guerrillas marched in protes...  \n",
       "856    striking health workers stormed el salvador s ...  \n",
       "868    students protested increased prices in public ...  \n",
       "900    transportation workers strike, protesting fuel...  \n",
       "3252   part of central london was brought to a stands...  \n",
       "3885   although measures were taken by the eu to aid ...  \n",
       "9073   agence france presse, february 09, 1997, inter...  \n",
       "11745  swazi women took to the streets in an unpreced...  \n",
       "11973  on september 15, 1,500 people attended a peace...  \n",
       "12781  at least seven protesters and two soldiers wer...  "
      ]
     },
     "execution_count": 148,
     "metadata": {},
     "output_type": "execute_result"
    }
   ],
   "source": [
    "#print(df.participants_category.value_counts())\n",
    "df.loc[df.participants.isna()]"
   ]
  },
  {
   "cell_type": "markdown",
   "id": "c9741024",
   "metadata": {},
   "source": [
    "### Fill in missing \"Participants Category\" value using the \"Participants\" column. \n",
    "This takes some manual  changes. Everything that can be changed from string to int is done automatically. Everything that can't be done automatically is added to a dictionary to be done manually. This *drastically* reduces any need for manual work"
   ]
  },
  {
   "cell_type": "code",
   "execution_count": 270,
   "id": "67f75fa0",
   "metadata": {},
   "outputs": [
    {
     "name": "stdout",
     "output_type": "stream",
     "text": [
      "Couldn't convert: hundreds  /  hundred\n",
      "Couldn't convert: dozens  /  dozen\n",
      "Couldn't convert: a group  /  a group\n",
      "Couldn't convert: busloads  /  buload\n",
      "Couldn't convert: widespread  /  widepread\n",
      "Couldn't convert: thousands  /  thouand\n",
      "Couldn't convert: several hundred  /  everal hundred\n",
      "Couldn't convert: tens of thousands  /  tenthouand\n",
      "Couldn't convert: more than 1500 detained  /   1500 detained\n",
      "Couldn't convert: 230 families  /  230 familie\n",
      "Couldn't convert: several dozen  /  everal dozen\n",
      "Couldn't convert: Tens of thousands  /  tenthouand\n",
      "Couldn't convert: hundreds   /  hundred \n",
      "Couldn't convert: hundreds of thousands  /  hundredthouand\n",
      "Couldn't convert: 164 arrested  /  164 arreted\n",
      "Couldn't convert: Thousands  /  thouand\n",
      "Couldn't convert: several dozen arrests  /  everal dozen arret\n",
      "Couldn't convert: several thousand  /  everal thouand\n",
      "Couldn't convert: more than 400 arrested  /   400 arreted\n",
      "Couldn't convert: Hundreds of thousands  /  hundredthouand\n",
      "Couldn't convert: 20 arrested  /  20 arreted\n",
      "Couldn't convert: 300 arrested  /  300 arreted\n",
      "Couldn't convert: Several thousand protesters  /  everal thouand \n",
      "Couldn't convert: Demonstrators  /  \n",
      "Couldn't convert: Large demonstrations  /  large demontration\n",
      "Couldn't convert: Huge protests  /  huge protet\n",
      "Couldn't convert: Hundreds of student protesters  /  hundredtudent \n",
      "Couldn't convert: Several thousand  /  everal thouand\n",
      "Couldn't convert: Mass protests  /  ma protet\n",
      "Couldn't convert: HUNDREDS OF thousands of Venezuelans  /  hundredthouandvenezuelan\n",
      "Couldn't convert: \"Rocked by protests\"  /  \"rocked by protet\"\n",
      "Couldn't convert: More than seven million people  /   even million \n",
      "Couldn't convert: Millions  /  million\n",
      "Couldn't convert: Hundreds of youths  /  hundredyouth\n",
      "Couldn't convert: A general strike that paralysed Venezuela  /  a general trike that paralyed venezuela\n",
      "Couldn't convert: Protesters on whom the government security forces used water cannons, rubber bullets and batons  /   on whom the gnment ecurity force ued water cannon rubber bullet and baton\n",
      "Couldn't convert: A few hundred people  /  a few hundred \n",
      "Couldn't convert: About a hundred protesters  /   a hundred \n",
      "Couldn't convert: Hundreds of Venezuelans  /  hundredvenezuelan\n",
      "Couldn't convert: 16 killed  /  16 killed\n",
      "Couldn't convert: .  /  .\n",
      "Couldn't convert: a few dozen  /  a few dozen\n",
      "Couldn't convert: a few thousand  /  a few thouand\n",
      "Couldn't convert: 25 protesters injured  /  25  injured\n",
      "Couldn't convert: hundreds of thousands to 1.4 million  /  hundredthouand-1.4 million\n",
      "Couldn't convert: scores  /  core\n",
      "Couldn't convert: more than a dozen schools  /   a dozen chool\n",
      "Couldn't convert: dozens arrested   /  dozen arreted \n",
      "Couldn't convert: over 100 arrested  /   100 arreted\n",
      "Couldn't convert: Thousands   /  thouand \n",
      "Couldn't convert: very low thousands  /  very low thouand\n",
      "Couldn't convert: several hundreds  /  everal hundred\n",
      "Couldn't convert: between 35,000 and 50,000  /  between 35000 and 50000\n",
      "Couldn't convert: Hundreds  /  hundred\n",
      "Couldn't convert: hundreds    /  hundred  \n",
      "Couldn't convert: several 1000s  /  everal 1000\n",
      "Couldn't convert: hundreds of thousands   /  hundredthouand \n",
      "Couldn't convert: Dozens  /  dozen\n",
      "Couldn't convert: several dozens  /  everal dozen\n",
      "Couldn't convert: a few hundreds  /  a few hundred\n",
      "Couldn't convert: millions  /  million\n",
      "Couldn't convert: 28 LGBT groups  /  28 lgbt group\n",
      "Couldn't convert: teachers and pupils  /   and pupil\n",
      "Couldn't convert: few thousand  /  few thouand\n",
      "Couldn't convert: 1 million  /  1 million\n",
      "Couldn't convert: between 100000 & 300000  /  between 100000 & 300000\n",
      "Couldn't convert: several hundred thousands  /  everal hundred thouand\n",
      "Couldn't convert: a few thousand   /  a few thouand \n",
      "Couldn't convert: couple thousands  /  couple thouand\n",
      "Couldn't convert: between 7500-25000  /  between 7500-25000\n",
      "Couldn't convert: 200 arrested  /  200 arreted\n",
      "Couldn't convert: > 50 < 100   /   50  100 \n",
      "Couldn't convert: 50 arrested  /  50 arreted\n",
      "Couldn't convert: btw. 20000 & 30000  /  btw. 20000 & 30000\n",
      "Couldn't convert: A few hundred  /  a few hundred\n",
      "Couldn't convert: scores (>50)  /  core (50)\n",
      "Couldn't convert: a few hundred  /  a few hundred\n",
      "Couldn't convert: several thousand   /  everal thouand \n",
      "Couldn't convert: dozens arrested  /  dozen arreted\n",
      "Couldn't convert: up to two million  /   two million\n",
      "Couldn't convert: increasingly large gatherings  /  increaingly large gathering\n",
      "Couldn't convert: over a million  /   a million\n",
      "Couldn't convert: few dozen  /  few dozen\n",
      "Couldn't convert: 100 wounded  /  100 wounded\n",
      "Couldn't convert: 12 arrested  /  12 arreted\n",
      "Couldn't convert: 4000 arrested  /  4000 arreted\n",
      "Couldn't convert: a few hundred   /  a few hundred \n",
      "Couldn't convert: The organisers said more than 3,000 people; police said the turnout was 830 at its peak  /  the organier aid  3000 ; police aid the turnout wa 830 at it peak\n",
      "Couldn't convert: Hundreds of people  /  hundred\n",
      "Couldn't convert: Hundreds of workers  /  hundredworker\n",
      "Couldn't convert: Estimated number of protesters at 10,000  /   number at 10000\n",
      "Couldn't convert: Thousands of miners  /  thouandminer\n",
      "Couldn't convert: Several hundred demonstrators  /  everal hundred \n",
      "Couldn't convert: Hundreds of villagers  /  hundred\n",
      "Couldn't convert: About 100 taxis  /   100 taxi\n",
      "Couldn't convert: Thousands of people  /  thouand\n",
      "Couldn't convert: The Civil Human Rights Front said 110,000 people; The Hong Kong police said about 20,000  /  the civil human right front aid 110000 ; the hong kong police aid  20000\n",
      "Couldn't convert: March organiser and legal-sector lawmaker Dennis Kwok, said more than 2,000 people joined the protest. Police put the turnout at 1,700.  /  march organier and legal-ector lawmaker denni kwok aid  2000  joined the protet. police put the turnout at 1700.\n",
      "Couldn't convert: 30 arrested  /  30 arreted\n",
      "Couldn't convert: Between 11000 and 45000  /  between 11000 and 45000\n",
      "Couldn't convert: Tens of thousands of people  /  tenthouand\n",
      "Couldn't convert: Crowds  /  crowd\n",
      "Couldn't convert: Hundreds of college students  /  hundredcollege tudent\n",
      "Couldn't convert: Widespread protests throughout the valley  /  widepread protet throughout the valley\n",
      "Couldn't convert: Volunteers and a line formed of people participating to cook beef and share it with strangers in the streets  /  volunteer and a line formed participating-cook beef and hare it with tranger in the treet\n",
      "Couldn't convert: Thousands of Indians, including Bollywood actors  /  thouandindian including bollywood actor\n",
      "Couldn't convert: Civilians; a crowd  /  civilian; a crowd\n",
      "Couldn't convert: Protests across India  /  protet acro india\n",
      "Couldn't convert: Hundreds of residents  /  hundred\n",
      "Couldn't convert: As many as 25,000 protesters  /  a many a 25000 \n",
      "Couldn't convert: Several hundred  /  everal hundred\n",
      "Couldn't convert: Mass demonstrations  /  ma demontration\n",
      "Couldn't convert: In northern Chiang Mai province, 200 kamnans and village heads; in Phetchaburi, about 400 kamnans and village heads  /  in northern chiang mai province 200 kamnan and village head; in phetchaburi  400 kamnan and village head\n",
      "Couldn't convert: More than 200 campaigners  /   200 er\n",
      "Couldn't convert: 97 public organisations  /  97 public organiation\n",
      "Couldn't convert: About 100 activists, including 39 suspects who were summoned, and 66 more suspects who would be summoned to face charges later  /   100  including 39 upect who were ummoned and 66 more upect who would be ummoned-face charge later\n",
      "Couldn't convert: 57 former estate workers  /  57 former etate worker\n",
      "Couldn't convert: Estimated to be 15,500  /  -be 15500\n",
      "MANUALLY CONVERT THE FOLLOWING VALUES (ALGORITMS COULDN'T SOLVE)\n"
     ]
    }
   ],
   "source": [
    "# Gather array of unique 'participants' values\n",
    "participants_unique = df.participants.dropna().unique()\n",
    "\n",
    "\n",
    "converter = {}\n",
    "unable_to_convert = {}\n",
    "\n",
    "# Create dictionary to convert messy strings to ints\n",
    "for participant in participants_unique:\n",
    "    \n",
    "    # Try simply converting to integer\n",
    "    try:\n",
    "        converter[participant] = int(participant)\n",
    "    \n",
    "    # Else remove commonly unnecessary characters\n",
    "    except:\n",
    "        participant_clean = str.lower(participant)\\\n",
    "                               .replace('+', '')\\\n",
    "                               .replace(',', '')\\\n",
    "                               .replace('>', '')\\\n",
    "                               .replace('<', '')\\\n",
    "                               .replace('about', '')\\\n",
    "                               .replace('around', '')\\\n",
    "                               .replace('almost','')\\\n",
    "                               .replace('more than','')\\\n",
    "                               .replace('less than', '')\\\n",
    "                               .replace('at least', '')\\\n",
    "                               .replace('over', '')\\\n",
    "                               .replace('nearly', '')\\\n",
    "                               .replace('up to', '')\\\n",
    "                               .replace('people', '')\\\n",
    "                               .replace('some', '')\\\n",
    "                               .replace('estimated', '')\\\n",
    "                               .replace('protester', '')\\\n",
    "                               .replace('construction worker', '')\\\n",
    "                               .replace('member', '')\\\n",
    "                               .replace('citizen', '')\\\n",
    "                               .replace('parent', '')\\\n",
    "                               .replace('local', '')\\\n",
    "                               .replace('demonstrator', '')\\\n",
    "                               .replace('teacher', '')\\\n",
    "                               .replace('activist', '')\\\n",
    "                               .replace('supporter', '')\\\n",
    "                               .replace('villager', '')\\\n",
    "                               .replace('campaign', '')\\\n",
    "                               .replace('campaigner', '')\\\n",
    "                               .replace('driver', '')\\\n",
    "                               .replace('resident', '')\\\n",
    "                               .replace('participant', '')\\\n",
    "                               .replace(' of ', '')\\\n",
    "                               .replace('_', '')\\\n",
    "                               .replace(' to ', '-')\\\n",
    "                               .replace('s', '')\n",
    "        # Try converting clean value\n",
    "        try:\n",
    "            \n",
    "            # Append to converter dictionary if successful\n",
    "            converter[participant] = int(participant_clean)\n",
    "            \n",
    "        # Else convert values of format \"x-y\"\n",
    "        except:\n",
    "            try:\n",
    "                # Split \"x-y\" format\n",
    "                participant_range = str.split(participant_clean, '-')\n",
    "                \n",
    "                # Convert both \"x\" and \"y\" to ints before averaging\n",
    "                avg = (int(participant_range[0]) + int(participant_range[1])) / 2\n",
    "                \n",
    "                # Append to converter dictionary if successful\n",
    "                converter[participant] = int(avg)\n",
    "        \n",
    "        \n",
    "            # Else create dict to manually clean\n",
    "            except:\n",
    "                print(\"Couldn't convert: {}  /  {}\".format(participant, participant_clean))\n",
    "                unable_to_convert[participant] = '?????'\n",
    "            \n",
    "print(\"MANUALLY CONVERT THE FOLLOWING VALUES (ALGORITMS COULDN'T SOLVE)\")"
   ]
  },
  {
   "cell_type": "code",
   "execution_count": 271,
   "id": "658b3c82",
   "metadata": {},
   "outputs": [],
   "source": [
    "# Manually define remaining conversions\n",
    "path_cleaning_dict = os.path.join('..', 'data', 'processed', 'clean_protester_count.csv')\n",
    "cleaning_dict = pd.read_csv(path_cleaning_dict)\n",
    "for original, clean in zip(cleaning_dict.iloc[:, 0], cleaning_dict.iloc[:, 1]):\n",
    "    try:\n",
    "        converter[original] = int(clean)\n",
    "    except:\n",
    "        pass"
   ]
  },
  {
   "cell_type": "code",
   "execution_count": 276,
   "id": "fcdd9cbb",
   "metadata": {},
   "outputs": [
    {
     "data": {
      "text/plain": [
       "100-999       3204\n",
       "50-99         2508\n",
       "2000-4999     1580\n",
       ">10000        1470\n",
       "5000-10000     642\n",
       "1000-1999      483\n",
       "Name: participants_category, dtype: int64"
      ]
     },
     "execution_count": 276,
     "metadata": {},
     "output_type": "execute_result"
    }
   ],
   "source": [
    "df['participants_category'].value_counts()"
   ]
  },
  {
   "cell_type": "code",
   "execution_count": 286,
   "id": "e1f1d863",
   "metadata": {},
   "outputs": [
    {
     "name": "stdout",
     "output_type": "stream",
     "text": [
      "<class 'pandas.core.frame.DataFrame'>\n",
      "Int64Index: 15239 entries, 0 to 17141\n",
      "Data columns (total 32 columns):\n",
      " #   Column                 Non-Null Count  Dtype  \n",
      "---  ------                 --------------  -----  \n",
      " 0   id                     15239 non-null  int64  \n",
      " 1   country                15239 non-null  object \n",
      " 2   ccode                  15239 non-null  int64  \n",
      " 3   year                   15239 non-null  int64  \n",
      " 4   region                 15239 non-null  object \n",
      " 5   protest                15239 non-null  int64  \n",
      " 6   protestnumber          15239 non-null  int64  \n",
      " 7   startday               15239 non-null  float64\n",
      " 8   startmonth             15239 non-null  float64\n",
      " 9   startyear              15239 non-null  float64\n",
      " 10  endday                 15239 non-null  float64\n",
      " 11  endmonth               15239 non-null  float64\n",
      " 12  endyear                15239 non-null  float64\n",
      " 13  protesterviolence      15239 non-null  float64\n",
      " 14  location               15218 non-null  object \n",
      " 15  participants_category  9887 non-null   object \n",
      " 16  participants           15227 non-null  object \n",
      " 17  protesteridentity      14684 non-null  object \n",
      " 18  protesterdemand1       15238 non-null  object \n",
      " 19  protesterdemand2       2977 non-null   object \n",
      " 20  protesterdemand3       383 non-null    object \n",
      " 21  protesterdemand4       779 non-null    object \n",
      " 22  stateresponse1         15208 non-null  object \n",
      " 23  stateresponse2         2888 non-null   object \n",
      " 24  stateresponse3         930 non-null    object \n",
      " 25  stateresponse4         244 non-null    object \n",
      " 26  stateresponse5         797 non-null    object \n",
      " 27  stateresponse6         16 non-null     object \n",
      " 28  stateresponse7         857 non-null    object \n",
      " 29  sources                15235 non-null  object \n",
      " 30  notes                  15193 non-null  object \n",
      " 31  participants_clean     15105 non-null  Int64  \n",
      "dtypes: Int64(1), float64(7), int64(5), object(19)\n",
      "memory usage: 3.9+ MB\n"
     ]
    }
   ],
   "source": [
    "# Add new column for the clean values\n",
    "df['participants_clean'] = df['participants'].map(converter).astype('Int64')\n",
    "df.info()"
   ]
  },
  {
   "cell_type": "code",
   "execution_count": 288,
   "id": "8196beb7",
   "metadata": {},
   "outputs": [
    {
     "data": {
      "text/plain": [
       "100-999       3204\n",
       "50-99         2508\n",
       "2000-4999     1580\n",
       ">10000        1470\n",
       "5000-10000     642\n",
       "1000-1999      483\n",
       "Name: participants_category, dtype: int64"
      ]
     },
     "execution_count": 288,
     "metadata": {},
     "output_type": "execute_result"
    }
   ],
   "source": [
    "df.participants_category.value_counts()"
   ]
  },
  {
   "cell_type": "code",
   "execution_count": 365,
   "id": "7c6d3b8a",
   "metadata": {},
   "outputs": [
    {
     "data": {
      "text/plain": [
       "{'50-99': [50, 99],\n",
       " '100-999': [100, 999],\n",
       " '2000-4999': [2000, 4999],\n",
       " '1000-1999': [1000, 1999],\n",
       " '5000-10000': [5000, 10000],\n",
       " '>10000': [10001, 1000000000000000]}"
      ]
     },
     "execution_count": 365,
     "metadata": {},
     "output_type": "execute_result"
    }
   ],
   "source": [
    "categories_dict = df.participants_category.dropna().unique()\n",
    "ranges = [str.split(cat, '-') for cat in categories_dict]\n",
    "categories_dict = dict(zip(categories_dict, ranges))\n",
    "categories_dict['>10000'] = [10001, 10**15]\n",
    "for cat in categories_dict:\n",
    "    lo = int(categories_dict[cat][0])\n",
    "    hi = int(categories_dict[cat][1])\n",
    "    categories_dict[cat] = [lo, hi]"
   ]
  },
  {
   "cell_type": "code",
   "execution_count": 335,
   "id": "adef4679",
   "metadata": {},
   "outputs": [
    {
     "data": {
      "image/png": "[encoded data removed]",
      "text/plain": [
       "<Figure size 432x288 with 1 Axes>"
      ]
     },
     "metadata": {
      "needs_background": "light"
     },
     "output_type": "display_data"
    },
    {
     "data": {
      "image/png": "[encoded data removed]",
      "text/plain": [
       "<Figure size 432x288 with 1 Axes>"
      ]
     },
     "metadata": {
      "needs_background": "light"
     },
     "output_type": "display_data"
    }
   ],
   "source": [
    "plt.figure()\n",
    "df.participants_clean.dropna().sort_values().hist(bins=25);\n",
    "plt.title('Participant Turnout Hist')\n",
    "\n",
    "\n",
    "plt.figure()\n",
    "df.participants_clean.dropna().sort_values().hist(bins=2000)\n",
    "plt.xlim([0, 50000])\n",
    "plt.title('Participant Turnout Hist (Lower Values)');"
   ]
  },
  {
   "cell_type": "code",
   "execution_count": 337,
   "id": "752bb333",
   "metadata": {},
   "outputs": [
    {
     "name": "stdout",
     "output_type": "stream",
     "text": [
      "<class 'pandas.core.frame.DataFrame'>\n",
      "Int64Index: 15239 entries, 0 to 17141\n",
      "Data columns (total 32 columns):\n",
      " #   Column                 Non-Null Count  Dtype  \n",
      "---  ------                 --------------  -----  \n",
      " 0   id                     15239 non-null  int64  \n",
      " 1   country                15239 non-null  object \n",
      " 2   ccode                  15239 non-null  int64  \n",
      " 3   year                   15239 non-null  int64  \n",
      " 4   region                 15239 non-null  object \n",
      " 5   protest                15239 non-null  int64  \n",
      " 6   protestnumber          15239 non-null  int64  \n",
      " 7   startday               15239 non-null  float64\n",
      " 8   startmonth             15239 non-null  float64\n",
      " 9   startyear              15239 non-null  float64\n",
      " 10  endday                 15239 non-null  float64\n",
      " 11  endmonth               15239 non-null  float64\n",
      " 12  endyear                15239 non-null  float64\n",
      " 13  protesterviolence      15239 non-null  float64\n",
      " 14  location               15218 non-null  object \n",
      " 15  participants_category  9887 non-null   object \n",
      " 16  participants           15227 non-null  object \n",
      " 17  protesteridentity      14684 non-null  object \n",
      " 18  protesterdemand1       15238 non-null  object \n",
      " 19  protesterdemand2       2977 non-null   object \n",
      " 20  protesterdemand3       383 non-null    object \n",
      " 21  protesterdemand4       779 non-null    object \n",
      " 22  stateresponse1         15208 non-null  object \n",
      " 23  stateresponse2         2888 non-null   object \n",
      " 24  stateresponse3         930 non-null    object \n",
      " 25  stateresponse4         244 non-null    object \n",
      " 26  stateresponse5         797 non-null    object \n",
      " 27  stateresponse6         16 non-null     object \n",
      " 28  stateresponse7         857 non-null    object \n",
      " 29  sources                15235 non-null  object \n",
      " 30  notes                  15193 non-null  object \n",
      " 31  participants_clean     15105 non-null  Int64  \n",
      "dtypes: Int64(1), float64(7), int64(5), object(19)\n",
      "memory usage: 3.9+ MB\n"
     ]
    }
   ],
   "source": [
    "df.info()"
   ]
  },
  {
   "cell_type": "code",
   "execution_count": 350,
   "id": "55f5cb3c",
   "metadata": {},
   "outputs": [
    {
     "data": {
      "text/plain": [
       "{'50-99': ['50', '99'],\n",
       " '100-999': ['100', '999'],\n",
       " '2000-4999': ['2000', '4999'],\n",
       " '1000-1999': ['1000', '1999'],\n",
       " '5000-10000': ['5000', '10000'],\n",
       " '>10000': [10001, 1000000000000000]}"
      ]
     },
     "execution_count": 350,
     "metadata": {},
     "output_type": "execute_result"
    }
   ],
   "source": [
    "categories_dict"
   ]
  },
  {
   "cell_type": "code",
   "execution_count": 375,
   "id": "29a73028",
   "metadata": {
    "tags": []
   },
   "outputs": [],
   "source": [
    "def pick_bucket(x):\n",
    "    if pd.isna(x):\n",
    "        return np.nan\n",
    "    \n",
    "    for key in categories_dict:\n",
    "        lim_low = categories_dict[key][0]\n",
    "        lim_hi = categories_dict[key][1]\n",
    "        \n",
    "        if (x >= lim_low) and (x <= lim_hi):\n",
    "            return key\n",
    "    return np.nan\n",
    "\n",
    "df['participants_category_clean'] = df.participants_clean.apply(pick_bucket)"
   ]
  },
  {
   "cell_type": "code",
   "execution_count": 376,
   "id": "f63b540a",
   "metadata": {},
   "outputs": [
    {
     "name": "stdout",
     "output_type": "stream",
     "text": [
      "<class 'pandas.core.frame.DataFrame'>\n",
      "Int64Index: 15239 entries, 0 to 17141\n",
      "Data columns (total 33 columns):\n",
      " #   Column                       Non-Null Count  Dtype  \n",
      "---  ------                       --------------  -----  \n",
      " 0   id                           15239 non-null  int64  \n",
      " 1   country                      15239 non-null  object \n",
      " 2   ccode                        15239 non-null  int64  \n",
      " 3   year                         15239 non-null  int64  \n",
      " 4   region                       15239 non-null  object \n",
      " 5   protest                      15239 non-null  int64  \n",
      " 6   protestnumber                15239 non-null  int64  \n",
      " 7   startday                     15239 non-null  float64\n",
      " 8   startmonth                   15239 non-null  float64\n",
      " 9   startyear                    15239 non-null  float64\n",
      " 10  endday                       15239 non-null  float64\n",
      " 11  endmonth                     15239 non-null  float64\n",
      " 12  endyear                      15239 non-null  float64\n",
      " 13  protesterviolence            15239 non-null  float64\n",
      " 14  location                     15218 non-null  object \n",
      " 15  participants_category        9887 non-null   object \n",
      " 16  participants                 15227 non-null  object \n",
      " 17  protesteridentity            14684 non-null  object \n",
      " 18  protesterdemand1             15238 non-null  object \n",
      " 19  protesterdemand2             2977 non-null   object \n",
      " 20  protesterdemand3             383 non-null    object \n",
      " 21  protesterdemand4             779 non-null    object \n",
      " 22  stateresponse1               15208 non-null  object \n",
      " 23  stateresponse2               2888 non-null   object \n",
      " 24  stateresponse3               930 non-null    object \n",
      " 25  stateresponse4               244 non-null    object \n",
      " 26  stateresponse5               797 non-null    object \n",
      " 27  stateresponse6               16 non-null     object \n",
      " 28  stateresponse7               857 non-null    object \n",
      " 29  sources                      15235 non-null  object \n",
      " 30  notes                        15193 non-null  object \n",
      " 31  participants_clean           15105 non-null  Int64  \n",
      " 32  participants_category_clean  14991 non-null  object \n",
      "dtypes: Int64(1), float64(7), int64(5), object(20)\n",
      "memory usage: 4.5+ MB\n"
     ]
    }
   ],
   "source": [
    "df.info()"
   ]
  },
  {
   "cell_type": "markdown",
   "id": "dbb3f92c",
   "metadata": {},
   "source": [
    "#### Move on beyond Protester Counts\n",
    "\n",
    "Next: protesteridentity"
   ]
  },
  {
   "cell_type": "code",
   "execution_count": 382,
   "id": "3923acc2",
   "metadata": {},
   "outputs": [
    {
     "data": {
      "text/plain": [
       "protesters                                                   1541\n",
       "students                                                      646\n",
       "workers                                                       273\n",
       "farmers                                                       219\n",
       "residents                                                     171\n",
       "                                                             ... \n",
       "anti gay marriage activists                                     1\n",
       "national council of dockworkers unions of japan                 1\n",
       "teachers and other government workers                           1\n",
       "supporters of the people s national congress                    1\n",
       "farmers and workers belonging to the militant bayan group       1\n",
       "Name: protesteridentity, Length: 5783, dtype: int64"
      ]
     },
     "execution_count": 382,
     "metadata": {},
     "output_type": "execute_result"
    }
   ],
   "source": [
    "# Replace unknowns with np.nan\n",
    "df.protesteridentity.replace('unspecified', np.nan, inplace=True)\n",
    "\n",
    "df.protesteridentity.value_counts()"
   ]
  },
  {
   "cell_type": "markdown",
   "id": "13746e4e",
   "metadata": {},
   "source": [
    "### Protester Demands"
   ]
  },
  {
   "cell_type": "code",
   "execution_count": 386,
   "id": "64f1d7ff",
   "metadata": {},
   "outputs": [
    {
     "name": "stdout",
     "output_type": "stream",
     "text": [
      "political behavior, process    9680\n",
      "labor wage dispute             1710\n",
      "price increases, tax policy    1087\n",
      "removal of politician          1011\n",
      "police brutality                825\n",
      "land farm issue                 467\n",
      "social restrictions             458\n",
      "Name: protesterdemand1, dtype: int64\n",
      "-----\n",
      "political behavior, process    1004\n",
      "removal of politician           768\n",
      "labor wage dispute              438\n",
      "police brutality                241\n",
      "price increases, tax policy     214\n",
      "social restrictions             212\n",
      "land farm issue                 100\n",
      "Name: protesterdemand2, dtype: int64\n",
      "-----\n",
      "price increases, tax policy    111\n",
      "removal of politician           94\n",
      "political behavior, process     63\n",
      "labor wage dispute              61\n",
      "police brutality                28\n",
      "social restrictions             14\n",
      "land farm issue                 12\n",
      "Name: protesterdemand3, dtype: int64\n",
      "-----\n",
      ".                              744\n",
      "removal of politician           18\n",
      "police brutality                 7\n",
      "political behavior, process      3\n",
      "land farm issue                  3\n",
      "price increases, tax policy      2\n",
      "labor wage dispute               2\n",
      "Name: protesterdemand4, dtype: int64\n"
     ]
    }
   ],
   "source": [
    "print(df.protesterdemand1.value_counts())\n",
    "print('-----')\n",
    "print(df.protesterdemand2.value_counts())\n",
    "print('-----')\n",
    "print(df.protesterdemand3.value_counts())\n",
    "print('-----')\n",
    "print(df.protesterdemand4.value_counts())"
   ]
  },
  {
   "cell_type": "code",
   "execution_count": 413,
   "id": "5e1e507f",
   "metadata": {},
   "outputs": [
    {
     "data": {
      "text/plain": [
       "{'labor wage dispute',\n",
       " 'land farm issue',\n",
       " 'police brutality',\n",
       " 'political behavior, process',\n",
       " 'price increases, tax policy',\n",
       " 'removal of politician',\n",
       " 'social restrictions'}"
      ]
     },
     "execution_count": 413,
     "metadata": {},
     "output_type": "execute_result"
    }
   ],
   "source": [
    "# Create list of unique demands\n",
    "demands = np.concatenate([df.protesterdemand1.dropna().unique(), \n",
    "                          df.protesterdemand2.dropna().unique(),\n",
    "                          df.protesterdemand3.dropna().unique(), \n",
    "                          df.protesterdemand4.dropna().unique()])\n",
    "# Verify there are only 7 demands as indicated by data manual\n",
    "set(demands)"
   ]
  },
  {
   "cell_type": "code",
   "execution_count": 414,
   "id": "95da2caf",
   "metadata": {},
   "outputs": [],
   "source": [
    "# Replace '.' with np.nan\n",
    "df.protesterdemand1.replace('.', np.nan, inplace=True)\n",
    "df.protesterdemand2.replace('.', np.nan, inplace=True)\n",
    "df.protesterdemand3.replace('.', np.nan, inplace=True)\n",
    "df.protesterdemand4.replace('.', np.nan, inplace=True)"
   ]
  },
  {
   "cell_type": "code",
   "execution_count": 415,
   "id": "1fbdfea1",
   "metadata": {},
   "outputs": [
    {
     "name": "stdout",
     "output_type": "stream",
     "text": [
      "<class 'pandas.core.frame.DataFrame'>\n",
      "Int64Index: 15239 entries, 0 to 17141\n",
      "Data columns (total 33 columns):\n",
      " #   Column                       Non-Null Count  Dtype  \n",
      "---  ------                       --------------  -----  \n",
      " 0   id                           15239 non-null  int64  \n",
      " 1   country                      15239 non-null  object \n",
      " 2   ccode                        15239 non-null  int64  \n",
      " 3   year                         15239 non-null  int64  \n",
      " 4   region                       15239 non-null  object \n",
      " 5   protest                      15239 non-null  int64  \n",
      " 6   protestnumber                15239 non-null  int64  \n",
      " 7   startday                     15239 non-null  float64\n",
      " 8   startmonth                   15239 non-null  float64\n",
      " 9   startyear                    15239 non-null  float64\n",
      " 10  endday                       15239 non-null  float64\n",
      " 11  endmonth                     15239 non-null  float64\n",
      " 12  endyear                      15239 non-null  float64\n",
      " 13  protesterviolence            15239 non-null  float64\n",
      " 14  location                     15218 non-null  object \n",
      " 15  participants_category        9887 non-null   object \n",
      " 16  participants                 15227 non-null  object \n",
      " 17  protesteridentity            14460 non-null  object \n",
      " 18  protesterdemand1             15238 non-null  object \n",
      " 19  protesterdemand2             2977 non-null   object \n",
      " 20  protesterdemand3             383 non-null    object \n",
      " 21  protesterdemand4             35 non-null     object \n",
      " 22  stateresponse1               15208 non-null  object \n",
      " 23  stateresponse2               2888 non-null   object \n",
      " 24  stateresponse3               930 non-null    object \n",
      " 25  stateresponse4               244 non-null    object \n",
      " 26  stateresponse5               797 non-null    object \n",
      " 27  stateresponse6               16 non-null     object \n",
      " 28  stateresponse7               857 non-null    object \n",
      " 29  sources                      15235 non-null  object \n",
      " 30  notes                        15193 non-null  object \n",
      " 31  participants_clean           15105 non-null  Int64  \n",
      " 32  participants_category_clean  14991 non-null  object \n",
      "dtypes: Int64(1), float64(7), int64(5), object(20)\n",
      "memory usage: 4.5+ MB\n"
     ]
    }
   ],
   "source": [
    "df.info()"
   ]
  },
  {
   "cell_type": "code",
   "execution_count": 419,
   "id": "cb218c84",
   "metadata": {},
   "outputs": [],
   "source": [
    "demands = np.unique(demands)"
   ]
  },
  {
   "cell_type": "code",
   "execution_count": 423,
   "id": "fecaa92a",
   "metadata": {},
   "outputs": [
    {
     "data": {
      "text/plain": [
       "False    15237\n",
       "True         2\n",
       "Name: protesterdemand4, dtype: int64"
      ]
     },
     "execution_count": 423,
     "metadata": {},
     "output_type": "execute_result"
    }
   ],
   "source": [
    "demand_cols = ['protesterdemand1', 'protesterdemand2', 'protesterdemand3', 'protesterdemand4']\n",
    "for demand_col in demand_cols:\n",
    "    temp = df[demand_col]==demands[0]\n",
    "temp.value_counts()"
   ]
  },
  {
   "cell_type": "code",
   "execution_count": 424,
   "id": "d68af022",
   "metadata": {},
   "outputs": [],
   "source": [
    "from sklearn.preprocessing import OneHotEncoder"
   ]
  },
  {
   "cell_type": "code",
   "execution_count": 434,
   "id": "8c229c28",
   "metadata": {},
   "outputs": [
    {
     "data": {
      "text/plain": [
       "array([['political behavior, process'],\n",
       "       ['political behavior, process'],\n",
       "       ['political behavior, process'],\n",
       "       ...,\n",
       "       ['political behavior, process'],\n",
       "       ['political behavior, process'],\n",
       "       ['political behavior, process']], dtype=object)"
      ]
     },
     "execution_count": 434,
     "metadata": {},
     "output_type": "execute_result"
    }
   ],
   "source": []
  },
  {
   "cell_type": "code",
   "execution_count": 488,
   "id": "c030a965",
   "metadata": {},
   "outputs": [
    {
     "data": {
      "text/plain": [
       "(15239, 8, 4)"
      ]
     },
     "execution_count": 488,
     "metadata": {},
     "output_type": "execute_result"
    }
   ],
   "source": [
    "ohe = OneHotEncoder(sparse=False)\n",
    "\n",
    "\n",
    "for demand_col in demand_cols:\n",
    "    \n",
    "    \n",
    "    if demand_col == demand_cols[0]: #first iteration\n",
    "        fit = ohe.fit_transform(df[demand_col].values.reshape(-1, 1))\n",
    "        fit = np.expand_dims(fit, 2)\n",
    "        \n",
    "        demand_array = np.array(fit)\n",
    "        \n",
    "        \n",
    "    else:\n",
    "        \n",
    "        \n",
    "        fit = ohe.transform(df[demand_col].values.reshape(-1, 1))\n",
    "        fit = np.expand_dims(fit, 2)\n",
    "        \n",
    "        demand_array = np.concatenate([demand_array, fit], axis=2)\n",
    "    \n",
    "demand_array.shape"
   ]
  },
  {
   "cell_type": "code",
   "execution_count": 510,
   "id": "45f76068",
   "metadata": {},
   "outputs": [
    {
     "ename": "ValueError",
     "evalue": "invalid number of arguments",
     "output_type": "error",
     "traceback": [
      "\u001b[1;31m---------------------------------------------------------------------------\u001b[0m",
      "\u001b[1;31mValueError\u001b[0m                                Traceback (most recent call last)",
      "\u001b[1;32m<ipython-input-510-ce81b74a4d1e>\u001b[0m in \u001b[0;36m<module>\u001b[1;34m\u001b[0m\n\u001b[1;32m----> 1\u001b[1;33m \u001b[0mnp\u001b[0m\u001b[1;33m.\u001b[0m\u001b[0mlogical_or\u001b[0m\u001b[1;33m(\u001b[0m\u001b[0mdemand_array\u001b[0m\u001b[1;33m[\u001b[0m\u001b[1;36m0\u001b[0m\u001b[1;33m,\u001b[0m \u001b[1;36m0\u001b[0m\u001b[1;33m,\u001b[0m \u001b[1;33m:\u001b[0m\u001b[1;33m]\u001b[0m \u001b[1;33m==\u001b[0m\u001b[1;36m1\u001b[0m\u001b[1;33m)\u001b[0m\u001b[1;33m\u001b[0m\u001b[1;33m\u001b[0m\u001b[0m\n\u001b[0m",
      "\u001b[1;31mValueError\u001b[0m: invalid number of arguments"
     ]
    }
   ],
   "source": [
    "np.logical_or(demand_array[0, 0, :] ==1)"
   ]
  },
  {
   "cell_type": "code",
   "execution_count": 500,
   "id": "dfc6b8de",
   "metadata": {},
   "outputs": [
    {
     "ename": "ValueError",
     "evalue": "invalid number of arguments",
     "output_type": "error",
     "traceback": [
      "\u001b[1;31m---------------------------------------------------------------------------\u001b[0m",
      "\u001b[1;31mValueError\u001b[0m                                Traceback (most recent call last)",
      "\u001b[1;32m<ipython-input-500-7692b3589af7>\u001b[0m in \u001b[0;36m<module>\u001b[1;34m\u001b[0m\n\u001b[1;32m----> 1\u001b[1;33m \u001b[0mnp\u001b[0m\u001b[1;33m.\u001b[0m\u001b[0mlogical_or\u001b[0m\u001b[1;33m(\u001b[0m\u001b[0mdemand_array\u001b[0m\u001b[1;33m[\u001b[0m\u001b[1;36m0\u001b[0m\u001b[1;33m,\u001b[0m \u001b[1;36m0\u001b[0m\u001b[1;33m,\u001b[0m \u001b[1;33m:\u001b[0m\u001b[1;33m]\u001b[0m\u001b[1;33m)\u001b[0m\u001b[1;33m\u001b[0m\u001b[1;33m\u001b[0m\u001b[0m\n\u001b[0m",
      "\u001b[1;31mValueError\u001b[0m: invalid number of arguments"
     ]
    }
   ],
   "source": [
    "np.logical_or(demand_array[0, 0, :], )"
   ]
  },
  {
   "cell_type": "code",
   "execution_count": null,
   "id": "9142d226",
   "metadata": {},
   "outputs": [],
   "source": []
  }
 ],
 "metadata": {
  "kernelspec": {
   "display_name": "Python 3",
   "language": "python",
   "name": "python3"
  },
  "language_info": {
   "codemirror_mode": {
    "name": "ipython",
    "version": 3
   },
   "file_extension": ".py",
   "mimetype": "text/x-python",
   "name": "python",
   "nbconvert_exporter": "python",
   "pygments_lexer": "ipython3",
   "version": "3.8.3"
  }
 },
 "nbformat": 4,
 "nbformat_minor": 5
}
