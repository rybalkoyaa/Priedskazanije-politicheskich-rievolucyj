{
 "cells": [
  {
   "cell_type": "markdown",
   "id": "881d9fd0",
   "metadata": {},
   "source": [
    "### Exploratory Analysis - Mass Mobilization Protests"
   ]
  },
  {
   "cell_type": "code",
   "execution_count": 1,
   "id": "51b17c23",
   "metadata": {},
   "outputs": [],
   "source": [
    "import numpy as np\n",
    "import pandas as pd\n",
    "import matplotlib.pyplot as plt\n",
    "import sklearn as sk\n",
    "import os, sys\n",
    "\n",
    "from sklearn.preprocessing import OneHotEncoder\n",
    "\n",
    "pd.options.display.max_columns = 100\n",
    "pd.options.display.max_rows = 300\n",
    "\n",
    "path_data = os.path.join('..', 'data', 'raw')\n",
    "\n",
    "UNKNOWN = 'unknown'"
   ]
  },
  {
   "cell_type": "code",
   "execution_count": 2,
   "id": "2075ba0a",
   "metadata": {},
   "outputs": [],
   "source": [
    "path_csv = os.path.join(path_data, 'Mass-Mobilization-Protests', 'mmALL_073120_csv.csv')\n",
    "df = pd.read_csv(path_csv)"
   ]
  },
  {
   "cell_type": "code",
   "execution_count": 3,
   "id": "e30d0f1d",
   "metadata": {},
   "outputs": [
    {
     "name": "stdout",
     "output_type": "stream",
     "text": [
      "<class 'pandas.core.frame.DataFrame'>\n",
      "RangeIndex: 17145 entries, 0 to 17144\n",
      "Data columns (total 31 columns):\n",
      " #   Column                 Non-Null Count  Dtype  \n",
      "---  ------                 --------------  -----  \n",
      " 0   id                     17145 non-null  int64  \n",
      " 1   country                17145 non-null  object \n",
      " 2   ccode                  17145 non-null  int64  \n",
      " 3   year                   17145 non-null  int64  \n",
      " 4   region                 17145 non-null  object \n",
      " 5   protest                17145 non-null  int64  \n",
      " 6   protestnumber          17145 non-null  int64  \n",
      " 7   startday               15239 non-null  float64\n",
      " 8   startmonth             15239 non-null  float64\n",
      " 9   startyear              15239 non-null  float64\n",
      " 10  endday                 15239 non-null  float64\n",
      " 11  endmonth               15239 non-null  float64\n",
      " 12  endyear                15239 non-null  float64\n",
      " 13  protesterviolence      15758 non-null  float64\n",
      " 14  location               15218 non-null  object \n",
      " 15  participants_category  9887 non-null   object \n",
      " 16  participants           15746 non-null  object \n",
      " 17  protesteridentity      14684 non-null  object \n",
      " 18  protesterdemand1       15238 non-null  object \n",
      " 19  protesterdemand2       2977 non-null   object \n",
      " 20  protesterdemand3       383 non-null    object \n",
      " 21  protesterdemand4       831 non-null    object \n",
      " 22  stateresponse1         15208 non-null  object \n",
      " 23  stateresponse2         2888 non-null   object \n",
      " 24  stateresponse3         930 non-null    object \n",
      " 25  stateresponse4         244 non-null    object \n",
      " 26  stateresponse5         849 non-null    object \n",
      " 27  stateresponse6         16 non-null     object \n",
      " 28  stateresponse7         920 non-null    object \n",
      " 29  sources                15235 non-null  object \n",
      " 30  notes                  15193 non-null  object \n",
      "dtypes: float64(7), int64(5), object(19)\n",
      "memory usage: 4.1+ MB\n"
     ]
    }
   ],
   "source": [
    "df.info()"
   ]
  },
  {
   "cell_type": "code",
   "execution_count": 4,
   "id": "17c7a09b",
   "metadata": {},
   "outputs": [],
   "source": [
    "def print_counts(series):\n",
    "    unique = series.value_counts()\n",
    "    return unique"
   ]
  },
  {
   "cell_type": "code",
   "execution_count": 5,
   "id": "7ae37b56",
   "metadata": {},
   "outputs": [
    {
     "data": {
      "text/plain": [
       "512000000     1\n",
       "4502005006    1\n",
       "2202017017    1\n",
       "2001995002    1\n",
       "1352011003    1\n",
       "             ..\n",
       "2202002009    1\n",
       "2001998017    1\n",
       "4901991003    1\n",
       "6402014010    1\n",
       "701995005     1\n",
       "Name: id, Length: 17145, dtype: int64"
      ]
     },
     "execution_count": 5,
     "metadata": {},
     "output_type": "execute_result"
    }
   ],
   "source": [
    "print_counts(df.id)"
   ]
  },
  {
   "cell_type": "code",
   "execution_count": 6,
   "id": "7c3a941d",
   "metadata": {},
   "outputs": [],
   "source": [
    "# countries = df.country.unique()\n",
    "# countries.sort()\n",
    "# countries"
   ]
  },
  {
   "cell_type": "code",
   "execution_count": 7,
   "id": "13f8882a",
   "metadata": {},
   "outputs": [],
   "source": [
    "# print_counts(df[['ccode', 'country']])"
   ]
  },
  {
   "cell_type": "code",
   "execution_count": 8,
   "id": "92772d6e",
   "metadata": {},
   "outputs": [],
   "source": [
    "# year = df.year.unique()\n",
    "# year.sort()\n",
    "# print(year)\n",
    "\n",
    "# print_counts(df.year)"
   ]
  },
  {
   "cell_type": "code",
   "execution_count": 9,
   "id": "57cbbecb",
   "metadata": {},
   "outputs": [],
   "source": [
    "# print_counts(df.region)"
   ]
  },
  {
   "cell_type": "code",
   "execution_count": 10,
   "id": "ba2405e6",
   "metadata": {},
   "outputs": [],
   "source": [
    "# print_counts(df.protest)"
   ]
  },
  {
   "cell_type": "code",
   "execution_count": 11,
   "id": "754c76ba",
   "metadata": {},
   "outputs": [],
   "source": [
    "# print_counts(df.protestnumber)"
   ]
  },
  {
   "cell_type": "code",
   "execution_count": 12,
   "id": "3905982b",
   "metadata": {},
   "outputs": [],
   "source": [
    "# print(df.loc[df.protestnumber == 0].protesterdemand1.value_counts())\n",
    "# print(df.loc[df.protestnumber == 0].stateresponse1.value_counts())\n",
    "# print(df.loc[df.protestnumber == 0].notes.value_counts())"
   ]
  },
  {
   "cell_type": "code",
   "execution_count": 13,
   "id": "a73b2845",
   "metadata": {},
   "outputs": [],
   "source": [
    "df = df.loc[df.protest == 1].copy()\n",
    "df.reset_index(inplace=True, drop=True)"
   ]
  },
  {
   "cell_type": "markdown",
   "id": "b4ec27cd",
   "metadata": {},
   "source": [
    "##### Notes: drop all rows with df.protest == 0. This means no protest took place, which can be verified by investigating a sample of those entries. Since this analysis studies only protests, non-protest entries are not of interest."
   ]
  },
  {
   "cell_type": "code",
   "execution_count": 14,
   "id": "36b3d485",
   "metadata": {},
   "outputs": [
    {
     "name": "stdout",
     "output_type": "stream",
     "text": [
      "<class 'pandas.core.frame.DataFrame'>\n",
      "RangeIndex: 15239 entries, 0 to 15238\n",
      "Data columns (total 31 columns):\n",
      " #   Column                 Non-Null Count  Dtype  \n",
      "---  ------                 --------------  -----  \n",
      " 0   id                     15239 non-null  int64  \n",
      " 1   country                15239 non-null  object \n",
      " 2   ccode                  15239 non-null  int64  \n",
      " 3   year                   15239 non-null  int64  \n",
      " 4   region                 15239 non-null  object \n",
      " 5   protest                15239 non-null  int64  \n",
      " 6   protestnumber          15239 non-null  int64  \n",
      " 7   startday               15239 non-null  float64\n",
      " 8   startmonth             15239 non-null  float64\n",
      " 9   startyear              15239 non-null  float64\n",
      " 10  endday                 15239 non-null  float64\n",
      " 11  endmonth               15239 non-null  float64\n",
      " 12  endyear                15239 non-null  float64\n",
      " 13  protesterviolence      15239 non-null  float64\n",
      " 14  location               15218 non-null  object \n",
      " 15  participants_category  9887 non-null   object \n",
      " 16  participants           15227 non-null  object \n",
      " 17  protesteridentity      14684 non-null  object \n",
      " 18  protesterdemand1       15238 non-null  object \n",
      " 19  protesterdemand2       2977 non-null   object \n",
      " 20  protesterdemand3       383 non-null    object \n",
      " 21  protesterdemand4       779 non-null    object \n",
      " 22  stateresponse1         15208 non-null  object \n",
      " 23  stateresponse2         2888 non-null   object \n",
      " 24  stateresponse3         930 non-null    object \n",
      " 25  stateresponse4         244 non-null    object \n",
      " 26  stateresponse5         797 non-null    object \n",
      " 27  stateresponse6         16 non-null     object \n",
      " 28  stateresponse7         857 non-null    object \n",
      " 29  sources                15235 non-null  object \n",
      " 30  notes                  15193 non-null  object \n",
      "dtypes: float64(7), int64(5), object(19)\n",
      "memory usage: 3.6+ MB\n"
     ]
    }
   ],
   "source": [
    "df.info()"
   ]
  },
  {
   "cell_type": "code",
   "execution_count": 15,
   "id": "78ca2e87",
   "metadata": {},
   "outputs": [],
   "source": [
    "# print_counts(df.startday)"
   ]
  },
  {
   "cell_type": "code",
   "execution_count": 16,
   "id": "b5feb8d1",
   "metadata": {},
   "outputs": [],
   "source": [
    "# print_counts(df.startmonth)"
   ]
  },
  {
   "cell_type": "code",
   "execution_count": 17,
   "id": "c1b39e6e",
   "metadata": {},
   "outputs": [],
   "source": [
    "# print_counts(df.startyear)"
   ]
  },
  {
   "cell_type": "code",
   "execution_count": 18,
   "id": "23e59ab1",
   "metadata": {},
   "outputs": [],
   "source": [
    "# print_counts(df.endday)"
   ]
  },
  {
   "cell_type": "code",
   "execution_count": 19,
   "id": "1aec7ecf",
   "metadata": {},
   "outputs": [],
   "source": [
    "# print_counts(df.endmonth)"
   ]
  },
  {
   "cell_type": "code",
   "execution_count": 20,
   "id": "606d525b",
   "metadata": {},
   "outputs": [],
   "source": [
    "# print_counts(df.endyear)"
   ]
  },
  {
   "cell_type": "code",
   "execution_count": 21,
   "id": "db410717",
   "metadata": {},
   "outputs": [],
   "source": [
    "# print_counts(df.protesterviolence)"
   ]
  },
  {
   "cell_type": "code",
   "execution_count": 22,
   "id": "235e4c9e",
   "metadata": {},
   "outputs": [],
   "source": [
    "# df.location.value_counts().shape"
   ]
  },
  {
   "cell_type": "markdown",
   "id": "8f69ba80",
   "metadata": {},
   "source": [
    "##### 'Locations' column isn't at all standardized. Avoid using unless absolutely necessary. The 'Country' column should provide the necessary information for an MVP.\n",
    "\n",
    "Fill na's with UNKNOWN"
   ]
  },
  {
   "cell_type": "code",
   "execution_count": 23,
   "id": "91442930",
   "metadata": {},
   "outputs": [],
   "source": [
    "df['location'] = df.location.fillna(UNKNOWN)"
   ]
  },
  {
   "cell_type": "code",
   "execution_count": 24,
   "id": "a7d98c72",
   "metadata": {},
   "outputs": [],
   "source": [
    "# df.info()"
   ]
  },
  {
   "cell_type": "code",
   "execution_count": 25,
   "id": "038440ba",
   "metadata": {},
   "outputs": [],
   "source": [
    "# df.participants.isna()"
   ]
  },
  {
   "cell_type": "code",
   "execution_count": 26,
   "id": "624dcad4",
   "metadata": {},
   "outputs": [],
   "source": [
    "# #print(df.participants_category.value_counts())\n",
    "# df.loc[df.participants.isna()]"
   ]
  },
  {
   "cell_type": "markdown",
   "id": "d4c67765",
   "metadata": {},
   "source": [
    "### Fill in missing \"Participants Category\" value using the \"Participants\" column. \n",
    "This takes some manual  changes. Everything that can be changed from string to int is done automatically. Everything that can't be done automatically is added to a dictionary to be done manually. This *drastically* reduces any need for manual work"
   ]
  },
  {
   "cell_type": "code",
   "execution_count": 27,
   "id": "351d3c66",
   "metadata": {},
   "outputs": [
    {
     "data": {
      "text/plain": [
       "id                                                              7502017004\n",
       "country                                                              India\n",
       "ccode                                                                  750\n",
       "year                                                                  2017\n",
       "region                                                                Asia\n",
       "protest                                                                  1\n",
       "protestnumber                                                            4\n",
       "startday                                                              27.0\n",
       "startmonth                                                             5.0\n",
       "startyear                                                           2017.0\n",
       "endday                                                                27.0\n",
       "endmonth                                                               5.0\n",
       "endyear                                                             2017.0\n",
       "protesterviolence                                                      1.0\n",
       "location                         Tral in south Indian administered Kashmir\n",
       "participants_category                                            2000-4999\n",
       "participants                     Widespread protests throughout the valley\n",
       "protesteridentity        locals protesting the killing of a popular mil...\n",
       "protesterdemand1                               political behavior, process\n",
       "protesterdemand2                                                       NaN\n",
       "protesterdemand3                                                       NaN\n",
       "protesterdemand4                                                       NaN\n",
       "stateresponse1                                             crowd dispersal\n",
       "stateresponse2                                                    killings\n",
       "stateresponse3                                                    beatings\n",
       "stateresponse4                                                         NaN\n",
       "stateresponse5                                                         NaN\n",
       "stateresponse6                                                         NaN\n",
       "stateresponse7                                                         NaN\n",
       "sources                  indian forces kill militant leader in kashmir ...\n",
       "notes                    a popular militant commander and one other gun...\n",
       "Name: 13542, dtype: object"
      ]
     },
     "execution_count": 27,
     "metadata": {},
     "output_type": "execute_result"
    }
   ],
   "source": [
    "df.loc[13542]"
   ]
  },
  {
   "cell_type": "code",
   "execution_count": 28,
   "id": "c3efef80",
   "metadata": {},
   "outputs": [
    {
     "name": "stdout",
     "output_type": "stream",
     "text": [
      "Couldn't convert: hundreds  /  hundred\n",
      "Couldn't convert: dozens  /  dozen\n",
      "Couldn't convert: a group  /  a group\n",
      "Couldn't convert: busloads  /  buload\n",
      "Couldn't convert: widespread  /  widepread\n",
      "Couldn't convert: thousands  /  thouand\n",
      "Couldn't convert: several hundred  /  everal hundred\n",
      "Couldn't convert: tens of thousands  /  tenthouand\n",
      "Couldn't convert: more than 1500 detained  /   1500 detained\n",
      "Couldn't convert: 230 families  /  230 familie\n",
      "Couldn't convert: several dozen  /  everal dozen\n",
      "Couldn't convert: Tens of thousands  /  tenthouand\n",
      "Couldn't convert: hundreds   /  hundred \n",
      "Couldn't convert: hundreds of thousands  /  hundredthouand\n",
      "Couldn't convert: 164 arrested  /  164 arreted\n",
      "Couldn't convert: Thousands  /  thouand\n",
      "Couldn't convert: several dozen arrests  /  everal dozen arret\n",
      "Couldn't convert: several thousand  /  everal thouand\n",
      "Couldn't convert: more than 400 arrested  /   400 arreted\n",
      "Couldn't convert: Hundreds of thousands  /  hundredthouand\n",
      "Couldn't convert: 20 arrested  /  20 arreted\n",
      "Couldn't convert: 300 arrested  /  300 arreted\n",
      "Couldn't convert: Several thousand protesters  /  everal thouand \n",
      "Couldn't convert: Demonstrators  /  \n",
      "Couldn't convert: Large demonstrations  /  large demontration\n",
      "Couldn't convert: Huge protests  /  huge protet\n",
      "Couldn't convert: Hundreds of student protesters  /  hundredtudent \n",
      "Couldn't convert: Several thousand  /  everal thouand\n",
      "Couldn't convert: Mass protests  /  ma protet\n",
      "Couldn't convert: HUNDREDS OF thousands of Venezuelans  /  hundredthouandvenezuelan\n",
      "Couldn't convert: \"Rocked by protests\"  /  \"rocked by protet\"\n",
      "Couldn't convert: More than seven million people  /   even million \n",
      "Couldn't convert: Millions  /  million\n",
      "Couldn't convert: Hundreds of youths  /  hundredyouth\n",
      "Couldn't convert: A general strike that paralysed Venezuela  /  a general trike that paralyed venezuela\n",
      "Couldn't convert: Protesters on whom the government security forces used water cannons, rubber bullets and batons  /   on whom the gnment ecurity force ued water cannon rubber bullet and baton\n",
      "Couldn't convert: A few hundred people  /  a few hundred \n",
      "Couldn't convert: About a hundred protesters  /   a hundred \n",
      "Couldn't convert: Hundreds of Venezuelans  /  hundredvenezuelan\n",
      "Couldn't convert: 16 killed  /  16 killed\n",
      "Couldn't convert: .  /  .\n",
      "Couldn't convert: a few dozen  /  a few dozen\n",
      "Couldn't convert: a few thousand  /  a few thouand\n",
      "Couldn't convert: 25 protesters injured  /  25  injured\n",
      "Couldn't convert: hundreds of thousands to 1.4 million  /  hundredthouand-1.4 million\n",
      "Couldn't convert: scores  /  core\n",
      "Couldn't convert: more than a dozen schools  /   a dozen chool\n",
      "Couldn't convert: dozens arrested   /  dozen arreted \n",
      "Couldn't convert: over 100 arrested  /   100 arreted\n",
      "Couldn't convert: Thousands   /  thouand \n",
      "Couldn't convert: very low thousands  /  very low thouand\n",
      "Couldn't convert: several hundreds  /  everal hundred\n",
      "Couldn't convert: between 35,000 and 50,000  /  between 35000 and 50000\n",
      "Couldn't convert: Hundreds  /  hundred\n",
      "Couldn't convert: hundreds    /  hundred  \n",
      "Couldn't convert: several 1000s  /  everal 1000\n",
      "Couldn't convert: hundreds of thousands   /  hundredthouand \n",
      "Couldn't convert: Dozens  /  dozen\n",
      "Couldn't convert: several dozens  /  everal dozen\n",
      "Couldn't convert: a few hundreds  /  a few hundred\n",
      "Couldn't convert: millions  /  million\n",
      "Couldn't convert: 28 LGBT groups  /  28 lgbt group\n",
      "Couldn't convert: teachers and pupils  /   and pupil\n",
      "Couldn't convert: few thousand  /  few thouand\n",
      "Couldn't convert: 1 million  /  1 million\n",
      "Couldn't convert: between 100000 & 300000  /  between 100000 & 300000\n",
      "Couldn't convert: several hundred thousands  /  everal hundred thouand\n",
      "Couldn't convert: a few thousand   /  a few thouand \n",
      "Couldn't convert: couple thousands  /  couple thouand\n",
      "Couldn't convert: between 7500-25000  /  between 7500-25000\n",
      "Couldn't convert: 200 arrested  /  200 arreted\n",
      "Couldn't convert: > 50 < 100   /   50  100 \n",
      "Couldn't convert: 50 arrested  /  50 arreted\n",
      "Couldn't convert: btw. 20000 & 30000  /  btw. 20000 & 30000\n",
      "Couldn't convert: A few hundred  /  a few hundred\n",
      "Couldn't convert: scores (>50)  /  core (50)\n",
      "Couldn't convert: a few hundred  /  a few hundred\n",
      "Couldn't convert: several thousand   /  everal thouand \n",
      "Couldn't convert: dozens arrested  /  dozen arreted\n",
      "Couldn't convert: up to two million  /   two million\n",
      "Couldn't convert: increasingly large gatherings  /  increaingly large gathering\n",
      "Couldn't convert: over a million  /   a million\n",
      "Couldn't convert: few dozen  /  few dozen\n",
      "Couldn't convert: 100 wounded  /  100 wounded\n",
      "Couldn't convert: 12 arrested  /  12 arreted\n",
      "Couldn't convert: 4000 arrested  /  4000 arreted\n",
      "Couldn't convert: a few hundred   /  a few hundred \n",
      "Couldn't convert: The organisers said more than 3,000 people; police said the turnout was 830 at its peak  /  the organier aid  3000 ; police aid the turnout wa 830 at it peak\n",
      "Couldn't convert: Hundreds of people  /  hundred\n",
      "Couldn't convert: Hundreds of workers  /  hundredworker\n",
      "Couldn't convert: Estimated number of protesters at 10,000  /   number at 10000\n",
      "Couldn't convert: Thousands of miners  /  thouandminer\n",
      "Couldn't convert: Several hundred demonstrators  /  everal hundred \n",
      "Couldn't convert: Hundreds of villagers  /  hundred\n",
      "Couldn't convert: About 100 taxis  /   100 taxi\n",
      "Couldn't convert: Thousands of people  /  thouand\n",
      "Couldn't convert: The Civil Human Rights Front said 110,000 people; The Hong Kong police said about 20,000  /  the civil human right front aid 110000 ; the hong kong police aid  20000\n",
      "Couldn't convert: March organiser and legal-sector lawmaker Dennis Kwok, said more than 2,000 people joined the protest. Police put the turnout at 1,700.  /  march organier and legal-ector lawmaker denni kwok aid  2000  joined the protet. police put the turnout at 1700.\n",
      "Couldn't convert: 30 arrested  /  30 arreted\n",
      "Couldn't convert: Between 11000 and 45000  /  between 11000 and 45000\n",
      "Couldn't convert: Tens of thousands of people  /  tenthouand\n",
      "Couldn't convert: Crowds  /  crowd\n",
      "Couldn't convert: Hundreds of college students  /  hundredcollege tudent\n",
      "Couldn't convert: Widespread protests throughout the valley  /  widepread protet throughout the valley\n",
      "Couldn't convert: Volunteers and a line formed of people participating to cook beef and share it with strangers in the streets  /  volunteer and a line formed participating-cook beef and hare it with tranger in the treet\n",
      "Couldn't convert: Thousands of Indians, including Bollywood actors  /  thouandindian including bollywood actor\n",
      "Couldn't convert: Civilians; a crowd  /  civilian; a crowd\n",
      "Couldn't convert: Protests across India  /  protet acro india\n",
      "Couldn't convert: Hundreds of residents  /  hundred\n",
      "Couldn't convert: As many as 25,000 protesters  /  a many a 25000 \n",
      "Couldn't convert: Several hundred  /  everal hundred\n",
      "Couldn't convert: Mass demonstrations  /  ma demontration\n",
      "Couldn't convert: In northern Chiang Mai province, 200 kamnans and village heads; in Phetchaburi, about 400 kamnans and village heads  /  in northern chiang mai province 200 kamnan and village head; in phetchaburi  400 kamnan and village head\n",
      "Couldn't convert: More than 200 campaigners  /   200 er\n",
      "Couldn't convert: 97 public organisations  /  97 public organiation\n",
      "Couldn't convert: About 100 activists, including 39 suspects who were summoned, and 66 more suspects who would be summoned to face charges later  /   100  including 39 upect who were ummoned and 66 more upect who would be ummoned-face charge later\n",
      "Couldn't convert: 57 former estate workers  /  57 former etate worker\n",
      "Couldn't convert: Estimated to be 15,500  /  -be 15500\n",
      "MANUALLY CONVERT THE ABOVE VALUES (ALGORITMS COULDN'T SOLVE)\n"
     ]
    }
   ],
   "source": [
    "# Gather array of unique 'participants' values\n",
    "participants_unique = df.participants.dropna().unique()\n",
    "\n",
    "\n",
    "converter = {}\n",
    "unable_to_convert = {}\n",
    "\n",
    "# Create dictionary to convert messy strings to ints\n",
    "for participant in participants_unique:\n",
    "    \n",
    "    # Try simply converting to integer\n",
    "    try:\n",
    "        converter[participant] = int(participant)\n",
    "    \n",
    "    # Else remove commonly unnecessary characters\n",
    "    except:\n",
    "        participant_clean = str.lower(participant)\\\n",
    "                               .replace('+', '')\\\n",
    "                               .replace(',', '')\\\n",
    "                               .replace('>', '')\\\n",
    "                               .replace('<', '')\\\n",
    "                               .replace('about', '')\\\n",
    "                               .replace('around', '')\\\n",
    "                               .replace('almost','')\\\n",
    "                               .replace('more than','')\\\n",
    "                               .replace('less than', '')\\\n",
    "                               .replace('at least', '')\\\n",
    "                               .replace('over', '')\\\n",
    "                               .replace('nearly', '')\\\n",
    "                               .replace('up to', '')\\\n",
    "                               .replace('people', '')\\\n",
    "                               .replace('some', '')\\\n",
    "                               .replace('estimated', '')\\\n",
    "                               .replace('protester', '')\\\n",
    "                               .replace('construction worker', '')\\\n",
    "                               .replace('member', '')\\\n",
    "                               .replace('citizen', '')\\\n",
    "                               .replace('parent', '')\\\n",
    "                               .replace('local', '')\\\n",
    "                               .replace('demonstrator', '')\\\n",
    "                               .replace('teacher', '')\\\n",
    "                               .replace('activist', '')\\\n",
    "                               .replace('supporter', '')\\\n",
    "                               .replace('villager', '')\\\n",
    "                               .replace('campaign', '')\\\n",
    "                               .replace('campaigner', '')\\\n",
    "                               .replace('driver', '')\\\n",
    "                               .replace('resident', '')\\\n",
    "                               .replace('participant', '')\\\n",
    "                               .replace(' of ', '')\\\n",
    "                               .replace('_', '')\\\n",
    "                               .replace(' to ', '-')\\\n",
    "                               .replace('s', '')\n",
    "        # Try converting clean value\n",
    "        try:\n",
    "            \n",
    "            # Append to converter dictionary if successful\n",
    "            converter[participant] = int(participant_clean)\n",
    "            \n",
    "        # Else convert values of format \"x-y\"\n",
    "        except:\n",
    "            try:\n",
    "                # Split \"x-y\" format\n",
    "                participant_range = str.split(participant_clean, '-')\n",
    "                \n",
    "                # Convert both \"x\" and \"y\" to ints before averaging\n",
    "                avg = (int(participant_range[0]) + int(participant_range[1])) / 2\n",
    "                \n",
    "                # Append to converter dictionary if successful\n",
    "                converter[participant] = int(avg)\n",
    "        \n",
    "        \n",
    "            # Else create dict to manually clean\n",
    "            except:\n",
    "                print(\"Couldn't convert: {}  /  {}\".format(participant, participant_clean))\n",
    "                unable_to_convert[participant] = UNKNOWN\n",
    "            \n",
    "print(\"MANUALLY CONVERT THE ABOVE VALUES (ALGORITMS COULDN'T SOLVE)\")"
   ]
  },
  {
   "cell_type": "code",
   "execution_count": 29,
   "id": "81f4af2c",
   "metadata": {},
   "outputs": [
    {
     "data": {
      "text/plain": [
       "id                                                              7502017004\n",
       "country                                                              India\n",
       "ccode                                                                  750\n",
       "year                                                                  2017\n",
       "region                                                                Asia\n",
       "protest                                                                  1\n",
       "protestnumber                                                            4\n",
       "startday                                                              27.0\n",
       "startmonth                                                             5.0\n",
       "startyear                                                           2017.0\n",
       "endday                                                                27.0\n",
       "endmonth                                                               5.0\n",
       "endyear                                                             2017.0\n",
       "protesterviolence                                                      1.0\n",
       "location                         Tral in south Indian administered Kashmir\n",
       "participants_category                                            2000-4999\n",
       "participants                     Widespread protests throughout the valley\n",
       "protesteridentity        locals protesting the killing of a popular mil...\n",
       "protesterdemand1                               political behavior, process\n",
       "protesterdemand2                                                       NaN\n",
       "protesterdemand3                                                       NaN\n",
       "protesterdemand4                                                       NaN\n",
       "stateresponse1                                             crowd dispersal\n",
       "stateresponse2                                                    killings\n",
       "stateresponse3                                                    beatings\n",
       "stateresponse4                                                         NaN\n",
       "stateresponse5                                                         NaN\n",
       "stateresponse6                                                         NaN\n",
       "stateresponse7                                                         NaN\n",
       "sources                  indian forces kill militant leader in kashmir ...\n",
       "notes                    a popular militant commander and one other gun...\n",
       "Name: 13542, dtype: object"
      ]
     },
     "execution_count": 29,
     "metadata": {},
     "output_type": "execute_result"
    }
   ],
   "source": [
    "df.loc[13542]"
   ]
  },
  {
   "cell_type": "code",
   "execution_count": 30,
   "id": "758385df",
   "metadata": {},
   "outputs": [],
   "source": [
    "# Manually define remaining conversions\n",
    "path_cleaning_dict = os.path.join('..', 'data', 'processed', 'clean_protester_count.csv')\n",
    "cleaning_dict = pd.read_csv(path_cleaning_dict)\n",
    "for original, clean in zip(cleaning_dict.iloc[:, 0], cleaning_dict.iloc[:, 1]):\n",
    "    try:\n",
    "        converter[original] = int(clean)\n",
    "    except:\n",
    "        pass"
   ]
  },
  {
   "cell_type": "code",
   "execution_count": 31,
   "id": "7231dedf",
   "metadata": {},
   "outputs": [
    {
     "data": {
      "text/plain": [
       "100-999       3204\n",
       "50-99         2508\n",
       "2000-4999     1580\n",
       ">10000        1470\n",
       "5000-10000     642\n",
       "1000-1999      483\n",
       "Name: participants_category, dtype: int64"
      ]
     },
     "execution_count": 31,
     "metadata": {},
     "output_type": "execute_result"
    }
   ],
   "source": [
    "df['participants_category'].value_counts()"
   ]
  },
  {
   "cell_type": "code",
   "execution_count": 32,
   "id": "656e663d",
   "metadata": {},
   "outputs": [
    {
     "data": {
      "text/plain": [
       "id                                                              7502017004\n",
       "country                                                              India\n",
       "ccode                                                                  750\n",
       "year                                                                  2017\n",
       "region                                                                Asia\n",
       "protest                                                                  1\n",
       "protestnumber                                                            4\n",
       "startday                                                              27.0\n",
       "startmonth                                                             5.0\n",
       "startyear                                                           2017.0\n",
       "endday                                                                27.0\n",
       "endmonth                                                               5.0\n",
       "endyear                                                             2017.0\n",
       "protesterviolence                                                      1.0\n",
       "location                         Tral in south Indian administered Kashmir\n",
       "participants_category                                            2000-4999\n",
       "participants                     Widespread protests throughout the valley\n",
       "protesteridentity        locals protesting the killing of a popular mil...\n",
       "protesterdemand1                               political behavior, process\n",
       "protesterdemand2                                                       NaN\n",
       "protesterdemand3                                                       NaN\n",
       "protesterdemand4                                                       NaN\n",
       "stateresponse1                                             crowd dispersal\n",
       "stateresponse2                                                    killings\n",
       "stateresponse3                                                    beatings\n",
       "stateresponse4                                                         NaN\n",
       "stateresponse5                                                         NaN\n",
       "stateresponse6                                                         NaN\n",
       "stateresponse7                                                         NaN\n",
       "sources                  indian forces kill militant leader in kashmir ...\n",
       "notes                    a popular militant commander and one other gun...\n",
       "Name: 13542, dtype: object"
      ]
     },
     "execution_count": 32,
     "metadata": {},
     "output_type": "execute_result"
    }
   ],
   "source": [
    "df.loc[13542]"
   ]
  },
  {
   "cell_type": "code",
   "execution_count": 34,
   "id": "760457c0",
   "metadata": {},
   "outputs": [
    {
     "data": {
      "text/plain": [
       "'Widespread protests throughout the valley'"
      ]
     },
     "execution_count": 34,
     "metadata": {},
     "output_type": "execute_result"
    }
   ],
   "source": [
    "df.loc[13542]['participants']#.map(converter)"
   ]
  },
  {
   "cell_type": "code",
   "execution_count": 35,
   "id": "ad314b2b",
   "metadata": {},
   "outputs": [
    {
     "name": "stdout",
     "output_type": "stream",
     "text": [
      "<class 'pandas.core.frame.DataFrame'>\n",
      "RangeIndex: 15239 entries, 0 to 15238\n",
      "Data columns (total 31 columns):\n",
      " #   Column                 Non-Null Count  Dtype  \n",
      "---  ------                 --------------  -----  \n",
      " 0   id                     15239 non-null  int64  \n",
      " 1   country                15239 non-null  object \n",
      " 2   ccode                  15239 non-null  int64  \n",
      " 3   year                   15239 non-null  int64  \n",
      " 4   region                 15239 non-null  object \n",
      " 5   protest                15239 non-null  int64  \n",
      " 6   protestnumber          15239 non-null  int64  \n",
      " 7   startday               15239 non-null  float64\n",
      " 8   startmonth             15239 non-null  float64\n",
      " 9   startyear              15239 non-null  float64\n",
      " 10  endday                 15239 non-null  float64\n",
      " 11  endmonth               15239 non-null  float64\n",
      " 12  endyear                15239 non-null  float64\n",
      " 13  protesterviolence      15239 non-null  float64\n",
      " 14  location               15239 non-null  object \n",
      " 15  participants_category  9887 non-null   object \n",
      " 16  participants           15227 non-null  object \n",
      " 17  protesteridentity      14684 non-null  object \n",
      " 18  protesterdemand1       15238 non-null  object \n",
      " 19  protesterdemand2       2977 non-null   object \n",
      " 20  protesterdemand3       383 non-null    object \n",
      " 21  protesterdemand4       779 non-null    object \n",
      " 22  stateresponse1         15208 non-null  object \n",
      " 23  stateresponse2         2888 non-null   object \n",
      " 24  stateresponse3         930 non-null    object \n",
      " 25  stateresponse4         244 non-null    object \n",
      " 26  stateresponse5         797 non-null    object \n",
      " 27  stateresponse6         16 non-null     object \n",
      " 28  stateresponse7         857 non-null    object \n",
      " 29  sources                15235 non-null  object \n",
      " 30  notes                  15193 non-null  object \n",
      "dtypes: float64(7), int64(5), object(19)\n",
      "memory usage: 3.6+ MB\n"
     ]
    }
   ],
   "source": [
    "# Add new column for the clean values\n",
    "participant_ct_clean_df = df['participants'].map(converter).astype('Int64')\n",
    "df.info()"
   ]
  },
  {
   "cell_type": "code",
   "execution_count": 45,
   "id": "f17ac3bc",
   "metadata": {},
   "outputs": [
    {
     "data": {
      "text/plain": [
       "<NA>"
      ]
     },
     "execution_count": 45,
     "metadata": {},
     "output_type": "execute_result"
    }
   ],
   "source": [
    "participant_ct_clean_df.loc[13542]"
   ]
  },
  {
   "cell_type": "code",
   "execution_count": 55,
   "id": "70277f3f",
   "metadata": {},
   "outputs": [
    {
     "name": "stdout",
     "output_type": "stream",
     "text": [
      "50        3173\n",
      "100       2610\n",
      "1000      2316\n",
      "10000      976\n",
      "200        453\n",
      "          ... \n",
      "290000       1\n",
      "3300         1\n",
      "71           1\n",
      "52500        1\n",
      "180000       1\n",
      "Name: participants, Length: 320, dtype: Int64\n",
      "NA values: 986\n"
     ]
    }
   ],
   "source": [
    "print(participant_ct_clean_df.value_counts())\n",
    "print('NA values:', participant_ct_clean_df.isna().sum())"
   ]
  },
  {
   "cell_type": "code",
   "execution_count": 74,
   "id": "a94833a4",
   "metadata": {},
   "outputs": [
    {
     "name": "stdout",
     "output_type": "stream",
     "text": [
      "100-999       341\n",
      "2000-4999     218\n",
      "5000-10000    212\n",
      "50-99         107\n",
      ">10000         76\n",
      "1000-1999      19\n",
      "Name: participants_category, dtype: int64\n"
     ]
    },
    {
     "data": {
      "text/html": [
       "<div>\n",
       "<style scoped>\n",
       "    .dataframe tbody tr th:only-of-type {\n",
       "        vertical-align: middle;\n",
       "    }\n",
       "\n",
       "    .dataframe tbody tr th {\n",
       "        vertical-align: top;\n",
       "    }\n",
       "\n",
       "    .dataframe thead th {\n",
       "        text-align: right;\n",
       "    }\n",
       "</style>\n",
       "<table border=\"1\" class=\"dataframe\">\n",
       "  <thead>\n",
       "    <tr style=\"text-align: right;\">\n",
       "      <th></th>\n",
       "      <th>id</th>\n",
       "      <th>country</th>\n",
       "      <th>ccode</th>\n",
       "      <th>year</th>\n",
       "      <th>region</th>\n",
       "      <th>protest</th>\n",
       "      <th>protestnumber</th>\n",
       "      <th>startday</th>\n",
       "      <th>startmonth</th>\n",
       "      <th>startyear</th>\n",
       "      <th>endday</th>\n",
       "      <th>endmonth</th>\n",
       "      <th>endyear</th>\n",
       "      <th>protesterviolence</th>\n",
       "      <th>location</th>\n",
       "      <th>participants_category</th>\n",
       "      <th>participants</th>\n",
       "      <th>protesteridentity</th>\n",
       "      <th>protesterdemand1</th>\n",
       "      <th>protesterdemand2</th>\n",
       "      <th>protesterdemand3</th>\n",
       "      <th>protesterdemand4</th>\n",
       "      <th>stateresponse1</th>\n",
       "      <th>stateresponse2</th>\n",
       "      <th>stateresponse3</th>\n",
       "      <th>stateresponse4</th>\n",
       "      <th>stateresponse5</th>\n",
       "      <th>stateresponse6</th>\n",
       "      <th>stateresponse7</th>\n",
       "      <th>sources</th>\n",
       "      <th>notes</th>\n",
       "    </tr>\n",
       "  </thead>\n",
       "  <tbody>\n",
       "    <tr>\n",
       "      <th>35</th>\n",
       "      <td>202016002</td>\n",
       "      <td>Canada</td>\n",
       "      <td>20</td>\n",
       "      <td>2016</td>\n",
       "      <td>North America</td>\n",
       "      <td>1</td>\n",
       "      <td>2</td>\n",
       "      <td>10.0</td>\n",
       "      <td>2.0</td>\n",
       "      <td>2016.0</td>\n",
       "      <td>10.0</td>\n",
       "      <td>2.0</td>\n",
       "      <td>2016.0</td>\n",
       "      <td>0.0</td>\n",
       "      <td>Montreal  Pierre Elliot Trudeau International ...</td>\n",
       "      <td>100-999</td>\n",
       "      <td>hundreds</td>\n",
       "      <td>taxi drivers against uber</td>\n",
       "      <td>labor wage dispute</td>\n",
       "      <td>NaN</td>\n",
       "      <td>NaN</td>\n",
       "      <td>NaN</td>\n",
       "      <td>ignore</td>\n",
       "      <td>NaN</td>\n",
       "      <td>NaN</td>\n",
       "      <td>NaN</td>\n",
       "      <td>NaN</td>\n",
       "      <td>NaN</td>\n",
       "      <td>NaN</td>\n",
       "      <td>cabbies right to back down. the toronto star, ...</td>\n",
       "      <td>taxi drivers who were threatening to block aft...</td>\n",
       "    </tr>\n",
       "    <tr>\n",
       "      <th>37</th>\n",
       "      <td>202016004</td>\n",
       "      <td>Canada</td>\n",
       "      <td>20</td>\n",
       "      <td>2016</td>\n",
       "      <td>North America</td>\n",
       "      <td>1</td>\n",
       "      <td>4</td>\n",
       "      <td>20.0</td>\n",
       "      <td>3.0</td>\n",
       "      <td>2016.0</td>\n",
       "      <td>4.0</td>\n",
       "      <td>4.0</td>\n",
       "      <td>2016.0</td>\n",
       "      <td>0.0</td>\n",
       "      <td>Toronto, Ontario</td>\n",
       "      <td>100-999</td>\n",
       "      <td>hundreds</td>\n",
       "      <td>black lives matter</td>\n",
       "      <td>police brutality</td>\n",
       "      <td>NaN</td>\n",
       "      <td>NaN</td>\n",
       "      <td>NaN</td>\n",
       "      <td>crowd dispersal</td>\n",
       "      <td>NaN</td>\n",
       "      <td>NaN</td>\n",
       "      <td>NaN</td>\n",
       "      <td>NaN</td>\n",
       "      <td>NaN</td>\n",
       "      <td>NaN</td>\n",
       "      <td>1. police, demonstrators clash at andrew loku ...</td>\n",
       "      <td>ontario s special investigations unit, the civ...</td>\n",
       "    </tr>\n",
       "    <tr>\n",
       "      <th>38</th>\n",
       "      <td>202016005</td>\n",
       "      <td>Canada</td>\n",
       "      <td>20</td>\n",
       "      <td>2016</td>\n",
       "      <td>North America</td>\n",
       "      <td>1</td>\n",
       "      <td>5</td>\n",
       "      <td>24.0</td>\n",
       "      <td>3.0</td>\n",
       "      <td>2016.0</td>\n",
       "      <td>24.0</td>\n",
       "      <td>3.0</td>\n",
       "      <td>2016.0</td>\n",
       "      <td>0.0</td>\n",
       "      <td>Toronto, Ontario</td>\n",
       "      <td>50-99</td>\n",
       "      <td>dozens</td>\n",
       "      <td>women</td>\n",
       "      <td>political behavior, process</td>\n",
       "      <td>NaN</td>\n",
       "      <td>NaN</td>\n",
       "      <td>NaN</td>\n",
       "      <td>arrests</td>\n",
       "      <td>NaN</td>\n",
       "      <td>NaN</td>\n",
       "      <td>NaN</td>\n",
       "      <td>NaN</td>\n",
       "      <td>NaN</td>\n",
       "      <td>NaN</td>\n",
       "      <td>1. in toronto, former star radio host is acqui...</td>\n",
       "      <td>ghomeshi, who first gained fame as a member of...</td>\n",
       "    </tr>\n",
       "    <tr>\n",
       "      <th>40</th>\n",
       "      <td>202016007</td>\n",
       "      <td>Canada</td>\n",
       "      <td>20</td>\n",
       "      <td>2016</td>\n",
       "      <td>North America</td>\n",
       "      <td>1</td>\n",
       "      <td>7</td>\n",
       "      <td>14.0</td>\n",
       "      <td>4.0</td>\n",
       "      <td>2016.0</td>\n",
       "      <td>14.0</td>\n",
       "      <td>4.0</td>\n",
       "      <td>2016.0</td>\n",
       "      <td>0.0</td>\n",
       "      <td>Toronto</td>\n",
       "      <td>50-99</td>\n",
       "      <td>a group</td>\n",
       "      <td>aboriginal activists</td>\n",
       "      <td>political behavior, process</td>\n",
       "      <td>NaN</td>\n",
       "      <td>NaN</td>\n",
       "      <td>NaN</td>\n",
       "      <td>ignore</td>\n",
       "      <td>NaN</td>\n",
       "      <td>NaN</td>\n",
       "      <td>NaN</td>\n",
       "      <td>NaN</td>\n",
       "      <td>NaN</td>\n",
       "      <td>NaN</td>\n",
       "      <td>standing up for attawapiskat. the toronto star...</td>\n",
       "      <td>a group of aboriginal activists and their supp...</td>\n",
       "    </tr>\n",
       "    <tr>\n",
       "      <th>43</th>\n",
       "      <td>202016010</td>\n",
       "      <td>Canada</td>\n",
       "      <td>20</td>\n",
       "      <td>2016</td>\n",
       "      <td>North America</td>\n",
       "      <td>1</td>\n",
       "      <td>10</td>\n",
       "      <td>13.0</td>\n",
       "      <td>10.0</td>\n",
       "      <td>2016.0</td>\n",
       "      <td>11.0</td>\n",
       "      <td>11.0</td>\n",
       "      <td>2016.0</td>\n",
       "      <td>0.0</td>\n",
       "      <td>Labrador</td>\n",
       "      <td>100-999</td>\n",
       "      <td>busloads</td>\n",
       "      <td>indigenous residents</td>\n",
       "      <td>political behavior, process</td>\n",
       "      <td>NaN</td>\n",
       "      <td>NaN</td>\n",
       "      <td>NaN</td>\n",
       "      <td>arrests</td>\n",
       "      <td>NaN</td>\n",
       "      <td>NaN</td>\n",
       "      <td>NaN</td>\n",
       "      <td>NaN</td>\n",
       "      <td>NaN</td>\n",
       "      <td>NaN</td>\n",
       "      <td>1. protests against muskrat falls hydro projec...</td>\n",
       "      <td>protests. hunger strikes. sit ins that disrupt...</td>\n",
       "    </tr>\n",
       "    <tr>\n",
       "      <th>...</th>\n",
       "      <td>...</td>\n",
       "      <td>...</td>\n",
       "      <td>...</td>\n",
       "      <td>...</td>\n",
       "      <td>...</td>\n",
       "      <td>...</td>\n",
       "      <td>...</td>\n",
       "      <td>...</td>\n",
       "      <td>...</td>\n",
       "      <td>...</td>\n",
       "      <td>...</td>\n",
       "      <td>...</td>\n",
       "      <td>...</td>\n",
       "      <td>...</td>\n",
       "      <td>...</td>\n",
       "      <td>...</td>\n",
       "      <td>...</td>\n",
       "      <td>...</td>\n",
       "      <td>...</td>\n",
       "      <td>...</td>\n",
       "      <td>...</td>\n",
       "      <td>...</td>\n",
       "      <td>...</td>\n",
       "      <td>...</td>\n",
       "      <td>...</td>\n",
       "      <td>...</td>\n",
       "      <td>...</td>\n",
       "      <td>...</td>\n",
       "      <td>...</td>\n",
       "      <td>...</td>\n",
       "      <td>...</td>\n",
       "    </tr>\n",
       "    <tr>\n",
       "      <th>15026</th>\n",
       "      <td>8402017002</td>\n",
       "      <td>Philippines</td>\n",
       "      <td>840</td>\n",
       "      <td>2017</td>\n",
       "      <td>Asia</td>\n",
       "      <td>1</td>\n",
       "      <td>2</td>\n",
       "      <td>15.0</td>\n",
       "      <td>8.0</td>\n",
       "      <td>2017.0</td>\n",
       "      <td>15.0</td>\n",
       "      <td>8.0</td>\n",
       "      <td>2017.0</td>\n",
       "      <td>0.0</td>\n",
       "      <td>Manila</td>\n",
       "      <td>2000-4999</td>\n",
       "      <td>Thousands</td>\n",
       "      <td>protesters organized by the roman catholic chu...</td>\n",
       "      <td>police brutality</td>\n",
       "      <td>NaN</td>\n",
       "      <td>NaN</td>\n",
       "      <td>NaN</td>\n",
       "      <td>ignore</td>\n",
       "      <td>NaN</td>\n",
       "      <td>NaN</td>\n",
       "      <td>NaN</td>\n",
       "      <td>NaN</td>\n",
       "      <td>NaN</td>\n",
       "      <td>NaN</td>\n",
       "      <td>as anti drug push s toll grows in the philippi...</td>\n",
       "      <td>in a dimly lit events room in a church compoun...</td>\n",
       "    </tr>\n",
       "    <tr>\n",
       "      <th>15167</th>\n",
       "      <td>8502016002</td>\n",
       "      <td>Indonesia</td>\n",
       "      <td>850</td>\n",
       "      <td>2016</td>\n",
       "      <td>Asia</td>\n",
       "      <td>1</td>\n",
       "      <td>2</td>\n",
       "      <td>16.0</td>\n",
       "      <td>8.0</td>\n",
       "      <td>2016.0</td>\n",
       "      <td>16.0</td>\n",
       "      <td>8.0</td>\n",
       "      <td>2016.0</td>\n",
       "      <td>0.0</td>\n",
       "      <td>Soewondo Air Force Base, Medan, North Sumatra</td>\n",
       "      <td>100-999</td>\n",
       "      <td>Hundreds</td>\n",
       "      <td>journalists</td>\n",
       "      <td>political behavior, process</td>\n",
       "      <td>police brutality</td>\n",
       "      <td>NaN</td>\n",
       "      <td>NaN</td>\n",
       "      <td>ignore</td>\n",
       "      <td>NaN</td>\n",
       "      <td>NaN</td>\n",
       "      <td>NaN</td>\n",
       "      <td>NaN</td>\n",
       "      <td>NaN</td>\n",
       "      <td>NaN</td>\n",
       "      <td>indonesian journalists slam military brutality...</td>\n",
       "      <td>hundreds of journalists staged a peaceful rall...</td>\n",
       "    </tr>\n",
       "    <tr>\n",
       "      <th>15168</th>\n",
       "      <td>8502016003</td>\n",
       "      <td>Indonesia</td>\n",
       "      <td>850</td>\n",
       "      <td>2016</td>\n",
       "      <td>Asia</td>\n",
       "      <td>1</td>\n",
       "      <td>3</td>\n",
       "      <td>29.0</td>\n",
       "      <td>9.0</td>\n",
       "      <td>2016.0</td>\n",
       "      <td>29.0</td>\n",
       "      <td>9.0</td>\n",
       "      <td>2016.0</td>\n",
       "      <td>0.0</td>\n",
       "      <td>Jakarta</td>\n",
       "      <td>2000-4999</td>\n",
       "      <td>Thousands</td>\n",
       "      <td>union workers</td>\n",
       "      <td>price increases, tax policy</td>\n",
       "      <td>political behavior, process</td>\n",
       "      <td>NaN</td>\n",
       "      <td>NaN</td>\n",
       "      <td>ignore</td>\n",
       "      <td>NaN</td>\n",
       "      <td>NaN</td>\n",
       "      <td>NaN</td>\n",
       "      <td>NaN</td>\n",
       "      <td>NaN</td>\n",
       "      <td>NaN</td>\n",
       "      <td>thousands protest unfair tax amnesty, the nati...</td>\n",
       "      <td>thousands of indonesian union workers marched ...</td>\n",
       "    </tr>\n",
       "    <tr>\n",
       "      <th>15174</th>\n",
       "      <td>8502017002</td>\n",
       "      <td>Indonesia</td>\n",
       "      <td>850</td>\n",
       "      <td>2017</td>\n",
       "      <td>Asia</td>\n",
       "      <td>1</td>\n",
       "      <td>2</td>\n",
       "      <td>1.0</td>\n",
       "      <td>5.0</td>\n",
       "      <td>2017.0</td>\n",
       "      <td>1.0</td>\n",
       "      <td>5.0</td>\n",
       "      <td>2017.0</td>\n",
       "      <td>0.0</td>\n",
       "      <td>Jakarta</td>\n",
       "      <td>2000-4999</td>\n",
       "      <td>Thousands</td>\n",
       "      <td>workers</td>\n",
       "      <td>political behavior, process</td>\n",
       "      <td>NaN</td>\n",
       "      <td>NaN</td>\n",
       "      <td>NaN</td>\n",
       "      <td>ignore</td>\n",
       "      <td>NaN</td>\n",
       "      <td>NaN</td>\n",
       "      <td>NaN</td>\n",
       "      <td>NaN</td>\n",
       "      <td>NaN</td>\n",
       "      <td>NaN</td>\n",
       "      <td>from france to indonesia, marking may day with...</td>\n",
       "      <td>thousands of workers marched toward the presid...</td>\n",
       "    </tr>\n",
       "    <tr>\n",
       "      <th>15176</th>\n",
       "      <td>8502018001</td>\n",
       "      <td>Indonesia</td>\n",
       "      <td>850</td>\n",
       "      <td>2018</td>\n",
       "      <td>Asia</td>\n",
       "      <td>1</td>\n",
       "      <td>1</td>\n",
       "      <td>29.0</td>\n",
       "      <td>1.0</td>\n",
       "      <td>2018.0</td>\n",
       "      <td>29.0</td>\n",
       "      <td>1.0</td>\n",
       "      <td>2018.0</td>\n",
       "      <td>0.0</td>\n",
       "      <td>City Hall, Jakarta</td>\n",
       "      <td>100-999</td>\n",
       "      <td>Hundreds</td>\n",
       "      <td>angkot microbus drivers</td>\n",
       "      <td>political behavior, process</td>\n",
       "      <td>NaN</td>\n",
       "      <td>NaN</td>\n",
       "      <td>NaN</td>\n",
       "      <td>ignore</td>\n",
       "      <td>NaN</td>\n",
       "      <td>NaN</td>\n",
       "      <td>NaN</td>\n",
       "      <td>NaN</td>\n",
       "      <td>NaN</td>\n",
       "      <td>NaN</td>\n",
       "      <td>jakarta governor raises a storm after he shuts...</td>\n",
       "      <td>for mr gorlin simbolin, 52, money was already ...</td>\n",
       "    </tr>\n",
       "  </tbody>\n",
       "</table>\n",
       "<p>973 rows × 31 columns</p>\n",
       "</div>"
      ],
      "text/plain": [
       "               id      country  ccode  year         region  protest  \\\n",
       "35      202016002       Canada     20  2016  North America        1   \n",
       "37      202016004       Canada     20  2016  North America        1   \n",
       "38      202016005       Canada     20  2016  North America        1   \n",
       "40      202016007       Canada     20  2016  North America        1   \n",
       "43      202016010       Canada     20  2016  North America        1   \n",
       "...           ...          ...    ...   ...            ...      ...   \n",
       "15026  8402017002  Philippines    840  2017           Asia        1   \n",
       "15167  8502016002    Indonesia    850  2016           Asia        1   \n",
       "15168  8502016003    Indonesia    850  2016           Asia        1   \n",
       "15174  8502017002    Indonesia    850  2017           Asia        1   \n",
       "15176  8502018001    Indonesia    850  2018           Asia        1   \n",
       "\n",
       "       protestnumber  startday  startmonth  startyear  endday  endmonth  \\\n",
       "35                 2      10.0         2.0     2016.0    10.0       2.0   \n",
       "37                 4      20.0         3.0     2016.0     4.0       4.0   \n",
       "38                 5      24.0         3.0     2016.0    24.0       3.0   \n",
       "40                 7      14.0         4.0     2016.0    14.0       4.0   \n",
       "43                10      13.0        10.0     2016.0    11.0      11.0   \n",
       "...              ...       ...         ...        ...     ...       ...   \n",
       "15026              2      15.0         8.0     2017.0    15.0       8.0   \n",
       "15167              2      16.0         8.0     2016.0    16.0       8.0   \n",
       "15168              3      29.0         9.0     2016.0    29.0       9.0   \n",
       "15174              2       1.0         5.0     2017.0     1.0       5.0   \n",
       "15176              1      29.0         1.0     2018.0    29.0       1.0   \n",
       "\n",
       "       endyear  protesterviolence  \\\n",
       "35      2016.0                0.0   \n",
       "37      2016.0                0.0   \n",
       "38      2016.0                0.0   \n",
       "40      2016.0                0.0   \n",
       "43      2016.0                0.0   \n",
       "...        ...                ...   \n",
       "15026   2017.0                0.0   \n",
       "15167   2016.0                0.0   \n",
       "15168   2016.0                0.0   \n",
       "15174   2017.0                0.0   \n",
       "15176   2018.0                0.0   \n",
       "\n",
       "                                                location  \\\n",
       "35     Montreal  Pierre Elliot Trudeau International ...   \n",
       "37                                      Toronto, Ontario   \n",
       "38                                      Toronto, Ontario   \n",
       "40                                               Toronto   \n",
       "43                                              Labrador   \n",
       "...                                                  ...   \n",
       "15026                                             Manila   \n",
       "15167      Soewondo Air Force Base, Medan, North Sumatra   \n",
       "15168                                            Jakarta   \n",
       "15174                                            Jakarta   \n",
       "15176                                 City Hall, Jakarta   \n",
       "\n",
       "      participants_category participants  \\\n",
       "35                  100-999     hundreds   \n",
       "37                  100-999     hundreds   \n",
       "38                    50-99       dozens   \n",
       "40                    50-99      a group   \n",
       "43                  100-999     busloads   \n",
       "...                     ...          ...   \n",
       "15026             2000-4999    Thousands   \n",
       "15167               100-999     Hundreds   \n",
       "15168             2000-4999    Thousands   \n",
       "15174             2000-4999    Thousands   \n",
       "15176               100-999     Hundreds   \n",
       "\n",
       "                                       protesteridentity  \\\n",
       "35                             taxi drivers against uber   \n",
       "37                                    black lives matter   \n",
       "38                                                 women   \n",
       "40                                  aboriginal activists   \n",
       "43                                  indigenous residents   \n",
       "...                                                  ...   \n",
       "15026  protesters organized by the roman catholic chu...   \n",
       "15167                                        journalists   \n",
       "15168                                      union workers   \n",
       "15174                                            workers   \n",
       "15176                            angkot microbus drivers   \n",
       "\n",
       "                  protesterdemand1             protesterdemand2  \\\n",
       "35              labor wage dispute                          NaN   \n",
       "37                police brutality                          NaN   \n",
       "38     political behavior, process                          NaN   \n",
       "40     political behavior, process                          NaN   \n",
       "43     political behavior, process                          NaN   \n",
       "...                            ...                          ...   \n",
       "15026             police brutality                          NaN   \n",
       "15167  political behavior, process             police brutality   \n",
       "15168  price increases, tax policy  political behavior, process   \n",
       "15174  political behavior, process                          NaN   \n",
       "15176  political behavior, process                          NaN   \n",
       "\n",
       "      protesterdemand3 protesterdemand4   stateresponse1 stateresponse2  \\\n",
       "35                 NaN              NaN           ignore            NaN   \n",
       "37                 NaN              NaN  crowd dispersal            NaN   \n",
       "38                 NaN              NaN          arrests            NaN   \n",
       "40                 NaN              NaN           ignore            NaN   \n",
       "43                 NaN              NaN          arrests            NaN   \n",
       "...                ...              ...              ...            ...   \n",
       "15026              NaN              NaN           ignore            NaN   \n",
       "15167              NaN              NaN           ignore            NaN   \n",
       "15168              NaN              NaN           ignore            NaN   \n",
       "15174              NaN              NaN           ignore            NaN   \n",
       "15176              NaN              NaN           ignore            NaN   \n",
       "\n",
       "      stateresponse3 stateresponse4 stateresponse5 stateresponse6  \\\n",
       "35               NaN            NaN            NaN            NaN   \n",
       "37               NaN            NaN            NaN            NaN   \n",
       "38               NaN            NaN            NaN            NaN   \n",
       "40               NaN            NaN            NaN            NaN   \n",
       "43               NaN            NaN            NaN            NaN   \n",
       "...              ...            ...            ...            ...   \n",
       "15026            NaN            NaN            NaN            NaN   \n",
       "15167            NaN            NaN            NaN            NaN   \n",
       "15168            NaN            NaN            NaN            NaN   \n",
       "15174            NaN            NaN            NaN            NaN   \n",
       "15176            NaN            NaN            NaN            NaN   \n",
       "\n",
       "      stateresponse7                                            sources  \\\n",
       "35               NaN  cabbies right to back down. the toronto star, ...   \n",
       "37               NaN  1. police, demonstrators clash at andrew loku ...   \n",
       "38               NaN  1. in toronto, former star radio host is acqui...   \n",
       "40               NaN  standing up for attawapiskat. the toronto star...   \n",
       "43               NaN  1. protests against muskrat falls hydro projec...   \n",
       "...              ...                                                ...   \n",
       "15026            NaN  as anti drug push s toll grows in the philippi...   \n",
       "15167            NaN  indonesian journalists slam military brutality...   \n",
       "15168            NaN  thousands protest unfair tax amnesty, the nati...   \n",
       "15174            NaN  from france to indonesia, marking may day with...   \n",
       "15176            NaN  jakarta governor raises a storm after he shuts...   \n",
       "\n",
       "                                                   notes  \n",
       "35     taxi drivers who were threatening to block aft...  \n",
       "37     ontario s special investigations unit, the civ...  \n",
       "38     ghomeshi, who first gained fame as a member of...  \n",
       "40     a group of aboriginal activists and their supp...  \n",
       "43     protests. hunger strikes. sit ins that disrupt...  \n",
       "...                                                  ...  \n",
       "15026  in a dimly lit events room in a church compoun...  \n",
       "15167  hundreds of journalists staged a peaceful rall...  \n",
       "15168  thousands of indonesian union workers marched ...  \n",
       "15174  thousands of workers marched toward the presid...  \n",
       "15176  for mr gorlin simbolin, 52, money was already ...  \n",
       "\n",
       "[973 rows x 31 columns]"
      ]
     },
     "execution_count": 74,
     "metadata": {},
     "output_type": "execute_result"
    }
   ],
   "source": [
    "# THIS CELL IS KEY IS ISOLATING THE PROTESTS THAT WEREN'T CLASSIFIED BY THE CONVERTER YET HAVE POTENTIAL OF BEING CONVERTED BY THEIR CATEGORY\n",
    "na_counts = df.loc[participant_ct_clean_df.isna()]\n",
    "\n",
    "print(na_counts.participants_category.value_counts())\n",
    "na_counts_WITH_category = na_counts.loc[~na_counts.participants_category.isna()]\n",
    "na_counts_WITH_category"
   ]
  },
  {
   "cell_type": "code",
   "execution_count": null,
   "id": "0a3f75af",
   "metadata": {},
   "outputs": [],
   "source": [
    "na_counts_WITH_category"
   ]
  },
  {
   "cell_type": "code",
   "execution_count": null,
   "id": "f7b2e9f1",
   "metadata": {},
   "outputs": [],
   "source": [
    "START HERE ---- THIS CELL IS OFF TO A GOOD START --- \n",
    "\n",
    "APPLY THIS FUNCTION YOU'RE ABOUT TO DEFINE TO ALL PROTESTS IN THE ABOVE DATAFRAME\n",
    "THEN UPDATE THE COUNT VALUES IN THE DATAFRAME WITH THESE NEW AVERAGES!!!\n",
    "\n",
    "def convert_range_to_average(string):\n",
    "    \n",
    "\n",
    "# Split \"x-y\" format\n",
    "                participant_range = str.split(participant_clean, '-')\n",
    "                \n",
    "                # Convert both \"x\" and \"y\" to ints before averaging\n",
    "                avg = (int(participant_range[0]) + int(participant_range[1])) / 2\n",
    "                \n",
    "                # Append to converter dictionary if successful\n",
    "                converter[participant] = int(avg)"
   ]
  },
  {
   "cell_type": "code",
   "execution_count": 69,
   "id": "7d10474f",
   "metadata": {},
   "outputs": [],
   "source": [
    "categories_dict = df.participants_category.dropna().unique()\n",
    "ranges = [str.split(cat, '-') for cat in categories_dict]\n",
    "categories_dict = dict(zip(categories_dict, ranges))\n",
    "categories_dict['>10000'] = [10001, 10**15]\n",
    "for cat in categories_dict:\n",
    "    lo = int(categories_dict[cat][0])\n",
    "    hi = int(categories_dict[cat][1])\n",
    "    categories_dict[cat] = [lo, hi]"
   ]
  },
  {
   "cell_type": "code",
   "execution_count": 70,
   "id": "a191f037",
   "metadata": {},
   "outputs": [
    {
     "data": {
      "text/plain": [
       "{'50-99': [50, 99],\n",
       " '100-999': [100, 999],\n",
       " '2000-4999': [2000, 4999],\n",
       " '1000-1999': [1000, 1999],\n",
       " '5000-10000': [5000, 10000],\n",
       " '>10000': [10001, 1000000000000000]}"
      ]
     },
     "execution_count": 70,
     "metadata": {},
     "output_type": "execute_result"
    }
   ],
   "source": [
    "categories_dict"
   ]
  },
  {
   "cell_type": "code",
   "execution_count": null,
   "id": "468eafee",
   "metadata": {},
   "outputs": [],
   "source": [
    "ranges"
   ]
  },
  {
   "cell_type": "code",
   "execution_count": null,
   "id": "20bc68e7",
   "metadata": {},
   "outputs": [],
   "source": [
    "plt.figure()\n",
    "participant_ct_clean_df.dropna().sort_values().hist(bins=25);\n",
    "plt.title('Participant Turnout Hist')\n",
    "\n",
    "\n",
    "plt.figure()\n",
    "participant_ct_clean_df.dropna().sort_values().hist(bins=2000)\n",
    "plt.xlim([0, 50000])\n",
    "plt.title('Participant Turnout Hist (Lower Values)');"
   ]
  },
  {
   "cell_type": "code",
   "execution_count": null,
   "id": "813361bc",
   "metadata": {},
   "outputs": [],
   "source": [
    "df.info()"
   ]
  },
  {
   "cell_type": "code",
   "execution_count": null,
   "id": "8318d7ba",
   "metadata": {},
   "outputs": [],
   "source": [
    "categories_dict"
   ]
  },
  {
   "cell_type": "code",
   "execution_count": null,
   "id": "55150fd2",
   "metadata": {},
   "outputs": [],
   "source": [
    "df.loc[13542]"
   ]
  },
  {
   "cell_type": "code",
   "execution_count": null,
   "id": "5ecc884f",
   "metadata": {},
   "outputs": [],
   "source": [
    "categories_dict"
   ]
  },
  {
   "cell_type": "code",
   "execution_count": null,
   "id": "90190924",
   "metadata": {},
   "outputs": [],
   "source": [
    "participant_ct_clean_df.loc[13542]"
   ]
  },
  {
   "cell_type": "code",
   "execution_count": null,
   "id": "d2ed13d2",
   "metadata": {},
   "outputs": [],
   "source": [
    "df.loc[13542]\n"
   ]
  },
  {
   "cell_type": "code",
   "execution_count": null,
   "id": "245c0c9f",
   "metadata": {},
   "outputs": [],
   "source": [
    "df.participants_category.value_counts()"
   ]
  },
  {
   "cell_type": "code",
   "execution_count": null,
   "id": "849e7d31",
   "metadata": {},
   "outputs": [],
   "source": [
    "stop"
   ]
  },
  {
   "cell_type": "code",
   "execution_count": null,
   "id": "3e1e0189",
   "metadata": {
    "tags": []
   },
   "outputs": [],
   "source": [
    "def pick_bucket(x):\n",
    "    if pd.isna(x):\n",
    "        return np.nan\n",
    "    \n",
    "    for key in categories_dict:\n",
    "        lim_low = categories_dict[key][0]\n",
    "        lim_hi = categories_dict[key][1]\n",
    "        \n",
    "        if (x >= lim_low) and (x <= lim_hi):\n",
    "            return key\n",
    "    return np.nan\n",
    "\n",
    "participant_cat_clean_df = pd.DataFrame(np.array(participant_ct_clean_df.apply(pick_bucket)))\n",
    "participant_cat_clean_df.columns = ['participants_category']"
   ]
  },
  {
   "cell_type": "code",
   "execution_count": null,
   "id": "c0373680",
   "metadata": {},
   "outputs": [],
   "source": [
    "df.info()"
   ]
  },
  {
   "cell_type": "code",
   "execution_count": null,
   "id": "7bc0d898",
   "metadata": {},
   "outputs": [],
   "source": [
    "participant_cat_clean_df.loc[13542]"
   ]
  },
  {
   "cell_type": "markdown",
   "id": "8682b045",
   "metadata": {},
   "source": [
    "#### Move on beyond Protester Counts\n",
    "\n",
    "Next: protesteridentity"
   ]
  },
  {
   "cell_type": "code",
   "execution_count": null,
   "id": "116a8dba",
   "metadata": {},
   "outputs": [],
   "source": [
    "# Replace unknowns with unknown for consistency\n",
    "df.protesteridentity.replace('unspecified', UNKNOWN, inplace=True)\n",
    "df['protesteridentity'] = df['protesteridentity'].fillna(UNKNOWN)\n",
    "\n",
    "\n",
    "df.protesteridentity.value_counts()"
   ]
  },
  {
   "cell_type": "markdown",
   "id": "008ea0be",
   "metadata": {},
   "source": [
    "### Protester Demands"
   ]
  },
  {
   "cell_type": "code",
   "execution_count": null,
   "id": "ed18a31a",
   "metadata": {},
   "outputs": [],
   "source": [
    "print(df.protesterdemand1.value_counts())\n",
    "print('-----')\n",
    "print(df.protesterdemand2.value_counts())\n",
    "print('-----')\n",
    "print(df.protesterdemand3.value_counts())\n",
    "print('-----')\n",
    "print(df.protesterdemand4.value_counts())"
   ]
  },
  {
   "cell_type": "code",
   "execution_count": null,
   "id": "98269cb4",
   "metadata": {},
   "outputs": [],
   "source": [
    "# Create list of unique demands\n",
    "demands = np.concatenate([df.protesterdemand1.dropna().unique(), \n",
    "                          df.protesterdemand2.dropna().unique(),\n",
    "                          df.protesterdemand3.dropna().unique(), \n",
    "                          df.protesterdemand4.dropna().unique()])\n",
    "# Verify there are only 7 demands as indicated by data manual\n",
    "set(demands)"
   ]
  },
  {
   "cell_type": "code",
   "execution_count": null,
   "id": "87aa5a77",
   "metadata": {},
   "outputs": [],
   "source": [
    "demand_cols = ['protesterdemand1', 'protesterdemand2', 'protesterdemand3', 'protesterdemand4']\n",
    "\n",
    "# Replace '.' with np.nan\n",
    "for demand_col in demand_cols:\n",
    "    df[demand_col].replace('.', np.nan, inplace=True)"
   ]
  },
  {
   "cell_type": "code",
   "execution_count": null,
   "id": "2f323eee",
   "metadata": {},
   "outputs": [],
   "source": [
    "df.info()"
   ]
  },
  {
   "cell_type": "code",
   "execution_count": null,
   "id": "12912f8a",
   "metadata": {},
   "outputs": [],
   "source": []
  },
  {
   "cell_type": "code",
   "execution_count": null,
   "id": "b8f2b3c5",
   "metadata": {},
   "outputs": [],
   "source": [
    "ohe = OneHotEncoder(sparse=False)\n",
    "\n",
    "\n",
    "for demand_col in demand_cols:\n",
    "    if demand_col == demand_cols[0]: #first iteration\n",
    "        fit = ohe.fit_transform(df[demand_col].values.reshape(-1, 1))\n",
    "        demand_array = np.array(fit)     \n",
    "        print('Protester demand count:', np.sum(demand_array))\n",
    "    else:\n",
    "        fit = ohe.transform(df[demand_col].values.reshape(-1, 1))\n",
    "        demand_array = np.logical_or(demand_array, fit)\n",
    "        print('Protester demand count:', np.sum(demand_array))\n",
    "        \n",
    "\n",
    "\n",
    "# Clean column names\n",
    "remove_commas = lambda x: str.replace(x, ', ', '/')\n",
    "remove_spaces = lambda x: str.replace(x, ' ', '-')\n",
    "col_names = ohe.get_feature_names(['demands'])\n",
    "col_names = list(map(remove_spaces, map(remove_commas, col_names)))\n",
    "\n",
    "# Store as dataframe \n",
    "demand_df = pd.DataFrame(demand_array, dtype='int', columns=col_names)\n",
    "demand_df.drop('demands_nan', axis=1, inplace=True)\n",
    "\n",
    "print('Final shape:', demand_df.shape)\n",
    "print('Column names:', demand_df.columns)"
   ]
  },
  {
   "cell_type": "markdown",
   "id": "8bba542f",
   "metadata": {},
   "source": [
    "### State responses"
   ]
  },
  {
   "cell_type": "code",
   "execution_count": null,
   "id": "498272bb",
   "metadata": {},
   "outputs": [],
   "source": [
    "# column names containing state response data\n",
    "response_cols = ['stateresponse1', 'stateresponse2', 'stateresponse3', 'stateresponse4', \n",
    "             'stateresponse5', 'stateresponse6', 'stateresponse7']\n",
    "\n",
    "# Replace '.' with np.nan\n",
    "for col in response_cols:\n",
    "    df[col].replace('.', np.nan, inplace=True)"
   ]
  },
  {
   "cell_type": "code",
   "execution_count": null,
   "id": "438db409",
   "metadata": {},
   "outputs": [],
   "source": [
    "# Verify there are only 7 responses as indicated by data manual\n",
    "# Create list of unique demands\n",
    "\n",
    "demands = np.array([])\n",
    "for col in response_cols:\n",
    "    demands = np.concatenate([demands, df[col]])\n",
    "print(set(demands))\n",
    "# We see that there are 7 demands, plus placeholder '.' and 'nan' values to drop later"
   ]
  },
  {
   "cell_type": "code",
   "execution_count": null,
   "id": "24881616",
   "metadata": {},
   "outputs": [],
   "source": [
    "ohe = OneHotEncoder(sparse=False)\n",
    "\n",
    "for col in response_cols:\n",
    "    if col == response_cols[0]: #first iteration\n",
    "        fit = ohe.fit_transform(df[col].values.reshape(-1, 1))\n",
    "        response_array = np.array(fit)     \n",
    "        print('State response count:', np.sum(response_array))\n",
    "        print('Column_names:', ohe.get_feature_names(['responses']))\n",
    "    else:\n",
    "        fit = ohe.transform(df[col].values.reshape(-1, 1))\n",
    "        response_array = np.logical_or(response_array, fit)\n",
    "        print('State response count:', np.sum(response_array))\n",
    "        \n",
    "print('\\nPre-cleaning column names:', ohe.get_feature_names(['responses']))\n",
    "        \n",
    "        \n",
    "# # Clean column names\n",
    "remove_spaces = lambda x: str.replace(x, ' ', '-')\n",
    "col_names = ohe.get_feature_names(['responses'])\n",
    "col_names = list(map(remove_spaces, col_names))\n",
    "print('\\nPost-cleaning column names:', col_names)\n",
    "\n",
    "# Store as dataframe \n",
    "response_df = pd.DataFrame(response_array, dtype='int', columns=col_names)\n",
    "response_df.drop('responses_nan', axis=1, inplace=True)\n",
    "\n",
    "print('\\nFinal shape:', response_df.shape)\n",
    "print('\\nColumn names:', response_df.columns)"
   ]
  },
  {
   "cell_type": "code",
   "execution_count": null,
   "id": "aa0e42c7",
   "metadata": {},
   "outputs": [],
   "source": [
    "df.columns"
   ]
  },
  {
   "cell_type": "markdown",
   "id": "5a4d90c0",
   "metadata": {},
   "source": [
    "### Investigate \"sources\" and \"notes\" columns"
   ]
  },
  {
   "cell_type": "code",
   "execution_count": null,
   "id": "41d355f9",
   "metadata": {},
   "outputs": [],
   "source": [
    "#df.sources.value_counts()"
   ]
  },
  {
   "cell_type": "code",
   "execution_count": null,
   "id": "47864d3a",
   "metadata": {},
   "outputs": [],
   "source": [
    "#df.notes.value_counts()"
   ]
  },
  {
   "cell_type": "markdown",
   "id": "87e3dcb4",
   "metadata": {},
   "source": [
    "##### As can be seen above, the 'source' and 'notes' columns don't contain standardized text. It is best to fill na's such that rows aren't dropped just because these columns aren't filled in"
   ]
  },
  {
   "cell_type": "code",
   "execution_count": null,
   "id": "84cea452",
   "metadata": {},
   "outputs": [],
   "source": [
    "df['notes'] = df['notes'].fillna(UNKNOWN)\n",
    "df['sources'] = df['sources'].fillna(UNKNOWN)"
   ]
  },
  {
   "cell_type": "markdown",
   "id": "d461a04c",
   "metadata": {},
   "source": [
    "### Combine cleaned columns into one dataframe"
   ]
  },
  {
   "cell_type": "code",
   "execution_count": null,
   "id": "f2d3278c",
   "metadata": {},
   "outputs": [],
   "source": [
    "df.info()"
   ]
  },
  {
   "cell_type": "code",
   "execution_count": null,
   "id": "b90bf130",
   "metadata": {},
   "outputs": [],
   "source": [
    "demand_cols"
   ]
  },
  {
   "cell_type": "code",
   "execution_count": null,
   "id": "9aa0ead2",
   "metadata": {},
   "outputs": [],
   "source": [
    "response_cols"
   ]
  },
  {
   "cell_type": "code",
   "execution_count": null,
   "id": "ad4c6cfe",
   "metadata": {},
   "outputs": [],
   "source": [
    "exclude_cols = ['participants_category', 'participants']+demand_cols+response_cols\n",
    "df.drop(exclude_cols, axis=1).info()"
   ]
  },
  {
   "cell_type": "code",
   "execution_count": null,
   "id": "4ae51d2b",
   "metadata": {},
   "outputs": [],
   "source": [
    "df_clean = df.drop(exclude_cols, axis=1)\n",
    "\n",
    "df_clean = pd.concat([df_clean, participant_ct_clean_df, participant_cat_clean_df, demand_df, response_df], axis=1)\n",
    "\n",
    "df_clean.info()"
   ]
  },
  {
   "cell_type": "code",
   "execution_count": null,
   "id": "7986996c",
   "metadata": {},
   "outputs": [],
   "source": [
    "df_clean['participants_category'].isna().sum()"
   ]
  },
  {
   "cell_type": "code",
   "execution_count": null,
   "id": "97654be6",
   "metadata": {},
   "outputs": [],
   "source": [
    "temp = df_clean.loc[df_clean['participants_category'].isna()]\n",
    "temp.id"
   ]
  },
  {
   "cell_type": "code",
   "execution_count": null,
   "id": "e1eb2e8d",
   "metadata": {},
   "outputs": [],
   "source": [
    "df_clean['protesteridentity'].value_counts()"
   ]
  },
  {
   "cell_type": "code",
   "execution_count": null,
   "id": "3ab35793",
   "metadata": {},
   "outputs": [],
   "source": [
    "df_temp = df.copy()\n",
    "\n",
    "df_temp['protesteridentity'] = df_temp['protesteridentity'].fillna(UNKNOWN)\n",
    "df_temp.info()"
   ]
  },
  {
   "cell_type": "code",
   "execution_count": null,
   "id": "307c8e0f",
   "metadata": {},
   "outputs": [],
   "source": [
    "temp.id.index"
   ]
  },
  {
   "cell_type": "code",
   "execution_count": null,
   "id": "92e9a22f",
   "metadata": {},
   "outputs": [],
   "source": [
    "#df.loc[temp.id.index]"
   ]
  },
  {
   "cell_type": "code",
   "execution_count": null,
   "id": "257e4b00",
   "metadata": {},
   "outputs": [],
   "source": [
    "df_clean['participants_category_old'] = df['participants_category']\n",
    "df_clean['participants_old'] = df['participants']"
   ]
  },
  {
   "cell_type": "code",
   "execution_count": null,
   "id": "5288eec4",
   "metadata": {},
   "outputs": [],
   "source": [
    "df_clean.info()"
   ]
  },
  {
   "cell_type": "code",
   "execution_count": null,
   "id": "40983f83",
   "metadata": {},
   "outputs": [],
   "source": [
    "participant_cols = ['id', 'participants', 'participants_category', 'participants_category_old', 'participants_old']\n",
    "\n",
    "part = df_clean[participant_cols]\n",
    "\n",
    "part.info()"
   ]
  },
  {
   "cell_type": "code",
   "execution_count": null,
   "id": "fb9ddda7",
   "metadata": {},
   "outputs": [],
   "source": [
    "part.loc[part.participants_category.isna()]"
   ]
  },
  {
   "cell_type": "code",
   "execution_count": null,
   "id": "cc9fc8e6",
   "metadata": {},
   "outputs": [],
   "source": [
    "NOTE TO SELF - DOUBLE CHECK THAT THE PARTICIPANT COUNTS AND CATEGORIZATIONS ARE CORRECT FOR INDEX 13542 AS A QC"
   ]
  }
 ],
 "metadata": {
  "kernelspec": {
   "display_name": "Python 3",
   "language": "python",
   "name": "python3"
  },
  "language_info": {
   "codemirror_mode": {
    "name": "ipython",
    "version": 3
   },
   "file_extension": ".py",
   "mimetype": "text/x-python",
   "name": "python",
   "nbconvert_exporter": "python",
   "pygments_lexer": "ipython3",
   "version": "3.8.3"
  }
 },
 "nbformat": 4,
 "nbformat_minor": 5
}
