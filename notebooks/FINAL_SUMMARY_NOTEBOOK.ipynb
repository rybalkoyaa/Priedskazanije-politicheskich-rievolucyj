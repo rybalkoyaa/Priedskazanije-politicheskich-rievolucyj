{
 "cells": [
  {
   "cell_type": "markdown",
   "id": "4ba883f4",
   "metadata": {
    "id": "d8384572"
   },
   "source": [
    "# Predicting Political Revolutions\n",
    "Political upheavals have been ever present throughout humanity. Political leaders shape the context for everything we know. For that reason, we as a society need to generate a concrete understanding of when a revolution or political change is imminent. This analysis seeks to forecast whether a given protest will lead to a revolution within six months. \n",
    "\n",
    "The stakeholders for this analysis are wide reaching, but it is most relevant to political scientists, though could also provide insights for political organizers and leadership. The findings can be used to\n",
    "\n",
    "They can use this approach to best understand where efforts are best focused and most likely to lead to an impact. \n",
    "\n",
    "\n",
    "---\n",
    "\n",
    "## Notebook Structure\n",
    "1. Data & Sources\n",
    "2. Data Preparation\n",
    "3. Modeling\n",
    "4. Evaluation\n",
    "5. Conclusion\n",
    "\n",
    "\n",
    "---\n",
    "\n",
    "## Part I. Data & Sources\n",
    "The analysis combines three core datasets from widely different sources to provide a distinctly unique understanding of the subject. They are described below.\n",
    "\n",
    "### The Mass Mobilization Project\n",
    "\n",
    "The first dataset is described in the source documentation as \"an effort to understand citizen movements against governments, what citizens want when they demonstrate against governments, and how governments respond to citizens. The MM data cover 162 countries between 1990 and 2018. These data contain events where 50 or more protesters publicly demonstrate against government, resulting in more than 10,000 protest events. Each event records location, protest size, protester demands, and government responses.\" [(1)](https://massmobilization.github.io/about.html) The project is sponsored by the Political Instability Task Force (PITF). The PITF is funded by the Central Intelligence Agency (CIA). [(1)](https://massmobilization.github.io/about.html) **Throughout this analysis, this dataset will be referred to as the \"Protests\" dataset.**\n",
    "\n",
    "Although the data source does specify that the dataset is not entirely comprehensive of all country across this entire time period. That said, it does contain over 17,000 recorded protests, each composed of 31 features. The data span 167 countries from 1990 to 2020. \n",
    "\n",
    "\n",
    "#### Citation:\n",
    "\n",
    "Clark, David; Regan, Patrick, 2016, \"Mass Mobilization Protest Data\", https://doi.org/10.7910/DVN/HTTWYL, Harvard Dataverse, V5, UNF:6:F/k8KUqKpCa5UssBbL/gzg== [fileUNF]\n",
    "\n",
    "\n",
    "\n",
    "### The Polity Project\n",
    "The second dataset codes \"authority characteristics of states in the world system for purposes of comparative, quantitative analysis.\" [(2)](https://www.systemicpeace.org/polityproject.html) \"The Polity5 dataset covers all major, independent states in the global system over the period 1800-2018 (i.e., states with a total population of 500,000 or more in the most recent year; currently 167 countries. The Polity conceptual scheme is unique in that it examines concomitant qualities of democratic and autocratic authority in governing institutions, rather than discreet and mutually exclusive forms of governance. This perspective envisions a spectrum of governing authority that spans from fully institutionalized autocracies through mixed, or incoherent, authority regimes (termed \"anocracies\") to fully institutionalized democracies.\" [(2)](https://www.systemicpeace.org/polityproject.html). Most relevant to this analysis, \"it also records changes in the institutionalized qualities of governing authority.\"  [(2)](https://www.systemicpeace.org/polityproject.html). These changes in governing authority are the target feature of this analysis. It also contains 1,693 rows of data, each with 24 features. **Throughout this analysis, this dataset will be referred to as the \"Regime Changes\" or \"Regimes\" dataset.**\n",
    "\n",
    "\n",
    "#### Citation: \n",
    "\n",
    "“The Polity Project.” PolityProject, Center for Systemic Peace, www.systemicpeace.org/polityproject.html. \n",
    "\n",
    "\n",
    "\n",
    "### The Database of Political Institutions\n",
    "\n",
    "The third dataset is provided by the Inter-American Development Bank (IDB). \"The Database of Political Institutions presents institutional and electoral results data such as measures of checks and balances, tenure and stability of the government, identification of party affiliation and ideology, and fragmentation of opposition and government parties in the legislature ... [it covers] about 180 countries [from] 1975-2020. It has become one of the most cited databases in comparative political economy and comparative political institutions, with more than 4,500 article citations on Google Scholar as of December 2020.\" [(3)](https://publications.iadb.org/en/database-political-institutions-2020-dpi2020) For the context of this analysis, it includes 8,200 rows of data, each with 77 features. **Throughout this analysis, this dataset will be referred to as the \"Governments\" dataset.** \n",
    "\n",
    "\n",
    "#### Citation:\n",
    "\n",
    "Cruz, Cesi, Philip Keefer, and Carlos Scartascini. 2021. Database of Political Institutions 2020. Washington, DC: Inter-American Development Bank Research Department.\n",
    "\n",
    "### Notes about the breakdown of the Jupyter notebooks used herein\n",
    "\n",
    "Given the large-scale nature of the project, this notebook inevitably does not contain the entire analysis. It does not go into depth on each of the choices made for feature selection or data cleaning. Consider this the \"top level\" notebook, and those more detail-oriented parts of the analysis are handled in their own spaces. Here is where you should go to find more details:\n",
    "\n",
    "\n",
    "1. **[cleaning_protests_dataset.ipynb](cleaning_protests_dataset.ipynb):** Refer to this notebook for a ground-up analysis of the \"Protests\" dataset. It includes important features such as the nature of each protest (size, objectives, location, etc.). Especially exhaustive and detailed data cleaning choices are made in this notebook.\n",
    "2. **[cleaning_regime_changes_dataset.ipynb](cleaning_regime_changes_dataset.ipynb):** Refer to this notebook for a full study of the \"Regime Change\" data. Primarily, this data provides the target feature for the entire analysis: regime change. It indicates when and where political change occurs. Interesting feature engineering takes place here.\n",
    "3. **[cleaning_governments_dataset.ipynb](cleaning_governments_dataset.ipynb):** Refer to this notebook for an impressively comprehensive dataset surrounding descriptive attributes of governments around the world over many decades. Important information includes the political system of countries at specified times, the tenure of the country's primary leader, and the percentage of the popular vote the leader received (where relevant). There are descriptors as granular as the total number of seats in congress (where relevant). Extensive feature selection takes place in this notebook."
   ]
  },
  {
   "cell_type": "markdown",
   "id": "982a3b11",
   "metadata": {
    "id": "afd97cf5"
   },
   "source": [
    "----\n",
    "\n",
    "## Part II. Data Preparation\n",
    "\n",
    "This section provides a brief overview of some data preparation. Note that for the sake of readability and brevity, the majority of the actual data cleaning takes place in the above-mentioned notebooks. Please refer there for information on specific decisions made."
   ]
  },
  {
   "cell_type": "markdown",
   "id": "7c77aa68",
   "metadata": {
    "id": "5326057d"
   },
   "source": [
    "**Import packages used throughout analysis**"
   ]
  },
  {
   "cell_type": "code",
   "execution_count": 1,
   "id": "ab00aec3",
   "metadata": {
    "id": "5be72721",
    "outputId": "2fd61332-81e5-448d-a8c9-d49d5d075545"
   },
   "outputs": [
    {
     "name": "stdout",
     "output_type": "stream",
     "text": [
      "The autoreload extension is already loaded. To reload it, use:\n",
      "  %reload_ext autoreload\n"
     ]
    }
   ],
   "source": [
    "# Basic imporrts\n",
    "import numpy as np\n",
    "import pandas as pd\n",
    "import matplotlib.pyplot as plt\n",
    "import seaborn as sns\n",
    "import sys\n",
    "from sqlalchemy import create_engine\n",
    "import pickle\n",
    "\n",
    "# Model preprocessing and processing\n",
    "from sklearn.model_selection import train_test_split\n",
    "from sklearn.preprocessing import OneHotEncoder, StandardScaler\n",
    "from sklearn.compose import make_column_selector, make_column_transformer\n",
    "from imblearn.over_sampling import SMOTE\n",
    "from sklearn.model_selection import GridSearchCV\n",
    "from imblearn.pipeline import Pipeline\n",
    "from sklearn.base import clone\n",
    "\n",
    "# Models\n",
    "from sklearn.dummy import DummyClassifier\n",
    "from sklearn.linear_model import LogisticRegression\n",
    "from sklearn.ensemble import RandomForestClassifier\n",
    "from xgboost import XGBClassifier\n",
    "\n",
    "# Performance evaluation\n",
    "from sklearn.metrics import f1_score, precision_score, accuracy_score\n",
    "from sklearn.metrics import plot_confusion_matrix, recall_score\n",
    "import shap\n",
    "\n",
    "# Display options\n",
    "pd.options.display.max_columns = 200\n",
    "%matplotlib inline\n",
    "\n",
    "# Convenience for working with external .py files\n",
    "%load_ext autoreload\n",
    "%autoreload 2\n",
    "\n",
    "# Convenience for working with external src code files\n",
    "%load_ext autoreload\n",
    "%autoreload 2\n",
    "sys.path.insert(1, '../src')\n",
    "from custom_plots import *\n",
    "from create_target import *\n",
    "from remove_missing_data import *\n",
    "from evaluate_model_performance import *\n",
    "\n",
    "# Global constants\n",
    "RANDOM_STATE = 2021"
   ]
  },
  {
   "cell_type": "markdown",
   "id": "2407c73c",
   "metadata": {
    "id": "a6dc06e2"
   },
   "source": [
    "**Import \"Regime Change\" dataset**\n",
    "\n",
    "Note that the SQL database being imported has been pre-cleaned with consequential feature engineering in the *cleaning_regime_changes_dataset.ipynb* notebook in this directory."
   ]
  },
  {
   "cell_type": "code",
   "execution_count": 2,
   "id": "f2a989ed",
   "metadata": {
    "id": "e843f8c8"
   },
   "outputs": [],
   "source": [
    "# Import cleaned database via SQL\n",
    "engine = create_engine('sqlite:///../data/processed/regime_changes.db')\n",
    "with engine.begin() as connection:\n",
    "    df_regimes = pd.read_sql('SELECT * FROM regime_changes', con=connection)\n",
    "\n",
    "# Type casting\n",
    "df_regimes.startdate = pd.to_datetime(df_regimes.startdate)\n",
    "df_regimes.enddate = pd.to_datetime(df_regimes.enddate)"
   ]
  },
  {
   "cell_type": "markdown",
   "id": "db87f4cf",
   "metadata": {
    "id": "662c48d4"
   },
   "source": [
    "**Import \"Protests\" dataset**\n",
    "\n",
    "Similar to above, the SQL database has already cleaned with some feature engineering taking place. Refer to *cleaning_protests_dataset.ipynb* in this directory for specifics. "
   ]
  },
  {
   "cell_type": "code",
   "execution_count": 3,
   "id": "5e1d2aef",
   "metadata": {
    "id": "351b9b65"
   },
   "outputs": [],
   "source": [
    "# Import cleaned database via SQL\n",
    "engine = create_engine('sqlite:///../data/processed/protests.db')\n",
    "with engine.begin() as connection:\n",
    "    df_protests = pd.read_sql('SELECT * FROM protests', con=connection)\n",
    "\n",
    "# Type casting\n",
    "df_protests.startdate = pd.to_datetime(df_protests.startdate)"
   ]
  },
  {
   "cell_type": "markdown",
   "id": "ebc97340",
   "metadata": {
    "id": "33684d24"
   },
   "source": [
    "**Import \"Governments\" dataset**\n",
    "\n",
    "This SQL database has already undergone very notable, detail-oriented data cleaning in the *cleaning_governments_dataset.ipynb* notebook in this directory. Notably, it also serves the role of decreasing the number of features from 77 (in the original dataset) to 55 here. That number will again be substantially reduced in the data cleaning section below."
   ]
  },
  {
   "cell_type": "code",
   "execution_count": 4,
   "id": "4dc22e91",
   "metadata": {
    "id": "3bea662b"
   },
   "outputs": [],
   "source": [
    "# Import cleaned database via SQL\n",
    "engine = create_engine('sqlite:///../data/processed/governments.db')\n",
    "with engine.begin() as connection:\n",
    "    df_govts = pd.read_sql('SELECT * FROM governments', con=connection)\n",
    "\n",
    "# Set index to be used in SQL join\n",
    "df_govts.index = df_govts.year_scode\n",
    "\n",
    "# Drop now-duplicated feature\n",
    "df_govts.drop('year_scode', axis=1, inplace=True)"
   ]
  },
  {
   "cell_type": "markdown",
   "id": "d6f24bdf",
   "metadata": {
    "id": "ed93a5da"
   },
   "source": [
    "**Join \"Protests\" and \"Governments\" datasets**\n",
    "\n",
    "By joining these two datasets, a new dataframe is created with each row corresponding to one protest, containing original features about that protest as well as the characteristics of the government in place in that country during the selected year. The two datasets are joined on the index of *\"year_of_protest\"_\"three-letter_country_code\"*, otherwise known as *\"year_scode\"*."
   ]
  },
  {
   "cell_type": "code",
   "execution_count": 5,
   "id": "0e04812b",
   "metadata": {
    "id": "93308ed5"
   },
   "outputs": [
    {
     "name": "stdout",
     "output_type": "stream",
     "text": [
      "<class 'pandas.core.frame.DataFrame'>\n",
      "Int64Index: 15064 entries, 0 to 15207\n",
      "Data columns (total 76 columns):\n",
      " #   Column                             Non-Null Count  Dtype         \n",
      "---  ------                             --------------  -----         \n",
      " 0   country                            15064 non-null  object        \n",
      " 1   scode                              15064 non-null  object        \n",
      " 2   region                             15064 non-null  object        \n",
      " 3   protestnumber                      15064 non-null  int64         \n",
      " 4   protesterviolence                  15064 non-null  int64         \n",
      " 5   startdate                          15064 non-null  datetime64[ns]\n",
      " 6   duration_days                      15064 non-null  int64         \n",
      " 7   participants                       15064 non-null  int64         \n",
      " 8   participants_category              15064 non-null  object        \n",
      " 9   demand_labor-wage-dispute          15064 non-null  int64         \n",
      " 10  demand_land-farm-issue             15064 non-null  int64         \n",
      " 11  demand_police-brutality            15064 non-null  int64         \n",
      " 12  demand_political-behavior/process  15064 non-null  int64         \n",
      " 13  demand_price-increases/tax-policy  15064 non-null  int64         \n",
      " 14  demand_removal-of-politician       15064 non-null  int64         \n",
      " 15  demand_social-restrictions         15064 non-null  int64         \n",
      " 16  year_scode                         15064 non-null  object        \n",
      " 17  participants_log                   15064 non-null  float64       \n",
      " 18  duration_days_log                  15064 non-null  float64       \n",
      " 19  protestnumber_log                  15064 non-null  float64       \n",
      " 20  system                             15064 non-null  object        \n",
      " 21  yrsoffc                            15064 non-null  float64       \n",
      " 22  finittrm                           15064 non-null  float64       \n",
      " 23  yrcurnt                            15064 non-null  float64       \n",
      " 24  termlimit                          15064 non-null  float64       \n",
      " 25  reelect                            15064 non-null  float64       \n",
      " 26  multpl                             15064 non-null  float64       \n",
      " 27  military                           15064 non-null  float64       \n",
      " 28  defmin                             15064 non-null  float64       \n",
      " 29  prtyin                             15064 non-null  float64       \n",
      " 30  execrlc                            15064 non-null  object        \n",
      " 31  execnat                            15064 non-null  float64       \n",
      " 32  execrel                            15064 non-null  object        \n",
      " 33  execage                            15064 non-null  float64       \n",
      " 34  allhouse                           15064 non-null  float64       \n",
      " 35  totalseats                         15064 non-null  float64       \n",
      " 36  oppmajh                            15064 non-null  float64       \n",
      " 37  oppmajs                            15064 non-null  float64       \n",
      " 38  legelec                            15064 non-null  float64       \n",
      " 39  exelec                             15064 non-null  float64       \n",
      " 40  liec                               15064 non-null  float64       \n",
      " 41  eiec                               15064 non-null  float64       \n",
      " 42  mdmh                               15064 non-null  float64       \n",
      " 43  mdms                               15064 non-null  float64       \n",
      " 44  ssh                                15064 non-null  float64       \n",
      " 45  pluralty                           15064 non-null  float64       \n",
      " 46  pr                                 15064 non-null  float64       \n",
      " 47  housesys                           15064 non-null  object        \n",
      " 48  sensys                             15064 non-null  object        \n",
      " 49  thresh                             15064 non-null  float64       \n",
      " 50  cl                                 15064 non-null  float64       \n",
      " 51  gq                                 15064 non-null  float64       \n",
      " 52  gqi                                15064 non-null  float64       \n",
      " 53  fraud                              15064 non-null  object        \n",
      " 54  auton                              15064 non-null  float64       \n",
      " 55  muni                               15064 non-null  float64       \n",
      " 56  state                              15064 non-null  float64       \n",
      " 57  author                             15064 non-null  float64       \n",
      " 58  numvote                            15064 non-null  float64       \n",
      " 59  oppvote                            15064 non-null  float64       \n",
      " 60  maj                                15064 non-null  float64       \n",
      " 61  partyage                           15064 non-null  float64       \n",
      " 62  herfgov                            15064 non-null  float64       \n",
      " 63  herfopp                            15064 non-null  float64       \n",
      " 64  frac                               15064 non-null  float64       \n",
      " 65  oppfrac                            15064 non-null  float64       \n",
      " 66  govfrac                            15064 non-null  float64       \n",
      " 67  tensys_strict                      15064 non-null  float64       \n",
      " 68  checks                             15064 non-null  float64       \n",
      " 69  stabs_strict                       15064 non-null  float64       \n",
      " 70  tenlong_strict                     15064 non-null  float64       \n",
      " 71  tenshort_strict                    15064 non-null  float64       \n",
      " 72  polariz                            15064 non-null  float64       \n",
      " 73  country_govt                       15064 non-null  object        \n",
      " 74  scode_govt                         15064 non-null  object        \n",
      " 75  percent                            15064 non-null  float64       \n",
      "dtypes: datetime64[ns](1), float64(51), int64(11), object(13)\n",
      "memory usage: 8.8+ MB\n"
     ]
    }
   ],
   "source": [
    "# Join both dataframes\n",
    "df = df_protests.join(df_govts, how='left', on='year_scode')\n",
    "\n",
    "# Remove entries that don't have corresponding 'government' data\n",
    "df.dropna(inplace=True)\n",
    "\n",
    "df.info()"
   ]
  },
  {
   "cell_type": "markdown",
   "id": "17b5686b",
   "metadata": {},
   "source": [
    "##### Identify countries that are missing from \"Regime Changes\" dataset"
   ]
  },
  {
   "cell_type": "code",
   "execution_count": 6,
   "id": "c580e2e4",
   "metadata": {},
   "outputs": [
    {
     "name": "stdout",
     "output_type": "stream",
     "text": [
      "Countries missing from \"Regimes\" dataset: ['LUX']\n"
     ]
    }
   ],
   "source": [
    "# All countries in union of Protests and Governments\n",
    "all_countries = df.scode.unique()\n",
    "\n",
    "# All countries in Regimes\n",
    "regime_countries = df_regimes.scode.unique()\n",
    "\n",
    "\n",
    "# Loop over all_countries\n",
    "missing = []\n",
    "for country in all_countries:\n",
    "    # Make note of any countries not in Regimes\n",
    "    \n",
    "    if country not in regime_countries:\n",
    "        missing.append(country)\n",
    "\n",
    "print('Countries missing from \"Regimes\" dataset:', missing)\n",
    "\n",
    "# Remove these countries from dataset\n",
    "scodes_to_remove_ind = [x in missing for x in df.scode]\n",
    "df.drop(df.loc[scodes_to_remove_ind].index, axis=0, inplace=True)"
   ]
  },
  {
   "cell_type": "code",
   "execution_count": 7,
   "id": "d1a3bf5b",
   "metadata": {},
   "outputs": [
    {
     "name": "stdout",
     "output_type": "stream",
     "text": [
      "<class 'pandas.core.frame.DataFrame'>\n",
      "Int64Index: 15061 entries, 0 to 15207\n",
      "Data columns (total 76 columns):\n",
      " #   Column                             Non-Null Count  Dtype         \n",
      "---  ------                             --------------  -----         \n",
      " 0   country                            15061 non-null  object        \n",
      " 1   scode                              15061 non-null  object        \n",
      " 2   region                             15061 non-null  object        \n",
      " 3   protestnumber                      15061 non-null  int64         \n",
      " 4   protesterviolence                  15061 non-null  int64         \n",
      " 5   startdate                          15061 non-null  datetime64[ns]\n",
      " 6   duration_days                      15061 non-null  int64         \n",
      " 7   participants                       15061 non-null  int64         \n",
      " 8   participants_category              15061 non-null  object        \n",
      " 9   demand_labor-wage-dispute          15061 non-null  int64         \n",
      " 10  demand_land-farm-issue             15061 non-null  int64         \n",
      " 11  demand_police-brutality            15061 non-null  int64         \n",
      " 12  demand_political-behavior/process  15061 non-null  int64         \n",
      " 13  demand_price-increases/tax-policy  15061 non-null  int64         \n",
      " 14  demand_removal-of-politician       15061 non-null  int64         \n",
      " 15  demand_social-restrictions         15061 non-null  int64         \n",
      " 16  year_scode                         15061 non-null  object        \n",
      " 17  participants_log                   15061 non-null  float64       \n",
      " 18  duration_days_log                  15061 non-null  float64       \n",
      " 19  protestnumber_log                  15061 non-null  float64       \n",
      " 20  system                             15061 non-null  object        \n",
      " 21  yrsoffc                            15061 non-null  float64       \n",
      " 22  finittrm                           15061 non-null  float64       \n",
      " 23  yrcurnt                            15061 non-null  float64       \n",
      " 24  termlimit                          15061 non-null  float64       \n",
      " 25  reelect                            15061 non-null  float64       \n",
      " 26  multpl                             15061 non-null  float64       \n",
      " 27  military                           15061 non-null  float64       \n",
      " 28  defmin                             15061 non-null  float64       \n",
      " 29  prtyin                             15061 non-null  float64       \n",
      " 30  execrlc                            15061 non-null  object        \n",
      " 31  execnat                            15061 non-null  float64       \n",
      " 32  execrel                            15061 non-null  object        \n",
      " 33  execage                            15061 non-null  float64       \n",
      " 34  allhouse                           15061 non-null  float64       \n",
      " 35  totalseats                         15061 non-null  float64       \n",
      " 36  oppmajh                            15061 non-null  float64       \n",
      " 37  oppmajs                            15061 non-null  float64       \n",
      " 38  legelec                            15061 non-null  float64       \n",
      " 39  exelec                             15061 non-null  float64       \n",
      " 40  liec                               15061 non-null  float64       \n",
      " 41  eiec                               15061 non-null  float64       \n",
      " 42  mdmh                               15061 non-null  float64       \n",
      " 43  mdms                               15061 non-null  float64       \n",
      " 44  ssh                                15061 non-null  float64       \n",
      " 45  pluralty                           15061 non-null  float64       \n",
      " 46  pr                                 15061 non-null  float64       \n",
      " 47  housesys                           15061 non-null  object        \n",
      " 48  sensys                             15061 non-null  object        \n",
      " 49  thresh                             15061 non-null  float64       \n",
      " 50  cl                                 15061 non-null  float64       \n",
      " 51  gq                                 15061 non-null  float64       \n",
      " 52  gqi                                15061 non-null  float64       \n",
      " 53  fraud                              15061 non-null  object        \n",
      " 54  auton                              15061 non-null  float64       \n",
      " 55  muni                               15061 non-null  float64       \n",
      " 56  state                              15061 non-null  float64       \n",
      " 57  author                             15061 non-null  float64       \n",
      " 58  numvote                            15061 non-null  float64       \n",
      " 59  oppvote                            15061 non-null  float64       \n",
      " 60  maj                                15061 non-null  float64       \n",
      " 61  partyage                           15061 non-null  float64       \n",
      " 62  herfgov                            15061 non-null  float64       \n",
      " 63  herfopp                            15061 non-null  float64       \n",
      " 64  frac                               15061 non-null  float64       \n",
      " 65  oppfrac                            15061 non-null  float64       \n",
      " 66  govfrac                            15061 non-null  float64       \n",
      " 67  tensys_strict                      15061 non-null  float64       \n",
      " 68  checks                             15061 non-null  float64       \n",
      " 69  stabs_strict                       15061 non-null  float64       \n",
      " 70  tenlong_strict                     15061 non-null  float64       \n",
      " 71  tenshort_strict                    15061 non-null  float64       \n",
      " 72  polariz                            15061 non-null  float64       \n",
      " 73  country_govt                       15061 non-null  object        \n",
      " 74  scode_govt                         15061 non-null  object        \n",
      " 75  percent                            15061 non-null  float64       \n",
      "dtypes: datetime64[ns](1), float64(51), int64(11), object(13)\n",
      "memory usage: 8.8+ MB\n"
     ]
    }
   ],
   "source": [
    "df.info()"
   ]
  },
  {
   "cell_type": "markdown",
   "id": "c8665928",
   "metadata": {
    "id": "927a976c"
   },
   "source": [
    "**Join with \"Regime Changes\" dataset**\n",
    "\n",
    "Add the third and final dataset, which includes the \"target\" feature of the analysis. "
   ]
  },
  {
   "cell_type": "code",
   "execution_count": 8,
   "id": "6c814c44",
   "metadata": {
    "id": "91f8a6f1"
   },
   "outputs": [
    {
     "name": "stdout",
     "output_type": "stream",
     "text": [
      "(15207, 81)\n",
      "<class 'pandas.core.frame.DataFrame'>\n",
      "Int64Index: 15207 entries, 0 to 15207\n",
      "Data columns (total 81 columns):\n",
      " #   Column                             Non-Null Count  Dtype         \n",
      "---  ------                             --------------  -----         \n",
      " 0   index                              15061 non-null  float64       \n",
      " 1   country                            15061 non-null  object        \n",
      " 2   scode                              15061 non-null  object        \n",
      " 3   region                             15061 non-null  object        \n",
      " 4   protestnumber                      15061 non-null  float64       \n",
      " 5   protesterviolence                  15061 non-null  float64       \n",
      " 6   startdate                          15061 non-null  datetime64[ns]\n",
      " 7   duration_days                      15061 non-null  float64       \n",
      " 8   participants                       15061 non-null  float64       \n",
      " 9   participants_category              15061 non-null  object        \n",
      " 10  demand_labor-wage-dispute          15061 non-null  float64       \n",
      " 11  demand_land-farm-issue             15061 non-null  float64       \n",
      " 12  demand_police-brutality            15061 non-null  float64       \n",
      " 13  demand_political-behavior/process  15061 non-null  float64       \n",
      " 14  demand_price-increases/tax-policy  15061 non-null  float64       \n",
      " 15  demand_removal-of-politician       15061 non-null  float64       \n",
      " 16  demand_social-restrictions         15061 non-null  float64       \n",
      " 17  year_scode                         15061 non-null  object        \n",
      " 18  participants_log                   15061 non-null  float64       \n",
      " 19  duration_days_log                  15061 non-null  float64       \n",
      " 20  protestnumber_log                  15061 non-null  float64       \n",
      " 21  system                             15061 non-null  object        \n",
      " 22  yrsoffc                            15061 non-null  float64       \n",
      " 23  finittrm                           15061 non-null  float64       \n",
      " 24  yrcurnt                            15061 non-null  float64       \n",
      " 25  termlimit                          15061 non-null  float64       \n",
      " 26  reelect                            15061 non-null  float64       \n",
      " 27  multpl                             15061 non-null  float64       \n",
      " 28  military                           15061 non-null  float64       \n",
      " 29  defmin                             15061 non-null  float64       \n",
      " 30  prtyin                             15061 non-null  float64       \n",
      " 31  execrlc                            15061 non-null  object        \n",
      " 32  execnat                            15061 non-null  float64       \n",
      " 33  execrel                            15061 non-null  object        \n",
      " 34  execage                            15061 non-null  float64       \n",
      " 35  allhouse                           15061 non-null  float64       \n",
      " 36  totalseats                         15061 non-null  float64       \n",
      " 37  oppmajh                            15061 non-null  float64       \n",
      " 38  oppmajs                            15061 non-null  float64       \n",
      " 39  legelec                            15061 non-null  float64       \n",
      " 40  exelec                             15061 non-null  float64       \n",
      " 41  liec                               15061 non-null  float64       \n",
      " 42  eiec                               15061 non-null  float64       \n",
      " 43  mdmh                               15061 non-null  float64       \n",
      " 44  mdms                               15061 non-null  float64       \n",
      " 45  ssh                                15061 non-null  float64       \n",
      " 46  pluralty                           15061 non-null  float64       \n",
      " 47  pr                                 15061 non-null  float64       \n",
      " 48  housesys                           15061 non-null  object        \n",
      " 49  sensys                             15061 non-null  object        \n",
      " 50  thresh                             15061 non-null  float64       \n",
      " 51  cl                                 15061 non-null  float64       \n",
      " 52  gq                                 15061 non-null  float64       \n",
      " 53  gqi                                15061 non-null  float64       \n",
      " 54  fraud                              15061 non-null  object        \n",
      " 55  auton                              15061 non-null  float64       \n",
      " 56  muni                               15061 non-null  float64       \n",
      " 57  state                              15061 non-null  float64       \n",
      " 58  author                             15061 non-null  float64       \n",
      " 59  numvote                            15061 non-null  float64       \n",
      " 60  oppvote                            15061 non-null  float64       \n",
      " 61  maj                                15061 non-null  float64       \n",
      " 62  partyage                           15061 non-null  float64       \n",
      " 63  herfgov                            15061 non-null  float64       \n",
      " 64  herfopp                            15061 non-null  float64       \n",
      " 65  frac                               15061 non-null  float64       \n",
      " 66  oppfrac                            15061 non-null  float64       \n",
      " 67  govfrac                            15061 non-null  float64       \n",
      " 68  tensys_strict                      15061 non-null  float64       \n",
      " 69  checks                             15061 non-null  float64       \n",
      " 70  stabs_strict                       15061 non-null  float64       \n",
      " 71  tenlong_strict                     15061 non-null  float64       \n",
      " 72  tenshort_strict                    15061 non-null  float64       \n",
      " 73  polariz                            15061 non-null  float64       \n",
      " 74  country_govt                       15061 non-null  object        \n",
      " 75  scode_govt                         15061 non-null  object        \n",
      " 76  percent                            15061 non-null  float64       \n",
      " 77  xconst                             15061 non-null  object        \n",
      " 78  present                            15061 non-null  object        \n",
      " 79  next_regime_chg_date               15061 non-null  datetime64[ns]\n",
      " 80  days_until_next_regime_chg         15061 non-null  float64       \n",
      "dtypes: datetime64[ns](2), float64(64), object(15)\n",
      "memory usage: 9.5+ MB\n"
     ]
    }
   ],
   "source": [
    "target = create_target(df, df_regimes)\n",
    "df = pd.concat([df, target], axis=1)\n",
    "print(df.shape)\n",
    "df.info()"
   ]
  },
  {
   "cell_type": "markdown",
   "id": "42b366e2",
   "metadata": {
    "id": "d4c28260"
   },
   "source": [
    "### Basic cleaning\n",
    "\n",
    "Start by running custom function that removes all features that don't have a minimum threshold of non-null values"
   ]
  },
  {
   "cell_type": "code",
   "execution_count": 9,
   "id": "5d15b22c",
   "metadata": {},
   "outputs": [
    {
     "name": "stdout",
     "output_type": "stream",
     "text": [
      "<class 'pandas.core.frame.DataFrame'>\n",
      "Int64Index: 11840 entries, 0 to 15060\n",
      "Data columns (total 54 columns):\n",
      " #   Column                             Non-Null Count  Dtype         \n",
      "---  ------                             --------------  -----         \n",
      " 0   index                              11840 non-null  float64       \n",
      " 1   country                            11840 non-null  object        \n",
      " 2   scode                              11840 non-null  object        \n",
      " 3   region                             11840 non-null  object        \n",
      " 4   protestnumber                      11840 non-null  float64       \n",
      " 5   protesterviolence                  11840 non-null  float64       \n",
      " 6   startdate                          11840 non-null  datetime64[ns]\n",
      " 7   duration_days                      11840 non-null  float64       \n",
      " 8   participants                       11840 non-null  float64       \n",
      " 9   participants_category              11840 non-null  object        \n",
      " 10  demand_labor-wage-dispute          11840 non-null  float64       \n",
      " 11  demand_land-farm-issue             11840 non-null  float64       \n",
      " 12  demand_police-brutality            11840 non-null  float64       \n",
      " 13  demand_political-behavior/process  11840 non-null  float64       \n",
      " 14  demand_price-increases/tax-policy  11840 non-null  float64       \n",
      " 15  demand_removal-of-politician       11840 non-null  float64       \n",
      " 16  demand_social-restrictions         11840 non-null  float64       \n",
      " 17  year_scode                         11840 non-null  object        \n",
      " 18  participants_log                   11840 non-null  float64       \n",
      " 19  duration_days_log                  11840 non-null  float64       \n",
      " 20  protestnumber_log                  11840 non-null  float64       \n",
      " 21  system                             11840 non-null  object        \n",
      " 22  yrsoffc                            11840 non-null  float64       \n",
      " 23  finittrm                           11840 non-null  float64       \n",
      " 24  termlimit                          11840 non-null  float64       \n",
      " 25  military                           11840 non-null  float64       \n",
      " 26  defmin                             11840 non-null  float64       \n",
      " 27  execnat                            11840 non-null  float64       \n",
      " 28  execrel                            11840 non-null  object        \n",
      " 29  totalseats                         11840 non-null  float64       \n",
      " 30  oppmajh                            11840 non-null  float64       \n",
      " 31  legelec                            11840 non-null  float64       \n",
      " 32  exelec                             11840 non-null  float64       \n",
      " 33  liec                               11840 non-null  float64       \n",
      " 34  eiec                               11840 non-null  float64       \n",
      " 35  gq                                 11840 non-null  float64       \n",
      " 36  gqi                                11840 non-null  float64       \n",
      " 37  auton                              11840 non-null  float64       \n",
      " 38  numvote                            11840 non-null  float64       \n",
      " 39  oppvote                            11840 non-null  float64       \n",
      " 40  maj                                11840 non-null  float64       \n",
      " 41  herfgov                            11840 non-null  float64       \n",
      " 42  govfrac                            11840 non-null  float64       \n",
      " 43  tensys_strict                      11840 non-null  float64       \n",
      " 44  checks                             11840 non-null  float64       \n",
      " 45  stabs_strict                       11840 non-null  float64       \n",
      " 46  tenlong_strict                     11840 non-null  float64       \n",
      " 47  tenshort_strict                    11840 non-null  float64       \n",
      " 48  country_govt                       11840 non-null  object        \n",
      " 49  scode_govt                         11840 non-null  object        \n",
      " 50  xconst                             11840 non-null  float64       \n",
      " 51  present                            11840 non-null  float64       \n",
      " 52  next_regime_chg_date               11840 non-null  datetime64[ns]\n",
      " 53  days_until_next_regime_chg         11840 non-null  float64       \n",
      "dtypes: datetime64[ns](2), float64(43), object(9)\n",
      "memory usage: 5.0+ MB\n"
     ]
    }
   ],
   "source": [
    "# Remove entries with limited \"government\" data\n",
    "df = remove_missing_data(df, 1000)\n",
    "df.info()"
   ]
  },
  {
   "cell_type": "code",
   "execution_count": 10,
   "id": "73a07182",
   "metadata": {},
   "outputs": [],
   "source": [
    "# Convert startdate to a float instead of datetime since datetime cannot be \n",
    "# handled by models but fractional years can\n",
    "df['startdate'] = df.startdate.dt.year + \\\n",
    "                  df.startdate.dt.month/12 + \\\n",
    "                  df.startdate.dt.day/365"
   ]
  },
  {
   "cell_type": "code",
   "execution_count": 11,
   "id": "d67843b8",
   "metadata": {},
   "outputs": [],
   "source": [
    "# Type casting\n",
    "df['region'] = df.region.astype('category')\n",
    "df['system'] = df.system.astype('category')\n",
    "df['country'] = df.country.astype('category')\n",
    "df['xconst'] = df['xconst'].astype('int')"
   ]
  },
  {
   "cell_type": "markdown",
   "id": "ddec26b8",
   "metadata": {},
   "source": [
    "#### Define target\n",
    "This allows the user to define the target in terms of the amount of time before which a regime transition will occur. For this analysis, it uses 6 months, but other values have also been explored with similar results."
   ]
  },
  {
   "cell_type": "code",
   "execution_count": 12,
   "id": "5555d69f",
   "metadata": {},
   "outputs": [],
   "source": [
    "DAYS_UNTIL_CHG = 365/2 #6 months\n",
    "target = pd.DataFrame(df['days_until_next_regime_chg'] < DAYS_UNTIL_CHG)\n",
    "target = target.astype('int')\n",
    "target.columns = ['target']"
   ]
  },
  {
   "cell_type": "markdown",
   "id": "7bb644ad",
   "metadata": {},
   "source": [
    "#### Drop unused columns\n",
    "\n",
    "Refer to \"model.ipynb\" notebook for decision-making details. Specific descisions will not be discussed here as they are covered in depth in the previously mentioned file."
   ]
  },
  {
   "cell_type": "code",
   "execution_count": 13,
   "id": "292fb335",
   "metadata": {
    "id": "37e617ce",
    "outputId": "939d0e71-b6b0-46e0-853d-a2dd20d6230c"
   },
   "outputs": [],
   "source": [
    "drop_cols = ['year_scode', 'scode_govt', 'country_govt', 'startdate',\n",
    "             'days_until_next_regime_chg', 'scode', 'participants_category', 'participants',\n",
    "             'next_regime_chg_date', 'index', 'duration_days', 'present', 'protestnumber']\n",
    "df.drop(drop_cols, axis=1, inplace=True)\n",
    "\n",
    "\n",
    "# Features with high collinearity\n",
    "colinear_cols = ['liec', 'eiec', 'tenlong_strict', 'tenshort_strict', 'finittrm', 'govfrac', 'oppvote']\n",
    "df.drop(colinear_cols, axis=1, inplace=True)"
   ]
  },
  {
   "cell_type": "markdown",
   "id": "89342595",
   "metadata": {
    "id": "e7188499"
   },
   "source": [
    "### Feature descriptions\n",
    "\n",
    "Given the large number of features with abbreviated names, those that are used within the model are defined below.\n",
    "\n",
    "Protest Details - as provided by *Protests* dataset:\n",
    "- **country:** location of protest\n",
    "- **region:** global region\n",
    "- **protestnumber:** protest number in the selected country in a given year \n",
    "- **protesterviolence:** (y/n) indicator of protester violence\n",
    "- **startdate:** first day of protest\n",
    "- **participants:** number of individuals in attendance\n",
    "\n",
    "---\n",
    "\n",
    "Categorizations of the reason for a protest (multiple options possible) - as provided by *Protests* dataset:\n",
    "-  **labor wage dispute** \n",
    "-  **land farm issue** \n",
    "-  **police brutality** \n",
    "-  **political behavior/process** \n",
    "-  **price increases/tax policy** \n",
    "-  **removal of politician** \n",
    "-  **social restrictions** \n",
    "\n",
    "---\n",
    "\n",
    "Government descriptors in the given country at the time protest - as provided by *Government Characterization* dataset. Strict, quantifiable definitions are provided in Data Manual.\n",
    "\n",
    "- **system:** governmental system (Parliamentary, Assembly-elected president, Presidential, Unelected)\n",
    "- **yrsoffc:** number of years the chief executive has been in office\n",
    "- **finittrm:** (y/n) is there a finite term in office?\n",
    "- **military:** (y/n) is the chief executive a military officer?\n",
    "- **totalseats:** total seats in the legislature\n",
    "- **legelec:** (y/n) is there a legislative election in the protest year?\n",
    "- **exelec:** (y/n) is there a executive election in the protest year?\n",
    "- **liec:** legislative index of electoral competitiveness\n",
    "- **eiec:** executive index of electoral competitiveness\n",
    "- **gq:** are there gender quotas in government (None, Voluntary, Reserved, Required)\n",
    "- **numvote:** total vote share of governmental leadership party\n",
    "- **oppvote:** total vote share of all opposition parties\n",
    "- **tensys_strict:** length of time the country has been autocratic or democratic\n",
    "- **stabs_strict:** stability, as measured by the percent of veto players who *drop* from the government in a given year\n",
    "\n",
    "---\n",
    "\n",
    "Political regime authority characteristics - as provided by *Regime Changes* dataset. Strict, quantifiable definitions are provided in Data Manual.\n",
    "\n",
    "- **parcomp:** competitiveness of political participation (Repressed, Suppressed, Factional, Transitional, Competitive)\n",
    "- **parreg:** regulation of participation (Unregulated, Multiple Identity, Sectarian, Restricted, Regulated)\n",
    "- **xconst:** executive constraints / decision rules (Unlimited Authority through Executive Parity)\n",
    "- **xropen / xrcomp:** openness/competitiveness of executive recruitment (Closed, Designation, Election)\n",
    "- **regime transition:** target feature for this analysis, quantified by a pre-specified level of change in above metrics. See data dictionary for in-depth technical definition of political regime transition. Note that the purpose of this analysis is not to define what a regime transition is, but rather to use existing definitions to best understand the circumstances under which they do occur."
   ]
  },
  {
   "cell_type": "code",
   "execution_count": 14,
   "id": "b1259a61",
   "metadata": {
    "id": "2c3a7932",
    "outputId": "9dbd4c89-7d15-47b5-c646-f5e07fbb99c6"
   },
   "outputs": [
    {
     "name": "stdout",
     "output_type": "stream",
     "text": [
      "<class 'pandas.core.frame.DataFrame'>\n",
      "Int64Index: 11840 entries, 0 to 15060\n",
      "Data columns (total 34 columns):\n",
      " #   Column                             Non-Null Count  Dtype   \n",
      "---  ------                             --------------  -----   \n",
      " 0   country                            11840 non-null  category\n",
      " 1   region                             11840 non-null  category\n",
      " 2   protesterviolence                  11840 non-null  float64 \n",
      " 3   demand_labor-wage-dispute          11840 non-null  float64 \n",
      " 4   demand_land-farm-issue             11840 non-null  float64 \n",
      " 5   demand_police-brutality            11840 non-null  float64 \n",
      " 6   demand_political-behavior/process  11840 non-null  float64 \n",
      " 7   demand_price-increases/tax-policy  11840 non-null  float64 \n",
      " 8   demand_removal-of-politician       11840 non-null  float64 \n",
      " 9   demand_social-restrictions         11840 non-null  float64 \n",
      " 10  participants_log                   11840 non-null  float64 \n",
      " 11  duration_days_log                  11840 non-null  float64 \n",
      " 12  protestnumber_log                  11840 non-null  float64 \n",
      " 13  system                             11840 non-null  category\n",
      " 14  yrsoffc                            11840 non-null  float64 \n",
      " 15  termlimit                          11840 non-null  float64 \n",
      " 16  military                           11840 non-null  float64 \n",
      " 17  defmin                             11840 non-null  float64 \n",
      " 18  execnat                            11840 non-null  float64 \n",
      " 19  execrel                            11840 non-null  object  \n",
      " 20  totalseats                         11840 non-null  float64 \n",
      " 21  oppmajh                            11840 non-null  float64 \n",
      " 22  legelec                            11840 non-null  float64 \n",
      " 23  exelec                             11840 non-null  float64 \n",
      " 24  gq                                 11840 non-null  float64 \n",
      " 25  gqi                                11840 non-null  float64 \n",
      " 26  auton                              11840 non-null  float64 \n",
      " 27  numvote                            11840 non-null  float64 \n",
      " 28  maj                                11840 non-null  float64 \n",
      " 29  herfgov                            11840 non-null  float64 \n",
      " 30  tensys_strict                      11840 non-null  float64 \n",
      " 31  checks                             11840 non-null  float64 \n",
      " 32  stabs_strict                       11840 non-null  float64 \n",
      " 33  xconst                             11840 non-null  int32   \n",
      "dtypes: category(3), float64(29), int32(1), object(1)\n",
      "memory usage: 2.9+ MB\n"
     ]
    },
    {
     "data": {
      "text/plain": [
       "None"
      ]
     },
     "metadata": {},
     "output_type": "display_data"
    },
    {
     "data": {
      "text/html": [
       "<div>\n",
       "<style scoped>\n",
       "    .dataframe tbody tr th:only-of-type {\n",
       "        vertical-align: middle;\n",
       "    }\n",
       "\n",
       "    .dataframe tbody tr th {\n",
       "        vertical-align: top;\n",
       "    }\n",
       "\n",
       "    .dataframe thead th {\n",
       "        text-align: right;\n",
       "    }\n",
       "</style>\n",
       "<table border=\"1\" class=\"dataframe\">\n",
       "  <thead>\n",
       "    <tr style=\"text-align: right;\">\n",
       "      <th></th>\n",
       "      <th>protesterviolence</th>\n",
       "      <th>demand_labor-wage-dispute</th>\n",
       "      <th>demand_land-farm-issue</th>\n",
       "      <th>demand_police-brutality</th>\n",
       "      <th>demand_political-behavior/process</th>\n",
       "      <th>demand_price-increases/tax-policy</th>\n",
       "      <th>demand_removal-of-politician</th>\n",
       "      <th>demand_social-restrictions</th>\n",
       "      <th>participants_log</th>\n",
       "      <th>duration_days_log</th>\n",
       "      <th>protestnumber_log</th>\n",
       "      <th>yrsoffc</th>\n",
       "      <th>termlimit</th>\n",
       "      <th>military</th>\n",
       "      <th>defmin</th>\n",
       "      <th>execnat</th>\n",
       "      <th>totalseats</th>\n",
       "      <th>oppmajh</th>\n",
       "      <th>legelec</th>\n",
       "      <th>exelec</th>\n",
       "      <th>gq</th>\n",
       "      <th>gqi</th>\n",
       "      <th>auton</th>\n",
       "      <th>numvote</th>\n",
       "      <th>maj</th>\n",
       "      <th>herfgov</th>\n",
       "      <th>tensys_strict</th>\n",
       "      <th>checks</th>\n",
       "      <th>stabs_strict</th>\n",
       "      <th>xconst</th>\n",
       "    </tr>\n",
       "  </thead>\n",
       "  <tbody>\n",
       "    <tr>\n",
       "      <th>count</th>\n",
       "      <td>11840.000000</td>\n",
       "      <td>11840.00000</td>\n",
       "      <td>11840.000000</td>\n",
       "      <td>11840.000000</td>\n",
       "      <td>11840.000000</td>\n",
       "      <td>11840.000000</td>\n",
       "      <td>11840.000000</td>\n",
       "      <td>11840.00000</td>\n",
       "      <td>11840.000000</td>\n",
       "      <td>11840.000000</td>\n",
       "      <td>11840.000000</td>\n",
       "      <td>11840.000000</td>\n",
       "      <td>11840.000000</td>\n",
       "      <td>11840.000000</td>\n",
       "      <td>11840.000000</td>\n",
       "      <td>11840.000000</td>\n",
       "      <td>11840.000000</td>\n",
       "      <td>11840.000000</td>\n",
       "      <td>11840.000000</td>\n",
       "      <td>11840.000000</td>\n",
       "      <td>11840.000000</td>\n",
       "      <td>11840.000000</td>\n",
       "      <td>11840.000000</td>\n",
       "      <td>11840.000000</td>\n",
       "      <td>11840.000000</td>\n",
       "      <td>11840.000000</td>\n",
       "      <td>11840.000000</td>\n",
       "      <td>11840.000000</td>\n",
       "      <td>11840.000000</td>\n",
       "      <td>11840.000000</td>\n",
       "    </tr>\n",
       "    <tr>\n",
       "      <th>mean</th>\n",
       "      <td>0.270861</td>\n",
       "      <td>0.14848</td>\n",
       "      <td>0.042821</td>\n",
       "      <td>0.072973</td>\n",
       "      <td>0.695861</td>\n",
       "      <td>0.095777</td>\n",
       "      <td>0.119848</td>\n",
       "      <td>0.04603</td>\n",
       "      <td>6.393136</td>\n",
       "      <td>0.213862</td>\n",
       "      <td>1.537112</td>\n",
       "      <td>5.750929</td>\n",
       "      <td>2.277196</td>\n",
       "      <td>0.111149</td>\n",
       "      <td>0.179730</td>\n",
       "      <td>0.094679</td>\n",
       "      <td>377.896453</td>\n",
       "      <td>0.011993</td>\n",
       "      <td>0.224578</td>\n",
       "      <td>0.142314</td>\n",
       "      <td>1.080659</td>\n",
       "      <td>0.292230</td>\n",
       "      <td>0.233024</td>\n",
       "      <td>0.328129</td>\n",
       "      <td>0.617021</td>\n",
       "      <td>2.207455</td>\n",
       "      <td>30.077956</td>\n",
       "      <td>3.433277</td>\n",
       "      <td>0.124362</td>\n",
       "      <td>2.925929</td>\n",
       "    </tr>\n",
       "    <tr>\n",
       "      <th>std</th>\n",
       "      <td>0.444423</td>\n",
       "      <td>0.35559</td>\n",
       "      <td>0.202462</td>\n",
       "      <td>0.260103</td>\n",
       "      <td>0.460061</td>\n",
       "      <td>0.294298</td>\n",
       "      <td>0.324797</td>\n",
       "      <td>0.20956</td>\n",
       "      <td>2.319513</td>\n",
       "      <td>0.678007</td>\n",
       "      <td>1.111790</td>\n",
       "      <td>6.325907</td>\n",
       "      <td>1.517871</td>\n",
       "      <td>0.314329</td>\n",
       "      <td>0.383978</td>\n",
       "      <td>0.292783</td>\n",
       "      <td>469.740206</td>\n",
       "      <td>0.108860</td>\n",
       "      <td>0.417322</td>\n",
       "      <td>0.349387</td>\n",
       "      <td>1.133387</td>\n",
       "      <td>0.455178</td>\n",
       "      <td>0.422775</td>\n",
       "      <td>0.278934</td>\n",
       "      <td>0.188798</td>\n",
       "      <td>32.098967</td>\n",
       "      <td>24.883886</td>\n",
       "      <td>1.820923</td>\n",
       "      <td>0.265677</td>\n",
       "      <td>14.419452</td>\n",
       "    </tr>\n",
       "    <tr>\n",
       "      <th>min</th>\n",
       "      <td>0.000000</td>\n",
       "      <td>0.00000</td>\n",
       "      <td>0.000000</td>\n",
       "      <td>0.000000</td>\n",
       "      <td>0.000000</td>\n",
       "      <td>0.000000</td>\n",
       "      <td>0.000000</td>\n",
       "      <td>0.00000</td>\n",
       "      <td>3.912023</td>\n",
       "      <td>0.000000</td>\n",
       "      <td>0.000000</td>\n",
       "      <td>1.000000</td>\n",
       "      <td>1.000000</td>\n",
       "      <td>0.000000</td>\n",
       "      <td>0.000000</td>\n",
       "      <td>0.000000</td>\n",
       "      <td>31.000000</td>\n",
       "      <td>0.000000</td>\n",
       "      <td>0.000000</td>\n",
       "      <td>0.000000</td>\n",
       "      <td>0.000000</td>\n",
       "      <td>0.000000</td>\n",
       "      <td>0.000000</td>\n",
       "      <td>0.000000</td>\n",
       "      <td>0.031579</td>\n",
       "      <td>0.089841</td>\n",
       "      <td>1.000000</td>\n",
       "      <td>1.000000</td>\n",
       "      <td>0.000000</td>\n",
       "      <td>-88.000000</td>\n",
       "    </tr>\n",
       "    <tr>\n",
       "      <th>25%</th>\n",
       "      <td>0.000000</td>\n",
       "      <td>0.00000</td>\n",
       "      <td>0.000000</td>\n",
       "      <td>0.000000</td>\n",
       "      <td>0.000000</td>\n",
       "      <td>0.000000</td>\n",
       "      <td>0.000000</td>\n",
       "      <td>0.00000</td>\n",
       "      <td>4.605170</td>\n",
       "      <td>0.000000</td>\n",
       "      <td>0.693147</td>\n",
       "      <td>2.000000</td>\n",
       "      <td>1.000000</td>\n",
       "      <td>0.000000</td>\n",
       "      <td>0.000000</td>\n",
       "      <td>0.000000</td>\n",
       "      <td>139.000000</td>\n",
       "      <td>0.000000</td>\n",
       "      <td>0.000000</td>\n",
       "      <td>0.000000</td>\n",
       "      <td>0.000000</td>\n",
       "      <td>0.000000</td>\n",
       "      <td>0.000000</td>\n",
       "      <td>0.000000</td>\n",
       "      <td>0.505882</td>\n",
       "      <td>0.559558</td>\n",
       "      <td>10.000000</td>\n",
       "      <td>2.000000</td>\n",
       "      <td>0.000000</td>\n",
       "      <td>3.000000</td>\n",
       "    </tr>\n",
       "    <tr>\n",
       "      <th>50%</th>\n",
       "      <td>0.000000</td>\n",
       "      <td>0.00000</td>\n",
       "      <td>0.000000</td>\n",
       "      <td>0.000000</td>\n",
       "      <td>1.000000</td>\n",
       "      <td>0.000000</td>\n",
       "      <td>0.000000</td>\n",
       "      <td>0.00000</td>\n",
       "      <td>6.214608</td>\n",
       "      <td>0.000000</td>\n",
       "      <td>1.386294</td>\n",
       "      <td>4.000000</td>\n",
       "      <td>1.000000</td>\n",
       "      <td>0.000000</td>\n",
       "      <td>0.000000</td>\n",
       "      <td>0.000000</td>\n",
       "      <td>290.000000</td>\n",
       "      <td>0.000000</td>\n",
       "      <td>0.000000</td>\n",
       "      <td>0.000000</td>\n",
       "      <td>1.000000</td>\n",
       "      <td>0.000000</td>\n",
       "      <td>0.000000</td>\n",
       "      <td>0.404000</td>\n",
       "      <td>0.584000</td>\n",
       "      <td>0.965207</td>\n",
       "      <td>22.000000</td>\n",
       "      <td>3.000000</td>\n",
       "      <td>0.000000</td>\n",
       "      <td>6.000000</td>\n",
       "    </tr>\n",
       "    <tr>\n",
       "      <th>75%</th>\n",
       "      <td>1.000000</td>\n",
       "      <td>0.00000</td>\n",
       "      <td>0.000000</td>\n",
       "      <td>0.000000</td>\n",
       "      <td>1.000000</td>\n",
       "      <td>0.000000</td>\n",
       "      <td>0.000000</td>\n",
       "      <td>0.00000</td>\n",
       "      <td>8.006368</td>\n",
       "      <td>0.000000</td>\n",
       "      <td>2.302585</td>\n",
       "      <td>7.000000</td>\n",
       "      <td>3.000000</td>\n",
       "      <td>0.000000</td>\n",
       "      <td>0.000000</td>\n",
       "      <td>0.000000</td>\n",
       "      <td>500.000000</td>\n",
       "      <td>0.000000</td>\n",
       "      <td>0.000000</td>\n",
       "      <td>0.000000</td>\n",
       "      <td>2.000000</td>\n",
       "      <td>1.000000</td>\n",
       "      <td>0.000000</td>\n",
       "      <td>0.520000</td>\n",
       "      <td>0.747685</td>\n",
       "      <td>1.000000</td>\n",
       "      <td>43.000000</td>\n",
       "      <td>4.000000</td>\n",
       "      <td>0.000000</td>\n",
       "      <td>7.000000</td>\n",
       "    </tr>\n",
       "    <tr>\n",
       "      <th>max</th>\n",
       "      <td>1.000000</td>\n",
       "      <td>1.00000</td>\n",
       "      <td>1.000000</td>\n",
       "      <td>1.000000</td>\n",
       "      <td>1.000000</td>\n",
       "      <td>1.000000</td>\n",
       "      <td>1.000000</td>\n",
       "      <td>1.00000</td>\n",
       "      <td>15.761421</td>\n",
       "      <td>6.595781</td>\n",
       "      <td>4.962845</td>\n",
       "      <td>46.000000</td>\n",
       "      <td>8.000000</td>\n",
       "      <td>1.000000</td>\n",
       "      <td>1.000000</td>\n",
       "      <td>1.000000</td>\n",
       "      <td>3000.000000</td>\n",
       "      <td>1.000000</td>\n",
       "      <td>1.000000</td>\n",
       "      <td>1.000000</td>\n",
       "      <td>3.000000</td>\n",
       "      <td>2.000000</td>\n",
       "      <td>1.000000</td>\n",
       "      <td>1.000000</td>\n",
       "      <td>1.000000</td>\n",
       "      <td>729.728271</td>\n",
       "      <td>90.000000</td>\n",
       "      <td>18.000000</td>\n",
       "      <td>1.000000</td>\n",
       "      <td>7.000000</td>\n",
       "    </tr>\n",
       "  </tbody>\n",
       "</table>\n",
       "</div>"
      ],
      "text/plain": [
       "       protesterviolence  demand_labor-wage-dispute  demand_land-farm-issue  \\\n",
       "count       11840.000000                11840.00000            11840.000000   \n",
       "mean            0.270861                    0.14848                0.042821   \n",
       "std             0.444423                    0.35559                0.202462   \n",
       "min             0.000000                    0.00000                0.000000   \n",
       "25%             0.000000                    0.00000                0.000000   \n",
       "50%             0.000000                    0.00000                0.000000   \n",
       "75%             1.000000                    0.00000                0.000000   \n",
       "max             1.000000                    1.00000                1.000000   \n",
       "\n",
       "       demand_police-brutality  demand_political-behavior/process  \\\n",
       "count             11840.000000                       11840.000000   \n",
       "mean                  0.072973                           0.695861   \n",
       "std                   0.260103                           0.460061   \n",
       "min                   0.000000                           0.000000   \n",
       "25%                   0.000000                           0.000000   \n",
       "50%                   0.000000                           1.000000   \n",
       "75%                   0.000000                           1.000000   \n",
       "max                   1.000000                           1.000000   \n",
       "\n",
       "       demand_price-increases/tax-policy  demand_removal-of-politician  \\\n",
       "count                       11840.000000                  11840.000000   \n",
       "mean                            0.095777                      0.119848   \n",
       "std                             0.294298                      0.324797   \n",
       "min                             0.000000                      0.000000   \n",
       "25%                             0.000000                      0.000000   \n",
       "50%                             0.000000                      0.000000   \n",
       "75%                             0.000000                      0.000000   \n",
       "max                             1.000000                      1.000000   \n",
       "\n",
       "       demand_social-restrictions  participants_log  duration_days_log  \\\n",
       "count                 11840.00000      11840.000000       11840.000000   \n",
       "mean                      0.04603          6.393136           0.213862   \n",
       "std                       0.20956          2.319513           0.678007   \n",
       "min                       0.00000          3.912023           0.000000   \n",
       "25%                       0.00000          4.605170           0.000000   \n",
       "50%                       0.00000          6.214608           0.000000   \n",
       "75%                       0.00000          8.006368           0.000000   \n",
       "max                       1.00000         15.761421           6.595781   \n",
       "\n",
       "       protestnumber_log       yrsoffc     termlimit      military  \\\n",
       "count       11840.000000  11840.000000  11840.000000  11840.000000   \n",
       "mean            1.537112      5.750929      2.277196      0.111149   \n",
       "std             1.111790      6.325907      1.517871      0.314329   \n",
       "min             0.000000      1.000000      1.000000      0.000000   \n",
       "25%             0.693147      2.000000      1.000000      0.000000   \n",
       "50%             1.386294      4.000000      1.000000      0.000000   \n",
       "75%             2.302585      7.000000      3.000000      0.000000   \n",
       "max             4.962845     46.000000      8.000000      1.000000   \n",
       "\n",
       "             defmin       execnat    totalseats       oppmajh       legelec  \\\n",
       "count  11840.000000  11840.000000  11840.000000  11840.000000  11840.000000   \n",
       "mean       0.179730      0.094679    377.896453      0.011993      0.224578   \n",
       "std        0.383978      0.292783    469.740206      0.108860      0.417322   \n",
       "min        0.000000      0.000000     31.000000      0.000000      0.000000   \n",
       "25%        0.000000      0.000000    139.000000      0.000000      0.000000   \n",
       "50%        0.000000      0.000000    290.000000      0.000000      0.000000   \n",
       "75%        0.000000      0.000000    500.000000      0.000000      0.000000   \n",
       "max        1.000000      1.000000   3000.000000      1.000000      1.000000   \n",
       "\n",
       "             exelec            gq           gqi         auton       numvote  \\\n",
       "count  11840.000000  11840.000000  11840.000000  11840.000000  11840.000000   \n",
       "mean       0.142314      1.080659      0.292230      0.233024      0.328129   \n",
       "std        0.349387      1.133387      0.455178      0.422775      0.278934   \n",
       "min        0.000000      0.000000      0.000000      0.000000      0.000000   \n",
       "25%        0.000000      0.000000      0.000000      0.000000      0.000000   \n",
       "50%        0.000000      1.000000      0.000000      0.000000      0.404000   \n",
       "75%        0.000000      2.000000      1.000000      0.000000      0.520000   \n",
       "max        1.000000      3.000000      2.000000      1.000000      1.000000   \n",
       "\n",
       "                maj       herfgov  tensys_strict        checks  stabs_strict  \\\n",
       "count  11840.000000  11840.000000   11840.000000  11840.000000  11840.000000   \n",
       "mean       0.617021      2.207455      30.077956      3.433277      0.124362   \n",
       "std        0.188798     32.098967      24.883886      1.820923      0.265677   \n",
       "min        0.031579      0.089841       1.000000      1.000000      0.000000   \n",
       "25%        0.505882      0.559558      10.000000      2.000000      0.000000   \n",
       "50%        0.584000      0.965207      22.000000      3.000000      0.000000   \n",
       "75%        0.747685      1.000000      43.000000      4.000000      0.000000   \n",
       "max        1.000000    729.728271      90.000000     18.000000      1.000000   \n",
       "\n",
       "             xconst  \n",
       "count  11840.000000  \n",
       "mean       2.925929  \n",
       "std       14.419452  \n",
       "min      -88.000000  \n",
       "25%        3.000000  \n",
       "50%        6.000000  \n",
       "75%        7.000000  \n",
       "max        7.000000  "
      ]
     },
     "metadata": {},
     "output_type": "display_data"
    }
   ],
   "source": [
    "display(df.info())\n",
    "display(df.describe())"
   ]
  },
  {
   "cell_type": "markdown",
   "id": "536adcbe",
   "metadata": {
    "id": "4a92e413",
    "tags": []
   },
   "source": [
    "---\n",
    "\n",
    "## Part III. Modeling\n",
    "\n",
    "Given the cleaned and aggregated dataset above, the next section moves into the Modeling phase. It uses the following general structure:\n",
    "\n",
    "1. Test, train, and validation splits\n",
    "2. \"Dummy\" model for baseline performance metric\n",
    "3. Logistic regression model\n",
    "4. Random forest model\n",
    "5. XG boost model\n",
    "\n",
    "Note that in the *MODEL.ipynb* notebook, alternative models are explored, such as K-Nearest Neighbors (KNN), Bayesian classifiers, ADA boost, and Decision Trees. \n",
    "\n",
    "Each model type is constructed using elements of encoding, scaling, resampling and hyperparameter optimization.\n",
    "\n",
    "- One hot encoding was essential given the categorical type of some features\n",
    "- Standard scaling was essential given the vast array of different numerical feature distributions and ranges. Min-max scaling was considered but proved less effective.\n",
    "- SMOTE was determined to be essential given the imbalanced nature of the dataset. Only 11% of the target feature values were 1, leaving the other 89% as 0. This is a prime example of the need for resampling, and SMOTE proved highly effective.\n",
    "- Hyperparameter grid searches are inherently valuable when optimizing a model. Appropriate hyperparameter searches were used for each model type.\n",
    "\n",
    "The output of each model is provided in terms of four core statistical measures (f1 score, accuracy, precision, and recall), in addition to displaying a confusion matrix for the test data. F1 was selected before the modeling process as the most relevant metric given that it encomasses all possible outcomes, as opposed to the other three metrics which leave out at least one possible outcome from their evaluation. \n",
    "\n",
    "Lastly, the grid search is not actually completed in this file. The code shows the way in which the pipelines were established as well as the data to be used. However, in order to save the time of a thorough grid search twice, the calculations are completed in the MODEL file and exported via a Pickle file. They are then imported here after the grid search is complete. "
   ]
  },
  {
   "cell_type": "markdown",
   "id": "1b5b3787",
   "metadata": {
    "id": "40b2f19e"
   },
   "source": [
    "**Create train-test split**"
   ]
  },
  {
   "cell_type": "code",
   "execution_count": 15,
   "id": "31a9757e",
   "metadata": {
    "id": "2f4ba216"
   },
   "outputs": [],
   "source": [
    "# Create standard train-test splits\n",
    "x_train, x_test, y_train, y_test = train_test_split(df, target, \n",
    "                                                    random_state=RANDOM_STATE, \n",
    "                                                    test_size=0.3)"
   ]
  },
  {
   "cell_type": "markdown",
   "id": "6b684555",
   "metadata": {
    "id": "384026d3"
   },
   "source": [
    "**Create baseline \"dummy\" model**"
   ]
  },
  {
   "cell_type": "code",
   "execution_count": 16,
   "id": "7085459f",
   "metadata": {
    "id": "fe7f7aa4",
    "outputId": "10754074-dd9f-46b9-e6bc-e3e266d4351c"
   },
   "outputs": [
    {
     "name": "stdout",
     "output_type": "stream",
     "text": [
      "- f1: 0.05816554809843401\n",
      "- accuracy: 0.8814752252252253\n",
      "- precision: 0.058823529411764705\n",
      "- recall: 0.05752212389380531\n"
     ]
    }
   ],
   "source": [
    "# Create instance of dummy classifier and fit to training data\n",
    "dummy_clf = DummyClassifier(strategy='stratified')\n",
    "dummy_clf.fit(x_train, y_train)\n",
    "\n",
    "# Create model predictions for test data\n",
    "pred_dummy = dummy_clf.predict(x_test)\n",
    "print_scores(pred_dummy, y_test)"
   ]
  },
  {
   "cell_type": "markdown",
   "id": "decd8ae3",
   "metadata": {
    "id": "42c3b17f"
   },
   "source": [
    "**Create Logistic Regression classifier model**"
   ]
  },
  {
   "cell_type": "code",
   "execution_count": 17,
   "id": "26d1939c",
   "metadata": {
    "id": "97eb392f",
    "outputId": "878a872e-12d9-4109-8816-9f926f435074"
   },
   "outputs": [
    {
     "name": "stdout",
     "output_type": "stream",
     "text": [
      "- f1: 0.28694900605012963\n",
      "- accuracy: 0.7677364864864865\n",
      "- precision: 0.17830290010741137\n",
      "- recall: 0.7345132743362832\n"
     ]
    },
    {
     "data": {
      "text/plain": [
       "<sklearn.metrics._plot.confusion_matrix.ConfusionMatrixDisplay at 0x224492b2fa0>"
      ]
     },
     "execution_count": 17,
     "metadata": {},
     "output_type": "execute_result"
    },
    {
     "data": {
      "image/png": "[encoded data removed]",
      "text/plain": [
       "<Figure size 432x288 with 2 Axes>"
      ]
     },
     "metadata": {
      "needs_background": "light"
     },
     "output_type": "display_data"
    }
   ],
   "source": [
    "# Instantiate model\n",
    "model_log = LogisticRegression(max_iter=5000)\n",
    "\n",
    "# Add one-hot encoding for categoricals\n",
    "ohe = OneHotEncoder(handle_unknown='ignore')\n",
    "\n",
    "# Add standard scaling\n",
    "scaler = StandardScaler()\n",
    "\n",
    "# Add resampling to address class imbalance\n",
    "smote = SMOTE(random_state=RANDOM_STATE)\n",
    "\n",
    "\n",
    "# Select object types for one-hot encoding and numeric types for scaling\n",
    "selector_object = make_column_selector(dtype_exclude='number')\n",
    "selector_numeric = make_column_selector(dtype_include='number')\n",
    "\n",
    "# Create transformer for the selectors/encoders/scalers\n",
    "transformer = make_column_transformer((ohe, selector_object),\n",
    "                                     (scaler, selector_numeric))\n",
    "\n",
    "\n",
    "# Create pipeline for transformer, resampling, and model\n",
    "pipe = Pipeline([('transformer', transformer),\n",
    "                 ('smote', smote), \n",
    "                 ('model', model_log)])\n",
    "\n",
    "# Run grid search to optimizer hyperparameters\n",
    "grid_log = {'model__C': np.logspace(-1, 5, 20)}\n",
    "grid_search = GridSearchCV(pipe, grid_log, scoring='f1', cv=10)\n",
    "\n",
    "# Fit model to training data\n",
    "# grid_search.fit(x_train, y_train)\n",
    "\n",
    "# As described in this section's header, the fitted pipeline is \n",
    "# simply imported via Pickle from the MODEL notebook, where it was\n",
    "# fitted on the same data.\n",
    "with open('../data/processed/model_logreg.pickle', 'rb') as f:\n",
    "    model_logreg = pickle.load(f)\n",
    "\n",
    "\n",
    "# Print metrics\n",
    "prediction = model_logreg.predict(x_test)\n",
    "print_scores(prediction, y_test)\n",
    "\n",
    "# Display confusion matrix\n",
    "labels = ['No change', 'Regime Change']\n",
    "plot_confusion_matrix(model_logreg, x_test, y_test, display_labels=labels)"
   ]
  },
  {
   "cell_type": "markdown",
   "id": "4decf03e",
   "metadata": {
    "id": "6b7eebcf"
   },
   "source": [
    "Overall, the Logistic Regression model performance is underwhelming, albeit substantially better than the baseline model: an F1 score performance of ___ instead of the baseline _ . Still, it seems that the model does not capture the complexity of the data. Below more complex models are explored.\n",
    "\n",
    "\n",
    "**Create Random Forest model**\n",
    "\n",
    "Reuse one-hot encoder, scaler, resampler, selectors, transformer from logistic regression"
   ]
  },
  {
   "cell_type": "code",
   "execution_count": 18,
   "id": "69dcb7be",
   "metadata": {
    "id": "589f0785",
    "outputId": "f982f6c8-a59f-4119-d4db-18cc7ead65bb"
   },
   "outputs": [
    {
     "name": "stdout",
     "output_type": "stream",
     "text": [
      "- f1: 0.6093023255813954\n",
      "- accuracy: 0.9527027027027027\n",
      "- precision: 0.6421568627450981\n",
      "- recall: 0.5796460176991151\n"
     ]
    },
    {
     "data": {
      "text/plain": [
       "<sklearn.metrics._plot.confusion_matrix.ConfusionMatrixDisplay at 0x2244b869040>"
      ]
     },
     "execution_count": 18,
     "metadata": {},
     "output_type": "execute_result"
    },
    {
     "data": {
      "image/png": "[encoded data removed]",
      "text/plain": [
       "<Figure size 432x288 with 2 Axes>"
      ]
     },
     "metadata": {
      "needs_background": "light"
     },
     "output_type": "display_data"
    }
   ],
   "source": [
    "# Instantiate model\n",
    "model_rf = RandomForestClassifier()\n",
    "\n",
    "# Create pipeline for transformer, resampling, and model\n",
    "pipe = Pipeline([('transformer', transformer),\n",
    "                 ('smote', smote), \n",
    "                 ('model', model_rf)])\n",
    "\n",
    "# Run grid search to optimizer hyperparameters\n",
    "grid_rf = {\n",
    "    'model__n_estimators': [25, 75, 150],\n",
    "    'model__criterion': ['gini', 'entropy'],\n",
    "    'model__max_depth': [3, 6, 10],\n",
    "    'model__min_samples_split': [5, 10],\n",
    "    'model__min_samples_leaf': [3, 6]}\n",
    "\n",
    "# Create instance of grid search\n",
    "grid_search = GridSearchCV(pipe, grid_rf, scoring='f1', cv=5)\n",
    "\n",
    "# Fit model to training data\n",
    "# grid_search.fit(x_train, y_train)\n",
    "\n",
    "# As described in this section's header, the fitted pipeline is \n",
    "# simply imported via Pickle from the MODEL notebook, where it was\n",
    "# fitted on the same data.\n",
    "with open('../data/processed/model_rf.pickle', 'rb') as f:\n",
    "    model_rf = pickle.load(f)\n",
    "\n",
    "# Print metrics\n",
    "prediction = model_rf.predict(x_test)\n",
    "print_scores(prediction, y_test)\n",
    "\n",
    "# Display confusion matrix\n",
    "plot_confusion_matrix(model_rf, x_test, y_test, display_labels=labels)"
   ]
  },
  {
   "cell_type": "markdown",
   "id": "9c094b70",
   "metadata": {
    "id": "fa2608be"
   },
   "source": [
    "The random forest model shows substantial performance over the logistic regression model. Specifically, the F1 score increase by XXX, and other metrics see similar improvements. Still, the performance isn't perfect, so the below model explores an increasingly complex model that is able to better capture the complexity of the data.\n",
    "\n",
    "**XG Boost model**"
   ]
  },
  {
   "cell_type": "code",
   "execution_count": 25,
   "id": "6c46b33d",
   "metadata": {},
   "outputs": [
    {
     "data": {
      "text/plain": [
       "imblearn.pipeline.Pipeline"
      ]
     },
     "execution_count": 25,
     "metadata": {},
     "output_type": "execute_result"
    }
   ],
   "source": [
    "type(model_rf)"
   ]
  },
  {
   "cell_type": "code",
   "execution_count": 24,
   "id": "2c652046",
   "metadata": {},
   "outputs": [
    {
     "data": {
      "text/plain": [
       "imblearn.pipeline.Pipeline"
      ]
     },
     "execution_count": 24,
     "metadata": {},
     "output_type": "execute_result"
    }
   ],
   "source": [
    "type(model_xgb)"
   ]
  },
  {
   "cell_type": "code",
   "execution_count": 27,
   "id": "4f7a106e",
   "metadata": {
    "id": "986d8ee9",
    "outputId": "e55738a9-e538-49a2-b1dc-cc615e8aa9fd"
   },
   "outputs": [
    {
     "name": "stdout",
     "output_type": "stream",
     "text": [
      "- f1: 0.739454094292804\n",
      "- accuracy: 0.9704391891891891\n",
      "- precision: 0.8418079096045198\n",
      "- recall: 0.6592920353982301\n"
     ]
    },
    {
     "data": {
      "text/plain": [
       "<sklearn.metrics._plot.confusion_matrix.ConfusionMatrixDisplay at 0x224492af430>"
      ]
     },
     "execution_count": 27,
     "metadata": {},
     "output_type": "execute_result"
    },
    {
     "data": {
      "image/png": "[encoded data removed]",
      "text/plain": [
       "<Figure size 432x288 with 2 Axes>"
      ]
     },
     "metadata": {
      "needs_background": "light"
     },
     "output_type": "display_data"
    }
   ],
   "source": [
    "# Instantiate model\n",
    "model_xgb = XGBClassifier(eval_metric='logloss', use_label_encoder=False, \n",
    "                          random_state=RANDOM_STATE)\n",
    "# \n",
    "# Create pipeline for transformer, resampling, and model\n",
    "pipe = Pipeline([('transformer', transformer),\n",
    "                 ('smote', smote), \n",
    "                 ('model', model_xgb)])\n",
    "\n",
    "\n",
    "# Run grid search to optimizer hyperparameters\n",
    "grid_xgb = {\n",
    "    'model__learning_rate': [0.01, 0.1, 0.25],\n",
    "    'model__max_depth': [6, 8, 10, 12],\n",
    "    'model__subsample': [0.4, 0.7, 1],\n",
    "    'model__n_estimators': [100, 200, 300, 400]}\n",
    "\n",
    "# Fit model to training data\n",
    "# grid_search.fit(x_train, y_train)\n",
    "\n",
    "# As described in this section's header, the fitted pipeline is \n",
    "# simply imported via Pickle from the MODEL notebook, where it was\n",
    "# fitted on the same data.\n",
    "with open('../data/processed/model_xgb.pickle', 'rb') as f:\n",
    "    model_xgb = pickle.load(f)\n",
    "\n",
    "# Print metrics\n",
    "prediction = model_xgb.predict(x_test)\n",
    "print_scores(prediction, y_test)\n",
    "\n",
    "# Display confusion matrix\n",
    "plot_confusion_matrix(model_xgb, x_test, y_test, display_labels=labels)"
   ]
  },
  {
   "cell_type": "markdown",
   "id": "1b569dc3",
   "metadata": {},
   "source": [
    "**Show optimal model hyperparameters**"
   ]
  },
  {
   "cell_type": "code",
   "execution_count": 28,
   "id": "62a4e9cc",
   "metadata": {},
   "outputs": [
    {
     "name": "stdout",
     "output_type": "stream",
     "text": [
      "('model', XGBClassifier(base_score=0.5, booster='gbtree', colsample_bylevel=1,\n",
      "              colsample_bynode=1, colsample_bytree=1, eval_metric='logloss',\n",
      "              gamma=0, gpu_id=-1, importance_type='gain',\n",
      "              interaction_constraints='', learning_rate=0.25, max_delta_step=0,\n",
      "              max_depth=12, min_child_weight=1, missing=nan,\n",
      "              monotone_constraints='()', n_estimators=200, n_jobs=-1,\n",
      "              num_parallel_tree=1, random_state=2021, reg_alpha=0, reg_lambda=1,\n",
      "              scale_pos_weight=1, subsample=1, tree_method='exact',\n",
      "              use_label_encoder=False, validate_parameters=1, verbosity=None))\n"
     ]
    }
   ],
   "source": [
    "print(model_xgb.steps[2])"
   ]
  },
  {
   "cell_type": "markdown",
   "id": "55f6f76b",
   "metadata": {
    "id": "7b82fd6e"
   },
   "source": [
    "**The model performance does increase using the XG Boost model relative to all other previously tested models**\n",
    "\n",
    "All performance metrics improve significantly over the Random Forest model."
   ]
  },
  {
   "cell_type": "markdown",
   "id": "0ce6623b",
   "metadata": {
    "id": "ccd7c75c"
   },
   "source": [
    "---\n",
    "\n",
    "## Part IV. Evaluation\n",
    "\n",
    "As can be seen based on the F1 scores – the metric chosen at the beginning of the analysis as most relevant – the XG boost model performs the best. This section will test the final model on the test data as well as visualize feature significance to the extent feasible. "
   ]
  },
  {
   "cell_type": "markdown",
   "id": "827cda72",
   "metadata": {
    "id": "d4250a47"
   },
   "source": [
    "**Evaluate performance on test data**\n",
    "\n",
    "The below metrics show strong model performance on the test data with nearly no noteworthy indication of overfitting"
   ]
  },
  {
   "cell_type": "code",
   "execution_count": 29,
   "id": "fc77d767",
   "metadata": {
    "id": "b384b691",
    "outputId": "6effdd5d-2e36-4ec0-ef88-c1518d663939"
   },
   "outputs": [
    {
     "name": "stdout",
     "output_type": "stream",
     "text": [
      "- f1: 0.739454094292804\n",
      "- accuracy: 0.9704391891891891\n",
      "- precision: 0.8418079096045198\n",
      "- recall: 0.6592920353982301\n"
     ]
    },
    {
     "data": {
      "image/png": "[encoded data removed]",
      "text/plain": [
       "<Figure size 432x288 with 2 Axes>"
      ]
     },
     "metadata": {
      "needs_background": "light"
     },
     "output_type": "display_data"
    },
    {
     "data": {
      "image/png": "[encoded data removed]",
      "text/plain": [
       "<Figure size 432x288 with 2 Axes>"
      ]
     },
     "metadata": {
      "needs_background": "light"
     },
     "output_type": "display_data"
    }
   ],
   "source": [
    "# Calculate predicted output of test data\n",
    "prediction = model_xgb.predict(x_test)\n",
    "\n",
    "# Print performance metrics\n",
    "print_scores(prediction, y_test)\n",
    "\n",
    "# Display confusion matrix (not normalized)\n",
    "plot_confusion_matrix(model_xgb, x_test, y_test, display_labels=labels)\n",
    "plt.title('XG Boost Model: Performance on Test Data (Protest Counts)')\n",
    "plt.show()\n",
    "\n",
    "# Display confusion matrix (normalized)\n",
    "plot_confusion_matrix(model_xgb, x_test, y_test, normalize='all', display_labels=labels)\n",
    "plt.title('XG Boost Model: Performance on Test Data (Percentage)');"
   ]
  },
  {
   "cell_type": "markdown",
   "id": "151ca1b9",
   "metadata": {
    "id": "53aab0ae"
   },
   "source": [
    "**To identify overfitting, test the final model on the full dataset (train *and* test)**\n",
    "\n",
    "Although these metrics aren't used to state overall performance, they can be interesting and can help identify overfitting if the performance on *all* data is substantially higher than the performance on *test* data. The below printouts show that overfitting is significant, though the performance on the test data remains sufficiently strong for a high performing model."
   ]
  },
  {
   "cell_type": "code",
   "execution_count": 30,
   "id": "931bbf31",
   "metadata": {
    "id": "a35dde25",
    "outputId": "dd5efbab-a045-4f28-957f-268fe7c79d6f"
   },
   "outputs": [
    {
     "name": "stdout",
     "output_type": "stream",
     "text": [
      "- f1: 0.9291019581363943\n",
      "- accuracy: 0.9911317567567568\n",
      "- precision: 0.9608938547486033\n",
      "- recall: 0.8993464052287582\n"
     ]
    },
    {
     "data": {
      "image/png": "[encoded data removed]",
      "text/plain": [
       "<Figure size 432x288 with 2 Axes>"
      ]
     },
     "metadata": {
      "needs_background": "light"
     },
     "output_type": "display_data"
    }
   ],
   "source": [
    "# Calculate predicted output of *all* data\n",
    "prediction = model_xgb.predict(df)\n",
    "\n",
    "# Print performance metrics\n",
    "print_scores(prediction, target)\n",
    "\n",
    "# Display confusion matrix\n",
    "plot_confusion_matrix(model_xgb, df, target, display_labels=labels)\n",
    "plt.title('XG Boost Model: Performance on ALL data');"
   ]
  },
  {
   "cell_type": "markdown",
   "id": "90e3b99b",
   "metadata": {
    "id": "c4b5b293"
   },
   "source": [
    "**Investigate feature importance**\n",
    "\n",
    "1. \n",
    "2. \n",
    "3. \n",
    "4. "
   ]
  },
  {
   "cell_type": "code",
   "execution_count": null,
   "id": "f68d3b21",
   "metadata": {
    "id": "d7ad9c44",
    "outputId": "0da8b6c5-e2be-4ad1-b49a-0f387db61a2f"
   },
   "outputs": [],
   "source": [
    "# SHAP summary plot for XGB\n",
    "produce_shap_plot(x_train, y_train, x_test, y_test, clone(model_xgb), \n",
    "                  title='Final XG Boost Model: Feature Evaluation');"
   ]
  },
  {
   "cell_type": "code",
   "execution_count": null,
   "id": "8c5366fd",
   "metadata": {},
   "outputs": [],
   "source": [
    "# SHAP bar plot for XGB model\n",
    "model = final_model_xgb.steps[2][1]\n",
    "x_train_final, y_train_final, df_test_expanded_scaled = get_shap_df(x_train, \n",
    "                                                                    y_train, \n",
    "                                                                    x_test)\n",
    "\n",
    "explainer = shap.Explainer(model)\n",
    "plt.title('Feature Importance for XGB Model')\n",
    "shap_values = explainer(df_test_expanded_scaled)\n",
    "shap.plots.bar(shap_values, max_display=20);\n",
    "\n",
    "\n",
    "\n",
    "# SHAP bar plot for XGB model\n",
    "model = model_xgb.steps[2][1]\n",
    "x_train_final, y_train_final, df_test_expanded_scaled = get_shap_df(x_train, \n",
    "                                                                    y_train, \n",
    "                                                                    x_test)\n",
    "model.fit(x_train_final, y_train_final)\n",
    "explainer = shap.Explainer(model)\n",
    "plt.title('Feature Importance for XGB Model')\n",
    "shap_values = explainer(df_test_expanded_scaled)\n",
    "shap.plots.bar(shap_values, max_display=20)"
   ]
  },
  {
   "cell_type": "markdown",
   "id": "444e4d49",
   "metadata": {
    "id": "11980158"
   },
   "source": [
    "## Part V. Conclusion\n",
    "\n",
    "Overall, this analysis successfully completes its objective. It creates and tunes a model that helps predict whether a given protest will lead to a regime transition within one year. This incredibly valuable tool can be used by stakeholders far and wide as an indicator of disruption to come, which in turn can be used for proactive or preventative measures by either side. With a very strong performing model, it can be trusted to give an accurate estimate of changes to come. \n",
    "\n",
    "Going forward, this project allows for easy growth as more data is released. Each of the three primary datasets receive regular updates, and this new information can easily be incorporated in order to expand the temporal scope of the project and with more data comes to potential for stronger performance. \n"
   ]
  }
 ],
 "metadata": {
  "colab": {
   "name": "FINAL SUMMARY NOTEBOOK.ipynb",
   "provenance": []
  },
  "kernelspec": {
   "display_name": "Python 3",
   "language": "python",
   "name": "python3"
  },
  "language_info": {
   "codemirror_mode": {
    "name": "ipython",
    "version": 3
   },
   "file_extension": ".py",
   "mimetype": "text/x-python",
   "name": "python",
   "nbconvert_exporter": "python",
   "pygments_lexer": "ipython3",
   "version": "3.8.3"
  }
 },
 "nbformat": 4,
 "nbformat_minor": 5
}
