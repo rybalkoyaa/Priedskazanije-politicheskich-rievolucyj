{
 "cells": [
  {
   "cell_type": "markdown",
   "id": "fcf5e9f7",
   "metadata": {
    "id": "d8384572"
   },
   "source": [
    "# Predicting Political Revolutions\n",
    "Political upheavals have been ever present throughout humanity. Political leaders shape the context for everything we know. For that reason, we as a society need to generate a concrete understanding of when a revolution or political change is imminent. This analysis seeks to forecast whether a given protest will lead to a revolution within six months. \n",
    "\n",
    "The stakeholders for this analysis are wide reaching, but it is most relevant to political scientists, though could also provide insights for political organizers and leadership. The findings can be used to\n",
    "\n",
    "They can use this approach to best understand where efforts are best focused and most likely to lead to an impact. \n",
    "\n",
    "\n",
    "---\n",
    "\n",
    "## Notebook Structure\n",
    "1. Data & Sources\n",
    "2. Data Preparation\n",
    "3. Modeling\n",
    "4. Evaluation\n",
    "5. Conclusion\n",
    "\n",
    "\n",
    "---\n",
    "\n",
    "## Part I. Data & Sources\n",
    "The analysis combines three core datasets from widely different sources to provide a distinctly unique understanding of the subject. They are described below.\n",
    "\n",
    "### The Mass Mobilization Project\n",
    "\n",
    "The first dataset is described in the source documentation as \"an effort to understand citizen movements against governments, what citizens want when they demonstrate against governments, and how governments respond to citizens. The MM data cover 162 countries between 1990 and 2018. These data contain events where 50 or more protesters publicly demonstrate against government, resulting in more than 10,000 protest events. Each event records location, protest size, protester demands, and government responses.\" [(1)](https://massmobilization.github.io/about.html) The project is sponsored by the Political Instability Task Force (PITF). The PITF is funded by the Central Intelligence Agency (CIA). [(1)](https://massmobilization.github.io/about.html) **Throughout this analysis, this dataset will be referred to as the \"Protests\" dataset.**\n",
    "\n",
    "Although the data source does specify that the dataset is not entirely comprehensive of all country across this entire time period. That said, it does contain over 17,000 recorded protests, each composed of 31 features. The data span 167 countries from 1990 to 2020. \n",
    "\n",
    "\n",
    "#### Citation:\n",
    "\n",
    "Clark, David; Regan, Patrick, 2016, \"Mass Mobilization Protest Data\", https://doi.org/10.7910/DVN/HTTWYL, Harvard Dataverse, V5, UNF:6:F/k8KUqKpCa5UssBbL/gzg== [fileUNF]\n",
    "\n",
    "\n",
    "\n",
    "### The Polity Project\n",
    "The second dataset codes \"authority characteristics of states in the world system for purposes of comparative, quantitative analysis.\" [(2)](https://www.systemicpeace.org/polityproject.html) \"The Polity5 dataset covers all major, independent states in the global system over the period 1800-2018 (i.e., states with a total population of 500,000 or more in the most recent year; currently 167 countries. The Polity conceptual scheme is unique in that it examines concomitant qualities of democratic and autocratic authority in governing institutions, rather than discreet and mutually exclusive forms of governance. This perspective envisions a spectrum of governing authority that spans from fully institutionalized autocracies through mixed, or incoherent, authority regimes (termed \"anocracies\") to fully institutionalized democracies.\" [(2)](https://www.systemicpeace.org/polityproject.html). Most relevant to this analysis, \"it also records changes in the institutionalized qualities of governing authority.\"  [(2)](https://www.systemicpeace.org/polityproject.html). These changes in governing authority are the target feature of this analysis. It also contains 1,693 rows of data, each with 24 features. **Throughout this analysis, this dataset will be referred to as the \"Regime Changes\" or \"Regimes\" dataset.**\n",
    "\n",
    "\n",
    "#### Citation: \n",
    "\n",
    "“The Polity Project.” PolityProject, Center for Systemic Peace, www.systemicpeace.org/polityproject.html. \n",
    "\n",
    "\n",
    "\n",
    "### The Database of Political Institutions\n",
    "\n",
    "The third dataset is provided by the Inter-American Development Bank (IDB). \"The Database of Political Institutions presents institutional and electoral results data such as measures of checks and balances, tenure and stability of the government, identification of party affiliation and ideology, and fragmentation of opposition and government parties in the legislature ... [it covers] about 180 countries [from] 1975-2020. It has become one of the most cited databases in comparative political economy and comparative political institutions, with more than 4,500 article citations on Google Scholar as of December 2020.\" [(3)](https://publications.iadb.org/en/database-political-institutions-2020-dpi2020) For the context of this analysis, it includes 8,200 rows of data, each with 77 features. **Throughout this analysis, this dataset will be referred to as the \"Governments\" dataset.** \n",
    "\n",
    "\n",
    "#### Citation:\n",
    "\n",
    "Cruz, Cesi, Philip Keefer, and Carlos Scartascini. 2021. Database of Political Institutions 2020. Washington, DC: Inter-American Development Bank Research Department.\n",
    "\n",
    "### Notes about the breakdown of the Jupyter notebooks used herein\n",
    "\n",
    "Given the large-scale nature of the project, this notebook inevitably does not contain the entire analysis. It does not go into depth on each of the choices made for feature selection or data cleaning. Consider this the \"top level\" notebook, and those more detail-oriented parts of the analysis are handled in their own spaces. Here is where you should go to find more details:\n",
    "\n",
    "\n",
    "1. **[cleaning_protests_dataset.ipynb](cleaning_protests_dataset.ipynb):** Refer to this notebook for a ground-up analysis of the \"Protests\" dataset. It includes important features such as the nature of each protest (size, objectives, location, etc.). Especially exhaustive and detailed data cleaning choices are made in this notebook.\n",
    "2. **[cleaning_regime_changes_dataset.ipynb](cleaning_regime_changes_dataset.ipynb):** Refer to this notebook for a full study of the \"Regime Change\" data. Primarily, this data provides the target feature for the entire analysis: regime change. It indicates when and where political change occurs. Interesting feature engineering takes place here.\n",
    "3. **[cleaning_governments_dataset.ipynb](cleaning_governments_dataset.ipynb):** Refer to this notebook for an impressively comprehensive dataset surrounding descriptive attributes of governments around the world over many decades. Important information includes the political system of countries at specified times, the tenure of the country's primary leader, and the percentage of the popular vote the leader received (where relevant). There are descriptors as granular as the total number of seats in congress (where relevant). Extensive feature selection takes place in this notebook."
   ]
  },
  {
   "cell_type": "markdown",
   "id": "b73e956e",
   "metadata": {
    "id": "afd97cf5"
   },
   "source": [
    "----\n",
    "\n",
    "## Part II. Data Preparation\n",
    "\n",
    "This section provides a brief overview of some data preparation. Note that for the sake of readability and brevity, the majority of the actual data cleaning takes place in the above-mentioned notebooks. Please refer there for information on specific decisions made."
   ]
  },
  {
   "cell_type": "markdown",
   "id": "151360fd",
   "metadata": {
    "id": "5326057d"
   },
   "source": [
    "**Import packages used throughout analysis**"
   ]
  },
  {
   "cell_type": "code",
   "execution_count": 1,
   "id": "1cd9fc81",
   "metadata": {
    "id": "5be72721",
    "outputId": "2fd61332-81e5-448d-a8c9-d49d5d075545"
   },
   "outputs": [
    {
     "name": "stdout",
     "output_type": "stream",
     "text": [
      "The autoreload extension is already loaded. To reload it, use:\n",
      "  %reload_ext autoreload\n"
     ]
    }
   ],
   "source": [
    "# Basic imporrts\n",
    "import numpy as np\n",
    "import pandas as pd\n",
    "import matplotlib.pyplot as plt\n",
    "import seaborn as sns\n",
    "import sys\n",
    "from sqlalchemy import create_engine\n",
    "import pickle\n",
    "\n",
    "# Model preprocessing and processing\n",
    "from sklearn.model_selection import train_test_split\n",
    "from sklearn.preprocessing import OneHotEncoder, StandardScaler\n",
    "from sklearn.compose import make_column_selector, make_column_transformer\n",
    "from imblearn.over_sampling import SMOTE\n",
    "from sklearn.model_selection import GridSearchCV\n",
    "from imblearn.pipeline import Pipeline\n",
    "from sklearn.base import clone\n",
    "\n",
    "# Models\n",
    "from sklearn.dummy import DummyClassifier\n",
    "from sklearn.linear_model import LogisticRegression\n",
    "from sklearn.ensemble import RandomForestClassifier\n",
    "from xgboost import XGBClassifier\n",
    "\n",
    "# Performance evaluation\n",
    "from sklearn.metrics import f1_score, precision_score, accuracy_score\n",
    "from sklearn.metrics import plot_confusion_matrix, recall_score\n",
    "import shap\n",
    "\n",
    "# Display options\n",
    "pd.options.display.max_columns = 200\n",
    "%matplotlib inline\n",
    "\n",
    "# Convenience for working with external .py files\n",
    "%load_ext autoreload\n",
    "%autoreload 2\n",
    "\n",
    "# Convenience for working with external src code files\n",
    "%load_ext autoreload\n",
    "%autoreload 2\n",
    "sys.path.insert(1, '../src')\n",
    "from custom_plots import *\n",
    "from create_target import *\n",
    "from remove_missing_data import *\n",
    "from evaluate_model_performance import *\n",
    "\n",
    "# Global constants\n",
    "RANDOM_STATE = 2021"
   ]
  },
  {
   "cell_type": "markdown",
   "id": "df6899a5",
   "metadata": {
    "id": "a6dc06e2"
   },
   "source": [
    "**Import \"Regime Change\" dataset**\n",
    "\n",
    "Note that the SQL database being imported has been pre-cleaned with consequential feature engineering in the *cleaning_regime_changes_dataset.ipynb* notebook in this directory."
   ]
  },
  {
   "cell_type": "code",
   "execution_count": 2,
   "id": "490e1bf8",
   "metadata": {
    "id": "e843f8c8"
   },
   "outputs": [],
   "source": [
    "# Import cleaned database via SQL\n",
    "engine = create_engine('sqlite:///../data/processed/regime_changes.db')\n",
    "with engine.begin() as connection:\n",
    "    df_regimes = pd.read_sql('SELECT * FROM regime_changes', con=connection)\n",
    "\n",
    "# Type casting\n",
    "df_regimes.startdate = pd.to_datetime(df_regimes.startdate)\n",
    "df_regimes.enddate = pd.to_datetime(df_regimes.enddate)"
   ]
  },
  {
   "cell_type": "markdown",
   "id": "9d0f118b",
   "metadata": {
    "id": "662c48d4"
   },
   "source": [
    "**Import \"Protests\" dataset**\n",
    "\n",
    "Similar to above, the SQL database has already cleaned with some feature engineering taking place. Refer to *cleaning_protests_dataset.ipynb* in this directory for specifics. "
   ]
  },
  {
   "cell_type": "code",
   "execution_count": 3,
   "id": "36b0fe31",
   "metadata": {
    "id": "351b9b65"
   },
   "outputs": [],
   "source": [
    "# Import cleaned database via SQL\n",
    "engine = create_engine('sqlite:///../data/processed/protests.db')\n",
    "with engine.begin() as connection:\n",
    "    df_protests = pd.read_sql('SELECT * FROM protests', con=connection)\n",
    "\n",
    "# Type casting\n",
    "df_protests.startdate = pd.to_datetime(df_protests.startdate)"
   ]
  },
  {
   "cell_type": "markdown",
   "id": "003ba73f",
   "metadata": {
    "id": "33684d24"
   },
   "source": [
    "**Import \"Governments\" dataset**\n",
    "\n",
    "This SQL database has already undergone very notable, detail-oriented data cleaning in the *cleaning_governments_dataset.ipynb* notebook in this directory. Notably, it also serves the role of decreasing the number of features from 77 (in the original dataset) to 55 here. That number will again be substantially reduced in the data cleaning section below."
   ]
  },
  {
   "cell_type": "code",
   "execution_count": 4,
   "id": "639349ca",
   "metadata": {
    "id": "3bea662b"
   },
   "outputs": [],
   "source": [
    "# Import cleaned database via SQL\n",
    "engine = create_engine('sqlite:///../data/processed/governments.db')\n",
    "with engine.begin() as connection:\n",
    "    df_govts = pd.read_sql('SELECT * FROM governments', con=connection)\n",
    "\n",
    "# Set index to be used in SQL join\n",
    "df_govts.index = df_govts.year_scode\n",
    "\n",
    "# Drop now-duplicated feature\n",
    "df_govts.drop('year_scode', axis=1, inplace=True)"
   ]
  },
  {
   "cell_type": "markdown",
   "id": "14c516f8",
   "metadata": {
    "id": "ed93a5da"
   },
   "source": [
    "**Join \"Protests\" and \"Governments\" datasets**\n",
    "\n",
    "By joining these two datasets, a new dataframe is created with each row corresponding to one protest, containing original features about that protest as well as the characteristics of the government in place in that country during the selected year. The two datasets are joined on the index of *\"year_of_protest\"_\"three-letter_country_code\"*, otherwise known as *\"year_scode\"*."
   ]
  },
  {
   "cell_type": "code",
   "execution_count": 5,
   "id": "b9f49518",
   "metadata": {
    "id": "93308ed5"
   },
   "outputs": [],
   "source": [
    "# Join both dataframes\n",
    "df = df_protests.join(df_govts, how='left', on='year_scode')"
   ]
  },
  {
   "cell_type": "markdown",
   "id": "b6d275cf",
   "metadata": {},
   "source": [
    "#### Remove countries that do not contain *government* data"
   ]
  },
  {
   "cell_type": "code",
   "execution_count": 6,
   "id": "299b5606",
   "metadata": {},
   "outputs": [],
   "source": [
    "# Columns to identify a country\n",
    "cols = ['scode', 'scode_govt', 'country', 'country_govt']\n",
    "\n",
    "# Country code from one dataset isn't present in the second dataset\n",
    "missing_countries = df.loc[(df.country != df.country_govt)][cols]\n",
    "\n",
    "# Remove countries that don't contain government data\n",
    "scodes_to_remove = missing_countries.scode.unique()\n",
    "scodes_to_remove_ind = [x in scodes_to_remove for x in df.scode]\n",
    "df.drop(df.loc[scodes_to_remove_ind].index, axis=0, inplace=True)"
   ]
  },
  {
   "cell_type": "markdown",
   "id": "257725c8",
   "metadata": {
    "id": "411df45d"
   },
   "source": [
    "**Remove features with missing values**"
   ]
  },
  {
   "cell_type": "code",
   "execution_count": 7,
   "id": "b17bb881",
   "metadata": {
    "id": "6b0da437",
    "outputId": "585ad3f0-7061-445b-ef0a-e04ec60d5035"
   },
   "outputs": [
    {
     "name": "stdout",
     "output_type": "stream",
     "text": [
      "Removing 0 protests without government data for the given year.\n"
     ]
    }
   ],
   "source": [
    "# Remove protests without corresponding \"government\"\n",
    "print('Removing {} protests without government data for the given year.'.\\\n",
    "      format(df.scode_govt.isna().sum()))\n",
    "df.dropna(inplace=True)\n",
    "\n",
    "# Remove entries with limited \"government\" data\n",
    "df = remove_missing_data(df, 1000)"
   ]
  },
  {
   "cell_type": "code",
   "execution_count": 8,
   "id": "b6e9626c",
   "metadata": {},
   "outputs": [
    {
     "name": "stdout",
     "output_type": "stream",
     "text": [
      "<class 'pandas.core.frame.DataFrame'>\n",
      "Int64Index: 10479 entries, 0 to 15207\n",
      "Data columns (total 53 columns):\n",
      " #   Column                             Non-Null Count  Dtype         \n",
      "---  ------                             --------------  -----         \n",
      " 0   country                            10479 non-null  object        \n",
      " 1   scode                              10479 non-null  object        \n",
      " 2   region                             10479 non-null  object        \n",
      " 3   protestnumber                      10479 non-null  int64         \n",
      " 4   protesterviolence                  10479 non-null  int64         \n",
      " 5   startdate                          10479 non-null  datetime64[ns]\n",
      " 6   duration_days                      10479 non-null  int64         \n",
      " 7   participants                       10479 non-null  int64         \n",
      " 8   participants_category              10479 non-null  object        \n",
      " 9   demand_labor-wage-dispute          10479 non-null  int64         \n",
      " 10  demand_land-farm-issue             10479 non-null  int64         \n",
      " 11  demand_police-brutality            10479 non-null  int64         \n",
      " 12  demand_political-behavior/process  10479 non-null  int64         \n",
      " 13  demand_price-increases/tax-policy  10479 non-null  int64         \n",
      " 14  demand_removal-of-politician       10479 non-null  int64         \n",
      " 15  demand_social-restrictions         10479 non-null  int64         \n",
      " 16  year_scode                         10479 non-null  object        \n",
      " 17  participants_log                   10479 non-null  float64       \n",
      " 18  duration_days_log                  10479 non-null  float64       \n",
      " 19  protestnumber_log                  10479 non-null  float64       \n",
      " 20  system                             10479 non-null  object        \n",
      " 21  yrsoffc                            10479 non-null  float64       \n",
      " 22  finittrm                           10479 non-null  float64       \n",
      " 23  yrcurnt                            10479 non-null  float64       \n",
      " 24  termlimit                          10479 non-null  float64       \n",
      " 25  reelect                            10479 non-null  float64       \n",
      " 26  multpl                             10479 non-null  float64       \n",
      " 27  military                           10479 non-null  float64       \n",
      " 28  defmin                             10479 non-null  float64       \n",
      " 29  execnat                            10479 non-null  float64       \n",
      " 30  execrel                            10479 non-null  object        \n",
      " 31  totalseats                         10479 non-null  float64       \n",
      " 32  oppmajh                            10479 non-null  float64       \n",
      " 33  legelec                            10479 non-null  float64       \n",
      " 34  exelec                             10479 non-null  float64       \n",
      " 35  liec                               10479 non-null  float64       \n",
      " 36  eiec                               10479 non-null  float64       \n",
      " 37  gq                                 10479 non-null  float64       \n",
      " 38  gqi                                10479 non-null  float64       \n",
      " 39  auton                              10479 non-null  float64       \n",
      " 40  numvote                            10479 non-null  float64       \n",
      " 41  oppvote                            10479 non-null  float64       \n",
      " 42  maj                                10479 non-null  float64       \n",
      " 43  herfgov                            10479 non-null  float64       \n",
      " 44  frac                               10479 non-null  float64       \n",
      " 45  govfrac                            10479 non-null  float64       \n",
      " 46  tensys_strict                      10479 non-null  float64       \n",
      " 47  checks                             10479 non-null  float64       \n",
      " 48  stabs_strict                       10479 non-null  float64       \n",
      " 49  tenlong_strict                     10479 non-null  float64       \n",
      " 50  tenshort_strict                    10479 non-null  float64       \n",
      " 51  country_govt                       10479 non-null  object        \n",
      " 52  scode_govt                         10479 non-null  object        \n",
      "dtypes: datetime64[ns](1), float64(32), int64(11), object(9)\n",
      "memory usage: 4.3+ MB\n"
     ]
    }
   ],
   "source": [
    "df.info()"
   ]
  },
  {
   "cell_type": "code",
   "execution_count": 9,
   "id": "75681b6e",
   "metadata": {},
   "outputs": [
    {
     "ename": "NameError",
     "evalue": "name 'stop' is not defined",
     "output_type": "error",
     "traceback": [
      "\u001b[1;31m---------------------------------------------------------------------------\u001b[0m",
      "\u001b[1;31mNameError\u001b[0m                                 Traceback (most recent call last)",
      "\u001b[1;32m<ipython-input-9-4f76a9dad686>\u001b[0m in \u001b[0;36m<module>\u001b[1;34m\u001b[0m\n\u001b[1;32m----> 1\u001b[1;33m \u001b[0mstop\u001b[0m\u001b[1;33m\u001b[0m\u001b[1;33m\u001b[0m\u001b[0m\n\u001b[0m",
      "\u001b[1;31mNameError\u001b[0m: name 'stop' is not defined"
     ]
    }
   ],
   "source": [
    "stop"
   ]
  },
  {
   "cell_type": "markdown",
   "id": "5422d95f",
   "metadata": {
    "id": "927a976c"
   },
   "source": [
    "**Join with \"Regime Changes\" dataset**\n",
    "\n",
    "Add the third and final dataset, which includes the \"target\" feature of the analysis. "
   ]
  },
  {
   "cell_type": "code",
   "execution_count": 7,
   "id": "f8ab8f58",
   "metadata": {
    "id": "91f8a6f1"
   },
   "outputs": [],
   "source": [
    "target = create_target(df, df_regimes)\n",
    "df = pd.concat([df, target], axis=1)"
   ]
  },
  {
   "cell_type": "markdown",
   "id": "2484afb5",
   "metadata": {
    "id": "d4c28260"
   },
   "source": [
    "**Basic Cleaning**"
   ]
  },
  {
   "cell_type": "code",
   "execution_count": 8,
   "id": "e2bff7de",
   "metadata": {},
   "outputs": [
    {
     "name": "stdout",
     "output_type": "stream",
     "text": [
      "<class 'pandas.core.frame.DataFrame'>\n",
      "Int64Index: 14352 entries, 0 to 15207\n",
      "Data columns (total 58 columns):\n",
      " #   Column                             Non-Null Count  Dtype         \n",
      "---  ------                             --------------  -----         \n",
      " 0   index                              11411 non-null  float64       \n",
      " 1   country                            11411 non-null  object        \n",
      " 2   scode                              11411 non-null  object        \n",
      " 3   region                             11411 non-null  object        \n",
      " 4   protestnumber                      11411 non-null  float64       \n",
      " 5   protesterviolence                  11411 non-null  float64       \n",
      " 6   startdate                          11411 non-null  datetime64[ns]\n",
      " 7   duration_days                      11411 non-null  float64       \n",
      " 8   participants                       11411 non-null  float64       \n",
      " 9   participants_category              11411 non-null  object        \n",
      " 10  demand_labor-wage-dispute          11411 non-null  float64       \n",
      " 11  demand_land-farm-issue             11411 non-null  float64       \n",
      " 12  demand_police-brutality            11411 non-null  float64       \n",
      " 13  demand_political-behavior/process  11411 non-null  float64       \n",
      " 14  demand_price-increases/tax-policy  11411 non-null  float64       \n",
      " 15  demand_removal-of-politician       11411 non-null  float64       \n",
      " 16  demand_social-restrictions         11411 non-null  float64       \n",
      " 17  year_scode                         11411 non-null  object        \n",
      " 18  participants_log                   11411 non-null  float64       \n",
      " 19  duration_days_log                  11411 non-null  float64       \n",
      " 20  protestnumber_log                  11411 non-null  float64       \n",
      " 21  system                             11411 non-null  object        \n",
      " 22  yrsoffc                            11411 non-null  float64       \n",
      " 23  finittrm                           11411 non-null  float64       \n",
      " 24  yrcurnt                            11411 non-null  float64       \n",
      " 25  termlimit                          11411 non-null  float64       \n",
      " 26  reelect                            11411 non-null  float64       \n",
      " 27  multpl                             11411 non-null  float64       \n",
      " 28  military                           11411 non-null  float64       \n",
      " 29  defmin                             11411 non-null  float64       \n",
      " 30  execnat                            11411 non-null  float64       \n",
      " 31  execrel                            11411 non-null  object        \n",
      " 32  totalseats                         11411 non-null  float64       \n",
      " 33  oppmajh                            11411 non-null  float64       \n",
      " 34  legelec                            11411 non-null  float64       \n",
      " 35  exelec                             11411 non-null  float64       \n",
      " 36  liec                               11411 non-null  float64       \n",
      " 37  eiec                               11411 non-null  float64       \n",
      " 38  gq                                 11411 non-null  float64       \n",
      " 39  gqi                                11411 non-null  float64       \n",
      " 40  auton                              11411 non-null  float64       \n",
      " 41  numvote                            11411 non-null  float64       \n",
      " 42  oppvote                            11411 non-null  float64       \n",
      " 43  maj                                11411 non-null  float64       \n",
      " 44  herfgov                            11411 non-null  float64       \n",
      " 45  frac                               11411 non-null  float64       \n",
      " 46  govfrac                            11411 non-null  float64       \n",
      " 47  tensys_strict                      11411 non-null  float64       \n",
      " 48  checks                             11411 non-null  float64       \n",
      " 49  stabs_strict                       11411 non-null  float64       \n",
      " 50  tenlong_strict                     11411 non-null  float64       \n",
      " 51  tenshort_strict                    11411 non-null  float64       \n",
      " 52  country_govt                       11411 non-null  object        \n",
      " 53  scode_govt                         11411 non-null  object        \n",
      " 54  xconst                             11408 non-null  object        \n",
      " 55  present                            11408 non-null  object        \n",
      " 56  next_regime_chg_date               11408 non-null  datetime64[ns]\n",
      " 57  days_until_next_regime_chg         11408 non-null  float64       \n",
      "dtypes: datetime64[ns](2), float64(45), object(11)\n",
      "memory usage: 6.5+ MB\n"
     ]
    }
   ],
   "source": [
    "df.info()"
   ]
  },
  {
   "cell_type": "code",
   "execution_count": 9,
   "id": "5f9a4ebb",
   "metadata": {
    "id": "37e617ce",
    "outputId": "939d0e71-b6b0-46e0-853d-a2dd20d6230c"
   },
   "outputs": [
    {
     "name": "stdout",
     "output_type": "stream",
     "text": [
      "Removing 2944 protests without regime transition for the given year.\n"
     ]
    }
   ],
   "source": [
    "# Convert startdate to a float instead of datetime since datetime cannot be \n",
    "# handled by models but fractional years can\n",
    "df['startdate'] = df.startdate.dt.year + \\\n",
    "                  df.startdate.dt.month/12 + \\\n",
    "                  df.startdate.dt.day/365\n",
    "\n",
    "# Define target as \"regime change in less than 6 months\"\n",
    "target = (df['days_until_next_regime_chg'] < 365/2).astype('int')\n",
    "\n",
    "# Drop unused columns\n",
    "# Refer to \"model.ipynb\" notebook for decision-making details\n",
    "drop_cols = ['year_scode', 'scode_govt', 'country_govt', 'startdate',\n",
    "             'days_until_next_regime_chg', 'scode', 'participants_category', 'participants',\n",
    "             'next_regime_chg_date', 'index', 'duration_days', 'present', 'protestnumber']\n",
    "df.drop(drop_cols, axis=1, inplace=True)\n",
    "print('Removing {} protests without regime transition for the given year.'.\\\n",
    "      format(df.xconst.isna().sum()))\n",
    "df.dropna(inplace=True)\n",
    "\n",
    "# Type casting\n",
    "df['xconst'] = df['xconst'].astype('int')\n",
    "    \n",
    "\n",
    "# Remove dropped rows from the target feature\n",
    "target = target.loc[df.index].copy()\n",
    "\n",
    "# Drop multi-collinear features (see \"model.ipynb\" for details)\n",
    "collinear_cols = ['liec', 'eiec', 'tenlong_strict', 'tenshort_strict', 'finittrm', 'govfrac', 'oppvote']\n",
    "df.drop(collinear_cols, axis=1, inplace=True)"
   ]
  },
  {
   "cell_type": "markdown",
   "id": "072f53ca",
   "metadata": {
    "id": "e7188499"
   },
   "source": [
    "### Feature descriptions\n",
    "\n",
    "Given the large number of features with abbreviated names, those that are used within the model are defined below.\n",
    "\n",
    "Protest Details - as provided by *Protests* dataset:\n",
    "- **country:** location of protest\n",
    "- **region:** global region\n",
    "- **protestnumber:** protest number in the selected country in a given year \n",
    "- **protesterviolence:** (y/n) indicator of protester violence\n",
    "- **startdate:** first day of protest\n",
    "- **participants:** number of individuals in attendance\n",
    "\n",
    "---\n",
    "\n",
    "Categorizations of the reason for a protest (multiple options possible) - as provided by *Protests* dataset:\n",
    "-  **labor wage dispute** \n",
    "-  **land farm issue** \n",
    "-  **police brutality** \n",
    "-  **political behavior/process** \n",
    "-  **price increases/tax policy** \n",
    "-  **removal of politician** \n",
    "-  **social restrictions** \n",
    "\n",
    "---\n",
    "\n",
    "Government descriptors in the given country at the time protest - as provided by *Government Characterization* dataset. Strict, quantifiable definitions are provided in Data Manual.\n",
    "\n",
    "- **system:** governmental system (Parliamentary, Assembly-elected president, Presidential, Unelected)\n",
    "- **yrsoffc:** number of years the chief executive has been in office\n",
    "- **finittrm:** (y/n) is there a finite term in office?\n",
    "- **military:** (y/n) is the chief executive a military officer?\n",
    "- **totalseats:** total seats in the legislature\n",
    "- **legelec:** (y/n) is there a legislative election in the protest year?\n",
    "- **exelec:** (y/n) is there a executive election in the protest year?\n",
    "- **liec:** legislative index of electoral competitiveness\n",
    "- **eiec:** executive index of electoral competitiveness\n",
    "- **gq:** are there gender quotas in government (None, Voluntary, Reserved, Required)\n",
    "- **numvote:** total vote share of governmental leadership party\n",
    "- **oppvote:** total vote share of all opposition parties\n",
    "- **tensys_strict:** length of time the country has been autocratic or democratic\n",
    "- **stabs_strict:** stability, as measured by the percent of veto players who *drop* from the government in a given year\n",
    "\n",
    "---\n",
    "\n",
    "Political regime authority characteristics - as provided by *Regime Changes* dataset. Strict, quantifiable definitions are provided in Data Manual.\n",
    "\n",
    "- **parcomp:** competitiveness of political participation (Repressed, Suppressed, Factional, Transitional, Competitive)\n",
    "- **parreg:** regulation of participation (Unregulated, Multiple Identity, Sectarian, Restricted, Regulated)\n",
    "- **xconst:** executive constraints / decision rules (Unlimited Authority through Executive Parity)\n",
    "- **xropen / xrcomp:** openness/competitiveness of executive recruitment (Closed, Designation, Election)\n",
    "- **regime transition:** target feature for this analysis, quantified by a pre-specified level of change in above metrics. See data dictionary for in-depth technical definition of political regime transition. Note that the purpose of this analysis is not to define what a regime transition is, but rather to use existing definitions to best understand the circumstances under which they do occur."
   ]
  },
  {
   "cell_type": "code",
   "execution_count": 10,
   "id": "669575a9",
   "metadata": {
    "id": "2c3a7932",
    "outputId": "9dbd4c89-7d15-47b5-c646-f5e07fbb99c6"
   },
   "outputs": [
    {
     "name": "stdout",
     "output_type": "stream",
     "text": [
      "<class 'pandas.core.frame.DataFrame'>\n",
      "Int64Index: 8467 entries, 0 to 11410\n",
      "Data columns (total 38 columns):\n",
      " #   Column                             Non-Null Count  Dtype  \n",
      "---  ------                             --------------  -----  \n",
      " 0   country                            8467 non-null   object \n",
      " 1   region                             8467 non-null   object \n",
      " 2   protesterviolence                  8467 non-null   float64\n",
      " 3   demand_labor-wage-dispute          8467 non-null   float64\n",
      " 4   demand_land-farm-issue             8467 non-null   float64\n",
      " 5   demand_police-brutality            8467 non-null   float64\n",
      " 6   demand_political-behavior/process  8467 non-null   float64\n",
      " 7   demand_price-increases/tax-policy  8467 non-null   float64\n",
      " 8   demand_removal-of-politician       8467 non-null   float64\n",
      " 9   demand_social-restrictions         8467 non-null   float64\n",
      " 10  participants_log                   8467 non-null   float64\n",
      " 11  duration_days_log                  8467 non-null   float64\n",
      " 12  protestnumber_log                  8467 non-null   float64\n",
      " 13  system                             8467 non-null   object \n",
      " 14  yrsoffc                            8467 non-null   float64\n",
      " 15  yrcurnt                            8467 non-null   float64\n",
      " 16  termlimit                          8467 non-null   float64\n",
      " 17  reelect                            8467 non-null   float64\n",
      " 18  multpl                             8467 non-null   float64\n",
      " 19  military                           8467 non-null   float64\n",
      " 20  defmin                             8467 non-null   float64\n",
      " 21  execnat                            8467 non-null   float64\n",
      " 22  execrel                            8467 non-null   object \n",
      " 23  totalseats                         8467 non-null   float64\n",
      " 24  oppmajh                            8467 non-null   float64\n",
      " 25  legelec                            8467 non-null   float64\n",
      " 26  exelec                             8467 non-null   float64\n",
      " 27  gq                                 8467 non-null   float64\n",
      " 28  gqi                                8467 non-null   float64\n",
      " 29  auton                              8467 non-null   float64\n",
      " 30  numvote                            8467 non-null   float64\n",
      " 31  maj                                8467 non-null   float64\n",
      " 32  herfgov                            8467 non-null   float64\n",
      " 33  frac                               8467 non-null   float64\n",
      " 34  tensys_strict                      8467 non-null   float64\n",
      " 35  checks                             8467 non-null   float64\n",
      " 36  stabs_strict                       8467 non-null   float64\n",
      " 37  xconst                             8467 non-null   int32  \n",
      "dtypes: float64(33), int32(1), object(4)\n",
      "memory usage: 2.5+ MB\n"
     ]
    },
    {
     "data": {
      "text/plain": [
       "None"
      ]
     },
     "metadata": {},
     "output_type": "display_data"
    },
    {
     "data": {
      "text/html": [
       "<div>\n",
       "<style scoped>\n",
       "    .dataframe tbody tr th:only-of-type {\n",
       "        vertical-align: middle;\n",
       "    }\n",
       "\n",
       "    .dataframe tbody tr th {\n",
       "        vertical-align: top;\n",
       "    }\n",
       "\n",
       "    .dataframe thead th {\n",
       "        text-align: right;\n",
       "    }\n",
       "</style>\n",
       "<table border=\"1\" class=\"dataframe\">\n",
       "  <thead>\n",
       "    <tr style=\"text-align: right;\">\n",
       "      <th></th>\n",
       "      <th>protesterviolence</th>\n",
       "      <th>demand_labor-wage-dispute</th>\n",
       "      <th>demand_land-farm-issue</th>\n",
       "      <th>demand_police-brutality</th>\n",
       "      <th>demand_political-behavior/process</th>\n",
       "      <th>demand_price-increases/tax-policy</th>\n",
       "      <th>demand_removal-of-politician</th>\n",
       "      <th>demand_social-restrictions</th>\n",
       "      <th>participants_log</th>\n",
       "      <th>duration_days_log</th>\n",
       "      <th>protestnumber_log</th>\n",
       "      <th>yrsoffc</th>\n",
       "      <th>yrcurnt</th>\n",
       "      <th>termlimit</th>\n",
       "      <th>reelect</th>\n",
       "      <th>multpl</th>\n",
       "      <th>military</th>\n",
       "      <th>defmin</th>\n",
       "      <th>execnat</th>\n",
       "      <th>totalseats</th>\n",
       "      <th>oppmajh</th>\n",
       "      <th>legelec</th>\n",
       "      <th>exelec</th>\n",
       "      <th>gq</th>\n",
       "      <th>gqi</th>\n",
       "      <th>auton</th>\n",
       "      <th>numvote</th>\n",
       "      <th>maj</th>\n",
       "      <th>herfgov</th>\n",
       "      <th>frac</th>\n",
       "      <th>tensys_strict</th>\n",
       "      <th>checks</th>\n",
       "      <th>stabs_strict</th>\n",
       "      <th>xconst</th>\n",
       "    </tr>\n",
       "  </thead>\n",
       "  <tbody>\n",
       "    <tr>\n",
       "      <th>count</th>\n",
       "      <td>8467.000000</td>\n",
       "      <td>8467.000000</td>\n",
       "      <td>8467.000000</td>\n",
       "      <td>8467.000000</td>\n",
       "      <td>8467.000000</td>\n",
       "      <td>8467.000000</td>\n",
       "      <td>8467.000000</td>\n",
       "      <td>8467.000000</td>\n",
       "      <td>8467.000000</td>\n",
       "      <td>8467.000000</td>\n",
       "      <td>8467.000000</td>\n",
       "      <td>8467.000000</td>\n",
       "      <td>8467.000000</td>\n",
       "      <td>8467.000000</td>\n",
       "      <td>8467.000000</td>\n",
       "      <td>8467.000000</td>\n",
       "      <td>8467.000000</td>\n",
       "      <td>8467.000000</td>\n",
       "      <td>8467.000000</td>\n",
       "      <td>8467.000000</td>\n",
       "      <td>8467.000000</td>\n",
       "      <td>8467.000000</td>\n",
       "      <td>8467.000000</td>\n",
       "      <td>8467.000000</td>\n",
       "      <td>8467.000000</td>\n",
       "      <td>8467.000000</td>\n",
       "      <td>8467.000000</td>\n",
       "      <td>8467.000000</td>\n",
       "      <td>8467.000000</td>\n",
       "      <td>8467.000000</td>\n",
       "      <td>8467.000000</td>\n",
       "      <td>8467.000000</td>\n",
       "      <td>8467.000000</td>\n",
       "      <td>8467.000000</td>\n",
       "    </tr>\n",
       "    <tr>\n",
       "      <th>mean</th>\n",
       "      <td>0.261604</td>\n",
       "      <td>0.154246</td>\n",
       "      <td>0.043935</td>\n",
       "      <td>0.064368</td>\n",
       "      <td>0.703555</td>\n",
       "      <td>0.096020</td>\n",
       "      <td>0.127554</td>\n",
       "      <td>0.044171</td>\n",
       "      <td>6.486587</td>\n",
       "      <td>0.206856</td>\n",
       "      <td>1.546338</td>\n",
       "      <td>5.422936</td>\n",
       "      <td>2.061651</td>\n",
       "      <td>2.188024</td>\n",
       "      <td>0.797685</td>\n",
       "      <td>0.838313</td>\n",
       "      <td>0.103815</td>\n",
       "      <td>0.161805</td>\n",
       "      <td>0.087280</td>\n",
       "      <td>377.359750</td>\n",
       "      <td>0.014291</td>\n",
       "      <td>0.221920</td>\n",
       "      <td>0.132633</td>\n",
       "      <td>1.118814</td>\n",
       "      <td>0.296681</td>\n",
       "      <td>0.231133</td>\n",
       "      <td>0.333410</td>\n",
       "      <td>0.606926</td>\n",
       "      <td>2.781582</td>\n",
       "      <td>0.603189</td>\n",
       "      <td>32.973899</td>\n",
       "      <td>3.501594</td>\n",
       "      <td>0.134406</td>\n",
       "      <td>3.609425</td>\n",
       "    </tr>\n",
       "    <tr>\n",
       "      <th>std</th>\n",
       "      <td>0.439534</td>\n",
       "      <td>0.361206</td>\n",
       "      <td>0.204963</td>\n",
       "      <td>0.245421</td>\n",
       "      <td>0.456717</td>\n",
       "      <td>0.294636</td>\n",
       "      <td>0.333612</td>\n",
       "      <td>0.205488</td>\n",
       "      <td>2.340358</td>\n",
       "      <td>0.671686</td>\n",
       "      <td>1.108872</td>\n",
       "      <td>6.162310</td>\n",
       "      <td>1.392066</td>\n",
       "      <td>1.517465</td>\n",
       "      <td>0.401749</td>\n",
       "      <td>0.368185</td>\n",
       "      <td>0.305038</td>\n",
       "      <td>0.368293</td>\n",
       "      <td>0.282262</td>\n",
       "      <td>463.523331</td>\n",
       "      <td>0.118694</td>\n",
       "      <td>0.415562</td>\n",
       "      <td>0.339197</td>\n",
       "      <td>1.153906</td>\n",
       "      <td>0.457339</td>\n",
       "      <td>0.421582</td>\n",
       "      <td>0.271589</td>\n",
       "      <td>0.180534</td>\n",
       "      <td>37.942802</td>\n",
       "      <td>0.205609</td>\n",
       "      <td>26.507943</td>\n",
       "      <td>1.791742</td>\n",
       "      <td>0.277665</td>\n",
       "      <td>13.843227</td>\n",
       "    </tr>\n",
       "    <tr>\n",
       "      <th>min</th>\n",
       "      <td>0.000000</td>\n",
       "      <td>0.000000</td>\n",
       "      <td>0.000000</td>\n",
       "      <td>0.000000</td>\n",
       "      <td>0.000000</td>\n",
       "      <td>0.000000</td>\n",
       "      <td>0.000000</td>\n",
       "      <td>0.000000</td>\n",
       "      <td>3.912023</td>\n",
       "      <td>0.000000</td>\n",
       "      <td>0.000000</td>\n",
       "      <td>1.000000</td>\n",
       "      <td>0.000000</td>\n",
       "      <td>1.000000</td>\n",
       "      <td>0.000000</td>\n",
       "      <td>0.000000</td>\n",
       "      <td>0.000000</td>\n",
       "      <td>0.000000</td>\n",
       "      <td>0.000000</td>\n",
       "      <td>31.000000</td>\n",
       "      <td>0.000000</td>\n",
       "      <td>0.000000</td>\n",
       "      <td>0.000000</td>\n",
       "      <td>0.000000</td>\n",
       "      <td>0.000000</td>\n",
       "      <td>0.000000</td>\n",
       "      <td>0.000000</td>\n",
       "      <td>0.031579</td>\n",
       "      <td>0.089841</td>\n",
       "      <td>0.000000</td>\n",
       "      <td>1.000000</td>\n",
       "      <td>1.000000</td>\n",
       "      <td>0.000000</td>\n",
       "      <td>-88.000000</td>\n",
       "    </tr>\n",
       "    <tr>\n",
       "      <th>25%</th>\n",
       "      <td>0.000000</td>\n",
       "      <td>0.000000</td>\n",
       "      <td>0.000000</td>\n",
       "      <td>0.000000</td>\n",
       "      <td>0.000000</td>\n",
       "      <td>0.000000</td>\n",
       "      <td>0.000000</td>\n",
       "      <td>0.000000</td>\n",
       "      <td>4.605170</td>\n",
       "      <td>0.000000</td>\n",
       "      <td>0.693147</td>\n",
       "      <td>2.000000</td>\n",
       "      <td>1.000000</td>\n",
       "      <td>1.000000</td>\n",
       "      <td>1.000000</td>\n",
       "      <td>1.000000</td>\n",
       "      <td>0.000000</td>\n",
       "      <td>0.000000</td>\n",
       "      <td>0.000000</td>\n",
       "      <td>140.000000</td>\n",
       "      <td>0.000000</td>\n",
       "      <td>0.000000</td>\n",
       "      <td>0.000000</td>\n",
       "      <td>0.000000</td>\n",
       "      <td>0.000000</td>\n",
       "      <td>0.000000</td>\n",
       "      <td>0.000000</td>\n",
       "      <td>0.507381</td>\n",
       "      <td>0.563104</td>\n",
       "      <td>0.532278</td>\n",
       "      <td>11.000000</td>\n",
       "      <td>2.000000</td>\n",
       "      <td>0.000000</td>\n",
       "      <td>5.000000</td>\n",
       "    </tr>\n",
       "    <tr>\n",
       "      <th>50%</th>\n",
       "      <td>0.000000</td>\n",
       "      <td>0.000000</td>\n",
       "      <td>0.000000</td>\n",
       "      <td>0.000000</td>\n",
       "      <td>1.000000</td>\n",
       "      <td>0.000000</td>\n",
       "      <td>0.000000</td>\n",
       "      <td>0.000000</td>\n",
       "      <td>6.308098</td>\n",
       "      <td>0.000000</td>\n",
       "      <td>1.386294</td>\n",
       "      <td>3.000000</td>\n",
       "      <td>2.000000</td>\n",
       "      <td>1.000000</td>\n",
       "      <td>1.000000</td>\n",
       "      <td>1.000000</td>\n",
       "      <td>0.000000</td>\n",
       "      <td>0.000000</td>\n",
       "      <td>0.000000</td>\n",
       "      <td>295.000000</td>\n",
       "      <td>0.000000</td>\n",
       "      <td>0.000000</td>\n",
       "      <td>0.000000</td>\n",
       "      <td>1.000000</td>\n",
       "      <td>0.000000</td>\n",
       "      <td>0.000000</td>\n",
       "      <td>0.409100</td>\n",
       "      <td>0.577586</td>\n",
       "      <td>0.992537</td>\n",
       "      <td>0.644294</td>\n",
       "      <td>24.000000</td>\n",
       "      <td>3.000000</td>\n",
       "      <td>0.000000</td>\n",
       "      <td>7.000000</td>\n",
       "    </tr>\n",
       "    <tr>\n",
       "      <th>75%</th>\n",
       "      <td>1.000000</td>\n",
       "      <td>0.000000</td>\n",
       "      <td>0.000000</td>\n",
       "      <td>0.000000</td>\n",
       "      <td>1.000000</td>\n",
       "      <td>0.000000</td>\n",
       "      <td>0.000000</td>\n",
       "      <td>0.000000</td>\n",
       "      <td>8.160232</td>\n",
       "      <td>0.000000</td>\n",
       "      <td>2.302585</td>\n",
       "      <td>6.000000</td>\n",
       "      <td>3.000000</td>\n",
       "      <td>3.000000</td>\n",
       "      <td>1.000000</td>\n",
       "      <td>1.000000</td>\n",
       "      <td>0.000000</td>\n",
       "      <td>0.000000</td>\n",
       "      <td>0.000000</td>\n",
       "      <td>500.000000</td>\n",
       "      <td>0.000000</td>\n",
       "      <td>0.000000</td>\n",
       "      <td>0.000000</td>\n",
       "      <td>2.000000</td>\n",
       "      <td>1.000000</td>\n",
       "      <td>0.000000</td>\n",
       "      <td>0.518200</td>\n",
       "      <td>0.700000</td>\n",
       "      <td>1.000000</td>\n",
       "      <td>0.726501</td>\n",
       "      <td>57.000000</td>\n",
       "      <td>4.000000</td>\n",
       "      <td>0.000000</td>\n",
       "      <td>7.000000</td>\n",
       "    </tr>\n",
       "    <tr>\n",
       "      <th>max</th>\n",
       "      <td>1.000000</td>\n",
       "      <td>1.000000</td>\n",
       "      <td>1.000000</td>\n",
       "      <td>1.000000</td>\n",
       "      <td>1.000000</td>\n",
       "      <td>1.000000</td>\n",
       "      <td>1.000000</td>\n",
       "      <td>1.000000</td>\n",
       "      <td>14.508658</td>\n",
       "      <td>6.595781</td>\n",
       "      <td>4.962845</td>\n",
       "      <td>46.000000</td>\n",
       "      <td>6.000000</td>\n",
       "      <td>8.000000</td>\n",
       "      <td>1.000000</td>\n",
       "      <td>1.000000</td>\n",
       "      <td>1.000000</td>\n",
       "      <td>1.000000</td>\n",
       "      <td>1.000000</td>\n",
       "      <td>3000.000000</td>\n",
       "      <td>1.000000</td>\n",
       "      <td>1.000000</td>\n",
       "      <td>1.000000</td>\n",
       "      <td>3.000000</td>\n",
       "      <td>2.000000</td>\n",
       "      <td>1.000000</td>\n",
       "      <td>1.000000</td>\n",
       "      <td>1.000000</td>\n",
       "      <td>729.728271</td>\n",
       "      <td>0.960134</td>\n",
       "      <td>90.000000</td>\n",
       "      <td>18.000000</td>\n",
       "      <td>1.000000</td>\n",
       "      <td>7.000000</td>\n",
       "    </tr>\n",
       "  </tbody>\n",
       "</table>\n",
       "</div>"
      ],
      "text/plain": [
       "       protesterviolence  demand_labor-wage-dispute  demand_land-farm-issue  \\\n",
       "count        8467.000000                8467.000000             8467.000000   \n",
       "mean            0.261604                   0.154246                0.043935   \n",
       "std             0.439534                   0.361206                0.204963   \n",
       "min             0.000000                   0.000000                0.000000   \n",
       "25%             0.000000                   0.000000                0.000000   \n",
       "50%             0.000000                   0.000000                0.000000   \n",
       "75%             1.000000                   0.000000                0.000000   \n",
       "max             1.000000                   1.000000                1.000000   \n",
       "\n",
       "       demand_police-brutality  demand_political-behavior/process  \\\n",
       "count              8467.000000                        8467.000000   \n",
       "mean                  0.064368                           0.703555   \n",
       "std                   0.245421                           0.456717   \n",
       "min                   0.000000                           0.000000   \n",
       "25%                   0.000000                           0.000000   \n",
       "50%                   0.000000                           1.000000   \n",
       "75%                   0.000000                           1.000000   \n",
       "max                   1.000000                           1.000000   \n",
       "\n",
       "       demand_price-increases/tax-policy  demand_removal-of-politician  \\\n",
       "count                        8467.000000                   8467.000000   \n",
       "mean                            0.096020                      0.127554   \n",
       "std                             0.294636                      0.333612   \n",
       "min                             0.000000                      0.000000   \n",
       "25%                             0.000000                      0.000000   \n",
       "50%                             0.000000                      0.000000   \n",
       "75%                             0.000000                      0.000000   \n",
       "max                             1.000000                      1.000000   \n",
       "\n",
       "       demand_social-restrictions  participants_log  duration_days_log  \\\n",
       "count                 8467.000000       8467.000000        8467.000000   \n",
       "mean                     0.044171          6.486587           0.206856   \n",
       "std                      0.205488          2.340358           0.671686   \n",
       "min                      0.000000          3.912023           0.000000   \n",
       "25%                      0.000000          4.605170           0.000000   \n",
       "50%                      0.000000          6.308098           0.000000   \n",
       "75%                      0.000000          8.160232           0.000000   \n",
       "max                      1.000000         14.508658           6.595781   \n",
       "\n",
       "       protestnumber_log      yrsoffc      yrcurnt    termlimit      reelect  \\\n",
       "count        8467.000000  8467.000000  8467.000000  8467.000000  8467.000000   \n",
       "mean            1.546338     5.422936     2.061651     2.188024     0.797685   \n",
       "std             1.108872     6.162310     1.392066     1.517465     0.401749   \n",
       "min             0.000000     1.000000     0.000000     1.000000     0.000000   \n",
       "25%             0.693147     2.000000     1.000000     1.000000     1.000000   \n",
       "50%             1.386294     3.000000     2.000000     1.000000     1.000000   \n",
       "75%             2.302585     6.000000     3.000000     3.000000     1.000000   \n",
       "max             4.962845    46.000000     6.000000     8.000000     1.000000   \n",
       "\n",
       "            multpl     military       defmin      execnat   totalseats  \\\n",
       "count  8467.000000  8467.000000  8467.000000  8467.000000  8467.000000   \n",
       "mean      0.838313     0.103815     0.161805     0.087280   377.359750   \n",
       "std       0.368185     0.305038     0.368293     0.282262   463.523331   \n",
       "min       0.000000     0.000000     0.000000     0.000000    31.000000   \n",
       "25%       1.000000     0.000000     0.000000     0.000000   140.000000   \n",
       "50%       1.000000     0.000000     0.000000     0.000000   295.000000   \n",
       "75%       1.000000     0.000000     0.000000     0.000000   500.000000   \n",
       "max       1.000000     1.000000     1.000000     1.000000  3000.000000   \n",
       "\n",
       "           oppmajh      legelec       exelec           gq          gqi  \\\n",
       "count  8467.000000  8467.000000  8467.000000  8467.000000  8467.000000   \n",
       "mean      0.014291     0.221920     0.132633     1.118814     0.296681   \n",
       "std       0.118694     0.415562     0.339197     1.153906     0.457339   \n",
       "min       0.000000     0.000000     0.000000     0.000000     0.000000   \n",
       "25%       0.000000     0.000000     0.000000     0.000000     0.000000   \n",
       "50%       0.000000     0.000000     0.000000     1.000000     0.000000   \n",
       "75%       0.000000     0.000000     0.000000     2.000000     1.000000   \n",
       "max       1.000000     1.000000     1.000000     3.000000     2.000000   \n",
       "\n",
       "             auton      numvote          maj      herfgov         frac  \\\n",
       "count  8467.000000  8467.000000  8467.000000  8467.000000  8467.000000   \n",
       "mean      0.231133     0.333410     0.606926     2.781582     0.603189   \n",
       "std       0.421582     0.271589     0.180534    37.942802     0.205609   \n",
       "min       0.000000     0.000000     0.031579     0.089841     0.000000   \n",
       "25%       0.000000     0.000000     0.507381     0.563104     0.532278   \n",
       "50%       0.000000     0.409100     0.577586     0.992537     0.644294   \n",
       "75%       0.000000     0.518200     0.700000     1.000000     0.726501   \n",
       "max       1.000000     1.000000     1.000000   729.728271     0.960134   \n",
       "\n",
       "       tensys_strict       checks  stabs_strict       xconst  \n",
       "count    8467.000000  8467.000000   8467.000000  8467.000000  \n",
       "mean       32.973899     3.501594      0.134406     3.609425  \n",
       "std        26.507943     1.791742      0.277665    13.843227  \n",
       "min         1.000000     1.000000      0.000000   -88.000000  \n",
       "25%        11.000000     2.000000      0.000000     5.000000  \n",
       "50%        24.000000     3.000000      0.000000     7.000000  \n",
       "75%        57.000000     4.000000      0.000000     7.000000  \n",
       "max        90.000000    18.000000      1.000000     7.000000  "
      ]
     },
     "metadata": {},
     "output_type": "display_data"
    }
   ],
   "source": [
    "display(df.info())\n",
    "display(df.describe())"
   ]
  },
  {
   "cell_type": "markdown",
   "id": "93f1f826",
   "metadata": {
    "id": "4a92e413",
    "tags": []
   },
   "source": [
    "---\n",
    "\n",
    "## Part III. Modeling\n",
    "\n",
    "Given the cleaned and aggregated dataset above, the next section moves into the Modeling phase. It uses the following general structure:\n",
    "\n",
    "1. Test, train, and validation splits\n",
    "2. \"Dummy\" model for baseline performance metric\n",
    "3. Logistic regression model\n",
    "4. Random forest model\n",
    "5. XG boost model\n",
    "\n",
    "Note that in the *MODEL.ipynb* notebook, alternative models are explored, such as K-Nearest Neighbors (KNN), Bayesian classifiers, ADA boost, and Decision Trees. \n",
    "\n",
    "Each model type is constructed using elements of encoding, scaling, resampling and hyperparameter optimization.\n",
    "\n",
    "- One hot encoding was essential given the categorical type of some features\n",
    "- Standard scaling was essential given the vast array of different numerical feature distributions and ranges. Min-max scaling was considered but proved less effective.\n",
    "- SMOTE was determined to be essential given the imbalanced nature of the dataset. Only 11% of the target feature values were 1, leaving the other 89% as 0. This is a prime example of the need for resampling, and SMOTE proved highly effective.\n",
    "- Hyperparameter grid searches are inherently valuable when optimizing a model. Appropriate hyperparameter searches were used for each model type.\n",
    "\n",
    "The output of each model is provided in terms of four core statistical measures (f1 score, accuracy, precision, and recall), in addition to displaying a confusion matrix for the test data. F1 was selected before the modeling process as the most relevant metric given that it encomasses all possible outcomes, as opposed to the other three metrics which leave out at least one possible outcome from their evaluation. \n",
    "\n",
    "Lastly, the grid search is not actually completed in this file. The code shows the way in which the pipelines were established as well as the data to be used. However, in order to save the time of a thorough grid search twice, the calculations are completed in the MODEL file and exported via a Pickle file. They are then imported here after the grid search is complete. "
   ]
  },
  {
   "cell_type": "markdown",
   "id": "64e95ce5",
   "metadata": {
    "id": "40b2f19e"
   },
   "source": [
    "**Create train-test split**"
   ]
  },
  {
   "cell_type": "code",
   "execution_count": 11,
   "id": "b1604d32",
   "metadata": {
    "id": "2f4ba216"
   },
   "outputs": [],
   "source": [
    "# Create standard train-test splits\n",
    "x_train, x_test, y_train, y_test = train_test_split(df, target, \n",
    "                                                    random_state=RANDOM_STATE, \n",
    "                                                    test_size=0.3)"
   ]
  },
  {
   "cell_type": "markdown",
   "id": "e7f5be73",
   "metadata": {
    "id": "384026d3"
   },
   "source": [
    "**Create baseline \"dummy\" model**"
   ]
  },
  {
   "cell_type": "code",
   "execution_count": 12,
   "id": "a9b82bf7",
   "metadata": {
    "id": "fe7f7aa4",
    "outputId": "10754074-dd9f-46b9-e6bc-e3e266d4351c"
   },
   "outputs": [
    {
     "name": "stdout",
     "output_type": "stream",
     "text": [
      "- f1: 0.078125\n",
      "- accuracy: 0.9071231798504525\n",
      "- precision: 0.07633587786259542\n",
      "- recall: 0.08\n"
     ]
    }
   ],
   "source": [
    "# Create instance of dummy classifier and fit to training data\n",
    "dummy_clf = DummyClassifier(strategy='stratified')\n",
    "dummy_clf.fit(x_train, y_train)\n",
    "\n",
    "# Create model predictions for test data\n",
    "pred_dummy = dummy_clf.predict(x_test)\n",
    "print_scores(pred_dummy, y_test)"
   ]
  },
  {
   "cell_type": "code",
   "execution_count": 13,
   "id": "8b73f01e",
   "metadata": {},
   "outputs": [
    {
     "name": "stdout",
     "output_type": "stream",
     "text": [
      "<class 'pandas.core.frame.DataFrame'>\n",
      "Int64Index: 5926 entries, 3104 to 8122\n",
      "Data columns (total 38 columns):\n",
      " #   Column                             Non-Null Count  Dtype  \n",
      "---  ------                             --------------  -----  \n",
      " 0   country                            5926 non-null   object \n",
      " 1   region                             5926 non-null   object \n",
      " 2   protesterviolence                  5926 non-null   float64\n",
      " 3   demand_labor-wage-dispute          5926 non-null   float64\n",
      " 4   demand_land-farm-issue             5926 non-null   float64\n",
      " 5   demand_police-brutality            5926 non-null   float64\n",
      " 6   demand_political-behavior/process  5926 non-null   float64\n",
      " 7   demand_price-increases/tax-policy  5926 non-null   float64\n",
      " 8   demand_removal-of-politician       5926 non-null   float64\n",
      " 9   demand_social-restrictions         5926 non-null   float64\n",
      " 10  participants_log                   5926 non-null   float64\n",
      " 11  duration_days_log                  5926 non-null   float64\n",
      " 12  protestnumber_log                  5926 non-null   float64\n",
      " 13  system                             5926 non-null   object \n",
      " 14  yrsoffc                            5926 non-null   float64\n",
      " 15  yrcurnt                            5926 non-null   float64\n",
      " 16  termlimit                          5926 non-null   float64\n",
      " 17  reelect                            5926 non-null   float64\n",
      " 18  multpl                             5926 non-null   float64\n",
      " 19  military                           5926 non-null   float64\n",
      " 20  defmin                             5926 non-null   float64\n",
      " 21  execnat                            5926 non-null   float64\n",
      " 22  execrel                            5926 non-null   object \n",
      " 23  totalseats                         5926 non-null   float64\n",
      " 24  oppmajh                            5926 non-null   float64\n",
      " 25  legelec                            5926 non-null   float64\n",
      " 26  exelec                             5926 non-null   float64\n",
      " 27  gq                                 5926 non-null   float64\n",
      " 28  gqi                                5926 non-null   float64\n",
      " 29  auton                              5926 non-null   float64\n",
      " 30  numvote                            5926 non-null   float64\n",
      " 31  maj                                5926 non-null   float64\n",
      " 32  herfgov                            5926 non-null   float64\n",
      " 33  frac                               5926 non-null   float64\n",
      " 34  tensys_strict                      5926 non-null   float64\n",
      " 35  checks                             5926 non-null   float64\n",
      " 36  stabs_strict                       5926 non-null   float64\n",
      " 37  xconst                             5926 non-null   int32  \n",
      "dtypes: float64(33), int32(1), object(4)\n",
      "memory usage: 1.7+ MB\n"
     ]
    }
   ],
   "source": [
    "x_train.info()"
   ]
  },
  {
   "cell_type": "markdown",
   "id": "2cf77497",
   "metadata": {
    "id": "42c3b17f"
   },
   "source": [
    "**Create Logistic Regression classifier model**"
   ]
  },
  {
   "cell_type": "code",
   "execution_count": 14,
   "id": "cd7727e9",
   "metadata": {
    "id": "97eb392f",
    "outputId": "878a872e-12d9-4109-8816-9f926f435074"
   },
   "outputs": [
    {
     "ename": "ValueError",
     "evalue": "X has 38 features, but ColumnTransformer is expecting 34 features as input.",
     "output_type": "error",
     "traceback": [
      "\u001b[1;31m---------------------------------------------------------------------------\u001b[0m",
      "\u001b[1;31mValueError\u001b[0m                                Traceback (most recent call last)",
      "\u001b[1;32m<ipython-input-14-a19bfd533091>\u001b[0m in \u001b[0;36m<module>\u001b[1;34m\u001b[0m\n\u001b[0;32m     41\u001b[0m \u001b[1;33m\u001b[0m\u001b[0m\n\u001b[0;32m     42\u001b[0m \u001b[1;31m# Print metrics\u001b[0m\u001b[1;33m\u001b[0m\u001b[1;33m\u001b[0m\u001b[1;33m\u001b[0m\u001b[0m\n\u001b[1;32m---> 43\u001b[1;33m \u001b[0mprediction\u001b[0m \u001b[1;33m=\u001b[0m \u001b[0mmodel_logreg\u001b[0m\u001b[1;33m.\u001b[0m\u001b[0mpredict\u001b[0m\u001b[1;33m(\u001b[0m\u001b[0mx_test\u001b[0m\u001b[1;33m)\u001b[0m\u001b[1;33m\u001b[0m\u001b[1;33m\u001b[0m\u001b[0m\n\u001b[0m\u001b[0;32m     44\u001b[0m \u001b[0mprint_scores\u001b[0m\u001b[1;33m(\u001b[0m\u001b[0mprediction\u001b[0m\u001b[1;33m,\u001b[0m \u001b[0my_test\u001b[0m\u001b[1;33m)\u001b[0m\u001b[1;33m\u001b[0m\u001b[1;33m\u001b[0m\u001b[0m\n\u001b[0;32m     45\u001b[0m \u001b[1;33m\u001b[0m\u001b[0m\n",
      "\u001b[1;32m~\\anaconda3\\lib\\site-packages\\sklearn\\utils\\metaestimators.py\u001b[0m in \u001b[0;36m<lambda>\u001b[1;34m(*args, **kwargs)\u001b[0m\n\u001b[0;32m    118\u001b[0m \u001b[1;33m\u001b[0m\u001b[0m\n\u001b[0;32m    119\u001b[0m         \u001b[1;31m# lambda, but not partial, allows help() to work with update_wrapper\u001b[0m\u001b[1;33m\u001b[0m\u001b[1;33m\u001b[0m\u001b[1;33m\u001b[0m\u001b[0m\n\u001b[1;32m--> 120\u001b[1;33m         \u001b[0mout\u001b[0m \u001b[1;33m=\u001b[0m \u001b[1;32mlambda\u001b[0m \u001b[1;33m*\u001b[0m\u001b[0margs\u001b[0m\u001b[1;33m,\u001b[0m \u001b[1;33m**\u001b[0m\u001b[0mkwargs\u001b[0m\u001b[1;33m:\u001b[0m \u001b[0mself\u001b[0m\u001b[1;33m.\u001b[0m\u001b[0mfn\u001b[0m\u001b[1;33m(\u001b[0m\u001b[0mobj\u001b[0m\u001b[1;33m,\u001b[0m \u001b[1;33m*\u001b[0m\u001b[0margs\u001b[0m\u001b[1;33m,\u001b[0m \u001b[1;33m**\u001b[0m\u001b[0mkwargs\u001b[0m\u001b[1;33m)\u001b[0m\u001b[1;33m\u001b[0m\u001b[1;33m\u001b[0m\u001b[0m\n\u001b[0m\u001b[0;32m    121\u001b[0m         \u001b[1;31m# update the docstring of the returned function\u001b[0m\u001b[1;33m\u001b[0m\u001b[1;33m\u001b[0m\u001b[1;33m\u001b[0m\u001b[0m\n\u001b[0;32m    122\u001b[0m         \u001b[0mupdate_wrapper\u001b[0m\u001b[1;33m(\u001b[0m\u001b[0mout\u001b[0m\u001b[1;33m,\u001b[0m \u001b[0mself\u001b[0m\u001b[1;33m.\u001b[0m\u001b[0mfn\u001b[0m\u001b[1;33m)\u001b[0m\u001b[1;33m\u001b[0m\u001b[1;33m\u001b[0m\u001b[0m\n",
      "\u001b[1;32m~\\anaconda3\\lib\\site-packages\\sklearn\\pipeline.py\u001b[0m in \u001b[0;36mpredict\u001b[1;34m(self, X, **predict_params)\u001b[0m\n\u001b[0;32m    416\u001b[0m         \u001b[0mXt\u001b[0m \u001b[1;33m=\u001b[0m \u001b[0mX\u001b[0m\u001b[1;33m\u001b[0m\u001b[1;33m\u001b[0m\u001b[0m\n\u001b[0;32m    417\u001b[0m         \u001b[1;32mfor\u001b[0m \u001b[0m_\u001b[0m\u001b[1;33m,\u001b[0m \u001b[0mname\u001b[0m\u001b[1;33m,\u001b[0m \u001b[0mtransform\u001b[0m \u001b[1;32min\u001b[0m \u001b[0mself\u001b[0m\u001b[1;33m.\u001b[0m\u001b[0m_iter\u001b[0m\u001b[1;33m(\u001b[0m\u001b[0mwith_final\u001b[0m\u001b[1;33m=\u001b[0m\u001b[1;32mFalse\u001b[0m\u001b[1;33m)\u001b[0m\u001b[1;33m:\u001b[0m\u001b[1;33m\u001b[0m\u001b[1;33m\u001b[0m\u001b[0m\n\u001b[1;32m--> 418\u001b[1;33m             \u001b[0mXt\u001b[0m \u001b[1;33m=\u001b[0m \u001b[0mtransform\u001b[0m\u001b[1;33m.\u001b[0m\u001b[0mtransform\u001b[0m\u001b[1;33m(\u001b[0m\u001b[0mXt\u001b[0m\u001b[1;33m)\u001b[0m\u001b[1;33m\u001b[0m\u001b[1;33m\u001b[0m\u001b[0m\n\u001b[0m\u001b[0;32m    419\u001b[0m         \u001b[1;32mreturn\u001b[0m \u001b[0mself\u001b[0m\u001b[1;33m.\u001b[0m\u001b[0msteps\u001b[0m\u001b[1;33m[\u001b[0m\u001b[1;33m-\u001b[0m\u001b[1;36m1\u001b[0m\u001b[1;33m]\u001b[0m\u001b[1;33m[\u001b[0m\u001b[1;33m-\u001b[0m\u001b[1;36m1\u001b[0m\u001b[1;33m]\u001b[0m\u001b[1;33m.\u001b[0m\u001b[0mpredict\u001b[0m\u001b[1;33m(\u001b[0m\u001b[0mXt\u001b[0m\u001b[1;33m,\u001b[0m \u001b[1;33m**\u001b[0m\u001b[0mpredict_params\u001b[0m\u001b[1;33m)\u001b[0m\u001b[1;33m\u001b[0m\u001b[1;33m\u001b[0m\u001b[0m\n\u001b[0;32m    420\u001b[0m \u001b[1;33m\u001b[0m\u001b[0m\n",
      "\u001b[1;32m~\\anaconda3\\lib\\site-packages\\sklearn\\compose\\_column_transformer.py\u001b[0m in \u001b[0;36mtransform\u001b[1;34m(self, X)\u001b[0m\n\u001b[0;32m    555\u001b[0m             \u001b[0mX_feature_names\u001b[0m \u001b[1;33m=\u001b[0m \u001b[1;32mNone\u001b[0m\u001b[1;33m\u001b[0m\u001b[1;33m\u001b[0m\u001b[0m\n\u001b[0;32m    556\u001b[0m \u001b[1;33m\u001b[0m\u001b[0m\n\u001b[1;32m--> 557\u001b[1;33m         \u001b[0mself\u001b[0m\u001b[1;33m.\u001b[0m\u001b[0m_check_n_features\u001b[0m\u001b[1;33m(\u001b[0m\u001b[0mX\u001b[0m\u001b[1;33m,\u001b[0m \u001b[0mreset\u001b[0m\u001b[1;33m=\u001b[0m\u001b[1;32mFalse\u001b[0m\u001b[1;33m)\u001b[0m\u001b[1;33m\u001b[0m\u001b[1;33m\u001b[0m\u001b[0m\n\u001b[0m\u001b[0;32m    558\u001b[0m         if (self._feature_names_in is not None and\n\u001b[0;32m    559\u001b[0m             \u001b[0mX_feature_names\u001b[0m \u001b[1;32mis\u001b[0m \u001b[1;32mnot\u001b[0m \u001b[1;32mNone\u001b[0m \u001b[1;32mand\u001b[0m\u001b[1;33m\u001b[0m\u001b[1;33m\u001b[0m\u001b[0m\n",
      "\u001b[1;32m~\\anaconda3\\lib\\site-packages\\sklearn\\base.py\u001b[0m in \u001b[0;36m_check_n_features\u001b[1;34m(self, X, reset)\u001b[0m\n\u001b[0;32m    363\u001b[0m \u001b[1;33m\u001b[0m\u001b[0m\n\u001b[0;32m    364\u001b[0m         \u001b[1;32mif\u001b[0m \u001b[0mn_features\u001b[0m \u001b[1;33m!=\u001b[0m \u001b[0mself\u001b[0m\u001b[1;33m.\u001b[0m\u001b[0mn_features_in_\u001b[0m\u001b[1;33m:\u001b[0m\u001b[1;33m\u001b[0m\u001b[1;33m\u001b[0m\u001b[0m\n\u001b[1;32m--> 365\u001b[1;33m             raise ValueError(\n\u001b[0m\u001b[0;32m    366\u001b[0m                 \u001b[1;34mf\"X has {n_features} features, but {self.__class__.__name__} \"\u001b[0m\u001b[1;33m\u001b[0m\u001b[1;33m\u001b[0m\u001b[0m\n\u001b[0;32m    367\u001b[0m                 f\"is expecting {self.n_features_in_} features as input.\")\n",
      "\u001b[1;31mValueError\u001b[0m: X has 38 features, but ColumnTransformer is expecting 34 features as input."
     ]
    }
   ],
   "source": [
    "# Instantiate model\n",
    "model_log = LogisticRegression(max_iter=5000)\n",
    "\n",
    "# Add one-hot encoding for categoricals\n",
    "ohe = OneHotEncoder(handle_unknown='ignore')\n",
    "\n",
    "# Add standard scaling\n",
    "scaler = StandardScaler()\n",
    "\n",
    "# Add resampling to address class imbalance\n",
    "smote = SMOTE(random_state=RANDOM_STATE)\n",
    "\n",
    "\n",
    "# Select object types for one-hot encoding and numeric types for scaling\n",
    "selector_object = make_column_selector(dtype_exclude='number')\n",
    "selector_numeric = make_column_selector(dtype_include='number')\n",
    "\n",
    "# Create transformer for the selectors/encoders/scalers\n",
    "transformer = make_column_transformer((ohe, selector_object),\n",
    "                                     (scaler, selector_numeric))\n",
    "\n",
    "\n",
    "# Create pipeline for transformer, resampling, and model\n",
    "pipe = Pipeline([('transformer', transformer),\n",
    "                 ('smote', smote), \n",
    "                 ('model', model_log)])\n",
    "\n",
    "# Run grid search to optimizer hyperparameters\n",
    "grid_log = {'model__C': np.logspace(-1, 5, 20)}\n",
    "grid_search = GridSearchCV(pipe, grid_log, scoring='f1', cv=10)\n",
    "\n",
    "# Fit model to training data\n",
    "# grid_search.fit(x_train, y_train)\n",
    "\n",
    "# As described in this section's header, the fitted pipeline is \n",
    "# simply imported via Pickle from the MODEL notebook, where it was\n",
    "# fitted on the same data.\n",
    "with open('../data/processed/model_logreg.pickle', 'rb') as f:\n",
    "    model_logreg = pickle.load(f)\n",
    "\n",
    "\n",
    "# Print metrics\n",
    "prediction = model_logreg.predict(x_test)\n",
    "print_scores(prediction, y_test)\n",
    "\n",
    "# Display confusion matrix\n",
    "labels = ['No change', 'Regime Change']\n",
    "plot_confusion_matrix(model_logreg, x_test, y_test, display_labels=labels)"
   ]
  },
  {
   "cell_type": "markdown",
   "id": "dafdddba",
   "metadata": {
    "id": "6b7eebcf"
   },
   "source": [
    "Overall, the Logistic Regression model performance is underwhelming, albeit substantially better than the baseline model: an F1 score performance of ___ instead of the baseline _ . Still, it seems that the model does not capture the complexity of the data. Below more complex models are explored.\n",
    "\n",
    "\n",
    "**Create Random Forest model**\n",
    "\n",
    "Reuse one-hot encoder, scaler, resampler, selectors, transformer from logistic regression"
   ]
  },
  {
   "cell_type": "code",
   "execution_count": null,
   "id": "8046f0b4",
   "metadata": {
    "id": "589f0785",
    "outputId": "f982f6c8-a59f-4119-d4db-18cc7ead65bb"
   },
   "outputs": [],
   "source": [
    "# Instantiate model\n",
    "model_rf = RandomForestClassifier()\n",
    "\n",
    "# Create pipeline for transformer, resampling, and model\n",
    "pipe = Pipeline([('transformer', transformer),\n",
    "                 ('smote', smote), \n",
    "                 ('model', model_rf)])\n",
    "\n",
    "# Run grid search to optimizer hyperparameters\n",
    "grid_rf = {\n",
    "    'model__n_estimators': [25, 75, 150],\n",
    "    'model__criterion': ['gini', 'entropy'],\n",
    "    'model__max_depth': [3, 6, 10],\n",
    "    'model__min_samples_split': [5, 10],\n",
    "    'model__min_samples_leaf': [3, 6]}\n",
    "\n",
    "# Create instance of grid search\n",
    "grid_search = GridSearchCV(pipe, grid_rf, scoring='f1', cv=5)\n",
    "\n",
    "# Fit model to training data\n",
    "# grid_search.fit(x_train, y_train)\n",
    "\n",
    "# As described in this section's header, the fitted pipeline is \n",
    "# simply imported via Pickle from the MODEL notebook, where it was\n",
    "# fitted on the same data.\n",
    "with open('../data/processed/model_rf.pickle', 'rb') as f:\n",
    "    model_rf = pickle.load(f)\n",
    "\n",
    "# Print metrics\n",
    "prediction = model_rf.predict(x_test)\n",
    "print_scores(prediction, y_test)\n",
    "\n",
    "# Display confusion matrix\n",
    "plot_confusion_matrix(model_rf, x_test, y_test, display_labels=labels)"
   ]
  },
  {
   "cell_type": "markdown",
   "id": "78363200",
   "metadata": {
    "id": "fa2608be"
   },
   "source": [
    "The random forest model shows substantial performance over the logistic regression model. Specifically, the F1 score increase by XXX, and other metrics see similar improvements. Still, the performance isn't perfect, so the below model explores an increasingly complex model that is able to better capture the complexity of the data.\n",
    "\n",
    "**XG Boost model**"
   ]
  },
  {
   "cell_type": "code",
   "execution_count": null,
   "id": "833f95ca",
   "metadata": {
    "id": "986d8ee9",
    "outputId": "e55738a9-e538-49a2-b1dc-cc615e8aa9fd"
   },
   "outputs": [],
   "source": [
    "# Instantiate model\n",
    "model_xgb = XGBClassifier(eval_metric='logloss', use_label_encoder=False, \n",
    "                          random_state=RANDOM_STATE)\n",
    "# \n",
    "# Create pipeline for transformer, resampling, and model\n",
    "pipe = Pipeline([('transformer', transformer),\n",
    "                 ('smote', smote), \n",
    "                 ('model', model_xgb)])\n",
    "\n",
    "\n",
    "# Run grid search to optimizer hyperparameters\n",
    "grid_xgb = {\n",
    "    'model__learning_rate': [0.01, 0.1, 0.25],\n",
    "    'model__max_depth': [6, 8, 10, 12],\n",
    "    'model__subsample': [0.4, 0.7, 1],\n",
    "    'model__n_estimators': [100, 200, 300, 400]}\n",
    "\n",
    "# Fit model to training data\n",
    "# grid_search.fit(x_train, y_train)\n",
    "\n",
    "# As described in this section's header, the fitted pipeline is \n",
    "# simply imported via Pickle from the MODEL notebook, where it was\n",
    "# fitted on the same data.\n",
    "with open('../data/processed/model_xgb.pickle', 'rb') as f:\n",
    "    model_xgb = pickle.load(f)\n",
    "\n",
    "# Print metrics\n",
    "prediction = model_xgb.predict(x_test)\n",
    "print_scores(prediction, y_test)\n",
    "\n",
    "# Display confusion matrix\n",
    "plot_confusion_matrix(model_xgb, x_test, y_test, display_labels=labels)"
   ]
  },
  {
   "cell_type": "markdown",
   "id": "ce72734c",
   "metadata": {},
   "source": [
    "**Show optimal model hyperparameters**"
   ]
  },
  {
   "cell_type": "code",
   "execution_count": null,
   "id": "5f5616e4",
   "metadata": {},
   "outputs": [],
   "source": [
    "print(model_xgb.steps[2])"
   ]
  },
  {
   "cell_type": "markdown",
   "id": "bcd024b6",
   "metadata": {
    "id": "7b82fd6e"
   },
   "source": [
    "**The model performance does increase using the XG Boost model relative to all other previously tested models**\n",
    "\n",
    "All performance metrics improve significantly over the Random Forest model."
   ]
  },
  {
   "cell_type": "markdown",
   "id": "f2033dfa",
   "metadata": {
    "id": "ccd7c75c"
   },
   "source": [
    "---\n",
    "\n",
    "## Part IV. Evaluation\n",
    "\n",
    "As can be seen based on the F1 scores – the metric chosen at the beginning of the analysis as most relevant – the XG boost model performs the best. This section will test the final model on the test data as well as visualize feature significance to the extent feasible. "
   ]
  },
  {
   "cell_type": "markdown",
   "id": "0a5c420b",
   "metadata": {
    "id": "d4250a47"
   },
   "source": [
    "**Evaluate performance on test data**\n",
    "\n",
    "The below metrics show strong model performance on the test data with nearly no noteworthy indication of overfitting"
   ]
  },
  {
   "cell_type": "code",
   "execution_count": null,
   "id": "8e6791cf",
   "metadata": {
    "id": "b384b691",
    "outputId": "6effdd5d-2e36-4ec0-ef88-c1518d663939"
   },
   "outputs": [],
   "source": [
    "# Calculate predicted output of test data\n",
    "prediction = model_xgb.predict(x_test)\n",
    "\n",
    "# Print performance metrics\n",
    "print_scores(prediction, y_test)\n",
    "\n",
    "# Display confusion matrix (not normalized)\n",
    "plot_confusion_matrix(model_xgb, x_test, y_test, display_labels=labels)\n",
    "plt.title('XG Boost Model: Performance on Test Data (Protest Counts)')\n",
    "plt.show()\n",
    "\n",
    "# Display confusion matrix (normalized)\n",
    "plot_confusion_matrix(model_xgb, x_test, y_test, normalize='all', display_labels=labels)\n",
    "plt.title('XG Boost Model: Performance on Test Data (Percentage)');"
   ]
  },
  {
   "cell_type": "markdown",
   "id": "4fd1a6fb",
   "metadata": {
    "id": "53aab0ae"
   },
   "source": [
    "**To identify overfitting, test the final model on the full dataset (train *and* test)**\n",
    "\n",
    "Although these metrics aren't used to state overall performance, they can be interesting and can help identify overfitting if the performance on *all* data is substantially higher than the performance on *test* data. The below printouts show that overfitting is significant, though the performance on the test data remains sufficiently strong for a high performing model."
   ]
  },
  {
   "cell_type": "code",
   "execution_count": null,
   "id": "f9578508",
   "metadata": {
    "id": "a35dde25",
    "outputId": "dd5efbab-a045-4f28-957f-268fe7c79d6f"
   },
   "outputs": [],
   "source": [
    "# Calculate predicted output of *all* data\n",
    "prediction = model_xgb.predict(df)\n",
    "\n",
    "# Print performance metrics\n",
    "print_scores(prediction, target)\n",
    "\n",
    "# Display confusion matrix\n",
    "plot_confusion_matrix(model_xgb, df, target, display_labels=labels)\n",
    "plt.title('XG Boost Model: Performance on ALL data');"
   ]
  },
  {
   "cell_type": "markdown",
   "id": "97dedc53",
   "metadata": {
    "id": "c4b5b293"
   },
   "source": [
    "**Investigate feature importance**\n",
    "\n",
    "1. \n",
    "2. \n",
    "3. \n",
    "4. "
   ]
  },
  {
   "cell_type": "code",
   "execution_count": null,
   "id": "f1b7d7d6",
   "metadata": {
    "id": "d7ad9c44",
    "outputId": "0da8b6c5-e2be-4ad1-b49a-0f387db61a2f"
   },
   "outputs": [],
   "source": [
    "# SHAP summary plot for XGB\n",
    "produce_shap_plot(x_train, y_train, x_test, y_test, clone(model_xgb), \n",
    "                  title='Final XG Boost Model: Feature Evaluation');"
   ]
  },
  {
   "cell_type": "code",
   "execution_count": null,
   "id": "2edf139d",
   "metadata": {},
   "outputs": [],
   "source": [
    "# SHAP bar plot for XGB model\n",
    "model = final_model_xgb.steps[2][1]\n",
    "x_train_final, y_train_final, df_test_expanded_scaled = get_shap_df(x_train, \n",
    "                                                                    y_train, \n",
    "                                                                    x_test)\n",
    "\n",
    "explainer = shap.Explainer(model)\n",
    "plt.title('Feature Importance for XGB Model')\n",
    "shap_values = explainer(df_test_expanded_scaled)\n",
    "shap.plots.bar(shap_values, max_display=20);\n",
    "\n",
    "\n",
    "\n",
    "# SHAP bar plot for XGB model\n",
    "model = model_xgb.steps[2][1]\n",
    "x_train_final, y_train_final, df_test_expanded_scaled = get_shap_df(x_train, \n",
    "                                                                    y_train, \n",
    "                                                                    x_test)\n",
    "model.fit(x_train_final, y_train_final)\n",
    "explainer = shap.Explainer(model)\n",
    "plt.title('Feature Importance for XGB Model')\n",
    "shap_values = explainer(df_test_expanded_scaled)\n",
    "shap.plots.bar(shap_values, max_display=20)"
   ]
  },
  {
   "cell_type": "markdown",
   "id": "1ae39615",
   "metadata": {
    "id": "11980158"
   },
   "source": [
    "## Part V. Conclusion\n",
    "\n",
    "Overall, this analysis successfully completes its objective. It creates and tunes a model that helps predict whether a given protest will lead to a regime transition within one year. This incredibly valuable tool can be used by stakeholders far and wide as an indicator of disruption to come, which in turn can be used for proactive or preventative measures by either side. With a very strong performing model, it can be trusted to give an accurate estimate of changes to come. \n",
    "\n",
    "Going forward, this project allows for easy growth as more data is released. Each of the three primary datasets receive regular updates, and this new information can easily be incorporated in order to expand the temporal scope of the project and with more data comes to potential for stronger performance. \n"
   ]
  }
 ],
 "metadata": {
  "colab": {
   "name": "FINAL SUMMARY NOTEBOOK.ipynb",
   "provenance": []
  },
  "kernelspec": {
   "display_name": "Python 3",
   "language": "python",
   "name": "python3"
  },
  "language_info": {
   "codemirror_mode": {
    "name": "ipython",
    "version": 3
   },
   "file_extension": ".py",
   "mimetype": "text/x-python",
   "name": "python",
   "nbconvert_exporter": "python",
   "pygments_lexer": "ipython3",
   "version": "3.8.3"
  }
 },
 "nbformat": 4,
 "nbformat_minor": 5
}
