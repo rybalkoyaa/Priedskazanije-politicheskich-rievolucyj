{
 "cells": [
  {
   "cell_type": "markdown",
   "id": "33589f57",
   "metadata": {},
   "source": [
    "# A Data-Based Understanding of Political Revolutions\n",
    "Political upheavals have been ever present throughout humanity. Political leaders shape the context for everything we know. For that reason, we as a society need to generate a concrete understanding of when a revolution or political change is imminent. This analysis seeks to forecast whether a given protest will lead to a revolution within 90 days. \n",
    "\n",
    "The stakeholders for this analysis are wide reaching, but it is most relevant to political organizers and leadership. They can use this approach to best understand where efforts are best focused and most likely to lead to an impact. \n",
    "\n",
    "We as a society have only begun to establish the collection of data necessary to make these analyses feasible, but we have crossed the threshold of significance beyond which there is substantial merit in this project. \n",
    "\n",
    "## Notebook Structure\n",
    "1. xxx\n",
    "2. xxx\n",
    "3. xxx\n",
    "4. xxx\n",
    "\n",
    "\n",
    "\n",
    "\n",
    "## The Data & Sources\n",
    "The analysis combines three core datasets from widely different sources to provide a distinctly unique understanding of the subject. They are described below.\n",
    "\n",
    "#### The Mass Mobilization Project\n",
    "\n",
    "The first dataset, used as the center of the analysis, is incredibly valuable. It is described in the source documentation as *\"an effort to understand citizen movements against governments, what citizens want when they demonstrate against governments, and how governments respond to citizens. The MM data cover 162 countries between 1990 and 2018. These data contain events where 50 or more protesters publicly demonstrate against government, resulting in more than 10,000 protest events. Each event records location, protest size, protester demands, and government responses.\"* [(1)](https://massmobilization.github.io/about.html)\n",
    "\n",
    "The project is sponsored by the Political Instability Task Force (PITF). The PITF is funded by the Central Intelligence Agency (CIA). [(1)](https://massmobilization.github.io/about.html)\n",
    "\n",
    "\n",
    "#### \"Regime changes\"\n",
    "[Description]\n",
    "\n",
    "[Source]\n",
    "\n",
    "\n",
    "#### \"IDB\"\n",
    "[Description]\n",
    "\n",
    "[Source]\n",
    "\n",
    "## Technical Notes\n",
    "Given the large-scale nature of the project, this notebook inevitably does not contain the entire analysis. It does not go into depth on each of the choices made for feature selection or data cleaning. Consider this the \"top level\" notebook, and those more detail-oriented parts of the analysis are handled in their own spaces. Here is where you should go to find more details:\n",
    "\n",
    "\n",
    "1. **[protests cleaning file name]:** Refer to this notebook for a ground-up analysis of the \"Protests\" dataset. It includes important features such as the nature of each protest (size, objectives, location, etc.). Especially exhaustive and detailed data cleaning choices are made in this notebook.\n",
    "2. **[regime change file name]:** Refer to this notebook for a full study of the \"Regime Change\" data. Primarily, this data provides the target feature for the entire analysis: regime change. It indicates when are where political change occurs. Interesting feature engineering takes place here.\n",
    "3. **[idb analysis file name]:** Refer to this notebook for an impressively comprehensive dataset surrounding descriptive attributes of governments around the world over many decades. Important information includes the political system of countries at specified times, the tenure of the country's primary leader, and the percentage of the popular vote the leader received (where relevant). There are descriptors as granular as the total number of seats in congress (where relevant). Extensive feature selection takes place in this notebook."
   ]
  },
  {
   "cell_type": "markdown",
   "id": "e37771f1",
   "metadata": {},
   "source": [
    "## Stage I. Data Preparation\n",
    "[description]"
   ]
  },
  {
   "cell_type": "markdown",
   "id": "2be7094f",
   "metadata": {},
   "source": []
  },
  {
   "cell_type": "code",
   "execution_count": 1,
   "id": "2db8070f",
   "metadata": {},
   "outputs": [],
   "source": [
    "# Basic imporrts\n",
    "import numpy as np\n",
    "import pandas as pd\n",
    "import matplotlib.pyplot as plt\n",
    "import seaborn as sns\n",
    "from sqlalchemy import create_engine\n",
    "\n",
    "# Model preprocessing and processing\n",
    "from sklearn.model_selection import train_test_split\n",
    "from sklearn.preprocessing import OneHotEncoder, StandardScaler\n",
    "from sklearn.compose import make_column_selector, make_column_transformer\n",
    "from imblearn.over_sampling import SMOTE\n",
    "from sklearn.model_selection import GridSearchCV\n",
    "from imblearn.pipeline import Pipeline\n",
    "from sklearn.base import clone\n",
    "\n",
    "# Models\n",
    "from sklearn.dummy import DummyClassifier\n",
    "from xgboost import XGBClassifier\n",
    "\n",
    "# Performance evaluation\n",
    "from sklearn.metrics import f1_score, precision_score, accuracy_score, recall_score\n",
    "from sklearn.metrics import plot_confusion_matrix\n",
    "import shap\n",
    "\n",
    "# Display options\n",
    "pd.options.display.max_columns = 200\n",
    "%matplotlib inline\n",
    "\n",
    "# Convenience for working with external .py files\n",
    "%load_ext autoreload\n",
    "%autoreload 2\n",
    "\n",
    "# Global constants\n",
    "NOT_APLIC_STR = \"NA_SS\"\n",
    "NOT_APLIC_NUM = -999.0\n",
    "RANDOM_STATE = 2021"
   ]
  },
  {
   "cell_type": "markdown",
   "id": "50244833",
   "metadata": {},
   "source": [
    "**Import \"Regime Change\" dataset**"
   ]
  },
  {
   "cell_type": "code",
   "execution_count": 2,
   "id": "dfcd00e8",
   "metadata": {},
   "outputs": [],
   "source": [
    "# Import cleaned database via SQL\n",
    "engine = create_engine('sqlite:///../data/processed/regime_changes.db')\n",
    "with engine.begin() as connection:\n",
    "    df_regimes = pd.read_sql('SELECT * FROM regime_changes', con=connection)\n",
    "\n",
    "# Type casting\n",
    "df_regimes.startdate = pd.to_datetime(df_regimes.startdate)\n",
    "df_regimes.enddate = pd.to_datetime(df_regimes.enddate)"
   ]
  },
  {
   "cell_type": "markdown",
   "id": "f76f5040",
   "metadata": {},
   "source": [
    "**Import \"Protests\" dataset**"
   ]
  },
  {
   "cell_type": "code",
   "execution_count": 3,
   "id": "d6615f32",
   "metadata": {},
   "outputs": [],
   "source": [
    "# Import cleaned database via SQL\n",
    "engine = create_engine('sqlite:///../data/processed/protests.db')\n",
    "with engine.begin() as connection:\n",
    "    df_protests = pd.read_sql('SELECT * FROM protests', con=connection)\n",
    "\n",
    "# Type casting\n",
    "df_protests.startdate = pd.to_datetime(df_protests.startdate)"
   ]
  },
  {
   "cell_type": "markdown",
   "id": "148f11dc",
   "metadata": {},
   "source": [
    "**Import \"Government Characterization\" dataset**"
   ]
  },
  {
   "cell_type": "code",
   "execution_count": 4,
   "id": "040ae337",
   "metadata": {},
   "outputs": [],
   "source": [
    "# Import cleaned database via SQL\n",
    "engine = create_engine('sqlite:///../data/processed/governments.db')\n",
    "with engine.begin() as connection:\n",
    "    df_govts = pd.read_sql('SELECT * FROM governments', con=connection)\n",
    "\n",
    "# Set index to be used in SQL join\n",
    "df_govts.index = df_govts.year_scode\n",
    "\n",
    "# Drop now-duplicated feature\n",
    "df_govts.drop('year_scode', axis=1, inplace=True)"
   ]
  },
  {
   "cell_type": "markdown",
   "id": "2738f526",
   "metadata": {},
   "source": [
    "**Join \"Protests\" and \"Government Characterization\" datasets"
   ]
  },
  {
   "cell_type": "code",
   "execution_count": 5,
   "id": "1088beb5",
   "metadata": {},
   "outputs": [
    {
     "name": "stdout",
     "output_type": "stream",
     "text": [
      "<class 'pandas.core.frame.DataFrame'>\n",
      "RangeIndex: 15208 entries, 0 to 15207\n",
      "Data columns (total 73 columns):\n",
      " #   Column                             Non-Null Count  Dtype         \n",
      "---  ------                             --------------  -----         \n",
      " 0   country                            15208 non-null  object        \n",
      " 1   scode                              15208 non-null  object        \n",
      " 2   region                             15208 non-null  object        \n",
      " 3   protestnumber                      15208 non-null  int64         \n",
      " 4   protesterviolence                  15208 non-null  int64         \n",
      " 5   startdate                          15208 non-null  datetime64[ns]\n",
      " 6   duration_days                      15208 non-null  int64         \n",
      " 7   participants                       15208 non-null  int64         \n",
      " 8   participants_category              15208 non-null  object        \n",
      " 9   demand_labor-wage-dispute          15208 non-null  int64         \n",
      " 10  demand_land-farm-issue             15208 non-null  int64         \n",
      " 11  demand_police-brutality            15208 non-null  int64         \n",
      " 12  demand_political-behavior/process  15208 non-null  int64         \n",
      " 13  demand_price-increases/tax-policy  15208 non-null  int64         \n",
      " 14  demand_removal-of-politician       15208 non-null  int64         \n",
      " 15  demand_social-restrictions         15208 non-null  int64         \n",
      " 16  year_scode                         15208 non-null  object        \n",
      " 17  system                             15064 non-null  object        \n",
      " 18  yrsoffc                            15064 non-null  float64       \n",
      " 19  finittrm                           15064 non-null  float64       \n",
      " 20  yrcurnt                            15064 non-null  float64       \n",
      " 21  termlimit                          15064 non-null  float64       \n",
      " 22  reelect                            15064 non-null  float64       \n",
      " 23  multpl                             15064 non-null  float64       \n",
      " 24  military                           15064 non-null  float64       \n",
      " 25  defmin                             15064 non-null  float64       \n",
      " 26  prtyin                             15064 non-null  float64       \n",
      " 27  execrlc                            15064 non-null  object        \n",
      " 28  execnat                            15064 non-null  float64       \n",
      " 29  execrel                            15064 non-null  object        \n",
      " 30  execage                            15064 non-null  float64       \n",
      " 31  allhouse                           15064 non-null  float64       \n",
      " 32  totalseats                         15064 non-null  float64       \n",
      " 33  oppmajh                            15064 non-null  float64       \n",
      " 34  oppmajs                            15064 non-null  float64       \n",
      " 35  legelec                            15064 non-null  float64       \n",
      " 36  exelec                             15064 non-null  float64       \n",
      " 37  liec                               15064 non-null  float64       \n",
      " 38  eiec                               15064 non-null  float64       \n",
      " 39  mdmh                               15064 non-null  float64       \n",
      " 40  mdms                               15064 non-null  float64       \n",
      " 41  ssh                                15064 non-null  float64       \n",
      " 42  pluralty                           15064 non-null  float64       \n",
      " 43  pr                                 15064 non-null  float64       \n",
      " 44  housesys                           15064 non-null  object        \n",
      " 45  sensys                             15064 non-null  object        \n",
      " 46  thresh                             15064 non-null  float64       \n",
      " 47  cl                                 15064 non-null  float64       \n",
      " 48  gq                                 15064 non-null  float64       \n",
      " 49  gqi                                15064 non-null  float64       \n",
      " 50  fraud                              15064 non-null  object        \n",
      " 51  auton                              15064 non-null  float64       \n",
      " 52  muni                               15064 non-null  float64       \n",
      " 53  state                              15064 non-null  float64       \n",
      " 54  author                             15064 non-null  float64       \n",
      " 55  numvote                            15064 non-null  float64       \n",
      " 56  oppvote                            15064 non-null  float64       \n",
      " 57  maj                                15064 non-null  float64       \n",
      " 58  partyage                           15064 non-null  float64       \n",
      " 59  herfgov                            15064 non-null  float64       \n",
      " 60  herfopp                            15064 non-null  float64       \n",
      " 61  frac                               15064 non-null  float64       \n",
      " 62  oppfrac                            15064 non-null  float64       \n",
      " 63  govfrac                            15064 non-null  float64       \n",
      " 64  tensys_strict                      15064 non-null  float64       \n",
      " 65  checks                             15064 non-null  float64       \n",
      " 66  stabs_strict                       15064 non-null  float64       \n",
      " 67  tenlong_strict                     15064 non-null  float64       \n",
      " 68  tenshort_strict                    15064 non-null  float64       \n",
      " 69  polariz                            15064 non-null  float64       \n",
      " 70  country_govt                       15064 non-null  object        \n",
      " 71  scode_govt                         15064 non-null  object        \n",
      " 72  percent                            15064 non-null  float64       \n",
      "dtypes: datetime64[ns](1), float64(48), int64(11), object(13)\n",
      "memory usage: 8.5+ MB\n"
     ]
    }
   ],
   "source": [
    "# Join both dataframes\n",
    "df = df_protests.join(df_govts, how='left', on='year_scode')\n",
    "\n",
    "# Remove entries that don't have corresponding 'government' data\n",
    "#df.dropna(inplace=True)\n",
    "df.info()"
   ]
  },
  {
   "cell_type": "markdown",
   "id": "6d4d53d7",
   "metadata": {},
   "source": [
    "**Remove features with missing values**"
   ]
  },
  {
   "cell_type": "code",
   "execution_count": null,
   "id": "0a208bdd",
   "metadata": {},
   "outputs": [],
   "source": [
    "# Constants used throughout analysis\n",
    "NA_STRING = \"NA_SS\"\n",
    "NA_NUMBER = -999.0\n",
    "\n",
    "\n",
    "# Relace 'placeholder' NaN values, as defined by data dictionary (see raw data directory)\n",
    "df.replace(NA_STRING, np.nan, inplace=True)\n",
    "df.replace(NA_NUMBER, np.nan, inplace=True)\n",
    "print(df.info())\n",
    "\n",
    "\n",
    "# Set semi-arbitrary threshold for the maximum number of missing values to justify keeping\n",
    "MAX_MISSING_VALUES = 250\n",
    "\n",
    "# Copy main df to retain a full dataset\n",
    "df_cut = df.copy()\n",
    "\n",
    "# Determine the number of missing values in each column\n",
    "for col in df_cut.columns:\n",
    "    na_ct = df_cut[col].isna().sum()\n",
    "    \n",
    "    if na_ct > MAX_MISSING_VALUES:\n",
    "        df_cut.drop(col, axis=1, inplace=True)\n",
    "        \n",
    "df_cut.dropna(inplace=True)\n",
    "df_cut.info()"
   ]
  },
  {
   "cell_type": "markdown",
   "id": "b5985a9f",
   "metadata": {},
   "source": [
    "## Modeling\n",
    "[description]"
   ]
  },
  {
   "cell_type": "markdown",
   "id": "d579e2a9",
   "metadata": {},
   "source": [
    "## Evaluation\n",
    "[description]"
   ]
  },
  {
   "cell_type": "markdown",
   "id": "9b26b5f7",
   "metadata": {},
   "source": [
    "## Conclusion\n",
    "[description]"
   ]
  }
 ],
 "metadata": {
  "kernelspec": {
   "display_name": "Python 3",
   "language": "python",
   "name": "python3"
  },
  "language_info": {
   "codemirror_mode": {
    "name": "ipython",
    "version": 3
   },
   "file_extension": ".py",
   "mimetype": "text/x-python",
   "name": "python",
   "nbconvert_exporter": "python",
   "pygments_lexer": "ipython3",
   "version": "3.8.3"
  }
 },
 "nbformat": 4,
 "nbformat_minor": 5
}
