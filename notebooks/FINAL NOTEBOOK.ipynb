{
 "cells": [
  {
   "cell_type": "markdown",
   "id": "0defd523",
   "metadata": {},
   "source": [
    "# A Data-Based Understanding of Political Revolutions\n",
    "Political upheavals have been ever present throughout humanity. Political leaders shape the context for everything we know. For that reason, we as a society need to generate a concrete understanding of when a revolution or political change is imminent. This analysis seeks to forecast whether a given protest will lead to a revolution within 90 days. \n",
    "\n",
    "The stakeholders for this analysis are wide reaching, but it is most relevant to political organizers and leadership. They can use this approach to best understand where efforts are best focused and most likely to lead to an impact. \n",
    "\n",
    "We as a society have only begun to establish the collection of data necessary to make these analyses feasible, but we have crossed the threshold of significance beyond which there is substantial merit in this project. \n",
    "\n",
    "## Notebook Structure\n",
    "1. xxx\n",
    "2. xxx\n",
    "3. xxx\n",
    "4. xxx\n",
    "\n",
    "\n",
    "\n",
    "\n",
    "## The Data & Sources\n",
    "The analysis combines three core datasets from widely different sources to provide a distinctly unique understanding of the subject. They are described below.\n",
    "\n",
    "#### The Mass Mobilization Project\n",
    "\n",
    "The first dataset, used as the center of the analysis, is incredibly valuable. It is described in the source documentation as *\"an effort to understand citizen movements against governments, what citizens want when they demonstrate against governments, and how governments respond to citizens. The MM data cover 162 countries between 1990 and 2018. These data contain events where 50 or more protesters publicly demonstrate against government, resulting in more than 10,000 protest events. Each event records location, protest size, protester demands, and government responses.\"* [(1)](https://massmobilization.github.io/about.html)\n",
    "\n",
    "The project is sponsored by the Political Instability Task Force (PITF). The PITF is funded by the Central Intelligence Agency (CIA). [(1)](https://massmobilization.github.io/about.html)\n",
    "\n",
    "\n",
    "#### \"Regime changes\"\n",
    "[Description]\n",
    "\n",
    "[Source]\n",
    "\n",
    "\n",
    "#### \"IDB\"\n",
    "[Description]\n",
    "\n",
    "[Source]\n",
    "\n",
    "## Technical Notes\n",
    "Given the large-scale nature of the project, this notebook inevitably does not contain the entire analysis. It does not go into depth on each of the choices made for feature selection or data cleaning. Consider this the \"top level\" notebook, and those more detail-oriented parts of the analysis are handled in their own spaces. Here is where you should go to find more details:\n",
    "\n",
    "\n",
    "1. **[protests cleaning file name]:** Refer to this notebook for a ground-up analysis of the \"Protests\" dataset. It includes important features such as the nature of each protest (size, objectives, location, etc.). Especially exhaustive and detailed data cleaning choices are made in this notebook.\n",
    "2. **[regime change file name]:** Refer to this notebook for a full study of the \"Regime Change\" data. Primarily, this data provides the target feature for the entire analysis: regime change. It indicates when are where political change occurs. Interesting feature engineering takes place here.\n",
    "3. **[idb analysis file name]:** Refer to this notebook for an impressively comprehensive dataset surrounding descriptive attributes of governments around the world over many decades. Important information includes the political system of countries at specified times, the tenure of the country's primary leader, and the percentage of the popular vote the leader received (where relevant). There are descriptors as granular as the total number of seats in congress (where relevant). Extensive feature selection takes place in this notebook."
   ]
  },
  {
   "cell_type": "markdown",
   "id": "99738a84",
   "metadata": {},
   "source": [
    "## Stage I. Data Preparation\n",
    "[description]"
   ]
  },
  {
   "cell_type": "markdown",
   "id": "b3e9f3ac",
   "metadata": {},
   "source": []
  },
  {
   "cell_type": "code",
   "execution_count": 1,
   "id": "2d729611",
   "metadata": {},
   "outputs": [],
   "source": [
    "# Basics\n",
    "import numpy as np\n",
    "import pandas as pd\n",
    "import matplotlib.pyplot as plt\n",
    "import seaborn as sns\n",
    "\n",
    "# Data imports\n",
    "from sqlalchemy import create_engine\n",
    "\n",
    "# Model preprocessing and processing\n",
    "from sklearn.model_selection import train_test_split\n",
    "from sklearn.preprocessing import OneHotEncoder, StandardScaler\n",
    "from sklearn.compose import make_column_selector, make_column_transformer\n",
    "from imblearn.over_sampling import SMOTE\n",
    "from sklearn.model_selection import GridSearchCV\n",
    "from imblearn.pipeline import Pipeline\n",
    "from sklearn.base import clone\n",
    "\n",
    "# Models\n",
    "from sklearn.dummy import DummyClassifier\n",
    "from xgboost import XGBClassifier\n",
    "\n",
    "# Performance evaluation\n",
    "from sklearn.metrics import f1_score, precision_score, accuracy_score, recall_score\n",
    "from sklearn.metrics import plot_confusion_matrix\n",
    "import shap\n",
    "\n",
    "# Display options\n",
    "pd.options.display.max_columns = 200\n",
    "%matplotlib inline\n",
    "\n",
    "# Convenience for working with external .py files\n",
    "%load_ext autoreload\n",
    "%autoreload 2\n",
    "\n",
    "# Global constants\n",
    "NOT_APLIC_STR = \"NA_SS\"\n",
    "NOT_APLIC_NUM = -999.0\n",
    "RANDOM_STATE = 2021"
   ]
  },
  {
   "cell_type": "markdown",
   "id": "729fcf4f",
   "metadata": {},
   "source": [
    "## Modeling\n",
    "[description]"
   ]
  },
  {
   "cell_type": "markdown",
   "id": "f9760f2f",
   "metadata": {},
   "source": [
    "## Evaluation\n",
    "[description]"
   ]
  },
  {
   "cell_type": "markdown",
   "id": "8d81cecb",
   "metadata": {},
   "source": [
    "## Conclusion\n",
    "[description]"
   ]
  }
 ],
 "metadata": {
  "kernelspec": {
   "display_name": "Python 3",
   "language": "python",
   "name": "python3"
  },
  "language_info": {
   "codemirror_mode": {
    "name": "ipython",
    "version": 3
   },
   "file_extension": ".py",
   "mimetype": "text/x-python",
   "name": "python",
   "nbconvert_exporter": "python",
   "pygments_lexer": "ipython3",
   "version": "3.8.3"
  }
 },
 "nbformat": 4,
 "nbformat_minor": 5
}
