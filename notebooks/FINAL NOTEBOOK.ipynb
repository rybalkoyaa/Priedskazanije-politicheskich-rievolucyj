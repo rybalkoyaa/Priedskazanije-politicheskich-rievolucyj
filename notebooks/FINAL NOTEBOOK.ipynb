{
 "cells": [
  {
   "cell_type": "markdown",
   "id": "f33e2909",
   "metadata": {},
   "source": [
    "# A Data-Based Understanding of Political Revolutions\n",
    "Political upheavals have been ever present throughout humanity. Political leaders shape the context for everything we know. For that reason, we as a society need to generate a concrete understanding of when a revolution or political change is imminent. This analysis seeks to forecast whether a given protest will lead to a revolution within 90 days. \n",
    "\n",
    "The stakeholders for this analysis are wide reaching, but it is most relevant to political organizers and leadership. They can use this approach to best understand where efforts are best focused and most likely to lead to an impact. \n",
    "\n",
    "We as a society have only begun to establish the collection of data necessary to make these analyses feasible, but we have crossed the threshold of significance beyond which there is substantial merit in this project. \n",
    "\n",
    "## Notebook Structure\n",
    "1. xxx\n",
    "2. xxx\n",
    "3. xxx\n",
    "4. xxx\n",
    "\n",
    "\n",
    "\n",
    "\n",
    "## The Data & Sources\n",
    "The analysis combines three core datasets from widely different sources to provide a distinctly unique understanding of the subject. They are described below.\n",
    "\n",
    "#### The Mass Mobilization Project\n",
    "\n",
    "The first dataset, used as the center of the analysis, is incredibly valuable. It is described in the source documentation as *\"an effort to understand citizen movements against governments, what citizens want when they demonstrate against governments, and how governments respond to citizens. The MM data cover 162 countries between 1990 and 2018. These data contain events where 50 or more protesters publicly demonstrate against government, resulting in more than 10,000 protest events. Each event records location, protest size, protester demands, and government responses.\"* [(1)](https://massmobilization.github.io/about.html)\n",
    "\n",
    "The project is sponsored by the Political Instability Task Force (PITF). The PITF is funded by the Central Intelligence Agency (CIA). [(1)](https://massmobilization.github.io/about.html)\n",
    "\n",
    "\n",
    "#### \"Regime changes\"\n",
    "[Description]\n",
    "\n",
    "[Source]\n",
    "\n",
    "\n",
    "#### \"IDB\"\n",
    "[Description]\n",
    "\n",
    "[Source]\n",
    "\n",
    "## Technical Notes\n",
    "Given the large-scale nature of the project, this notebook inevitably does not contain the entire analysis. It does not go into depth on each of the choices made for feature selection or data cleaning. Consider this the \"top level\" notebook, and those more detail-oriented parts of the analysis are handled in their own spaces. Here is where you should go to find more details:\n",
    "\n",
    "\n",
    "1. **[protests cleaning file name]:** Refer to this notebook for a ground-up analysis of the \"Protests\" dataset. It includes important features such as the nature of each protest (size, objectives, location, etc.). Especially exhaustive and detailed data cleaning choices are made in this notebook.\n",
    "2. **[regime change file name]:** Refer to this notebook for a full study of the \"Regime Change\" data. Primarily, this data provides the target feature for the entire analysis: regime change. It indicates when are where political change occurs. Interesting feature engineering takes place here.\n",
    "3. **[idb analysis file name]:** Refer to this notebook for an impressively comprehensive dataset surrounding descriptive attributes of governments around the world over many decades. Important information includes the political system of countries at specified times, the tenure of the country's primary leader, and the percentage of the popular vote the leader received (where relevant). There are descriptors as granular as the total number of seats in congress (where relevant). Extensive feature selection takes place in this notebook."
   ]
  },
  {
   "cell_type": "markdown",
   "id": "d1ce6084",
   "metadata": {},
   "source": [
    "## Stage I. Data Preparation\n",
    "[description]"
   ]
  },
  {
   "cell_type": "markdown",
   "id": "454bdca3",
   "metadata": {},
   "source": []
  },
  {
   "cell_type": "code",
   "execution_count": null,
   "id": "1071ddaf",
   "metadata": {},
   "outputs": [],
   "source": [
    "# Basic imporrts\n",
    "import numpy as np\n",
    "import pandas as pd\n",
    "import matplotlib.pyplot as plt\n",
    "import seaborn as sns\n",
    "import sys\n",
    "from sqlalchemy import create_engine\n",
    "\n",
    "# Model preprocessing and processing\n",
    "from sklearn.model_selection import train_test_split\n",
    "from sklearn.preprocessing import OneHotEncoder, StandardScaler\n",
    "from sklearn.compose import make_column_selector, make_column_transformer\n",
    "from imblearn.over_sampling import SMOTE\n",
    "from sklearn.model_selection import GridSearchCV\n",
    "from imblearn.pipeline import Pipeline\n",
    "from sklearn.base import clone\n",
    "\n",
    "# Models\n",
    "from sklearn.dummy import DummyClassifier\n",
    "from sklearn.linear_model import LogisticRegression\n",
    "from sklearn.ensemble import RandomForestClassifier\n",
    "from xgboost import XGBClassifier\n",
    "\n",
    "# Performance evaluation\n",
    "from sklearn.metrics import f1_score, precision_score, accuracy_score, recall_score\n",
    "from sklearn.metrics import plot_confusion_matrix\n",
    "import shap\n",
    "\n",
    "# Display options\n",
    "pd.options.display.max_columns = 200\n",
    "%matplotlib inline\n",
    "\n",
    "# Convenience for working with external .py files\n",
    "%load_ext autoreload\n",
    "%autoreload 2\n",
    "\n",
    "# Convenience for working with external src code files\n",
    "%load_ext autoreload\n",
    "%autoreload 2\n",
    "sys.path.insert(1, '../src')\n",
    "from custom_plots import *\n",
    "from create_target import *\n",
    "from remove_missing_data import *\n",
    "from evaluate_model_performance import *\n",
    "\n",
    "# Global constants\n",
    "RANDOM_STATE = 2021"
   ]
  },
  {
   "cell_type": "markdown",
   "id": "47b7b60c",
   "metadata": {},
   "source": [
    "**Import \"Regime Change\" dataset**"
   ]
  },
  {
   "cell_type": "code",
   "execution_count": 2,
   "id": "7f3f3608",
   "metadata": {},
   "outputs": [],
   "source": [
    "# Import cleaned database via SQL\n",
    "engine = create_engine('sqlite:///../data/processed/regime_changes.db')\n",
    "with engine.begin() as connection:\n",
    "    df_regimes = pd.read_sql('SELECT * FROM regime_changes', con=connection)\n",
    "\n",
    "# Type casting\n",
    "df_regimes.startdate = pd.to_datetime(df_regimes.startdate)\n",
    "df_regimes.enddate = pd.to_datetime(df_regimes.enddate)"
   ]
  },
  {
   "cell_type": "markdown",
   "id": "27a00198",
   "metadata": {},
   "source": [
    "**Import \"Protests\" dataset**"
   ]
  },
  {
   "cell_type": "code",
   "execution_count": 3,
   "id": "282ee7f4",
   "metadata": {},
   "outputs": [],
   "source": [
    "# Import cleaned database via SQL\n",
    "engine = create_engine('sqlite:///../data/processed/protests.db')\n",
    "with engine.begin() as connection:\n",
    "    df_protests = pd.read_sql('SELECT * FROM protests', con=connection)\n",
    "\n",
    "# Type casting\n",
    "df_protests.startdate = pd.to_datetime(df_protests.startdate)"
   ]
  },
  {
   "cell_type": "markdown",
   "id": "2ef7dc81",
   "metadata": {},
   "source": [
    "**Import \"Government Characterization\" dataset**"
   ]
  },
  {
   "cell_type": "code",
   "execution_count": 4,
   "id": "42917c39",
   "metadata": {},
   "outputs": [],
   "source": [
    "# Import cleaned database via SQL\n",
    "engine = create_engine('sqlite:///../data/processed/governments.db')\n",
    "with engine.begin() as connection:\n",
    "    df_govts = pd.read_sql('SELECT * FROM governments', con=connection)\n",
    "\n",
    "# Set index to be used in SQL join\n",
    "df_govts.index = df_govts.year_scode\n",
    "\n",
    "# Drop now-duplicated feature\n",
    "df_govts.drop('year_scode', axis=1, inplace=True)"
   ]
  },
  {
   "cell_type": "markdown",
   "id": "6e8d4c7c",
   "metadata": {},
   "source": [
    "**Join \"Protests\" and \"Government Characterization\" datasets**"
   ]
  },
  {
   "cell_type": "code",
   "execution_count": 5,
   "id": "a75fc44f",
   "metadata": {},
   "outputs": [],
   "source": [
    "# Join both dataframes\n",
    "df = df_protests.join(df_govts, how='left', on='year_scode')"
   ]
  },
  {
   "cell_type": "markdown",
   "id": "193a63e0",
   "metadata": {},
   "source": [
    "**Remove features with missing values**"
   ]
  },
  {
   "cell_type": "code",
   "execution_count": 6,
   "id": "625d7c5a",
   "metadata": {},
   "outputs": [],
   "source": [
    "# Remove protests without corresponding \"government\"\n",
    "df.dropna(inplace=True)\n",
    "\n",
    "# Remove entries with limited \"government\" data\n",
    "df = remove_missing_data(df)\n",
    "#df.info()"
   ]
  },
  {
   "cell_type": "markdown",
   "id": "1f8e1a3a",
   "metadata": {},
   "source": [
    "**Join with \"Regime Changes\" dataset**"
   ]
  },
  {
   "cell_type": "code",
   "execution_count": 7,
   "id": "7ac602e5",
   "metadata": {},
   "outputs": [
    {
     "name": "stdout",
     "output_type": "stream",
     "text": [
      "<class 'pandas.core.frame.DataFrame'>\n",
      "Int64Index: 14561 entries, 0 to 15207\n",
      "Data columns (total 39 columns):\n",
      " #   Column                             Non-Null Count  Dtype         \n",
      "---  ------                             --------------  -----         \n",
      " 0   country                            14561 non-null  object        \n",
      " 1   scode                              14561 non-null  object        \n",
      " 2   region                             14561 non-null  object        \n",
      " 3   protestnumber                      14561 non-null  int64         \n",
      " 4   protesterviolence                  14561 non-null  int64         \n",
      " 5   startdate                          14561 non-null  datetime64[ns]\n",
      " 6   duration_days                      14561 non-null  int64         \n",
      " 7   participants                       14561 non-null  int64         \n",
      " 8   participants_category              14561 non-null  object        \n",
      " 9   demand_labor-wage-dispute          14561 non-null  int64         \n",
      " 10  demand_land-farm-issue             14561 non-null  int64         \n",
      " 11  demand_police-brutality            14561 non-null  int64         \n",
      " 12  demand_political-behavior/process  14561 non-null  int64         \n",
      " 13  demand_price-increases/tax-policy  14561 non-null  int64         \n",
      " 14  demand_removal-of-politician       14561 non-null  int64         \n",
      " 15  demand_social-restrictions         14561 non-null  int64         \n",
      " 16  year_scode                         14561 non-null  object        \n",
      " 17  system                             14561 non-null  object        \n",
      " 18  yrsoffc                            14561 non-null  float64       \n",
      " 19  finittrm                           14561 non-null  float64       \n",
      " 20  military                           14561 non-null  float64       \n",
      " 21  totalseats                         14561 non-null  float64       \n",
      " 22  legelec                            14561 non-null  float64       \n",
      " 23  exelec                             14561 non-null  float64       \n",
      " 24  liec                               14561 non-null  float64       \n",
      " 25  eiec                               14561 non-null  float64       \n",
      " 26  gq                                 14561 non-null  float64       \n",
      " 27  numvote                            14561 non-null  float64       \n",
      " 28  oppvote                            14561 non-null  float64       \n",
      " 29  tensys_strict                      14561 non-null  float64       \n",
      " 30  stabs_strict                       14561 non-null  float64       \n",
      " 31  country_govt                       14561 non-null  object        \n",
      " 32  scode_govt                         14561 non-null  object        \n",
      " 33  parcomp                            14558 non-null  object        \n",
      " 34  parreg                             14558 non-null  object        \n",
      " 35  xconst                             14558 non-null  object        \n",
      " 36  xropen                             14558 non-null  object        \n",
      " 37  xrcomp                             14558 non-null  object        \n",
      " 38  days_until_next_regime_chg         14558 non-null  float64       \n",
      "dtypes: datetime64[ns](1), float64(14), int64(11), object(13)\n",
      "memory usage: 4.9+ MB\n"
     ]
    }
   ],
   "source": [
    "target = create_target(df, df_regimes)\n",
    "df = pd.concat([df, target], axis=1)\n",
    "df.info()"
   ]
  },
  {
   "cell_type": "markdown",
   "id": "f88b2c99",
   "metadata": {},
   "source": [
    "**Feature descriptions:**\n",
    "\n",
    "xxx"
   ]
  },
  {
   "cell_type": "markdown",
   "id": "0ac23f84",
   "metadata": {},
   "source": [
    "**Basic Cleaning**"
   ]
  },
  {
   "cell_type": "code",
   "execution_count": 8,
   "id": "e8668282",
   "metadata": {},
   "outputs": [],
   "source": [
    "# Convert startdate to a float instead of datetime since datetime cannot be handled by models but fractional years can\n",
    "df['startdate'] = df.startdate.dt.year + df.startdate.dt.month / 12 + df.startdate.dt.day / 365\n",
    "\n",
    "# Define target as \"regime change in less than 365 days\"\n",
    "target = (df['days_until_next_regime_chg'] < 365).astype('int')\n",
    "\n",
    "# Drop unused columns\n",
    "drop_columns = ['year_scode', 'scode_govt', 'country_govt', 'days_until_next_regime_chg', 'scode', 'participants_category', 'duration_days']\n",
    "df.drop(drop_columns, axis=1, inplace=True)"
   ]
  },
  {
   "cell_type": "markdown",
   "id": "dd0b26dc",
   "metadata": {
    "tags": []
   },
   "source": [
    "## Modeling\n",
    "[description]"
   ]
  },
  {
   "cell_type": "code",
   "execution_count": 9,
   "id": "eda4ab85",
   "metadata": {},
   "outputs": [
    {
     "name": "stdout",
     "output_type": "stream",
     "text": [
      "<class 'pandas.core.frame.DataFrame'>\n",
      "Int64Index: 14561 entries, 0 to 15207\n",
      "Data columns (total 32 columns):\n",
      " #   Column                             Non-Null Count  Dtype  \n",
      "---  ------                             --------------  -----  \n",
      " 0   country                            14561 non-null  object \n",
      " 1   region                             14561 non-null  object \n",
      " 2   protestnumber                      14561 non-null  int64  \n",
      " 3   protesterviolence                  14561 non-null  int64  \n",
      " 4   startdate                          14561 non-null  float64\n",
      " 5   participants                       14561 non-null  int64  \n",
      " 6   demand_labor-wage-dispute          14561 non-null  int64  \n",
      " 7   demand_land-farm-issue             14561 non-null  int64  \n",
      " 8   demand_police-brutality            14561 non-null  int64  \n",
      " 9   demand_political-behavior/process  14561 non-null  int64  \n",
      " 10  demand_price-increases/tax-policy  14561 non-null  int64  \n",
      " 11  demand_removal-of-politician       14561 non-null  int64  \n",
      " 12  demand_social-restrictions         14561 non-null  int64  \n",
      " 13  system                             14561 non-null  object \n",
      " 14  yrsoffc                            14561 non-null  float64\n",
      " 15  finittrm                           14561 non-null  float64\n",
      " 16  military                           14561 non-null  float64\n",
      " 17  totalseats                         14561 non-null  float64\n",
      " 18  legelec                            14561 non-null  float64\n",
      " 19  exelec                             14561 non-null  float64\n",
      " 20  liec                               14561 non-null  float64\n",
      " 21  eiec                               14561 non-null  float64\n",
      " 22  gq                                 14561 non-null  float64\n",
      " 23  numvote                            14561 non-null  float64\n",
      " 24  oppvote                            14561 non-null  float64\n",
      " 25  tensys_strict                      14561 non-null  float64\n",
      " 26  stabs_strict                       14561 non-null  float64\n",
      " 27  parcomp                            14558 non-null  object \n",
      " 28  parreg                             14558 non-null  object \n",
      " 29  xconst                             14558 non-null  object \n",
      " 30  xropen                             14558 non-null  object \n",
      " 31  xrcomp                             14558 non-null  object \n",
      "dtypes: float64(14), int64(10), object(8)\n",
      "memory usage: 4.2+ MB\n"
     ]
    }
   ],
   "source": [
    "df.info()"
   ]
  },
  {
   "cell_type": "markdown",
   "id": "418d2665",
   "metadata": {},
   "source": [
    "**Create train-test split, as well as final holdout dataset**"
   ]
  },
  {
   "cell_type": "code",
   "execution_count": 10,
   "id": "8eddf244",
   "metadata": {},
   "outputs": [],
   "source": [
    "# Create final holdout dataset\n",
    "x_traintest, x_holdout, y_traintest, y_holdout = train_test_split(df, target, random_state=RANDOM_STATE)\n",
    "\n",
    "# Create standard train-test splits\n",
    "x_train, x_test, y_train, y_test = train_test_split(x_traintest, y_traintest, random_state=RANDOM_STATE)"
   ]
  },
  {
   "cell_type": "markdown",
   "id": "7b23918e",
   "metadata": {},
   "source": [
    "**Create baseline \"dummy\" model**"
   ]
  },
  {
   "cell_type": "code",
   "execution_count": 11,
   "id": "2cfa789c",
   "metadata": {},
   "outputs": [
    {
     "name": "stdout",
     "output_type": "stream",
     "text": [
      "f1 score: 0.07094594594594596\n",
      "accuracy: 0.7985347985347986\n",
      "precision: 0.06930693069306931\n",
      "recall: 0.0726643598615917\n"
     ]
    }
   ],
   "source": [
    "# Create instance of dummy classifier and fit to training data\n",
    "dummy_clf = DummyClassifier(strategy='stratified')\n",
    "dummy_clf.fit(x_train, y_train)\n",
    "\n",
    "# Create model predictions for test data\n",
    "pred_dummy = dummy_clf.predict(x_test)\n",
    "print_scores(pred_dummy, y_test)"
   ]
  },
  {
   "cell_type": "markdown",
   "id": "34e7fe80",
   "metadata": {},
   "source": [
    "**Create Logistic Regression classifier model**"
   ]
  },
  {
   "cell_type": "code",
   "execution_count": 12,
   "id": "b1df890b",
   "metadata": {},
   "outputs": [
    {
     "data": {
      "text/plain": [
       "GridSearchCV(cv=3,\n",
       "             estimator=Pipeline(steps=[('transformer',\n",
       "                                        ColumnTransformer(transformers=[('onehotencoder',\n",
       "                                                                         OneHotEncoder(handle_unknown='ignore'),\n",
       "                                                                         <sklearn.compose._column_transformer.make_column_selector object at 0x0000023AEEE8B040>),\n",
       "                                                                        ('standardscaler',\n",
       "                                                                         StandardScaler(),\n",
       "                                                                         <sklearn.compose._column_transformer.make_column_selector object at 0x0000023AEEE8B070>)])),\n",
       "                                       ('smote', SMOTE(random_state=2021)),\n",
       "                                       ('model',\n",
       "                                        LogisticRegression(max_iter=5000))]),\n",
       "             param_grid={'model__C': array([1.00000000e-01, 4.64158883e-01, 2.15443469e+00, 1.00000000e+01,\n",
       "       4.64158883e+01, 2.15443469e+02, 1.00000000e+03, 4.64158883e+03,\n",
       "       2.15443469e+04, 1.00000000e+05])},\n",
       "             scoring='f1')"
      ]
     },
     "execution_count": 12,
     "metadata": {},
     "output_type": "execute_result"
    }
   ],
   "source": [
    "# Instantiate model\n",
    "model_log = LogisticRegression(max_iter=5000)\n",
    "\n",
    "# Add one-hot encoding for categoricals\n",
    "ohe = OneHotEncoder(handle_unknown='ignore')\n",
    "\n",
    "# Add standard scaling\n",
    "scaler = StandardScaler()\n",
    "\n",
    "# Add resampling to address class imbalance\n",
    "smote = SMOTE(random_state=RANDOM_STATE)\n",
    "\n",
    "\n",
    "# Select object types for one-hot encoding and numeric types for scaling\n",
    "selector_object = make_column_selector(dtype_include='object')\n",
    "selector_numeric = make_column_selector(dtype_include='number')\n",
    "\n",
    "# Create transformer for the selectors/encoders/scalers\n",
    "transformer = make_column_transformer((ohe, selector_object),\n",
    "                                     (scaler, selector_numeric))\n",
    "\n",
    "\n",
    "# Create pipeline for transformer, resampling, and model\n",
    "pipe = Pipeline([('transformer', transformer),\n",
    "                 ('smote', smote), \n",
    "                 ('model', model_log)])\n",
    "\n",
    "# Run grid search to optimizer hyperparameters\n",
    "grid_log = {'model__C': np.logspace(-1, 5, 10)}\n",
    "grid_search = GridSearchCV(pipe, grid_log, scoring='f1', cv=5)\n",
    "\n",
    "# Fit model to training data\n",
    "grid_search.fit(x_train, y_train);"
   ]
  },
  {
   "cell_type": "markdown",
   "id": "b99a85bf",
   "metadata": {},
   "source": [
    "**Create Random Forest model**\n",
    "\n",
    "Reuse one-hot encoder, scaler, resampler, selectors, transformer from logistic regression"
   ]
  },
  {
   "cell_type": "code",
   "execution_count": 18,
   "id": "a24c0ea7",
   "metadata": {},
   "outputs": [
    {
     "name": "stdout",
     "output_type": "stream",
     "text": [
      "- f1: 0.6226415094339622\n",
      "- accuracy: 0.9120879120879121\n",
      "- precision: 0.5706051873198847\n",
      "- recall: 0.6851211072664359\n"
     ]
    },
    {
     "data": {
      "text/plain": [
       "<Figure size 432x288 with 0 Axes>"
      ]
     },
     "metadata": {},
     "output_type": "display_data"
    },
    {
     "data": {
      "image/png": "[encoded data removed]",
      "text/plain": [
       "<Figure size 432x288 with 2 Axes>"
      ]
     },
     "metadata": {
      "needs_background": "light"
     },
     "output_type": "display_data"
    }
   ],
   "source": [
    "# Instantiate model\n",
    "model_rf = RandomForestClassifier()\n",
    "\n",
    "# \n",
    "# Create pipeline for transformer, resampling, and model\n",
    "pipe = Pipeline([('transformer', transformer),\n",
    "                 ('smote', smote), \n",
    "                 ('model', model_rf)])\n",
    "\n",
    "# Run grid search to optimizer hyperparameters\n",
    "grid_rf = {\n",
    "    'model__n_estimators': [25, 75, 150],\n",
    "    'model__criterion': ['gini', 'entropy'],\n",
    "    'model__max_depth': [3, 6, 10],\n",
    "    'model__min_samples_split': [5, 10],\n",
    "    'model__min_samples_leaf': [3, 6]}\n",
    "\n",
    "# Create instance of grid search\n",
    "grid_search = GridSearchCV(pipe, grid_rf, scoring='f1', cv=5)\n",
    "\n",
    "# Fit model to training data\n",
    "grid_search.fit(x_train, y_train)\n",
    "\n",
    "# Evaluate performance\n",
    "evaluate_model_performance(grid_search, x_test, y_test);"
   ]
  },
  {
   "cell_type": "code",
   "execution_count": null,
   "id": "870b545e",
   "metadata": {},
   "outputs": [],
   "source": [
    "# Instantiate model\n",
    "model_xgb = XGBClassifier(eval_metric='logloss', use_label_encoder=False, random_state=RANDOM_STATE)\n",
    "# \n",
    "# Create pipeline for transformer, resampling, and model\n",
    "pipe = Pipeline([('transformer', transformer),\n",
    "                 ('smote', smote), \n",
    "                 ('model', model_xgb)])\n",
    "\n",
    "# Run grid search to optimizer hyperparameters\n",
    "grid_xgb = {\n",
    "    'model__learning_rate': [0.1, 0.25, 1],\n",
    "    'model__max_depth': [3, 5, 7, None],\n",
    "    'model__min_child_weight': [1, 2, None],\n",
    "    'model__subsample': [0.4, 0.6, 0.8, 1],\n",
    "    'model__n_estimators': [50, 100, 150],\n",
    "    'model__tree_method': ['exact', 'approx', 'hist']}\n",
    "\n",
    "# Create instance of grid search\n",
    "grid_search = GridSearchCV(pipe, grid_xgb, scoring='f1', cv=5)\n",
    "\n",
    "# Fit model to training data\n",
    "grid_search.fit(x_train, y_train)\n",
    "\n",
    "# Evaluate performance\n",
    "evaluate_model_performance(grid_search, x_test, y_test);"
   ]
  },
  {
   "cell_type": "markdown",
   "id": "15d75c5b",
   "metadata": {},
   "source": [
    "## Evaluation\n",
    "[description]"
   ]
  },
  {
   "cell_type": "code",
   "execution_count": null,
   "id": "7567f631",
   "metadata": {},
   "outputs": [],
   "source": [
    "# SHAP plot for XGB\n",
    "produce_shap_plot(x_train, y_train, x_test, y_test, clone(xgb));"
   ]
  },
  {
   "cell_type": "markdown",
   "id": "69fc05f1",
   "metadata": {},
   "source": [
    "**Test performance on holdout data**"
   ]
  },
  {
   "cell_type": "code",
   "execution_count": null,
   "id": "9347175b",
   "metadata": {},
   "outputs": [],
   "source": [
    "pred = xgb.predict(x_holdout)\n",
    "print_scores(pred, y_holdout)\n",
    "\n",
    "plot_confusion_matrix(xgb, x_holdout, y_holdout);"
   ]
  },
  {
   "cell_type": "markdown",
   "id": "35da8112",
   "metadata": {},
   "source": [
    "## Conclusion\n",
    "[description]"
   ]
  }
 ],
 "metadata": {
  "kernelspec": {
   "display_name": "Python 3",
   "language": "python",
   "name": "python3"
  },
  "language_info": {
   "codemirror_mode": {
    "name": "ipython",
    "version": 3
   },
   "file_extension": ".py",
   "mimetype": "text/x-python",
   "name": "python",
   "nbconvert_exporter": "python",
   "pygments_lexer": "ipython3",
   "version": "3.8.3"
  }
 },
 "nbformat": 4,
 "nbformat_minor": 5
}
