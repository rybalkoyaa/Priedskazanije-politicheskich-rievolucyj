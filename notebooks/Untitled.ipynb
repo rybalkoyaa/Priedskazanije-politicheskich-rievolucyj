{
 "cells": [
  {
   "cell_type": "code",
   "execution_count": 3,
   "id": "055a7d7b",
   "metadata": {},
   "outputs": [],
   "source": [
    "import pandas as pd"
   ]
  },
  {
   "cell_type": "code",
   "execution_count": 20,
   "id": "39489e0e",
   "metadata": {},
   "outputs": [],
   "source": [
    "df = pd.read_stata('../data/raw/Colgan and Lucas replication files/Colgan and Lucas replication - dyadic.dta')"
   ]
  },
  {
   "cell_type": "code",
   "execution_count": 21,
   "id": "4b22141b",
   "metadata": {},
   "outputs": [
    {
     "name": "stdout",
     "output_type": "stream",
     "text": [
      "<class 'pandas.core.frame.DataFrame'>\n",
      "Int64Index: 1221602 entries, 0 to 1221601\n",
      "Data columns (total 40 columns):\n",
      " #   Column          Non-Null Count    Dtype  \n",
      "---  ------          --------------    -----  \n",
      " 0   ccode1          1221602 non-null  float64\n",
      " 1   ccode2          1221602 non-null  int16  \n",
      " 2   year            1221602 non-null  float64\n",
      " 3   rev2            922244 non-null   float64\n",
      " 4   rev1            922244 non-null   float64\n",
      " 5   chg_ally        1037092 non-null  float32\n",
      " 6   stronger_ally   1037092 non-null  float32\n",
      " 7   weaker_ally     1037092 non-null  float32\n",
      " 8   dirdyadID       1221602 non-null  float64\n",
      " 9   atopally0       1221602 non-null  int8   \n",
      " 10  arep_MBallSW    1221602 non-null  float32\n",
      " 11  aiis_bl         1187435 non-null  float32\n",
      " 12  S               1075296 non-null  float32\n",
      " 13  I               1056326 non-null  float32\n",
      " 14  jointenemy_dum  1221602 non-null  float32\n",
      " 15  sqrtdist        1220342 non-null  float32\n",
      " 16  mpctdum         1221602 non-null  int8   \n",
      " 17  poldif_using    962360 non-null   float32\n",
      " 18  pol5_using      1221602 non-null  float32\n",
      " 19  ddyad1          1221602 non-null  float32\n",
      " 20  revperiod3_1    922244 non-null   float32\n",
      " 21  revperiod3_2    922244 non-null   float32\n",
      " 22  revperiod5_1    922244 non-null   float32\n",
      " 23  revperiod5_2    922244 non-null   float32\n",
      " 24  adj_polity21    1082601 non-null  float64\n",
      " 25  interreg1       1221602 non-null  float32\n",
      " 26  transition1     1221602 non-null  float32\n",
      " 27  adj_polity22    1082601 non-null  float64\n",
      " 28  interreg2       1221602 non-null  float32\n",
      " 29  transition2     1221602 non-null  float32\n",
      " 30  pol7_using      962360 non-null   float32\n",
      " 31  reg1_1          1221602 non-null  int8   \n",
      " 32  reg2_1          1221602 non-null  int8   \n",
      " 33  reg3_1          1221602 non-null  int8   \n",
      " 34  reg4_1          1221602 non-null  int8   \n",
      " 35  reg5_1          1221602 non-null  int8   \n",
      " 36  reg6_1          1221602 non-null  int8   \n",
      " 37  reg7_1          1221602 non-null  int8   \n",
      " 38  reg8_1          1221602 non-null  int8   \n",
      " 39  ddyad2          1221602 non-null  float32\n",
      "dtypes: float32(22), float64(7), int16(1), int8(10)\n",
      "memory usage: 191.1 MB\n"
     ]
    }
   ],
   "source": [
    "df.info()"
   ]
  },
  {
   "cell_type": "code",
   "execution_count": 22,
   "id": "06e2adbe",
   "metadata": {},
   "outputs": [
    {
     "data": {
      "text/plain": [
       "array([1946., 1947., 1948., 1949., 1950., 1951., 1952., 1953., 1954.,\n",
       "       1955., 1956., 1957., 1958., 1959., 1960., 1961., 1962., 1963.,\n",
       "       1964., 1965., 1966., 1967., 1968., 1969., 1970., 1971., 1972.,\n",
       "       1973., 1974., 1975., 1976., 1977., 1978., 1979., 1980., 1981.,\n",
       "       1982., 1983., 1984., 1985., 1986., 1987., 1988., 1989., 1990.,\n",
       "       1991., 1992., 1993., 1994., 1995., 1996., 1997., 1998., 1999.,\n",
       "       2000., 2001., 2002., 2003., 2004.])"
      ]
     },
     "execution_count": 22,
     "metadata": {},
     "output_type": "execute_result"
    }
   ],
   "source": [
    "x = df.year.unique()\n",
    "x.sort()\n",
    "x"
   ]
  },
  {
   "cell_type": "code",
   "execution_count": 8,
   "id": "a734325f",
   "metadata": {},
   "outputs": [],
   "source": [
    "df2 = pd.read_stata('../data/raw/Colgan and Lucas replication - event history.dta')"
   ]
  },
  {
   "cell_type": "code",
   "execution_count": 11,
   "id": "684ffab2",
   "metadata": {},
   "outputs": [
    {
     "name": "stdout",
     "output_type": "stream",
     "text": [
      "<class 'pandas.core.frame.DataFrame'>\n",
      "Int64Index: 561 entries, 0 to 560\n",
      "Data columns (total 7 columns):\n",
      " #   Column        Non-Null Count  Dtype  \n",
      "---  ------        --------------  -----  \n",
      " 0   eh            561 non-null    object \n",
      " 1   eh_code       561 non-null    int8   \n",
      " 2   country_name  561 non-null    object \n",
      " 3   ccode         548 non-null    float64\n",
      " 4   year          551 non-null    float64\n",
      " 5   revstart      541 non-null    float64\n",
      " 6   GDP_PC        432 non-null    float64\n",
      "dtypes: float64(4), int8(1), object(2)\n",
      "memory usage: 31.2+ KB\n"
     ]
    }
   ],
   "source": [
    "df2.info()"
   ]
  },
  {
   "cell_type": "code",
   "execution_count": 15,
   "id": "9ca73a79",
   "metadata": {},
   "outputs": [
    {
     "data": {
      "text/plain": [
       "array([1958., 1959., 1960., 1961., 1962., 1963., 1964., 1965., 1966.,\n",
       "       1967., 1968., 1969., 1970., 1971., 1972., 1973., 1974., 1975.,\n",
       "       1976., 1977., 1978., 1979., 1980., 1981., 1982., 1983., 1984.,\n",
       "       1985., 1986., 1987., 1988., 1989., 1990., 1991., 1992., 1993.,\n",
       "       1994., 1995., 1996., 1997., 1998., 1999., 2000., 2001., 2002.,\n",
       "       2003., 2004.,   nan])"
      ]
     },
     "execution_count": 15,
     "metadata": {},
     "output_type": "execute_result"
    }
   ],
   "source": [
    "t = df2.year.unique()\n",
    "t.sort()\n",
    "t"
   ]
  },
  {
   "cell_type": "code",
   "execution_count": 16,
   "id": "0efb16f4",
   "metadata": {},
   "outputs": [
    {
     "data": {
      "text/plain": [
       "array([1946., 1947., 1948., 1949., 1950., 1951., 1952., 1953., 1954.,\n",
       "       1955., 1956., 1957., 1958., 1959., 1960., 1961., 1962., 1963.,\n",
       "       1964., 1965., 1966., 1967., 1968., 1969., 1970., 1971., 1972.,\n",
       "       1973., 1974., 1975., 1976., 1977., 1978., 1979., 1980., 1981.,\n",
       "       1982., 1983., 1984., 1985., 1986., 1987., 1988., 1989., 1990.,\n",
       "       1991., 1992., 1993., 1994., 1995., 1996., 1997., 1998., 1999.,\n",
       "       2000., 2001., 2002., 2003., 2004.])"
      ]
     },
     "execution_count": 16,
     "metadata": {},
     "output_type": "execute_result"
    }
   ],
   "source": [
    "x = df.year.unique()\n",
    "x.sort()\n",
    "x"
   ]
  }
 ],
 "metadata": {
  "kernelspec": {
   "display_name": "Python 3",
   "language": "python",
   "name": "python3"
  },
  "language_info": {
   "codemirror_mode": {
    "name": "ipython",
    "version": 3
   },
   "file_extension": ".py",
   "mimetype": "text/x-python",
   "name": "python",
   "nbconvert_exporter": "python",
   "pygments_lexer": "ipython3",
   "version": "3.8.3"
  }
 },
 "nbformat": 4,
 "nbformat_minor": 5
}
