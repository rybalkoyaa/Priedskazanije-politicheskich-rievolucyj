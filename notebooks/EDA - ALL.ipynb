{
 "cells": [
  {
   "cell_type": "code",
   "execution_count": 1,
   "id": "e47b8175",
   "metadata": {},
   "outputs": [],
   "source": [
    "import numpy as np\n",
    "import pandas as pd\n",
    "import matplotlib.pyplot as plt\n",
    "import seaborn as sns\n",
    "from sqlalchemy import create_engine\n",
    "import sys\n",
    "\n",
    "# Custom functions\n",
    "\n",
    "sys.path.insert(1, '../src')\n",
    "from custom_plots import *\n",
    "\n",
    "\n",
    "# Options\n",
    "pd.options.display.max_rows = 200\n",
    "pd.options.display.max_columns = 200\n",
    "%matplotlib inline\n",
    "sns.set_theme(style=\"white\")\n",
    "\n",
    "# Convenience for working with external src code files\n",
    "%load_ext autoreload\n",
    "%autoreload 2\n",
    "\n",
    "\n",
    "# NOTE THAT SETTING THESE PARAMETERS ELIMINATES \"MASK\" FUNCTIONALITY ON CMAP\n",
    "# FONT_SIZE=20\n",
    "# sns.set(rc={\n",
    "#     'figure.figsize': (df.shape[1]/2,df.shape[1]/3),\n",
    "#     'font.size': FONT_SIZE,\n",
    "#     'axes.titlesize': FONT_SIZE, \n",
    "#     'xtick.labelsize': FONT_SIZE, \n",
    "#     'ytick.labelsize': FONT_SIZE,\n",
    "#     'axes.labelsize': FONT_SIZE})"
   ]
  },
  {
   "cell_type": "markdown",
   "id": "565663dd",
   "metadata": {},
   "source": [
    "## Import protest data"
   ]
  },
  {
   "cell_type": "code",
   "execution_count": 2,
   "id": "df2ce78f",
   "metadata": {},
   "outputs": [
    {
     "name": "stdout",
     "output_type": "stream",
     "text": [
      "<class 'pandas.core.frame.DataFrame'>\n",
      "RangeIndex: 14558 entries, 0 to 14557\n",
      "Data columns (total 34 columns):\n",
      " #   Column                             Non-Null Count  Dtype  \n",
      "---  ------                             --------------  -----  \n",
      " 0   region                             14558 non-null  object \n",
      " 1   protestnumber                      14558 non-null  int64  \n",
      " 2   protesterviolence                  14558 non-null  int64  \n",
      " 3   duration_days                      14558 non-null  int64  \n",
      " 4   participants                       14558 non-null  int64  \n",
      " 5   participants_category              14558 non-null  object \n",
      " 6   demand_labor-wage-dispute          14558 non-null  int64  \n",
      " 7   demand_land-farm-issue             14558 non-null  int64  \n",
      " 8   demand_police-brutality            14558 non-null  int64  \n",
      " 9   demand_political-behavior/process  14558 non-null  int64  \n",
      " 10  demand_price-increases/tax-policy  14558 non-null  int64  \n",
      " 11  demand_removal-of-politician       14558 non-null  int64  \n",
      " 12  demand_social-restrictions         14558 non-null  int64  \n",
      " 13  system                             14558 non-null  object \n",
      " 14  yrsoffc                            14558 non-null  float64\n",
      " 15  finittrm                           14558 non-null  float64\n",
      " 16  military                           14558 non-null  float64\n",
      " 17  totalseats                         14558 non-null  float64\n",
      " 18  legelec                            14558 non-null  float64\n",
      " 19  exelec                             14558 non-null  float64\n",
      " 20  liec                               14558 non-null  float64\n",
      " 21  eiec                               14558 non-null  float64\n",
      " 22  gq                                 14558 non-null  float64\n",
      " 23  numvote                            14558 non-null  float64\n",
      " 24  oppvote                            14558 non-null  float64\n",
      " 25  tensys_strict                      14558 non-null  float64\n",
      " 26  stabs_strict                       14558 non-null  float64\n",
      " 27  startyear                          14558 non-null  int64  \n",
      " 28  target_categorical                 14558 non-null  object \n",
      " 29  target30                           14558 non-null  bool   \n",
      " 30  target90                           14558 non-null  bool   \n",
      " 31  target180                          14558 non-null  bool   \n",
      " 32  target365                          14558 non-null  bool   \n",
      " 33  target_alltime                     14558 non-null  int64  \n",
      "dtypes: bool(4), float64(13), int64(13), object(4)\n",
      "memory usage: 3.4+ MB\n"
     ]
    }
   ],
   "source": [
    "# Import data from Modeling notebook\n",
    "engine = create_engine('sqlite:///../data/processed/all_data.db')\n",
    "with engine.begin() as connection:\n",
    "    df = pd.read_sql('SELECT * FROM all_modeled_data', connection)\n",
    "    \n",
    "df['target_categorical'] = ['Revolution' if x == 1 else \"No Revolution\" for x in df.target]\n",
    "df['target30'] = df.alternative_target < 30\n",
    "df['target90'] = df.alternative_target < 90\n",
    "df['target180'] = df.alternative_target < 180\n",
    "df['target365'] = df.alternative_target < 365\n",
    "df['target_alltime'] = df.alternative_target\n",
    "df.drop(['target', 'alternative_target'], axis=1, inplace=True)\n",
    "\n",
    "df.info()"
   ]
  },
  {
   "cell_type": "code",
   "execution_count": null,
   "id": "329c0230",
   "metadata": {},
   "outputs": [],
   "source": [
    "demands = ['demand_labor-wage-dispute', 'demand_land-farm-issue', 'demand_police-brutality', 'demand_political-behavior/process', 'demand_price-increases/tax-policy', 'demand_removal-of-politician', 'demand_social-restrictions']\n",
    "binary = demands + ['protesterviolence', 'finittrm', 'military', 'legelec', 'exelec']\n",
    "\n",
    "continuous = ['protestnumber', 'duration_days', 'participants', 'yrsoffc', 'totalseats', 'startyear', 'liec', 'eiec', 'numvote', 'oppvote', 'gq', 'tensys_strict', 'stabs_strict']\n",
    "categorical = ['region', 'participants_category', 'system']\n",
    "targets = ['target30', 'target90', 'target180', 'target365', 'target_categorical', 'target_alltime']\n",
    "\n",
    "remainders = df.drop(continuous+categorical+binary+targets, axis=1).columns\n",
    "\n",
    "if remainders.shape==(0,):\n",
    "    print(\"All features successfully bucketed\")\n",
    "else:\n",
    "    print('Remaining columns to be assigned to various bucket:')\n",
    "    for col in remainders:\n",
    "        print(col, '\\n', df[col].value_counts(), '\\n')"
   ]
  },
  {
   "cell_type": "markdown",
   "id": "898edc94",
   "metadata": {},
   "source": [
    "## Correlation matrix"
   ]
  },
  {
   "cell_type": "code",
   "execution_count": null,
   "id": "51d354e1",
   "metadata": {},
   "outputs": [],
   "source": [
    "custom_plot_matrix(df, max_corr=0.5)"
   ]
  },
  {
   "cell_type": "markdown",
   "id": "01d46a23",
   "metadata": {},
   "source": [
    "### Protestnumber"
   ]
  },
  {
   "cell_type": "code",
   "execution_count": null,
   "id": "9f8e770c",
   "metadata": {},
   "outputs": [],
   "source": [
    "fig = sns.displot(df.protestnumber, bins=(df.protestnumber.max() - df.protestnumber.min()))\n",
    "fig.fig.set_figwidth(15)\n",
    "fig.fig.set_figheight(6)\n",
    "plt.title('Protestnumber');"
   ]
  },
  {
   "cell_type": "markdown",
   "id": "29a5dbfc",
   "metadata": {},
   "source": [
    "### Protest start year"
   ]
  },
  {
   "cell_type": "code",
   "execution_count": null,
   "id": "8d6cd528",
   "metadata": {},
   "outputs": [],
   "source": [
    "fig = sns.displot(df.startyear)\n",
    "fig.fig.set_figwidth(10)\n",
    "fig.fig.set_figheight(5)\n",
    "plt.title('Startyear');"
   ]
  },
  {
   "cell_type": "markdown",
   "id": "54e3adb2",
   "metadata": {},
   "source": [
    "### Protest duration"
   ]
  },
  {
   "cell_type": "code",
   "execution_count": null,
   "id": "4d9bbaa0",
   "metadata": {},
   "outputs": [],
   "source": [
    "# Boxplot\n",
    "print('Value counts (top 10):\\n', df.duration_days.value_counts()[:10])\n",
    "plt.figure()\n",
    "pd.DataFrame(df.duration_days).boxplot()\n",
    "plt.title('All protest durations')\n",
    "\n",
    "# All values\n",
    "fig = sns.displot(df.duration_days, bins=(df.duration_days.max() - df.duration_days.min()))\n",
    "fig.fig.set_figwidth(10)\n",
    "fig.fig.set_figheight(5)\n",
    "plt.title('Duration (days)');\n",
    "\n",
    "\n",
    "# All values > 1\n",
    "more_than_one_day = df.loc[df.duration_days>1, 'duration_days']\n",
    "fig = sns.displot(more_than_one_day, bins=(more_than_one_day.max() - more_than_one_day.min()))\n",
    "fig.fig.set_figwidth(10)\n",
    "fig.fig.set_figheight(5)\n",
    "plt.title('Duration (days > 1)');"
   ]
  },
  {
   "cell_type": "markdown",
   "id": "84e4c4cd",
   "metadata": {},
   "source": [
    "### Participant counts"
   ]
  },
  {
   "cell_type": "code",
   "execution_count": null,
   "id": "0a685c3a",
   "metadata": {},
   "outputs": [],
   "source": [
    "# Participant count\n",
    "print('Value counts (top 20):\\n', df.participants.value_counts()[:20])\n",
    "\n",
    "fig = sns.displot(df.participants)\n",
    "fig.fig.set_figwidth(10)\n",
    "fig.fig.set_figheight(5)\n",
    "plt.title('Participant Count');"
   ]
  },
  {
   "cell_type": "code",
   "execution_count": null,
   "id": "bb578ae4",
   "metadata": {},
   "outputs": [],
   "source": [
    "categories = ['50-99', '100-999', '1000-1999', '2000-4999', '5000-9999', '10000+']\n",
    "participants = []\n",
    "\n",
    "lookup = dict(df.participants_category.value_counts())\n",
    "for category in categories:\n",
    "    participants.append(lookup[category])\n",
    "\n",
    "plt.figure(figsize=(8, 4))\n",
    "plt.title('Protest participants')\n",
    "plt.bar(categories, participants);"
   ]
  },
  {
   "cell_type": "markdown",
   "id": "bd8ac509",
   "metadata": {},
   "source": [
    "### Protester Demands"
   ]
  },
  {
   "cell_type": "code",
   "execution_count": null,
   "id": "7bb93060",
   "metadata": {},
   "outputs": [],
   "source": [
    "plt.figure(figsize=(12, 4))\n",
    "plt.barh(df[demands].sum().index, df[demands].sum().values)\n",
    "plt.title('Protest demands');"
   ]
  },
  {
   "cell_type": "markdown",
   "id": "984f85a3",
   "metadata": {},
   "source": [
    " **Target:** We see that the protester demand for \"removal of politician\" is most strongly correlated with an impending revolution. \n",
    " \n",
    " **Alternative target:** We see that the rem"
   ]
  },
  {
   "cell_type": "code",
   "execution_count": null,
   "id": "c85e9b25",
   "metadata": {},
   "outputs": [],
   "source": [
    "custom_plot_matrix(df[demands+targets], max_corr=0.2)"
   ]
  },
  {
   "cell_type": "code",
   "execution_count": null,
   "id": "b3dd9b13",
   "metadata": {},
   "outputs": [],
   "source": [
    "stop"
   ]
  },
  {
   "cell_type": "code",
   "execution_count": null,
   "id": "aaad6606",
   "metadata": {},
   "outputs": [],
   "source": [
    "sns.catplot(x='startyear', y='target_categorical',kind=\"violin\", data=df)"
   ]
  },
  {
   "cell_type": "code",
   "execution_count": null,
   "id": "22096678",
   "metadata": {},
   "outputs": [],
   "source": [
    "sns.pairplot(df)"
   ]
  },
  {
   "cell_type": "code",
   "execution_count": null,
   "id": "2e95009f",
   "metadata": {},
   "outputs": [],
   "source": [
    "sns.catplot(y='military', x='protesterviolence',kind=\"violin\", hue='target_categorical', data=df)\n",
    "\n",
    "\n",
    "\n",
    "#plt.scatter(data=df, x='startyear', y='participants')"
   ]
  },
  {
   "cell_type": "code",
   "execution_count": null,
   "id": "7199f570",
   "metadata": {},
   "outputs": [],
   "source": [
    "#plt.rcParams['figure.figsize'] = 12,10\n",
    "fig = sns.catplot(x=demands[0], y=\"startyear\", data=df, kind='swarm')\n",
    "\n",
    "fig.fig.set_figwidth(12)\n",
    "fig.fig.set_figheight(6)\n",
    "plt.show"
   ]
  },
  {
   "cell_type": "code",
   "execution_count": null,
   "id": "2bcbc1e2",
   "metadata": {},
   "outputs": [],
   "source": [
    "plt.scatter(df[demands[0]], df['target_alltime'])"
   ]
  }
 ],
 "metadata": {
  "kernelspec": {
   "display_name": "Python 3",
   "language": "python",
   "name": "python3"
  },
  "language_info": {
   "codemirror_mode": {
    "name": "ipython",
    "version": 3
   },
   "file_extension": ".py",
   "mimetype": "text/x-python",
   "name": "python",
   "nbconvert_exporter": "python",
   "pygments_lexer": "ipython3",
   "version": "3.8.3"
  }
 },
 "nbformat": 4,
 "nbformat_minor": 5
}
