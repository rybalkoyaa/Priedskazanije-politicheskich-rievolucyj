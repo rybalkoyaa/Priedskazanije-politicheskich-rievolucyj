{
 "cells": [
  {
   "cell_type": "code",
   "execution_count": 1,
   "id": "2acbb252",
   "metadata": {},
   "outputs": [],
   "source": [
    "import numpy as np\n",
    "import pandas as pd\n",
    "import matplotlib.pyplot as plt\n",
    "import seaborn as sns\n",
    "\n",
    "\n",
    "from sqlalchemy import create_engine\n",
    "\n",
    "from sklearn.model_selection import train_test_split\n",
    "from sklearn.ensemble import RandomForestClassifier\n",
    "from sklearn.model_selection import GridSearchCV\n",
    "from sklearn.preprocessing import OneHotEncoder, StandardScaler\n",
    "from sklearn.compose import make_column_selector, make_column_transformer\n",
    "from sklearn.linear_model import LogisticRegression\n",
    "from sklearn.neighbors import KNeighborsClassifier\n",
    "from sklearn.tree import DecisionTreeClassifier\n",
    "\n",
    "from xgboost import XGBClassifier\n",
    "\n",
    "from imblearn.pipeline import Pipeline\n",
    "from imblearn.over_sampling import SMOTE\n",
    "\n",
    "\n",
    "pd.options.display.max_rows = 200\n",
    "pd.options.display.max_columns = 200\n",
    "sns.set_theme(style=\"white\")\n",
    "\n",
    "UNKNOWN = 'unknown'\n",
    "RANDOM_STATE = 2021"
   ]
  },
  {
   "cell_type": "markdown",
   "id": "2b9f1600",
   "metadata": {},
   "source": [
    "## Import protest data"
   ]
  },
  {
   "cell_type": "code",
   "execution_count": 3,
   "id": "b834e3ab",
   "metadata": {},
   "outputs": [],
   "source": [
    "engine_protests = create_engine('sqlite:///../data/processed/protests.db')\n",
    "\n",
    "\n",
    "with engine_protests.begin() as connection:\n",
    "    protests = pd.read_sql('SELECT * FROM protests', connection)\n",
    "    \n",
    "protests['startdate'] = pd.to_datetime(protests.startdate)\n",
    "protests['enddate'] = pd.to_datetime(protests.enddate)"
   ]
  },
  {
   "cell_type": "markdown",
   "id": "ededed99",
   "metadata": {},
   "source": [
    "## Narrow to select features"
   ]
  },
  {
   "cell_type": "code",
   "execution_count": 5,
   "id": "884cdd52",
   "metadata": {},
   "outputs": [],
   "source": [
    "response_cols = ['response_accomodation', 'response_arrests', 'response_beatings', \n",
    "                 'response_crowd-dispersal', 'response_ignore', 'response_killings', 'response_shootings']"
   ]
  },
  {
   "cell_type": "code",
   "execution_count": 7,
   "id": "ffa5f700",
   "metadata": {},
   "outputs": [
    {
     "name": "stdout",
     "output_type": "stream",
     "text": [
      "<class 'pandas.core.frame.DataFrame'>\n",
      "RangeIndex: 15208 entries, 0 to 15207\n",
      "Data columns (total 16 columns):\n",
      " #   Column                              Non-Null Count  Dtype \n",
      "---  ------                              --------------  ----- \n",
      " 0   protest_id                          15208 non-null  int64 \n",
      " 1   scode                               15208 non-null  object\n",
      " 2   region                              15208 non-null  object\n",
      " 3   protestnumber                       15208 non-null  int64 \n",
      " 4   protesterviolence                   15208 non-null  int64 \n",
      " 5   duration_days                       15208 non-null  int64 \n",
      " 6   participants                        15208 non-null  int64 \n",
      " 7   participants_category_manufactured  15208 non-null  object\n",
      " 8   demand_labor-wage-dispute           15208 non-null  int64 \n",
      " 9   demand_land-farm-issue              15208 non-null  int64 \n",
      " 10  demand_police-brutality             15208 non-null  int64 \n",
      " 11  demand_political-behavior/process   15208 non-null  int64 \n",
      " 12  demand_price-increases/tax-policy   15208 non-null  int64 \n",
      " 13  demand_removal-of-politician        15208 non-null  int64 \n",
      " 14  demand_social-restrictions          15208 non-null  int64 \n",
      " 15  year_scode                          15208 non-null  object\n",
      "dtypes: int64(12), object(4)\n",
      "memory usage: 1.9+ MB\n"
     ]
    }
   ],
   "source": [
    "model_inputs = protests.drop(response_cols+['protesteridentity', 'startdate', 'enddate', 'notes', 'participants_category_original', 'country'], axis=1)\n",
    "model_inputs.info()"
   ]
  },
  {
   "cell_type": "markdown",
   "id": "1d00491e",
   "metadata": {},
   "source": [
    "## Correlation matrix"
   ]
  },
  {
   "cell_type": "code",
   "execution_count": null,
   "id": "cd37c8e4",
   "metadata": {},
   "outputs": [],
   "source": [
    "# Compute the correlation matrix\n",
    "corr = model_inputs.corr()\n",
    "\n",
    "# Generate a mask for the upper triangle\n",
    "mask = np.triu(np.ones_like(corr, dtype=bool))\n",
    "plt.figure(figsize=(15, 10))\n",
    "\n",
    "# Generate a custom diverging colormap\n",
    "cmap = sns.diverging_palette(230, 20, as_cmap=True)\n",
    "\n",
    "# Draw the heatmap with the mask and correct aspect ratio\n",
    "sns.heatmap(corr, mask=mask, cmap=cmap, vmax=.3, center=0,\n",
    "            square=True, linewidths=.5, cbar_kws={\"shrink\": .5});"
   ]
  },
  {
   "cell_type": "code",
   "execution_count": null,
   "id": "03be1cbc",
   "metadata": {},
   "outputs": [],
   "source": [
    "violent_cols = ['response_beatings', 'response_killings', 'response_shootings']\n",
    "violent_response = protests[violent_cols].any(axis=1).astype('int')\n",
    "accommodation = protests['response_accomodation']\n",
    "\n",
    "y = violent_response #IMPORTANT LINE - CHOOSE WHICH TARGET TO USE\n",
    "x_train, x_test, y_train, y_test = train_test_split(model_inputs, y, random_state=RANDOM_STATE)"
   ]
  },
  {
   "cell_type": "code",
   "execution_count": null,
   "id": "13990f05",
   "metadata": {},
   "outputs": [],
   "source": [
    "model_inputs.protestnumber.hist(bins=20)"
   ]
  },
  {
   "cell_type": "code",
   "execution_count": null,
   "id": "787f69c7",
   "metadata": {},
   "outputs": [],
   "source": [
    "model_inputs.startyear.hist(bins=30)"
   ]
  },
  {
   "cell_type": "code",
   "execution_count": null,
   "id": "56c5cda8",
   "metadata": {},
   "outputs": [],
   "source": [
    "model_inputs.startmonth.hist(bins=12)"
   ]
  },
  {
   "cell_type": "code",
   "execution_count": null,
   "id": "936952c4",
   "metadata": {},
   "outputs": [],
   "source": [
    "model_inputs.startday.hist(bins=31)"
   ]
  },
  {
   "cell_type": "code",
   "execution_count": null,
   "id": "191aa6c7",
   "metadata": {},
   "outputs": [],
   "source": [
    "model_inputs.duration_days.hist()"
   ]
  },
  {
   "cell_type": "code",
   "execution_count": null,
   "id": "06562882",
   "metadata": {},
   "outputs": [],
   "source": [
    "model_inputs.duration_days.sort_values()[:14000].hist(bins=20)"
   ]
  },
  {
   "cell_type": "code",
   "execution_count": null,
   "id": "8bf61e21",
   "metadata": {},
   "outputs": [],
   "source": [
    "model_inputs.participants.hist(bins=25)"
   ]
  },
  {
   "cell_type": "code",
   "execution_count": null,
   "id": "23838588",
   "metadata": {},
   "outputs": [],
   "source": [
    "model_inputs.participants.sort_values()[:13000].hist(bins=25)"
   ]
  },
  {
   "cell_type": "code",
   "execution_count": null,
   "id": "9afe5104",
   "metadata": {},
   "outputs": [],
   "source": [
    "model_inputs.participants_category_manufactured.value_counts()"
   ]
  },
  {
   "cell_type": "code",
   "execution_count": null,
   "id": "998b9b6e",
   "metadata": {},
   "outputs": [],
   "source": [
    "demands = ['demand_labor-wage-dispute', 'demand_land-farm-issue', 'demand_police-brutality', 'demand_political-behavior/process', 'demand_price-increases/tax-policy', 'demand_removal-of-politician', 'demand_social-restrictions']\n",
    "\n",
    "model_inputs[demands].sum()"
   ]
  },
  {
   "cell_type": "code",
   "execution_count": null,
   "id": "bb94b971",
   "metadata": {},
   "outputs": [],
   "source": [
    "protests[response_cols].sum()"
   ]
  },
  {
   "cell_type": "code",
   "execution_count": null,
   "id": "55db5f82",
   "metadata": {},
   "outputs": [],
   "source": []
  }
 ],
 "metadata": {
  "kernelspec": {
   "display_name": "Python 3",
   "language": "python",
   "name": "python3"
  },
  "language_info": {
   "codemirror_mode": {
    "name": "ipython",
    "version": 3
   },
   "file_extension": ".py",
   "mimetype": "text/x-python",
   "name": "python",
   "nbconvert_exporter": "python",
   "pygments_lexer": "ipython3",
   "version": "3.8.3"
  }
 },
 "nbformat": 4,
 "nbformat_minor": 5
}
