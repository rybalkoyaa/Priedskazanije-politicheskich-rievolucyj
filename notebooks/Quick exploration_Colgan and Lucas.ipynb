{
 "cells": [
  {
   "cell_type": "code",
   "execution_count": 1,
   "id": "72eb8782",
   "metadata": {},
   "outputs": [],
   "source": [
    "import pandas as pd"
   ]
  },
  {
   "cell_type": "code",
   "execution_count": 2,
   "id": "3450c6cd",
   "metadata": {},
   "outputs": [],
   "source": [
    "df = pd.read_stata('../data/raw/Colgan and Lucas replication files/Colgan and Lucas replication - dyadic.dta')"
   ]
  },
  {
   "cell_type": "code",
   "execution_count": 3,
   "id": "d8aec31d",
   "metadata": {},
   "outputs": [
    {
     "name": "stdout",
     "output_type": "stream",
     "text": [
      "<class 'pandas.core.frame.DataFrame'>\n",
      "Int64Index: 1221602 entries, 0 to 1221601\n",
      "Data columns (total 40 columns):\n",
      " #   Column          Non-Null Count    Dtype  \n",
      "---  ------          --------------    -----  \n",
      " 0   ccode1          1221602 non-null  float64\n",
      " 1   ccode2          1221602 non-null  int16  \n",
      " 2   year            1221602 non-null  float64\n",
      " 3   rev2            922244 non-null   float64\n",
      " 4   rev1            922244 non-null   float64\n",
      " 5   chg_ally        1037092 non-null  float32\n",
      " 6   stronger_ally   1037092 non-null  float32\n",
      " 7   weaker_ally     1037092 non-null  float32\n",
      " 8   dirdyadID       1221602 non-null  float64\n",
      " 9   atopally0       1221602 non-null  int8   \n",
      " 10  arep_MBallSW    1221602 non-null  float32\n",
      " 11  aiis_bl         1187435 non-null  float32\n",
      " 12  S               1075296 non-null  float32\n",
      " 13  I               1056326 non-null  float32\n",
      " 14  jointenemy_dum  1221602 non-null  float32\n",
      " 15  sqrtdist        1220342 non-null  float32\n",
      " 16  mpctdum         1221602 non-null  int8   \n",
      " 17  poldif_using    962360 non-null   float32\n",
      " 18  pol5_using      1221602 non-null  float32\n",
      " 19  ddyad1          1221602 non-null  float32\n",
      " 20  revperiod3_1    922244 non-null   float32\n",
      " 21  revperiod3_2    922244 non-null   float32\n",
      " 22  revperiod5_1    922244 non-null   float32\n",
      " 23  revperiod5_2    922244 non-null   float32\n",
      " 24  adj_polity21    1082601 non-null  float64\n",
      " 25  interreg1       1221602 non-null  float32\n",
      " 26  transition1     1221602 non-null  float32\n",
      " 27  adj_polity22    1082601 non-null  float64\n",
      " 28  interreg2       1221602 non-null  float32\n",
      " 29  transition2     1221602 non-null  float32\n",
      " 30  pol7_using      962360 non-null   float32\n",
      " 31  reg1_1          1221602 non-null  int8   \n",
      " 32  reg2_1          1221602 non-null  int8   \n",
      " 33  reg3_1          1221602 non-null  int8   \n",
      " 34  reg4_1          1221602 non-null  int8   \n",
      " 35  reg5_1          1221602 non-null  int8   \n",
      " 36  reg6_1          1221602 non-null  int8   \n",
      " 37  reg7_1          1221602 non-null  int8   \n",
      " 38  reg8_1          1221602 non-null  int8   \n",
      " 39  ddyad2          1221602 non-null  float32\n",
      "dtypes: float32(22), float64(7), int16(1), int8(10)\n",
      "memory usage: 191.1 MB\n"
     ]
    }
   ],
   "source": [
    "df.info()"
   ]
  },
  {
   "cell_type": "code",
   "execution_count": 4,
   "id": "7c4529a5",
   "metadata": {},
   "outputs": [
    {
     "data": {
      "text/plain": [
       "array([1946., 1947., 1948., 1949., 1950., 1951., 1952., 1953., 1954.,\n",
       "       1955., 1956., 1957., 1958., 1959., 1960., 1961., 1962., 1963.,\n",
       "       1964., 1965., 1966., 1967., 1968., 1969., 1970., 1971., 1972.,\n",
       "       1973., 1974., 1975., 1976., 1977., 1978., 1979., 1980., 1981.,\n",
       "       1982., 1983., 1984., 1985., 1986., 1987., 1988., 1989., 1990.,\n",
       "       1991., 1992., 1993., 1994., 1995., 1996., 1997., 1998., 1999.,\n",
       "       2000., 2001., 2002., 2003., 2004.])"
      ]
     },
     "execution_count": 4,
     "metadata": {},
     "output_type": "execute_result"
    }
   ],
   "source": [
    "x = df.year.unique()\n",
    "x.sort()\n",
    "x"
   ]
  },
  {
   "cell_type": "code",
   "execution_count": 5,
   "id": "c77351c1",
   "metadata": {},
   "outputs": [
    {
     "ename": "FileNotFoundError",
     "evalue": "[Errno 2] No such file or directory: '../data/raw/Colgan and Lucas replication - event history.dta'",
     "output_type": "error",
     "traceback": [
      "\u001b[1;31m---------------------------------------------------------------------------\u001b[0m",
      "\u001b[1;31mFileNotFoundError\u001b[0m                         Traceback (most recent call last)",
      "\u001b[1;32m<ipython-input-5-0b80f40823b0>\u001b[0m in \u001b[0;36m<module>\u001b[1;34m\u001b[0m\n\u001b[1;32m----> 1\u001b[1;33m \u001b[0mdf2\u001b[0m \u001b[1;33m=\u001b[0m \u001b[0mpd\u001b[0m\u001b[1;33m.\u001b[0m\u001b[0mread_stata\u001b[0m\u001b[1;33m(\u001b[0m\u001b[1;34m'../data/raw/Colgan and Lucas replication - event history.dta'\u001b[0m\u001b[1;33m)\u001b[0m\u001b[1;33m\u001b[0m\u001b[1;33m\u001b[0m\u001b[0m\n\u001b[0m",
      "\u001b[1;32m~\\anaconda3\\lib\\site-packages\\pandas\\io\\stata.py\u001b[0m in \u001b[0;36mread_stata\u001b[1;34m(filepath_or_buffer, convert_dates, convert_categoricals, index_col, convert_missing, preserve_dtypes, columns, order_categoricals, chunksize, iterator, storage_options)\u001b[0m\n\u001b[0;32m   1896\u001b[0m ) -> Union[DataFrame, StataReader]:\n\u001b[0;32m   1897\u001b[0m \u001b[1;33m\u001b[0m\u001b[0m\n\u001b[1;32m-> 1898\u001b[1;33m     reader = StataReader(\n\u001b[0m\u001b[0;32m   1899\u001b[0m         \u001b[0mfilepath_or_buffer\u001b[0m\u001b[1;33m,\u001b[0m\u001b[1;33m\u001b[0m\u001b[1;33m\u001b[0m\u001b[0m\n\u001b[0;32m   1900\u001b[0m         \u001b[0mconvert_dates\u001b[0m\u001b[1;33m=\u001b[0m\u001b[0mconvert_dates\u001b[0m\u001b[1;33m,\u001b[0m\u001b[1;33m\u001b[0m\u001b[1;33m\u001b[0m\u001b[0m\n",
      "\u001b[1;32m~\\anaconda3\\lib\\site-packages\\pandas\\io\\stata.py\u001b[0m in \u001b[0;36m__init__\u001b[1;34m(self, path_or_buf, convert_dates, convert_categoricals, index_col, convert_missing, preserve_dtypes, columns, order_categoricals, chunksize, storage_options)\u001b[0m\n\u001b[0;32m   1054\u001b[0m \u001b[1;33m\u001b[0m\u001b[0m\n\u001b[0;32m   1055\u001b[0m         \u001b[0mself\u001b[0m\u001b[1;33m.\u001b[0m\u001b[0m_native_byteorder\u001b[0m \u001b[1;33m=\u001b[0m \u001b[0m_set_endianness\u001b[0m\u001b[1;33m(\u001b[0m\u001b[0msys\u001b[0m\u001b[1;33m.\u001b[0m\u001b[0mbyteorder\u001b[0m\u001b[1;33m)\u001b[0m\u001b[1;33m\u001b[0m\u001b[1;33m\u001b[0m\u001b[0m\n\u001b[1;32m-> 1056\u001b[1;33m         with get_handle(\n\u001b[0m\u001b[0;32m   1057\u001b[0m             \u001b[0mpath_or_buf\u001b[0m\u001b[1;33m,\u001b[0m\u001b[1;33m\u001b[0m\u001b[1;33m\u001b[0m\u001b[0m\n\u001b[0;32m   1058\u001b[0m             \u001b[1;34m\"rb\"\u001b[0m\u001b[1;33m,\u001b[0m\u001b[1;33m\u001b[0m\u001b[1;33m\u001b[0m\u001b[0m\n",
      "\u001b[1;32m~\\anaconda3\\lib\\site-packages\\pandas\\io\\common.py\u001b[0m in \u001b[0;36mget_handle\u001b[1;34m(path_or_buf, mode, encoding, compression, memory_map, is_text, errors, storage_options)\u001b[0m\n\u001b[0;32m    649\u001b[0m         \u001b[1;32melse\u001b[0m\u001b[1;33m:\u001b[0m\u001b[1;33m\u001b[0m\u001b[1;33m\u001b[0m\u001b[0m\n\u001b[0;32m    650\u001b[0m             \u001b[1;31m# Binary mode\u001b[0m\u001b[1;33m\u001b[0m\u001b[1;33m\u001b[0m\u001b[1;33m\u001b[0m\u001b[0m\n\u001b[1;32m--> 651\u001b[1;33m             \u001b[0mhandle\u001b[0m \u001b[1;33m=\u001b[0m \u001b[0mopen\u001b[0m\u001b[1;33m(\u001b[0m\u001b[0mhandle\u001b[0m\u001b[1;33m,\u001b[0m \u001b[0mioargs\u001b[0m\u001b[1;33m.\u001b[0m\u001b[0mmode\u001b[0m\u001b[1;33m)\u001b[0m\u001b[1;33m\u001b[0m\u001b[1;33m\u001b[0m\u001b[0m\n\u001b[0m\u001b[0;32m    652\u001b[0m         \u001b[0mhandles\u001b[0m\u001b[1;33m.\u001b[0m\u001b[0mappend\u001b[0m\u001b[1;33m(\u001b[0m\u001b[0mhandle\u001b[0m\u001b[1;33m)\u001b[0m\u001b[1;33m\u001b[0m\u001b[1;33m\u001b[0m\u001b[0m\n\u001b[0;32m    653\u001b[0m \u001b[1;33m\u001b[0m\u001b[0m\n",
      "\u001b[1;31mFileNotFoundError\u001b[0m: [Errno 2] No such file or directory: '../data/raw/Colgan and Lucas replication - event history.dta'"
     ]
    }
   ],
   "source": [
    "df2 = pd.read_stata('../data/raw/Colgan and Lucas replication - event history.dta')"
   ]
  },
  {
   "cell_type": "code",
   "execution_count": null,
   "id": "09d30d62",
   "metadata": {},
   "outputs": [],
   "source": [
    "df2.info()"
   ]
  },
  {
   "cell_type": "code",
   "execution_count": 6,
   "id": "217844b6",
   "metadata": {},
   "outputs": [
    {
     "ename": "NameError",
     "evalue": "name 'df2' is not defined",
     "output_type": "error",
     "traceback": [
      "\u001b[1;31m---------------------------------------------------------------------------\u001b[0m",
      "\u001b[1;31mNameError\u001b[0m                                 Traceback (most recent call last)",
      "\u001b[1;32m<ipython-input-6-11c56801ae9f>\u001b[0m in \u001b[0;36m<module>\u001b[1;34m\u001b[0m\n\u001b[1;32m----> 1\u001b[1;33m \u001b[0mt\u001b[0m \u001b[1;33m=\u001b[0m \u001b[0mdf2\u001b[0m\u001b[1;33m.\u001b[0m\u001b[0myear\u001b[0m\u001b[1;33m.\u001b[0m\u001b[0munique\u001b[0m\u001b[1;33m(\u001b[0m\u001b[1;33m)\u001b[0m\u001b[1;33m\u001b[0m\u001b[1;33m\u001b[0m\u001b[0m\n\u001b[0m\u001b[0;32m      2\u001b[0m \u001b[0mt\u001b[0m\u001b[1;33m.\u001b[0m\u001b[0msort\u001b[0m\u001b[1;33m(\u001b[0m\u001b[1;33m)\u001b[0m\u001b[1;33m\u001b[0m\u001b[1;33m\u001b[0m\u001b[0m\n\u001b[0;32m      3\u001b[0m \u001b[0mt\u001b[0m\u001b[1;33m\u001b[0m\u001b[1;33m\u001b[0m\u001b[0m\n",
      "\u001b[1;31mNameError\u001b[0m: name 'df2' is not defined"
     ]
    }
   ],
   "source": [
    "t = df2.year.unique()\n",
    "t.sort()\n",
    "t"
   ]
  },
  {
   "cell_type": "code",
   "execution_count": 16,
   "id": "1cd823c8",
   "metadata": {},
   "outputs": [
    {
     "data": {
      "text/plain": [
       "array([1946., 1947., 1948., 1949., 1950., 1951., 1952., 1953., 1954.,\n",
       "       1955., 1956., 1957., 1958., 1959., 1960., 1961., 1962., 1963.,\n",
       "       1964., 1965., 1966., 1967., 1968., 1969., 1970., 1971., 1972.,\n",
       "       1973., 1974., 1975., 1976., 1977., 1978., 1979., 1980., 1981.,\n",
       "       1982., 1983., 1984., 1985., 1986., 1987., 1988., 1989., 1990.,\n",
       "       1991., 1992., 1993., 1994., 1995., 1996., 1997., 1998., 1999.,\n",
       "       2000., 2001., 2002., 2003., 2004.])"
      ]
     },
     "execution_count": 16,
     "metadata": {},
     "output_type": "execute_result"
    }
   ],
   "source": [
    "x = df.year.unique()\n",
    "x.sort()\n",
    "x"
   ]
  }
 ],
 "metadata": {
  "kernelspec": {
   "display_name": "Python 3",
   "language": "python",
   "name": "python3"
  },
  "language_info": {
   "codemirror_mode": {
    "name": "ipython",
    "version": 3
   },
   "file_extension": ".py",
   "mimetype": "text/x-python",
   "name": "python",
   "nbconvert_exporter": "python",
   "pygments_lexer": "ipython3",
   "version": "3.8.3"
  }
 },
 "nbformat": 4,
 "nbformat_minor": 5
}
