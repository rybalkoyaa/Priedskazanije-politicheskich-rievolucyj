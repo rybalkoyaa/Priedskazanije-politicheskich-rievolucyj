{
 "cells": [
  {
   "cell_type": "code",
   "execution_count": 1,
   "id": "0e6930a6",
   "metadata": {},
   "outputs": [],
   "source": [
    "import numpy as np\n",
    "import pandas as pd\n",
    "import matplotlib.pyplot as plt\n",
    "import seaborn as sns\n",
    "\n",
    "\n",
    "from sqlalchemy import create_engine\n",
    "\n",
    "from sklearn.model_selection import train_test_split\n",
    "from sklearn.ensemble import RandomForestClassifier\n",
    "from sklearn.model_selection import GridSearchCV\n",
    "from sklearn.preprocessing import OneHotEncoder, StandardScaler\n",
    "from sklearn.compose import make_column_selector, make_column_transformer\n",
    "from sklearn.linear_model import LogisticRegression\n",
    "from sklearn.neighbors import KNeighborsClassifier\n",
    "from sklearn.tree import DecisionTreeClassifier\n",
    "\n",
    "from xgboost import XGBClassifier\n",
    "\n",
    "from imblearn.pipeline import Pipeline\n",
    "from imblearn.over_sampling import SMOTE\n",
    "\n",
    "\n",
    "pd.options.display.max_rows = 200\n",
    "pd.options.display.max_columns = 200\n",
    "sns.set_theme(style=\"white\")\n",
    "\n",
    "UNKNOWN = 'unknown'\n",
    "RANDOM_STATE = 2021"
   ]
  },
  {
   "cell_type": "markdown",
   "id": "b970f794",
   "metadata": {},
   "source": [
    "## Import protest data"
   ]
  },
  {
   "cell_type": "code",
   "execution_count": 2,
   "id": "d038c6b7",
   "metadata": {},
   "outputs": [
    {
     "ename": "AttributeError",
     "evalue": "'DataFrame' object has no attribute 'start_datetime'",
     "output_type": "error",
     "traceback": [
      "\u001b[1;31m---------------------------------------------------------------------------\u001b[0m",
      "\u001b[1;31mAttributeError\u001b[0m                            Traceback (most recent call last)",
      "\u001b[1;32m<ipython-input-2-a36fca975d8f>\u001b[0m in \u001b[0;36m<module>\u001b[1;34m\u001b[0m\n\u001b[0;32m      5\u001b[0m     \u001b[0mprotests\u001b[0m \u001b[1;33m=\u001b[0m \u001b[0mpd\u001b[0m\u001b[1;33m.\u001b[0m\u001b[0mread_sql\u001b[0m\u001b[1;33m(\u001b[0m\u001b[1;34m'SELECT * FROM protests'\u001b[0m\u001b[1;33m,\u001b[0m \u001b[0mconnection\u001b[0m\u001b[1;33m)\u001b[0m\u001b[1;33m\u001b[0m\u001b[1;33m\u001b[0m\u001b[0m\n\u001b[0;32m      6\u001b[0m \u001b[1;33m\u001b[0m\u001b[0m\n\u001b[1;32m----> 7\u001b[1;33m \u001b[0mprotests\u001b[0m\u001b[1;33m[\u001b[0m\u001b[1;34m'startdate'\u001b[0m\u001b[1;33m]\u001b[0m \u001b[1;33m=\u001b[0m \u001b[0mpd\u001b[0m\u001b[1;33m.\u001b[0m\u001b[0mto_datetime\u001b[0m\u001b[1;33m(\u001b[0m\u001b[0mprotests\u001b[0m\u001b[1;33m.\u001b[0m\u001b[0mstart_datetime\u001b[0m\u001b[1;33m)\u001b[0m\u001b[1;33m\u001b[0m\u001b[1;33m\u001b[0m\u001b[0m\n\u001b[0m\u001b[0;32m      8\u001b[0m \u001b[0mprotests\u001b[0m\u001b[1;33m[\u001b[0m\u001b[1;34m'enddate'\u001b[0m\u001b[1;33m]\u001b[0m \u001b[1;33m=\u001b[0m \u001b[0mpd\u001b[0m\u001b[1;33m.\u001b[0m\u001b[0mto_datetime\u001b[0m\u001b[1;33m(\u001b[0m\u001b[0mprotests\u001b[0m\u001b[1;33m.\u001b[0m\u001b[0mend_datetime\u001b[0m\u001b[1;33m)\u001b[0m\u001b[1;33m\u001b[0m\u001b[1;33m\u001b[0m\u001b[0m\n",
      "\u001b[1;32m~\\anaconda3\\lib\\site-packages\\pandas\\core\\generic.py\u001b[0m in \u001b[0;36m__getattr__\u001b[1;34m(self, name)\u001b[0m\n\u001b[0;32m   5463\u001b[0m             \u001b[1;32mif\u001b[0m \u001b[0mself\u001b[0m\u001b[1;33m.\u001b[0m\u001b[0m_info_axis\u001b[0m\u001b[1;33m.\u001b[0m\u001b[0m_can_hold_identifiers_and_holds_name\u001b[0m\u001b[1;33m(\u001b[0m\u001b[0mname\u001b[0m\u001b[1;33m)\u001b[0m\u001b[1;33m:\u001b[0m\u001b[1;33m\u001b[0m\u001b[1;33m\u001b[0m\u001b[0m\n\u001b[0;32m   5464\u001b[0m                 \u001b[1;32mreturn\u001b[0m \u001b[0mself\u001b[0m\u001b[1;33m[\u001b[0m\u001b[0mname\u001b[0m\u001b[1;33m]\u001b[0m\u001b[1;33m\u001b[0m\u001b[1;33m\u001b[0m\u001b[0m\n\u001b[1;32m-> 5465\u001b[1;33m             \u001b[1;32mreturn\u001b[0m \u001b[0mobject\u001b[0m\u001b[1;33m.\u001b[0m\u001b[0m__getattribute__\u001b[0m\u001b[1;33m(\u001b[0m\u001b[0mself\u001b[0m\u001b[1;33m,\u001b[0m \u001b[0mname\u001b[0m\u001b[1;33m)\u001b[0m\u001b[1;33m\u001b[0m\u001b[1;33m\u001b[0m\u001b[0m\n\u001b[0m\u001b[0;32m   5466\u001b[0m \u001b[1;33m\u001b[0m\u001b[0m\n\u001b[0;32m   5467\u001b[0m     \u001b[1;32mdef\u001b[0m \u001b[0m__setattr__\u001b[0m\u001b[1;33m(\u001b[0m\u001b[0mself\u001b[0m\u001b[1;33m,\u001b[0m \u001b[0mname\u001b[0m\u001b[1;33m:\u001b[0m \u001b[0mstr\u001b[0m\u001b[1;33m,\u001b[0m \u001b[0mvalue\u001b[0m\u001b[1;33m)\u001b[0m \u001b[1;33m->\u001b[0m \u001b[1;32mNone\u001b[0m\u001b[1;33m:\u001b[0m\u001b[1;33m\u001b[0m\u001b[1;33m\u001b[0m\u001b[0m\n",
      "\u001b[1;31mAttributeError\u001b[0m: 'DataFrame' object has no attribute 'start_datetime'"
     ]
    }
   ],
   "source": [
    "engine_protests = create_engine('sqlite:///../data/processed/protests.db')\n",
    "\n",
    "\n",
    "with engine_protests.begin() as connection:\n",
    "    protests = pd.read_sql('SELECT * FROM protests', connection)\n",
    "    \n",
    "protests['startdate'] = pd.to_datetime(protests.start_datetime)\n",
    "protests['enddate'] = pd.to_datetime(protests.end_datetime)"
   ]
  },
  {
   "cell_type": "markdown",
   "id": "3a589cde",
   "metadata": {},
   "source": [
    "## Narrow to select features"
   ]
  },
  {
   "cell_type": "code",
   "execution_count": null,
   "id": "196211de",
   "metadata": {},
   "outputs": [],
   "source": [
    "response_cols = ['response_accomodation', 'response_arrests', 'response_beatings', \n",
    "                 'response_crowd-dispersal', 'response_ignore', 'response_killings', 'response_shootings']"
   ]
  },
  {
   "cell_type": "code",
   "execution_count": null,
   "id": "831937e2",
   "metadata": {},
   "outputs": [],
   "source": [
    "model_inputs = protests.drop(response_cols+['id', 'location', 'protesteridentity', 'start_datetime', 'end_datetime', 'sources', 'notes', 'endday', 'endmonth', 'endyear', 'participants_category_original', 'country'], axis=1)\n",
    "model_inputs.info()"
   ]
  },
  {
   "cell_type": "markdown",
   "id": "18c11564",
   "metadata": {},
   "source": [
    "## Correlation matrix"
   ]
  },
  {
   "cell_type": "code",
   "execution_count": null,
   "id": "60fb5f62",
   "metadata": {},
   "outputs": [],
   "source": [
    "# Compute the correlation matrix\n",
    "corr = model_inputs.corr()\n",
    "\n",
    "# Generate a mask for the upper triangle\n",
    "mask = np.triu(np.ones_like(corr, dtype=bool))\n",
    "plt.figure(figsize=(15, 10))\n",
    "\n",
    "# Generate a custom diverging colormap\n",
    "cmap = sns.diverging_palette(230, 20, as_cmap=True)\n",
    "\n",
    "# Draw the heatmap with the mask and correct aspect ratio\n",
    "sns.heatmap(corr, mask=mask, cmap=cmap, vmax=.3, center=0,\n",
    "            square=True, linewidths=.5, cbar_kws={\"shrink\": .5});"
   ]
  },
  {
   "cell_type": "code",
   "execution_count": null,
   "id": "7cb4fd26",
   "metadata": {},
   "outputs": [],
   "source": [
    "violent_cols = ['response_beatings', 'response_killings', 'response_shootings']\n",
    "violent_response = protests[violent_cols].any(axis=1).astype('int')\n",
    "accommodation = protests['response_accomodation']\n",
    "\n",
    "y = violent_response #IMPORTANT LINE - CHOOSE WHICH TARGET TO USE\n",
    "x_train, x_test, y_train, y_test = train_test_split(model_inputs, y, random_state=RANDOM_STATE)"
   ]
  },
  {
   "cell_type": "code",
   "execution_count": null,
   "id": "945dcf7c",
   "metadata": {},
   "outputs": [],
   "source": [
    "model_inputs.protestnumber.hist(bins=20)"
   ]
  },
  {
   "cell_type": "code",
   "execution_count": null,
   "id": "0644c594",
   "metadata": {},
   "outputs": [],
   "source": [
    "model_inputs.startyear.hist(bins=30)"
   ]
  },
  {
   "cell_type": "code",
   "execution_count": null,
   "id": "3a48e008",
   "metadata": {},
   "outputs": [],
   "source": [
    "model_inputs.startmonth.hist(bins=12)"
   ]
  },
  {
   "cell_type": "code",
   "execution_count": null,
   "id": "1cb22c5e",
   "metadata": {},
   "outputs": [],
   "source": [
    "model_inputs.startday.hist(bins=31)"
   ]
  },
  {
   "cell_type": "code",
   "execution_count": null,
   "id": "113a230c",
   "metadata": {},
   "outputs": [],
   "source": [
    "model_inputs.duration_days.hist()"
   ]
  },
  {
   "cell_type": "code",
   "execution_count": null,
   "id": "92313b2d",
   "metadata": {},
   "outputs": [],
   "source": [
    "model_inputs.duration_days.sort_values()[:14000].hist(bins=20)"
   ]
  },
  {
   "cell_type": "code",
   "execution_count": null,
   "id": "e6b3b819",
   "metadata": {},
   "outputs": [],
   "source": [
    "model_inputs.participants.hist(bins=25)"
   ]
  },
  {
   "cell_type": "code",
   "execution_count": null,
   "id": "cfd70273",
   "metadata": {},
   "outputs": [],
   "source": [
    "model_inputs.participants.sort_values()[:13000].hist(bins=25)"
   ]
  },
  {
   "cell_type": "code",
   "execution_count": null,
   "id": "f3164352",
   "metadata": {},
   "outputs": [],
   "source": [
    "model_inputs.participants_category_manufactured.value_counts()"
   ]
  },
  {
   "cell_type": "code",
   "execution_count": null,
   "id": "a7417d8c",
   "metadata": {},
   "outputs": [],
   "source": [
    "demands = ['demand_labor-wage-dispute', 'demand_land-farm-issue', 'demand_police-brutality', 'demand_political-behavior/process', 'demand_price-increases/tax-policy', 'demand_removal-of-politician', 'demand_social-restrictions']\n",
    "\n",
    "model_inputs[demands].sum()"
   ]
  },
  {
   "cell_type": "code",
   "execution_count": null,
   "id": "2307e13d",
   "metadata": {},
   "outputs": [],
   "source": [
    "protests[response_cols].sum()"
   ]
  },
  {
   "cell_type": "code",
   "execution_count": null,
   "id": "27d774a7",
   "metadata": {},
   "outputs": [],
   "source": []
  }
 ],
 "metadata": {
  "kernelspec": {
   "display_name": "Python 3",
   "language": "python",
   "name": "python3"
  },
  "language_info": {
   "codemirror_mode": {
    "name": "ipython",
    "version": 3
   },
   "file_extension": ".py",
   "mimetype": "text/x-python",
   "name": "python",
   "nbconvert_exporter": "python",
   "pygments_lexer": "ipython3",
   "version": "3.8.3"
  }
 },
 "nbformat": 4,
 "nbformat_minor": 5
}
