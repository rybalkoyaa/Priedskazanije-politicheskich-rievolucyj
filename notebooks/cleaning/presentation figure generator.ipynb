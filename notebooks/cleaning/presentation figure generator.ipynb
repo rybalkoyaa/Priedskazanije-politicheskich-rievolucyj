{
 "cells": [
  {
   "cell_type": "code",
   "execution_count": 42,
   "id": "e396b19e",
   "metadata": {},
   "outputs": [],
   "source": [
    "import pandas as pd\n",
    "import matplotlib.pyplot as plt\n",
    "import shap\n",
    "import pickle\n",
    "\n",
    "%load_ext autoreload\n",
    "%autoreload 2\n",
    "import sys\n",
    "\n",
    "sys.path.insert(1, \"../src\")\n",
    "from custom_plots import *"
   ]
  },
  {
   "cell_type": "code",
   "execution_count": 43,
   "id": "6c781968",
   "metadata": {},
   "outputs": [],
   "source": [
    "performance = {\n",
    "    \"XG Boost\": 0.7951,\n",
    "    \"K-Nearest Neighbors\": 0.5447,\n",
    "    \"Random Forest\": 0.4753,\n",
    "    \"Decision Tree\": 0.4162,\n",
    "    \"Logistic Regression\": 0.3942,\n",
    "    \"Ada Boost\": 0.3880,\n",
    "    \"Gaussian / Bayesian\": 0.2415,\n",
    "}"
   ]
  },
  {
   "cell_type": "code",
   "execution_count": 44,
   "id": "52b1f037",
   "metadata": {},
   "outputs": [
    {
     "data": {
      "image/png": "[encoded data removed]",
      "text/plain": [
       "<Figure size 432x288 with 1 Axes>"
      ]
     },
     "metadata": {
      "needs_background": "light"
     },
     "output_type": "display_data"
    }
   ],
   "source": [
    "plt.figure()\n",
    "plt.barh(list(performance.keys()), list(performance.values()))\n",
    "plt.title(\"Model Performance by Type\")\n",
    "plt.xlabel(\"F1 Score\")\n",
    "plt.savefig(\"../images/model_performance_by_type.png\", bbox_inches=\"tight\")"
   ]
  },
  {
   "cell_type": "code",
   "execution_count": 47,
   "id": "86fadf19",
   "metadata": {},
   "outputs": [
    {
     "ename": "NameError",
     "evalue": "name 'x_test' is not defined",
     "output_type": "error",
     "traceback": [
      "\u001b[1;31m---------------------------------------------------------------------------\u001b[0m",
      "\u001b[1;31mNameError\u001b[0m                                 Traceback (most recent call last)",
      "\u001b[1;32m<ipython-input-47-072674ae9411>\u001b[0m in \u001b[0;36m<module>\u001b[1;34m\u001b[0m\n\u001b[0;32m      1\u001b[0m \u001b[1;31m# Print metrics\u001b[0m\u001b[1;33m\u001b[0m\u001b[1;33m\u001b[0m\u001b[1;33m\u001b[0m\u001b[0m\n\u001b[1;32m----> 2\u001b[1;33m \u001b[0mprediction\u001b[0m \u001b[1;33m=\u001b[0m \u001b[0mmodel_xgb\u001b[0m\u001b[1;33m.\u001b[0m\u001b[0mpredict\u001b[0m\u001b[1;33m(\u001b[0m\u001b[0mx_test\u001b[0m\u001b[1;33m)\u001b[0m\u001b[1;33m\u001b[0m\u001b[1;33m\u001b[0m\u001b[0m\n\u001b[0m\u001b[0;32m      3\u001b[0m \u001b[0mprint_scores\u001b[0m\u001b[1;33m(\u001b[0m\u001b[0mprediction\u001b[0m\u001b[1;33m,\u001b[0m \u001b[0my_test\u001b[0m\u001b[1;33m)\u001b[0m\u001b[1;33m\u001b[0m\u001b[1;33m\u001b[0m\u001b[0m\n",
      "\u001b[1;31mNameError\u001b[0m: name 'x_test' is not defined"
     ]
    }
   ],
   "source": [
    "# Print metrics\n",
    "prediction = model_xgb.predict(x_test)\n",
    "print_scores(prediction, y_test)"
   ]
  },
  {
   "cell_type": "code",
   "execution_count": 46,
   "id": "ed24d0ff",
   "metadata": {},
   "outputs": [
    {
     "ename": "NameError",
     "evalue": "name 'x_train' is not defined",
     "output_type": "error",
     "traceback": [
      "\u001b[1;31m---------------------------------------------------------------------------\u001b[0m",
      "\u001b[1;31mNameError\u001b[0m                                 Traceback (most recent call last)",
      "\u001b[1;32m<ipython-input-46-ceea724a2e34>\u001b[0m in \u001b[0;36m<module>\u001b[1;34m\u001b[0m\n\u001b[0;32m     38\u001b[0m         \u001b[1;34m'gq'\u001b[0m\u001b[1;33m:\u001b[0m \u001b[1;34m'gender_quota'\u001b[0m\u001b[1;33m,\u001b[0m\u001b[1;33m\u001b[0m\u001b[1;33m\u001b[0m\u001b[0m\n\u001b[0;32m     39\u001b[0m         'legelec': 'election_this_yr'}\n\u001b[1;32m---> 40\u001b[1;33m \u001b[0mx_train_renamed\u001b[0m \u001b[1;33m=\u001b[0m \u001b[0mx_train\u001b[0m\u001b[1;33m.\u001b[0m\u001b[0mrename\u001b[0m\u001b[1;33m(\u001b[0m\u001b[0mrenamer\u001b[0m\u001b[1;33m,\u001b[0m \u001b[0maxis\u001b[0m\u001b[1;33m=\u001b[0m\u001b[1;36m1\u001b[0m\u001b[1;33m)\u001b[0m\u001b[1;33m\u001b[0m\u001b[1;33m\u001b[0m\u001b[0m\n\u001b[0m\u001b[0;32m     41\u001b[0m \u001b[0mx_test_renamed\u001b[0m \u001b[1;33m=\u001b[0m \u001b[0mx_test\u001b[0m\u001b[1;33m.\u001b[0m\u001b[0mrename\u001b[0m\u001b[1;33m(\u001b[0m\u001b[0mrenamer\u001b[0m\u001b[1;33m,\u001b[0m \u001b[0maxis\u001b[0m\u001b[1;33m=\u001b[0m\u001b[1;36m1\u001b[0m\u001b[1;33m)\u001b[0m\u001b[1;33m\u001b[0m\u001b[1;33m\u001b[0m\u001b[0m\n\u001b[0;32m     42\u001b[0m \u001b[0mmodel_xgb\u001b[0m\u001b[1;33m.\u001b[0m\u001b[0mfit\u001b[0m\u001b[1;33m(\u001b[0m\u001b[0mx_train_renamed\u001b[0m\u001b[1;33m,\u001b[0m \u001b[0my_train\u001b[0m\u001b[1;33m)\u001b[0m\u001b[1;33m\u001b[0m\u001b[1;33m\u001b[0m\u001b[0m\n",
      "\u001b[1;31mNameError\u001b[0m: name 'x_train' is not defined"
     ]
    }
   ],
   "source": [
    "def produce_shap_plot(\n",
    "    df_train, target_train, df_test, target_test, model_shap, title=None, savepath=None\n",
    "):\n",
    "    df_train, target_train, df_test = get_shap_df(df_train, target_train, df_test)\n",
    "    model_shap = model_shap.steps[2][1]\n",
    "    model_shap.fit(df_train, target_train)\n",
    "    pred = model_shap.predict(df_test)\n",
    "\n",
    "    # Produce shap values\n",
    "    explainer = shap.TreeExplainer(model_shap)\n",
    "    shap_values = explainer.shap_values(df_test)\n",
    "\n",
    "    # Plot findings\n",
    "    plt.figure()\n",
    "    shap.summary_plot(\n",
    "        shap_values, df_test, show=False, plot_size=(12, 8), max_display=12\n",
    "    )\n",
    "\n",
    "    # Add figure title if provided by user\n",
    "    if title:\n",
    "        plt.title(title, fontsize=16)\n",
    "\n",
    "    if savepath:\n",
    "        plt.savefig(savepath, bbox_inches=\"tight\")\n",
    "\n",
    "    plt.show()\n",
    "\n",
    "\n",
    "with open(\"../data/processed/model_xgb.pickle\", \"rb\") as f:\n",
    "    model_xgb = pickle.load(f)\n",
    "\n",
    "\n",
    "renamer = {\n",
    "    \"xconst\": \"executive_constraints\",\n",
    "    \"protestnumber_log\": \"protests_year_prior\",\n",
    "    \"tensys_strict\": \"duration_of_govt_type\",\n",
    "    \"yrsoffc\": \"duration_of_exec_tenure\",\n",
    "    \"totalseats\": \"seats_in_govt\",\n",
    "    \"maj\": \"margin_of_majority\",\n",
    "    \"numvote\": \"vote_share_leaders\",\n",
    "    \"participants\": \"protest_participant_ct\",\n",
    "    \"herfgov\": \"herfindahl_index\",\n",
    "    \"gq\": \"gender_quota\",\n",
    "    \"legelec\": \"election_this_yr\",\n",
    "}\n",
    "x_train_renamed = x_train.rename(renamer, axis=1)\n",
    "x_test_renamed = x_test.rename(renamer, axis=1)\n",
    "model_xgb.fit(x_train_renamed, y_train)\n",
    "\n",
    "produce_shap_plot(\n",
    "    x_train_renamed,\n",
    "    y_train,\n",
    "    x_test_renamed,\n",
    "    y_test,\n",
    "    clone(model_xgb),\n",
    "    title=\"Feature Importance\",\n",
    "    savepath=\"../images/shap_summary_plot_renamed.png\",\n",
    ");\n",
    "\n",
    "\n",
    "# shap.summary_plot(shap_values, df_test, show=False, plot_size=(16, 12))"
   ]
  },
  {
   "cell_type": "code",
   "execution_count": null,
   "id": "55e2b732",
   "metadata": {},
   "outputs": [],
   "source": []
  },
  {
   "cell_type": "code",
   "execution_count": null,
   "id": "2f04fcb6",
   "metadata": {},
   "outputs": [],
   "source": []
  }
 ],
 "metadata": {
  "kernelspec": {
   "display_name": "Python 3",
   "language": "python",
   "name": "python3"
  },
  "language_info": {
   "codemirror_mode": {
    "name": "ipython",
    "version": 3
   },
   "file_extension": ".py",
   "mimetype": "text/x-python",
   "name": "python",
   "nbconvert_exporter": "python",
   "pygments_lexer": "ipython3",
   "version": "3.8.3"
  }
 },
 "nbformat": 4,
 "nbformat_minor": 5
}
