{
 "cells": [
  {
   "cell_type": "code",
   "execution_count": 1,
   "id": "222a5ebd",
   "metadata": {},
   "outputs": [],
   "source": [
    "import numpy as np\n",
    "import pandas as pd\n",
    "import matplotlib.pyplot as plt\n",
    "import seaborn as sns\n",
    "\n",
    "\n",
    "from sqlalchemy import create_engine\n",
    "\n",
    "from sklearn.model_selection import train_test_split\n",
    "from sklearn.ensemble import RandomForestClassifier\n",
    "from sklearn.model_selection import GridSearchCV\n",
    "from sklearn.preprocessing import OneHotEncoder, StandardScaler\n",
    "from sklearn.compose import make_column_selector, make_column_transformer\n",
    "from sklearn.linear_model import LogisticRegression\n",
    "from sklearn.neighbors import KNeighborsClassifier\n",
    "from sklearn.tree import DecisionTreeClassifier\n",
    "\n",
    "from xgboost import XGBClassifier\n",
    "\n",
    "from imblearn.pipeline import Pipeline\n",
    "from imblearn.over_sampling import SMOTE\n",
    "\n",
    "\n",
    "pd.options.display.max_rows = 200\n",
    "pd.options.display.max_columns = 200\n",
    "sns.set_theme(style=\"white\")\n",
    "\n",
    "UNKNOWN = 'unknown'\n",
    "RANDOM_STATE = 2021"
   ]
  },
  {
   "cell_type": "markdown",
   "id": "e5baa63e",
   "metadata": {},
   "source": [
    "## Import protest data"
   ]
  },
  {
   "cell_type": "code",
   "execution_count": 2,
   "id": "71ad75d4",
   "metadata": {},
   "outputs": [],
   "source": [
    "engine_protests = create_engine('sqlite:///../data/processed/protests.db')\n",
    "\n",
    "\n",
    "with engine_protests.begin() as connection:\n",
    "    protests = pd.read_sql('SELECT * FROM protests', connection)\n",
    "    \n",
    "protests['start_datetime'] = pd.to_datetime(protests.start_datetime)\n",
    "protests['end_datetime'] = pd.to_datetime(protests.end_datetime)"
   ]
  },
  {
   "cell_type": "code",
   "execution_count": 3,
   "id": "904e67a2",
   "metadata": {},
   "outputs": [
    {
     "data": {
      "text/html": [
       "<div>\n",
       "<style scoped>\n",
       "    .dataframe tbody tr th:only-of-type {\n",
       "        vertical-align: middle;\n",
       "    }\n",
       "\n",
       "    .dataframe tbody tr th {\n",
       "        vertical-align: top;\n",
       "    }\n",
       "\n",
       "    .dataframe thead th {\n",
       "        text-align: right;\n",
       "    }\n",
       "</style>\n",
       "<table border=\"1\" class=\"dataframe\">\n",
       "  <thead>\n",
       "    <tr style=\"text-align: right;\">\n",
       "      <th></th>\n",
       "      <th>id</th>\n",
       "      <th>country</th>\n",
       "      <th>location</th>\n",
       "      <th>region</th>\n",
       "      <th>protestnumber</th>\n",
       "      <th>protesterviolence</th>\n",
       "      <th>protesteridentity</th>\n",
       "      <th>startyear</th>\n",
       "      <th>startmonth</th>\n",
       "      <th>startday</th>\n",
       "      <th>endyear</th>\n",
       "      <th>endmonth</th>\n",
       "      <th>endday</th>\n",
       "      <th>start_datetime</th>\n",
       "      <th>end_datetime</th>\n",
       "      <th>duration_days</th>\n",
       "      <th>participants</th>\n",
       "      <th>participants_category_original</th>\n",
       "      <th>participants_category_manufactured</th>\n",
       "      <th>sources</th>\n",
       "      <th>notes</th>\n",
       "      <th>demand_labor-wage-dispute</th>\n",
       "      <th>demand_land-farm-issue</th>\n",
       "      <th>demand_police-brutality</th>\n",
       "      <th>demand_political-behavior/process</th>\n",
       "      <th>demand_price-increases/tax-policy</th>\n",
       "      <th>demand_removal-of-politician</th>\n",
       "      <th>demand_social-restrictions</th>\n",
       "      <th>response_accomodation</th>\n",
       "      <th>response_arrests</th>\n",
       "      <th>response_beatings</th>\n",
       "      <th>response_crowd-dispersal</th>\n",
       "      <th>response_ignore</th>\n",
       "      <th>response_killings</th>\n",
       "      <th>response_shootings</th>\n",
       "    </tr>\n",
       "  </thead>\n",
       "  <tbody>\n",
       "    <tr>\n",
       "      <th>0</th>\n",
       "      <td>201990001</td>\n",
       "      <td>Canada</td>\n",
       "      <td>national</td>\n",
       "      <td>North America</td>\n",
       "      <td>1</td>\n",
       "      <td>0</td>\n",
       "      <td>unknown</td>\n",
       "      <td>1990</td>\n",
       "      <td>1</td>\n",
       "      <td>15</td>\n",
       "      <td>1990</td>\n",
       "      <td>1</td>\n",
       "      <td>15</td>\n",
       "      <td>1990-01-15</td>\n",
       "      <td>1990-01-15</td>\n",
       "      <td>0</td>\n",
       "      <td>1000</td>\n",
       "      <td>unknown</td>\n",
       "      <td>1000-1999</td>\n",
       "      <td>1. great canadian train journeys into history;...</td>\n",
       "      <td>canada s railway passenger system was finally ...</td>\n",
       "      <td>1</td>\n",
       "      <td>0</td>\n",
       "      <td>0</td>\n",
       "      <td>1</td>\n",
       "      <td>0</td>\n",
       "      <td>0</td>\n",
       "      <td>0</td>\n",
       "      <td>0</td>\n",
       "      <td>0</td>\n",
       "      <td>0</td>\n",
       "      <td>0</td>\n",
       "      <td>1</td>\n",
       "      <td>0</td>\n",
       "      <td>0</td>\n",
       "    </tr>\n",
       "    <tr>\n",
       "      <th>1</th>\n",
       "      <td>201990002</td>\n",
       "      <td>Canada</td>\n",
       "      <td>Montreal, Quebec</td>\n",
       "      <td>North America</td>\n",
       "      <td>2</td>\n",
       "      <td>0</td>\n",
       "      <td>unknown</td>\n",
       "      <td>1990</td>\n",
       "      <td>6</td>\n",
       "      <td>25</td>\n",
       "      <td>1990</td>\n",
       "      <td>6</td>\n",
       "      <td>25</td>\n",
       "      <td>1990-06-25</td>\n",
       "      <td>1990-06-25</td>\n",
       "      <td>0</td>\n",
       "      <td>1000</td>\n",
       "      <td>unknown</td>\n",
       "      <td>1000-1999</td>\n",
       "      <td>1. autonomy s cry revived in quebec the new yo...</td>\n",
       "      <td>protestors were only identified as young peopl...</td>\n",
       "      <td>0</td>\n",
       "      <td>0</td>\n",
       "      <td>0</td>\n",
       "      <td>1</td>\n",
       "      <td>0</td>\n",
       "      <td>0</td>\n",
       "      <td>0</td>\n",
       "      <td>0</td>\n",
       "      <td>0</td>\n",
       "      <td>0</td>\n",
       "      <td>0</td>\n",
       "      <td>1</td>\n",
       "      <td>0</td>\n",
       "      <td>0</td>\n",
       "    </tr>\n",
       "    <tr>\n",
       "      <th>2</th>\n",
       "      <td>201990003</td>\n",
       "      <td>Canada</td>\n",
       "      <td>Montreal, Quebec</td>\n",
       "      <td>North America</td>\n",
       "      <td>3</td>\n",
       "      <td>0</td>\n",
       "      <td>separatist parti quebecois</td>\n",
       "      <td>1990</td>\n",
       "      <td>7</td>\n",
       "      <td>1</td>\n",
       "      <td>1990</td>\n",
       "      <td>7</td>\n",
       "      <td>1</td>\n",
       "      <td>1990-07-01</td>\n",
       "      <td>1990-07-01</td>\n",
       "      <td>0</td>\n",
       "      <td>500</td>\n",
       "      <td>unknown</td>\n",
       "      <td>100-999</td>\n",
       "      <td>1. quebec protest after queen calls for unity ...</td>\n",
       "      <td>the queen, after calling on canadians to remai...</td>\n",
       "      <td>0</td>\n",
       "      <td>0</td>\n",
       "      <td>0</td>\n",
       "      <td>1</td>\n",
       "      <td>0</td>\n",
       "      <td>0</td>\n",
       "      <td>0</td>\n",
       "      <td>0</td>\n",
       "      <td>0</td>\n",
       "      <td>0</td>\n",
       "      <td>0</td>\n",
       "      <td>1</td>\n",
       "      <td>0</td>\n",
       "      <td>0</td>\n",
       "    </tr>\n",
       "  </tbody>\n",
       "</table>\n",
       "</div>"
      ],
      "text/plain": [
       "          id country          location         region  protestnumber  \\\n",
       "0  201990001  Canada          national  North America              1   \n",
       "1  201990002  Canada  Montreal, Quebec  North America              2   \n",
       "2  201990003  Canada  Montreal, Quebec  North America              3   \n",
       "\n",
       "   protesterviolence           protesteridentity  startyear  startmonth  \\\n",
       "0                  0                     unknown       1990           1   \n",
       "1                  0                     unknown       1990           6   \n",
       "2                  0  separatist parti quebecois       1990           7   \n",
       "\n",
       "   startday  endyear  endmonth  endday start_datetime end_datetime  \\\n",
       "0        15     1990         1      15     1990-01-15   1990-01-15   \n",
       "1        25     1990         6      25     1990-06-25   1990-06-25   \n",
       "2         1     1990         7       1     1990-07-01   1990-07-01   \n",
       "\n",
       "   duration_days  participants participants_category_original  \\\n",
       "0              0          1000                        unknown   \n",
       "1              0          1000                        unknown   \n",
       "2              0           500                        unknown   \n",
       "\n",
       "  participants_category_manufactured  \\\n",
       "0                          1000-1999   \n",
       "1                          1000-1999   \n",
       "2                            100-999   \n",
       "\n",
       "                                             sources  \\\n",
       "0  1. great canadian train journeys into history;...   \n",
       "1  1. autonomy s cry revived in quebec the new yo...   \n",
       "2  1. quebec protest after queen calls for unity ...   \n",
       "\n",
       "                                               notes  \\\n",
       "0  canada s railway passenger system was finally ...   \n",
       "1  protestors were only identified as young peopl...   \n",
       "2  the queen, after calling on canadians to remai...   \n",
       "\n",
       "   demand_labor-wage-dispute  demand_land-farm-issue  demand_police-brutality  \\\n",
       "0                          1                       0                        0   \n",
       "1                          0                       0                        0   \n",
       "2                          0                       0                        0   \n",
       "\n",
       "   demand_political-behavior/process  demand_price-increases/tax-policy  \\\n",
       "0                                  1                                  0   \n",
       "1                                  1                                  0   \n",
       "2                                  1                                  0   \n",
       "\n",
       "   demand_removal-of-politician  demand_social-restrictions  \\\n",
       "0                             0                           0   \n",
       "1                             0                           0   \n",
       "2                             0                           0   \n",
       "\n",
       "   response_accomodation  response_arrests  response_beatings  \\\n",
       "0                      0                 0                  0   \n",
       "1                      0                 0                  0   \n",
       "2                      0                 0                  0   \n",
       "\n",
       "   response_crowd-dispersal  response_ignore  response_killings  \\\n",
       "0                         0                1                  0   \n",
       "1                         0                1                  0   \n",
       "2                         0                1                  0   \n",
       "\n",
       "   response_shootings  \n",
       "0                   0  \n",
       "1                   0  \n",
       "2                   0  "
      ]
     },
     "execution_count": 3,
     "metadata": {},
     "output_type": "execute_result"
    }
   ],
   "source": [
    "protests.head(3)"
   ]
  },
  {
   "cell_type": "markdown",
   "id": "c40fb8d9",
   "metadata": {},
   "source": [
    "## Narrow to select features"
   ]
  },
  {
   "cell_type": "code",
   "execution_count": 4,
   "id": "ee65dd7f",
   "metadata": {},
   "outputs": [
    {
     "name": "stdout",
     "output_type": "stream",
     "text": [
      "<class 'pandas.core.frame.DataFrame'>\n",
      "RangeIndex: 15208 entries, 0 to 15207\n",
      "Data columns (total 35 columns):\n",
      " #   Column                              Non-Null Count  Dtype         \n",
      "---  ------                              --------------  -----         \n",
      " 0   id                                  15208 non-null  int64         \n",
      " 1   country                             15208 non-null  object        \n",
      " 2   location                            15208 non-null  object        \n",
      " 3   region                              15208 non-null  object        \n",
      " 4   protestnumber                       15208 non-null  int64         \n",
      " 5   protesterviolence                   15208 non-null  int64         \n",
      " 6   protesteridentity                   15208 non-null  object        \n",
      " 7   startyear                           15208 non-null  int64         \n",
      " 8   startmonth                          15208 non-null  int64         \n",
      " 9   startday                            15208 non-null  int64         \n",
      " 10  endyear                             15208 non-null  int64         \n",
      " 11  endmonth                            15208 non-null  int64         \n",
      " 12  endday                              15208 non-null  int64         \n",
      " 13  start_datetime                      15208 non-null  datetime64[ns]\n",
      " 14  end_datetime                        15208 non-null  datetime64[ns]\n",
      " 15  duration_days                       15208 non-null  int64         \n",
      " 16  participants                        15208 non-null  int64         \n",
      " 17  participants_category_original      15208 non-null  object        \n",
      " 18  participants_category_manufactured  15208 non-null  object        \n",
      " 19  sources                             15208 non-null  object        \n",
      " 20  notes                               15208 non-null  object        \n",
      " 21  demand_labor-wage-dispute           15208 non-null  int64         \n",
      " 22  demand_land-farm-issue              15208 non-null  int64         \n",
      " 23  demand_police-brutality             15208 non-null  int64         \n",
      " 24  demand_political-behavior/process   15208 non-null  int64         \n",
      " 25  demand_price-increases/tax-policy   15208 non-null  int64         \n",
      " 26  demand_removal-of-politician        15208 non-null  int64         \n",
      " 27  demand_social-restrictions          15208 non-null  int64         \n",
      " 28  response_accomodation               15208 non-null  int64         \n",
      " 29  response_arrests                    15208 non-null  int64         \n",
      " 30  response_beatings                   15208 non-null  int64         \n",
      " 31  response_crowd-dispersal            15208 non-null  int64         \n",
      " 32  response_ignore                     15208 non-null  int64         \n",
      " 33  response_killings                   15208 non-null  int64         \n",
      " 34  response_shootings                  15208 non-null  int64         \n",
      "dtypes: datetime64[ns](2), int64(25), object(8)\n",
      "memory usage: 4.1+ MB\n"
     ]
    }
   ],
   "source": [
    "protests.info()"
   ]
  },
  {
   "cell_type": "code",
   "execution_count": 5,
   "id": "38c04d55",
   "metadata": {},
   "outputs": [],
   "source": [
    "response_cols = ['response_accomodation', 'response_arrests', 'response_beatings', \n",
    "                 'response_crowd-dispersal', 'response_ignore', 'response_killings', 'response_shootings']"
   ]
  },
  {
   "cell_type": "code",
   "execution_count": 6,
   "id": "74791ab7",
   "metadata": {},
   "outputs": [
    {
     "name": "stdout",
     "output_type": "stream",
     "text": [
      "<class 'pandas.core.frame.DataFrame'>\n",
      "RangeIndex: 15208 entries, 0 to 15207\n",
      "Data columns (total 16 columns):\n",
      " #   Column                              Non-Null Count  Dtype \n",
      "---  ------                              --------------  ----- \n",
      " 0   region                              15208 non-null  object\n",
      " 1   protestnumber                       15208 non-null  int64 \n",
      " 2   protesterviolence                   15208 non-null  int64 \n",
      " 3   startyear                           15208 non-null  int64 \n",
      " 4   startmonth                          15208 non-null  int64 \n",
      " 5   startday                            15208 non-null  int64 \n",
      " 6   duration_days                       15208 non-null  int64 \n",
      " 7   participants                        15208 non-null  int64 \n",
      " 8   participants_category_manufactured  15208 non-null  object\n",
      " 9   demand_labor-wage-dispute           15208 non-null  int64 \n",
      " 10  demand_land-farm-issue              15208 non-null  int64 \n",
      " 11  demand_police-brutality             15208 non-null  int64 \n",
      " 12  demand_political-behavior/process   15208 non-null  int64 \n",
      " 13  demand_price-increases/tax-policy   15208 non-null  int64 \n",
      " 14  demand_removal-of-politician        15208 non-null  int64 \n",
      " 15  demand_social-restrictions          15208 non-null  int64 \n",
      "dtypes: int64(14), object(2)\n",
      "memory usage: 1.9+ MB\n"
     ]
    }
   ],
   "source": [
    "model_inputs = protests.drop(response_cols+['id', 'location', 'protesteridentity', 'start_datetime', 'end_datetime', 'sources', 'notes', 'endday', 'endmonth', 'endyear', 'participants_category_original', 'country'], axis=1)\n",
    "model_inputs.info()"
   ]
  },
  {
   "cell_type": "markdown",
   "id": "23880e98",
   "metadata": {},
   "source": [
    "## Correlation matrix"
   ]
  },
  {
   "cell_type": "code",
   "execution_count": 7,
   "id": "3b7369f4",
   "metadata": {},
   "outputs": [
    {
     "data": {
      "image/png": "[encoded data removed]",
      "text/plain": [
       "<Figure size 1080x720 with 2 Axes>"
      ]
     },
     "metadata": {},
     "output_type": "display_data"
    }
   ],
   "source": [
    "# Compute the correlation matrix\n",
    "corr = model_inputs.corr()\n",
    "\n",
    "# Generate a mask for the upper triangle\n",
    "mask = np.triu(np.ones_like(corr, dtype=bool))\n",
    "plt.figure(figsize=(15, 10))\n",
    "\n",
    "# Generate a custom diverging colormap\n",
    "cmap = sns.diverging_palette(230, 20, as_cmap=True)\n",
    "\n",
    "# Draw the heatmap with the mask and correct aspect ratio\n",
    "sns.heatmap(corr, mask=mask, cmap=cmap, vmax=.3, center=0,\n",
    "            square=True, linewidths=.5, cbar_kws={\"shrink\": .5});"
   ]
  },
  {
   "cell_type": "markdown",
   "id": "15e19cba",
   "metadata": {},
   "source": [
    "## Modeling"
   ]
  },
  {
   "cell_type": "code",
   "execution_count": 8,
   "id": "b82a69ec",
   "metadata": {},
   "outputs": [
    {
     "name": "stdout",
     "output_type": "stream",
     "text": [
      "<class 'pandas.core.frame.DataFrame'>\n",
      "RangeIndex: 15208 entries, 0 to 15207\n",
      "Data columns (total 16 columns):\n",
      " #   Column                              Non-Null Count  Dtype \n",
      "---  ------                              --------------  ----- \n",
      " 0   region                              15208 non-null  object\n",
      " 1   protestnumber                       15208 non-null  int64 \n",
      " 2   protesterviolence                   15208 non-null  int64 \n",
      " 3   startyear                           15208 non-null  int64 \n",
      " 4   startmonth                          15208 non-null  int64 \n",
      " 5   startday                            15208 non-null  int64 \n",
      " 6   duration_days                       15208 non-null  int64 \n",
      " 7   participants                        15208 non-null  int64 \n",
      " 8   participants_category_manufactured  15208 non-null  object\n",
      " 9   demand_labor-wage-dispute           15208 non-null  int64 \n",
      " 10  demand_land-farm-issue              15208 non-null  int64 \n",
      " 11  demand_police-brutality             15208 non-null  int64 \n",
      " 12  demand_political-behavior/process   15208 non-null  int64 \n",
      " 13  demand_price-increases/tax-policy   15208 non-null  int64 \n",
      " 14  demand_removal-of-politician        15208 non-null  int64 \n",
      " 15  demand_social-restrictions          15208 non-null  int64 \n",
      "dtypes: int64(14), object(2)\n",
      "memory usage: 1.9+ MB\n"
     ]
    }
   ],
   "source": [
    "model_inputs.info()"
   ]
  },
  {
   "cell_type": "code",
   "execution_count": 9,
   "id": "6a5dc73b",
   "metadata": {},
   "outputs": [],
   "source": [
    "x_train, x_test, y_train, y_test = train_test_split(model_inputs, protests['response_accomodation'], random_state=RANDOM_STATE)"
   ]
  },
  {
   "cell_type": "markdown",
   "id": "6acf4477",
   "metadata": {},
   "source": [
    "### Define models and parameter grids"
   ]
  },
  {
   "cell_type": "code",
   "execution_count": 20,
   "id": "e84277a6",
   "metadata": {},
   "outputs": [],
   "source": [
    "# Set parameter grid to search across\n",
    "param_grid_logreg = {'model__C': np.logspace(-1, 4, 10)}\n",
    "\n",
    "\n",
    "param_grid_dt = {\n",
    "    'model__max_depth': [3, 5, 7], \n",
    "    'model__criterion': ['gini', 'entropy'],\n",
    "    'model__min_samples_split': [5, 10],\n",
    "    'model__min_samples_leaf': [5, 10]} \n",
    "\n",
    "param_grid_rf = {\n",
    "    'model__n_estimators': [25, 75],#, 150],\n",
    "    'model__criterion': ['gini', 'entropy'],\n",
    "    'model__max_depth': [3, 7],# [3, 6, 10],\n",
    "    'model__min_samples_split': [5, 10],\n",
    "    'model__min_samples_leaf': [3, 6]}\n",
    "\n",
    "\n",
    "param_grid_knn = {\n",
    "    'model__leaf_size': [25, 50, 75],\n",
    "    'model__n_neighbors': [3, 5, 7, 9]}#,\n",
    "    #'model__weights': ['uniform', 'distance'],\n",
    "    #'model__metric': ['euclindean', 'manhattan', 'minkowski']} \n",
    "        \n",
    "        \n",
    "param_grid_xgb = {\n",
    "    'model__learning_rate': [0.1, 0.2],\n",
    "    'model__max_depth': [3, 7],\n",
    "    'model__min_child_weight': [1, 2],\n",
    "    'model__subsample': [0.5, 0.7],\n",
    "    'model__n_estimators': [100, 150],\n",
    "    'model__tree_method': ['exact', 'approx', 'hist']}\n",
    "\n",
    "\n",
    "model_logreg = LogisticRegression()\n",
    "model_dt = DecisionTreeClassifier(random_state=RANDOM_STATE)\n",
    "model_rf = RandomForestClassifier(random_state = RANDOM_STATE)\n",
    "model_knn = KNeighborsClassifier()\n",
    "model_xgb = XGBClassifier(eval_metric='logloss', use_label_encoder=False)"
   ]
  },
  {
   "cell_type": "markdown",
   "id": "b029b9d4",
   "metadata": {},
   "source": [
    "### Select your model and grid from above list"
   ]
  },
  {
   "cell_type": "code",
   "execution_count": 21,
   "id": "f31fedd9",
   "metadata": {},
   "outputs": [],
   "source": [
    "# Finish pipeline by selecting model\n",
    "param_grid = param_grid_xgb\n",
    "model = model_xgb"
   ]
  },
  {
   "cell_type": "markdown",
   "id": "bedfc812",
   "metadata": {},
   "source": [
    "### No need to edit anything in below cell. Run cell to evaluate model."
   ]
  },
  {
   "cell_type": "code",
   "execution_count": 19,
   "id": "8cdb1076",
   "metadata": {},
   "outputs": [
    {
     "data": {
      "text/plain": [
       "0.8974224092582851"
      ]
     },
     "execution_count": 19,
     "metadata": {},
     "output_type": "execute_result"
    }
   ],
   "source": [
    "ohe = OneHotEncoder(handle_unknown='ignore')\n",
    "scaler = StandardScaler()\n",
    "smote = SMOTE(random_state=RANDOM_STATE)\n",
    "\n",
    "selector_object = make_column_selector(dtype_include='object')\n",
    "selector_numeric = make_column_selector(dtype_include='number')\n",
    "transformer = make_column_transformer((ohe, selector_object),\n",
    "                                     (scaler, selector_numeric))\n",
    "\n",
    "\n",
    "pipe = Pipeline([('transformer', transformer),\n",
    "                 ('smote', smote), \n",
    "                 ('model', model)])\n",
    "\n",
    "# Instantiate and fit grid search object\n",
    "grid = GridSearchCV(pipe, param_grid, return_train_score=True, scoring='accuracy', cv=3)\n",
    "grid.fit(x_train, y_train)\n",
    "\n",
    "grid.score(x_test, y_test)"
   ]
  },
  {
   "cell_type": "code",
   "execution_count": 31,
   "id": "b2e621da",
   "metadata": {},
   "outputs": [
    {
     "name": "stdout",
     "output_type": "stream",
     "text": [
      "stratified - 0.8261441346659653\n",
      "most_frequent - 0.8953182535507628\n",
      "uniform - 0.495528669121515\n"
     ]
    }
   ],
   "source": [
    "from sklearn.dummy import DummyClassifier\n",
    "\n",
    "for strategy in [\"stratified\", \"most_frequent\", \"uniform\"]:\n",
    "    dummy_clf = DummyClassifier(strategy=strategy, random_state=RANDOM_STATE)\n",
    "    dummy_clf.fit(x_train, y_train)\n",
    "    print(strategy, '-', dummy_clf.score(x_test, y_test))"
   ]
  }
 ],
 "metadata": {
  "kernelspec": {
   "display_name": "Python 3",
   "language": "python",
   "name": "python3"
  },
  "language_info": {
   "codemirror_mode": {
    "name": "ipython",
    "version": 3
   },
   "file_extension": ".py",
   "mimetype": "text/x-python",
   "name": "python",
   "nbconvert_exporter": "python",
   "pygments_lexer": "ipython3",
   "version": "3.8.3"
  }
 },
 "nbformat": 4,
 "nbformat_minor": 5
}
