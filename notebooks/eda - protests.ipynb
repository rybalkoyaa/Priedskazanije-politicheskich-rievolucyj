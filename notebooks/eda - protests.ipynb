{
 "cells": [
  {
   "cell_type": "code",
   "execution_count": 1,
   "id": "366239a1",
   "metadata": {},
   "outputs": [],
   "source": [
    "import numpy as np\n",
    "import pandas as pd\n",
    "import matplotlib.pyplot as plt\n",
    "import seaborn as sns\n",
    "\n",
    "\n",
    "from sqlalchemy import create_engine\n",
    "\n",
    "from sklearn.model_selection import train_test_split\n",
    "from sklearn.ensemble import RandomForestClassifier\n",
    "from sklearn.model_selection import GridSearchCV\n",
    "\n",
    "pd.options.display.max_rows = 200\n",
    "pd.options.display.max_columns = 200\n",
    "sns.set_theme(style=\"white\")\n",
    "\n",
    "UNKNOWN = 'unknown'\n",
    "RANDOM_STATE = 2021"
   ]
  },
  {
   "cell_type": "markdown",
   "id": "7b60049f",
   "metadata": {},
   "source": [
    "## Import protest data"
   ]
  },
  {
   "cell_type": "code",
   "execution_count": 2,
   "id": "a4670314",
   "metadata": {},
   "outputs": [],
   "source": [
    "engine_protests = create_engine('sqlite:///../data/processed/protests.db')\n",
    "\n",
    "\n",
    "with engine_protests.begin() as connection:\n",
    "    protests = pd.read_sql('SELECT * FROM protests', connection)\n",
    "    \n",
    "protests['start_datetime'] = pd.to_datetime(protests.start_datetime)\n",
    "protests['end_datetime'] = pd.to_datetime(protests.end_datetime)\n",
    "protests['duration'] = protests.end_datetime - protests.start_datetime"
   ]
  },
  {
   "cell_type": "code",
   "execution_count": 3,
   "id": "f8e9dd4b",
   "metadata": {},
   "outputs": [
    {
     "name": "stdout",
     "output_type": "stream",
     "text": [
      "<class 'pandas.core.frame.DataFrame'>\n",
      "RangeIndex: 15208 entries, 0 to 15207\n",
      "Data columns (total 37 columns):\n",
      " #   Column                              Non-Null Count  Dtype          \n",
      "---  ------                              --------------  -----          \n",
      " 0   index                               15208 non-null  int64          \n",
      " 1   id                                  15208 non-null  int64          \n",
      " 2   country                             15208 non-null  object         \n",
      " 3   ccode                               15208 non-null  int64          \n",
      " 4   location                            15208 non-null  object         \n",
      " 5   region                              15208 non-null  object         \n",
      " 6   protestnumber                       15208 non-null  int64          \n",
      " 7   protesterviolence                   15208 non-null  int64          \n",
      " 8   protesteridentity                   15208 non-null  object         \n",
      " 9   startyear                           15208 non-null  int64          \n",
      " 10  startmonth                          15208 non-null  int64          \n",
      " 11  startday                            15208 non-null  int64          \n",
      " 12  endyear                             15208 non-null  int64          \n",
      " 13  endmonth                            15208 non-null  int64          \n",
      " 14  endday                              15208 non-null  int64          \n",
      " 15  start_datetime                      15208 non-null  datetime64[ns] \n",
      " 16  end_datetime                        15208 non-null  datetime64[ns] \n",
      " 17  duration                            15208 non-null  timedelta64[ns]\n",
      " 18  participants                        15208 non-null  int64          \n",
      " 19  participants_category_original      15208 non-null  object         \n",
      " 20  participants_category_manufactured  15208 non-null  object         \n",
      " 21  sources                             15208 non-null  object         \n",
      " 22  notes                               15208 non-null  object         \n",
      " 23  demand_labor-wage-dispute           15208 non-null  int64          \n",
      " 24  demand_land-farm-issue              15208 non-null  int64          \n",
      " 25  demand_police-brutality             15208 non-null  int64          \n",
      " 26  demand_political-behavior/process   15208 non-null  int64          \n",
      " 27  demand_price-increases/tax-policy   15208 non-null  int64          \n",
      " 28  demand_removal-of-politician        15208 non-null  int64          \n",
      " 29  demand_social-restrictions          15208 non-null  int64          \n",
      " 30  response_accomodation               15208 non-null  int64          \n",
      " 31  response_arrests                    15208 non-null  int64          \n",
      " 32  response_beatings                   15208 non-null  int64          \n",
      " 33  response_crowd-dispersal            15208 non-null  int64          \n",
      " 34  response_ignore                     15208 non-null  int64          \n",
      " 35  response_killings                   15208 non-null  int64          \n",
      " 36  response_shootings                  15208 non-null  int64          \n",
      "dtypes: datetime64[ns](2), int64(26), object(8), timedelta64[ns](1)\n",
      "memory usage: 4.3+ MB\n"
     ]
    }
   ],
   "source": [
    "protests.info()"
   ]
  },
  {
   "cell_type": "markdown",
   "id": "4a988324",
   "metadata": {},
   "source": [
    "# Modeling"
   ]
  },
  {
   "cell_type": "code",
   "execution_count": 4,
   "id": "ea5cbcab",
   "metadata": {},
   "outputs": [],
   "source": [
    "def train_test(x, y):\n",
    "    return train_test_split(x, y, random_state=RANDOM_STATE)"
   ]
  },
  {
   "cell_type": "markdown",
   "id": "bdbe6ebb",
   "metadata": {},
   "source": [
    "##### Remove items that won't be used in FSM"
   ]
  },
  {
   "cell_type": "code",
   "execution_count": 5,
   "id": "d83bbb40",
   "metadata": {},
   "outputs": [
    {
     "data": {
      "text/plain": [
       "Index(['index', 'id', 'country', 'ccode', 'location', 'region',\n",
       "       'protestnumber', 'protesterviolence', 'protesteridentity', 'startyear',\n",
       "       'startmonth', 'startday', 'endyear', 'endmonth', 'endday',\n",
       "       'start_datetime', 'end_datetime', 'duration', 'participants',\n",
       "       'participants_category_original', 'participants_category_manufactured',\n",
       "       'sources', 'notes', 'demand_labor-wage-dispute',\n",
       "       'demand_land-farm-issue', 'demand_police-brutality',\n",
       "       'demand_political-behavior/process',\n",
       "       'demand_price-increases/tax-policy', 'demand_removal-of-politician',\n",
       "       'demand_social-restrictions', 'response_accomodation',\n",
       "       'response_arrests', 'response_beatings', 'response_crowd-dispersal',\n",
       "       'response_ignore', 'response_killings', 'response_shootings'],\n",
       "      dtype='object')"
      ]
     },
     "execution_count": 5,
     "metadata": {},
     "output_type": "execute_result"
    }
   ],
   "source": [
    "protests.columns"
   ]
  },
  {
   "cell_type": "code",
   "execution_count": 7,
   "id": "745ca8fb",
   "metadata": {},
   "outputs": [],
   "source": [
    "demand_cols = ['demand_labor-wage-dispute', 'demand_land-farm-issue', 'demand_police-brutality',\n",
    "               'demand_political-behavior/process', 'demand_price-increases/tax-policy', \n",
    "               'demand_removal-of-politician', 'demand_social-restrictions']\n",
    "\n",
    "response_cols = ['response_accomodation', 'response_arrests', 'response_beatings', \n",
    "                 'response_crowd-dispersal', 'response_ignore', 'response_killings', 'response_shootings']\n",
    "\n",
    "input_cols = ['ccode', 'protestnumber', 'protesterviolence', 'start_datetime', 'end_datetime', 'duration', 'participants']\n",
    "\n",
    "df_model = protests[input_cols + demand_cols]"
   ]
  },
  {
   "cell_type": "code",
   "execution_count": 9,
   "id": "31cfe109",
   "metadata": {},
   "outputs": [
    {
     "data": {
      "image/png": "[encoded data removed]",
      "text/plain": [
       "<Figure size 1080x720 with 2 Axes>"
      ]
     },
     "metadata": {},
     "output_type": "display_data"
    }
   ],
   "source": [
    "# Compute the correlation matrix\n",
    "corr = df_model.corr()\n",
    "\n",
    "# Generate a mask for the upper triangle\n",
    "mask = np.triu(np.ones_like(corr, dtype=bool))\n",
    "plt.figure(figsize=(15, 10))\n",
    "\n",
    "# Generate a custom diverging colormap\n",
    "cmap = sns.diverging_palette(230, 20, as_cmap=True)\n",
    "\n",
    "# Draw the heatmap with the mask and correct aspect ratio\n",
    "sns.heatmap(corr, mask=mask, cmap=cmap, vmax=.3, center=0,\n",
    "            square=True, linewidths=.5, cbar_kws={\"shrink\": .5});"
   ]
  },
  {
   "cell_type": "markdown",
   "id": "9f1cd986",
   "metadata": {},
   "source": [
    "### Test linear regression on Response: Accomodation"
   ]
  },
  {
   "cell_type": "code",
   "execution_count": 10,
   "id": "6858b1ab",
   "metadata": {},
   "outputs": [
    {
     "name": "stdout",
     "output_type": "stream",
     "text": [
      "<class 'pandas.core.frame.DataFrame'>\n",
      "RangeIndex: 15208 entries, 0 to 15207\n",
      "Data columns (total 14 columns):\n",
      " #   Column                             Non-Null Count  Dtype          \n",
      "---  ------                             --------------  -----          \n",
      " 0   ccode                              15208 non-null  int64          \n",
      " 1   protestnumber                      15208 non-null  int64          \n",
      " 2   protesterviolence                  15208 non-null  int64          \n",
      " 3   start_datetime                     15208 non-null  datetime64[ns] \n",
      " 4   end_datetime                       15208 non-null  datetime64[ns] \n",
      " 5   duration                           15208 non-null  timedelta64[ns]\n",
      " 6   participants                       15208 non-null  int64          \n",
      " 7   demand_labor-wage-dispute          15208 non-null  int64          \n",
      " 8   demand_land-farm-issue             15208 non-null  int64          \n",
      " 9   demand_police-brutality            15208 non-null  int64          \n",
      " 10  demand_political-behavior/process  15208 non-null  int64          \n",
      " 11  demand_price-increases/tax-policy  15208 non-null  int64          \n",
      " 12  demand_removal-of-politician       15208 non-null  int64          \n",
      " 13  demand_social-restrictions         15208 non-null  int64          \n",
      "dtypes: datetime64[ns](2), int64(11), timedelta64[ns](1)\n",
      "memory usage: 1.6 MB\n"
     ]
    }
   ],
   "source": [
    "df_model.info()"
   ]
  },
  {
   "cell_type": "code",
   "execution_count": 11,
   "id": "ec1a7c0d",
   "metadata": {},
   "outputs": [],
   "source": [
    "x = df_model.drop(['start_datetime', 'end_datetime', 'duration'], axis=1)\n",
    "y = protests['response_accomodation']\n",
    "\n",
    "x_train, x_test, y_train, y_test = train_test(x, y)"
   ]
  },
  {
   "cell_type": "code",
   "execution_count": 24,
   "id": "0ca6a1cc",
   "metadata": {},
   "outputs": [
    {
     "data": {
      "text/plain": [
       "GridSearchCV(estimator=Pipeline(steps=[('model', RandomForestClassifier())]),\n",
       "             param_grid={'model__min_samples_leaf': [3, 6]},\n",
       "             return_train_score=True, scoring='f1')"
      ]
     },
     "execution_count": 24,
     "metadata": {},
     "output_type": "execute_result"
    }
   ],
   "source": [
    "from imblearn.pipeline import Pipeline\n",
    "\n",
    "model_rf = RandomForestClassifier()\n",
    "\n",
    "# Declare pipeline with standard scaler\n",
    "pipe = Pipeline([('model', model_rf)])\n",
    "\n",
    "# Set parameter grid to search across\n",
    "param_grid = {\n",
    "    #'model__n_estimators': [25, 75, 150],\n",
    "    #'model__criterion': ['gini', 'entropy'],\n",
    "    #'model__max_depth': [3, 6, 10],\n",
    "    #'model__min_samples_split': [5, 10],\n",
    "    'model__min_samples_leaf': [3, 6]}\n",
    "\n",
    "# Instantiate and fit grid search object\n",
    "search = GridSearchCV(pipe, param_grid, scoring='f1', \n",
    "                      return_train_score=True)\n",
    "search.fit(x_train, y_train)\n",
    "\n",
    "# Add results to model_history object\n",
    "#model_history.add_model(search.best_estimator_, X, y, display_results=True, \n",
    "#                        notes='grid-based RF, cross-val')\n",
    "\n",
    "# Create object to hold best-in-class performer\n",
    "#final_model_rf = search.best_estimator_"
   ]
  },
  {
   "cell_type": "code",
   "execution_count": 28,
   "id": "901b3486",
   "metadata": {},
   "outputs": [
    {
     "data": {
      "text/plain": [
       "GridSearchCV(estimator=RandomForestClassifier(),\n",
       "             param_grid={'min_samples_leaf': [3, 6]}, return_train_score=True,\n",
       "             scoring='f1')"
      ]
     },
     "execution_count": 28,
     "metadata": {},
     "output_type": "execute_result"
    }
   ],
   "source": [
    "# from imblearn.pipeline import Pipeline\n",
    "\n",
    "# model_rf = \n",
    "\n",
    "# # Declare pipeline with standard scaler\n",
    "# pipe = Pipeline([('model', )])\n",
    "\n",
    "# Set parameter grid to search across\n",
    "param_grid = {\n",
    "    #'model__n_estimators': [25, 75, 150],\n",
    "    #'model__criterion': ['gini', 'entropy'],\n",
    "    #'model__max_depth': [3, 6, 10],\n",
    "    #'model__min_samples_split': [5, 10],\n",
    "    'min_samples_leaf': [3, 6]}\n",
    "\n",
    "# Instantiate and fit grid search object\n",
    "search = GridSearchCV(RandomForestClassifier(), param_grid, scoring='f1', \n",
    "                      return_train_score=True)\n",
    "search.fit(x_train, y_train)\n",
    "\n",
    "# Add results to model_history object\n",
    "#model_history.add_model(search.best_estimator_, X, y, display_results=True, \n",
    "#                        notes='grid-based RF, cross-val')\n",
    "\n",
    "# Create object to hold best-in-class performer\n",
    "#final_model_rf = search.best_estimator_"
   ]
  },
  {
   "cell_type": "code",
   "execution_count": 38,
   "id": "92709b23",
   "metadata": {},
   "outputs": [
    {
     "data": {
      "text/plain": [
       "GridSearchCV(cv=3, estimator=RandomForestClassifier(),\n",
       "             param_grid={'criterion': ['gini', 'entropy'],\n",
       "                         'max_depth': [3, 6, 10], 'min_samples_leaf': [3, 6],\n",
       "                         'min_samples_split': [5, 10],\n",
       "                         'n_estimators': [25, 75, 150]})"
      ]
     },
     "execution_count": 38,
     "metadata": {},
     "output_type": "execute_result"
    }
   ],
   "source": [
    "rf = RandomForestClassifier()\n",
    "\n",
    "param_grid = {\n",
    "    'n_estimators': [25, 75, 150],\n",
    "    'criterion': ['gini', 'entropy'],\n",
    "    'max_depth': [3, 6, 10],\n",
    "    'min_samples_split': [5, 10],\n",
    "    'min_samples_leaf': [3, 6]}\n",
    "grid = GridSearchCV(estimator = rf, param_grid = param_grid, cv=3)\n",
    "grid.fit(x_train, y_train)"
   ]
  },
  {
   "cell_type": "code",
   "execution_count": 39,
   "id": "fe9bc69c",
   "metadata": {},
   "outputs": [
    {
     "name": "stdout",
     "output_type": "stream",
     "text": [
      "<class 'pandas.core.frame.DataFrame'>\n",
      "Int64Index: 11406 entries, 12609 to 9332\n",
      "Data columns (total 11 columns):\n",
      " #   Column                             Non-Null Count  Dtype\n",
      "---  ------                             --------------  -----\n",
      " 0   ccode                              11406 non-null  int64\n",
      " 1   protestnumber                      11406 non-null  int64\n",
      " 2   protesterviolence                  11406 non-null  int64\n",
      " 3   participants                       11406 non-null  int64\n",
      " 4   demand_labor-wage-dispute          11406 non-null  int64\n",
      " 5   demand_land-farm-issue             11406 non-null  int64\n",
      " 6   demand_police-brutality            11406 non-null  int64\n",
      " 7   demand_political-behavior/process  11406 non-null  int64\n",
      " 8   demand_price-increases/tax-policy  11406 non-null  int64\n",
      " 9   demand_removal-of-politician       11406 non-null  int64\n",
      " 10  demand_social-restrictions         11406 non-null  int64\n",
      "dtypes: int64(11)\n",
      "memory usage: 1.0 MB\n"
     ]
    }
   ],
   "source": [
    "x_train.info()"
   ]
  },
  {
   "cell_type": "code",
   "execution_count": 40,
   "id": "bef20e36",
   "metadata": {},
   "outputs": [
    {
     "data": {
      "text/plain": [
       "0.8968963703314046"
      ]
     },
     "execution_count": 40,
     "metadata": {},
     "output_type": "execute_result"
    }
   ],
   "source": [
    "grid.score(x_test, y_test)"
   ]
  },
  {
   "cell_type": "code",
   "execution_count": 42,
   "id": "02522925",
   "metadata": {},
   "outputs": [
    {
     "data": {
      "text/plain": [
       "0.8953182535507628"
      ]
     },
     "execution_count": 42,
     "metadata": {},
     "output_type": "execute_result"
    }
   ],
   "source": [
    "from sklearn.dummy import DummyClassifier\n",
    "dummy_clf = DummyClassifier()\n",
    "dummy_clf.fit(x_train, y_train)\n",
    "dummy_clf.score(x_test, y_test)"
   ]
  }
 ],
 "metadata": {
  "kernelspec": {
   "display_name": "Python 3",
   "language": "python",
   "name": "python3"
  },
  "language_info": {
   "codemirror_mode": {
    "name": "ipython",
    "version": 3
   },
   "file_extension": ".py",
   "mimetype": "text/x-python",
   "name": "python",
   "nbconvert_exporter": "python",
   "pygments_lexer": "ipython3",
   "version": "3.8.3"
  }
 },
 "nbformat": 4,
 "nbformat_minor": 5
}
