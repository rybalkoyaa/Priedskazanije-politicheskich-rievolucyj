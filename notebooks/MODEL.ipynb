{
 "cells": [
  {
   "cell_type": "markdown",
   "id": "ac03ce51",
   "metadata": {
    "id": "0b780d7b"
   },
   "source": [
    "# Modeling\n",
    "\n",
    "This notebook combines the three cleaned datasets into one central location and aggregates them before conducting data engineering and running a wide array of models to determine the final top performer and understand the relationships between the features."
   ]
  },
  {
   "cell_type": "markdown",
   "id": "c70ce277",
   "metadata": {
    "id": "d66495fc"
   },
   "source": [
    "## Data Imporrts"
   ]
  },
  {
   "cell_type": "code",
   "execution_count": 1,
   "id": "779c5bdd",
   "metadata": {
    "colab": {
     "base_uri": "https://localhost:8080/"
    },
    "executionInfo": {
     "elapsed": 18315,
     "status": "ok",
     "timestamp": 1630537861650,
     "user": {
      "displayName": "",
      "photoUrl": "",
      "userId": ""
     },
     "user_tz": 480
    },
    "id": "Psn5DaA6lirj",
    "outputId": "42e0c6c8-187c-46cd-fe32-0d96e50cad5c"
   },
   "outputs": [],
   "source": [
    "# # USE THIS CELL ONLY WHEN RUNNING ON GOOGLE COLAB\n",
    "\n",
    "# from google.colab import drive\n",
    "# drive.mount('/content/drive')"
   ]
  },
  {
   "cell_type": "code",
   "execution_count": 2,
   "id": "77447957",
   "metadata": {
    "colab": {
     "base_uri": "https://localhost:8080/"
    },
    "executionInfo": {
     "elapsed": 508,
     "status": "ok",
     "timestamp": 1630537865916,
     "user": {
      "displayName": "",
      "photoUrl": "",
      "userId": ""
     },
     "user_tz": 480
    },
    "id": "Vl-8mvEqnjnF",
    "outputId": "c185ed31-b2e2-4ebe-a9fa-33a55bd5b048"
   },
   "outputs": [],
   "source": [
    "# cd drive/MyDrive/Colab\\ Notebooks/Capstone/notebooks"
   ]
  },
  {
   "cell_type": "code",
   "execution_count": 3,
   "id": "8a9a83c9",
   "metadata": {
    "colab": {
     "base_uri": "https://localhost:8080/"
    },
    "executionInfo": {
     "elapsed": 9342,
     "status": "ok",
     "timestamp": 1630537875253,
     "user": {
      "displayName": "",
      "photoUrl": "",
      "userId": ""
     },
     "user_tz": 480
    },
    "id": "HyaLdFBfnEMW",
    "outputId": "93b04157-cede-450e-c576-7511ad9bad86"
   },
   "outputs": [],
   "source": [
    "# USE THIS CELL ONLY WHEN RUNNING ON GOOGLE COLAB\n",
    "# !pip install shap"
   ]
  },
  {
   "cell_type": "code",
   "execution_count": 4,
   "id": "0e102f53",
   "metadata": {
    "colab": {
     "base_uri": "https://localhost:8080/"
    },
    "executionInfo": {
     "elapsed": 11053,
     "status": "ok",
     "timestamp": 1630537886302,
     "user": {
      "displayName": "",
      "photoUrl": "",
      "userId": ""
     },
     "user_tz": 480
    },
    "id": "7986d5c4",
    "outputId": "e4e24a47-f8e6-4911-8f8e-86d56c91ed23"
   },
   "outputs": [],
   "source": [
    "# Basics\n",
    "import numpy as np\n",
    "import pandas as pd\n",
    "import matplotlib.pyplot as plt\n",
    "import seaborn as sns\n",
    "import sys\n",
    "import pickle\n",
    "\n",
    "# Importing databases using SQL\n",
    "from sqlalchemy import create_engine\n",
    "\n",
    "# Model preprocessing and processing\n",
    "from statsmodels.stats.outliers_influence import variance_inflation_factor\n",
    "from sklearn.model_selection import train_test_split\n",
    "from sklearn.preprocessing import OneHotEncoder, StandardScaler\n",
    "from sklearn.compose import make_column_selector, make_column_transformer\n",
    "from imblearn.over_sampling import SMOTE\n",
    "from sklearn.model_selection import GridSearchCV\n",
    "from imblearn.pipeline import Pipeline\n",
    "from sklearn.base import clone\n",
    "\n",
    "# Models\n",
    "from sklearn.dummy import DummyClassifier\n",
    "from sklearn.linear_model import LogisticRegression\n",
    "from sklearn.neighbors import KNeighborsClassifier\n",
    "from sklearn.tree import DecisionTreeClassifier\n",
    "from sklearn.ensemble import RandomForestClassifier, AdaBoostClassifier\n",
    "from sklearn.naive_bayes import GaussianNB\n",
    "from xgboost import XGBClassifier\n",
    "\n",
    "# Performance evaluation\n",
    "from sklearn.metrics import f1_score,precision_score,accuracy_score,recall_score\n",
    "from sklearn.metrics import confusion_matrix, plot_confusion_matrix\n",
    "from sklearn.inspection import permutation_importance\n",
    "\n",
    "# Data visualization\n",
    "import shap\n",
    "\n",
    "# Options\n",
    "#pd.options.display.max_rows = 200\n",
    "pd.options.display.max_columns = 200\n",
    "%matplotlib inline\n",
    "\n",
    "# Convenience for working with external src code files\n",
    "%load_ext autoreload\n",
    "%autoreload 2\n",
    "sys.path.insert(1, '../src')\n",
    "\n",
    "# Custom functions\n",
    "from create_target import *\n",
    "from remove_missing_data import *\n",
    "from evaluate_model_performance import *\n",
    "from custom_plots import *\n",
    "from identify_collinearity import *\n",
    "\n",
    "# Global constants\n",
    "RANDOM_STATE = 2021"
   ]
  },
  {
   "cell_type": "markdown",
   "id": "1cb1dedd",
   "metadata": {
    "id": "caa9b976"
   },
   "source": [
    "##### Import \"Protests\" dataset"
   ]
  },
  {
   "cell_type": "code",
   "execution_count": 5,
   "id": "d54e01e3",
   "metadata": {
    "executionInfo": {
     "elapsed": 1134,
     "status": "ok",
     "timestamp": 1630537887434,
     "user": {
      "displayName": "",
      "photoUrl": "",
      "userId": ""
     },
     "user_tz": 480
    },
    "id": "c32129de"
   },
   "outputs": [],
   "source": [
    "engine = create_engine('sqlite:///../data/processed/protests.db')\n",
    "with engine.begin() as connection:\n",
    "    df_protests = pd.read_sql('SELECT * FROM protests', con=connection)\n",
    "\n",
    "# Type casting\n",
    "df_protests.startdate = pd.to_datetime(df_protests.startdate)"
   ]
  },
  {
   "cell_type": "markdown",
   "id": "bfb7fed9",
   "metadata": {
    "id": "e625cc04"
   },
   "source": [
    "##### Import \"Governments\" dataset"
   ]
  },
  {
   "cell_type": "code",
   "execution_count": 6,
   "id": "467747ad",
   "metadata": {
    "executionInfo": {
     "elapsed": 660,
     "status": "ok",
     "timestamp": 1630537888091,
     "user": {
      "displayName": "",
      "photoUrl": "",
      "userId": ""
     },
     "user_tz": 480
    },
    "id": "d624c947"
   },
   "outputs": [],
   "source": [
    "engine = create_engine('sqlite:///../data/processed/governments.db')\n",
    "with engine.begin() as connection:\n",
    "    df_govts = pd.read_sql('SELECT * FROM governments', con=connection)\n",
    "\n",
    "# Set index to be used on Join later\n",
    "df_govts.index = df_govts.year_scode\n",
    "\n",
    "# Remove unused features\n",
    "df_govts.drop('year_scode', axis=1, inplace=True)"
   ]
  },
  {
   "cell_type": "markdown",
   "id": "bc3ecfad",
   "metadata": {
    "id": "2b731b72"
   },
   "source": [
    "##### Join \"Protests\" and \"Governments\" datasets"
   ]
  },
  {
   "cell_type": "code",
   "execution_count": 7,
   "id": "acece6ee",
   "metadata": {
    "executionInfo": {
     "elapsed": 164,
     "status": "ok",
     "timestamp": 1630537888254,
     "user": {
      "displayName": "",
      "photoUrl": "",
      "userId": ""
     },
     "user_tz": 480
    },
    "id": "3dcafcc2"
   },
   "outputs": [
    {
     "name": "stdout",
     "output_type": "stream",
     "text": [
      "<class 'pandas.core.frame.DataFrame'>\n",
      "Int64Index: 15064 entries, 0 to 15207\n",
      "Data columns (total 76 columns):\n",
      " #   Column                             Non-Null Count  Dtype         \n",
      "---  ------                             --------------  -----         \n",
      " 0   country                            15064 non-null  object        \n",
      " 1   scode                              15064 non-null  object        \n",
      " 2   region                             15064 non-null  object        \n",
      " 3   protestnumber                      15064 non-null  int64         \n",
      " 4   protesterviolence                  15064 non-null  int64         \n",
      " 5   startdate                          15064 non-null  datetime64[ns]\n",
      " 6   duration_days                      15064 non-null  int64         \n",
      " 7   participants                       15064 non-null  int64         \n",
      " 8   participants_category              15064 non-null  object        \n",
      " 9   demand_labor-wage-dispute          15064 non-null  int64         \n",
      " 10  demand_land-farm-issue             15064 non-null  int64         \n",
      " 11  demand_police-brutality            15064 non-null  int64         \n",
      " 12  demand_political-behavior/process  15064 non-null  int64         \n",
      " 13  demand_price-increases/tax-policy  15064 non-null  int64         \n",
      " 14  demand_removal-of-politician       15064 non-null  int64         \n",
      " 15  demand_social-restrictions         15064 non-null  int64         \n",
      " 16  year_scode                         15064 non-null  object        \n",
      " 17  participants_log                   15064 non-null  float64       \n",
      " 18  duration_days_log                  15064 non-null  float64       \n",
      " 19  protestnumber_log                  15064 non-null  float64       \n",
      " 20  system                             15064 non-null  object        \n",
      " 21  yrsoffc                            15064 non-null  float64       \n",
      " 22  finittrm                           15064 non-null  float64       \n",
      " 23  yrcurnt                            15064 non-null  float64       \n",
      " 24  termlimit                          15064 non-null  float64       \n",
      " 25  reelect                            15064 non-null  float64       \n",
      " 26  multpl                             15064 non-null  float64       \n",
      " 27  military                           15064 non-null  float64       \n",
      " 28  defmin                             15064 non-null  float64       \n",
      " 29  prtyin                             15064 non-null  float64       \n",
      " 30  execrlc                            15064 non-null  object        \n",
      " 31  execnat                            15064 non-null  float64       \n",
      " 32  execrel                            15064 non-null  object        \n",
      " 33  execage                            15064 non-null  float64       \n",
      " 34  allhouse                           15064 non-null  float64       \n",
      " 35  totalseats                         15064 non-null  float64       \n",
      " 36  oppmajh                            15064 non-null  float64       \n",
      " 37  oppmajs                            15064 non-null  float64       \n",
      " 38  legelec                            15064 non-null  float64       \n",
      " 39  exelec                             15064 non-null  float64       \n",
      " 40  liec                               15064 non-null  float64       \n",
      " 41  eiec                               15064 non-null  float64       \n",
      " 42  mdmh                               15064 non-null  float64       \n",
      " 43  mdms                               15064 non-null  float64       \n",
      " 44  ssh                                15064 non-null  float64       \n",
      " 45  pluralty                           15064 non-null  float64       \n",
      " 46  pr                                 15064 non-null  float64       \n",
      " 47  housesys                           15064 non-null  object        \n",
      " 48  sensys                             15064 non-null  object        \n",
      " 49  thresh                             15064 non-null  float64       \n",
      " 50  cl                                 15064 non-null  float64       \n",
      " 51  gq                                 15064 non-null  float64       \n",
      " 52  gqi                                15064 non-null  float64       \n",
      " 53  fraud                              15064 non-null  object        \n",
      " 54  auton                              15064 non-null  float64       \n",
      " 55  muni                               15064 non-null  float64       \n",
      " 56  state                              15064 non-null  float64       \n",
      " 57  author                             15064 non-null  float64       \n",
      " 58  numvote                            15064 non-null  float64       \n",
      " 59  oppvote                            15064 non-null  float64       \n",
      " 60  maj                                15064 non-null  float64       \n",
      " 61  partyage                           15064 non-null  float64       \n",
      " 62  herfgov                            15064 non-null  float64       \n",
      " 63  herfopp                            15064 non-null  float64       \n",
      " 64  frac                               15064 non-null  float64       \n",
      " 65  oppfrac                            15064 non-null  float64       \n",
      " 66  govfrac                            15064 non-null  float64       \n",
      " 67  tensys_strict                      15064 non-null  float64       \n",
      " 68  checks                             15064 non-null  float64       \n",
      " 69  stabs_strict                       15064 non-null  float64       \n",
      " 70  tenlong_strict                     15064 non-null  float64       \n",
      " 71  tenshort_strict                    15064 non-null  float64       \n",
      " 72  polariz                            15064 non-null  float64       \n",
      " 73  country_govt                       15064 non-null  object        \n",
      " 74  scode_govt                         15064 non-null  object        \n",
      " 75  percent                            15064 non-null  float64       \n",
      "dtypes: datetime64[ns](1), float64(51), int64(11), object(13)\n",
      "memory usage: 8.8+ MB\n"
     ]
    }
   ],
   "source": [
    "# Join both dataframes\n",
    "df = df_protests.join(df_govts, how='left', on='year_scode')\n",
    "\n",
    "# Remove entries that don't have corresponding 'government' data\n",
    "df.dropna(inplace=True)\n",
    "df.info()"
   ]
  },
  {
   "cell_type": "markdown",
   "id": "21c8c3d2",
   "metadata": {
    "id": "e1496dd9"
   },
   "source": [
    "##### Import \"Regime Changes\" dataset"
   ]
  },
  {
   "cell_type": "code",
   "execution_count": 8,
   "id": "9735f9f0",
   "metadata": {
    "colab": {
     "base_uri": "https://localhost:8080/"
    },
    "executionInfo": {
     "elapsed": 264,
     "status": "ok",
     "timestamp": 1630537888516,
     "user": {
      "displayName": "",
      "photoUrl": "",
      "userId": ""
     },
     "user_tz": 480
    },
    "id": "26d999a8",
    "outputId": "3f93fce8-e4c7-4b8c-ba43-f9aca72d16a6"
   },
   "outputs": [
    {
     "name": "stdout",
     "output_type": "stream",
     "text": [
      "<class 'pandas.core.frame.DataFrame'>\n",
      "RangeIndex: 1296 entries, 0 to 1295\n",
      "Data columns (total 7 columns):\n",
      " #   Column        Non-Null Count  Dtype         \n",
      "---  ------        --------------  -----         \n",
      " 0   country       1296 non-null   object        \n",
      " 1   scode         1296 non-null   object        \n",
      " 2   startdate     1296 non-null   datetime64[ns]\n",
      " 3   enddate       1296 non-null   datetime64[ns]\n",
      " 4   duration_yrs  1296 non-null   float64       \n",
      " 5   xconst        1296 non-null   int64         \n",
      " 6   present       1296 non-null   int64         \n",
      "dtypes: datetime64[ns](2), float64(1), int64(2), object(2)\n",
      "memory usage: 71.0+ KB\n"
     ]
    }
   ],
   "source": [
    "# IMPORT REGIME CHANGE DATASET\n",
    "engine = create_engine('sqlite:///../data/processed/regime_changes.db')\n",
    "with engine.begin() as connection:\n",
    "    df_regimes = pd.read_sql('SELECT * FROM regime_changes', con=connection)\n",
    "\n",
    "# Type conversions\n",
    "df_regimes.startdate = pd.to_datetime(df_regimes.startdate)\n",
    "df_regimes.enddate = pd.to_datetime(df_regimes.enddate)\n",
    "df_regimes.info()"
   ]
  },
  {
   "cell_type": "markdown",
   "id": "fd655a02",
   "metadata": {
    "id": "17be0fda"
   },
   "source": [
    "##### QC that country names and country IDs match"
   ]
  },
  {
   "cell_type": "code",
   "execution_count": 9,
   "id": "511b8459",
   "metadata": {
    "colab": {
     "base_uri": "https://localhost:8080/",
     "height": 48
    },
    "executionInfo": {
     "elapsed": 6,
     "status": "ok",
     "timestamp": 1630537888517,
     "user": {
      "displayName": "",
      "photoUrl": "",
      "userId": ""
     },
     "user_tz": 480
    },
    "id": "041a8600",
    "outputId": "e9e8f7d1-1f2c-4e60-d095-bf7830bc58fb"
   },
   "outputs": [
    {
     "data": {
      "text/html": [
       "<div>\n",
       "<style scoped>\n",
       "    .dataframe tbody tr th:only-of-type {\n",
       "        vertical-align: middle;\n",
       "    }\n",
       "\n",
       "    .dataframe tbody tr th {\n",
       "        vertical-align: top;\n",
       "    }\n",
       "\n",
       "    .dataframe thead th {\n",
       "        text-align: right;\n",
       "    }\n",
       "</style>\n",
       "<table border=\"1\" class=\"dataframe\">\n",
       "  <thead>\n",
       "    <tr style=\"text-align: right;\">\n",
       "      <th></th>\n",
       "      <th>scode</th>\n",
       "      <th>scode_govt</th>\n",
       "      <th>country</th>\n",
       "      <th>country_govt</th>\n",
       "    </tr>\n",
       "  </thead>\n",
       "  <tbody>\n",
       "  </tbody>\n",
       "</table>\n",
       "</div>"
      ],
      "text/plain": [
       "Empty DataFrame\n",
       "Columns: [scode, scode_govt, country, country_govt]\n",
       "Index: []"
      ]
     },
     "metadata": {},
     "output_type": "display_data"
    }
   ],
   "source": [
    "cols = ['scode', 'scode_govt', 'country', 'country_govt']\n",
    "missing_countries = df.loc[(df.country != df.country_govt)][cols]\n",
    "missing_countries = missing_countries.drop_duplicates()\n",
    "display(missing_countries.sort_values(by='scode'))"
   ]
  },
  {
   "cell_type": "markdown",
   "id": "3fd5e3ca",
   "metadata": {
    "id": "51213421"
   },
   "source": [
    "##### Remove countries that do not contain government data"
   ]
  },
  {
   "cell_type": "code",
   "execution_count": 10,
   "id": "560dcd26",
   "metadata": {
    "executionInfo": {
     "elapsed": 182,
     "status": "ok",
     "timestamp": 1630537888695,
     "user": {
      "displayName": "",
      "photoUrl": "",
      "userId": ""
     },
     "user_tz": 480
    },
    "id": "6168170f"
   },
   "outputs": [],
   "source": [
    "scodes_to_remove = missing_countries.scode.unique()\n",
    "scodes_to_remove_ind = [x in scodes_to_remove for x in df.scode]\n",
    "df.drop(df.loc[scodes_to_remove_ind].index, axis=0, inplace=True)"
   ]
  },
  {
   "cell_type": "code",
   "execution_count": 11,
   "id": "6eca4bd6",
   "metadata": {},
   "outputs": [
    {
     "name": "stdout",
     "output_type": "stream",
     "text": [
      "<class 'pandas.core.frame.DataFrame'>\n",
      "Int64Index: 15064 entries, 0 to 15207\n",
      "Data columns (total 76 columns):\n",
      " #   Column                             Non-Null Count  Dtype         \n",
      "---  ------                             --------------  -----         \n",
      " 0   country                            15064 non-null  object        \n",
      " 1   scode                              15064 non-null  object        \n",
      " 2   region                             15064 non-null  object        \n",
      " 3   protestnumber                      15064 non-null  int64         \n",
      " 4   protesterviolence                  15064 non-null  int64         \n",
      " 5   startdate                          15064 non-null  datetime64[ns]\n",
      " 6   duration_days                      15064 non-null  int64         \n",
      " 7   participants                       15064 non-null  int64         \n",
      " 8   participants_category              15064 non-null  object        \n",
      " 9   demand_labor-wage-dispute          15064 non-null  int64         \n",
      " 10  demand_land-farm-issue             15064 non-null  int64         \n",
      " 11  demand_police-brutality            15064 non-null  int64         \n",
      " 12  demand_political-behavior/process  15064 non-null  int64         \n",
      " 13  demand_price-increases/tax-policy  15064 non-null  int64         \n",
      " 14  demand_removal-of-politician       15064 non-null  int64         \n",
      " 15  demand_social-restrictions         15064 non-null  int64         \n",
      " 16  year_scode                         15064 non-null  object        \n",
      " 17  participants_log                   15064 non-null  float64       \n",
      " 18  duration_days_log                  15064 non-null  float64       \n",
      " 19  protestnumber_log                  15064 non-null  float64       \n",
      " 20  system                             15064 non-null  object        \n",
      " 21  yrsoffc                            15064 non-null  float64       \n",
      " 22  finittrm                           15064 non-null  float64       \n",
      " 23  yrcurnt                            15064 non-null  float64       \n",
      " 24  termlimit                          15064 non-null  float64       \n",
      " 25  reelect                            15064 non-null  float64       \n",
      " 26  multpl                             15064 non-null  float64       \n",
      " 27  military                           15064 non-null  float64       \n",
      " 28  defmin                             15064 non-null  float64       \n",
      " 29  prtyin                             15064 non-null  float64       \n",
      " 30  execrlc                            15064 non-null  object        \n",
      " 31  execnat                            15064 non-null  float64       \n",
      " 32  execrel                            15064 non-null  object        \n",
      " 33  execage                            15064 non-null  float64       \n",
      " 34  allhouse                           15064 non-null  float64       \n",
      " 35  totalseats                         15064 non-null  float64       \n",
      " 36  oppmajh                            15064 non-null  float64       \n",
      " 37  oppmajs                            15064 non-null  float64       \n",
      " 38  legelec                            15064 non-null  float64       \n",
      " 39  exelec                             15064 non-null  float64       \n",
      " 40  liec                               15064 non-null  float64       \n",
      " 41  eiec                               15064 non-null  float64       \n",
      " 42  mdmh                               15064 non-null  float64       \n",
      " 43  mdms                               15064 non-null  float64       \n",
      " 44  ssh                                15064 non-null  float64       \n",
      " 45  pluralty                           15064 non-null  float64       \n",
      " 46  pr                                 15064 non-null  float64       \n",
      " 47  housesys                           15064 non-null  object        \n",
      " 48  sensys                             15064 non-null  object        \n",
      " 49  thresh                             15064 non-null  float64       \n",
      " 50  cl                                 15064 non-null  float64       \n",
      " 51  gq                                 15064 non-null  float64       \n",
      " 52  gqi                                15064 non-null  float64       \n",
      " 53  fraud                              15064 non-null  object        \n",
      " 54  auton                              15064 non-null  float64       \n",
      " 55  muni                               15064 non-null  float64       \n",
      " 56  state                              15064 non-null  float64       \n",
      " 57  author                             15064 non-null  float64       \n",
      " 58  numvote                            15064 non-null  float64       \n",
      " 59  oppvote                            15064 non-null  float64       \n",
      " 60  maj                                15064 non-null  float64       \n",
      " 61  partyage                           15064 non-null  float64       \n",
      " 62  herfgov                            15064 non-null  float64       \n",
      " 63  herfopp                            15064 non-null  float64       \n",
      " 64  frac                               15064 non-null  float64       \n",
      " 65  oppfrac                            15064 non-null  float64       \n",
      " 66  govfrac                            15064 non-null  float64       \n",
      " 67  tensys_strict                      15064 non-null  float64       \n",
      " 68  checks                             15064 non-null  float64       \n",
      " 69  stabs_strict                       15064 non-null  float64       \n",
      " 70  tenlong_strict                     15064 non-null  float64       \n",
      " 71  tenshort_strict                    15064 non-null  float64       \n",
      " 72  polariz                            15064 non-null  float64       \n",
      " 73  country_govt                       15064 non-null  object        \n",
      " 74  scode_govt                         15064 non-null  object        \n",
      " 75  percent                            15064 non-null  float64       \n",
      "dtypes: datetime64[ns](1), float64(51), int64(11), object(13)\n",
      "memory usage: 9.4+ MB\n"
     ]
    }
   ],
   "source": [
    "df.info()"
   ]
  },
  {
   "cell_type": "markdown",
   "id": "614fc058",
   "metadata": {
    "id": "a275c679"
   },
   "source": [
    "##### Identify countries that are missing from \"Regime Changes\" dataset"
   ]
  },
  {
   "cell_type": "code",
   "execution_count": 12,
   "id": "785ff489",
   "metadata": {
    "colab": {
     "base_uri": "https://localhost:8080/"
    },
    "executionInfo": {
     "elapsed": 174,
     "status": "ok",
     "timestamp": 1630537888868,
     "user": {
      "displayName": "",
      "photoUrl": "",
      "userId": ""
     },
     "user_tz": 480
    },
    "id": "2a207414",
    "outputId": "5148877f-83bb-4ce0-9471-cb80b0b34eea"
   },
   "outputs": [
    {
     "name": "stdout",
     "output_type": "stream",
     "text": [
      "Countries missing from \"Regimes\" dataset: ['LUX']\n",
      "<class 'pandas.core.frame.DataFrame'>\n",
      "Int64Index: 15061 entries, 0 to 15207\n",
      "Data columns (total 76 columns):\n",
      " #   Column                             Non-Null Count  Dtype         \n",
      "---  ------                             --------------  -----         \n",
      " 0   country                            15061 non-null  object        \n",
      " 1   scode                              15061 non-null  object        \n",
      " 2   region                             15061 non-null  object        \n",
      " 3   protestnumber                      15061 non-null  int64         \n",
      " 4   protesterviolence                  15061 non-null  int64         \n",
      " 5   startdate                          15061 non-null  datetime64[ns]\n",
      " 6   duration_days                      15061 non-null  int64         \n",
      " 7   participants                       15061 non-null  int64         \n",
      " 8   participants_category              15061 non-null  object        \n",
      " 9   demand_labor-wage-dispute          15061 non-null  int64         \n",
      " 10  demand_land-farm-issue             15061 non-null  int64         \n",
      " 11  demand_police-brutality            15061 non-null  int64         \n",
      " 12  demand_political-behavior/process  15061 non-null  int64         \n",
      " 13  demand_price-increases/tax-policy  15061 non-null  int64         \n",
      " 14  demand_removal-of-politician       15061 non-null  int64         \n",
      " 15  demand_social-restrictions         15061 non-null  int64         \n",
      " 16  year_scode                         15061 non-null  object        \n",
      " 17  participants_log                   15061 non-null  float64       \n",
      " 18  duration_days_log                  15061 non-null  float64       \n",
      " 19  protestnumber_log                  15061 non-null  float64       \n",
      " 20  system                             15061 non-null  object        \n",
      " 21  yrsoffc                            15061 non-null  float64       \n",
      " 22  finittrm                           15061 non-null  float64       \n",
      " 23  yrcurnt                            15061 non-null  float64       \n",
      " 24  termlimit                          15061 non-null  float64       \n",
      " 25  reelect                            15061 non-null  float64       \n",
      " 26  multpl                             15061 non-null  float64       \n",
      " 27  military                           15061 non-null  float64       \n",
      " 28  defmin                             15061 non-null  float64       \n",
      " 29  prtyin                             15061 non-null  float64       \n",
      " 30  execrlc                            15061 non-null  object        \n",
      " 31  execnat                            15061 non-null  float64       \n",
      " 32  execrel                            15061 non-null  object        \n",
      " 33  execage                            15061 non-null  float64       \n",
      " 34  allhouse                           15061 non-null  float64       \n",
      " 35  totalseats                         15061 non-null  float64       \n",
      " 36  oppmajh                            15061 non-null  float64       \n",
      " 37  oppmajs                            15061 non-null  float64       \n",
      " 38  legelec                            15061 non-null  float64       \n",
      " 39  exelec                             15061 non-null  float64       \n",
      " 40  liec                               15061 non-null  float64       \n",
      " 41  eiec                               15061 non-null  float64       \n",
      " 42  mdmh                               15061 non-null  float64       \n",
      " 43  mdms                               15061 non-null  float64       \n",
      " 44  ssh                                15061 non-null  float64       \n",
      " 45  pluralty                           15061 non-null  float64       \n",
      " 46  pr                                 15061 non-null  float64       \n",
      " 47  housesys                           15061 non-null  object        \n",
      " 48  sensys                             15061 non-null  object        \n",
      " 49  thresh                             15061 non-null  float64       \n",
      " 50  cl                                 15061 non-null  float64       \n",
      " 51  gq                                 15061 non-null  float64       \n",
      " 52  gqi                                15061 non-null  float64       \n",
      " 53  fraud                              15061 non-null  object        \n",
      " 54  auton                              15061 non-null  float64       \n",
      " 55  muni                               15061 non-null  float64       \n",
      " 56  state                              15061 non-null  float64       \n",
      " 57  author                             15061 non-null  float64       \n",
      " 58  numvote                            15061 non-null  float64       \n",
      " 59  oppvote                            15061 non-null  float64       \n",
      " 60  maj                                15061 non-null  float64       \n",
      " 61  partyage                           15061 non-null  float64       \n",
      " 62  herfgov                            15061 non-null  float64       \n",
      " 63  herfopp                            15061 non-null  float64       \n",
      " 64  frac                               15061 non-null  float64       \n",
      " 65  oppfrac                            15061 non-null  float64       \n",
      " 66  govfrac                            15061 non-null  float64       \n",
      " 67  tensys_strict                      15061 non-null  float64       \n",
      " 68  checks                             15061 non-null  float64       \n",
      " 69  stabs_strict                       15061 non-null  float64       \n",
      " 70  tenlong_strict                     15061 non-null  float64       \n",
      " 71  tenshort_strict                    15061 non-null  float64       \n",
      " 72  polariz                            15061 non-null  float64       \n",
      " 73  country_govt                       15061 non-null  object        \n",
      " 74  scode_govt                         15061 non-null  object        \n",
      " 75  percent                            15061 non-null  float64       \n",
      "dtypes: datetime64[ns](1), float64(51), int64(11), object(13)\n",
      "memory usage: 8.8+ MB\n"
     ]
    }
   ],
   "source": [
    "# All countries in union of Protests and Governments\n",
    "all_countries = df.scode.unique()\n",
    "\n",
    "# All countries in Regimes\n",
    "regime_countries = df_regimes.scode.unique()\n",
    "\n",
    "\n",
    "# Loop over all_countries\n",
    "missing = []\n",
    "for country in all_countries:\n",
    "    # Make note of any countries not in Regimes\n",
    "    \n",
    "    if country not in regime_countries:\n",
    "        missing.append(country)\n",
    "\n",
    "print('Countries missing from \"Regimes\" dataset:', missing)\n",
    "\n",
    "# Remove these countries from dataset\n",
    "scodes_to_remove_ind = [x in missing for x in df.scode]\n",
    "df.drop(df.loc[scodes_to_remove_ind].index, axis=0, inplace=True)\n",
    "df.info()"
   ]
  },
  {
   "cell_type": "markdown",
   "id": "0c9058b1",
   "metadata": {
    "id": "6dd15742"
   },
   "source": [
    "#### Create \"Target\" column and add to dataframe"
   ]
  },
  {
   "cell_type": "code",
   "execution_count": 13,
   "id": "d2c8ccc0",
   "metadata": {
    "colab": {
     "base_uri": "https://localhost:8080/"
    },
    "executionInfo": {
     "elapsed": 61107,
     "status": "ok",
     "timestamp": 1630537949973,
     "user": {
      "displayName": "",
      "photoUrl": "",
      "userId": ""
     },
     "user_tz": 480
    },
    "id": "3cfcf34d",
    "outputId": "049dd354-346c-4c69-9117-4b5eeb73725e",
    "tags": []
   },
   "outputs": [
    {
     "name": "stdout",
     "output_type": "stream",
     "text": [
      "(15207, 81)\n",
      "<class 'pandas.core.frame.DataFrame'>\n",
      "Int64Index: 15207 entries, 0 to 15207\n",
      "Data columns (total 81 columns):\n",
      " #   Column                             Non-Null Count  Dtype         \n",
      "---  ------                             --------------  -----         \n",
      " 0   index                              15061 non-null  float64       \n",
      " 1   country                            15061 non-null  object        \n",
      " 2   scode                              15061 non-null  object        \n",
      " 3   region                             15061 non-null  object        \n",
      " 4   protestnumber                      15061 non-null  float64       \n",
      " 5   protesterviolence                  15061 non-null  float64       \n",
      " 6   startdate                          15061 non-null  datetime64[ns]\n",
      " 7   duration_days                      15061 non-null  float64       \n",
      " 8   participants                       15061 non-null  float64       \n",
      " 9   participants_category              15061 non-null  object        \n",
      " 10  demand_labor-wage-dispute          15061 non-null  float64       \n",
      " 11  demand_land-farm-issue             15061 non-null  float64       \n",
      " 12  demand_police-brutality            15061 non-null  float64       \n",
      " 13  demand_political-behavior/process  15061 non-null  float64       \n",
      " 14  demand_price-increases/tax-policy  15061 non-null  float64       \n",
      " 15  demand_removal-of-politician       15061 non-null  float64       \n",
      " 16  demand_social-restrictions         15061 non-null  float64       \n",
      " 17  year_scode                         15061 non-null  object        \n",
      " 18  participants_log                   15061 non-null  float64       \n",
      " 19  duration_days_log                  15061 non-null  float64       \n",
      " 20  protestnumber_log                  15061 non-null  float64       \n",
      " 21  system                             15061 non-null  object        \n",
      " 22  yrsoffc                            15061 non-null  float64       \n",
      " 23  finittrm                           15061 non-null  float64       \n",
      " 24  yrcurnt                            15061 non-null  float64       \n",
      " 25  termlimit                          15061 non-null  float64       \n",
      " 26  reelect                            15061 non-null  float64       \n",
      " 27  multpl                             15061 non-null  float64       \n",
      " 28  military                           15061 non-null  float64       \n",
      " 29  defmin                             15061 non-null  float64       \n",
      " 30  prtyin                             15061 non-null  float64       \n",
      " 31  execrlc                            15061 non-null  object        \n",
      " 32  execnat                            15061 non-null  float64       \n",
      " 33  execrel                            15061 non-null  object        \n",
      " 34  execage                            15061 non-null  float64       \n",
      " 35  allhouse                           15061 non-null  float64       \n",
      " 36  totalseats                         15061 non-null  float64       \n",
      " 37  oppmajh                            15061 non-null  float64       \n",
      " 38  oppmajs                            15061 non-null  float64       \n",
      " 39  legelec                            15061 non-null  float64       \n",
      " 40  exelec                             15061 non-null  float64       \n",
      " 41  liec                               15061 non-null  float64       \n",
      " 42  eiec                               15061 non-null  float64       \n",
      " 43  mdmh                               15061 non-null  float64       \n",
      " 44  mdms                               15061 non-null  float64       \n",
      " 45  ssh                                15061 non-null  float64       \n",
      " 46  pluralty                           15061 non-null  float64       \n",
      " 47  pr                                 15061 non-null  float64       \n",
      " 48  housesys                           15061 non-null  object        \n",
      " 49  sensys                             15061 non-null  object        \n",
      " 50  thresh                             15061 non-null  float64       \n",
      " 51  cl                                 15061 non-null  float64       \n",
      " 52  gq                                 15061 non-null  float64       \n",
      " 53  gqi                                15061 non-null  float64       \n",
      " 54  fraud                              15061 non-null  object        \n",
      " 55  auton                              15061 non-null  float64       \n",
      " 56  muni                               15061 non-null  float64       \n",
      " 57  state                              15061 non-null  float64       \n",
      " 58  author                             15061 non-null  float64       \n",
      " 59  numvote                            15061 non-null  float64       \n",
      " 60  oppvote                            15061 non-null  float64       \n",
      " 61  maj                                15061 non-null  float64       \n",
      " 62  partyage                           15061 non-null  float64       \n",
      " 63  herfgov                            15061 non-null  float64       \n",
      " 64  herfopp                            15061 non-null  float64       \n",
      " 65  frac                               15061 non-null  float64       \n",
      " 66  oppfrac                            15061 non-null  float64       \n",
      " 67  govfrac                            15061 non-null  float64       \n",
      " 68  tensys_strict                      15061 non-null  float64       \n",
      " 69  checks                             15061 non-null  float64       \n",
      " 70  stabs_strict                       15061 non-null  float64       \n",
      " 71  tenlong_strict                     15061 non-null  float64       \n",
      " 72  tenshort_strict                    15061 non-null  float64       \n",
      " 73  polariz                            15061 non-null  float64       \n",
      " 74  country_govt                       15061 non-null  object        \n",
      " 75  scode_govt                         15061 non-null  object        \n",
      " 76  percent                            15061 non-null  float64       \n",
      " 77  xconst                             15061 non-null  object        \n",
      " 78  present                            15061 non-null  object        \n",
      " 79  next_regime_chg_date               15061 non-null  datetime64[ns]\n",
      " 80  days_until_next_regime_chg         15061 non-null  float64       \n",
      "dtypes: datetime64[ns](2), float64(64), object(15)\n",
      "memory usage: 9.5+ MB\n"
     ]
    }
   ],
   "source": [
    "target = create_target(df, df_regimes)\n",
    "df = pd.concat([df, target], axis=1)\n",
    "print(df.shape)\n",
    "df.info()"
   ]
  },
  {
   "cell_type": "markdown",
   "id": "7916faf0",
   "metadata": {
    "id": "ba38083b"
   },
   "source": [
    "### Basic cleaning\n",
    "\n",
    "Start by running custom function that removes all features that don't have a minimum threshold of non-null values"
   ]
  },
  {
   "cell_type": "code",
   "execution_count": 14,
   "id": "86202b49",
   "metadata": {
    "colab": {
     "base_uri": "https://localhost:8080/"
    },
    "executionInfo": {
     "elapsed": 414,
     "status": "ok",
     "timestamp": 1630537950573,
     "user": {
      "displayName": "",
      "photoUrl": "",
      "userId": ""
     },
     "user_tz": 480
    },
    "id": "e9c7c0d9",
    "outputId": "473a0165-a515-40c6-ab7f-ab609e959a03"
   },
   "outputs": [
    {
     "name": "stdout",
     "output_type": "stream",
     "text": [
      "<class 'pandas.core.frame.DataFrame'>\n",
      "Int64Index: 11840 entries, 0 to 15060\n",
      "Data columns (total 54 columns):\n",
      " #   Column                             Non-Null Count  Dtype         \n",
      "---  ------                             --------------  -----         \n",
      " 0   index                              11840 non-null  float64       \n",
      " 1   country                            11840 non-null  object        \n",
      " 2   scode                              11840 non-null  object        \n",
      " 3   region                             11840 non-null  object        \n",
      " 4   protestnumber                      11840 non-null  float64       \n",
      " 5   protesterviolence                  11840 non-null  float64       \n",
      " 6   startdate                          11840 non-null  datetime64[ns]\n",
      " 7   duration_days                      11840 non-null  float64       \n",
      " 8   participants                       11840 non-null  float64       \n",
      " 9   participants_category              11840 non-null  object        \n",
      " 10  demand_labor-wage-dispute          11840 non-null  float64       \n",
      " 11  demand_land-farm-issue             11840 non-null  float64       \n",
      " 12  demand_police-brutality            11840 non-null  float64       \n",
      " 13  demand_political-behavior/process  11840 non-null  float64       \n",
      " 14  demand_price-increases/tax-policy  11840 non-null  float64       \n",
      " 15  demand_removal-of-politician       11840 non-null  float64       \n",
      " 16  demand_social-restrictions         11840 non-null  float64       \n",
      " 17  year_scode                         11840 non-null  object        \n",
      " 18  participants_log                   11840 non-null  float64       \n",
      " 19  duration_days_log                  11840 non-null  float64       \n",
      " 20  protestnumber_log                  11840 non-null  float64       \n",
      " 21  system                             11840 non-null  object        \n",
      " 22  yrsoffc                            11840 non-null  float64       \n",
      " 23  finittrm                           11840 non-null  float64       \n",
      " 24  termlimit                          11840 non-null  float64       \n",
      " 25  military                           11840 non-null  float64       \n",
      " 26  defmin                             11840 non-null  float64       \n",
      " 27  execnat                            11840 non-null  float64       \n",
      " 28  execrel                            11840 non-null  object        \n",
      " 29  totalseats                         11840 non-null  float64       \n",
      " 30  oppmajh                            11840 non-null  float64       \n",
      " 31  legelec                            11840 non-null  float64       \n",
      " 32  exelec                             11840 non-null  float64       \n",
      " 33  liec                               11840 non-null  float64       \n",
      " 34  eiec                               11840 non-null  float64       \n",
      " 35  gq                                 11840 non-null  float64       \n",
      " 36  gqi                                11840 non-null  float64       \n",
      " 37  auton                              11840 non-null  float64       \n",
      " 38  numvote                            11840 non-null  float64       \n",
      " 39  oppvote                            11840 non-null  float64       \n",
      " 40  maj                                11840 non-null  float64       \n",
      " 41  herfgov                            11840 non-null  float64       \n",
      " 42  govfrac                            11840 non-null  float64       \n",
      " 43  tensys_strict                      11840 non-null  float64       \n",
      " 44  checks                             11840 non-null  float64       \n",
      " 45  stabs_strict                       11840 non-null  float64       \n",
      " 46  tenlong_strict                     11840 non-null  float64       \n",
      " 47  tenshort_strict                    11840 non-null  float64       \n",
      " 48  country_govt                       11840 non-null  object        \n",
      " 49  scode_govt                         11840 non-null  object        \n",
      " 50  xconst                             11840 non-null  float64       \n",
      " 51  present                            11840 non-null  float64       \n",
      " 52  next_regime_chg_date               11840 non-null  datetime64[ns]\n",
      " 53  days_until_next_regime_chg         11840 non-null  float64       \n",
      "dtypes: datetime64[ns](2), float64(43), object(9)\n",
      "memory usage: 5.0+ MB\n"
     ]
    }
   ],
   "source": [
    "# Remove entries with limited \"government\" data\n",
    "df = remove_missing_data(df, MAX_MISSING_VALUES=1000)\n",
    "df.info()"
   ]
  },
  {
   "cell_type": "code",
   "execution_count": 15,
   "id": "a176220f",
   "metadata": {
    "executionInfo": {
     "elapsed": 9,
     "status": "ok",
     "timestamp": 1630537949974,
     "user": {
      "displayName": "",
      "photoUrl": "",
      "userId": ""
     },
     "user_tz": 480
    },
    "id": "964e7157",
    "tags": []
   },
   "outputs": [],
   "source": [
    "# Convert startdate to a float instead of datetime since datetime \n",
    "# cannot be handled by models but fractional years can\n",
    "df['startdate'] = df.startdate.dt.year + \\\n",
    "                  df.startdate.dt.month/12 + \\\n",
    "                  df.startdate.dt.day/365"
   ]
  },
  {
   "cell_type": "code",
   "execution_count": 16,
   "id": "e5868bee",
   "metadata": {
    "executionInfo": {
     "elapsed": 194,
     "status": "ok",
     "timestamp": 1630537950161,
     "user": {
      "displayName": "",
      "photoUrl": "",
      "userId": ""
     },
     "user_tz": 480
    },
    "id": "3af1b3a7"
   },
   "outputs": [],
   "source": [
    "# Convert to Categorical datatypes\n",
    "df['region'] = df.region.astype('category')\n",
    "df['system'] = df.system.astype('category')\n",
    "df['country'] = df.country.astype('category')"
   ]
  },
  {
   "cell_type": "markdown",
   "id": "a97dad17",
   "metadata": {
    "id": "c68f2d4a"
   },
   "source": [
    "# Modeling\n",
    "\n",
    "Given the cleaned and aggregated dataset above, the next section moves into the Modeling phase. Each model type is constructed using elements of encoding, scaling, resampling and hyperparameter optimization.\n",
    "\n",
    "- One hot encoding was essential given the categorical type of some features\n",
    "- Standard scaling was essential given the vast array of different numerical feature distributions and ranges. Min-max scaling was considered but proved less effective.\n",
    "- SMOTE was determined to be essential given the imbalanced nature of the dataset. Only 11% of the target feature values were 1, leaving the other 89% as 0. This is a prime example of the need for resampling, and SMOTE proved highly effective.\n",
    "- Hyperparameter grid searches are inherently valuable when optimizing a model. Appropriate hyperparameter searches were used for each model type.\n",
    "\n",
    "The output of each model is provided in terms of four core statistical measures (f1 score, accuracy, precision, and recall), in addition to displaying a confusion matrix for the test data. F1 was selected before the modeling process as the most relevant metric given that it encomasses all possible outcomes, as opposed to the other three metrics which leave out at least one possible outcome from their evaluation. "
   ]
  },
  {
   "cell_type": "markdown",
   "id": "6358d2fd",
   "metadata": {
    "id": "6ff72835"
   },
   "source": [
    "#### Define target\n",
    "This allows the user to define the target in terms of the amount of time before which a regime transition will occur. For this analysis, it uses 6 months, but other values have also been explored with similar results."
   ]
  },
  {
   "cell_type": "code",
   "execution_count": 17,
   "id": "751e9602",
   "metadata": {
    "executionInfo": {
     "elapsed": 4,
     "status": "ok",
     "timestamp": 1630537950574,
     "user": {
      "displayName": "",
      "photoUrl": "",
      "userId": ""
     },
     "user_tz": 480
    },
    "id": "0b999907"
   },
   "outputs": [],
   "source": [
    "DAYS_UNTIL_CHG = 365/2 #6 months\n",
    "target = pd.DataFrame(df['days_until_next_regime_chg'] < DAYS_UNTIL_CHG)\n",
    "target = target.astype('int')\n",
    "target.columns = ['target']"
   ]
  },
  {
   "cell_type": "markdown",
   "id": "511bff2d",
   "metadata": {
    "id": "79061767"
   },
   "source": [
    "##### Drop unused columns"
   ]
  },
  {
   "cell_type": "code",
   "execution_count": 18,
   "id": "6cb7b81a",
   "metadata": {
    "colab": {
     "base_uri": "https://localhost:8080/"
    },
    "executionInfo": {
     "elapsed": 181,
     "status": "ok",
     "timestamp": 1630537950752,
     "user": {
      "displayName": "",
      "photoUrl": "",
      "userId": ""
     },
     "user_tz": 480
    },
    "id": "f6ef3970",
    "outputId": "964f373c-2b85-492a-9191-f42d64141624"
   },
   "outputs": [
    {
     "name": "stdout",
     "output_type": "stream",
     "text": [
      "<class 'pandas.core.frame.DataFrame'>\n",
      "Int64Index: 11840 entries, 0 to 15060\n",
      "Data columns (total 41 columns):\n",
      " #   Column                             Non-Null Count  Dtype   \n",
      "---  ------                             --------------  -----   \n",
      " 0   country                            11840 non-null  category\n",
      " 1   region                             11840 non-null  category\n",
      " 2   protesterviolence                  11840 non-null  float64 \n",
      " 3   demand_labor-wage-dispute          11840 non-null  float64 \n",
      " 4   demand_land-farm-issue             11840 non-null  float64 \n",
      " 5   demand_police-brutality            11840 non-null  float64 \n",
      " 6   demand_political-behavior/process  11840 non-null  float64 \n",
      " 7   demand_price-increases/tax-policy  11840 non-null  float64 \n",
      " 8   demand_removal-of-politician       11840 non-null  float64 \n",
      " 9   demand_social-restrictions         11840 non-null  float64 \n",
      " 10  participants_log                   11840 non-null  float64 \n",
      " 11  duration_days_log                  11840 non-null  float64 \n",
      " 12  protestnumber_log                  11840 non-null  float64 \n",
      " 13  system                             11840 non-null  category\n",
      " 14  yrsoffc                            11840 non-null  float64 \n",
      " 15  finittrm                           11840 non-null  float64 \n",
      " 16  termlimit                          11840 non-null  float64 \n",
      " 17  military                           11840 non-null  float64 \n",
      " 18  defmin                             11840 non-null  float64 \n",
      " 19  execnat                            11840 non-null  float64 \n",
      " 20  execrel                            11840 non-null  object  \n",
      " 21  totalseats                         11840 non-null  float64 \n",
      " 22  oppmajh                            11840 non-null  float64 \n",
      " 23  legelec                            11840 non-null  float64 \n",
      " 24  exelec                             11840 non-null  float64 \n",
      " 25  liec                               11840 non-null  float64 \n",
      " 26  eiec                               11840 non-null  float64 \n",
      " 27  gq                                 11840 non-null  float64 \n",
      " 28  gqi                                11840 non-null  float64 \n",
      " 29  auton                              11840 non-null  float64 \n",
      " 30  numvote                            11840 non-null  float64 \n",
      " 31  oppvote                            11840 non-null  float64 \n",
      " 32  maj                                11840 non-null  float64 \n",
      " 33  herfgov                            11840 non-null  float64 \n",
      " 34  govfrac                            11840 non-null  float64 \n",
      " 35  tensys_strict                      11840 non-null  float64 \n",
      " 36  checks                             11840 non-null  float64 \n",
      " 37  stabs_strict                       11840 non-null  float64 \n",
      " 38  tenlong_strict                     11840 non-null  float64 \n",
      " 39  tenshort_strict                    11840 non-null  float64 \n",
      " 40  xconst                             11840 non-null  float64 \n",
      "dtypes: category(3), float64(37), object(1)\n",
      "memory usage: 3.6+ MB\n"
     ]
    }
   ],
   "source": [
    "drop_cols = ['year_scode', 'scode_govt', 'country_govt', 'startdate',\n",
    "             'days_until_next_regime_chg', 'scode', 'participants_category', 'participants',\n",
    "             'next_regime_chg_date', 'index', 'duration_days', 'present', 'protestnumber']\n",
    "\n",
    "model_inputs = df.drop(drop_cols, axis=1)\n",
    "model_inputs.info()"
   ]
  },
  {
   "cell_type": "markdown",
   "id": "54ee5070",
   "metadata": {
    "id": "b539b524"
   },
   "source": [
    "### Identify and resolve multi-collinearity"
   ]
  },
  {
   "cell_type": "code",
   "execution_count": 19,
   "id": "a56e3b57",
   "metadata": {
    "colab": {
     "base_uri": "https://localhost:8080/",
     "height": 1000
    },
    "executionInfo": {
     "elapsed": 1108,
     "status": "ok",
     "timestamp": 1630537951858,
     "user": {
      "displayName": "",
      "photoUrl": "",
      "userId": ""
     },
     "user_tz": 480
    },
    "id": "d559a0dc",
    "outputId": "6b91ea4d-d2f7-4e43-bc33-59b27c87ab12"
   },
   "outputs": [
    {
     "data": {
      "image/png": "[encoded data removed]",
      "text/plain": [
       "<Figure size 2664x1776 with 2 Axes>"
      ]
     },
     "metadata": {
      "needs_background": "light"
     },
     "output_type": "display_data"
    },
    {
     "name": "stdout",
     "output_type": "stream",
     "text": [
      "Features with correlation higher than 0.5:\n"
     ]
    },
    {
     "data": {
      "text/html": [
       "<div>\n",
       "<style scoped>\n",
       "    .dataframe tbody tr th:only-of-type {\n",
       "        vertical-align: middle;\n",
       "    }\n",
       "\n",
       "    .dataframe tbody tr th {\n",
       "        vertical-align: top;\n",
       "    }\n",
       "\n",
       "    .dataframe thead th {\n",
       "        text-align: right;\n",
       "    }\n",
       "</style>\n",
       "<table border=\"1\" class=\"dataframe\">\n",
       "  <thead>\n",
       "    <tr style=\"text-align: right;\">\n",
       "      <th></th>\n",
       "      <th>cc</th>\n",
       "    </tr>\n",
       "    <tr>\n",
       "      <th>pairs</th>\n",
       "      <th></th>\n",
       "    </tr>\n",
       "  </thead>\n",
       "  <tbody>\n",
       "    <tr>\n",
       "      <th>(protesterviolence, protesterviolence)</th>\n",
       "      <td>1.000000</td>\n",
       "    </tr>\n",
       "    <tr>\n",
       "      <th>(tenlong_strict, yrsoffc)</th>\n",
       "      <td>0.780163</td>\n",
       "    </tr>\n",
       "    <tr>\n",
       "      <th>(yrsoffc, tenshort_strict)</th>\n",
       "      <td>0.765382</td>\n",
       "    </tr>\n",
       "    <tr>\n",
       "      <th>(liec, eiec)</th>\n",
       "      <td>0.674035</td>\n",
       "    </tr>\n",
       "    <tr>\n",
       "      <th>(tenlong_strict, tenshort_strict)</th>\n",
       "      <td>0.633976</td>\n",
       "    </tr>\n",
       "    <tr>\n",
       "      <th>(totalseats, liec)</th>\n",
       "      <td>0.573247</td>\n",
       "    </tr>\n",
       "    <tr>\n",
       "      <th>(maj, liec)</th>\n",
       "      <td>0.553506</td>\n",
       "    </tr>\n",
       "    <tr>\n",
       "      <th>(oppvote, numvote)</th>\n",
       "      <td>0.504882</td>\n",
       "    </tr>\n",
       "  </tbody>\n",
       "</table>\n",
       "</div>"
      ],
      "text/plain": [
       "                                              cc\n",
       "pairs                                           \n",
       "(protesterviolence, protesterviolence)  1.000000\n",
       "(tenlong_strict, yrsoffc)               0.780163\n",
       "(yrsoffc, tenshort_strict)              0.765382\n",
       "(liec, eiec)                            0.674035\n",
       "(tenlong_strict, tenshort_strict)       0.633976\n",
       "(totalseats, liec)                      0.573247\n",
       "(maj, liec)                             0.553506\n",
       "(oppvote, numvote)                      0.504882"
      ]
     },
     "metadata": {},
     "output_type": "display_data"
    }
   ],
   "source": [
    "calculate_collinearity(model_inputs, min_threshold=0.5)"
   ]
  },
  {
   "cell_type": "markdown",
   "id": "0c2f9396",
   "metadata": {
    "id": "ef6e7a04"
   },
   "source": [
    "#### Check for high Variance Inflation Factors (VIFs), indicating problematic collinearity\n",
    "\n",
    "Note the correlation between *liec* and *eiec* in the above heatmap is the highest on the plot. Investigate this relationship alongside other features using VIF analysis.\n",
    "\n",
    "Note that the VIF threshold of 10 is higher than usual. This is because high multi-collinearity is less of an issue for tree-based models, as this notebook deems the most appropriate. A threshold of 10 ensures that extreme collinearity is addressed while also ensuring that features are not unncessarily dropped, losing valuable predictive information."
   ]
  },
  {
   "cell_type": "code",
   "execution_count": 20,
   "id": "abbb6e82",
   "metadata": {
    "executionInfo": {
     "elapsed": 6,
     "status": "ok",
     "timestamp": 1630537951859,
     "user": {
      "displayName": "",
      "photoUrl": "",
      "userId": ""
     },
     "user_tz": 480
    },
    "id": "a89bdc86"
   },
   "outputs": [],
   "source": [
    "def calc_vif(df_input):\n",
    "    # Source: Flatiron School course material\n",
    "    # https://github.com/learn-co-curriculum/dsc-modeling-your-data\n",
    "\n",
    "    vif = [variance_inflation_factor(df_input.values, i) for i in range(df_input.shape[1])]\n",
    "    return list(zip(df_input.columns, vif))"
   ]
  },
  {
   "cell_type": "code",
   "execution_count": 21,
   "id": "decf764b",
   "metadata": {},
   "outputs": [
    {
     "name": "stdout",
     "output_type": "stream",
     "text": [
      "<class 'pandas.core.frame.DataFrame'>\n",
      "Int64Index: 11840 entries, 0 to 15060\n",
      "Data columns (total 41 columns):\n",
      " #   Column                             Non-Null Count  Dtype   \n",
      "---  ------                             --------------  -----   \n",
      " 0   country                            11840 non-null  category\n",
      " 1   region                             11840 non-null  category\n",
      " 2   protesterviolence                  11840 non-null  float64 \n",
      " 3   demand_labor-wage-dispute          11840 non-null  float64 \n",
      " 4   demand_land-farm-issue             11840 non-null  float64 \n",
      " 5   demand_police-brutality            11840 non-null  float64 \n",
      " 6   demand_political-behavior/process  11840 non-null  float64 \n",
      " 7   demand_price-increases/tax-policy  11840 non-null  float64 \n",
      " 8   demand_removal-of-politician       11840 non-null  float64 \n",
      " 9   demand_social-restrictions         11840 non-null  float64 \n",
      " 10  participants_log                   11840 non-null  float64 \n",
      " 11  duration_days_log                  11840 non-null  float64 \n",
      " 12  protestnumber_log                  11840 non-null  float64 \n",
      " 13  system                             11840 non-null  category\n",
      " 14  yrsoffc                            11840 non-null  float64 \n",
      " 15  finittrm                           11840 non-null  float64 \n",
      " 16  termlimit                          11840 non-null  float64 \n",
      " 17  military                           11840 non-null  float64 \n",
      " 18  defmin                             11840 non-null  float64 \n",
      " 19  execnat                            11840 non-null  float64 \n",
      " 20  execrel                            11840 non-null  object  \n",
      " 21  totalseats                         11840 non-null  float64 \n",
      " 22  oppmajh                            11840 non-null  float64 \n",
      " 23  legelec                            11840 non-null  float64 \n",
      " 24  exelec                             11840 non-null  float64 \n",
      " 25  liec                               11840 non-null  float64 \n",
      " 26  eiec                               11840 non-null  float64 \n",
      " 27  gq                                 11840 non-null  float64 \n",
      " 28  gqi                                11840 non-null  float64 \n",
      " 29  auton                              11840 non-null  float64 \n",
      " 30  numvote                            11840 non-null  float64 \n",
      " 31  oppvote                            11840 non-null  float64 \n",
      " 32  maj                                11840 non-null  float64 \n",
      " 33  herfgov                            11840 non-null  float64 \n",
      " 34  govfrac                            11840 non-null  float64 \n",
      " 35  tensys_strict                      11840 non-null  float64 \n",
      " 36  checks                             11840 non-null  float64 \n",
      " 37  stabs_strict                       11840 non-null  float64 \n",
      " 38  tenlong_strict                     11840 non-null  float64 \n",
      " 39  tenshort_strict                    11840 non-null  float64 \n",
      " 40  xconst                             11840 non-null  float64 \n",
      "dtypes: category(3), float64(37), object(1)\n",
      "memory usage: 3.6+ MB\n"
     ]
    }
   ],
   "source": [
    "model_inputs.info()"
   ]
  },
  {
   "cell_type": "code",
   "execution_count": 22,
   "id": "ab6c4c85",
   "metadata": {
    "colab": {
     "base_uri": "https://localhost:8080/",
     "height": 1000
    },
    "executionInfo": {
     "elapsed": 1854,
     "status": "ok",
     "timestamp": 1630537953708,
     "user": {
      "displayName": "",
      "photoUrl": "",
      "userId": ""
     },
     "user_tz": 480
    },
    "id": "1a8a77ef",
    "outputId": "63e6f27e-6db8-42ac-f467-72ee6c697e3c"
   },
   "outputs": [
    {
     "data": {
      "text/plain": [
       "[('protesterviolence', 1.448118047433359),\n",
       " ('demand_labor-wage-dispute', 1.6189654312459523),\n",
       " ('demand_land-farm-issue', 1.2075004451979376),\n",
       " ('demand_police-brutality', 1.3396068341872815),\n",
       " ('demand_political-behavior/process', 5.508556272082605),\n",
       " ('demand_price-increases/tax-policy', 1.3193242653142538),\n",
       " ('demand_removal-of-politician', 1.4219981440210925),\n",
       " ('demand_social-restrictions', 1.1681366291177657),\n",
       " ('participants_log', 9.26312724501174),\n",
       " ('duration_days_log', 1.1453109311767897),\n",
       " ('protestnumber_log', 3.405452733620301),\n",
       " ('yrsoffc', 8.40492050902993),\n",
       " ('finittrm', 54.42165672378668),\n",
       " ('termlimit', 4.888557617059461),\n",
       " ('military', 1.5217667551987883),\n",
       " ('defmin', 1.4730825313807876),\n",
       " ('execnat', 1.343673892956577),\n",
       " ('totalseats', 3.7664236995171714),\n",
       " ('oppmajh', 1.0629943475928183),\n",
       " ('legelec', 1.5812188133834075),\n",
       " ('exelec', 1.4812021369871482),\n",
       " ('liec', 97.34795212246382),\n",
       " ('eiec', 64.59574138384286),\n",
       " ('gq', 3.07929819773418),\n",
       " ('gqi', 1.8647856707016512),\n",
       " ('auton', 1.849800804081571),\n",
       " ('numvote', 5.675816701010149),\n",
       " ('oppvote', 5.911953866465482),\n",
       " ('maj', 23.83836208950114),\n",
       " ('herfgov', 1.0693951617264927),\n",
       " ('govfrac', 2.3577968188893195),\n",
       " ('tensys_strict', 5.310987438523703),\n",
       " ('checks', 9.564511991708777),\n",
       " ('stabs_strict', 1.434718827963019),\n",
       " ('tenlong_strict', 6.626841242326373),\n",
       " ('tenshort_strict', 5.779743738762574),\n",
       " ('xconst', 1.1264668591695806)]"
      ]
     },
     "metadata": {},
     "output_type": "display_data"
    },
    {
     "data": {
      "image/png": "[encoded data removed]",
      "text/plain": [
       "<Figure size 2664x1776 with 2 Axes>"
      ]
     },
     "metadata": {
      "needs_background": "light"
     },
     "output_type": "display_data"
    },
    {
     "name": "stdout",
     "output_type": "stream",
     "text": [
      "Features with correlation higher than 0.2:\n"
     ]
    },
    {
     "data": {
      "text/html": [
       "<div>\n",
       "<style scoped>\n",
       "    .dataframe tbody tr th:only-of-type {\n",
       "        vertical-align: middle;\n",
       "    }\n",
       "\n",
       "    .dataframe tbody tr th {\n",
       "        vertical-align: top;\n",
       "    }\n",
       "\n",
       "    .dataframe thead th {\n",
       "        text-align: right;\n",
       "    }\n",
       "</style>\n",
       "<table border=\"1\" class=\"dataframe\">\n",
       "  <thead>\n",
       "    <tr style=\"text-align: right;\">\n",
       "      <th></th>\n",
       "      <th>cc</th>\n",
       "    </tr>\n",
       "    <tr>\n",
       "      <th>pairs</th>\n",
       "      <th></th>\n",
       "    </tr>\n",
       "  </thead>\n",
       "  <tbody>\n",
       "    <tr>\n",
       "      <th>(protesterviolence, protesterviolence)</th>\n",
       "      <td>1.000000</td>\n",
       "    </tr>\n",
       "    <tr>\n",
       "      <th>(tenlong_strict, yrsoffc)</th>\n",
       "      <td>0.780163</td>\n",
       "    </tr>\n",
       "    <tr>\n",
       "      <th>(yrsoffc, tenshort_strict)</th>\n",
       "      <td>0.765382</td>\n",
       "    </tr>\n",
       "    <tr>\n",
       "      <th>(liec, eiec)</th>\n",
       "      <td>0.674035</td>\n",
       "    </tr>\n",
       "    <tr>\n",
       "      <th>(tenlong_strict, tenshort_strict)</th>\n",
       "      <td>0.633976</td>\n",
       "    </tr>\n",
       "    <tr>\n",
       "      <th>...</th>\n",
       "      <td>...</td>\n",
       "    </tr>\n",
       "    <tr>\n",
       "      <th>(yrsoffc, execnat)</th>\n",
       "      <td>0.209019</td>\n",
       "    </tr>\n",
       "    <tr>\n",
       "      <th>(eiec, tenlong_strict)</th>\n",
       "      <td>0.206541</td>\n",
       "    </tr>\n",
       "    <tr>\n",
       "      <th>(yrsoffc, oppvote)</th>\n",
       "      <td>0.204862</td>\n",
       "    </tr>\n",
       "    <tr>\n",
       "      <th>(military, oppvote)</th>\n",
       "      <td>0.203807</td>\n",
       "    </tr>\n",
       "    <tr>\n",
       "      <th>(military, gq)</th>\n",
       "      <td>0.202514</td>\n",
       "    </tr>\n",
       "  </tbody>\n",
       "</table>\n",
       "<p>69 rows × 1 columns</p>\n",
       "</div>"
      ],
      "text/plain": [
       "                                              cc\n",
       "pairs                                           \n",
       "(protesterviolence, protesterviolence)  1.000000\n",
       "(tenlong_strict, yrsoffc)               0.780163\n",
       "(yrsoffc, tenshort_strict)              0.765382\n",
       "(liec, eiec)                            0.674035\n",
       "(tenlong_strict, tenshort_strict)       0.633976\n",
       "...                                          ...\n",
       "(yrsoffc, execnat)                      0.209019\n",
       "(eiec, tenlong_strict)                  0.206541\n",
       "(yrsoffc, oppvote)                      0.204862\n",
       "(military, oppvote)                     0.203807\n",
       "(military, gq)                          0.202514\n",
       "\n",
       "[69 rows x 1 columns]"
      ]
     },
     "metadata": {},
     "output_type": "display_data"
    }
   ],
   "source": [
    "vif_droppers = ['country', 'region', 'system', 'execrel'] # Categoricals\n",
    "collinearity_df = model_inputs.drop(vif_droppers, axis=1)\n",
    "\n",
    "display(calc_vif(collinearity_df))\n",
    "calculate_collinearity(collinearity_df, min_threshold=0.2, plot=True)"
   ]
  },
  {
   "cell_type": "markdown",
   "id": "3fac2559",
   "metadata": {
    "id": "494881f9"
   },
   "source": [
    "##### Remove *liec*\n",
    "\n",
    "Reminder of definitions:\n",
    "- *liec:* legislative index of electoral competitiveness\n",
    "- *eiec:* executive index of electoral competitiveness\n",
    "\n",
    "Given the similar nature of these features, collinearity is not surprising. Given the downstream analysis of past models, it was determined that *eiec* has a stronger impact on model performance than *liec*. Drop the latter. \n"
   ]
  },
  {
   "cell_type": "code",
   "execution_count": 23,
   "id": "3e84a165",
   "metadata": {
    "executionInfo": {
     "elapsed": 10,
     "status": "ok",
     "timestamp": 1630537953709,
     "user": {
      "displayName": "",
      "photoUrl": "",
      "userId": ""
     },
     "user_tz": 480
    },
    "id": "e920646d"
   },
   "outputs": [
    {
     "name": "stdout",
     "output_type": "stream",
     "text": [
      "<class 'pandas.core.frame.DataFrame'>\n",
      "Int64Index: 11840 entries, 0 to 15060\n",
      "Data columns (total 34 columns):\n",
      " #   Column                             Non-Null Count  Dtype   \n",
      "---  ------                             --------------  -----   \n",
      " 0   country                            11840 non-null  category\n",
      " 1   region                             11840 non-null  category\n",
      " 2   protesterviolence                  11840 non-null  float64 \n",
      " 3   demand_labor-wage-dispute          11840 non-null  float64 \n",
      " 4   demand_land-farm-issue             11840 non-null  float64 \n",
      " 5   demand_police-brutality            11840 non-null  float64 \n",
      " 6   demand_political-behavior/process  11840 non-null  float64 \n",
      " 7   demand_price-increases/tax-policy  11840 non-null  float64 \n",
      " 8   demand_removal-of-politician       11840 non-null  float64 \n",
      " 9   demand_social-restrictions         11840 non-null  float64 \n",
      " 10  participants_log                   11840 non-null  float64 \n",
      " 11  duration_days_log                  11840 non-null  float64 \n",
      " 12  protestnumber_log                  11840 non-null  float64 \n",
      " 13  system                             11840 non-null  category\n",
      " 14  yrsoffc                            11840 non-null  float64 \n",
      " 15  termlimit                          11840 non-null  float64 \n",
      " 16  military                           11840 non-null  float64 \n",
      " 17  defmin                             11840 non-null  float64 \n",
      " 18  execnat                            11840 non-null  float64 \n",
      " 19  execrel                            11840 non-null  object  \n",
      " 20  totalseats                         11840 non-null  float64 \n",
      " 21  oppmajh                            11840 non-null  float64 \n",
      " 22  legelec                            11840 non-null  float64 \n",
      " 23  exelec                             11840 non-null  float64 \n",
      " 24  gq                                 11840 non-null  float64 \n",
      " 25  gqi                                11840 non-null  float64 \n",
      " 26  auton                              11840 non-null  float64 \n",
      " 27  numvote                            11840 non-null  float64 \n",
      " 28  maj                                11840 non-null  float64 \n",
      " 29  herfgov                            11840 non-null  float64 \n",
      " 30  tensys_strict                      11840 non-null  float64 \n",
      " 31  checks                             11840 non-null  float64 \n",
      " 32  stabs_strict                       11840 non-null  float64 \n",
      " 33  xconst                             11840 non-null  float64 \n",
      "dtypes: category(3), float64(30), object(1)\n",
      "memory usage: 2.9+ MB\n"
     ]
    }
   ],
   "source": [
    "# model_inputs.drop('liec', axis=1, inplace=True) #OLD (limited features)\n",
    "\n",
    "model_inputs.drop(['liec', 'eiec', 'tenlong_strict', 'tenshort_strict', 'finittrm', 'govfrac', 'oppvote'], axis=1, inplace=True)\n",
    "model_inputs.info()"
   ]
  },
  {
   "cell_type": "code",
   "execution_count": 24,
   "id": "7d79baad",
   "metadata": {
    "colab": {
     "base_uri": "https://localhost:8080/",
     "height": 1000
    },
    "executionInfo": {
     "elapsed": 1807,
     "status": "ok",
     "timestamp": 1630537955512,
     "user": {
      "displayName": "",
      "photoUrl": "",
      "userId": ""
     },
     "user_tz": 480
    },
    "id": "b69e5ed7",
    "outputId": "9680b2a1-e502-4630-cd8d-ee9f6a37ba18"
   },
   "outputs": [
    {
     "data": {
      "text/plain": [
       "[('protesterviolence', 1.4290549303052018),\n",
       " ('demand_labor-wage-dispute', 1.5654209901914924),\n",
       " ('demand_land-farm-issue', 1.1942289053875537),\n",
       " ('demand_police-brutality', 1.3080663799278598),\n",
       " ('demand_political-behavior/process', 5.114659651055319),\n",
       " ('demand_price-increases/tax-policy', 1.2930103858861666),\n",
       " ('demand_removal-of-politician', 1.3724980039117765),\n",
       " ('demand_social-restrictions', 1.1546461976354196),\n",
       " ('participants_log', 8.185789078979589),\n",
       " ('duration_days_log', 1.14241018166813),\n",
       " ('protestnumber_log', 3.3391141772565396),\n",
       " ('yrsoffc', 2.827525957470558),\n",
       " ('termlimit', 3.711502172402902),\n",
       " ('military', 1.4909545605068937),\n",
       " ('defmin', 1.4330932488101542),\n",
       " ('execnat', 1.2792420757913292),\n",
       " ('totalseats', 2.4984281655415446),\n",
       " ('oppmajh', 1.0553452223765323),\n",
       " ('legelec', 1.5557042170231334),\n",
       " ('exelec', 1.4672137112952608),\n",
       " ('gq', 2.872871451909864),\n",
       " ('gqi', 1.7852597301090487),\n",
       " ('auton', 1.7696580608326942),\n",
       " ('numvote', 3.1924393741370527),\n",
       " ('maj', 11.531054768804156),\n",
       " ('herfgov', 1.0600688807613527),\n",
       " ('tensys_strict', 4.788942030897703),\n",
       " ('checks', 5.334280956580057),\n",
       " ('stabs_strict', 1.3625350937162137),\n",
       " ('xconst', 1.1130841888313614)]"
      ]
     },
     "metadata": {},
     "output_type": "display_data"
    },
    {
     "data": {
      "image/png": "[encoded data removed]",
      "text/plain": [
       "<Figure size 2160x1440 with 2 Axes>"
      ]
     },
     "metadata": {
      "needs_background": "light"
     },
     "output_type": "display_data"
    },
    {
     "name": "stdout",
     "output_type": "stream",
     "text": [
      "Features with correlation higher than 0.2:\n"
     ]
    },
    {
     "data": {
      "text/html": [
       "<div>\n",
       "<style scoped>\n",
       "    .dataframe tbody tr th:only-of-type {\n",
       "        vertical-align: middle;\n",
       "    }\n",
       "\n",
       "    .dataframe tbody tr th {\n",
       "        vertical-align: top;\n",
       "    }\n",
       "\n",
       "    .dataframe thead th {\n",
       "        text-align: right;\n",
       "    }\n",
       "</style>\n",
       "<table border=\"1\" class=\"dataframe\">\n",
       "  <thead>\n",
       "    <tr style=\"text-align: right;\">\n",
       "      <th></th>\n",
       "      <th>cc</th>\n",
       "    </tr>\n",
       "    <tr>\n",
       "      <th>pairs</th>\n",
       "      <th></th>\n",
       "    </tr>\n",
       "  </thead>\n",
       "  <tbody>\n",
       "    <tr>\n",
       "      <th>(protesterviolence, protesterviolence)</th>\n",
       "      <td>1.000000</td>\n",
       "    </tr>\n",
       "    <tr>\n",
       "      <th>(checks, maj)</th>\n",
       "      <td>0.436117</td>\n",
       "    </tr>\n",
       "    <tr>\n",
       "      <th>(tensys_strict, gq)</th>\n",
       "      <td>0.432867</td>\n",
       "    </tr>\n",
       "    <tr>\n",
       "      <th>(tensys_strict, checks)</th>\n",
       "      <td>0.420018</td>\n",
       "    </tr>\n",
       "    <tr>\n",
       "      <th>(totalseats, auton)</th>\n",
       "      <td>0.402273</td>\n",
       "    </tr>\n",
       "    <tr>\n",
       "      <th>(military, yrsoffc)</th>\n",
       "      <td>0.398234</td>\n",
       "    </tr>\n",
       "    <tr>\n",
       "      <th>(legelec, exelec)</th>\n",
       "      <td>0.364723</td>\n",
       "    </tr>\n",
       "    <tr>\n",
       "      <th>(demand_political-behavior/process, demand_labor-wage-dispute)</th>\n",
       "      <td>0.344554</td>\n",
       "    </tr>\n",
       "    <tr>\n",
       "      <th>(tensys_strict, termlimit)</th>\n",
       "      <td>0.330994</td>\n",
       "    </tr>\n",
       "    <tr>\n",
       "      <th>(gqi, gq)</th>\n",
       "      <td>0.327936</td>\n",
       "    </tr>\n",
       "    <tr>\n",
       "      <th>(yrsoffc, maj)</th>\n",
       "      <td>0.316189</td>\n",
       "    </tr>\n",
       "    <tr>\n",
       "      <th>(totalseats, maj)</th>\n",
       "      <td>0.310318</td>\n",
       "    </tr>\n",
       "    <tr>\n",
       "      <th>(stabs_strict, yrsoffc)</th>\n",
       "      <td>0.302692</td>\n",
       "    </tr>\n",
       "    <tr>\n",
       "      <th>(demand_political-behavior/process, demand_price-increases/tax-policy)</th>\n",
       "      <td>0.250856</td>\n",
       "    </tr>\n",
       "    <tr>\n",
       "      <th>(yrsoffc, checks)</th>\n",
       "      <td>0.244412</td>\n",
       "    </tr>\n",
       "    <tr>\n",
       "      <th>(numvote, termlimit)</th>\n",
       "      <td>0.235820</td>\n",
       "    </tr>\n",
       "    <tr>\n",
       "      <th>(numvote, tensys_strict)</th>\n",
       "      <td>0.234276</td>\n",
       "    </tr>\n",
       "    <tr>\n",
       "      <th>(demand_political-behavior/process, demand_police-brutality)</th>\n",
       "      <td>0.233095</td>\n",
       "    </tr>\n",
       "    <tr>\n",
       "      <th>(military, tensys_strict)</th>\n",
       "      <td>0.232767</td>\n",
       "    </tr>\n",
       "    <tr>\n",
       "      <th>(defmin, tensys_strict)</th>\n",
       "      <td>0.229613</td>\n",
       "    </tr>\n",
       "    <tr>\n",
       "      <th>(defmin, military)</th>\n",
       "      <td>0.224279</td>\n",
       "    </tr>\n",
       "    <tr>\n",
       "      <th>(military, checks)</th>\n",
       "      <td>0.224193</td>\n",
       "    </tr>\n",
       "    <tr>\n",
       "      <th>(defmin, checks)</th>\n",
       "      <td>0.222042</td>\n",
       "    </tr>\n",
       "    <tr>\n",
       "      <th>(maj, termlimit)</th>\n",
       "      <td>0.217684</td>\n",
       "    </tr>\n",
       "    <tr>\n",
       "      <th>(execnat, yrsoffc)</th>\n",
       "      <td>0.209019</td>\n",
       "    </tr>\n",
       "    <tr>\n",
       "      <th>(gq, military)</th>\n",
       "      <td>0.202514</td>\n",
       "    </tr>\n",
       "  </tbody>\n",
       "</table>\n",
       "</div>"
      ],
      "text/plain": [
       "                                                          cc\n",
       "pairs                                                       \n",
       "(protesterviolence, protesterviolence)              1.000000\n",
       "(checks, maj)                                       0.436117\n",
       "(tensys_strict, gq)                                 0.432867\n",
       "(tensys_strict, checks)                             0.420018\n",
       "(totalseats, auton)                                 0.402273\n",
       "(military, yrsoffc)                                 0.398234\n",
       "(legelec, exelec)                                   0.364723\n",
       "(demand_political-behavior/process, demand_labo...  0.344554\n",
       "(tensys_strict, termlimit)                          0.330994\n",
       "(gqi, gq)                                           0.327936\n",
       "(yrsoffc, maj)                                      0.316189\n",
       "(totalseats, maj)                                   0.310318\n",
       "(stabs_strict, yrsoffc)                             0.302692\n",
       "(demand_political-behavior/process, demand_pric...  0.250856\n",
       "(yrsoffc, checks)                                   0.244412\n",
       "(numvote, termlimit)                                0.235820\n",
       "(numvote, tensys_strict)                            0.234276\n",
       "(demand_political-behavior/process, demand_poli...  0.233095\n",
       "(military, tensys_strict)                           0.232767\n",
       "(defmin, tensys_strict)                             0.229613\n",
       "(defmin, military)                                  0.224279\n",
       "(military, checks)                                  0.224193\n",
       "(defmin, checks)                                    0.222042\n",
       "(maj, termlimit)                                    0.217684\n",
       "(execnat, yrsoffc)                                  0.209019\n",
       "(gq, military)                                      0.202514"
      ]
     },
     "metadata": {},
     "output_type": "display_data"
    }
   ],
   "source": [
    "vif_droppers = ['country', 'region', 'system', 'execrel'] # Categoricals\n",
    "collinearity_df = model_inputs.drop(vif_droppers, axis=1)\n",
    "\n",
    "display(calc_vif(collinearity_df))\n",
    "calculate_collinearity(collinearity_df, min_threshold=0.2, plot=True)"
   ]
  },
  {
   "cell_type": "markdown",
   "id": "671ebe5f",
   "metadata": {
    "id": "6ac3f1e0"
   },
   "source": [
    "##### Standard train-test splits"
   ]
  },
  {
   "cell_type": "code",
   "execution_count": 25,
   "id": "880bbb82",
   "metadata": {
    "executionInfo": {
     "elapsed": 200,
     "status": "ok",
     "timestamp": 1630537979586,
     "user": {
      "displayName": "",
      "photoUrl": "",
      "userId": ""
     },
     "user_tz": 480
    },
    "id": "a2c16958"
   },
   "outputs": [],
   "source": [
    "x_train, x_test, y_train, y_test = train_test_split(model_inputs, target, \n",
    "                                                    random_state=RANDOM_STATE, \n",
    "                                                    test_size=0.3)"
   ]
  },
  {
   "cell_type": "markdown",
   "id": "89d5449c",
   "metadata": {
    "id": "846422a1"
   },
   "source": [
    "### Define models and parameter grids\n",
    "\n",
    "Define all models and grids in one place. A pipeline structure is created such that each of these models can be run with the below-defined hyperparameter tuning grids alongside their resampling, scaling and encoding. This allows for minimal repetition in code and a consistent structure."
   ]
  },
  {
   "cell_type": "code",
   "execution_count": 30,
   "id": "9ad04ba1",
   "metadata": {
    "executionInfo": {
     "elapsed": 159,
     "status": "ok",
     "timestamp": 1630537981166,
     "user": {
      "displayName": "",
      "photoUrl": "",
      "userId": ""
     },
     "user_tz": 480
    },
    "id": "9eb0251f"
   },
   "outputs": [],
   "source": [
    "# Set parameter grid to search across\n",
    "grid_bay = {'model__var_smoothing': [1e-9]}\n",
    "\n",
    "grid_log = {'model__C': np.logspace(-1, 5, 2)}#10)}\n",
    "\n",
    "grid_dt = {\n",
    "#     'model__max_depth': [3, 5, 7], \n",
    "#     'model__criterion': ['gini', 'entropy'],\n",
    "#     'model__min_samples_split': [5, 10],\n",
    "    'model__min_samples_leaf': [5]}#, 10]} \n",
    "\n",
    "grid_rf = {\n",
    "#     'model__n_estimators': [25, 75, 150],\n",
    "#     'model__criterion': ['gini', 'entropy'],\n",
    "#     'model__max_depth': [3, 6, 10],\n",
    "#     'model__min_samples_split': [5, 10],\n",
    "    'model__min_samples_leaf': [3]}#, 6]}\n",
    "\n",
    "grid_knn = {\n",
    "#     'model__leaf_size': [25, 50, 75],\n",
    "#     'model__n_neighbors': [3, 5, 7, 9],\n",
    "    'model__weights': ['uniform']}#, 'distance']}      \n",
    "\n",
    "grid_ada = {\n",
    "#     'model__n_estimators': [50, 200],\n",
    "    'model__learning_rate': [1]}#, 0.5, 0.25]}\n",
    "\n",
    "grid_xgb = {\n",
    "    'model__learning_rate': [0.25], #[0.01, 0.1, 0.25, 0.5],\n",
    "    'model__max_depth': [12],# [8, 10, 12, 14],\n",
    "    'model__subsample': [1], #[0.4, 0.7, 1],\n",
    "    'model__n_estimators': [200]}#[100, 200, 300, 400, 500]}\n",
    "\n",
    "\n",
    "np.random.seed(RANDOM_STATE)\n",
    "model_bay = GaussianNB()\n",
    "model_log = LogisticRegression(max_iter=5000)\n",
    "model_dt = DecisionTreeClassifier()\n",
    "model_rf = RandomForestClassifier()\n",
    "model_knn = KNeighborsClassifier()\n",
    "model_ada = AdaBoostClassifier(random_state=RANDOM_STATE)\n",
    "model_xgb = XGBClassifier(eval_metric='logloss', use_label_encoder=False, \n",
    "                          random_state=RANDOM_STATE, n_jobs=-1)\n",
    "\n",
    "grids = [grid_bay, grid_log, grid_dt, grid_rf, grid_knn, grid_ada, grid_xgb]\n",
    "models = [model_bay, model_log, model_dt, model_rf, model_knn, model_ada, model_xgb]"
   ]
  },
  {
   "cell_type": "markdown",
   "id": "fad52494",
   "metadata": {
    "id": "de8bb386"
   },
   "source": [
    "#### Pipeline function\n",
    "\n",
    "This high-level function wraps all the different components of the model pipeline into one location, applying one-hot encoding, standard scaling, smote resampling, and grid searches to the input model. It also outputs performance in the form of standard metrics and a confusion matrix."
   ]
  },
  {
   "cell_type": "code",
   "execution_count": 31,
   "id": "30287e72",
   "metadata": {
    "executionInfo": {
     "elapsed": 142,
     "status": "ok",
     "timestamp": 1630537982004,
     "user": {
      "displayName": "",
      "photoUrl": "",
      "userId": ""
     },
     "user_tz": 480
    },
    "id": "08d2ebd3"
   },
   "outputs": [],
   "source": [
    "def create_pipeline_and_run(model, grid, metric='accuracy'):\n",
    "    np.random.seed(RANDOM_STATE)\n",
    "    ohe = OneHotEncoder(handle_unknown='ignore', sparse=False)\n",
    "    scaler = StandardScaler()\n",
    "    smote = SMOTE(random_state=RANDOM_STATE)\n",
    "\n",
    "    selector_object = make_column_selector(dtype_exclude='number')\n",
    "    selector_numeric = make_column_selector(dtype_include='number')\n",
    "    transformer = make_column_transformer((ohe, selector_object),\n",
    "                                         (scaler, selector_numeric))\n",
    "\n",
    "\n",
    "    pipe = Pipeline([('transformer', transformer),\n",
    "                     ('smote', smote), \n",
    "                     ('model', model)])\n",
    "\n",
    "    # Instantiate and fit grid search object\n",
    "    grid = GridSearchCV(pipe, grid, scoring='f1', cv=10)\n",
    "    grid.fit(x_train, y_train.values.ravel())\n",
    "    pred = grid.best_estimator_.predict(x_test)\n",
    "    \n",
    "    \n",
    "    print(f'{model}:')\n",
    "    print_scores(pred, y_test)\n",
    "    \n",
    "    # Confusion matrix\n",
    "    plt.figure()\n",
    "    plot_confusion_matrix(grid.best_estimator_, x_test, y_test)\n",
    "    plt.show();\n",
    "    \n",
    "    return grid.best_estimator_"
   ]
  },
  {
   "cell_type": "markdown",
   "id": "9ae0f9f8",
   "metadata": {
    "id": "96e78b8b"
   },
   "source": [
    "#### Dummy classifier as performance baseline"
   ]
  },
  {
   "cell_type": "code",
   "execution_count": 32,
   "id": "f1949140",
   "metadata": {
    "colab": {
     "base_uri": "https://localhost:8080/"
    },
    "executionInfo": {
     "elapsed": 129,
     "status": "ok",
     "timestamp": 1630537985091,
     "user": {
      "displayName": "",
      "photoUrl": "",
      "userId": ""
     },
     "user_tz": 480
    },
    "id": "151fcd72",
    "outputId": "c0b951f1-9d8f-4e94-b5f4-e365ec9a3b10"
   },
   "outputs": [
    {
     "name": "stdout",
     "output_type": "stream",
     "text": [
      "DUMMY SCORE (stratified):\n",
      "- f1: 0.08752735229759301\n",
      "- accuracy: 0.8826013513513513\n",
      "- precision: 0.08658008658008658\n",
      "- recall: 0.08849557522123894\n",
      "DUMMY SCORE (uniform):\n",
      "- f1: 0.11536597188560349\n",
      "- accuracy: 0.48620495495495497\n",
      "- precision: 0.06477953184540011\n",
      "- recall: 0.5265486725663717\n",
      "DUMMY SCORE (most_frequent):\n",
      "- f1: 0.0\n",
      "- accuracy: 0.9363738738738738\n",
      "- precision: 0.0\n",
      "- recall: 0.0\n"
     ]
    },
    {
     "name": "stderr",
     "output_type": "stream",
     "text": [
      "Precision is ill-defined and being set to 0.0 due to no predicted samples. Use `zero_division` parameter to control this behavior.\n"
     ]
    }
   ],
   "source": [
    "for strategy in [\"stratified\", \"uniform\", \"most_frequent\"]:\n",
    "    dummy_clf = DummyClassifier(strategy=strategy)\n",
    "    dummy_clf.fit(x_train, y_train)\n",
    "    \n",
    "    print(f'DUMMY SCORE ({strategy}):')\n",
    "    pred = dummy_clf.predict(x_test)\n",
    "    print_scores(pred, y_test)"
   ]
  },
  {
   "cell_type": "markdown",
   "id": "51e0462e",
   "metadata": {
    "id": "3eee93ae"
   },
   "source": [
    "### Run *all models* defined above\n",
    "\n",
    "Run this cell to output the performance of all above-defined models in one place for a side-by-side comparison"
   ]
  },
  {
   "cell_type": "code",
   "execution_count": 33,
   "id": "733cce8f",
   "metadata": {
    "executionInfo": {
     "elapsed": 137,
     "status": "ok",
     "timestamp": 1630537986312,
     "user": {
      "displayName": "",
      "photoUrl": "",
      "userId": ""
     },
     "user_tz": 480
    },
    "id": "7e916970",
    "tags": []
   },
   "outputs": [
    {
     "name": "stdout",
     "output_type": "stream",
     "text": [
      "GaussianNB():\n",
      "- f1: 0.18436703483432454\n",
      "- accuracy: 0.4594594594594595\n",
      "- precision: 0.10197368421052631\n",
      "- recall: 0.9601769911504425\n"
     ]
    },
    {
     "data": {
      "text/plain": [
       "<Figure size 432x288 with 0 Axes>"
      ]
     },
     "metadata": {},
     "output_type": "display_data"
    },
    {
     "data": {
      "image/png": "[encoded data removed]",
      "text/plain": [
       "<Figure size 432x288 with 2 Axes>"
      ]
     },
     "metadata": {
      "needs_background": "light"
     },
     "output_type": "display_data"
    },
    {
     "name": "stdout",
     "output_type": "stream",
     "text": [
      "LogisticRegression(max_iter=5000):\n",
      "- f1: 0.28719723183391005\n",
      "- accuracy: 0.7680180180180181\n",
      "- precision: 0.17849462365591398\n",
      "- recall: 0.7345132743362832\n"
     ]
    },
    {
     "data": {
      "text/plain": [
       "<Figure size 432x288 with 0 Axes>"
      ]
     },
     "metadata": {},
     "output_type": "display_data"
    },
    {
     "data": {
      "image/png": "[encoded data removed]",
      "text/plain": [
       "<Figure size 432x288 with 2 Axes>"
      ]
     },
     "metadata": {
      "needs_background": "light"
     },
     "output_type": "display_data"
    },
    {
     "name": "stdout",
     "output_type": "stream",
     "text": [
      "DecisionTreeClassifier():\n",
      "- f1: 0.6090373280943026\n",
      "- accuracy: 0.9439752252252253\n",
      "- precision: 0.5477031802120141\n",
      "- recall: 0.6858407079646017\n"
     ]
    },
    {
     "data": {
      "text/plain": [
       "<Figure size 432x288 with 0 Axes>"
      ]
     },
     "metadata": {},
     "output_type": "display_data"
    },
    {
     "data": {
      "image/png": "[encoded data removed]",
      "text/plain": [
       "<Figure size 432x288 with 2 Axes>"
      ]
     },
     "metadata": {
      "needs_background": "light"
     },
     "output_type": "display_data"
    },
    {
     "name": "stdout",
     "output_type": "stream",
     "text": [
      "RandomForestClassifier():\n",
      "- f1: 0.6413301662707838\n",
      "- accuracy: 0.9574887387387387\n",
      "- precision: 0.6923076923076923\n",
      "- recall: 0.5973451327433629\n"
     ]
    },
    {
     "data": {
      "text/plain": [
       "<Figure size 432x288 with 0 Axes>"
      ]
     },
     "metadata": {},
     "output_type": "display_data"
    },
    {
     "data": {
      "image/png": "[encoded data removed]",
      "text/plain": [
       "<Figure size 432x288 with 2 Axes>"
      ]
     },
     "metadata": {
      "needs_background": "light"
     },
     "output_type": "display_data"
    },
    {
     "name": "stdout",
     "output_type": "stream",
     "text": [
      "KNeighborsClassifier():\n",
      "- f1: 0.4116161616161616\n",
      "- accuracy: 0.8688063063063063\n",
      "- precision: 0.2879858657243816\n",
      "- recall: 0.7212389380530974\n"
     ]
    },
    {
     "data": {
      "text/plain": [
       "<Figure size 432x288 with 0 Axes>"
      ]
     },
     "metadata": {},
     "output_type": "display_data"
    },
    {
     "data": {
      "image/png": "[encoded data removed]",
      "text/plain": [
       "<Figure size 432x288 with 2 Axes>"
      ]
     },
     "metadata": {
      "needs_background": "light"
     },
     "output_type": "display_data"
    },
    {
     "name": "stdout",
     "output_type": "stream",
     "text": [
      "AdaBoostClassifier(random_state=2021):\n",
      "- f1: 0.29935483870967744\n",
      "- accuracy: 0.8471283783783784\n",
      "- precision: 0.21129326047358835\n",
      "- recall: 0.5132743362831859\n"
     ]
    },
    {
     "data": {
      "text/plain": [
       "<Figure size 432x288 with 0 Axes>"
      ]
     },
     "metadata": {},
     "output_type": "display_data"
    },
    {
     "data": {
      "image/png": "[encoded data removed]",
      "text/plain": [
       "<Figure size 432x288 with 2 Axes>"
      ]
     },
     "metadata": {
      "needs_background": "light"
     },
     "output_type": "display_data"
    },
    {
     "name": "stdout",
     "output_type": "stream",
     "text": [
      "XGBClassifier(base_score=None, booster=None, colsample_bylevel=None,\n",
      "              colsample_bynode=None, colsample_bytree=None,\n",
      "              eval_metric='logloss', gamma=None, gpu_id=None,\n",
      "              importance_type='gain', interaction_constraints=None,\n",
      "              learning_rate=None, max_delta_step=None, max_depth=None,\n",
      "              min_child_weight=None, missing=nan, monotone_constraints=None,\n",
      "              n_estimators=100, n_jobs=-1, num_parallel_tree=None,\n",
      "              random_state=2021, reg_alpha=None, reg_lambda=None,\n",
      "              scale_pos_weight=None, subsample=None, tree_method=None,\n",
      "              use_label_encoder=False, validate_parameters=None,\n",
      "              verbosity=None):\n",
      "- f1: 0.739454094292804\n",
      "- accuracy: 0.9704391891891891\n",
      "- precision: 0.8418079096045198\n",
      "- recall: 0.6592920353982301\n"
     ]
    },
    {
     "data": {
      "text/plain": [
       "<Figure size 432x288 with 0 Axes>"
      ]
     },
     "metadata": {},
     "output_type": "display_data"
    },
    {
     "data": {
      "image/png": "[encoded data removed]",
      "text/plain": [
       "<Figure size 432x288 with 2 Axes>"
      ]
     },
     "metadata": {
      "needs_background": "light"
     },
     "output_type": "display_data"
    }
   ],
   "source": [
    "pipes = []\n",
    "for grid, model in zip(grids, models):\n",
    "    pipe = create_pipeline_and_run(model, grid)\n",
    "    pipes.append(pipe)"
   ]
  },
  {
   "cell_type": "markdown",
   "id": "34f8c90a",
   "metadata": {
    "id": "fbb16d1e",
    "tags": []
   },
   "source": [
    "### Run *only one* model\n",
    "\n",
    "Choose which model to run in the below cell (used for iterative testing and investigating model specifics without running all models)"
   ]
  },
  {
   "cell_type": "code",
   "execution_count": 34,
   "id": "354f169f",
   "metadata": {
    "colab": {
     "base_uri": "https://localhost:8080/",
     "height": 1000
    },
    "executionInfo": {
     "elapsed": 6332885,
     "status": "ok",
     "timestamp": 1630547941221,
     "user": {
      "displayName": "",
      "photoUrl": "",
      "userId": ""
     },
     "user_tz": 480
    },
    "id": "88e9e0af",
    "outputId": "b3065f76-4052-4cd4-cb2b-457cf37638e7"
   },
   "outputs": [],
   "source": [
    "xgb = pipes[-1] # Since it is the last model in pipes\n",
    "\n",
    "# Uncomment and run to look at one model separately\n",
    "#xgb = create_pipeline_and_run(model_xgb, grid_xgb);"
   ]
  },
  {
   "cell_type": "markdown",
   "id": "a39923fa",
   "metadata": {
    "id": "9c40f5df"
   },
   "source": [
    "##### Print optimal model hyperparameters"
   ]
  },
  {
   "cell_type": "code",
   "execution_count": 35,
   "id": "1a82ccf7",
   "metadata": {
    "colab": {
     "base_uri": "https://localhost:8080/"
    },
    "executionInfo": {
     "elapsed": 169,
     "status": "ok",
     "timestamp": 1630547941390,
     "user": {
      "displayName": "",
      "photoUrl": "",
      "userId": ""
     },
     "user_tz": 480
    },
    "id": "d11e0ddd",
    "outputId": "480c211c-c5b5-4879-8b5e-abddcabae84c"
   },
   "outputs": [
    {
     "name": "stdout",
     "output_type": "stream",
     "text": [
      "('model', XGBClassifier(base_score=0.5, booster='gbtree', colsample_bylevel=1,\n",
      "              colsample_bynode=1, colsample_bytree=1, eval_metric='logloss',\n",
      "              gamma=0, gpu_id=-1, importance_type='gain',\n",
      "              interaction_constraints='', learning_rate=0.25, max_delta_step=0,\n",
      "              max_depth=12, min_child_weight=1, missing=nan,\n",
      "              monotone_constraints='()', n_estimators=200, n_jobs=-1,\n",
      "              num_parallel_tree=1, random_state=2021, reg_alpha=0, reg_lambda=1,\n",
      "              scale_pos_weight=1, subsample=1, tree_method='exact',\n",
      "              use_label_encoder=False, validate_parameters=1, verbosity=None))\n"
     ]
    }
   ],
   "source": [
    "print(xgb.steps[2])"
   ]
  },
  {
   "cell_type": "markdown",
   "id": "36c037f9",
   "metadata": {
    "id": "89c04179"
   },
   "source": [
    "#### Test model on test dataset\n",
    "\n",
    "XG boost proves to be the highest performing model. Test its performance on the test dataset."
   ]
  },
  {
   "cell_type": "code",
   "execution_count": 36,
   "id": "89fe42f2",
   "metadata": {
    "executionInfo": {
     "elapsed": 1,
     "status": "aborted",
     "timestamp": 1630547977628,
     "user": {
      "displayName": "",
      "photoUrl": "",
      "userId": ""
     },
     "user_tz": 480
    },
    "id": "755d2e5e"
   },
   "outputs": [
    {
     "name": "stdout",
     "output_type": "stream",
     "text": [
      "- f1: 0.739454094292804\n",
      "- accuracy: 0.9704391891891891\n",
      "- precision: 0.8418079096045198\n",
      "- recall: 0.6592920353982301\n"
     ]
    },
    {
     "data": {
      "image/png": "[encoded data removed]",
      "text/plain": [
       "<Figure size 432x288 with 2 Axes>"
      ]
     },
     "metadata": {
      "needs_background": "light"
     },
     "output_type": "display_data"
    }
   ],
   "source": [
    "# Predict output\n",
    "pred = xgb.predict(x_test)\n",
    "\n",
    "# Show performance\n",
    "print_scores(pred, y_test)\n",
    "plot_confusion_matrix(xgb, x_test, y_test);"
   ]
  },
  {
   "cell_type": "code",
   "execution_count": null,
   "id": "c3727387",
   "metadata": {
    "executionInfo": {
     "elapsed": 2,
     "status": "aborted",
     "timestamp": 1630547977629,
     "user": {
      "displayName": "",
      "photoUrl": "",
      "userId": ""
     },
     "user_tz": 480
    },
    "id": "95a6814a"
   },
   "outputs": [],
   "source": [
    "# Predict output\n",
    "pred = xgb.predict(x_test)\n",
    "\n",
    "# Show performance\n",
    "print_scores(pred, y_test)\n",
    "\n",
    "# Plot test data and full data performance\n",
    "labels = ['No change', 'Regime Change']\n",
    "fig, axes = plt.subplots(nrows=1, ncols=2, figsize=(12,8))\n",
    "plt.subplots_adjust(wspace=0.6, hspace=None)\n",
    "axes[0].set_title('Test Dataset (%)')\n",
    "axes[1].set_title('Entire Dataset (%)')\n",
    "\n",
    "plot_confusion_matrix(xgb, x_test, y_test, \n",
    "                      ax=axes[0], \n",
    "                      display_labels=labels, \n",
    "                      colorbar=False, \n",
    "                      normalize='all')\n",
    "\n",
    "plot_confusion_matrix(xgb, model_inputs, target, \n",
    "                      ax=axes[1], \n",
    "                      display_labels=labels, \n",
    "                      colorbar=False, \n",
    "                      normalize='all');\n",
    "\n",
    "plt.savefig('../images/confusion_matrices.png')"
   ]
  },
  {
   "cell_type": "markdown",
   "id": "938d4513",
   "metadata": {
    "id": "5530c54c"
   },
   "source": [
    "### Feature importance\n",
    "\n",
    "Evaluate the feature importance in the top-performing model"
   ]
  },
  {
   "cell_type": "code",
   "execution_count": null,
   "id": "12ac458a",
   "metadata": {
    "colab": {
     "base_uri": "https://localhost:8080/"
    },
    "executionInfo": {
     "elapsed": 162,
     "status": "ok",
     "timestamp": 1630548729544,
     "user": {
      "displayName": "",
      "photoUrl": "",
      "userId": ""
     },
     "user_tz": 480
    },
    "id": "2i0y5ojgRwy3",
    "outputId": "2fb35f88-c334-445e-e3a1-7508d594a4b8"
   },
   "outputs": [],
   "source": [
    "x_train.info()"
   ]
  },
  {
   "cell_type": "code",
   "execution_count": null,
   "id": "47b070fe",
   "metadata": {
    "id": "6679c2a0"
   },
   "outputs": [],
   "source": [
    "# SHAP summary plot for XGB\n",
    "produce_shap_plot(x_train, y_train, x_test, y_test, clone(xgb), \n",
    "                  title='Feature Importance Summary Plot for XGB Model', \n",
    "                  savepath = '../images/shap_summary_plot.png');"
   ]
  },
  {
   "cell_type": "code",
   "execution_count": null,
   "id": "c0d95467",
   "metadata": {
    "colab": {
     "base_uri": "https://localhost:8080/",
     "height": 758
    },
    "executionInfo": {
     "elapsed": 59180,
     "status": "ok",
     "timestamp": 1630548845738,
     "user": {
      "displayName": "",
      "photoUrl": "",
      "userId": ""
     },
     "user_tz": 480
    },
    "id": "7917a43d",
    "outputId": "d33ec42f-1b8f-4bc9-c416-637c54ebbc99"
   },
   "outputs": [],
   "source": [
    "# SHAP bar plot for XGB model\n",
    "model = xgb.steps[2][1]\n",
    "x_train_final, y_train_final, df_test_expanded_scaled = get_shap_df(x_train, \n",
    "                                                                    y_train, \n",
    "                                                                    x_test)\n",
    "model.fit(x_train_final, y_train_final)\n",
    "explainer = shap.Explainer(model)\n",
    "plt.title('Feature Importance for XGB Model')\n",
    "shap_values = explainer(df_test_expanded_scaled)\n",
    "shap.plots.bar(shap_values, max_display=20)"
   ]
  },
  {
   "cell_type": "markdown",
   "id": "80e6e052",
   "metadata": {
    "id": "acb4d679"
   },
   "source": [
    "### Permutation Feature Importance\n",
    "\n",
    "Source: https://scikit-learn.org/stable/modules/permutation_importance.html"
   ]
  },
  {
   "cell_type": "code",
   "execution_count": null,
   "id": "8865b9f5",
   "metadata": {
    "colab": {
     "base_uri": "https://localhost:8080/",
     "height": 1000
    },
    "executionInfo": {
     "elapsed": 34693,
     "status": "error",
     "timestamp": 1630548937164,
     "user": {
      "displayName": "",
      "photoUrl": "",
      "userId": ""
     },
     "user_tz": 480
    },
    "id": "519e723a",
    "outputId": "5dce8e84-5716-44a8-8d9b-21684574d91a"
   },
   "outputs": [],
   "source": [
    "model = xgb.steps[2][1]\n",
    "x_tr, y_tr, x_te = get_shap_df(x_train, y_train, x_test)\n",
    "model.fit(x_tr, y_tr);\n",
    "\n",
    "\n",
    "\n",
    "# Source: https://scikit-learn.org/stable/modules/permutation_importance.html\n",
    "r = permutation_importance(model, x_te, y_test, n_repeats=30, random_state=RANDOM_STATE)\n",
    "\n",
    "for i in r.importances_mean.argsort()[::-1]:\n",
    "    if r.importances_mean[i] - 3 * r.importances_std[i] > 0:\n",
    "        #print(f\"{df_train.feature_names[i]:<8}\"\n",
    "        print(f\"{x_tr.columns[i]} \"\n",
    "              f\"{r.importances_mean[i]:.3f}\")"
   ]
  },
  {
   "cell_type": "markdown",
   "id": "d2d267a9",
   "metadata": {
    "id": "BDw8Nr-Y7Jb9"
   },
   "source": [
    "## Export final datasets and models for use in other notebooks\n",
    "The final, cleaned dataframe with features selected and engineered is exported via SQL. Three selected final, fitted models are stored as Pickle files for use in the Final Presentation notebook."
   ]
  },
  {
   "cell_type": "markdown",
   "id": "bf73f796",
   "metadata": {
    "id": "9ca6a38d"
   },
   "source": [
    "##### Export data via SQL"
   ]
  },
  {
   "cell_type": "code",
   "execution_count": null,
   "id": "57e9a2ef",
   "metadata": {
    "executionInfo": {
     "elapsed": 1656,
     "status": "ok",
     "timestamp": 1630548947132,
     "user": {
      "displayName": "",
      "photoUrl": "",
      "userId": ""
     },
     "user_tz": 480
    },
    "id": "68249bd6"
   },
   "outputs": [],
   "source": [
    "engine = create_engine('sqlite:///../data/processed/all_data.db')\n",
    "\n",
    "model_data = pd.concat([model_inputs, target], axis=1)\n",
    "\n",
    "with engine.begin() as connection:\n",
    "    model_data.to_sql(name='all_modeled_data', \n",
    "                      con=connection, \n",
    "                      if_exists='replace', \n",
    "                      index=False)"
   ]
  },
  {
   "cell_type": "markdown",
   "id": "55418635",
   "metadata": {
    "id": "_6PQxgTb5B4n"
   },
   "source": [
    "##### Export models via Pickle"
   ]
  },
  {
   "cell_type": "code",
   "execution_count": null,
   "id": "64dc1b06",
   "metadata": {
    "colab": {
     "base_uri": "https://localhost:8080/",
     "height": 223
    },
    "executionInfo": {
     "elapsed": 155,
     "status": "error",
     "timestamp": 1630548964160,
     "user": {
      "displayName": "",
      "photoUrl": "",
      "userId": ""
     },
     "user_tz": 480
    },
    "id": "o01ugNRK5Kqv",
    "outputId": "362ba941-cd62-4d41-fb2f-55f9d876396f"
   },
   "outputs": [],
   "source": [
    "# Save fitted Logistic Regression\n",
    "with open('../data/processed/model_logreg.pickle', 'wb') as f:\n",
    "    pickle.dump(pipes[1], f)\n",
    "\n",
    "# Save fitted Random Forest\n",
    "with open('../data/processed/model_rf.pickle', 'wb') as f:\n",
    "    pickle.dump(pipes[3], f)\n",
    "\n",
    "# # Save fitted XG Boost\n",
    "with open('../data/processed/model_xgb.pickle', 'wb') as f:\n",
    "    pickle.dump(pipes[-1], f)"
   ]
  }
 ],
 "metadata": {
  "accelerator": "GPU",
  "colab": {
   "name": "Copy of MODEL.ipynb",
   "provenance": [
    {
     "file_id": "https://github.com/sethschober/Predicting-Political-Revolutions/blob/main/notebooks/MODEL.ipynb",
     "timestamp": 1630549007483
    }
   ]
  },
  "kernelspec": {
   "display_name": "Python 3",
   "language": "python",
   "name": "python3"
  },
  "language_info": {
   "codemirror_mode": {
    "name": "ipython",
    "version": 3
   },
   "file_extension": ".py",
   "mimetype": "text/x-python",
   "name": "python",
   "nbconvert_exporter": "python",
   "pygments_lexer": "ipython3",
   "version": "3.8.3"
  }
 },
 "nbformat": 4,
 "nbformat_minor": 5
}
