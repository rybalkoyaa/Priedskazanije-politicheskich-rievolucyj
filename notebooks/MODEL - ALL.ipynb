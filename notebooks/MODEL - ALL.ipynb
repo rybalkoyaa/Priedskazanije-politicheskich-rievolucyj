{
 "cells": [
  {
   "cell_type": "code",
   "execution_count": 1,
   "id": "d8935f30",
   "metadata": {},
   "outputs": [],
   "source": [
    "# Basics\n",
    "import numpy as np\n",
    "import pandas as pd\n",
    "import matplotlib.pyplot as plt\n",
    "import seaborn as sns\n",
    "import sys\n",
    "\n",
    "# Data imports\n",
    "from sqlalchemy import create_engine\n",
    "\n",
    "# Model preprocessing and processing\n",
    "from sklearn.model_selection import train_test_split\n",
    "from sklearn.preprocessing import OneHotEncoder, StandardScaler\n",
    "from sklearn.compose import make_column_selector, make_column_transformer\n",
    "from imblearn.over_sampling import SMOTE\n",
    "from sklearn.model_selection import GridSearchCV\n",
    "from imblearn.pipeline import Pipeline\n",
    "from sklearn.base import clone\n",
    "\n",
    "# Models\n",
    "from sklearn.dummy import DummyClassifier\n",
    "from sklearn.linear_model import LogisticRegression\n",
    "from sklearn.neighbors import KNeighborsClassifier\n",
    "from sklearn.tree import DecisionTreeClassifier\n",
    "from sklearn.ensemble import RandomForestClassifier, AdaBoostClassifier\n",
    "from sklearn.naive_bayes import GaussianNB\n",
    "from xgboost import XGBClassifier\n",
    "\n",
    "# Performance evaluation\n",
    "from sklearn.metrics import f1_score, precision_score, accuracy_score, recall_score\n",
    "from sklearn.metrics import plot_confusion_matrix\n",
    "\n",
    "# Data visualization\n",
    "import shap\n",
    "\n",
    "\n",
    "# Options\n",
    "pd.options.display.max_rows = 200\n",
    "pd.options.display.max_columns = 200\n",
    "%matplotlib inline\n",
    "\n",
    "# Convenience for working with external src code files\n",
    "%load_ext autoreload\n",
    "%autoreload 2\n",
    "sys.path.insert(1, '../src')\n",
    "from create_target import *\n",
    "\n",
    "\n",
    "\n",
    "\n",
    "# Global constants\n",
    "NOT_APLIC_STR = \"NA_SS\"\n",
    "NOT_APLIC_NUM = -999.0\n",
    "RANDOM_STATE = 2021"
   ]
  },
  {
   "cell_type": "code",
   "execution_count": 2,
   "id": "a81f300f",
   "metadata": {},
   "outputs": [],
   "source": [
    "# IMPORT PROTESTS DATASET\n",
    "engine = create_engine('sqlite:///../data/processed/protests.db')\n",
    "with engine.begin() as connection:\n",
    "    df_protests = pd.read_sql('SELECT * FROM protests', con=connection)\n",
    "    \n",
    "df_protests.startdate = pd.to_datetime(df_protests.startdate)"
   ]
  },
  {
   "cell_type": "code",
   "execution_count": 3,
   "id": "4f8da5eb",
   "metadata": {},
   "outputs": [],
   "source": [
    "# IMPORT GOVERNMENTS DATASET\n",
    "engine = create_engine('sqlite:///../data/processed/governments.db')\n",
    "with engine.begin() as connection:\n",
    "    df_govts = pd.read_sql('SELECT * FROM governments', con=connection)\n",
    "\n",
    "df_govts.index = df_govts.year_scode\n",
    "df_govts.drop('year_scode', axis=1, inplace=True)"
   ]
  },
  {
   "cell_type": "code",
   "execution_count": 4,
   "id": "ecdcb8d4",
   "metadata": {},
   "outputs": [
    {
     "name": "stdout",
     "output_type": "stream",
     "text": [
      "<class 'pandas.core.frame.DataFrame'>\n",
      "Int64Index: 15064 entries, 0 to 15207\n",
      "Data columns (total 74 columns):\n",
      " #   Column                             Non-Null Count  Dtype         \n",
      "---  ------                             --------------  -----         \n",
      " 0   protest_id                         15064 non-null  int64         \n",
      " 1   country                            15064 non-null  object        \n",
      " 2   scode                              15064 non-null  object        \n",
      " 3   region                             15064 non-null  object        \n",
      " 4   protestnumber                      15064 non-null  int64         \n",
      " 5   protesterviolence                  15064 non-null  int64         \n",
      " 6   startdate                          15064 non-null  datetime64[ns]\n",
      " 7   duration_days                      15064 non-null  int64         \n",
      " 8   participants                       15064 non-null  int64         \n",
      " 9   participants_category              15064 non-null  object        \n",
      " 10  demand_labor-wage-dispute          15064 non-null  int64         \n",
      " 11  demand_land-farm-issue             15064 non-null  int64         \n",
      " 12  demand_police-brutality            15064 non-null  int64         \n",
      " 13  demand_political-behavior/process  15064 non-null  int64         \n",
      " 14  demand_price-increases/tax-policy  15064 non-null  int64         \n",
      " 15  demand_removal-of-politician       15064 non-null  int64         \n",
      " 16  demand_social-restrictions         15064 non-null  int64         \n",
      " 17  year_scode                         15064 non-null  object        \n",
      " 18  system                             15064 non-null  object        \n",
      " 19  yrsoffc                            15064 non-null  float64       \n",
      " 20  finittrm                           15064 non-null  float64       \n",
      " 21  yrcurnt                            15064 non-null  float64       \n",
      " 22  termlimit                          15064 non-null  float64       \n",
      " 23  reelect                            15064 non-null  float64       \n",
      " 24  multpl                             15064 non-null  float64       \n",
      " 25  military                           15064 non-null  float64       \n",
      " 26  defmin                             15064 non-null  float64       \n",
      " 27  prtyin                             15064 non-null  float64       \n",
      " 28  execrlc                            15064 non-null  object        \n",
      " 29  execnat                            15064 non-null  float64       \n",
      " 30  execrel                            15064 non-null  object        \n",
      " 31  execage                            15064 non-null  float64       \n",
      " 32  allhouse                           15064 non-null  float64       \n",
      " 33  totalseats                         15064 non-null  float64       \n",
      " 34  oppmajh                            15064 non-null  float64       \n",
      " 35  oppmajs                            15064 non-null  float64       \n",
      " 36  legelec                            15064 non-null  float64       \n",
      " 37  exelec                             15064 non-null  float64       \n",
      " 38  liec                               15064 non-null  float64       \n",
      " 39  eiec                               15064 non-null  float64       \n",
      " 40  mdmh                               15064 non-null  float64       \n",
      " 41  mdms                               15064 non-null  float64       \n",
      " 42  ssh                                15064 non-null  float64       \n",
      " 43  pluralty                           15064 non-null  float64       \n",
      " 44  pr                                 15064 non-null  float64       \n",
      " 45  housesys                           15064 non-null  object        \n",
      " 46  sensys                             15064 non-null  object        \n",
      " 47  thresh                             15064 non-null  float64       \n",
      " 48  cl                                 15064 non-null  float64       \n",
      " 49  gq                                 15064 non-null  float64       \n",
      " 50  gqi                                15064 non-null  float64       \n",
      " 51  fraud                              15064 non-null  object        \n",
      " 52  auton                              15064 non-null  float64       \n",
      " 53  muni                               15064 non-null  float64       \n",
      " 54  state                              15064 non-null  float64       \n",
      " 55  author                             15064 non-null  float64       \n",
      " 56  numvote                            15064 non-null  float64       \n",
      " 57  oppvote                            15064 non-null  float64       \n",
      " 58  maj                                15064 non-null  float64       \n",
      " 59  partyage                           15064 non-null  float64       \n",
      " 60  herfgov                            15064 non-null  float64       \n",
      " 61  herfopp                            15064 non-null  float64       \n",
      " 62  frac                               15064 non-null  float64       \n",
      " 63  oppfrac                            15064 non-null  float64       \n",
      " 64  govfrac                            15064 non-null  float64       \n",
      " 65  tensys_strict                      15064 non-null  float64       \n",
      " 66  checks                             15064 non-null  float64       \n",
      " 67  stabs_strict                       15064 non-null  float64       \n",
      " 68  tenlong_strict                     15064 non-null  float64       \n",
      " 69  tenshort_strict                    15064 non-null  float64       \n",
      " 70  polariz                            15064 non-null  float64       \n",
      " 71  country_govt                       15064 non-null  object        \n",
      " 72  scode_govt                         15064 non-null  object        \n",
      " 73  percent                            15064 non-null  float64       \n",
      "dtypes: datetime64[ns](1), float64(48), int64(12), object(13)\n",
      "memory usage: 8.6+ MB\n"
     ]
    }
   ],
   "source": [
    "# Join both dataframes\n",
    "df = df_protests.join(df_govts, how='left', on='year_scode')\n",
    "\n",
    "# Remove entries that don't have corresponding 'government' data\n",
    "df.dropna(inplace=True)\n",
    "df.info()"
   ]
  },
  {
   "cell_type": "code",
   "execution_count": 5,
   "id": "658e655a",
   "metadata": {},
   "outputs": [
    {
     "name": "stdout",
     "output_type": "stream",
     "text": [
      "<class 'pandas.core.frame.DataFrame'>\n",
      "RangeIndex: 1290 entries, 0 to 1289\n",
      "Data columns (total 10 columns):\n",
      " #   Column        Non-Null Count  Dtype         \n",
      "---  ------        --------------  -----         \n",
      " 0   country       1290 non-null   object        \n",
      " 1   scode         1290 non-null   object        \n",
      " 2   startdate     1290 non-null   datetime64[ns]\n",
      " 3   enddate       1290 non-null   datetime64[ns]\n",
      " 4   duration_yrs  1290 non-null   float64       \n",
      " 5   parcomp       1290 non-null   int64         \n",
      " 6   parreg        1290 non-null   int64         \n",
      " 7   xconst        1290 non-null   int64         \n",
      " 8   xropen        1290 non-null   int64         \n",
      " 9   xrcomp        1290 non-null   int64         \n",
      "dtypes: datetime64[ns](2), float64(1), int64(5), object(2)\n",
      "memory usage: 100.9+ KB\n"
     ]
    }
   ],
   "source": [
    "# IMPORT REGIME CHANGE DATASET\n",
    "engine = create_engine('sqlite:///../data/processed/regime_changes.db')\n",
    "with engine.begin() as connection:\n",
    "    df_regimes = pd.read_sql('SELECT * FROM regime_changes', con=connection)\n",
    "    \n",
    "# Type conversions\n",
    "df_regimes.startdate = pd.to_datetime(df_regimes.startdate)\n",
    "df_regimes.enddate = pd.to_datetime(df_regimes.enddate)\n",
    "df_regimes.info()"
   ]
  },
  {
   "cell_type": "code",
   "execution_count": 6,
   "id": "b821ab93",
   "metadata": {},
   "outputs": [
    {
     "data": {
      "text/html": [
       "<div>\n",
       "<style scoped>\n",
       "    .dataframe tbody tr th:only-of-type {\n",
       "        vertical-align: middle;\n",
       "    }\n",
       "\n",
       "    .dataframe tbody tr th {\n",
       "        vertical-align: top;\n",
       "    }\n",
       "\n",
       "    .dataframe thead th {\n",
       "        text-align: right;\n",
       "    }\n",
       "</style>\n",
       "<table border=\"1\" class=\"dataframe\">\n",
       "  <thead>\n",
       "    <tr style=\"text-align: right;\">\n",
       "      <th></th>\n",
       "      <th>scode</th>\n",
       "      <th>scode_govt</th>\n",
       "      <th>country</th>\n",
       "      <th>country_govt</th>\n",
       "    </tr>\n",
       "  </thead>\n",
       "  <tbody>\n",
       "  </tbody>\n",
       "</table>\n",
       "</div>"
      ],
      "text/plain": [
       "Empty DataFrame\n",
       "Columns: [scode, scode_govt, country, country_govt]\n",
       "Index: []"
      ]
     },
     "metadata": {},
     "output_type": "display_data"
    }
   ],
   "source": [
    "# BASIC QC THAT NAMES & IDs MATCH\n",
    "missing_countries = df.loc[(df.country != df.country_govt)][['scode', 'scode_govt', 'country', 'country_govt']]\n",
    "missing_countries = missing_countries.drop_duplicates()\n",
    "display(missing_countries.sort_values(by='scode'))\n",
    "\n",
    "# These countries do not contain government data. Remove. \n",
    "scodes_to_remove = missing_countries.scode.unique()\n",
    "scodes_to_remove_ind = [x in scodes_to_remove for x in df.scode]\n",
    "df.drop(df.loc[scodes_to_remove_ind].index, axis=0, inplace=True)"
   ]
  },
  {
   "cell_type": "code",
   "execution_count": 7,
   "id": "7672d284",
   "metadata": {},
   "outputs": [
    {
     "name": "stdout",
     "output_type": "stream",
     "text": [
      "Countries missing from \"Regimes\" dataset: ['LUX']\n"
     ]
    }
   ],
   "source": [
    "all_countries = df.scode.unique()\n",
    "regime_countries = df_regimes.scode.unique()\n",
    "\n",
    "missing = []\n",
    "for country in all_countries:\n",
    "    if country not in regime_countries:\n",
    "        missing.append(country)\n",
    "\n",
    "print('Countries missing from \"Regimes\" dataset:', missing)\n",
    "\n",
    "# Remove these countries from dataset\n",
    "scodes_to_remove_ind = [x in missing for x in df.scode]\n",
    "df.drop(df.loc[scodes_to_remove_ind].index, axis=0, inplace=True)"
   ]
  },
  {
   "cell_type": "markdown",
   "id": "9c9ebeab",
   "metadata": {},
   "source": [
    "#### Create \"Target\" column and add to dataframe"
   ]
  },
  {
   "cell_type": "code",
   "execution_count": 8,
   "id": "4fbcde29",
   "metadata": {},
   "outputs": [],
   "source": [
    "# Reimport in one location for easy QC as src file is updated\n",
    "from create_target import * \n",
    "\n",
    "target = create_target(df, df_regimes)\n",
    "df = pd.concat([df, target], axis=1)"
   ]
  },
  {
   "cell_type": "code",
   "execution_count": 9,
   "id": "b2f01647",
   "metadata": {},
   "outputs": [
    {
     "name": "stdout",
     "output_type": "stream",
     "text": [
      "<class 'pandas.core.frame.DataFrame'>\n",
      "Int64Index: 15061 entries, 0 to 15207\n",
      "Data columns (total 80 columns):\n",
      " #   Column                             Non-Null Count  Dtype         \n",
      "---  ------                             --------------  -----         \n",
      " 0   protest_id                         15061 non-null  int64         \n",
      " 1   country                            15061 non-null  object        \n",
      " 2   scode                              15061 non-null  object        \n",
      " 3   region                             15061 non-null  object        \n",
      " 4   protestnumber                      15061 non-null  int64         \n",
      " 5   protesterviolence                  15061 non-null  int64         \n",
      " 6   startdate                          15061 non-null  datetime64[ns]\n",
      " 7   duration_days                      15061 non-null  int64         \n",
      " 8   participants                       15061 non-null  int64         \n",
      " 9   participants_category              15061 non-null  object        \n",
      " 10  demand_labor-wage-dispute          15061 non-null  int64         \n",
      " 11  demand_land-farm-issue             15061 non-null  int64         \n",
      " 12  demand_police-brutality            15061 non-null  int64         \n",
      " 13  demand_political-behavior/process  15061 non-null  int64         \n",
      " 14  demand_price-increases/tax-policy  15061 non-null  int64         \n",
      " 15  demand_removal-of-politician       15061 non-null  int64         \n",
      " 16  demand_social-restrictions         15061 non-null  int64         \n",
      " 17  year_scode                         15061 non-null  object        \n",
      " 18  system                             15061 non-null  object        \n",
      " 19  yrsoffc                            15061 non-null  float64       \n",
      " 20  finittrm                           15061 non-null  float64       \n",
      " 21  yrcurnt                            15061 non-null  float64       \n",
      " 22  termlimit                          15061 non-null  float64       \n",
      " 23  reelect                            15061 non-null  float64       \n",
      " 24  multpl                             15061 non-null  float64       \n",
      " 25  military                           15061 non-null  float64       \n",
      " 26  defmin                             15061 non-null  float64       \n",
      " 27  prtyin                             15061 non-null  float64       \n",
      " 28  execrlc                            15061 non-null  object        \n",
      " 29  execnat                            15061 non-null  float64       \n",
      " 30  execrel                            15061 non-null  object        \n",
      " 31  execage                            15061 non-null  float64       \n",
      " 32  allhouse                           15061 non-null  float64       \n",
      " 33  totalseats                         15061 non-null  float64       \n",
      " 34  oppmajh                            15061 non-null  float64       \n",
      " 35  oppmajs                            15061 non-null  float64       \n",
      " 36  legelec                            15061 non-null  float64       \n",
      " 37  exelec                             15061 non-null  float64       \n",
      " 38  liec                               15061 non-null  float64       \n",
      " 39  eiec                               15061 non-null  float64       \n",
      " 40  mdmh                               15061 non-null  float64       \n",
      " 41  mdms                               15061 non-null  float64       \n",
      " 42  ssh                                15061 non-null  float64       \n",
      " 43  pluralty                           15061 non-null  float64       \n",
      " 44  pr                                 15061 non-null  float64       \n",
      " 45  housesys                           15061 non-null  object        \n",
      " 46  sensys                             15061 non-null  object        \n",
      " 47  thresh                             15061 non-null  float64       \n",
      " 48  cl                                 15061 non-null  float64       \n",
      " 49  gq                                 15061 non-null  float64       \n",
      " 50  gqi                                15061 non-null  float64       \n",
      " 51  fraud                              15061 non-null  object        \n",
      " 52  auton                              15061 non-null  float64       \n",
      " 53  muni                               15061 non-null  float64       \n",
      " 54  state                              15061 non-null  float64       \n",
      " 55  author                             15061 non-null  float64       \n",
      " 56  numvote                            15061 non-null  float64       \n",
      " 57  oppvote                            15061 non-null  float64       \n",
      " 58  maj                                15061 non-null  float64       \n",
      " 59  partyage                           15061 non-null  float64       \n",
      " 60  herfgov                            15061 non-null  float64       \n",
      " 61  herfopp                            15061 non-null  float64       \n",
      " 62  frac                               15061 non-null  float64       \n",
      " 63  oppfrac                            15061 non-null  float64       \n",
      " 64  govfrac                            15061 non-null  float64       \n",
      " 65  tensys_strict                      15061 non-null  float64       \n",
      " 66  checks                             15061 non-null  float64       \n",
      " 67  stabs_strict                       15061 non-null  float64       \n",
      " 68  tenlong_strict                     15061 non-null  float64       \n",
      " 69  tenshort_strict                    15061 non-null  float64       \n",
      " 70  polariz                            15061 non-null  float64       \n",
      " 71  country_govt                       15061 non-null  object        \n",
      " 72  scode_govt                         15061 non-null  object        \n",
      " 73  percent                            15061 non-null  float64       \n",
      " 74  parcomp                            15061 non-null  object        \n",
      " 75  parreg                             15061 non-null  object        \n",
      " 76  xconst                             15061 non-null  object        \n",
      " 77  xropen                             15061 non-null  object        \n",
      " 78  xrcomp                             15061 non-null  object        \n",
      " 79  days_until_next_regime_chg         15061 non-null  int64         \n",
      "dtypes: datetime64[ns](1), float64(48), int64(13), object(18)\n",
      "memory usage: 9.8+ MB\n"
     ]
    }
   ],
   "source": [
    "df.info()"
   ]
  },
  {
   "cell_type": "markdown",
   "id": "a6a5f204",
   "metadata": {},
   "source": [
    "## Basic cleaning"
   ]
  },
  {
   "cell_type": "code",
   "execution_count": 10,
   "id": "9d628ded",
   "metadata": {},
   "outputs": [],
   "source": [
    "# Convert startdate to a float instead of datetime since datetime cannot be handled by models but fractional years can\n",
    "df['startdate'] = df.startdate.dt.year + df.startdate.dt.month / 12 + df.startdate.dt.day / 365"
   ]
  },
  {
   "cell_type": "code",
   "execution_count": 11,
   "id": "f5ccc34b",
   "metadata": {},
   "outputs": [
    {
     "name": "stdout",
     "output_type": "stream",
     "text": [
      "<class 'pandas.core.frame.DataFrame'>\n",
      "Int64Index: 15061 entries, 0 to 15207\n",
      "Data columns (total 80 columns):\n",
      " #   Column                             Non-Null Count  Dtype  \n",
      "---  ------                             --------------  -----  \n",
      " 0   protest_id                         15061 non-null  int64  \n",
      " 1   country                            15061 non-null  object \n",
      " 2   scode                              15061 non-null  object \n",
      " 3   region                             15061 non-null  object \n",
      " 4   protestnumber                      15061 non-null  int64  \n",
      " 5   protesterviolence                  15061 non-null  int64  \n",
      " 6   startdate                          15061 non-null  float64\n",
      " 7   duration_days                      15061 non-null  int64  \n",
      " 8   participants                       15061 non-null  int64  \n",
      " 9   participants_category              15061 non-null  object \n",
      " 10  demand_labor-wage-dispute          15061 non-null  int64  \n",
      " 11  demand_land-farm-issue             15061 non-null  int64  \n",
      " 12  demand_police-brutality            15061 non-null  int64  \n",
      " 13  demand_political-behavior/process  15061 non-null  int64  \n",
      " 14  demand_price-increases/tax-policy  15061 non-null  int64  \n",
      " 15  demand_removal-of-politician       15061 non-null  int64  \n",
      " 16  demand_social-restrictions         15061 non-null  int64  \n",
      " 17  year_scode                         15061 non-null  object \n",
      " 18  system                             15055 non-null  object \n",
      " 19  yrsoffc                            15023 non-null  float64\n",
      " 20  finittrm                           14913 non-null  float64\n",
      " 21  yrcurnt                            14062 non-null  float64\n",
      " 22  termlimit                          14543 non-null  float64\n",
      " 23  reelect                            14115 non-null  float64\n",
      " 24  multpl                             14082 non-null  float64\n",
      " 25  military                           15029 non-null  float64\n",
      " 26  defmin                             14540 non-null  float64\n",
      " 27  prtyin                             13175 non-null  float64\n",
      " 28  execrlc                            9118 non-null   object \n",
      " 29  execnat                            14747 non-null  float64\n",
      " 30  execrel                            14790 non-null  object \n",
      " 31  execage                            12984 non-null  float64\n",
      " 32  allhouse                           13813 non-null  float64\n",
      " 33  totalseats                         15061 non-null  float64\n",
      " 34  oppmajh                            14450 non-null  float64\n",
      " 35  oppmajs                            6512 non-null   float64\n",
      " 36  legelec                            15024 non-null  float64\n",
      " 37  exelec                             15041 non-null  float64\n",
      " 38  liec                               15019 non-null  float64\n",
      " 39  eiec                               15010 non-null  float64\n",
      " 40  mdmh                               13688 non-null  float64\n",
      " 41  mdms                               6028 non-null   float64\n",
      " 42  ssh                                6320 non-null   float64\n",
      " 43  pluralty                           13855 non-null  float64\n",
      " 44  pr                                 13551 non-null  float64\n",
      " 45  housesys                           13673 non-null  object \n",
      " 46  sensys                             2900 non-null   object \n",
      " 47  thresh                             9066 non-null   float64\n",
      " 48  cl                                 8759 non-null   float64\n",
      " 49  gq                                 14889 non-null  float64\n",
      " 50  gqi                                14656 non-null  float64\n",
      " 51  fraud                              12926 non-null  object \n",
      " 52  auton                              14357 non-null  float64\n",
      " 53  muni                               9646 non-null   float64\n",
      " 54  state                              11048 non-null  float64\n",
      " 55  author                             5568 non-null   float64\n",
      " 56  numvote                            15061 non-null  float64\n",
      " 57  oppvote                            15061 non-null  float64\n",
      " 58  maj                                14398 non-null  float64\n",
      " 59  partyage                           13826 non-null  float64\n",
      " 60  herfgov                            14423 non-null  float64\n",
      " 61  herfopp                            12874 non-null  float64\n",
      " 62  frac                               14143 non-null  float64\n",
      " 63  oppfrac                            12714 non-null  float64\n",
      " 64  govfrac                            14423 non-null  float64\n",
      " 65  tensys_strict                      14977 non-null  float64\n",
      " 66  checks                             14753 non-null  float64\n",
      " 67  stabs_strict                       14884 non-null  float64\n",
      " 68  tenlong_strict                     14739 non-null  float64\n",
      " 69  tenshort_strict                    14744 non-null  float64\n",
      " 70  polariz                            12467 non-null  float64\n",
      " 71  country_govt                       15061 non-null  object \n",
      " 72  scode_govt                         15061 non-null  object \n",
      " 73  percent                            8202 non-null   float64\n",
      " 74  parcomp                            15061 non-null  int64  \n",
      " 75  parreg                             15061 non-null  int64  \n",
      " 76  xconst                             15061 non-null  int64  \n",
      " 77  xropen                             15061 non-null  int64  \n",
      " 78  xrcomp                             15061 non-null  int64  \n",
      " 79  days_until_next_regime_chg         15061 non-null  int64  \n",
      "dtypes: float64(49), int64(18), object(13)\n",
      "memory usage: 9.8+ MB\n",
      "None\n"
     ]
    }
   ],
   "source": [
    "# Relace 'placeholder' NaN values, as defined by data dictionary (see raw data directory)\n",
    "df.replace(NOT_APLIC_STR, np.nan, inplace=True)\n",
    "df.replace(NOT_APLIC_NUM, np.nan, inplace=True)\n",
    "print(df.info())"
   ]
  },
  {
   "cell_type": "code",
   "execution_count": 12,
   "id": "c7b74ce7",
   "metadata": {},
   "outputs": [
    {
     "name": "stdout",
     "output_type": "stream",
     "text": [
      "<class 'pandas.core.frame.DataFrame'>\n",
      "Int64Index: 14558 entries, 0 to 15207\n",
      "Data columns (total 40 columns):\n",
      " #   Column                             Non-Null Count  Dtype  \n",
      "---  ------                             --------------  -----  \n",
      " 0   protest_id                         14558 non-null  int64  \n",
      " 1   country                            14558 non-null  object \n",
      " 2   scode                              14558 non-null  object \n",
      " 3   region                             14558 non-null  object \n",
      " 4   protestnumber                      14558 non-null  int64  \n",
      " 5   protesterviolence                  14558 non-null  int64  \n",
      " 6   startdate                          14558 non-null  float64\n",
      " 7   duration_days                      14558 non-null  int64  \n",
      " 8   participants                       14558 non-null  int64  \n",
      " 9   participants_category              14558 non-null  object \n",
      " 10  demand_labor-wage-dispute          14558 non-null  int64  \n",
      " 11  demand_land-farm-issue             14558 non-null  int64  \n",
      " 12  demand_police-brutality            14558 non-null  int64  \n",
      " 13  demand_political-behavior/process  14558 non-null  int64  \n",
      " 14  demand_price-increases/tax-policy  14558 non-null  int64  \n",
      " 15  demand_removal-of-politician       14558 non-null  int64  \n",
      " 16  demand_social-restrictions         14558 non-null  int64  \n",
      " 17  year_scode                         14558 non-null  object \n",
      " 18  system                             14558 non-null  object \n",
      " 19  yrsoffc                            14558 non-null  float64\n",
      " 20  finittrm                           14558 non-null  float64\n",
      " 21  military                           14558 non-null  float64\n",
      " 22  totalseats                         14558 non-null  float64\n",
      " 23  legelec                            14558 non-null  float64\n",
      " 24  exelec                             14558 non-null  float64\n",
      " 25  liec                               14558 non-null  float64\n",
      " 26  eiec                               14558 non-null  float64\n",
      " 27  gq                                 14558 non-null  float64\n",
      " 28  numvote                            14558 non-null  float64\n",
      " 29  oppvote                            14558 non-null  float64\n",
      " 30  tensys_strict                      14558 non-null  float64\n",
      " 31  stabs_strict                       14558 non-null  float64\n",
      " 32  country_govt                       14558 non-null  object \n",
      " 33  scode_govt                         14558 non-null  object \n",
      " 34  parcomp                            14558 non-null  int64  \n",
      " 35  parreg                             14558 non-null  int64  \n",
      " 36  xconst                             14558 non-null  int64  \n",
      " 37  xropen                             14558 non-null  int64  \n",
      " 38  xrcomp                             14558 non-null  int64  \n",
      " 39  days_until_next_regime_chg         14558 non-null  int64  \n",
      "dtypes: float64(14), int64(18), object(8)\n",
      "memory usage: 4.6+ MB\n"
     ]
    }
   ],
   "source": [
    "# Set semi-arbitrary threshold for the maximum number of missing values to justify keeping\n",
    "MAX_MISSING_VALUES = 250\n",
    "\n",
    "# Copy main df to retain a full dataset\n",
    "df_cut = df.copy()\n",
    "\n",
    "# Determine the number of missing values in each column\n",
    "for col in df_cut.columns:\n",
    "    na_ct = df_cut[col].isna().sum()\n",
    "    \n",
    "    if na_ct > MAX_MISSING_VALUES:\n",
    "        df_cut.drop(col, axis=1, inplace=True)\n",
    "        \n",
    "df_cut.dropna(inplace=True)\n",
    "df_cut.info()"
   ]
  },
  {
   "cell_type": "markdown",
   "id": "bb9e55f1",
   "metadata": {},
   "source": [
    "# Run it through a model!"
   ]
  },
  {
   "cell_type": "code",
   "execution_count": 15,
   "id": "b3e7b958",
   "metadata": {},
   "outputs": [
    {
     "name": "stdout",
     "output_type": "stream",
     "text": [
      "<class 'pandas.core.frame.DataFrame'>\n",
      "Int64Index: 14558 entries, 0 to 15207\n",
      "Data columns (total 34 columns):\n",
      " #   Column                             Non-Null Count  Dtype  \n",
      "---  ------                             --------------  -----  \n",
      " 0   country                            14558 non-null  object \n",
      " 1   region                             14558 non-null  object \n",
      " 2   protestnumber                      14558 non-null  int64  \n",
      " 3   protesterviolence                  14558 non-null  int64  \n",
      " 4   startdate                          14558 non-null  float64\n",
      " 5   duration_days                      14558 non-null  int64  \n",
      " 6   participants                       14558 non-null  int64  \n",
      " 7   participants_category              14558 non-null  object \n",
      " 8   demand_labor-wage-dispute          14558 non-null  int64  \n",
      " 9   demand_land-farm-issue             14558 non-null  int64  \n",
      " 10  demand_police-brutality            14558 non-null  int64  \n",
      " 11  demand_political-behavior/process  14558 non-null  int64  \n",
      " 12  demand_price-increases/tax-policy  14558 non-null  int64  \n",
      " 13  demand_removal-of-politician       14558 non-null  int64  \n",
      " 14  demand_social-restrictions         14558 non-null  int64  \n",
      " 15  system                             14558 non-null  object \n",
      " 16  yrsoffc                            14558 non-null  float64\n",
      " 17  finittrm                           14558 non-null  float64\n",
      " 18  military                           14558 non-null  float64\n",
      " 19  totalseats                         14558 non-null  float64\n",
      " 20  legelec                            14558 non-null  float64\n",
      " 21  exelec                             14558 non-null  float64\n",
      " 22  liec                               14558 non-null  float64\n",
      " 23  eiec                               14558 non-null  float64\n",
      " 24  gq                                 14558 non-null  float64\n",
      " 25  numvote                            14558 non-null  float64\n",
      " 26  oppvote                            14558 non-null  float64\n",
      " 27  tensys_strict                      14558 non-null  float64\n",
      " 28  stabs_strict                       14558 non-null  float64\n",
      " 29  parcomp                            14558 non-null  int64  \n",
      " 30  parreg                             14558 non-null  int64  \n",
      " 31  xconst                             14558 non-null  int64  \n",
      " 32  xropen                             14558 non-null  int64  \n",
      " 33  xrcomp                             14558 non-null  int64  \n",
      "dtypes: float64(14), int64(16), object(4)\n",
      "memory usage: 3.9+ MB\n"
     ]
    }
   ],
   "source": [
    "drop_cols = ['year_scode', 'scode_govt', 'country_govt', 'days_until_next_regime_chg', 'scode']\n",
    "model_inputs = df_cut.drop(drop_cols, axis=1)\n",
    "model_inputs.info()"
   ]
  },
  {
   "cell_type": "code",
   "execution_count": 14,
   "id": "955bb62d",
   "metadata": {},
   "outputs": [],
   "source": [
    "# Define target\n",
    "DAYS_UNTIL_CHG = 365\n",
    "\n",
    "target = pd.DataFrame(df_cut['days_until_next_regime_chg'] < DAYS_UNTIL_CHG).astype('int')\n",
    "target.columns = ['target']\n",
    "\n",
    "alternative_target = pd.DataFrame(df_cut['days_until_next_regime_chg']).astype('int')\n",
    "alternative_target.columns = ['alternative_target']\n",
    "\n",
    "\n",
    "x_traintest, x_holdout, y_traintest, y_holdout = train_test_split(model_inputs, target, random_state=RANDOM_STATE, test_size=0.3)\n",
    "x_train, x_test, y_train, y_test = train_test_split(x_traintest, y_traintest, random_state=RANDOM_STATE, test_size=0.3)"
   ]
  },
  {
   "cell_type": "markdown",
   "id": "164d2894",
   "metadata": {},
   "source": [
    "### Define models and parameter grids"
   ]
  },
  {
   "cell_type": "code",
   "execution_count": 16,
   "id": "a1146493",
   "metadata": {},
   "outputs": [],
   "source": [
    "# Set parameter grid to search across\n",
    "grid_bay = {'model__var_smoothing': [1e-9]}\n",
    "\n",
    "grid_log = {'model__C': np.logspace(-1, 5, 20)}\n",
    "\n",
    "grid_dt = {\n",
    "    'model__max_depth': [3, 5, 7], \n",
    "    #'model__criterion': ['gini', 'entropy'],\n",
    "    'model__min_samples_split': [5, 10],\n",
    "    'model__min_samples_leaf': [5, 10]} \n",
    "\n",
    "grid_rf = {\n",
    "    'model__n_estimators': [25, 75],#, 150],\n",
    "    'model__criterion': ['gini', 'entropy'],\n",
    "    'model__max_depth': [3, 7],# [3, 6, 10],\n",
    "    'model__min_samples_split': [5, 10],\n",
    "    'model__min_samples_leaf': [3, 6]}\n",
    "\n",
    "grid_knn = {\n",
    "    'model__leaf_size': [25, 50, 75],\n",
    "    'model__n_neighbors': [3, 5, 7, 9]}#,\n",
    "    #'model__weights': ['uniform', 'distance']}      \n",
    "\n",
    "grid_ada = {\n",
    "    'model__n_estimators': [50, 200],\n",
    "    'model__learning_rate': [0.1, 0.25, 1]}\n",
    "\n",
    "grid_xgb = {\n",
    "    'model__learning_rate': [0.1, 0.25, 1],\n",
    "    'model__max_depth': [3, 7],\n",
    "    #'model__min_child_weight': [1, 2],\n",
    "    #'model__subsample': [0.5, 0.7],\n",
    "    'model__n_estimators': [100, 150],\n",
    "    'model__tree_method': ['exact', 'approx', 'hist']}\n",
    "\n",
    "np.random.seed(RANDOM_STATE)\n",
    "model_bay = GaussianNB()\n",
    "model_log = LogisticRegression(max_iter=5000)\n",
    "model_dt = DecisionTreeClassifier()\n",
    "model_rf = RandomForestClassifier()\n",
    "model_knn = KNeighborsClassifier()\n",
    "model_ada = AdaBoostClassifier(random_state=RANDOM_STATE)\n",
    "model_xgb = XGBClassifier(eval_metric='logloss', use_label_encoder=False, random_state=RANDOM_STATE)\n",
    "\n",
    "grids = [grid_bay, grid_log, grid_dt, grid_rf, grid_knn, grid_ada, grid_xgb]\n",
    "models = [model_bay, model_log, model_dt, model_rf, model_knn, model_ada, model_xgb]"
   ]
  },
  {
   "cell_type": "code",
   "execution_count": 17,
   "id": "ccb369c7",
   "metadata": {},
   "outputs": [],
   "source": [
    "def create_pipeline_and_run(model, grid, metric='accuracy'):\n",
    "    np.random.seed(RANDOM_STATE)\n",
    "    ohe = OneHotEncoder(handle_unknown='ignore', sparse=False)\n",
    "    scaler = StandardScaler()\n",
    "    smote = SMOTE(random_state=RANDOM_STATE)\n",
    "\n",
    "    selector_object = make_column_selector(dtype_include='object')\n",
    "    selector_numeric = make_column_selector(dtype_include='number')\n",
    "    transformer = make_column_transformer((ohe, selector_object),\n",
    "                                         (scaler, selector_numeric))\n",
    "\n",
    "\n",
    "    pipe = Pipeline([('transformer', transformer),\n",
    "                     ('smote', smote), \n",
    "                     ('model', model)])\n",
    "\n",
    "    # Instantiate and fit grid search object\n",
    "    grid = GridSearchCV(pipe, grid, return_train_score=True, scoring='f1', cv=3)\n",
    "    grid.fit(x_train, y_train)\n",
    "    pred = grid.best_estimator_.predict(x_test)\n",
    "    \n",
    "    \n",
    "    # NOTE TO SELF1: THESE METRICS CAN BE OUTPUT DIRECTLY FROM GRID AS ATTRIBUTES\n",
    "    # NOTE TO SELF2: THESE IS AN OPTION IN THE GRID SEARCH TO RETRAIN THE BEST ESTIMATOR ON THE FULL DATASET\n",
    "    # OTHER THOUGHTS: CONSIDER TRYING MORE GRID PARAMETERS ON THE XGBOOST\n",
    "    # OTHER NOTES: JOEL IS BACK + WILL DO MVP REVIEW\n",
    "    \n",
    "    \n",
    "    print(f'{model}:')\n",
    "    print(f'   - f1: {f1_score(y_test, pred)}')\n",
    "    print(f'   - accuracy: {accuracy_score(y_test, pred)}')\n",
    "    print(f'   - precision: {precision_score(y_test, pred)}')\n",
    "    print(f'   - recall: {recall_score(y_test, pred)}')\n",
    "    \n",
    "    # Confusion matrix\n",
    "    plt.figure()\n",
    "    plot_confusion_matrix(grid.best_estimator_, x_test, y_test)\n",
    "    plt.show();\n",
    "    \n",
    "    return grid.best_estimator_"
   ]
  },
  {
   "cell_type": "markdown",
   "id": "be5f6979",
   "metadata": {},
   "source": [
    "### Dummy classifier results"
   ]
  },
  {
   "cell_type": "code",
   "execution_count": 18,
   "id": "99be67be",
   "metadata": {},
   "outputs": [
    {
     "name": "stdout",
     "output_type": "stream",
     "text": [
      "DUMMY SCORE (stratified):\n",
      "   - f1 score: 0.11411411411411412\n",
      "   - accuracy: 0.8070003271180897\n",
      "   - precision: 0.11838006230529595\n",
      "   - recall: 0.11014492753623188\n",
      "DUMMY SCORE (uniform):\n",
      "   - f1 score: 0.19532908704883228\n",
      "   - accuracy: 0.5040889761203795\n",
      "   - precision: 0.11955815464587394\n",
      "   - recall: 0.5333333333333333\n",
      "DUMMY SCORE (most_frequent):\n",
      "   - f1 score: 0.0\n",
      "   - accuracy: 0.887144259077527\n",
      "   - precision: 0.0\n",
      "   - recall: 0.0\n"
     ]
    },
    {
     "name": "stderr",
     "output_type": "stream",
     "text": [
      "Precision is ill-defined and being set to 0.0 due to no predicted samples. Use `zero_division` parameter to control this behavior.\n"
     ]
    }
   ],
   "source": [
    "for strategy in [\"stratified\", \"uniform\", \"most_frequent\"]:\n",
    "    dummy_clf = DummyClassifier(strategy=strategy, random_state=RANDOM_STATE)\n",
    "    dummy_clf.fit(x_train, y_train)\n",
    "    \n",
    "    pred_dummy = dummy_clf.predict(x_test)\n",
    "\n",
    "    print(f'DUMMY SCORE ({strategy}):')\n",
    "    print(f'   - f1 score: {f1_score(y_test, pred_dummy)}')\n",
    "    print(f'   - accuracy: {accuracy_score(y_test, pred_dummy)}')\n",
    "    print(f'   - precision: {precision_score(y_test, pred_dummy)}')\n",
    "    print(f'   - recall: {recall_score(y_test, pred_dummy)}')"
   ]
  },
  {
   "cell_type": "markdown",
   "id": "b3afad7c",
   "metadata": {
    "tags": []
   },
   "source": [
    "### Run *only one* model"
   ]
  },
  {
   "cell_type": "code",
   "execution_count": 19,
   "id": "f35299eb",
   "metadata": {},
   "outputs": [
    {
     "name": "stdout",
     "output_type": "stream",
     "text": [
      "XGBClassifier(base_score=None, booster=None, colsample_bylevel=None,\n",
      "              colsample_bynode=None, colsample_bytree=None,\n",
      "              eval_metric='logloss', gamma=None, gpu_id=None,\n",
      "              importance_type='gain', interaction_constraints=None,\n",
      "              learning_rate=None, max_delta_step=None, max_depth=None,\n",
      "              min_child_weight=None, missing=nan, monotone_constraints=None,\n",
      "              n_estimators=100, n_jobs=None, num_parallel_tree=None,\n",
      "              random_state=2021, reg_alpha=None, reg_lambda=None,\n",
      "              scale_pos_weight=None, subsample=None, tree_method=None,\n",
      "              use_label_encoder=False, validate_parameters=None,\n",
      "              verbosity=None):\n",
      "   - f1: 0.8325508607198748\n",
      "   - accuracy: 0.9649983644095519\n",
      "   - precision: 0.9047619047619048\n",
      "   - recall: 0.7710144927536232\n"
     ]
    },
    {
     "data": {
      "text/plain": [
       "<Figure size 432x288 with 0 Axes>"
      ]
     },
     "metadata": {},
     "output_type": "display_data"
    },
    {
     "data": {
      "image/png": "[encoded data removed]",
      "text/plain": [
       "<Figure size 432x288 with 2 Axes>"
      ]
     },
     "metadata": {
      "needs_background": "light"
     },
     "output_type": "display_data"
    }
   ],
   "source": [
    "xgb = create_pipeline_and_run(model_xgb, grid_xgb);"
   ]
  },
  {
   "cell_type": "markdown",
   "id": "2c0403cf",
   "metadata": {},
   "source": [
    "### Run *all models* defined above"
   ]
  },
  {
   "cell_type": "code",
   "execution_count": 20,
   "id": "0beee7f1",
   "metadata": {
    "tags": []
   },
   "outputs": [],
   "source": [
    "# pipes = []\n",
    "# for grid, model in zip(grids, models):\n",
    "#     pipe = create_pipeline_and_run(model, grid)\n",
    "#     pipes.append(pipe)"
   ]
  },
  {
   "cell_type": "markdown",
   "id": "e113051b",
   "metadata": {},
   "source": [
    "#### Test model on holdout dataset"
   ]
  },
  {
   "cell_type": "code",
   "execution_count": 21,
   "id": "33931d37",
   "metadata": {},
   "outputs": [
    {
     "name": "stdout",
     "output_type": "stream",
     "text": [
      "- f1: 0.8668122270742358\n",
      "- accuracy: 0.9720695970695971\n",
      "- precision: 0.9211136890951276\n",
      "- recall: 0.8185567010309278\n"
     ]
    },
    {
     "data": {
      "image/png": "[encoded data removed]",
      "text/plain": [
       "<Figure size 432x288 with 2 Axes>"
      ]
     },
     "metadata": {
      "needs_background": "light"
     },
     "output_type": "display_data"
    }
   ],
   "source": [
    "# CHOOSE MODEL!\n",
    "pred = xgb.predict(x_holdout)\n",
    "\n",
    "print(f'- f1: {f1_score(y_holdout, pred)}')\n",
    "print(f'- accuracy: {accuracy_score(y_holdout, pred)}')\n",
    "print(f'- precision: {precision_score(y_holdout, pred)}')\n",
    "print(f'- recall: {recall_score(y_holdout, pred)}')\n",
    "\n",
    "plot_confusion_matrix(xgb, x_holdout, y_holdout);"
   ]
  },
  {
   "cell_type": "markdown",
   "id": "3642c7f1",
   "metadata": {},
   "source": [
    "### Feature importance"
   ]
  },
  {
   "cell_type": "code",
   "execution_count": null,
   "id": "0b08366e",
   "metadata": {},
   "outputs": [],
   "source": [
    "# ADAPTED FROM CODE FOUND HERE: https://towardsdatascience.com/explain-any-models-with-the-shap-values-use-the-kernelexplainer-79de9464897a\n",
    "def get_df(df_train, target_train, df_test):\n",
    "    \n",
    "    df_train.reset_index(inplace=True, drop=True)\n",
    "    df_test.reset_index(inplace=True, drop=True)\n",
    "    \n",
    "    # CATEGORICALS\n",
    "    df_train_cat = df_train.select_dtypes('object')\n",
    "    df_test_cat = df_test.select_dtypes('object')\n",
    "    ohe = OneHotEncoder(sparse=False, handle_unknown='ignore')\n",
    "    ohe.fit(df_train_cat)\n",
    "    df_train_cat_ohe = ohe.transform(df_train_cat)\n",
    "    df_test_cat_ohe = ohe.transform(df_test_cat)\n",
    "    names_ohe = ohe.get_feature_names(df_train_cat[df_train_cat.columns].columns)\n",
    "    \n",
    "    # NUMERIC\n",
    "    df_train_num = df_train.select_dtypes('number')\n",
    "    df_test_num = df_test.select_dtypes('number')\n",
    "    \n",
    "    # COMBINE CATEGORICAL AND NUMERIC\n",
    "    df_train_expanded = pd.DataFrame(df_train_cat_ohe, columns=names_ohe)\n",
    "    df_test_expanded = pd.DataFrame(df_test_cat_ohe, columns=names_ohe)\n",
    "    \n",
    "    df_train_expanded[df_train_num.columns] = df_train_num\n",
    "    df_test_expanded[df_test_num.columns] = df_test_num\n",
    "    \n",
    "    # SCALE DATA\n",
    "    ss = StandardScaler()\n",
    "    ss.fit(df_train_expanded)\n",
    "    df_train_expanded_scaled = ss.transform(df_train_expanded)\n",
    "    df_test_expanded_scaled = ss.transform(df_test_expanded)    \n",
    "    \n",
    "    # CONVERT FROM ARRAY TO DF\n",
    "    df_train_expanded_scaled = pd.DataFrame(df_train_expanded_scaled, columns=df_train_expanded.columns)\n",
    "    df_test_expanded_scaled = pd.DataFrame(df_test_expanded_scaled, columns=df_test_expanded.columns)\n",
    "    \n",
    "    sm = SMOTE()\n",
    "    x_train_final, y_train_final = sm.fit_resample(df_train_expanded_scaled, target_train)    \n",
    "    \n",
    "    return x_train_final, y_train_final, df_test_expanded_scaled"
   ]
  },
  {
   "cell_type": "code",
   "execution_count": null,
   "id": "99d22c62",
   "metadata": {},
   "outputs": [],
   "source": [
    "# SHAP SUMMARY PLOT\n",
    "def produce_shap_plot(df_train, target_train, df_test, target_test, model_shap):\n",
    "    \n",
    "    # Gather encoded, scaled, resampled dataframes\n",
    "    df_train, target_train, df_test = get_df(df_train, target_train, df_test)\n",
    "    \n",
    "    # Extract \"model\" portion of pipeline\n",
    "    model_shap = model_shap.steps[2][1]\n",
    "    \n",
    "    # Fit to training data\n",
    "    model_shap.fit(df_train, target_train)\n",
    "    pred = model_shap.predict(df_test)\n",
    "    \n",
    "    # Produce shap values\n",
    "    explainer = shap.TreeExplainer(model_shap)\n",
    "    shap_values = explainer.shap_values(df_test)\n",
    "    \n",
    "    # plot findings\n",
    "    plt.figure()\n",
    "    shap.summary_plot(shap_values, df_test, show=False, plot_size=(16, 12))\n",
    "    plt.show();"
   ]
  },
  {
   "cell_type": "code",
   "execution_count": null,
   "id": "1db41f0c",
   "metadata": {},
   "outputs": [],
   "source": [
    "# SHAP plot for XGB\n",
    "#xgb = create_pipeline_and_run(model_xgb, grid_xgb)\n",
    "produce_shap_plot(x_train, y_train, x_test, y_test, clone(xgb));"
   ]
  },
  {
   "cell_type": "code",
   "execution_count": null,
   "id": "5e16242a",
   "metadata": {},
   "outputs": [],
   "source": [
    "# # EVALUATE RF PART 1\n",
    "# # EVALUATE RANDOM FOREST MODEL FEATURE IMPORTANCE\n",
    "# # we see that random forest seemingly predicts the most common for each country, an analysis with minimal, biased real world value\n",
    "\n",
    "# # Gather encoded, scaled, resampled dataframes\n",
    "# df_train, target_train, df_test = get_df(x_train, y_train, x_test)\n",
    "\n",
    "# # Create Random Forest model\n",
    "# rf = create_pipeline_and_run(model_rf, grid_rf)\n",
    "\n",
    "# # Isolate model from Pipeline\n",
    "# rf = rf.steps[2][1]\n",
    "# rf.fit(df_train, target_train)"
   ]
  },
  {
   "cell_type": "code",
   "execution_count": null,
   "id": "f8c2f34a",
   "metadata": {},
   "outputs": [],
   "source": [
    "# # EVALUATE RF PART 2\n",
    "# # Declare number of features to show in plot\n",
    "# VAR_CT = 20\n",
    "\n",
    "# # Isolate the feature importances and their indices\n",
    "# importances = rf.feature_importances_[:VAR_CT]\n",
    "# indices = np.argsort(importances)\n",
    "# features = df_train.columns\n",
    "\n",
    "# # Plot results\n",
    "# plt.figure(figsize=(6, VAR_CT/4))\n",
    "# plt.title('Feature Importances')\n",
    "# plt.barh(range(len(indices)), importances[indices], color='b', align='center')\n",
    "# plt.yticks(range(len(indices)), [features[i] for i in indices])\n",
    "# plt.xlabel('Relative Importance');\n",
    "\n",
    "# #produce_shap_plot(x_train, y_train, x_test, y_test, clone(rf));"
   ]
  },
  {
   "cell_type": "markdown",
   "id": "ed70aab7",
   "metadata": {},
   "source": [
    "## Export to SQL\n",
    "\n",
    "Export data for analysis in separate EDA file"
   ]
  },
  {
   "cell_type": "code",
   "execution_count": null,
   "id": "444ba924",
   "metadata": {},
   "outputs": [],
   "source": [
    "engine = create_engine('sqlite:///../data/processed/all_data.db')\n",
    "\n",
    "model_data = pd.concat([model_inputs, target, alternative_target], axis=1)\n",
    "\n",
    "with engine.begin() as connection:\n",
    "    model_data.to_sql(name='all_modeled_data', con=connection, if_exists='replace', index=False)"
   ]
  },
  {
   "cell_type": "code",
   "execution_count": null,
   "id": "d22a575a",
   "metadata": {},
   "outputs": [],
   "source": [
    "model_data.info()"
   ]
  },
  {
   "cell_type": "code",
   "execution_count": null,
   "id": "2ebc2a47",
   "metadata": {},
   "outputs": [],
   "source": [
    "x_train.info()"
   ]
  },
  {
   "cell_type": "code",
   "execution_count": null,
   "id": "6e8cfcc8",
   "metadata": {},
   "outputs": [],
   "source": [
    "# temp = pd.concat([x_train, x_test, x_holdout], axis=0)\n",
    "# temp_target = pd.concat([y_train, y_test, y_holdout], axis=0)\n",
    "\n",
    "# std_dev_3 = model_inputs.totalseats.mean()+3*model_inputs.totalseats.std()\n",
    "# temp_cut = temp.loc[temp.totalseats>std_dev_3].copy()\n",
    "# temp_target_cut = temp_target.loc[temp.totalseats>std_dev_3].copy()\n",
    "\n",
    "# # CHOOSE MODEL!\n",
    "# pred = xgb.predict(temp_cut)\n",
    "\n",
    "# print(f'- f1: {f1_score(temp_target_cut, pred)}')\n",
    "# print(f'- accuracy: {accuracy_score(temp_target_cut, pred)}')\n",
    "# print(f'- precision: {precision_score(temp_target_cut, pred)}')\n",
    "# print(f'- recall: {recall_score(temp_target_cut, pred)}')\n",
    "\n",
    "# plot_confusion_matrix(xgb, temp_cut, temp_target_cut);"
   ]
  },
  {
   "cell_type": "code",
   "execution_count": null,
   "id": "d2465b37",
   "metadata": {},
   "outputs": [],
   "source": []
  },
  {
   "cell_type": "code",
   "execution_count": null,
   "id": "22f9a127",
   "metadata": {},
   "outputs": [],
   "source": []
  }
 ],
 "metadata": {
  "kernelspec": {
   "display_name": "Python 3",
   "language": "python",
   "name": "python3"
  },
  "language_info": {
   "codemirror_mode": {
    "name": "ipython",
    "version": 3
   },
   "file_extension": ".py",
   "mimetype": "text/x-python",
   "name": "python",
   "nbconvert_exporter": "python",
   "pygments_lexer": "ipython3",
   "version": "3.8.3"
  }
 },
 "nbformat": 4,
 "nbformat_minor": 5
}
