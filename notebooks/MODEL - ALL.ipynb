{
 "cells": [
  {
   "cell_type": "code",
   "execution_count": 1,
   "id": "b7895990",
   "metadata": {},
   "outputs": [],
   "source": [
    "# Basics\n",
    "import numpy as np\n",
    "import pandas as pd\n",
    "import matplotlib.pyplot as plt\n",
    "import seaborn as sns\n",
    "import sys\n",
    "\n",
    "# Data imports\n",
    "from sqlalchemy import create_engine\n",
    "\n",
    "# Model preprocessing and processing\n",
    "from sklearn.model_selection import train_test_split\n",
    "from sklearn.preprocessing import OneHotEncoder, StandardScaler\n",
    "from sklearn.compose import make_column_selector, make_column_transformer\n",
    "from imblearn.over_sampling import SMOTE\n",
    "from sklearn.model_selection import GridSearchCV\n",
    "from imblearn.pipeline import Pipeline\n",
    "from sklearn.base import clone\n",
    "\n",
    "# Models\n",
    "from sklearn.dummy import DummyClassifier\n",
    "from sklearn.linear_model import LogisticRegression\n",
    "from sklearn.neighbors import KNeighborsClassifier\n",
    "from sklearn.tree import DecisionTreeClassifier\n",
    "from sklearn.ensemble import RandomForestClassifier, AdaBoostClassifier\n",
    "from sklearn.naive_bayes import GaussianNB\n",
    "from xgboost import XGBClassifier\n",
    "\n",
    "# Performance evaluation\n",
    "from sklearn.metrics import f1_score, precision_score, accuracy_score, recall_score\n",
    "from sklearn.metrics import plot_confusion_matrix\n",
    "\n",
    "# Data visualization\n",
    "import shap\n",
    "\n",
    "\n",
    "# Options\n",
    "pd.options.display.max_rows = 200\n",
    "pd.options.display.max_columns = 200\n",
    "%matplotlib inline\n",
    "\n",
    "# Convenience for working with external src code files\n",
    "%load_ext autoreload\n",
    "%autoreload 2\n",
    "sys.path.insert(1, '../src')\n",
    "from create_target import *\n",
    "from remove_missing_data import *\n",
    "\n",
    "\n",
    "# Global constants\n",
    "NOT_APLIC_STR = \"NA_SS\"\n",
    "NOT_APLIC_NUM = -999.0\n",
    "RANDOM_STATE = 2021"
   ]
  },
  {
   "cell_type": "code",
   "execution_count": 2,
   "id": "f970cab0",
   "metadata": {},
   "outputs": [],
   "source": [
    "# IMPORT PROTESTS DATASET\n",
    "engine = create_engine('sqlite:///../data/processed/protests.db')\n",
    "with engine.begin() as connection:\n",
    "    df_protests = pd.read_sql('SELECT * FROM protests', con=connection)\n",
    "    \n",
    "df_protests.startdate = pd.to_datetime(df_protests.startdate)"
   ]
  },
  {
   "cell_type": "code",
   "execution_count": 3,
   "id": "1cb15fd9",
   "metadata": {},
   "outputs": [],
   "source": [
    "# IMPORT GOVERNMENTS DATASET\n",
    "engine = create_engine('sqlite:///../data/processed/governments.db')\n",
    "with engine.begin() as connection:\n",
    "    df_govts = pd.read_sql('SELECT * FROM governments', con=connection)\n",
    "\n",
    "df_govts.index = df_govts.year_scode\n",
    "df_govts.drop('year_scode', axis=1, inplace=True)"
   ]
  },
  {
   "cell_type": "code",
   "execution_count": 4,
   "id": "b88c3089",
   "metadata": {},
   "outputs": [
    {
     "name": "stdout",
     "output_type": "stream",
     "text": [
      "<class 'pandas.core.frame.DataFrame'>\n",
      "Int64Index: 15064 entries, 0 to 15207\n",
      "Data columns (total 73 columns):\n",
      " #   Column                             Non-Null Count  Dtype         \n",
      "---  ------                             --------------  -----         \n",
      " 0   country                            15064 non-null  object        \n",
      " 1   scode                              15064 non-null  object        \n",
      " 2   region                             15064 non-null  object        \n",
      " 3   protestnumber                      15064 non-null  int64         \n",
      " 4   protesterviolence                  15064 non-null  int64         \n",
      " 5   startdate                          15064 non-null  datetime64[ns]\n",
      " 6   duration_days                      15064 non-null  int64         \n",
      " 7   participants                       15064 non-null  int64         \n",
      " 8   participants_category              15064 non-null  object        \n",
      " 9   demand_labor-wage-dispute          15064 non-null  int64         \n",
      " 10  demand_land-farm-issue             15064 non-null  int64         \n",
      " 11  demand_police-brutality            15064 non-null  int64         \n",
      " 12  demand_political-behavior/process  15064 non-null  int64         \n",
      " 13  demand_price-increases/tax-policy  15064 non-null  int64         \n",
      " 14  demand_removal-of-politician       15064 non-null  int64         \n",
      " 15  demand_social-restrictions         15064 non-null  int64         \n",
      " 16  year_scode                         15064 non-null  object        \n",
      " 17  system                             15064 non-null  object        \n",
      " 18  yrsoffc                            15064 non-null  float64       \n",
      " 19  finittrm                           15064 non-null  float64       \n",
      " 20  yrcurnt                            15064 non-null  float64       \n",
      " 21  termlimit                          15064 non-null  float64       \n",
      " 22  reelect                            15064 non-null  float64       \n",
      " 23  multpl                             15064 non-null  float64       \n",
      " 24  military                           15064 non-null  float64       \n",
      " 25  defmin                             15064 non-null  float64       \n",
      " 26  prtyin                             15064 non-null  float64       \n",
      " 27  execrlc                            15064 non-null  object        \n",
      " 28  execnat                            15064 non-null  float64       \n",
      " 29  execrel                            15064 non-null  object        \n",
      " 30  execage                            15064 non-null  float64       \n",
      " 31  allhouse                           15064 non-null  float64       \n",
      " 32  totalseats                         15064 non-null  float64       \n",
      " 33  oppmajh                            15064 non-null  float64       \n",
      " 34  oppmajs                            15064 non-null  float64       \n",
      " 35  legelec                            15064 non-null  float64       \n",
      " 36  exelec                             15064 non-null  float64       \n",
      " 37  liec                               15064 non-null  float64       \n",
      " 38  eiec                               15064 non-null  float64       \n",
      " 39  mdmh                               15064 non-null  float64       \n",
      " 40  mdms                               15064 non-null  float64       \n",
      " 41  ssh                                15064 non-null  float64       \n",
      " 42  pluralty                           15064 non-null  float64       \n",
      " 43  pr                                 15064 non-null  float64       \n",
      " 44  housesys                           15064 non-null  object        \n",
      " 45  sensys                             15064 non-null  object        \n",
      " 46  thresh                             15064 non-null  float64       \n",
      " 47  cl                                 15064 non-null  float64       \n",
      " 48  gq                                 15064 non-null  float64       \n",
      " 49  gqi                                15064 non-null  float64       \n",
      " 50  fraud                              15064 non-null  object        \n",
      " 51  auton                              15064 non-null  float64       \n",
      " 52  muni                               15064 non-null  float64       \n",
      " 53  state                              15064 non-null  float64       \n",
      " 54  author                             15064 non-null  float64       \n",
      " 55  numvote                            15064 non-null  float64       \n",
      " 56  oppvote                            15064 non-null  float64       \n",
      " 57  maj                                15064 non-null  float64       \n",
      " 58  partyage                           15064 non-null  float64       \n",
      " 59  herfgov                            15064 non-null  float64       \n",
      " 60  herfopp                            15064 non-null  float64       \n",
      " 61  frac                               15064 non-null  float64       \n",
      " 62  oppfrac                            15064 non-null  float64       \n",
      " 63  govfrac                            15064 non-null  float64       \n",
      " 64  tensys_strict                      15064 non-null  float64       \n",
      " 65  checks                             15064 non-null  float64       \n",
      " 66  stabs_strict                       15064 non-null  float64       \n",
      " 67  tenlong_strict                     15064 non-null  float64       \n",
      " 68  tenshort_strict                    15064 non-null  float64       \n",
      " 69  polariz                            15064 non-null  float64       \n",
      " 70  country_govt                       15064 non-null  object        \n",
      " 71  scode_govt                         15064 non-null  object        \n",
      " 72  percent                            15064 non-null  float64       \n",
      "dtypes: datetime64[ns](1), float64(48), int64(11), object(13)\n",
      "memory usage: 8.5+ MB\n"
     ]
    }
   ],
   "source": [
    "# Join both dataframes\n",
    "df = df_protests.join(df_govts, how='left', on='year_scode')\n",
    "\n",
    "# Remove entries that don't have corresponding 'government' data\n",
    "df.dropna(inplace=True)\n",
    "df.info()"
   ]
  },
  {
   "cell_type": "code",
   "execution_count": 5,
   "id": "c9c7fc4f",
   "metadata": {},
   "outputs": [
    {
     "name": "stdout",
     "output_type": "stream",
     "text": [
      "<class 'pandas.core.frame.DataFrame'>\n",
      "RangeIndex: 1290 entries, 0 to 1289\n",
      "Data columns (total 10 columns):\n",
      " #   Column        Non-Null Count  Dtype         \n",
      "---  ------        --------------  -----         \n",
      " 0   country       1290 non-null   object        \n",
      " 1   scode         1290 non-null   object        \n",
      " 2   startdate     1290 non-null   datetime64[ns]\n",
      " 3   enddate       1290 non-null   datetime64[ns]\n",
      " 4   duration_yrs  1290 non-null   float64       \n",
      " 5   parcomp       1290 non-null   int64         \n",
      " 6   parreg        1290 non-null   int64         \n",
      " 7   xconst        1290 non-null   int64         \n",
      " 8   xropen        1290 non-null   int64         \n",
      " 9   xrcomp        1290 non-null   int64         \n",
      "dtypes: datetime64[ns](2), float64(1), int64(5), object(2)\n",
      "memory usage: 100.9+ KB\n"
     ]
    }
   ],
   "source": [
    "# IMPORT REGIME CHANGE DATASET\n",
    "engine = create_engine('sqlite:///../data/processed/regime_changes.db')\n",
    "with engine.begin() as connection:\n",
    "    df_regimes = pd.read_sql('SELECT * FROM regime_changes', con=connection)\n",
    "    \n",
    "# Type conversions\n",
    "df_regimes.startdate = pd.to_datetime(df_regimes.startdate)\n",
    "df_regimes.enddate = pd.to_datetime(df_regimes.enddate)\n",
    "df_regimes.info()"
   ]
  },
  {
   "cell_type": "code",
   "execution_count": 6,
   "id": "2575ce51",
   "metadata": {},
   "outputs": [
    {
     "data": {
      "text/html": [
       "<div>\n",
       "<style scoped>\n",
       "    .dataframe tbody tr th:only-of-type {\n",
       "        vertical-align: middle;\n",
       "    }\n",
       "\n",
       "    .dataframe tbody tr th {\n",
       "        vertical-align: top;\n",
       "    }\n",
       "\n",
       "    .dataframe thead th {\n",
       "        text-align: right;\n",
       "    }\n",
       "</style>\n",
       "<table border=\"1\" class=\"dataframe\">\n",
       "  <thead>\n",
       "    <tr style=\"text-align: right;\">\n",
       "      <th></th>\n",
       "      <th>scode</th>\n",
       "      <th>scode_govt</th>\n",
       "      <th>country</th>\n",
       "      <th>country_govt</th>\n",
       "    </tr>\n",
       "  </thead>\n",
       "  <tbody>\n",
       "  </tbody>\n",
       "</table>\n",
       "</div>"
      ],
      "text/plain": [
       "Empty DataFrame\n",
       "Columns: [scode, scode_govt, country, country_govt]\n",
       "Index: []"
      ]
     },
     "metadata": {},
     "output_type": "display_data"
    }
   ],
   "source": [
    "# BASIC QC THAT NAMES & IDs MATCH\n",
    "missing_countries = df.loc[(df.country != df.country_govt)][['scode', 'scode_govt', 'country', 'country_govt']]\n",
    "missing_countries = missing_countries.drop_duplicates()\n",
    "display(missing_countries.sort_values(by='scode'))\n",
    "\n",
    "# These countries do not contain government data. Remove. \n",
    "scodes_to_remove = missing_countries.scode.unique()\n",
    "scodes_to_remove_ind = [x in scodes_to_remove for x in df.scode]\n",
    "df.drop(df.loc[scodes_to_remove_ind].index, axis=0, inplace=True)"
   ]
  },
  {
   "cell_type": "code",
   "execution_count": 7,
   "id": "c3cc984f",
   "metadata": {},
   "outputs": [
    {
     "name": "stdout",
     "output_type": "stream",
     "text": [
      "Countries missing from \"Regimes\" dataset: ['LUX']\n"
     ]
    }
   ],
   "source": [
    "all_countries = df.scode.unique()\n",
    "regime_countries = df_regimes.scode.unique()\n",
    "\n",
    "missing = []\n",
    "for country in all_countries:\n",
    "    if country not in regime_countries:\n",
    "        missing.append(country)\n",
    "\n",
    "print('Countries missing from \"Regimes\" dataset:', missing)\n",
    "\n",
    "# Remove these countries from dataset\n",
    "scodes_to_remove_ind = [x in missing for x in df.scode]\n",
    "df.drop(df.loc[scodes_to_remove_ind].index, axis=0, inplace=True)"
   ]
  },
  {
   "cell_type": "markdown",
   "id": "fa1b06e3",
   "metadata": {},
   "source": [
    "#### Create \"Target\" column and add to dataframe"
   ]
  },
  {
   "cell_type": "code",
   "execution_count": 8,
   "id": "e67a75e6",
   "metadata": {},
   "outputs": [],
   "source": [
    "# Reimport in one location for easy QC as src file is updated\n",
    "target = create_target(df, df_regimes)\n",
    "df = pd.concat([df, target], axis=1)"
   ]
  },
  {
   "cell_type": "code",
   "execution_count": 9,
   "id": "87b84749",
   "metadata": {},
   "outputs": [
    {
     "name": "stdout",
     "output_type": "stream",
     "text": [
      "<class 'pandas.core.frame.DataFrame'>\n",
      "Int64Index: 15061 entries, 0 to 15207\n",
      "Data columns (total 79 columns):\n",
      " #   Column                             Non-Null Count  Dtype         \n",
      "---  ------                             --------------  -----         \n",
      " 0   country                            15061 non-null  object        \n",
      " 1   scode                              15061 non-null  object        \n",
      " 2   region                             15061 non-null  object        \n",
      " 3   protestnumber                      15061 non-null  int64         \n",
      " 4   protesterviolence                  15061 non-null  int64         \n",
      " 5   startdate                          15061 non-null  datetime64[ns]\n",
      " 6   duration_days                      15061 non-null  int64         \n",
      " 7   participants                       15061 non-null  int64         \n",
      " 8   participants_category              15061 non-null  object        \n",
      " 9   demand_labor-wage-dispute          15061 non-null  int64         \n",
      " 10  demand_land-farm-issue             15061 non-null  int64         \n",
      " 11  demand_police-brutality            15061 non-null  int64         \n",
      " 12  demand_political-behavior/process  15061 non-null  int64         \n",
      " 13  demand_price-increases/tax-policy  15061 non-null  int64         \n",
      " 14  demand_removal-of-politician       15061 non-null  int64         \n",
      " 15  demand_social-restrictions         15061 non-null  int64         \n",
      " 16  year_scode                         15061 non-null  object        \n",
      " 17  system                             15061 non-null  object        \n",
      " 18  yrsoffc                            15061 non-null  float64       \n",
      " 19  finittrm                           15061 non-null  float64       \n",
      " 20  yrcurnt                            15061 non-null  float64       \n",
      " 21  termlimit                          15061 non-null  float64       \n",
      " 22  reelect                            15061 non-null  float64       \n",
      " 23  multpl                             15061 non-null  float64       \n",
      " 24  military                           15061 non-null  float64       \n",
      " 25  defmin                             15061 non-null  float64       \n",
      " 26  prtyin                             15061 non-null  float64       \n",
      " 27  execrlc                            15061 non-null  object        \n",
      " 28  execnat                            15061 non-null  float64       \n",
      " 29  execrel                            15061 non-null  object        \n",
      " 30  execage                            15061 non-null  float64       \n",
      " 31  allhouse                           15061 non-null  float64       \n",
      " 32  totalseats                         15061 non-null  float64       \n",
      " 33  oppmajh                            15061 non-null  float64       \n",
      " 34  oppmajs                            15061 non-null  float64       \n",
      " 35  legelec                            15061 non-null  float64       \n",
      " 36  exelec                             15061 non-null  float64       \n",
      " 37  liec                               15061 non-null  float64       \n",
      " 38  eiec                               15061 non-null  float64       \n",
      " 39  mdmh                               15061 non-null  float64       \n",
      " 40  mdms                               15061 non-null  float64       \n",
      " 41  ssh                                15061 non-null  float64       \n",
      " 42  pluralty                           15061 non-null  float64       \n",
      " 43  pr                                 15061 non-null  float64       \n",
      " 44  housesys                           15061 non-null  object        \n",
      " 45  sensys                             15061 non-null  object        \n",
      " 46  thresh                             15061 non-null  float64       \n",
      " 47  cl                                 15061 non-null  float64       \n",
      " 48  gq                                 15061 non-null  float64       \n",
      " 49  gqi                                15061 non-null  float64       \n",
      " 50  fraud                              15061 non-null  object        \n",
      " 51  auton                              15061 non-null  float64       \n",
      " 52  muni                               15061 non-null  float64       \n",
      " 53  state                              15061 non-null  float64       \n",
      " 54  author                             15061 non-null  float64       \n",
      " 55  numvote                            15061 non-null  float64       \n",
      " 56  oppvote                            15061 non-null  float64       \n",
      " 57  maj                                15061 non-null  float64       \n",
      " 58  partyage                           15061 non-null  float64       \n",
      " 59  herfgov                            15061 non-null  float64       \n",
      " 60  herfopp                            15061 non-null  float64       \n",
      " 61  frac                               15061 non-null  float64       \n",
      " 62  oppfrac                            15061 non-null  float64       \n",
      " 63  govfrac                            15061 non-null  float64       \n",
      " 64  tensys_strict                      15061 non-null  float64       \n",
      " 65  checks                             15061 non-null  float64       \n",
      " 66  stabs_strict                       15061 non-null  float64       \n",
      " 67  tenlong_strict                     15061 non-null  float64       \n",
      " 68  tenshort_strict                    15061 non-null  float64       \n",
      " 69  polariz                            15061 non-null  float64       \n",
      " 70  country_govt                       15061 non-null  object        \n",
      " 71  scode_govt                         15061 non-null  object        \n",
      " 72  percent                            15061 non-null  float64       \n",
      " 73  parcomp                            15061 non-null  object        \n",
      " 74  parreg                             15061 non-null  object        \n",
      " 75  xconst                             15061 non-null  object        \n",
      " 76  xropen                             15061 non-null  object        \n",
      " 77  xrcomp                             15061 non-null  object        \n",
      " 78  days_until_next_regime_chg         15061 non-null  int64         \n",
      "dtypes: datetime64[ns](1), float64(48), int64(12), object(18)\n",
      "memory usage: 9.7+ MB\n"
     ]
    }
   ],
   "source": [
    "df.info()"
   ]
  },
  {
   "cell_type": "markdown",
   "id": "f268f4ca",
   "metadata": {},
   "source": [
    "## Basic cleaning"
   ]
  },
  {
   "cell_type": "code",
   "execution_count": 10,
   "id": "a85e1295",
   "metadata": {},
   "outputs": [],
   "source": [
    "# Convert startdate to a float instead of datetime since datetime cannot be handled by models but fractional years can\n",
    "df['startdate'] = df.startdate.dt.year + df.startdate.dt.month / 12 + df.startdate.dt.day / 365"
   ]
  },
  {
   "cell_type": "code",
   "execution_count": 11,
   "id": "341d3e27",
   "metadata": {},
   "outputs": [
    {
     "name": "stdout",
     "output_type": "stream",
     "text": [
      "<class 'pandas.core.frame.DataFrame'>\n",
      "Int64Index: 14558 entries, 0 to 15207\n",
      "Data columns (total 39 columns):\n",
      " #   Column                             Non-Null Count  Dtype  \n",
      "---  ------                             --------------  -----  \n",
      " 0   country                            14558 non-null  object \n",
      " 1   scode                              14558 non-null  object \n",
      " 2   region                             14558 non-null  object \n",
      " 3   protestnumber                      14558 non-null  int64  \n",
      " 4   protesterviolence                  14558 non-null  int64  \n",
      " 5   startdate                          14558 non-null  float64\n",
      " 6   duration_days                      14558 non-null  int64  \n",
      " 7   participants                       14558 non-null  int64  \n",
      " 8   participants_category              14558 non-null  object \n",
      " 9   demand_labor-wage-dispute          14558 non-null  int64  \n",
      " 10  demand_land-farm-issue             14558 non-null  int64  \n",
      " 11  demand_police-brutality            14558 non-null  int64  \n",
      " 12  demand_political-behavior/process  14558 non-null  int64  \n",
      " 13  demand_price-increases/tax-policy  14558 non-null  int64  \n",
      " 14  demand_removal-of-politician       14558 non-null  int64  \n",
      " 15  demand_social-restrictions         14558 non-null  int64  \n",
      " 16  year_scode                         14558 non-null  object \n",
      " 17  system                             14558 non-null  object \n",
      " 18  yrsoffc                            14558 non-null  float64\n",
      " 19  finittrm                           14558 non-null  float64\n",
      " 20  military                           14558 non-null  float64\n",
      " 21  totalseats                         14558 non-null  float64\n",
      " 22  legelec                            14558 non-null  float64\n",
      " 23  exelec                             14558 non-null  float64\n",
      " 24  liec                               14558 non-null  float64\n",
      " 25  eiec                               14558 non-null  float64\n",
      " 26  gq                                 14558 non-null  float64\n",
      " 27  numvote                            14558 non-null  float64\n",
      " 28  oppvote                            14558 non-null  float64\n",
      " 29  tensys_strict                      14558 non-null  float64\n",
      " 30  stabs_strict                       14558 non-null  float64\n",
      " 31  country_govt                       14558 non-null  object \n",
      " 32  scode_govt                         14558 non-null  object \n",
      " 33  parcomp                            14558 non-null  int64  \n",
      " 34  parreg                             14558 non-null  int64  \n",
      " 35  xconst                             14558 non-null  int64  \n",
      " 36  xropen                             14558 non-null  int64  \n",
      " 37  xrcomp                             14558 non-null  int64  \n",
      " 38  days_until_next_regime_chg         14558 non-null  int64  \n",
      "dtypes: float64(14), int64(17), object(8)\n",
      "memory usage: 4.4+ MB\n"
     ]
    }
   ],
   "source": [
    "df = remove_missing_data(df)\n",
    "df.info()"
   ]
  },
  {
   "cell_type": "markdown",
   "id": "37b2d09d",
   "metadata": {},
   "source": [
    "# Run it through a model!"
   ]
  },
  {
   "cell_type": "code",
   "execution_count": 12,
   "id": "59ccc0a1",
   "metadata": {},
   "outputs": [
    {
     "name": "stdout",
     "output_type": "stream",
     "text": [
      "<class 'pandas.core.frame.DataFrame'>\n",
      "Int64Index: 14558 entries, 0 to 15207\n",
      "Data columns (total 34 columns):\n",
      " #   Column                             Non-Null Count  Dtype  \n",
      "---  ------                             --------------  -----  \n",
      " 0   country                            14558 non-null  object \n",
      " 1   region                             14558 non-null  object \n",
      " 2   protestnumber                      14558 non-null  int64  \n",
      " 3   protesterviolence                  14558 non-null  int64  \n",
      " 4   startdate                          14558 non-null  float64\n",
      " 5   duration_days                      14558 non-null  int64  \n",
      " 6   participants                       14558 non-null  int64  \n",
      " 7   participants_category              14558 non-null  object \n",
      " 8   demand_labor-wage-dispute          14558 non-null  int64  \n",
      " 9   demand_land-farm-issue             14558 non-null  int64  \n",
      " 10  demand_police-brutality            14558 non-null  int64  \n",
      " 11  demand_political-behavior/process  14558 non-null  int64  \n",
      " 12  demand_price-increases/tax-policy  14558 non-null  int64  \n",
      " 13  demand_removal-of-politician       14558 non-null  int64  \n",
      " 14  demand_social-restrictions         14558 non-null  int64  \n",
      " 15  system                             14558 non-null  object \n",
      " 16  yrsoffc                            14558 non-null  float64\n",
      " 17  finittrm                           14558 non-null  float64\n",
      " 18  military                           14558 non-null  float64\n",
      " 19  totalseats                         14558 non-null  float64\n",
      " 20  legelec                            14558 non-null  float64\n",
      " 21  exelec                             14558 non-null  float64\n",
      " 22  liec                               14558 non-null  float64\n",
      " 23  eiec                               14558 non-null  float64\n",
      " 24  gq                                 14558 non-null  float64\n",
      " 25  numvote                            14558 non-null  float64\n",
      " 26  oppvote                            14558 non-null  float64\n",
      " 27  tensys_strict                      14558 non-null  float64\n",
      " 28  stabs_strict                       14558 non-null  float64\n",
      " 29  parcomp                            14558 non-null  int64  \n",
      " 30  parreg                             14558 non-null  int64  \n",
      " 31  xconst                             14558 non-null  int64  \n",
      " 32  xropen                             14558 non-null  int64  \n",
      " 33  xrcomp                             14558 non-null  int64  \n",
      "dtypes: float64(14), int64(16), object(4)\n",
      "memory usage: 3.9+ MB\n"
     ]
    }
   ],
   "source": [
    "drop_cols = ['year_scode', 'scode_govt', 'country_govt', 'days_until_next_regime_chg', 'scode']\n",
    "model_inputs = df.drop(drop_cols, axis=1)\n",
    "model_inputs.info()"
   ]
  },
  {
   "cell_type": "code",
   "execution_count": 13,
   "id": "2bf8ae44",
   "metadata": {},
   "outputs": [],
   "source": [
    "# Define target\n",
    "DAYS_UNTIL_CHG = 365\n",
    "\n",
    "target = pd.DataFrame(df['days_until_next_regime_chg'] < DAYS_UNTIL_CHG).astype('int')\n",
    "target.columns = ['target']\n",
    "\n",
    "alternative_target = pd.DataFrame(df['days_until_next_regime_chg']).astype('int')\n",
    "alternative_target.columns = ['alternative_target']\n",
    "\n",
    "\n",
    "x_traintest, x_holdout, y_traintest, y_holdout = train_test_split(model_inputs, target, random_state=RANDOM_STATE, test_size=0.3)\n",
    "x_train, x_test, y_train, y_test = train_test_split(x_traintest, y_traintest, random_state=RANDOM_STATE, test_size=0.3)"
   ]
  },
  {
   "cell_type": "markdown",
   "id": "57581b7d",
   "metadata": {},
   "source": [
    "### Define models and parameter grids"
   ]
  },
  {
   "cell_type": "code",
   "execution_count": 14,
   "id": "412df74a",
   "metadata": {},
   "outputs": [],
   "source": [
    "# Set parameter grid to search across\n",
    "grid_bay = {'model__var_smoothing': [1e-9]}\n",
    "\n",
    "grid_log = {'model__C': np.logspace(-1, 5, 20)}\n",
    "\n",
    "grid_dt = {\n",
    "    'model__max_depth': [3, 5, 7], \n",
    "    #'model__criterion': ['gini', 'entropy'],\n",
    "    'model__min_samples_split': [5, 10],\n",
    "    'model__min_samples_leaf': [5, 10]} \n",
    "\n",
    "grid_rf = {\n",
    "    'model__n_estimators': [25, 75],#, 150],\n",
    "    'model__criterion': ['gini', 'entropy'],\n",
    "    'model__max_depth': [3, 7],# [3, 6, 10],\n",
    "    'model__min_samples_split': [5, 10],\n",
    "    'model__min_samples_leaf': [3, 6]}\n",
    "\n",
    "grid_knn = {\n",
    "    'model__leaf_size': [25, 50, 75],\n",
    "    'model__n_neighbors': [3, 5, 7, 9]}#,\n",
    "    #'model__weights': ['uniform', 'distance']}      \n",
    "\n",
    "grid_ada = {\n",
    "    'model__n_estimators': [50, 200],\n",
    "    'model__learning_rate': [0.1, 0.25, 1]}\n",
    "\n",
    "grid_xgb = {\n",
    "    #'model__learning_rate': [0.1, 0.25, 1],\n",
    "    'model__max_depth': [3, 7],\n",
    "    #'model__min_child_weight': [1, 2],\n",
    "    #'model__subsample': [0.5, 0.7],\n",
    "    #'model__n_estimators': [100, 150],\n",
    "    'model__tree_method': ['exact', 'approx', 'hist']}\n",
    "\n",
    "np.random.seed(RANDOM_STATE)\n",
    "model_bay = GaussianNB()\n",
    "model_log = LogisticRegression(max_iter=5000)\n",
    "model_dt = DecisionTreeClassifier()\n",
    "model_rf = RandomForestClassifier()\n",
    "model_knn = KNeighborsClassifier()\n",
    "model_ada = AdaBoostClassifier(random_state=RANDOM_STATE)\n",
    "model_xgb = XGBClassifier(eval_metric='logloss', use_label_encoder=False, random_state=RANDOM_STATE)\n",
    "\n",
    "grids = [grid_bay, grid_log, grid_dt, grid_rf, grid_knn, grid_ada, grid_xgb]\n",
    "models = [model_bay, model_log, model_dt, model_rf, model_knn, model_ada, model_xgb]"
   ]
  },
  {
   "cell_type": "code",
   "execution_count": 15,
   "id": "af64fc31",
   "metadata": {},
   "outputs": [],
   "source": [
    "def create_pipeline_and_run(model, grid, metric='accuracy'):\n",
    "    np.random.seed(RANDOM_STATE)\n",
    "    ohe = OneHotEncoder(handle_unknown='ignore', sparse=False)\n",
    "    scaler = StandardScaler()\n",
    "    smote = SMOTE(random_state=RANDOM_STATE)\n",
    "\n",
    "    selector_object = make_column_selector(dtype_include='object')\n",
    "    selector_numeric = make_column_selector(dtype_include='number')\n",
    "    transformer = make_column_transformer((ohe, selector_object),\n",
    "                                         (scaler, selector_numeric))\n",
    "\n",
    "\n",
    "    pipe = Pipeline([('transformer', transformer),\n",
    "                     ('smote', smote), \n",
    "                     ('model', model)])\n",
    "\n",
    "    # Instantiate and fit grid search object\n",
    "    grid = GridSearchCV(pipe, grid, scoring='f1', cv=3)\n",
    "    grid.fit(x_train, y_train)\n",
    "    pred = grid.best_estimator_.predict(x_test)\n",
    "    \n",
    "    \n",
    "    # NOTE TO SELF1: THESE METRICS CAN BE OUTPUT DIRECTLY FROM GRID AS ATTRIBUTES\n",
    "    # NOTE TO SELF2: THESE IS AN OPTION IN THE GRID SEARCH TO RETRAIN THE BEST ESTIMATOR ON THE FULL DATASET\n",
    "    # OTHER THOUGHTS: CONSIDER TRYING MORE GRID PARAMETERS ON THE XGBOOST\n",
    "    # OTHER NOTES: JOEL IS BACK + WILL DO MVP REVIEW\n",
    "    \n",
    "    \n",
    "    print(f'{model}:')\n",
    "    print_scores(pred, y_test)\n",
    "    \n",
    "    # Confusion matrix\n",
    "    plt.figure()\n",
    "    plot_confusion_matrix(grid.best_estimator_, x_test, y_test)\n",
    "    plt.show();\n",
    "    \n",
    "    return grid.best_estimator_"
   ]
  },
  {
   "cell_type": "markdown",
   "id": "c14804db",
   "metadata": {},
   "source": [
    "### Dummy classifier results"
   ]
  },
  {
   "cell_type": "code",
   "execution_count": 16,
   "id": "a0ff7c30",
   "metadata": {},
   "outputs": [
    {
     "name": "stdout",
     "output_type": "stream",
     "text": [
      "DUMMY SCORE (stratified):\n",
      "   - f1 score: 0.11411411411411412\n",
      "   - accuracy: 0.8070003271180897\n",
      "   - precision: 0.11838006230529595\n",
      "   - recall: 0.11014492753623188\n",
      "DUMMY SCORE (uniform):\n",
      "   - f1 score: 0.19532908704883228\n",
      "   - accuracy: 0.5040889761203795\n",
      "   - precision: 0.11955815464587394\n",
      "   - recall: 0.5333333333333333\n",
      "DUMMY SCORE (most_frequent):\n",
      "   - f1 score: 0.0\n",
      "   - accuracy: 0.887144259077527\n",
      "   - precision: 0.0\n",
      "   - recall: 0.0\n"
     ]
    },
    {
     "name": "stderr",
     "output_type": "stream",
     "text": [
      "Precision is ill-defined and being set to 0.0 due to no predicted samples. Use `zero_division` parameter to control this behavior.\n"
     ]
    }
   ],
   "source": [
    "for strategy in [\"stratified\", \"uniform\", \"most_frequent\"]:\n",
    "    dummy_clf = DummyClassifier(strategy=strategy)\n",
    "    dummy_clf.fit(x_train, y_train)\n",
    "    \n",
    "    print(f'DUMMY SCORE ({strategy}):')\n",
    "    pred = dummy_clf.predict(x_test)\n",
    "    print_scores(pred, y_test)"
   ]
  },
  {
   "cell_type": "markdown",
   "id": "cbc53b60",
   "metadata": {
    "tags": []
   },
   "source": [
    "### Run *only one* model"
   ]
  },
  {
   "cell_type": "code",
   "execution_count": null,
   "id": "8bbdb68f",
   "metadata": {},
   "outputs": [],
   "source": [
    "xgb = create_pipeline_and_run(model_xgb, grid_xgb);"
   ]
  },
  {
   "cell_type": "markdown",
   "id": "3fbce2d4",
   "metadata": {},
   "source": [
    "### Run *all models* defined above"
   ]
  },
  {
   "cell_type": "code",
   "execution_count": null,
   "id": "f910e2c8",
   "metadata": {
    "tags": []
   },
   "outputs": [],
   "source": [
    "# pipes = []\n",
    "# for grid, model in zip(grids, models):\n",
    "#     pipe = create_pipeline_and_run(model, grid)\n",
    "#     pipes.append(pipe)"
   ]
  },
  {
   "cell_type": "markdown",
   "id": "aad35612",
   "metadata": {},
   "source": [
    "#### Test model on holdout dataset"
   ]
  },
  {
   "cell_type": "code",
   "execution_count": null,
   "id": "262b1552",
   "metadata": {},
   "outputs": [],
   "source": [
    "# CHOOSE MODEL!\n",
    "pred = xgb.predict(x_holdout)\n",
    "print_scores(pred, y_holdout)\n",
    "\n",
    "plot_confusion_matrix(xgb, x_holdout, y_holdout);"
   ]
  },
  {
   "cell_type": "markdown",
   "id": "790c0d46",
   "metadata": {},
   "source": [
    "### Feature importance"
   ]
  },
  {
   "cell_type": "code",
   "execution_count": null,
   "id": "5141e296",
   "metadata": {},
   "outputs": [],
   "source": [
    "# SHAP plot for XGB\n",
    "#xgb = create_pipeline_and_run(model_xgb, grid_xgb)\n",
    "produce_shap_plot(x_train, y_train, x_test, y_test, clone(xgb));"
   ]
  },
  {
   "cell_type": "code",
   "execution_count": null,
   "id": "da50c8d8",
   "metadata": {},
   "outputs": [],
   "source": [
    "# # EVALUATE RF PART 1\n",
    "# # EVALUATE RANDOM FOREST MODEL FEATURE IMPORTANCE\n",
    "# # we see that random forest seemingly predicts the most common for each country, an analysis with minimal, biased real world value\n",
    "\n",
    "# # Gather encoded, scaled, resampled dataframes\n",
    "# df_train, target_train, df_test = get_df(x_train, y_train, x_test)\n",
    "\n",
    "# # Create Random Forest model\n",
    "# rf = create_pipeline_and_run(model_rf, grid_rf)\n",
    "\n",
    "# # Isolate model from Pipeline\n",
    "# rf = rf.steps[2][1]\n",
    "# rf.fit(df_train, target_train)"
   ]
  },
  {
   "cell_type": "code",
   "execution_count": null,
   "id": "fe94b716",
   "metadata": {},
   "outputs": [],
   "source": [
    "# # EVALUATE RF PART 2\n",
    "# # Declare number of features to show in plot\n",
    "# VAR_CT = 20\n",
    "\n",
    "# # Isolate the feature importances and their indices\n",
    "# importances = rf.feature_importances_[:VAR_CT]\n",
    "# indices = np.argsort(importances)\n",
    "# features = df_train.columns\n",
    "\n",
    "# # Plot results\n",
    "# plt.figure(figsize=(6, VAR_CT/4))\n",
    "# plt.title('Feature Importances')\n",
    "# plt.barh(range(len(indices)), importances[indices], color='b', align='center')\n",
    "# plt.yticks(range(len(indices)), [features[i] for i in indices])\n",
    "# plt.xlabel('Relative Importance');\n",
    "\n",
    "# #produce_shap_plot(x_train, y_train, x_test, y_test, clone(rf));"
   ]
  },
  {
   "cell_type": "markdown",
   "id": "61e5d662",
   "metadata": {},
   "source": [
    "## Export to SQL\n",
    "\n",
    "Export data for analysis in separate EDA file"
   ]
  },
  {
   "cell_type": "code",
   "execution_count": null,
   "id": "9d46e6e4",
   "metadata": {},
   "outputs": [],
   "source": [
    "engine = create_engine('sqlite:///../data/processed/all_data.db')\n",
    "\n",
    "model_data = pd.concat([model_inputs, target, alternative_target], axis=1)\n",
    "\n",
    "with engine.begin() as connection:\n",
    "    model_data.to_sql(name='all_modeled_data', con=connection, if_exists='replace', index=False)"
   ]
  }
 ],
 "metadata": {
  "kernelspec": {
   "display_name": "Python 3",
   "language": "python",
   "name": "python3"
  },
  "language_info": {
   "codemirror_mode": {
    "name": "ipython",
    "version": 3
   },
   "file_extension": ".py",
   "mimetype": "text/x-python",
   "name": "python",
   "nbconvert_exporter": "python",
   "pygments_lexer": "ipython3",
   "version": "3.8.3"
  }
 },
 "nbformat": 4,
 "nbformat_minor": 5
}
