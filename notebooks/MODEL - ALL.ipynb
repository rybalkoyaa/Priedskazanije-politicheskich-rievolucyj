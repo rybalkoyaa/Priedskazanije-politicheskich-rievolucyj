{
 "cells": [
  {
   "cell_type": "code",
   "execution_count": 1,
   "id": "bde09e00",
   "metadata": {},
   "outputs": [],
   "source": [
    "# Basics\n",
    "import numpy as np\n",
    "import pandas as pd\n",
    "import matplotlib.pyplot as plt\n",
    "import seaborn as sns\n",
    "\n",
    "# Data imports\n",
    "from sqlalchemy import create_engine\n",
    "\n",
    "# Model preprocessing and processing\n",
    "from sklearn.model_selection import train_test_split\n",
    "from sklearn.preprocessing import OneHotEncoder, StandardScaler\n",
    "from sklearn.compose import make_column_selector, make_column_transformer\n",
    "from imblearn.over_sampling import SMOTE\n",
    "from sklearn.model_selection import GridSearchCV\n",
    "from imblearn.pipeline import Pipeline\n",
    "\n",
    "# Models\n",
    "from sklearn.dummy import DummyClassifier\n",
    "from sklearn.linear_model import LogisticRegression\n",
    "from sklearn.neighbors import KNeighborsClassifier\n",
    "from sklearn.tree import DecisionTreeClassifier\n",
    "from sklearn.ensemble import RandomForestClassifier, AdaBoostClassifier\n",
    "from sklearn.naive_bayes import GaussianNB\n",
    "from xgboost import XGBClassifier\n",
    "\n",
    "# Performance evaluation\n",
    "from sklearn.metrics import f1_score, precision_score, accuracy_score, recall_score\n",
    "from sklearn.metrics import plot_confusion_matrix\n",
    "\n",
    "# Visual options\n",
    "pd.options.display.max_rows = 200\n",
    "pd.options.display.max_columns = 200\n",
    "\n",
    "\n",
    "# Global constants\n",
    "NOT_APLIC_STR = \"NA_SS\"\n",
    "NOT_APLIC_NUM = -999.0\n",
    "RANDOM_STATE = 2021\n",
    "DAYS_PER_YEAR = 365.2425"
   ]
  },
  {
   "cell_type": "code",
   "execution_count": 2,
   "id": "9ab187a6",
   "metadata": {},
   "outputs": [],
   "source": [
    "# IMPORT PROTESTS DATASET\n",
    "engine = create_engine('sqlite:///../data/processed/protests.db')\n",
    "with engine.begin() as connection:\n",
    "    df_protests = pd.read_sql('SELECT * FROM protests', con=connection)\n",
    "    \n",
    "df_protests.startdate = pd.to_datetime(df_protests.startdate)\n",
    "df_protests.enddate = pd.to_datetime(df_protests.enddate)"
   ]
  },
  {
   "cell_type": "code",
   "execution_count": 3,
   "id": "941016b8",
   "metadata": {},
   "outputs": [],
   "source": [
    "# IMPORT GOVERNMENTS DATASET\n",
    "engine = create_engine('sqlite:///../data/processed/governments.db')\n",
    "with engine.begin() as connection:\n",
    "    df_govts = pd.read_sql('SELECT * FROM governments', con=connection)\n",
    "\n",
    "df_govts.index = df_govts.year_scode\n",
    "df_govts.drop('year_scode', axis=1, inplace=True)"
   ]
  },
  {
   "cell_type": "code",
   "execution_count": 4,
   "id": "2232a26e",
   "metadata": {},
   "outputs": [
    {
     "name": "stdout",
     "output_type": "stream",
     "text": [
      "<class 'pandas.core.frame.DataFrame'>\n",
      "RangeIndex: 1290 entries, 0 to 1289\n",
      "Data columns (total 5 columns):\n",
      " #   Column        Non-Null Count  Dtype         \n",
      "---  ------        --------------  -----         \n",
      " 0   country       1290 non-null   object        \n",
      " 1   scode         1290 non-null   object        \n",
      " 2   startdate     1290 non-null   datetime64[ns]\n",
      " 3   enddate       1290 non-null   datetime64[ns]\n",
      " 4   duration_yrs  1290 non-null   float64       \n",
      "dtypes: datetime64[ns](2), float64(1), object(2)\n",
      "memory usage: 50.5+ KB\n"
     ]
    }
   ],
   "source": [
    "# IMPORT REGIME CHANGE DATASET\n",
    "engine = create_engine('sqlite:///../data/processed/regime_changes.db')\n",
    "with engine.begin() as connection:\n",
    "    df_regimes = pd.read_sql('SELECT * FROM regime_changes', con=connection)\n",
    "    \n",
    "# Type conversions\n",
    "df_regimes.startdate = pd.to_datetime(df_regimes.startdate)\n",
    "df_regimes.enddate = pd.to_datetime(df_regimes.enddate)\n",
    "df_regimes.info()"
   ]
  },
  {
   "cell_type": "code",
   "execution_count": 5,
   "id": "16ef4288",
   "metadata": {},
   "outputs": [
    {
     "name": "stdout",
     "output_type": "stream",
     "text": [
      "<class 'pandas.core.frame.DataFrame'>\n",
      "Int64Index: 15064 entries, 0 to 15207\n",
      "Data columns (total 85 columns):\n",
      " #   Column                              Non-Null Count  Dtype         \n",
      "---  ------                              --------------  -----         \n",
      " 0   protest_id                          15064 non-null  int64         \n",
      " 1   country                             15064 non-null  object        \n",
      " 2   scode                               15064 non-null  object        \n",
      " 3   region                              15064 non-null  object        \n",
      " 4   protestnumber                       15064 non-null  int64         \n",
      " 5   protesterviolence                   15064 non-null  int64         \n",
      " 6   protesteridentity                   15064 non-null  object        \n",
      " 7   startdate                           15064 non-null  datetime64[ns]\n",
      " 8   enddate                             15064 non-null  datetime64[ns]\n",
      " 9   duration_days                       15064 non-null  int64         \n",
      " 10  participants                        15064 non-null  int64         \n",
      " 11  participants_category_original      15064 non-null  object        \n",
      " 12  participants_category_manufactured  15064 non-null  object        \n",
      " 13  notes                               15064 non-null  object        \n",
      " 14  demand_labor-wage-dispute           15064 non-null  int64         \n",
      " 15  demand_land-farm-issue              15064 non-null  int64         \n",
      " 16  demand_police-brutality             15064 non-null  int64         \n",
      " 17  demand_political-behavior/process   15064 non-null  int64         \n",
      " 18  demand_price-increases/tax-policy   15064 non-null  int64         \n",
      " 19  demand_removal-of-politician        15064 non-null  int64         \n",
      " 20  demand_social-restrictions          15064 non-null  int64         \n",
      " 21  response_accomodation               15064 non-null  int64         \n",
      " 22  response_arrests                    15064 non-null  int64         \n",
      " 23  response_beatings                   15064 non-null  int64         \n",
      " 24  response_crowd-dispersal            15064 non-null  int64         \n",
      " 25  response_ignore                     15064 non-null  int64         \n",
      " 26  response_killings                   15064 non-null  int64         \n",
      " 27  response_shootings                  15064 non-null  int64         \n",
      " 28  year_scode                          15064 non-null  object        \n",
      " 29  system                              15064 non-null  object        \n",
      " 30  yrsoffc                             15064 non-null  float64       \n",
      " 31  finittrm                            15064 non-null  float64       \n",
      " 32  yrcurnt                             15064 non-null  float64       \n",
      " 33  termlimit                           15064 non-null  float64       \n",
      " 34  reelect                             15064 non-null  float64       \n",
      " 35  multpl                              15064 non-null  float64       \n",
      " 36  military                            15064 non-null  float64       \n",
      " 37  defmin                              15064 non-null  float64       \n",
      " 38  prtyin                              15064 non-null  float64       \n",
      " 39  execrlc                             15064 non-null  object        \n",
      " 40  execnat                             15064 non-null  float64       \n",
      " 41  execrel                             15064 non-null  object        \n",
      " 42  execage                             15064 non-null  float64       \n",
      " 43  allhouse                            15064 non-null  float64       \n",
      " 44  totalseats                          15064 non-null  float64       \n",
      " 45  oppmajh                             15064 non-null  float64       \n",
      " 46  oppmajs                             15064 non-null  float64       \n",
      " 47  legelec                             15064 non-null  float64       \n",
      " 48  exelec                              15064 non-null  float64       \n",
      " 49  liec                                15064 non-null  float64       \n",
      " 50  eiec                                15064 non-null  float64       \n",
      " 51  mdmh                                15064 non-null  float64       \n",
      " 52  mdms                                15064 non-null  float64       \n",
      " 53  ssh                                 15064 non-null  float64       \n",
      " 54  pluralty                            15064 non-null  float64       \n",
      " 55  pr                                  15064 non-null  float64       \n",
      " 56  housesys                            15064 non-null  object        \n",
      " 57  sensys                              15064 non-null  object        \n",
      " 58  thresh                              15064 non-null  float64       \n",
      " 59  cl                                  15064 non-null  float64       \n",
      " 60  gq                                  15064 non-null  float64       \n",
      " 61  gqi                                 15064 non-null  float64       \n",
      " 62  fraud                               15064 non-null  object        \n",
      " 63  auton                               15064 non-null  float64       \n",
      " 64  muni                                15064 non-null  float64       \n",
      " 65  state                               15064 non-null  float64       \n",
      " 66  author                              15064 non-null  float64       \n",
      " 67  numvote                             15064 non-null  float64       \n",
      " 68  oppvote                             15064 non-null  float64       \n",
      " 69  maj                                 15064 non-null  float64       \n",
      " 70  partyage                            15064 non-null  float64       \n",
      " 71  herfgov                             15064 non-null  float64       \n",
      " 72  herfopp                             15064 non-null  float64       \n",
      " 73  frac                                15064 non-null  float64       \n",
      " 74  oppfrac                             15064 non-null  float64       \n",
      " 75  govfrac                             15064 non-null  float64       \n",
      " 76  tensys_strict                       15064 non-null  float64       \n",
      " 77  checks                              15064 non-null  float64       \n",
      " 78  stabs_strict                        15064 non-null  float64       \n",
      " 79  tenlong_strict                      15064 non-null  float64       \n",
      " 80  tenshort_strict                     15064 non-null  float64       \n",
      " 81  polariz                             15064 non-null  float64       \n",
      " 82  country_govt                        15064 non-null  object        \n",
      " 83  scode_govt                          15064 non-null  object        \n",
      " 84  percent                             15064 non-null  float64       \n",
      "dtypes: datetime64[ns](2), float64(48), int64(19), object(16)\n",
      "memory usage: 9.9+ MB\n"
     ]
    }
   ],
   "source": [
    "# Join both dataframes\n",
    "df = df_protests.join(df_govts, how='left', on='year_scode')\n",
    "\n",
    "# Remove entries that don't have corresponding 'government' data\n",
    "df.dropna(inplace=True)\n",
    "df.info()"
   ]
  },
  {
   "cell_type": "code",
   "execution_count": 6,
   "id": "0a2e2e5e",
   "metadata": {},
   "outputs": [
    {
     "data": {
      "text/html": [
       "<div>\n",
       "<style scoped>\n",
       "    .dataframe tbody tr th:only-of-type {\n",
       "        vertical-align: middle;\n",
       "    }\n",
       "\n",
       "    .dataframe tbody tr th {\n",
       "        vertical-align: top;\n",
       "    }\n",
       "\n",
       "    .dataframe thead th {\n",
       "        text-align: right;\n",
       "    }\n",
       "</style>\n",
       "<table border=\"1\" class=\"dataframe\">\n",
       "  <thead>\n",
       "    <tr style=\"text-align: right;\">\n",
       "      <th></th>\n",
       "      <th>scode</th>\n",
       "      <th>scode_govt</th>\n",
       "      <th>country</th>\n",
       "      <th>country_govt</th>\n",
       "    </tr>\n",
       "  </thead>\n",
       "  <tbody>\n",
       "  </tbody>\n",
       "</table>\n",
       "</div>"
      ],
      "text/plain": [
       "Empty DataFrame\n",
       "Columns: [scode, scode_govt, country, country_govt]\n",
       "Index: []"
      ]
     },
     "metadata": {},
     "output_type": "display_data"
    }
   ],
   "source": [
    "# BASIC QC THAT NAMES & IDs MATCH\n",
    "missing_countries = df.loc[(df.country != df.country_govt)][['scode', 'scode_govt', 'country', 'country_govt']]\n",
    "missing_countries = missing_countries.drop_duplicates()\n",
    "display(missing_countries.sort_values(by='scode'))\n",
    "\n",
    "# These countries do not contain government data. Remove. \n",
    "scodes_to_remove = missing_countries.scode.unique()\n",
    "scodes_to_remove_ind = [x in scodes_to_remove for x in df.scode]\n",
    "df.drop(df.loc[scodes_to_remove_ind].index, axis=0, inplace=True)"
   ]
  },
  {
   "cell_type": "code",
   "execution_count": 7,
   "id": "141717c2",
   "metadata": {},
   "outputs": [
    {
     "name": "stdout",
     "output_type": "stream",
     "text": [
      "Countries missing from \"Regimes\" dataset: ['LUX']\n"
     ]
    }
   ],
   "source": [
    "all_countries = df.scode.unique()\n",
    "regime_countries = df_regimes.scode.unique()\n",
    "\n",
    "missing = []\n",
    "for country in all_countries:\n",
    "    if country not in regime_countries:\n",
    "        missing.append(country)\n",
    "\n",
    "print('Countries missing from \"Regimes\" dataset:', missing)\n",
    "\n",
    "# Remove these countries from dataset\n",
    "scodes_to_remove_ind = [x in missing for x in df.scode]\n",
    "df.drop(df.loc[scodes_to_remove_ind].index, axis=0, inplace=True)"
   ]
  },
  {
   "cell_type": "markdown",
   "id": "9f4594a9",
   "metadata": {},
   "source": [
    "## Engineer new target\n",
    "\n",
    "Game plan:\n",
    "- Create column for \"next regime change date\"\n",
    "- Create column for \"days until next regime change\"\n",
    "- Create target column for [above column] < 365 (try for other targets too)"
   ]
  },
  {
   "cell_type": "code",
   "execution_count": 8,
   "id": "c45f3be9",
   "metadata": {},
   "outputs": [
    {
     "name": "stdout",
     "output_type": "stream",
     "text": [
      "<class 'pandas.core.frame.DataFrame'>\n",
      "Int64Index: 15061 entries, 0 to 15207\n",
      "Data columns (total 5 columns):\n",
      " #   Column                      Non-Null Count  Dtype         \n",
      "---  ------                      --------------  -----         \n",
      " 0   scode                       15061 non-null  object        \n",
      " 1   startdate                   15061 non-null  datetime64[ns]\n",
      " 2   next_regime_chg_date        15061 non-null  datetime64[ns]\n",
      " 3   days_until_next_regime_chg  15061 non-null  int64         \n",
      " 4   target (<365)               0 non-null      object        \n",
      "dtypes: datetime64[ns](2), int64(1), object(2)\n",
      "memory usage: 1.2+ MB\n"
     ]
    }
   ],
   "source": [
    "# USE THIS STRUCTURE TO LOOP OVER EACH COUNTRY, SIMILAR TO HOW ENDDATE WAS QC'D\n",
    "# Loop over all country names\n",
    "working_df = df[['scode', 'startdate']].copy()\n",
    "working_df['next_regime_chg_date'] = None\n",
    "working_df['days_until_next_regime_chg'] = None\n",
    "working_df['target (<365)'] = None\n",
    "\n",
    "for protest_index, protest_scode, protest_start in df.reset_index()[['index', 'scode', 'startdate']].values:\n",
    "    \n",
    "    # look only at country in question\n",
    "    regime_country_df = df_regimes.loc[df_regimes.scode==protest_scode]\n",
    "       \n",
    "    \n",
    "    \n",
    "#     #TESTING ONLY\n",
    "#     if protest_index == 7289:\n",
    "#             print('protest start:', protest_start)\n",
    "    \n",
    "    # Loop over all regime indices\n",
    "    for regime_index in regime_country_df.index:\n",
    "        # isolate startdate and enddate for selected regime\n",
    "        regime_start = regime_country_df.loc[regime_index, 'startdate']\n",
    "        regime_end   = regime_country_df.loc[regime_index, 'enddate']\n",
    "        \n",
    "        \n",
    "        # if protest occurs before statehood,set the 'regime end' to the date it became a state \n",
    "        # this would correspond to protests about creating a state. Note that this is very rare in this dataset\n",
    "        if (regime_index == regime_country_df.index[0]) and (protest_start < regime_start):\n",
    "            working_df.loc[protest_index, 'next_regime_chg_date'] = regime_start\n",
    "        \n",
    "\n",
    "        \n",
    "#         #TESTING ONLY\n",
    "#         elif protest_index == 7289:\n",
    "#             print('regime start / end:', regime_start, '|', regime_end)\n",
    "        \n",
    "        # test if the protest is within selected regime row\n",
    "        elif (protest_start >= regime_start) and (protest_start <= regime_end):\n",
    "            working_df.loc[protest_index, 'next_regime_chg_date'] = regime_end\n",
    "    if working_df.loc[protest_index, 'next_regime_chg_date'] == None:\n",
    "        print('broke')\n",
    "        break\n",
    "\n",
    "    \n",
    "# # Convert from 'object' to 'datetime' format\n",
    "working_df['next_regime_chg_date'] = pd.to_datetime(working_df['next_regime_chg_date'])\n",
    "\n",
    "\n",
    "# # Incorporate new column for \"duration\"\n",
    "working_df['days_until_next_regime_chg'] = (working_df['next_regime_chg_date'] - working_df['startdate']).dt.days\n",
    "\n",
    "working_df.info()"
   ]
  },
  {
   "cell_type": "markdown",
   "id": "da718439",
   "metadata": {},
   "source": [
    "#### Combine this data with main df"
   ]
  },
  {
   "cell_type": "code",
   "execution_count": 9,
   "id": "1fd21a2f",
   "metadata": {},
   "outputs": [],
   "source": [
    "df['days_until_next_regime_chg'] = working_df['days_until_next_regime_chg']"
   ]
  },
  {
   "cell_type": "markdown",
   "id": "eced3bf4",
   "metadata": {},
   "source": [
    "## Basic cleaning"
   ]
  },
  {
   "cell_type": "code",
   "execution_count": 10,
   "id": "94011702",
   "metadata": {},
   "outputs": [],
   "source": [
    "# Add 'startyear' in numeric format to replace datetime format since models can't handle the latter\n",
    "df['startyear'] = df.startdate.dt.year"
   ]
  },
  {
   "cell_type": "code",
   "execution_count": 11,
   "id": "7e7568d8",
   "metadata": {},
   "outputs": [
    {
     "name": "stdout",
     "output_type": "stream",
     "text": [
      "<class 'pandas.core.frame.DataFrame'>\n",
      "Int64Index: 15061 entries, 0 to 15207\n",
      "Data columns (total 87 columns):\n",
      " #   Column                              Non-Null Count  Dtype         \n",
      "---  ------                              --------------  -----         \n",
      " 0   protest_id                          15061 non-null  int64         \n",
      " 1   country                             15061 non-null  object        \n",
      " 2   scode                               15061 non-null  object        \n",
      " 3   region                              15061 non-null  object        \n",
      " 4   protestnumber                       15061 non-null  int64         \n",
      " 5   protesterviolence                   15061 non-null  int64         \n",
      " 6   protesteridentity                   15061 non-null  object        \n",
      " 7   startdate                           15061 non-null  datetime64[ns]\n",
      " 8   enddate                             15061 non-null  datetime64[ns]\n",
      " 9   duration_days                       15061 non-null  int64         \n",
      " 10  participants                        15061 non-null  int64         \n",
      " 11  participants_category_original      15061 non-null  object        \n",
      " 12  participants_category_manufactured  15061 non-null  object        \n",
      " 13  notes                               15061 non-null  object        \n",
      " 14  demand_labor-wage-dispute           15061 non-null  int64         \n",
      " 15  demand_land-farm-issue              15061 non-null  int64         \n",
      " 16  demand_police-brutality             15061 non-null  int64         \n",
      " 17  demand_political-behavior/process   15061 non-null  int64         \n",
      " 18  demand_price-increases/tax-policy   15061 non-null  int64         \n",
      " 19  demand_removal-of-politician        15061 non-null  int64         \n",
      " 20  demand_social-restrictions          15061 non-null  int64         \n",
      " 21  response_accomodation               15061 non-null  int64         \n",
      " 22  response_arrests                    15061 non-null  int64         \n",
      " 23  response_beatings                   15061 non-null  int64         \n",
      " 24  response_crowd-dispersal            15061 non-null  int64         \n",
      " 25  response_ignore                     15061 non-null  int64         \n",
      " 26  response_killings                   15061 non-null  int64         \n",
      " 27  response_shootings                  15061 non-null  int64         \n",
      " 28  year_scode                          15061 non-null  object        \n",
      " 29  system                              15055 non-null  object        \n",
      " 30  yrsoffc                             15023 non-null  float64       \n",
      " 31  finittrm                            14913 non-null  float64       \n",
      " 32  yrcurnt                             14062 non-null  float64       \n",
      " 33  termlimit                           14543 non-null  float64       \n",
      " 34  reelect                             14115 non-null  float64       \n",
      " 35  multpl                              14082 non-null  float64       \n",
      " 36  military                            15029 non-null  float64       \n",
      " 37  defmin                              14540 non-null  float64       \n",
      " 38  prtyin                              13175 non-null  float64       \n",
      " 39  execrlc                             9118 non-null   object        \n",
      " 40  execnat                             14747 non-null  float64       \n",
      " 41  execrel                             14790 non-null  object        \n",
      " 42  execage                             12984 non-null  float64       \n",
      " 43  allhouse                            13813 non-null  float64       \n",
      " 44  totalseats                          15061 non-null  float64       \n",
      " 45  oppmajh                             14450 non-null  float64       \n",
      " 46  oppmajs                             6512 non-null   float64       \n",
      " 47  legelec                             15024 non-null  float64       \n",
      " 48  exelec                              15041 non-null  float64       \n",
      " 49  liec                                15019 non-null  float64       \n",
      " 50  eiec                                15010 non-null  float64       \n",
      " 51  mdmh                                13688 non-null  float64       \n",
      " 52  mdms                                6028 non-null   float64       \n",
      " 53  ssh                                 6320 non-null   float64       \n",
      " 54  pluralty                            13855 non-null  float64       \n",
      " 55  pr                                  13551 non-null  float64       \n",
      " 56  housesys                            13673 non-null  object        \n",
      " 57  sensys                              2900 non-null   object        \n",
      " 58  thresh                              9066 non-null   float64       \n",
      " 59  cl                                  8759 non-null   float64       \n",
      " 60  gq                                  14889 non-null  float64       \n",
      " 61  gqi                                 14656 non-null  float64       \n",
      " 62  fraud                               12926 non-null  object        \n",
      " 63  auton                               14357 non-null  float64       \n",
      " 64  muni                                9646 non-null   float64       \n",
      " 65  state                               11048 non-null  float64       \n",
      " 66  author                              5568 non-null   float64       \n",
      " 67  numvote                             15061 non-null  float64       \n",
      " 68  oppvote                             15061 non-null  float64       \n",
      " 69  maj                                 14398 non-null  float64       \n",
      " 70  partyage                            13826 non-null  float64       \n",
      " 71  herfgov                             14423 non-null  float64       \n",
      " 72  herfopp                             12874 non-null  float64       \n",
      " 73  frac                                14143 non-null  float64       \n",
      " 74  oppfrac                             12714 non-null  float64       \n",
      " 75  govfrac                             14423 non-null  float64       \n",
      " 76  tensys_strict                       14977 non-null  float64       \n",
      " 77  checks                              14753 non-null  float64       \n",
      " 78  stabs_strict                        14884 non-null  float64       \n",
      " 79  tenlong_strict                      14739 non-null  float64       \n",
      " 80  tenshort_strict                     14744 non-null  float64       \n",
      " 81  polariz                             12467 non-null  float64       \n",
      " 82  country_govt                        15061 non-null  object        \n",
      " 83  scode_govt                          15061 non-null  object        \n",
      " 84  percent                             8202 non-null   float64       \n",
      " 85  days_until_next_regime_chg          15061 non-null  int64         \n",
      " 86  startyear                           15061 non-null  int64         \n",
      "dtypes: datetime64[ns](2), float64(48), int64(21), object(16)\n",
      "memory usage: 10.6+ MB\n",
      "None\n"
     ]
    }
   ],
   "source": [
    "# Relace 'placeholder' NaN values, as defined by data dictionary (see raw data directory)\n",
    "df.replace(NOT_APLIC_STR, np.nan, inplace=True)\n",
    "df.replace(NOT_APLIC_NUM, np.nan, inplace=True)\n",
    "print(df.info())"
   ]
  },
  {
   "cell_type": "code",
   "execution_count": 12,
   "id": "5ba13c90",
   "metadata": {},
   "outputs": [
    {
     "name": "stdout",
     "output_type": "stream",
     "text": [
      "<class 'pandas.core.frame.DataFrame'>\n",
      "Int64Index: 14558 entries, 0 to 15207\n",
      "Data columns (total 47 columns):\n",
      " #   Column                              Non-Null Count  Dtype         \n",
      "---  ------                              --------------  -----         \n",
      " 0   protest_id                          14558 non-null  int64         \n",
      " 1   country                             14558 non-null  object        \n",
      " 2   scode                               14558 non-null  object        \n",
      " 3   region                              14558 non-null  object        \n",
      " 4   protestnumber                       14558 non-null  int64         \n",
      " 5   protesterviolence                   14558 non-null  int64         \n",
      " 6   protesteridentity                   14558 non-null  object        \n",
      " 7   startdate                           14558 non-null  datetime64[ns]\n",
      " 8   enddate                             14558 non-null  datetime64[ns]\n",
      " 9   duration_days                       14558 non-null  int64         \n",
      " 10  participants                        14558 non-null  int64         \n",
      " 11  participants_category_original      14558 non-null  object        \n",
      " 12  participants_category_manufactured  14558 non-null  object        \n",
      " 13  notes                               14558 non-null  object        \n",
      " 14  demand_labor-wage-dispute           14558 non-null  int64         \n",
      " 15  demand_land-farm-issue              14558 non-null  int64         \n",
      " 16  demand_police-brutality             14558 non-null  int64         \n",
      " 17  demand_political-behavior/process   14558 non-null  int64         \n",
      " 18  demand_price-increases/tax-policy   14558 non-null  int64         \n",
      " 19  demand_removal-of-politician        14558 non-null  int64         \n",
      " 20  demand_social-restrictions          14558 non-null  int64         \n",
      " 21  response_accomodation               14558 non-null  int64         \n",
      " 22  response_arrests                    14558 non-null  int64         \n",
      " 23  response_beatings                   14558 non-null  int64         \n",
      " 24  response_crowd-dispersal            14558 non-null  int64         \n",
      " 25  response_ignore                     14558 non-null  int64         \n",
      " 26  response_killings                   14558 non-null  int64         \n",
      " 27  response_shootings                  14558 non-null  int64         \n",
      " 28  year_scode                          14558 non-null  object        \n",
      " 29  system                              14558 non-null  object        \n",
      " 30  yrsoffc                             14558 non-null  float64       \n",
      " 31  finittrm                            14558 non-null  float64       \n",
      " 32  military                            14558 non-null  float64       \n",
      " 33  totalseats                          14558 non-null  float64       \n",
      " 34  legelec                             14558 non-null  float64       \n",
      " 35  exelec                              14558 non-null  float64       \n",
      " 36  liec                                14558 non-null  float64       \n",
      " 37  eiec                                14558 non-null  float64       \n",
      " 38  gq                                  14558 non-null  float64       \n",
      " 39  numvote                             14558 non-null  float64       \n",
      " 40  oppvote                             14558 non-null  float64       \n",
      " 41  tensys_strict                       14558 non-null  float64       \n",
      " 42  stabs_strict                        14558 non-null  float64       \n",
      " 43  country_govt                        14558 non-null  object        \n",
      " 44  scode_govt                          14558 non-null  object        \n",
      " 45  days_until_next_regime_chg          14558 non-null  int64         \n",
      " 46  startyear                           14558 non-null  int64         \n",
      "dtypes: datetime64[ns](2), float64(13), int64(21), object(11)\n",
      "memory usage: 5.3+ MB\n"
     ]
    }
   ],
   "source": [
    "# Set semi-arbitrary threshold for the maximum number of missing values to justify keeping\n",
    "MAX_MISSING_VALUES = 250\n",
    "\n",
    "# Copy main df to retain a full dataset\n",
    "df_cut = df.copy()\n",
    "\n",
    "# Determine the number of missing values in each column\n",
    "na_counts_by_col = {}\n",
    "for col in df_cut.columns:\n",
    "    na_ct = df_cut[col].isna().sum()\n",
    "    na_counts_by_col[col] = na_ct # Keep record in dictionary in case you want to investigate\n",
    "    \n",
    "    if na_ct > MAX_MISSING_VALUES:\n",
    "        df_cut.drop(col, axis=1, inplace=True)\n",
    "        \n",
    "df_cut.dropna(inplace=True)\n",
    "df_cut.info()"
   ]
  },
  {
   "cell_type": "markdown",
   "id": "932be59e",
   "metadata": {},
   "source": [
    "# Run it through a model!"
   ]
  },
  {
   "cell_type": "code",
   "execution_count": 13,
   "id": "0be290fc",
   "metadata": {},
   "outputs": [
    {
     "name": "stdout",
     "output_type": "stream",
     "text": [
      "<class 'pandas.core.frame.DataFrame'>\n",
      "Int64Index: 14558 entries, 0 to 15207\n",
      "Data columns (total 29 columns):\n",
      " #   Column                              Non-Null Count  Dtype  \n",
      "---  ------                              --------------  -----  \n",
      " 0   country                             14558 non-null  object \n",
      " 1   region                              14558 non-null  object \n",
      " 2   protestnumber                       14558 non-null  int64  \n",
      " 3   protesterviolence                   14558 non-null  int64  \n",
      " 4   duration_days                       14558 non-null  int64  \n",
      " 5   participants                        14558 non-null  int64  \n",
      " 6   participants_category_manufactured  14558 non-null  object \n",
      " 7   demand_labor-wage-dispute           14558 non-null  int64  \n",
      " 8   demand_land-farm-issue              14558 non-null  int64  \n",
      " 9   demand_police-brutality             14558 non-null  int64  \n",
      " 10  demand_political-behavior/process   14558 non-null  int64  \n",
      " 11  demand_price-increases/tax-policy   14558 non-null  int64  \n",
      " 12  demand_removal-of-politician        14558 non-null  int64  \n",
      " 13  demand_social-restrictions          14558 non-null  int64  \n",
      " 14  system                              14558 non-null  object \n",
      " 15  yrsoffc                             14558 non-null  float64\n",
      " 16  finittrm                            14558 non-null  float64\n",
      " 17  military                            14558 non-null  float64\n",
      " 18  totalseats                          14558 non-null  float64\n",
      " 19  legelec                             14558 non-null  float64\n",
      " 20  exelec                              14558 non-null  float64\n",
      " 21  liec                                14558 non-null  float64\n",
      " 22  eiec                                14558 non-null  float64\n",
      " 23  gq                                  14558 non-null  float64\n",
      " 24  numvote                             14558 non-null  float64\n",
      " 25  oppvote                             14558 non-null  float64\n",
      " 26  tensys_strict                       14558 non-null  float64\n",
      " 27  stabs_strict                        14558 non-null  float64\n",
      " 28  startyear                           14558 non-null  int64  \n",
      "dtypes: float64(13), int64(12), object(4)\n",
      "memory usage: 3.3+ MB\n"
     ]
    }
   ],
   "source": [
    "response_cols = ['response_accomodation', 'response_arrests', 'response_beatings', \n",
    "                 'response_crowd-dispersal', 'response_ignore', 'response_killings', 'response_shootings', 'days_until_next_regime_chg', 'scode']\n",
    "\n",
    "\n",
    "drop_cols = ['protest_id', 'protesteridentity', 'participants_category_original', 'notes', 'year_scode', 'scode_govt', 'country_govt', 'startdate', 'enddate']\n",
    "model_inputs = df_cut.drop(response_cols+drop_cols, axis=1)\n",
    "model_inputs.info()"
   ]
  },
  {
   "cell_type": "code",
   "execution_count": null,
   "id": "3f3db56b",
   "metadata": {},
   "outputs": [],
   "source": []
  },
  {
   "cell_type": "code",
   "execution_count": 14,
   "id": "0b65085a",
   "metadata": {},
   "outputs": [],
   "source": [
    "df_responses = df_cut[response_cols]\n",
    "\n",
    "violent_cols = ['response_beatings', 'response_killings', 'response_shootings']\n",
    "df_violence = df_cut[violent_cols].any(axis=1).astype('int')\n",
    "df_accommodation = df_cut['response_accomodation']\n",
    "df_accommodation_only = pd.Series((df_responses.response_accomodation == 1) & \n",
    "                                  (df_responses.drop('response_accomodation', axis=1).sum(axis=1)==0)).astype('int')\n",
    "df_ignore = df_cut['response_ignore']\n",
    "\n",
    "DAYS_UNTIL_CHG = DAYS_PER_YEAR\n",
    "change_in_power_soon = df_cut['days_until_next_regime_chg'] < DAYS_UNTIL_CHG\n",
    "\n",
    "\n",
    "# ***IMPORTANT LINE - CHOOSE WHICH TARGET TO USE***\n",
    "y = change_in_power_soon\n",
    "\n",
    "\n",
    "\n",
    "x_traintest, x_holdout, y_traintest, y_holdout = train_test_split(model_inputs, y, random_state=RANDOM_STATE)\n",
    "x_train, x_test, y_train, y_test = train_test_split(x_traintest, y_traintest, random_state=RANDOM_STATE)"
   ]
  },
  {
   "cell_type": "markdown",
   "id": "ed3313c5",
   "metadata": {},
   "source": [
    "### Define models and parameter grids"
   ]
  },
  {
   "cell_type": "code",
   "execution_count": 15,
   "id": "08200f35",
   "metadata": {},
   "outputs": [],
   "source": [
    "# Set parameter grid to search across\n",
    "grid_bay = {'model__var_smoothing': [1e-9]}\n",
    "\n",
    "grid_log = {'model__C': np.logspace(-1, 5, 20)}\n",
    "\n",
    "grid_dt = {\n",
    "    'model__max_depth': [3, 5, 7], \n",
    "    'model__criterion': ['gini', 'entropy'],\n",
    "    'model__min_samples_split': [5, 10],\n",
    "    'model__min_samples_leaf': [5, 10]} \n",
    "\n",
    "grid_rf = {\n",
    "    'model__n_estimators': [25, 75],#, 150],\n",
    "    'model__criterion': ['gini', 'entropy'],\n",
    "    'model__max_depth': [3, 7],# [3, 6, 10],\n",
    "    'model__min_samples_split': [5, 10],\n",
    "    'model__min_samples_leaf': [3, 6]}\n",
    "\n",
    "grid_knn = {\n",
    "    'model__leaf_size': [25, 50, 75],\n",
    "    'model__n_neighbors': [3, 5, 7, 9],\n",
    "    'model__weights': ['uniform', 'distance']}      \n",
    "\n",
    "grid_ada = {\n",
    "    'model__n_estimators': [50, 200],\n",
    "    'model__learning_rate': [0.1, 0.25, 1]}\n",
    "\n",
    "grid_xgb = {\n",
    "    'model__learning_rate': [0.1, 0.25, 1],\n",
    "    'model__max_depth': [3, 7],\n",
    "    'model__min_child_weight': [1, 2],\n",
    "    'model__subsample': [0.5, 0.7],\n",
    "    'model__n_estimators': [100, 150],\n",
    "    'model__tree_method': ['exact', 'approx', 'hist']}\n",
    "\n",
    "np.random.seed(RANDOM_STATE)\n",
    "model_bay = GaussianNB()\n",
    "model_log = LogisticRegression(max_iter=5000)\n",
    "model_dt = DecisionTreeClassifier()\n",
    "model_rf = RandomForestClassifier()\n",
    "model_knn = KNeighborsClassifier()\n",
    "model_ada = AdaBoostClassifier(random_state=RANDOM_STATE)\n",
    "model_xgb = XGBClassifier(eval_metric='logloss', use_label_encoder=False, random_state=RANDOM_STATE)\n",
    "\n",
    "grids = [grid_bay, grid_log, grid_dt, grid_rf, grid_knn, grid_ada, grid_xgb]\n",
    "models = [model_bay, model_log, model_dt, model_rf, model_knn, model_ada, model_xgb]"
   ]
  },
  {
   "cell_type": "code",
   "execution_count": 16,
   "id": "15b0adc2",
   "metadata": {},
   "outputs": [],
   "source": [
    "def create_pipeline_and_run(model, grid, metric='accuracy'):\n",
    "    np.random.seed(RANDOM_STATE)\n",
    "    ohe = OneHotEncoder(handle_unknown='ignore', sparse=False)\n",
    "    scaler = StandardScaler()\n",
    "    smote = SMOTE(random_state=RANDOM_STATE)\n",
    "\n",
    "    selector_object = make_column_selector(dtype_include='object')\n",
    "    selector_numeric = make_column_selector(dtype_include='number')\n",
    "    transformer = make_column_transformer((ohe, selector_object),\n",
    "                                         (scaler, selector_numeric))\n",
    "\n",
    "\n",
    "    pipe = Pipeline([('transformer', transformer),\n",
    "                     ('smote', smote), \n",
    "                     ('model', model)])\n",
    "\n",
    "    # Instantiate and fit grid search object\n",
    "    grid = GridSearchCV(pipe, grid, return_train_score=True, scoring='f1', cv=3)\n",
    "    grid.fit(x_train, y_train)\n",
    "    pred = grid.best_estimator_.predict(x_test)\n",
    "    print(f'{model}:')\n",
    "    print(f'   - f1: {f1_score(y_test, pred)}')\n",
    "    print(f'   - accuracy: {accuracy_score(y_test, pred)}')\n",
    "    print(f'   - precision: {precision_score(y_test, pred)}')\n",
    "    print(f'   - recall: {recall_score(y_test, pred)}')\n",
    "    \n",
    "    # Confusion matrix\n",
    "    plt.figure()\n",
    "    plot_confusion_matrix(grid.best_estimator_, x_train, y_train)\n",
    "    plt.show()\n",
    "    \n",
    "    return grid.best_estimator_"
   ]
  },
  {
   "cell_type": "markdown",
   "id": "40bc7ff4",
   "metadata": {},
   "source": [
    "### Dummy classifier results"
   ]
  },
  {
   "cell_type": "code",
   "execution_count": 17,
   "id": "3d4720c5",
   "metadata": {},
   "outputs": [
    {
     "name": "stdout",
     "output_type": "stream",
     "text": [
      "DUMMY SCORE (stratified):\n",
      "   - f1 score: 0.08754208754208755\n",
      "   - accuracy: 0.8014652014652015\n",
      "   - precision: 0.08934707903780069\n",
      "   - recall: 0.0858085808580858\n",
      "DUMMY SCORE (uniform):\n",
      "   - f1 score: 0.2025014889815366\n",
      "   - accuracy: 0.5095238095238095\n",
      "   - precision: 0.12354651162790697\n",
      "   - recall: 0.5610561056105611\n",
      "DUMMY SCORE (most_frequent):\n",
      "   - f1 score: 0.0\n",
      "   - accuracy: 0.889010989010989\n",
      "   - precision: 0.0\n",
      "   - recall: 0.0\n"
     ]
    },
    {
     "name": "stderr",
     "output_type": "stream",
     "text": [
      "C:\\Users\\seths\\anaconda3\\lib\\site-packages\\sklearn\\metrics\\_classification.py:1245: UndefinedMetricWarning: Precision is ill-defined and being set to 0.0 due to no predicted samples. Use `zero_division` parameter to control this behavior.\n",
      "  _warn_prf(average, modifier, msg_start, len(result))\n"
     ]
    }
   ],
   "source": [
    "for strategy in [\"stratified\", \"uniform\", \"most_frequent\"]:\n",
    "    dummy_clf = DummyClassifier(strategy=strategy, random_state=RANDOM_STATE)\n",
    "    dummy_clf.fit(x_train, y_train)\n",
    "    \n",
    "    pred_dummy = dummy_clf.predict(x_test)\n",
    "\n",
    "    print(f'DUMMY SCORE ({strategy}):')\n",
    "    print(f'   - f1 score: {f1_score(y_test, pred_dummy)}')\n",
    "    print(f'   - accuracy: {accuracy_score(y_test, pred_dummy)}')\n",
    "    print(f'   - precision: {precision_score(y_test, pred_dummy)}')\n",
    "    print(f'   - recall: {recall_score(y_test, pred_dummy)}')"
   ]
  },
  {
   "cell_type": "markdown",
   "id": "5f4f2865",
   "metadata": {
    "tags": []
   },
   "source": [
    "### Run *only one* model"
   ]
  },
  {
   "cell_type": "code",
   "execution_count": 18,
   "id": "aba14c08",
   "metadata": {
    "tags": []
   },
   "outputs": [
    {
     "name": "stdout",
     "output_type": "stream",
     "text": [
      "KNeighborsClassifier():\n",
      "   - f1: 0.5913705583756346\n",
      "   - accuracy: 0.882051282051282\n",
      "   - precision: 0.48041237113402063\n",
      "   - recall: 0.768976897689769\n"
     ]
    },
    {
     "data": {
      "image/png": "[encoded data removed]",
      "text/plain": [
       "<Figure size 432x288 with 2 Axes>"
      ]
     },
     "metadata": {
      "needs_background": "light"
     },
     "output_type": "display_data"
    }
   ],
   "source": [
    "create_pipeline_and_run(model_knn, grid_knn);"
   ]
  },
  {
   "cell_type": "markdown",
   "id": "0bb9d7c9",
   "metadata": {},
   "source": [
    "### Run *all models* defined above"
   ]
  },
  {
   "cell_type": "code",
   "execution_count": 19,
   "id": "17d7c97d",
   "metadata": {
    "tags": []
   },
   "outputs": [
    {
     "name": "stdout",
     "output_type": "stream",
     "text": [
      "GaussianNB():\n",
      "   - f1: 0.26420198376916143\n",
      "   - accuracy: 0.4021978021978022\n",
      "   - precision: 0.15300261096605744\n",
      "   - recall: 0.966996699669967\n",
      "LogisticRegression(max_iter=5000):\n",
      "   - f1: 0.45673505798394287\n",
      "   - accuracy: 0.7769230769230769\n",
      "   - precision: 0.31295843520782396\n",
      "   - recall: 0.8448844884488449\n",
      "DecisionTreeClassifier():\n",
      "   - f1: 0.44353741496598637\n",
      "   - accuracy: 0.8501831501831502\n",
      "   - precision: 0.3773148148148148\n",
      "   - recall: 0.5379537953795379\n",
      "RandomForestClassifier():\n",
      "   - f1: 0.5018541409147095\n",
      "   - accuracy: 0.8523809523809524\n",
      "   - precision: 0.40118577075098816\n",
      "   - recall: 0.66996699669967\n",
      "KNeighborsClassifier():\n",
      "   - f1: 0.5913705583756346\n",
      "   - accuracy: 0.882051282051282\n",
      "   - precision: 0.48041237113402063\n",
      "   - recall: 0.768976897689769\n",
      "AdaBoostClassifier(random_state=2021):\n",
      "   - f1: 0.5641025641025641\n",
      "   - accuracy: 0.8941391941391942\n",
      "   - precision: 0.5194444444444445\n",
      "   - recall: 0.6171617161716172\n",
      "XGBClassifier(base_score=None, booster=None, colsample_bylevel=None,\n",
      "              colsample_bynode=None, colsample_bytree=None,\n",
      "              eval_metric='logloss', gamma=None, gpu_id=None,\n",
      "              importance_type='gain', interaction_constraints=None,\n",
      "              learning_rate=None, max_delta_step=None, max_depth=None,\n",
      "              min_child_weight=None, missing=nan, monotone_constraints=None,\n",
      "              n_estimators=100, n_jobs=None, num_parallel_tree=None,\n",
      "              random_state=2021, reg_alpha=None, reg_lambda=None,\n",
      "              scale_pos_weight=None, subsample=None, tree_method=None,\n",
      "              use_label_encoder=False, validate_parameters=None,\n",
      "              verbosity=None):\n",
      "   - f1: 0.8158844765342961\n",
      "   - accuracy: 0.9626373626373627\n",
      "   - precision: 0.900398406374502\n",
      "   - recall: 0.7458745874587459\n"
     ]
    },
    {
     "data": {
      "image/png": "[encoded data removed]",
      "text/plain": [
       "<Figure size 432x288 with 2 Axes>"
      ]
     },
     "metadata": {
      "needs_background": "light"
     },
     "output_type": "display_data"
    },
    {
     "data": {
      "image/png": "[encoded data removed]",
      "text/plain": [
       "<Figure size 432x288 with 2 Axes>"
      ]
     },
     "metadata": {
      "needs_background": "light"
     },
     "output_type": "display_data"
    },
    {
     "data": {
      "image/png": "[encoded data removed]",
      "text/plain": [
       "<Figure size 432x288 with 2 Axes>"
      ]
     },
     "metadata": {
      "needs_background": "light"
     },
     "output_type": "display_data"
    },
    {
     "data": {
      "image/png": "[encoded data removed]",
      "text/plain": [
       "<Figure size 432x288 with 2 Axes>"
      ]
     },
     "metadata": {
      "needs_background": "light"
     },
     "output_type": "display_data"
    },
    {
     "data": {
      "image/png": "[encoded data removed]",
      "text/plain": [
       "<Figure size 432x288 with 2 Axes>"
      ]
     },
     "metadata": {
      "needs_background": "light"
     },
     "output_type": "display_data"
    },
    {
     "data": {
      "image/png": "[encoded data removed]",
      "text/plain": [
       "<Figure size 432x288 with 2 Axes>"
      ]
     },
     "metadata": {
      "needs_background": "light"
     },
     "output_type": "display_data"
    },
    {
     "data": {
      "image/png": "[encoded data removed]",
      "text/plain": [
       "<Figure size 432x288 with 2 Axes>"
      ]
     },
     "metadata": {
      "needs_background": "light"
     },
     "output_type": "display_data"
    }
   ],
   "source": [
    "pipes = []\n",
    "for grid, model in zip(grids, models):\n",
    "    pipe = create_pipeline_and_run(model, grid)\n",
    "    pipes.append(pipe)"
   ]
  },
  {
   "cell_type": "code",
   "execution_count": 20,
   "id": "e6fe76ff",
   "metadata": {},
   "outputs": [
    {
     "name": "stdout",
     "output_type": "stream",
     "text": [
      "<class 'pandas.core.frame.DataFrame'>\n",
      "Int64Index: 8188 entries, 8667 to 11633\n",
      "Data columns (total 29 columns):\n",
      " #   Column                              Non-Null Count  Dtype  \n",
      "---  ------                              --------------  -----  \n",
      " 0   country                             8188 non-null   object \n",
      " 1   region                              8188 non-null   object \n",
      " 2   protestnumber                       8188 non-null   int64  \n",
      " 3   protesterviolence                   8188 non-null   int64  \n",
      " 4   duration_days                       8188 non-null   int64  \n",
      " 5   participants                        8188 non-null   int64  \n",
      " 6   participants_category_manufactured  8188 non-null   object \n",
      " 7   demand_labor-wage-dispute           8188 non-null   int64  \n",
      " 8   demand_land-farm-issue              8188 non-null   int64  \n",
      " 9   demand_police-brutality             8188 non-null   int64  \n",
      " 10  demand_political-behavior/process   8188 non-null   int64  \n",
      " 11  demand_price-increases/tax-policy   8188 non-null   int64  \n",
      " 12  demand_removal-of-politician        8188 non-null   int64  \n",
      " 13  demand_social-restrictions          8188 non-null   int64  \n",
      " 14  system                              8188 non-null   object \n",
      " 15  yrsoffc                             8188 non-null   float64\n",
      " 16  finittrm                            8188 non-null   float64\n",
      " 17  military                            8188 non-null   float64\n",
      " 18  totalseats                          8188 non-null   float64\n",
      " 19  legelec                             8188 non-null   float64\n",
      " 20  exelec                              8188 non-null   float64\n",
      " 21  liec                                8188 non-null   float64\n",
      " 22  eiec                                8188 non-null   float64\n",
      " 23  gq                                  8188 non-null   float64\n",
      " 24  numvote                             8188 non-null   float64\n",
      " 25  oppvote                             8188 non-null   float64\n",
      " 26  tensys_strict                       8188 non-null   float64\n",
      " 27  stabs_strict                        8188 non-null   float64\n",
      " 28  startyear                           8188 non-null   int64  \n",
      "dtypes: float64(13), int64(12), object(4)\n",
      "memory usage: 1.9+ MB\n"
     ]
    }
   ],
   "source": [
    "x_train.info()"
   ]
  }
 ],
 "metadata": {
  "kernelspec": {
   "display_name": "Python 3",
   "language": "python",
   "name": "python3"
  },
  "language_info": {
   "codemirror_mode": {
    "name": "ipython",
    "version": 3
   },
   "file_extension": ".py",
   "mimetype": "text/x-python",
   "name": "python",
   "nbconvert_exporter": "python",
   "pygments_lexer": "ipython3",
   "version": "3.8.3"
  }
 },
 "nbformat": 4,
 "nbformat_minor": 5
}
