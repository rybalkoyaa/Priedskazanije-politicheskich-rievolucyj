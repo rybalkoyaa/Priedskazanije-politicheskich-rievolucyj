{
 "cells": [
  {
   "cell_type": "markdown",
   "id": "331a814f",
   "metadata": {},
   "source": [
    "# A Data-Based Understanding of Political Revolutions\n",
    "Political upheavals have been ever present throughout humanity. Political leaders shape the context for everything we know. For that reason, we as a society need to generate a concrete understanding of when a revolution or political change is imminent. This analysis seeks to forecast whether a given protest will lead to a revolution within 90 days. \n",
    "\n",
    "The stakeholders for this analysis are wide reaching, but it is most relevant to political organizers and leadership. They can use this approach to best understand where efforts are best focused and most likely to lead to an impact. \n",
    "\n",
    "We as a society have only begun to establish the collection of data necessary to make these analyses feasible, but we have crossed the threshold of significance beyond which there is substantial merit in this project. \n",
    "\n",
    "---\n",
    "\n",
    "## Notebook Structure\n",
    "1. Data & Sources\n",
    "2. Data Preparation\n",
    "3. Modeling\n",
    "4. Evaluation\n",
    "5. Conclusion\n",
    "\n",
    "\n",
    "---\n",
    "\n",
    "## Part I. Data & Sources\n",
    "The analysis combines three core datasets from widely different sources to provide a distinctly unique understanding of the subject. They are described below.\n",
    "\n",
    "### The Mass Mobilization Project\n",
    "\n",
    "The first dataset, used as the center of the analysis, is incredibly valuable. It is described in the source documentation as *\"an effort to understand citizen movements against governments, what citizens want when they demonstrate against governments, and how governments respond to citizens. The MM data cover 162 countries between 1990 and 2018. These data contain events where 50 or more protesters publicly demonstrate against government, resulting in more than 10,000 protest events. Each event records location, protest size, protester demands, and government responses.\"* [(1)](https://massmobilization.github.io/about.html) The project is sponsored by the Political Instability Task Force (PITF). The PITF is funded by the Central Intelligence Agency (CIA). [(1)](https://massmobilization.github.io/about.html) **Throughout this analysis, this dataset will be referred to as the \"Protests\" dataset.**\n",
    "\n",
    "Although the data source does specify that the dataset is not entirely comprehensive of all country across this entire time period. That said, it does contain over 17,000 recorded protests, each composed of 31 features. The data span 167 countries from 1990 to 2020. \n",
    "\n",
    "\n",
    "#### Citation:\n",
    "\n",
    "Clark, David; Regan, Patrick, 2016, \"Mass Mobilization Protest Data\", https://doi.org/10.7910/DVN/HTTWYL, Harvard Dataverse, V5, UNF:6:F/k8KUqKpCa5UssBbL/gzg== [fileUNF]\n",
    "\n",
    "\n",
    "\n",
    "### The Polity Project\n",
    "The second dataset is equally as valuable. It codes \"authority characteristics of states in the world system for purposes of comparative, quantitative analysis.\" [(2)](https://www.systemicpeace.org/polityproject.html) \"The Polity5 dataset covers all major, independent states in the global system over the period 1800-2018 (i.e., states with a total population of 500,000 or more in the most recent year; currently 167 countries. The Polity conceptual scheme is unique in that it examines concomitant qualities of democratic and autocratic authority in governing institutions, rather than discreet and mutually exclusive forms of governance. This perspective envisions a spectrum of governing authority that spans from fully institutionalized autocracies through mixed, or incoherent, authority regimes (termed \"anocracies\") to fully institutionalized democracies.\" [(2)](https://www.systemicpeace.org/polityproject.html). Most relevant to this analysis, \"it also records changes in the institutionalized qualities of governing authority.\"  [(2)](https://www.systemicpeace.org/polityproject.html). These changes in governing authority are the target feature of this analysis. It also contains 1,693 rows of data, each with 24 features. **Throughout this analysis, this dataset will be referred to as the \"Regime Changes\" or \"Regimes\" dataset.**\n",
    "\n",
    "\n",
    "#### Citation: \n",
    "\n",
    "“The Polity Project.” PolityProject, Center for Systemic Peace, www.systemicpeace.org/polityproject.html. \n",
    "\n",
    "\n",
    "\n",
    "### The Database of Political Institutions\n",
    "\n",
    "The third dataset is provided by the Inter-American Development Bank (IDB). \"The Database of Political Institutions presents institutional and electoral results data such as measures of checks and balances, tenure and stability of the government, identification of party affiliation and ideology, and fragmentation of opposition and government parties in the legislature ... [it covers] about 180 countries [from] 1975-2020. It has become one of the most cited databases in comparative political economy and comparative political institutions, with more than 4,500 article citations on Google Scholar as of December 2020.\" [(3)](https://publications.iadb.org/en/database-political-institutions-2020-dpi2020) For the context of this analysis, it includes 8,200 rows of data, each with 77 features. **Throughout this analysis, this dataset will be referred to as the \"Governments\" dataset.** \n",
    "\n",
    "\n",
    "#### Citation:\n",
    "\n",
    "Cruz, Cesi, Philip Keefer, and Carlos Scartascini. 2021. Database of Political Institutions 2020. Washington, DC: Inter-American Development Bank Research Department.\n",
    "\n",
    "### Notes about the breakdown of the Jupyter notebooks used herein\n",
    "\n",
    "Given the large-scale nature of the project, this notebook inevitably does not contain the entire analysis. It does not go into depth on each of the choices made for feature selection or data cleaning. Consider this the \"top level\" notebook, and those more detail-oriented parts of the analysis are handled in their own spaces. Here is where you should go to find more details:\n",
    "\n",
    "\n",
    "1. **cleaning_protests_dataset.ipynb:** Refer to this notebook for a ground-up analysis of the \"Protests\" dataset. It includes important features such as the nature of each protest (size, objectives, location, etc.). Especially exhaustive and detailed data cleaning choices are made in this notebook.\n",
    "2. **cleaning_regime_changes_dataset.ipynb:** Refer to this notebook for a full study of the \"Regime Change\" data. Primarily, this data provides the target feature for the entire analysis: regime change. It indicates when are where political change occurs. Interesting feature engineering takes place here.\n",
    "3. **cleaning_governments_dataset.ipynb:** Refer to this notebook for an impressively comprehensive dataset surrounding descriptive attributes of governments around the world over many decades. Important information includes the political system of countries at specified times, the tenure of the country's primary leader, and the percentage of the popular vote the leader received (where relevant). There are descriptors as granular as the total number of seats in congress (where relevant). Extensive feature selection takes place in this notebook."
   ]
  },
  {
   "cell_type": "markdown",
   "id": "75b379f0",
   "metadata": {},
   "source": [
    "----\n",
    "\n",
    "## Part II. Data Preparation\n",
    "\n",
    "This section provides a brief overview of some data preparation. Note that for the sake of readability and brevity, the majority of the actual data cleaning takes place in the above-mentioned notebooks. Please refer there for information on specific decisions made."
   ]
  },
  {
   "cell_type": "markdown",
   "id": "b5998d18",
   "metadata": {},
   "source": [
    "**Import packages used throughout analysis**"
   ]
  },
  {
   "cell_type": "code",
   "execution_count": 1,
   "id": "224439f0",
   "metadata": {},
   "outputs": [
    {
     "name": "stdout",
     "output_type": "stream",
     "text": [
      "The autoreload extension is already loaded. To reload it, use:\n",
      "  %reload_ext autoreload\n"
     ]
    }
   ],
   "source": [
    "# Basic imporrts\n",
    "import numpy as np\n",
    "import pandas as pd\n",
    "import matplotlib.pyplot as plt\n",
    "import seaborn as sns\n",
    "import sys\n",
    "from sqlalchemy import create_engine\n",
    "\n",
    "# Model preprocessing and processing\n",
    "from sklearn.model_selection import train_test_split\n",
    "from sklearn.preprocessing import OneHotEncoder, StandardScaler\n",
    "from sklearn.compose import make_column_selector, make_column_transformer\n",
    "from imblearn.over_sampling import SMOTE\n",
    "from sklearn.model_selection import GridSearchCV\n",
    "from imblearn.pipeline import Pipeline\n",
    "from sklearn.base import clone\n",
    "\n",
    "# Models\n",
    "from sklearn.dummy import DummyClassifier\n",
    "from sklearn.linear_model import LogisticRegression\n",
    "from sklearn.ensemble import RandomForestClassifier\n",
    "from xgboost import XGBClassifier\n",
    "\n",
    "# Performance evaluation\n",
    "from sklearn.metrics import f1_score, precision_score, accuracy_score, recall_score\n",
    "from sklearn.metrics import plot_confusion_matrix\n",
    "import shap\n",
    "\n",
    "# Display options\n",
    "pd.options.display.max_columns = 200\n",
    "%matplotlib inline\n",
    "\n",
    "# Convenience for working with external .py files\n",
    "%load_ext autoreload\n",
    "%autoreload 2\n",
    "\n",
    "# Convenience for working with external src code files\n",
    "%load_ext autoreload\n",
    "%autoreload 2\n",
    "sys.path.insert(1, '../src')\n",
    "from custom_plots import *\n",
    "from create_target import *\n",
    "from remove_missing_data import *\n",
    "from evaluate_model_performance import *\n",
    "\n",
    "# Global constants\n",
    "RANDOM_STATE = 2021"
   ]
  },
  {
   "cell_type": "markdown",
   "id": "d05899c9",
   "metadata": {},
   "source": [
    "**Import \"Regime Change\" dataset**\n",
    "\n",
    "Note that the SQL database being imported has been pre-cleaned with consequential feature engineering in the *cleaning_regime_changes_dataset.ipynb* notebook in this directory."
   ]
  },
  {
   "cell_type": "code",
   "execution_count": 2,
   "id": "8205fdec",
   "metadata": {},
   "outputs": [],
   "source": [
    "# Import cleaned database via SQL\n",
    "engine = create_engine('sqlite:///../data/processed/regime_changes.db')\n",
    "with engine.begin() as connection:\n",
    "    df_regimes = pd.read_sql('SELECT * FROM regime_changes', con=connection)\n",
    "\n",
    "# Type casting\n",
    "df_regimes.startdate = pd.to_datetime(df_regimes.startdate)\n",
    "df_regimes.enddate = pd.to_datetime(df_regimes.enddate)"
   ]
  },
  {
   "cell_type": "markdown",
   "id": "d7e3a434",
   "metadata": {},
   "source": [
    "**Import \"Protests\" dataset**\n",
    "\n",
    "Similar to above, the SQL database has already cleaned with some feature engineering taking place. Refer to *cleaning_protests_dataset.ipynb* in this directory for specifics. "
   ]
  },
  {
   "cell_type": "code",
   "execution_count": 3,
   "id": "303e8024",
   "metadata": {},
   "outputs": [],
   "source": [
    "# Import cleaned database via SQL\n",
    "engine = create_engine('sqlite:///../data/processed/protests.db')\n",
    "with engine.begin() as connection:\n",
    "    df_protests = pd.read_sql('SELECT * FROM protests', con=connection)\n",
    "\n",
    "# Type casting\n",
    "df_protests.startdate = pd.to_datetime(df_protests.startdate)"
   ]
  },
  {
   "cell_type": "markdown",
   "id": "3ac02535",
   "metadata": {},
   "source": [
    "**Import \"Governments\" dataset**\n",
    "\n",
    "This SQL database has already undergone very notable, detail-oriented data cleaning in the *cleaning_governments_dataset.ipynb* notebook in this directory. Notably, it also serves the role of decreasing the number of features from 77 (in the original dataset) to 55 here. That number will again be substantially reduced in the data cleaning section below."
   ]
  },
  {
   "cell_type": "code",
   "execution_count": 4,
   "id": "9a800db9",
   "metadata": {},
   "outputs": [],
   "source": [
    "# Import cleaned database via SQL\n",
    "engine = create_engine('sqlite:///../data/processed/governments.db')\n",
    "with engine.begin() as connection:\n",
    "    df_govts = pd.read_sql('SELECT * FROM governments', con=connection)\n",
    "\n",
    "# Set index to be used in SQL join\n",
    "df_govts.index = df_govts.year_scode\n",
    "\n",
    "# Drop now-duplicated feature\n",
    "df_govts.drop('year_scode', axis=1, inplace=True)"
   ]
  },
  {
   "cell_type": "markdown",
   "id": "805055e1",
   "metadata": {},
   "source": [
    "**Join \"Protests\" and \"Governments\" datasets**\n",
    "\n",
    "By joining these two datasets, a new dataframe is created with each row corresponding to one protest, containing original features about that protest as well as the characteristics of the government in place in that country during the selected year. The two datasets are joined on the index of *\"year_of_protest\"_\"three-letter_country_code\"*, otherwise known as *\"year_scode\"*."
   ]
  },
  {
   "cell_type": "code",
   "execution_count": 5,
   "id": "b3cea48c",
   "metadata": {},
   "outputs": [],
   "source": [
    "# Join both dataframes\n",
    "df = df_protests.join(df_govts, how='left', on='year_scode')"
   ]
  },
  {
   "cell_type": "markdown",
   "id": "d04c1648",
   "metadata": {},
   "source": [
    "**Remove features with missing values**"
   ]
  },
  {
   "cell_type": "code",
   "execution_count": 6,
   "id": "113385e8",
   "metadata": {},
   "outputs": [
    {
     "name": "stdout",
     "output_type": "stream",
     "text": [
      "Removing 144 protests without government data for the given year.\n"
     ]
    }
   ],
   "source": [
    "# Remove protests without corresponding \"government\"\n",
    "print('Removing {} protests without government data for the given year.'.format(df.scode_govt.isna().sum()))\n",
    "df.dropna(inplace=True)\n",
    "\n",
    "# Remove entries with limited \"government\" data\n",
    "df = remove_missing_data(df)"
   ]
  },
  {
   "cell_type": "markdown",
   "id": "0dfa2642",
   "metadata": {},
   "source": [
    "**Join with \"Regime Changes\" dataset**\n",
    "\n",
    "Add the third and final dataset, which includes the \"target\" feature of the analysis. "
   ]
  },
  {
   "cell_type": "code",
   "execution_count": 7,
   "id": "5aed0216",
   "metadata": {},
   "outputs": [],
   "source": [
    "target = create_target(df, df_regimes)\n",
    "df = pd.concat([df, target], axis=1)"
   ]
  },
  {
   "cell_type": "markdown",
   "id": "74685cd6",
   "metadata": {},
   "source": [
    "**Basic Cleaning**"
   ]
  },
  {
   "cell_type": "code",
   "execution_count": null,
   "id": "d21c54cc",
   "metadata": {},
   "outputs": [],
   "source": []
  },
  {
   "cell_type": "code",
   "execution_count": 8,
   "id": "85551c83",
   "metadata": {},
   "outputs": [
    {
     "name": "stdout",
     "output_type": "stream",
     "text": [
      "Removing 3 protests without regime transition for the given year.\n",
      "<class 'pandas.core.frame.DataFrame'>\n",
      "Int64Index: 14558 entries, 0 to 15207\n",
      "Data columns (total 32 columns):\n",
      " #   Column                             Non-Null Count  Dtype  \n",
      "---  ------                             --------------  -----  \n",
      " 0   country                            14558 non-null  object \n",
      " 1   region                             14558 non-null  object \n",
      " 2   protestnumber                      14558 non-null  int64  \n",
      " 3   protesterviolence                  14558 non-null  int64  \n",
      " 4   startdate                          14558 non-null  float64\n",
      " 5   participants                       14558 non-null  int64  \n",
      " 6   demand_labor-wage-dispute          14558 non-null  int64  \n",
      " 7   demand_land-farm-issue             14558 non-null  int64  \n",
      " 8   demand_police-brutality            14558 non-null  int64  \n",
      " 9   demand_political-behavior/process  14558 non-null  int64  \n",
      " 10  demand_price-increases/tax-policy  14558 non-null  int64  \n",
      " 11  demand_removal-of-politician       14558 non-null  int64  \n",
      " 12  demand_social-restrictions         14558 non-null  int64  \n",
      " 13  system                             14558 non-null  object \n",
      " 14  yrsoffc                            14558 non-null  float64\n",
      " 15  finittrm                           14558 non-null  float64\n",
      " 16  military                           14558 non-null  float64\n",
      " 17  totalseats                         14558 non-null  float64\n",
      " 18  legelec                            14558 non-null  float64\n",
      " 19  exelec                             14558 non-null  float64\n",
      " 20  liec                               14558 non-null  float64\n",
      " 21  eiec                               14558 non-null  float64\n",
      " 22  gq                                 14558 non-null  float64\n",
      " 23  numvote                            14558 non-null  float64\n",
      " 24  oppvote                            14558 non-null  float64\n",
      " 25  tensys_strict                      14558 non-null  float64\n",
      " 26  stabs_strict                       14558 non-null  float64\n",
      " 27  parcomp                            14558 non-null  object \n",
      " 28  parreg                             14558 non-null  object \n",
      " 29  xconst                             14558 non-null  object \n",
      " 30  xropen                             14558 non-null  object \n",
      " 31  xrcomp                             14558 non-null  object \n",
      "dtypes: float64(14), int64(10), object(8)\n",
      "memory usage: 3.7+ MB\n"
     ]
    }
   ],
   "source": [
    "# Convert startdate to a float instead of datetime since datetime cannot be handled by models but fractional years can\n",
    "df['startdate'] = df.startdate.dt.year + df.startdate.dt.month / 12 + df.startdate.dt.day / 365\n",
    "\n",
    "# Define target as \"regime change in less than 365 days\"\n",
    "target = (df['days_until_next_regime_chg'] < 365).astype('int')\n",
    "\n",
    "# Drop unused columns\n",
    "drop_columns = ['year_scode', 'scode_govt', 'country_govt', 'days_until_next_regime_chg', 'scode', 'participants_category', 'duration_days']\n",
    "df.drop(drop_columns, axis=1, inplace=True)\n",
    "print('Removing {} protests without regime transition for the given year.'.format(df.parcomp.isna().sum()))\n",
    "df.dropna(inplace=True)\n",
    "df.info()\n",
    "\n",
    "# Type casting\n",
    "convert_to_int = ['parcomp', 'parreg', 'xconst', 'xropen', 'xrcomp']\n",
    "for col in convert_to_int:\n",
    "    df[col] = df[col].astype('int')\n",
    "    \n",
    "\n",
    "# Remove dropped rows from the target feature\n",
    "target = target.loc[df.index].copy()"
   ]
  },
  {
   "cell_type": "markdown",
   "id": "c9e9a027",
   "metadata": {},
   "source": [
    "### Feature descriptions\n",
    "\n",
    "Given the large number of features with abbreviated names, those that are used within the model are defined below.\n",
    "\n",
    "Protest Details - as provided by *Protests* dataset:\n",
    "- **country:** location of protest\n",
    "- **region:** global region\n",
    "- **protestnumber:** protest number in the selected country in a given year \n",
    "- **protesterviolence:** (y/n) indicator of protester violence\n",
    "- **startdate:** first day of protest\n",
    "- **participants:** number of individuals in attendance\n",
    "\n",
    "---\n",
    "\n",
    "Categorizations of the reason for a protest (multiple options possible) - as provided by *Protests* dataset:\n",
    "-  **labor wage dispute** \n",
    "-  **land farm issue** \n",
    "-  **police brutality** \n",
    "-  **political behavior/process** \n",
    "-  **price increases/tax policy** \n",
    "-  **removal of politician** \n",
    "-  **social restrictions** \n",
    "\n",
    "---\n",
    "\n",
    "Government descriptors in the given country at the time protest - as provided by *Government Characterization* dataset. Strict, quantifiable definitions are provided in Data Manual.\n",
    "\n",
    "- **system:** governmental system (Parliamentary, Assembly-elected president, Presidential, Unelected)\n",
    "- **yrsoffc:** number of years the chief executive has been in office\n",
    "- **finittrm:** (y/n) is there a finite term in office?\n",
    "- **military:** (y/n) is the chief executive a military officer?\n",
    "- **totalseats:** total seats in the legislature\n",
    "- **legelec:** (y/n) is there a legislative election in the protest year?\n",
    "- **exelec:** (y/n) is there a executive election in the protest year?\n",
    "- **liec:** legislative index of electoral competitiveness\n",
    "- **eiec:** executive index of electoral competitiveness\n",
    "- **gq:** are there gender quotas in government (None, Voluntary, Reserved, Required)\n",
    "- **numvote:** total vote share of governmental leadership party\n",
    "- **oppvote:** total vote share of all opposition parties\n",
    "- **tensys_strict:** length of time the country has been autocratic or democratic\n",
    "- **stabs_strict:** stability, as measured by the percent of veto players who *drop* from the government in a given year\n",
    "\n",
    "---\n",
    "\n",
    "Political regime authority characteristics - as provided by *Regime Changes* dataset. Strict, quantifiable definitions are provided in Data Manual.\n",
    "\n",
    "- **parcomp:** competitiveness of political participation (Repressed, Suppressed, Factional, Transitional, Competitive)\n",
    "- **parreg:** regulation of participation (Unregulated, Multiple Identity, Sectarian, Restricted, Regulated)\n",
    "- **xconst:** executive constraints / decision rules (Unlimited Authority through Executive Parity)\n",
    "- **xropen / xrcomp:** openness/competitiveness of executive recruitment (Closed, Designation, Election)\n",
    "- **regime transition:** target feature for this analysis, quantified by a pre-specified level of change in above metrics. See data dictionary for in-depth technical definition of political regime transition. Note that the purpose of this analysis is not to define what a regime transition is, but rather to use existing definitions to best understand the circumstances under which they do occur."
   ]
  },
  {
   "cell_type": "code",
   "execution_count": 20,
   "id": "1e5dd94d",
   "metadata": {},
   "outputs": [
    {
     "name": "stdout",
     "output_type": "stream",
     "text": [
      "<class 'pandas.core.frame.DataFrame'>\n",
      "Int64Index: 14558 entries, 0 to 15207\n",
      "Data columns (total 32 columns):\n",
      " #   Column                             Non-Null Count  Dtype  \n",
      "---  ------                             --------------  -----  \n",
      " 0   country                            14558 non-null  object \n",
      " 1   region                             14558 non-null  object \n",
      " 2   protestnumber                      14558 non-null  int64  \n",
      " 3   protesterviolence                  14558 non-null  int64  \n",
      " 4   startdate                          14558 non-null  float64\n",
      " 5   participants                       14558 non-null  int64  \n",
      " 6   demand_labor-wage-dispute          14558 non-null  int64  \n",
      " 7   demand_land-farm-issue             14558 non-null  int64  \n",
      " 8   demand_police-brutality            14558 non-null  int64  \n",
      " 9   demand_political-behavior/process  14558 non-null  int64  \n",
      " 10  demand_price-increases/tax-policy  14558 non-null  int64  \n",
      " 11  demand_removal-of-politician       14558 non-null  int64  \n",
      " 12  demand_social-restrictions         14558 non-null  int64  \n",
      " 13  system                             14558 non-null  object \n",
      " 14  yrsoffc                            14558 non-null  float64\n",
      " 15  finittrm                           14558 non-null  float64\n",
      " 16  military                           14558 non-null  float64\n",
      " 17  totalseats                         14558 non-null  float64\n",
      " 18  legelec                            14558 non-null  float64\n",
      " 19  exelec                             14558 non-null  float64\n",
      " 20  liec                               14558 non-null  float64\n",
      " 21  eiec                               14558 non-null  float64\n",
      " 22  gq                                 14558 non-null  float64\n",
      " 23  numvote                            14558 non-null  float64\n",
      " 24  oppvote                            14558 non-null  float64\n",
      " 25  tensys_strict                      14558 non-null  float64\n",
      " 26  stabs_strict                       14558 non-null  float64\n",
      " 27  parcomp                            14558 non-null  int32  \n",
      " 28  parreg                             14558 non-null  int32  \n",
      " 29  xconst                             14558 non-null  int32  \n",
      " 30  xropen                             14558 non-null  int32  \n",
      " 31  xrcomp                             14558 non-null  int32  \n",
      "dtypes: float64(14), int32(5), int64(10), object(3)\n",
      "memory usage: 3.4+ MB\n"
     ]
    },
    {
     "data": {
      "text/plain": [
       "None"
      ]
     },
     "metadata": {},
     "output_type": "display_data"
    },
    {
     "data": {
      "text/html": [
       "<div>\n",
       "<style scoped>\n",
       "    .dataframe tbody tr th:only-of-type {\n",
       "        vertical-align: middle;\n",
       "    }\n",
       "\n",
       "    .dataframe tbody tr th {\n",
       "        vertical-align: top;\n",
       "    }\n",
       "\n",
       "    .dataframe thead th {\n",
       "        text-align: right;\n",
       "    }\n",
       "</style>\n",
       "<table border=\"1\" class=\"dataframe\">\n",
       "  <thead>\n",
       "    <tr style=\"text-align: right;\">\n",
       "      <th></th>\n",
       "      <th>protestnumber</th>\n",
       "      <th>protesterviolence</th>\n",
       "      <th>startdate</th>\n",
       "      <th>participants</th>\n",
       "      <th>demand_labor-wage-dispute</th>\n",
       "      <th>demand_land-farm-issue</th>\n",
       "      <th>demand_police-brutality</th>\n",
       "      <th>demand_political-behavior/process</th>\n",
       "      <th>demand_price-increases/tax-policy</th>\n",
       "      <th>demand_removal-of-politician</th>\n",
       "      <th>demand_social-restrictions</th>\n",
       "      <th>yrsoffc</th>\n",
       "      <th>finittrm</th>\n",
       "      <th>military</th>\n",
       "      <th>totalseats</th>\n",
       "      <th>legelec</th>\n",
       "      <th>exelec</th>\n",
       "      <th>liec</th>\n",
       "      <th>eiec</th>\n",
       "      <th>gq</th>\n",
       "      <th>numvote</th>\n",
       "      <th>oppvote</th>\n",
       "      <th>tensys_strict</th>\n",
       "      <th>stabs_strict</th>\n",
       "      <th>parcomp</th>\n",
       "      <th>parreg</th>\n",
       "      <th>xconst</th>\n",
       "      <th>xropen</th>\n",
       "      <th>xrcomp</th>\n",
       "    </tr>\n",
       "  </thead>\n",
       "  <tbody>\n",
       "    <tr>\n",
       "      <th>count</th>\n",
       "      <td>14558.000000</td>\n",
       "      <td>14558.000000</td>\n",
       "      <td>14558.000000</td>\n",
       "      <td>14558.000000</td>\n",
       "      <td>14558.000000</td>\n",
       "      <td>14558.000000</td>\n",
       "      <td>14558.000000</td>\n",
       "      <td>14558.000000</td>\n",
       "      <td>14558.000000</td>\n",
       "      <td>14558.000000</td>\n",
       "      <td>14558.000000</td>\n",
       "      <td>14558.000000</td>\n",
       "      <td>14558.000000</td>\n",
       "      <td>14558.000000</td>\n",
       "      <td>14558.000000</td>\n",
       "      <td>14558.000000</td>\n",
       "      <td>14558.000000</td>\n",
       "      <td>14558.000000</td>\n",
       "      <td>14558.000000</td>\n",
       "      <td>14558.000000</td>\n",
       "      <td>14558.000000</td>\n",
       "      <td>14558.000000</td>\n",
       "      <td>14558.000000</td>\n",
       "      <td>14558.000000</td>\n",
       "      <td>14558.000000</td>\n",
       "      <td>14558.000000</td>\n",
       "      <td>14558.000000</td>\n",
       "      <td>14558.000000</td>\n",
       "      <td>14558.000000</td>\n",
       "    </tr>\n",
       "    <tr>\n",
       "      <th>mean</th>\n",
       "      <td>7.850666</td>\n",
       "      <td>0.264665</td>\n",
       "      <td>2007.100714</td>\n",
       "      <td>10817.051724</td>\n",
       "      <td>0.147204</td>\n",
       "      <td>0.039566</td>\n",
       "      <td>0.071851</td>\n",
       "      <td>0.703805</td>\n",
       "      <td>0.094312</td>\n",
       "      <td>0.120071</td>\n",
       "      <td>0.045542</td>\n",
       "      <td>5.947726</td>\n",
       "      <td>0.942643</td>\n",
       "      <td>0.120552</td>\n",
       "      <td>340.847369</td>\n",
       "      <td>0.222695</td>\n",
       "      <td>0.137794</td>\n",
       "      <td>6.472455</td>\n",
       "      <td>6.265387</td>\n",
       "      <td>1.033521</td>\n",
       "      <td>0.324473</td>\n",
       "      <td>0.232835</td>\n",
       "      <td>28.391469</td>\n",
       "      <td>0.126586</td>\n",
       "      <td>0.883638</td>\n",
       "      <td>0.548221</td>\n",
       "      <td>2.629207</td>\n",
       "      <td>0.905138</td>\n",
       "      <td>-0.407130</td>\n",
       "    </tr>\n",
       "    <tr>\n",
       "      <th>std</th>\n",
       "      <td>9.524331</td>\n",
       "      <td>0.441170</td>\n",
       "      <td>8.864283</td>\n",
       "      <td>44145.901206</td>\n",
       "      <td>0.354322</td>\n",
       "      <td>0.194944</td>\n",
       "      <td>0.258249</td>\n",
       "      <td>0.456594</td>\n",
       "      <td>0.292273</td>\n",
       "      <td>0.325056</td>\n",
       "      <td>0.208497</td>\n",
       "      <td>6.609362</td>\n",
       "      <td>0.232531</td>\n",
       "      <td>0.325617</td>\n",
       "      <td>438.559803</td>\n",
       "      <td>0.416070</td>\n",
       "      <td>0.344695</td>\n",
       "      <td>1.258179</td>\n",
       "      <td>1.542386</td>\n",
       "      <td>1.114261</td>\n",
       "      <td>0.291253</td>\n",
       "      <td>0.229715</td>\n",
       "      <td>24.240599</td>\n",
       "      <td>0.272568</td>\n",
       "      <td>14.753734</td>\n",
       "      <td>14.692945</td>\n",
       "      <td>15.126997</td>\n",
       "      <td>14.754286</td>\n",
       "      <td>14.502939</td>\n",
       "    </tr>\n",
       "    <tr>\n",
       "      <th>min</th>\n",
       "      <td>1.000000</td>\n",
       "      <td>0.000000</td>\n",
       "      <td>1990.086073</td>\n",
       "      <td>50.000000</td>\n",
       "      <td>0.000000</td>\n",
       "      <td>0.000000</td>\n",
       "      <td>0.000000</td>\n",
       "      <td>0.000000</td>\n",
       "      <td>0.000000</td>\n",
       "      <td>0.000000</td>\n",
       "      <td>0.000000</td>\n",
       "      <td>1.000000</td>\n",
       "      <td>0.000000</td>\n",
       "      <td>0.000000</td>\n",
       "      <td>0.000000</td>\n",
       "      <td>0.000000</td>\n",
       "      <td>0.000000</td>\n",
       "      <td>1.000000</td>\n",
       "      <td>1.000000</td>\n",
       "      <td>0.000000</td>\n",
       "      <td>0.000000</td>\n",
       "      <td>0.000000</td>\n",
       "      <td>1.000000</td>\n",
       "      <td>0.000000</td>\n",
       "      <td>-88.000000</td>\n",
       "      <td>-88.000000</td>\n",
       "      <td>-88.000000</td>\n",
       "      <td>-88.000000</td>\n",
       "      <td>-88.000000</td>\n",
       "    </tr>\n",
       "    <tr>\n",
       "      <th>25%</th>\n",
       "      <td>2.000000</td>\n",
       "      <td>0.000000</td>\n",
       "      <td>1999.551370</td>\n",
       "      <td>100.000000</td>\n",
       "      <td>0.000000</td>\n",
       "      <td>0.000000</td>\n",
       "      <td>0.000000</td>\n",
       "      <td>0.000000</td>\n",
       "      <td>0.000000</td>\n",
       "      <td>0.000000</td>\n",
       "      <td>0.000000</td>\n",
       "      <td>2.000000</td>\n",
       "      <td>1.000000</td>\n",
       "      <td>0.000000</td>\n",
       "      <td>120.000000</td>\n",
       "      <td>0.000000</td>\n",
       "      <td>0.000000</td>\n",
       "      <td>7.000000</td>\n",
       "      <td>6.000000</td>\n",
       "      <td>0.000000</td>\n",
       "      <td>0.000000</td>\n",
       "      <td>0.000000</td>\n",
       "      <td>9.000000</td>\n",
       "      <td>0.000000</td>\n",
       "      <td>3.000000</td>\n",
       "      <td>2.000000</td>\n",
       "      <td>3.000000</td>\n",
       "      <td>4.000000</td>\n",
       "      <td>1.000000</td>\n",
       "    </tr>\n",
       "    <tr>\n",
       "      <th>50%</th>\n",
       "      <td>4.000000</td>\n",
       "      <td>0.000000</td>\n",
       "      <td>2008.282877</td>\n",
       "      <td>500.000000</td>\n",
       "      <td>0.000000</td>\n",
       "      <td>0.000000</td>\n",
       "      <td>0.000000</td>\n",
       "      <td>1.000000</td>\n",
       "      <td>0.000000</td>\n",
       "      <td>0.000000</td>\n",
       "      <td>0.000000</td>\n",
       "      <td>4.000000</td>\n",
       "      <td>1.000000</td>\n",
       "      <td>0.000000</td>\n",
       "      <td>231.000000</td>\n",
       "      <td>0.000000</td>\n",
       "      <td>0.000000</td>\n",
       "      <td>7.000000</td>\n",
       "      <td>7.000000</td>\n",
       "      <td>1.000000</td>\n",
       "      <td>0.393300</td>\n",
       "      <td>0.233900</td>\n",
       "      <td>21.000000</td>\n",
       "      <td>0.000000</td>\n",
       "      <td>4.000000</td>\n",
       "      <td>3.000000</td>\n",
       "      <td>6.000000</td>\n",
       "      <td>4.000000</td>\n",
       "      <td>3.000000</td>\n",
       "    </tr>\n",
       "    <tr>\n",
       "      <th>75%</th>\n",
       "      <td>10.000000</td>\n",
       "      <td>1.000000</td>\n",
       "      <td>2015.027397</td>\n",
       "      <td>3000.000000</td>\n",
       "      <td>0.000000</td>\n",
       "      <td>0.000000</td>\n",
       "      <td>0.000000</td>\n",
       "      <td>1.000000</td>\n",
       "      <td>0.000000</td>\n",
       "      <td>0.000000</td>\n",
       "      <td>0.000000</td>\n",
       "      <td>7.000000</td>\n",
       "      <td>1.000000</td>\n",
       "      <td>0.000000</td>\n",
       "      <td>460.000000</td>\n",
       "      <td>0.000000</td>\n",
       "      <td>0.000000</td>\n",
       "      <td>7.000000</td>\n",
       "      <td>7.000000</td>\n",
       "      <td>2.000000</td>\n",
       "      <td>0.520000</td>\n",
       "      <td>0.436000</td>\n",
       "      <td>40.000000</td>\n",
       "      <td>0.000000</td>\n",
       "      <td>4.000000</td>\n",
       "      <td>4.000000</td>\n",
       "      <td>7.000000</td>\n",
       "      <td>4.000000</td>\n",
       "      <td>3.000000</td>\n",
       "    </tr>\n",
       "    <tr>\n",
       "      <th>max</th>\n",
       "      <td>45.000000</td>\n",
       "      <td>1.000000</td>\n",
       "      <td>2020.334932</td>\n",
       "      <td>357183.000000</td>\n",
       "      <td>1.000000</td>\n",
       "      <td>1.000000</td>\n",
       "      <td>1.000000</td>\n",
       "      <td>1.000000</td>\n",
       "      <td>1.000000</td>\n",
       "      <td>1.000000</td>\n",
       "      <td>1.000000</td>\n",
       "      <td>48.000000</td>\n",
       "      <td>1.000000</td>\n",
       "      <td>1.000000</td>\n",
       "      <td>3000.000000</td>\n",
       "      <td>1.000000</td>\n",
       "      <td>1.000000</td>\n",
       "      <td>7.000000</td>\n",
       "      <td>7.000000</td>\n",
       "      <td>3.000000</td>\n",
       "      <td>1.000100</td>\n",
       "      <td>0.995000</td>\n",
       "      <td>90.000000</td>\n",
       "      <td>1.000000</td>\n",
       "      <td>5.000000</td>\n",
       "      <td>5.000000</td>\n",
       "      <td>7.000000</td>\n",
       "      <td>4.000000</td>\n",
       "      <td>3.000000</td>\n",
       "    </tr>\n",
       "  </tbody>\n",
       "</table>\n",
       "</div>"
      ],
      "text/plain": [
       "       protestnumber  protesterviolence     startdate   participants  \\\n",
       "count   14558.000000       14558.000000  14558.000000   14558.000000   \n",
       "mean        7.850666           0.264665   2007.100714   10817.051724   \n",
       "std         9.524331           0.441170      8.864283   44145.901206   \n",
       "min         1.000000           0.000000   1990.086073      50.000000   \n",
       "25%         2.000000           0.000000   1999.551370     100.000000   \n",
       "50%         4.000000           0.000000   2008.282877     500.000000   \n",
       "75%        10.000000           1.000000   2015.027397    3000.000000   \n",
       "max        45.000000           1.000000   2020.334932  357183.000000   \n",
       "\n",
       "       demand_labor-wage-dispute  demand_land-farm-issue  \\\n",
       "count               14558.000000            14558.000000   \n",
       "mean                    0.147204                0.039566   \n",
       "std                     0.354322                0.194944   \n",
       "min                     0.000000                0.000000   \n",
       "25%                     0.000000                0.000000   \n",
       "50%                     0.000000                0.000000   \n",
       "75%                     0.000000                0.000000   \n",
       "max                     1.000000                1.000000   \n",
       "\n",
       "       demand_police-brutality  demand_political-behavior/process  \\\n",
       "count             14558.000000                       14558.000000   \n",
       "mean                  0.071851                           0.703805   \n",
       "std                   0.258249                           0.456594   \n",
       "min                   0.000000                           0.000000   \n",
       "25%                   0.000000                           0.000000   \n",
       "50%                   0.000000                           1.000000   \n",
       "75%                   0.000000                           1.000000   \n",
       "max                   1.000000                           1.000000   \n",
       "\n",
       "       demand_price-increases/tax-policy  demand_removal-of-politician  \\\n",
       "count                       14558.000000                  14558.000000   \n",
       "mean                            0.094312                      0.120071   \n",
       "std                             0.292273                      0.325056   \n",
       "min                             0.000000                      0.000000   \n",
       "25%                             0.000000                      0.000000   \n",
       "50%                             0.000000                      0.000000   \n",
       "75%                             0.000000                      0.000000   \n",
       "max                             1.000000                      1.000000   \n",
       "\n",
       "       demand_social-restrictions       yrsoffc      finittrm      military  \\\n",
       "count                14558.000000  14558.000000  14558.000000  14558.000000   \n",
       "mean                     0.045542      5.947726      0.942643      0.120552   \n",
       "std                      0.208497      6.609362      0.232531      0.325617   \n",
       "min                      0.000000      1.000000      0.000000      0.000000   \n",
       "25%                      0.000000      2.000000      1.000000      0.000000   \n",
       "50%                      0.000000      4.000000      1.000000      0.000000   \n",
       "75%                      0.000000      7.000000      1.000000      0.000000   \n",
       "max                      1.000000     48.000000      1.000000      1.000000   \n",
       "\n",
       "         totalseats       legelec        exelec          liec          eiec  \\\n",
       "count  14558.000000  14558.000000  14558.000000  14558.000000  14558.000000   \n",
       "mean     340.847369      0.222695      0.137794      6.472455      6.265387   \n",
       "std      438.559803      0.416070      0.344695      1.258179      1.542386   \n",
       "min        0.000000      0.000000      0.000000      1.000000      1.000000   \n",
       "25%      120.000000      0.000000      0.000000      7.000000      6.000000   \n",
       "50%      231.000000      0.000000      0.000000      7.000000      7.000000   \n",
       "75%      460.000000      0.000000      0.000000      7.000000      7.000000   \n",
       "max     3000.000000      1.000000      1.000000      7.000000      7.000000   \n",
       "\n",
       "                 gq       numvote       oppvote  tensys_strict  stabs_strict  \\\n",
       "count  14558.000000  14558.000000  14558.000000   14558.000000  14558.000000   \n",
       "mean       1.033521      0.324473      0.232835      28.391469      0.126586   \n",
       "std        1.114261      0.291253      0.229715      24.240599      0.272568   \n",
       "min        0.000000      0.000000      0.000000       1.000000      0.000000   \n",
       "25%        0.000000      0.000000      0.000000       9.000000      0.000000   \n",
       "50%        1.000000      0.393300      0.233900      21.000000      0.000000   \n",
       "75%        2.000000      0.520000      0.436000      40.000000      0.000000   \n",
       "max        3.000000      1.000100      0.995000      90.000000      1.000000   \n",
       "\n",
       "            parcomp        parreg        xconst        xropen        xrcomp  \n",
       "count  14558.000000  14558.000000  14558.000000  14558.000000  14558.000000  \n",
       "mean       0.883638      0.548221      2.629207      0.905138     -0.407130  \n",
       "std       14.753734     14.692945     15.126997     14.754286     14.502939  \n",
       "min      -88.000000    -88.000000    -88.000000    -88.000000    -88.000000  \n",
       "25%        3.000000      2.000000      3.000000      4.000000      1.000000  \n",
       "50%        4.000000      3.000000      6.000000      4.000000      3.000000  \n",
       "75%        4.000000      4.000000      7.000000      4.000000      3.000000  \n",
       "max        5.000000      5.000000      7.000000      4.000000      3.000000  "
      ]
     },
     "metadata": {},
     "output_type": "display_data"
    }
   ],
   "source": [
    "display(df.info())\n",
    "display(df.describe())"
   ]
  },
  {
   "cell_type": "markdown",
   "id": "471169f5",
   "metadata": {
    "tags": []
   },
   "source": [
    "---\n",
    "\n",
    "## Part III. Modeling\n",
    "\n",
    "Given the cleaned and aggregated dataset above, the next section moves into the Modeling phase. It uses the following general structure:\n",
    "\n",
    "1. Test, train, and validation splits\n",
    "2. \"Dummy\" model for baseline performance metric\n",
    "3. Logistic regression model\n",
    "4. Random forest model\n",
    "5. XG boost model\n",
    "\n",
    "Note that in the *MODEL.ipynb* notebook, alternative models are explored, such as K-Nearest Neighbors (KNN), Bayesian classifiers, ADA boost, and Decision Trees. \n",
    "\n",
    "Each model type is constructed using elements of encoding, scaling, resampling and hyperparameter optimization.\n",
    "\n",
    "- One hot encoding was essential given the categorical type of some features\n",
    "- Standard scaling was essential given the vast array of different numerical feature distributions and ranges. Min-max scaling was considered but proved less effective.\n",
    "- SMOTE was determined to be essential given the imbalanced nature of the dataset. Only 11% of the target feature values were 1, leaving the other 89% as 0. This is a prime example of the need for resampling, and SMOTE proved highly effective.\n",
    "- Hyperparameter grid searches are inherently valuable when optimizing a model. Appropriate hyperparameter searches were used for each model type.\n",
    "\n",
    "The output of each model is provided in terms of four core statistical measures (f1 score, accuracy, precision, and recall), in addition to displaying a confusion matrix for the test data. F1 was selected before the modeling process as the most relevant metric given that it encomasses all possible outcomes, as opposed to the other three metrics which leave out at least one possible outcome from their evaluation. \n",
    "\n",
    "Note that the final holdout dataset is not used for evaluation until the final model has been selected based on train-test data performance."
   ]
  },
  {
   "cell_type": "markdown",
   "id": "d2f71a69",
   "metadata": {},
   "source": [
    "**Create train-test split, as well as final holdout dataset**"
   ]
  },
  {
   "cell_type": "code",
   "execution_count": 10,
   "id": "1ffa3436",
   "metadata": {},
   "outputs": [],
   "source": [
    "# Create final holdout dataset\n",
    "x_traintest, x_holdout, y_traintest, y_holdout = train_test_split(df, target, random_state=RANDOM_STATE)\n",
    "\n",
    "# Create standard train-test splits\n",
    "x_train, x_test, y_train, y_test = train_test_split(x_traintest, y_traintest, random_state=RANDOM_STATE)"
   ]
  },
  {
   "cell_type": "markdown",
   "id": "5048488e",
   "metadata": {},
   "source": [
    "**Create baseline \"dummy\" model**"
   ]
  },
  {
   "cell_type": "code",
   "execution_count": 11,
   "id": "9b7620ab",
   "metadata": {},
   "outputs": [
    {
     "name": "stdout",
     "output_type": "stream",
     "text": [
      "- f1: 0.09999999999999999\n",
      "- accuracy: 0.7956043956043956\n",
      "- precision: 0.09748427672955975\n",
      "- recall: 0.10264900662251655\n"
     ]
    }
   ],
   "source": [
    "# Create instance of dummy classifier and fit to training data\n",
    "dummy_clf = DummyClassifier(strategy='stratified')\n",
    "dummy_clf.fit(x_train, y_train)\n",
    "\n",
    "# Create model predictions for test data\n",
    "pred_dummy = dummy_clf.predict(x_test)\n",
    "print_scores(pred_dummy, y_test)"
   ]
  },
  {
   "cell_type": "markdown",
   "id": "f7834a78",
   "metadata": {},
   "source": [
    "**Create Logistic Regression classifier model**"
   ]
  },
  {
   "cell_type": "code",
   "execution_count": 12,
   "id": "546340fa",
   "metadata": {},
   "outputs": [
    {
     "name": "stdout",
     "output_type": "stream",
     "text": [
      "- f1: 0.4629803186504218\n",
      "- accuracy: 0.7901098901098901\n",
      "- precision: 0.32287581699346407\n",
      "- recall: 0.8178807947019867\n"
     ]
    },
    {
     "data": {
      "text/plain": [
       "<Figure size 432x288 with 0 Axes>"
      ]
     },
     "metadata": {},
     "output_type": "display_data"
    },
    {
     "data": {
      "image/png": "[encoded data removed]",
      "text/plain": [
       "<Figure size 432x288 with 2 Axes>"
      ]
     },
     "metadata": {
      "needs_background": "light"
     },
     "output_type": "display_data"
    }
   ],
   "source": [
    "# Instantiate model\n",
    "model_log = LogisticRegression(max_iter=5000)\n",
    "\n",
    "# Add one-hot encoding for categoricals\n",
    "ohe = OneHotEncoder(handle_unknown='ignore')\n",
    "\n",
    "# Add standard scaling\n",
    "scaler = StandardScaler()\n",
    "\n",
    "# Add resampling to address class imbalance\n",
    "smote = SMOTE(random_state=RANDOM_STATE)\n",
    "\n",
    "\n",
    "# Select object types for one-hot encoding and numeric types for scaling\n",
    "selector_object = make_column_selector(dtype_include='object')\n",
    "selector_numeric = make_column_selector(dtype_include='number')\n",
    "\n",
    "# Create transformer for the selectors/encoders/scalers\n",
    "transformer = make_column_transformer((ohe, selector_object),\n",
    "                                     (scaler, selector_numeric))\n",
    "\n",
    "\n",
    "# Create pipeline for transformer, resampling, and model\n",
    "pipe = Pipeline([('transformer', transformer),\n",
    "                 ('smote', smote), \n",
    "                 ('model', model_log)])\n",
    "\n",
    "# Run grid search to optimizer hyperparameters\n",
    "grid_log = {'model__C': np.logspace(-1, 5, 10)}\n",
    "grid_search = GridSearchCV(pipe, grid_log, scoring='f1', cv=5)\n",
    "\n",
    "# Fit model to training data\n",
    "grid_search.fit(x_train, y_train)\n",
    "\n",
    "evaluate_model_performance(grid_search, x_test, y_test, title='Logistic Regression Model Performance');"
   ]
  },
  {
   "cell_type": "markdown",
   "id": "66c35ff5",
   "metadata": {},
   "source": [
    "Overall, the Logistic Regression model performance is underwhelming, albeit substantially better than the baseline model: an F1 score performance of ___ instead of the baseline _ . Still, it seems that the model does not capture the complexity of the data. Below more complex models are explored.\n",
    "\n",
    "\n",
    "**Create Random Forest model**\n",
    "\n",
    "Reuse one-hot encoder, scaler, resampler, selectors, transformer from logistic regression"
   ]
  },
  {
   "cell_type": "code",
   "execution_count": 15,
   "id": "2c02a5dd",
   "metadata": {},
   "outputs": [
    {
     "name": "stdout",
     "output_type": "stream",
     "text": [
      "- f1: 0.8387096774193549\n",
      "- accuracy: 0.967032967032967\n",
      "- precision: 0.9140625\n",
      "- recall: 0.7748344370860927\n"
     ]
    },
    {
     "data": {
      "text/plain": [
       "<Figure size 432x288 with 0 Axes>"
      ]
     },
     "metadata": {},
     "output_type": "display_data"
    },
    {
     "data": {
      "image/png": "[encoded data removed]",
      "text/plain": [
       "<Figure size 432x288 with 2 Axes>"
      ]
     },
     "metadata": {
      "needs_background": "light"
     },
     "output_type": "display_data"
    }
   ],
   "source": [
    "# Instantiate model\n",
    "model_rf = RandomForestClassifier()\n",
    "\n",
    "# Create pipeline for transformer, resampling, and model\n",
    "pipe = Pipeline([('transformer', transformer),\n",
    "                 ('smote', smote), \n",
    "                 ('model', model_rf)])\n",
    "\n",
    "# Run grid search to optimizer hyperparameters\n",
    "grid_rf = {\n",
    "#    'model__n_estimators': [25, 75, 150],\n",
    "#    'model__criterion': ['gini', 'entropy'],\n",
    "#    'model__max_depth': [3, 6, 10],\n",
    "#    'model__min_samples_split': [5, 10],\n",
    "    'model__min_samples_leaf': [3, 6]}\n",
    "\n",
    "# Create instance of grid search\n",
    "grid_search = GridSearchCV(pipe, grid_rf, scoring='f1', cv=5)\n",
    "\n",
    "# Fit model to training data\n",
    "grid_search.fit(x_train, y_train)\n",
    "\n",
    "# Evaluate performance\n",
    "evaluate_model_performance(grid_search, x_test, y_test, title='Random Forest Model Performance');"
   ]
  },
  {
   "cell_type": "markdown",
   "id": "1087f0ad",
   "metadata": {},
   "source": [
    "The random forest model shows substantial performance over the logistic regression model. Specifically, the F1 score increase by XXX, and other metrics see similar improvements. Still, the performance isn't perfect, so the below model explores an increasingly complex model that is able to better capture the complexity of the data.\n",
    "\n",
    "**XG Boost model**"
   ]
  },
  {
   "cell_type": "code",
   "execution_count": 14,
   "id": "db699e67",
   "metadata": {},
   "outputs": [
    {
     "name": "stdout",
     "output_type": "stream",
     "text": [
      "- f1: 0.851985559566787\n",
      "- accuracy: 0.96996336996337\n",
      "- precision: 0.9365079365079365\n",
      "- recall: 0.7814569536423841\n"
     ]
    },
    {
     "data": {
      "text/plain": [
       "<Figure size 432x288 with 0 Axes>"
      ]
     },
     "metadata": {},
     "output_type": "display_data"
    },
    {
     "data": {
      "image/png": "[encoded data removed]",
      "text/plain": [
       "<Figure size 432x288 with 2 Axes>"
      ]
     },
     "metadata": {
      "needs_background": "light"
     },
     "output_type": "display_data"
    }
   ],
   "source": [
    "# Instantiate model\n",
    "model_xgb = XGBClassifier(eval_metric='logloss', use_label_encoder=False, random_state=RANDOM_STATE)\n",
    "# \n",
    "# Create pipeline for transformer, resampling, and model\n",
    "pipe = Pipeline([('transformer', transformer),\n",
    "                 ('smote', smote), \n",
    "                 ('model', model_xgb)])\n",
    "\n",
    "# Run grid search to optimizer hyperparameters\n",
    "grid_xgb = {\n",
    "#    'model__learning_rate': [0.1, 0.25, 1],\n",
    "#    'model__max_depth': [3, 5, 7, None],\n",
    "#    'model__min_child_weight': [1, 2, None],\n",
    "#    'model__subsample': [0.4, 0.6, 0.8, 1],\n",
    "#    'model__n_estimators': [50, 100, 150, 200, 250],\n",
    "    'model__tree_method': ['exact', 'approx', 'hist']}\n",
    "\n",
    "# Create instance of grid search\n",
    "grid_search = GridSearchCV(pipe, grid_xgb, scoring='f1', cv=5)\n",
    "\n",
    "# Fit model to training data\n",
    "grid_search.fit(x_train, y_train)\n",
    "\n",
    "# Evaluate performance\n",
    "final_model_xgb = evaluate_model_performance(grid_search, x_test, y_test, title='XG Boost Model Performance')"
   ]
  },
  {
   "cell_type": "markdown",
   "id": "e068c70a",
   "metadata": {},
   "source": [
    "**The model performance does increase using the XG Boost model relative to all other previously tested models**\n",
    "\n",
    "With that said, the increase in performance metrics was less substantial than the increase from other models. Regardless, it is a sufficiently large improvement for the XG boost model to be selected as the final, top-performing model in this analysis."
   ]
  },
  {
   "cell_type": "markdown",
   "id": "46a7f16e",
   "metadata": {},
   "source": [
    "---\n",
    "\n",
    "## Part IV. Evaluation\n",
    "\n",
    "As can be seen based on the F1 scores – the metric chosen at the beginning of the analysis as most relevant – the XG boost model performs the best. This section will test the final model on the holdout data as well as visualize feature significance to the extent feasible. "
   ]
  },
  {
   "cell_type": "markdown",
   "id": "8abfbceb",
   "metadata": {},
   "source": [
    "**Test performance on holdout data**\n",
    "\n",
    "The below metrics show strong model performance on the holdout data with nearly no noteworthy indication of overfitting"
   ]
  },
  {
   "cell_type": "code",
   "execution_count": 22,
   "id": "f17fceeb",
   "metadata": {},
   "outputs": [
    {
     "name": "stdout",
     "output_type": "stream",
     "text": [
      "- f1: 0.8449931412894376\n",
      "- accuracy: 0.968956043956044\n",
      "- precision: 0.927710843373494\n",
      "- recall: 0.7758186397984886\n"
     ]
    },
    {
     "data": {
      "image/png": "[encoded data removed]",
      "text/plain": [
       "<Figure size 432x288 with 2 Axes>"
      ]
     },
     "metadata": {
      "needs_background": "light"
     },
     "output_type": "display_data"
    }
   ],
   "source": [
    "# Calculate predicted output of holdout data\n",
    "pred = final_model_xgb.predict(x_holdout)\n",
    "\n",
    "# Print performance metrics\n",
    "print_scores(pred, y_holdout)\n",
    "\n",
    "# Display confusion matrix\n",
    "plot_confusion_matrix(final_model_xgb, x_holdout, y_holdout)\n",
    "plt.title('Final XG Boost Model: Performance on Holdout Data');"
   ]
  },
  {
   "cell_type": "markdown",
   "id": "6516c09c",
   "metadata": {},
   "source": [
    "**To identify overfitting, test the final model on the full dataset (train, test, and holdout)**\n",
    "\n",
    "Although these metrics aren't used to state overall performance, they can be interesting and can help identify overfitting if the performance on *all* data is substantially higher than the performance on *holdout* data. The below printouts show that overfitting is not a noteworthy problem with the model."
   ]
  },
  {
   "cell_type": "code",
   "execution_count": 23,
   "id": "96e359a5",
   "metadata": {},
   "outputs": [
    {
     "name": "stdout",
     "output_type": "stream",
     "text": [
      "- f1: 0.9065267300754345\n",
      "- accuracy: 0.9804231350460229\n",
      "- precision: 0.9650837988826816\n",
      "- recall: 0.8546691403834261\n"
     ]
    },
    {
     "data": {
      "image/png": "[encoded data removed]",
      "text/plain": [
       "<Figure size 432x288 with 2 Axes>"
      ]
     },
     "metadata": {
      "needs_background": "light"
     },
     "output_type": "display_data"
    }
   ],
   "source": [
    "# Calculate predicted output of *all* data\n",
    "pred = final_model_xgb.predict(df)\n",
    "\n",
    "# Print performance metrics\n",
    "print_scores(pred, target)\n",
    "\n",
    "# Display confusion matrix\n",
    "plot_confusion_matrix(final_model_xgb, df, target)\n",
    "plt.title('Final XG Boost Model: Performance on ALL data');"
   ]
  },
  {
   "cell_type": "markdown",
   "id": "f9274960",
   "metadata": {},
   "source": [
    "**Investigate feature importance**\n",
    "\n",
    "Using the SHAP summary plot below, XXX, XXX, and XXX are identified as the most impactful features."
   ]
  },
  {
   "cell_type": "code",
   "execution_count": 19,
   "id": "ad76c71f",
   "metadata": {},
   "outputs": [
    {
     "data": {
      "image/png": "[encoded data removed]",
      "text/plain": [
       "<Figure size 1152x864 with 2 Axes>"
      ]
     },
     "metadata": {
      "needs_background": "light"
     },
     "output_type": "display_data"
    }
   ],
   "source": [
    "produce_shap_plot(x_train, y_train, x_test, y_test, clone(final_model_xgb), \n",
    "                  title='Final XG Boost Model: Feature Evaluation');"
   ]
  },
  {
   "cell_type": "markdown",
   "id": "5dfda428",
   "metadata": {},
   "source": [
    "## Part V. Conclusion\n",
    "\n",
    "Overall, this analysis successfully completes its objective. It creates and tunes a model that helps predict whether a given protest will lead to a regime transition within one year. This incredibly valuable tool can be used by stakeholders far and wide as an indicator of disruption to come, which in turn can be used for proactive or preventative measures by either side. With a very strong performing model, it can be trusted to give an accurate estimate of changes to come. \n",
    "\n",
    "Going forward, this project allows for easy growth as more data is released. Each of the three primary datasets receive regular updates, and this new information can easily be incorporated in order to expand the temporal scope of the project and with more data comes to potential for stronger performance. \n"
   ]
  }
 ],
 "metadata": {
  "kernelspec": {
   "display_name": "Python 3",
   "language": "python",
   "name": "python3"
  },
  "language_info": {
   "codemirror_mode": {
    "name": "ipython",
    "version": 3
   },
   "file_extension": ".py",
   "mimetype": "text/x-python",
   "name": "python",
   "nbconvert_exporter": "python",
   "pygments_lexer": "ipython3",
   "version": "3.8.3"
  }
 },
 "nbformat": 4,
 "nbformat_minor": 5
}
