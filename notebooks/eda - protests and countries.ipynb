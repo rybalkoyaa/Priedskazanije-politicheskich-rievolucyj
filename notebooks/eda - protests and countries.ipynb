{
 "cells": [
  {
   "cell_type": "code",
   "execution_count": 1,
   "id": "35eb58cc",
   "metadata": {},
   "outputs": [],
   "source": [
    "import numpy as np\n",
    "import pandas as pd\n",
    "import matplotlib.pyplot as plt\n",
    "import seaborn as sns\n",
    "\n",
    "from sqlalchemy import create_engine"
   ]
  },
  {
   "cell_type": "code",
   "execution_count": 5,
   "id": "3304a6b0",
   "metadata": {},
   "outputs": [],
   "source": [
    "path = 'sqlite:///../data/processed/'\n",
    "\n",
    "# Import protest and countries data (already merged)\n",
    "engine = create_engine(path+'merged.db')\n",
    "with engine.begin() as connection:\n",
    "    protests = pd.read_sql('SELECT * FROM merged', con=connection)"
   ]
  },
  {
   "cell_type": "code",
   "execution_count": null,
   "id": "e727d56e",
   "metadata": {},
   "outputs": [],
   "source": []
  }
 ],
 "metadata": {
  "kernelspec": {
   "display_name": "Python 3",
   "language": "python",
   "name": "python3"
  },
  "language_info": {
   "codemirror_mode": {
    "name": "ipython",
    "version": 3
   },
   "file_extension": ".py",
   "mimetype": "text/x-python",
   "name": "python",
   "nbconvert_exporter": "python",
   "pygments_lexer": "ipython3",
   "version": "3.8.3"
  }
 },
 "nbformat": 4,
 "nbformat_minor": 5
}
